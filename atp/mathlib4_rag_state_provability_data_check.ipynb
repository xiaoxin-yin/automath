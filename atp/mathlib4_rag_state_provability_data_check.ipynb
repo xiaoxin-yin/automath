{
 "cells": [
  {
   "cell_type": "code",
   "execution_count": 1,
   "id": "5bae0573",
   "metadata": {},
   "outputs": [],
   "source": [
    "import os\n",
    "\n",
    "# os.environ['GITHUB_ACCESS_TOKEN'] = ''\n",
    "\n",
    "# print(os.getenv(\"GITHUB_ACCESS_TOKEN\", None))\n",
    "\n",
    "from lean_dojo import *"
   ]
  },
  {
   "cell_type": "code",
   "execution_count": 2,
   "id": "4526165b",
   "metadata": {},
   "outputs": [
    {
     "data": {
      "text/plain": [
       "LeanGitRepo(url='https://github.com/leanprover-community/mathlib4', commit='27c6744e1c0e25d676be5eb252cd4b6d30c6acc7')"
      ]
     },
     "execution_count": 2,
     "metadata": {},
     "output_type": "execute_result"
    }
   ],
   "source": [
    "repo = LeanGitRepo(\n",
    "    #\"https://github.com/xiaoxin-yin/math-in-lean\",\n",
    "    #\"20077bcd4392317ddb9605404fda3a85e40e8956\"\n",
    "    \"https://github.com/leanprover-community/mathlib4\",\n",
    "    \"27c6744e1c0e25d676be5eb252cd4b6d30c6acc7\",\n",
    ")\n",
    "\n",
    "repo"
   ]
  },
  {
   "cell_type": "code",
   "execution_count": 3,
   "id": "1533dcfd",
   "metadata": {},
   "outputs": [],
   "source": [
    "import pickle\n",
    "\n",
    "#fin = open('/home/mcwave/code/automath/atp/datasets/traced_repo_math_in_lean.pkl', 'rb')\n",
    "fin = open('/home/mcwave/code/automath/atp/datasets/traced_repo_mathlib4_20240617.pkl', 'rb')\n",
    "traced_repo = pickle.load(fin)\n",
    "fin.close()"
   ]
  },
  {
   "cell_type": "code",
   "execution_count": 3,
   "id": "2cd159f2",
   "metadata": {
    "scrolled": true
   },
   "outputs": [
    {
     "name": "stderr",
     "output_type": "stream",
     "text": [
      "\u001b[32m2024-06-19 21:05:33.675\u001b[0m | \u001b[33m\u001b[1mWARNING \u001b[0m | \u001b[36mlean_dojo.interaction.dojo\u001b[0m:\u001b[36m__init__\u001b[0m:\u001b[36m155\u001b[0m - \u001b[33m\u001b[1mUsing Lean 4 without a hard timeout may hang indefinitely.\u001b[0m\n"
     ]
    },
    {
     "name": "stdout",
     "output_type": "stream",
     "text": [
      "dojo.origin_dir= /home/mcwave/code/automath/atp\n",
      "Creating temp dir. dojo.tmp_dir= /tmp/tmpesglu8fy\n",
      "Getting traced repo for LeanGitRepo(url='https://github.com/leanprover-community/mathlib4', commit='27c6744e1c0e25d676be5eb252cd4b6d30c6acc7')\n",
      "get_traced_repo_path, path= /home/mcwave/.cache/lean_dojo/leanprover-community-mathlib4-27c6744e1c0e25d676be5eb252cd4b6d30c6acc7/mathlib4\n",
      "The traced repo is available in the cache.\n",
      "Copy tree ...\n"
     ]
    },
    {
     "ename": "DojoInitError",
     "evalue": "Cannot find the *.ast.json file for Theorem(repo=LeanGitRepo(url='https://github.com/leanprover-community/mathlib4', commit='27c6744e1c0e25d676be5eb252cd4b6d30c6acc7'), file_path=PosixPath('MIL/C02_Basics/solutions/Solutions_S01_Calculating.lean'), full_name='Solutions_S01_Calculating_ex2') in /home/mcwave/.cache/lean_dojo/leanprover-community-mathlib4-27c6744e1c0e25d676be5eb252cd4b6d30c6acc7/mathlib4.",
     "output_type": "error",
     "traceback": [
      "\u001b[0;31m---------------------------------------------------------------------------\u001b[0m",
      "\u001b[0;31mFileNotFoundError\u001b[0m                         Traceback (most recent call last)",
      "File \u001b[0;32m~/anaconda3/envs/atp/lib/python3.10/site-packages/lean_dojo/interaction/dojo.py:196\u001b[0m, in \u001b[0;36mDojo.__enter__\u001b[0;34m(self)\u001b[0m\n\u001b[1;32m    195\u001b[0m \u001b[38;5;28;01mtry\u001b[39;00m:\n\u001b[0;32m--> 196\u001b[0m     traced_file \u001b[38;5;241m=\u001b[39m \u001b[38;5;28;43mself\u001b[39;49m\u001b[38;5;241;43m.\u001b[39;49m\u001b[43m_locate_traced_file\u001b[49m\u001b[43m(\u001b[49m\u001b[43mtraced_repo_path\u001b[49m\u001b[43m)\u001b[49m\n\u001b[1;32m    197\u001b[0m \u001b[38;5;28;01mexcept\u001b[39;00m \u001b[38;5;167;01mFileNotFoundError\u001b[39;00m:\n",
      "File \u001b[0;32m~/anaconda3/envs/atp/lib/python3.10/site-packages/lean_dojo/interaction/dojo.py:278\u001b[0m, in \u001b[0;36mDojo._locate_traced_file\u001b[0;34m(self, traced_repo_path)\u001b[0m\n\u001b[1;32m    277\u001b[0m json_path \u001b[38;5;241m=\u001b[39m to_json_path(traced_repo_path, \u001b[38;5;28mself\u001b[39m\u001b[38;5;241m.\u001b[39mfile_path, \u001b[38;5;28mself\u001b[39m\u001b[38;5;241m.\u001b[39mrepo)\n\u001b[0;32m--> 278\u001b[0m \u001b[38;5;28;01mreturn\u001b[39;00m \u001b[43mTracedFile\u001b[49m\u001b[38;5;241;43m.\u001b[39;49m\u001b[43mfrom_traced_file\u001b[49m\u001b[43m(\u001b[49m\u001b[43mtraced_repo_path\u001b[49m\u001b[43m,\u001b[49m\u001b[43m \u001b[49m\u001b[43mjson_path\u001b[49m\u001b[43m,\u001b[49m\u001b[43m \u001b[49m\u001b[38;5;28;43mself\u001b[39;49m\u001b[38;5;241;43m.\u001b[39;49m\u001b[43mrepo\u001b[49m\u001b[43m)\u001b[49m\n",
      "File \u001b[0;32m~/anaconda3/envs/atp/lib/python3.10/site-packages/lean_dojo/data_extraction/traced_data.py:517\u001b[0m, in \u001b[0;36mTracedFile.from_traced_file\u001b[0;34m(cls, root_dir, json_path, repo)\u001b[0m\n\u001b[1;32m    516\u001b[0m \u001b[38;5;28;01mif\u001b[39;00m \u001b[38;5;129;01mnot\u001b[39;00m json_path\u001b[38;5;241m.\u001b[39mexists():\n\u001b[0;32m--> 517\u001b[0m     \u001b[38;5;28;01mraise\u001b[39;00m \u001b[38;5;167;01mFileNotFoundError\u001b[39;00m(\u001b[38;5;124mf\u001b[39m\u001b[38;5;124m\"\u001b[39m\u001b[38;5;132;01m{\u001b[39;00mjson_path\u001b[38;5;132;01m}\u001b[39;00m\u001b[38;5;124m does not exist\u001b[39m\u001b[38;5;124m\"\u001b[39m)\n\u001b[1;32m    518\u001b[0m \u001b[38;5;28;01massert\u001b[39;00m json_path\u001b[38;5;241m.\u001b[39msuffixes \u001b[38;5;241m==\u001b[39m [\n\u001b[1;32m    519\u001b[0m     \u001b[38;5;124m\"\u001b[39m\u001b[38;5;124m.ast\u001b[39m\u001b[38;5;124m\"\u001b[39m,\n\u001b[1;32m    520\u001b[0m     \u001b[38;5;124m\"\u001b[39m\u001b[38;5;124m.json\u001b[39m\u001b[38;5;124m\"\u001b[39m,\n\u001b[1;32m    521\u001b[0m ], \u001b[38;5;124mf\u001b[39m\u001b[38;5;124m\"\u001b[39m\u001b[38;5;132;01m{\u001b[39;00mjson_path\u001b[38;5;132;01m}\u001b[39;00m\u001b[38;5;124m is not a *.ast.json file\u001b[39m\u001b[38;5;124m\"\u001b[39m\n",
      "\u001b[0;31mFileNotFoundError\u001b[0m: /home/mcwave/.cache/lean_dojo/leanprover-community-mathlib4-27c6744e1c0e25d676be5eb252cd4b6d30c6acc7/mathlib4/.lake/build/ir/MIL/C02_Basics/solutions/Solutions_S01_Calculating.ast.json does not exist",
      "\nDuring handling of the above exception, another exception occurred:\n",
      "\u001b[0;31mDojoInitError\u001b[0m                             Traceback (most recent call last)",
      "Cell \u001b[0;32mIn[3], line 9\u001b[0m\n\u001b[1;32m      3\u001b[0m \u001b[38;5;66;03m#theorem = Theorem(repo, \"MIL/C02_Basics/solutions/Solutions_S04_More_on_Order_and_Divisibility.lean\",\u001b[39;00m\n\u001b[1;32m      4\u001b[0m \u001b[38;5;66;03m#                 \"C02S04.Solutions_S04_More_on_Order_and_Divisibility_ex1\")\u001b[39;00m\n\u001b[1;32m      6\u001b[0m theorem \u001b[38;5;241m=\u001b[39m Theorem(repo, \u001b[38;5;124m\"\u001b[39m\u001b[38;5;124mMIL/C02_Basics/solutions/Solutions_S01_Calculating.lean\u001b[39m\u001b[38;5;124m\"\u001b[39m,\n\u001b[1;32m      7\u001b[0m                      \u001b[38;5;124m\"\u001b[39m\u001b[38;5;124mSolutions_S01_Calculating_ex2\u001b[39m\u001b[38;5;124m\"\u001b[39m)\n\u001b[0;32m----> 9\u001b[0m dojo, state_0 \u001b[38;5;241m=\u001b[39m \u001b[43mDojo\u001b[49m\u001b[43m(\u001b[49m\u001b[43mtheorem\u001b[49m\u001b[43m)\u001b[49m\u001b[38;5;241;43m.\u001b[39;49m\u001b[38;5;21;43m__enter__\u001b[39;49m\u001b[43m(\u001b[49m\u001b[43m)\u001b[49m\n",
      "File \u001b[0;32m~/anaconda3/envs/atp/lib/python3.10/site-packages/lean_dojo/interaction/dojo.py:198\u001b[0m, in \u001b[0;36mDojo.__enter__\u001b[0;34m(self)\u001b[0m\n\u001b[1;32m    196\u001b[0m     traced_file \u001b[38;5;241m=\u001b[39m \u001b[38;5;28mself\u001b[39m\u001b[38;5;241m.\u001b[39m_locate_traced_file(traced_repo_path)\n\u001b[1;32m    197\u001b[0m \u001b[38;5;28;01mexcept\u001b[39;00m \u001b[38;5;167;01mFileNotFoundError\u001b[39;00m:\n\u001b[0;32m--> 198\u001b[0m     \u001b[38;5;28;01mraise\u001b[39;00m DojoInitError(\n\u001b[1;32m    199\u001b[0m         \u001b[38;5;124mf\u001b[39m\u001b[38;5;124m\"\u001b[39m\u001b[38;5;124mCannot find the *.ast.json file for \u001b[39m\u001b[38;5;132;01m{\u001b[39;00m\u001b[38;5;28mself\u001b[39m\u001b[38;5;241m.\u001b[39mentry\u001b[38;5;132;01m}\u001b[39;00m\u001b[38;5;124m in \u001b[39m\u001b[38;5;132;01m{\u001b[39;00mtraced_repo_path\u001b[38;5;132;01m}\u001b[39;00m\u001b[38;5;124m.\u001b[39m\u001b[38;5;124m\"\u001b[39m\n\u001b[1;32m    200\u001b[0m     )\n\u001b[1;32m    202\u001b[0m \u001b[38;5;28mself\u001b[39m\u001b[38;5;241m.\u001b[39m_modify_file(traced_file)\n\u001b[1;32m    204\u001b[0m \u001b[38;5;28mprint\u001b[39m(\u001b[38;5;124m\"\u001b[39m\u001b[38;5;124mlake build Lean4Repl ...\u001b[39m\u001b[38;5;124m\"\u001b[39m)\n",
      "\u001b[0;31mDojoInitError\u001b[0m: Cannot find the *.ast.json file for Theorem(repo=LeanGitRepo(url='https://github.com/leanprover-community/mathlib4', commit='27c6744e1c0e25d676be5eb252cd4b6d30c6acc7'), file_path=PosixPath('MIL/C02_Basics/solutions/Solutions_S01_Calculating.lean'), full_name='Solutions_S01_Calculating_ex2') in /home/mcwave/.cache/lean_dojo/leanprover-community-mathlib4-27c6744e1c0e25d676be5eb252cd4b6d30c6acc7/mathlib4."
     ]
    }
   ],
   "source": [
    "from utils.lean_math_utils import *\n",
    "\n",
    "#theorem = Theorem(repo, \"MIL/C02_Basics/solutions/Solutions_S04_More_on_Order_and_Divisibility.lean\",\n",
    "#                 \"C02S04.Solutions_S04_More_on_Order_and_Divisibility_ex1\")\n",
    "\n",
    "theorem = Theorem(repo, \"MIL/C02_Basics/solutions/Solutions_S01_Calculating.lean\",\n",
    "                     \"Solutions_S01_Calculating_ex2\")\n",
    "\n",
    "dojo, state_0 = Dojo(theorem).__enter__()"
   ]
  },
  {
   "cell_type": "code",
   "execution_count": 5,
   "id": "3b34397f",
   "metadata": {},
   "outputs": [
    {
     "name": "stdout",
     "output_type": "stream",
     "text": [
      "a b c : ℝ\n",
      "⊢ a * b * c = b * (a * c)\n"
     ]
    },
    {
     "data": {
      "text/plain": [
       "({'a': 'variable', 'b': 'variable', 'c': 'variable'},\n",
       " {'a': 'ℝ', 'b': 'ℝ', 'c': 'ℝ'})"
      ]
     },
     "execution_count": 5,
     "metadata": {},
     "output_type": "execute_result"
    }
   ],
   "source": [
    "state_1 = dojo.run_tac(state_0, \"rw [← mul_assoc]\")\n",
    "\n",
    "#print(state_1)\n",
    "print(state_1.pp)\n",
    "classify_lean_elements(state_1.pp)"
   ]
  },
  {
   "cell_type": "code",
   "execution_count": 6,
   "id": "91a4821c",
   "metadata": {},
   "outputs": [
    {
     "name": "stdout",
     "output_type": "stream",
     "text": [
      "TacticState(pp='a b c : ℝ\\n⊢ b * a * c = b * (a * c)', id=2, message='')\n"
     ]
    }
   ],
   "source": [
    "state_2 = dojo.run_tac(state_1, \"rw [mul_comm a]\") \n",
    "\n",
    "print(state_2)"
   ]
  },
  {
   "cell_type": "code",
   "execution_count": 4,
   "id": "0db030e5",
   "metadata": {},
   "outputs": [
    {
     "name": "stdout",
     "output_type": "stream",
     "text": [
      "Ran out of input\n",
      "1092 states loaded\n",
      "Theorems:\n",
      "CategoryTheory.ShortComplex.Exact.hasHomology\n",
      "CategoryTheory.ShortComplex.Exact.hasZeroObject\n"
     ]
    }
   ],
   "source": [
    "import pickle\n",
    "\n",
    "results = []\n",
    "#fin = open('/home/mcwave/code/automath/atp/datasets/provability/rag/mathlib__Mathlib__RingTheory__Coprime__Basic.lean.pkl', 'rb')\n",
    "#fin = open('/home/mcwave/code/automath/atp/datasets/provability/rag/mathlib__Mathlib__Data__Nat__PrimeFin.lean.pkl', 'rb')\n",
    "#fin = open('/home/mcwave/code/automath/atp/datasets/provability/rag/mathlib__Mathlib__Algebra__Regular__Basic.lean.pkl', 'rb')\n",
    "fin = open('/home/mcwave/code/automath/atp/datasets/provability/rag/Mathlib__Algebra__Homology__ShortComplex__Exact.lean.pkl', 'rb')\n",
    "\n",
    "while True:\n",
    "    try:\n",
    "        result = pickle.load(fin)\n",
    "    except Exception as e:\n",
    "        print(e)\n",
    "        break\n",
    "    file_path, full_name, theorem, state_pair = result\n",
    "    results.append(result)\n",
    "\n",
    "fin.close()\n",
    "\n",
    "print(len(results), \"states loaded\")\n",
    "\n",
    "theorems = set()\n",
    "for file_path, full_name, theorem, state_pair in results:\n",
    "    theorems.add(full_name)\n",
    "print(\"Theorems:\")\n",
    "for full_name in theorems:\n",
    "    print(full_name)"
   ]
  },
  {
   "cell_type": "code",
   "execution_count": 16,
   "id": "da404937",
   "metadata": {},
   "outputs": [],
   "source": [
    "SELECTED_THEOREM = 'Mathlib__GroupTheory__Exponent'\n",
    "\n",
    "def is_pp_useful(pp):\n",
    "    lines = pp.split('\\n')\n",
    "    targets = []\n",
    "    conditions = []\n",
    "    min_freq = 1000000\n",
    "    for line in lines:\n",
    "        if line.startswith(\"⊢\"):\n",
    "            target = line.strip()\n",
    "            targets.append(target)\n",
    "        else:\n",
    "            conditions.append(line.strip())\n",
    "    if '⊢ False' in targets:\n",
    "        return False\n",
    "    if '⊢ R' in targets:\n",
    "        return False\n",
    "    if '?m.' in pp:\n",
    "        return False\n",
    "    return True\n",
    "\n",
    "num_output = 0\n",
    "for i in range(len(results)):\n",
    "    file_path, full_name, theorem, state_pair = results[i]\n",
    "    if full_name != SELECTED_THEOREM: #'IsCoprime.of_mul_right_left': #'IsCoprime.mul_right':\n",
    "        continue\n",
    "    if not is_pp_useful(results[i][3][0].pp):\n",
    "        continue\n",
    "    print(\"EXAMPLE\", i)\n",
    "    print(results[i][3][0].pp)\n",
    "    print(\"thm\", theorem)\n",
    "    print()\n",
    "    num_output += 1\n",
    "    if num_output > 400:\n",
    "        break"
   ]
  },
  {
   "cell_type": "code",
   "execution_count": 36,
   "id": "83b57997",
   "metadata": {},
   "outputs": [
    {
     "name": "stdout",
     "output_type": "stream",
     "text": [
      "('Mathlib/Algebra/Homology/ShortComplex/Exact.lean', 'CategoryTheory.ShortComplex.Exact.hasHomology', Theorem(repo=LeanGitRepo(url='https://github.com/leanprover-community/mathlib4', commit='27c6744e1c0e25d676be5eb252cd4b6d30c6acc7'), file_path=PosixPath('Mathlib/Algebra/Homology/ShortComplex/Exact.lean'), full_name='CategoryTheory.ShortComplex.Exact.hasHomology'), (TacticState(pp='C : Type u_1\\nD : Type u_2\\ninst✝³ : Category.{u_3, u_1} C\\ninst✝² : Category.{?u.505, u_2} D\\ninst✝¹ : HasZeroMorphisms C\\ninst✝ : HasZeroMorphisms D\\nS S₁ S₂ : ShortComplex C\\nh : S.Exact\\n⊢ S.HasHomology', id=0, message=None), ProofFinished(tactic_state_id=1064, message=''), 3, ['obtain ⟨x, hx, hy⟩ := id h', 'revert S hy', 'tauto']))\n",
      "\n",
      "Tactics:\n",
      "obtain ⟨x, hx, hy⟩ := id h\n",
      "revert S hy\n",
      "tauto\n"
     ]
    }
   ],
   "source": [
    "result_idx = 5\n",
    "\n",
    "print(results[result_idx])\n",
    "\n",
    "print(\"\\nTactics:\")\n",
    "for tactic in results[result_idx][-1][-1]:\n",
    "    print(tactic)"
   ]
  },
  {
   "cell_type": "code",
   "execution_count": 37,
   "id": "d5e3cce7",
   "metadata": {},
   "outputs": [
    {
     "data": {
      "text/plain": [
       "(TacticState(pp='C : Type u_1\\nD : Type u_2\\ninst✝³ : Category.{u_3, u_1} C\\ninst✝² : Category.{?u.505, u_2} D\\ninst✝¹ : HasZeroMorphisms C\\ninst✝ : HasZeroMorphisms D\\nS S₁ S₂ : ShortComplex C\\nh : S.Exact\\n⊢ S.HasHomology', id=0, message=None),\n",
       " ProofFinished(tactic_state_id=1064, message=''),\n",
       " 3,\n",
       " ['obtain ⟨x, hx, hy⟩ := id h', 'revert S hy', 'tauto'])"
      ]
     },
     "execution_count": 37,
     "metadata": {},
     "output_type": "execute_result"
    }
   ],
   "source": [
    "results[result_idx][-1]"
   ]
  },
  {
   "cell_type": "code",
   "execution_count": 19,
   "id": "2899e33c",
   "metadata": {},
   "outputs": [],
   "source": [
    "fin = open('/home/mcwave/code/automath/atp/datasets/train_theorems_repo_mathlib4_20240617.pkl', 'rb')\n",
    "train_theorems = pickle.load(fin)\n",
    "fin.close()"
   ]
  },
  {
   "cell_type": "code",
   "execution_count": 22,
   "id": "5e2c7d1e",
   "metadata": {},
   "outputs": [
    {
     "data": {
      "text/plain": [
       "{'isRegular_iff': (Theorem(repo=LeanGitRepo(url='https://github.com/leanprover-community/mathlib4', commit='27c6744e1c0e25d676be5eb252cd4b6d30c6acc7'), file_path=PosixPath('Mathlib/Algebra/Regular/Basic.lean'), full_name='isRegular_iff'),\n",
       "  '@[to_additive]\\ntheorem isRegular_iff {c : R} : IsRegular c ↔ IsLeftRegular c ∧ IsRightRegular c',\n",
       "  []),\n",
       " 'MulLECancellable.isLeftRegular': (Theorem(repo=LeanGitRepo(url='https://github.com/leanprover-community/mathlib4', commit='27c6744e1c0e25d676be5eb252cd4b6d30c6acc7'), file_path=PosixPath('Mathlib/Algebra/Regular/Basic.lean'), full_name='MulLECancellable.isLeftRegular'),\n",
       "  '@[to_additive]\\nprotected theorem MulLECancellable.isLeftRegular [PartialOrder R] {a : R}\\n    (ha : MulLECancellable a) : IsLeftRegular a',\n",
       "  []),\n",
       " 'IsLeftRegular.right_of_commute': (Theorem(repo=LeanGitRepo(url='https://github.com/leanprover-community/mathlib4', commit='27c6744e1c0e25d676be5eb252cd4b6d30c6acc7'), file_path=PosixPath('Mathlib/Algebra/Regular/Basic.lean'), full_name='IsLeftRegular.right_of_commute'),\n",
       "  'theorem IsLeftRegular.right_of_commute {a : R}\\n    (ca : ∀ b, Commute a b) (h : IsLeftRegular a) : IsRightRegular a',\n",
       "  []),\n",
       " 'IsRightRegular.left_of_commute': (Theorem(repo=LeanGitRepo(url='https://github.com/leanprover-community/mathlib4', commit='27c6744e1c0e25d676be5eb252cd4b6d30c6acc7'), file_path=PosixPath('Mathlib/Algebra/Regular/Basic.lean'), full_name='IsRightRegular.left_of_commute'),\n",
       "  'theorem IsRightRegular.left_of_commute {a : R}\\n    (ca : ∀ b, Commute a b) (h : IsRightRegular a) : IsLeftRegular a',\n",
       "  ['simp_rw [@Commute.symm_iff R _ a] at ca',\n",
       "   'exact fun x y xy => h <| (ca x).trans <| xy.trans <| (ca y).symm']),\n",
       " 'Commute.isRightRegular_iff': (Theorem(repo=LeanGitRepo(url='https://github.com/leanprover-community/mathlib4', commit='27c6744e1c0e25d676be5eb252cd4b6d30c6acc7'), file_path=PosixPath('Mathlib/Algebra/Regular/Basic.lean'), full_name='Commute.isRightRegular_iff'),\n",
       "  'theorem Commute.isRightRegular_iff {a : R} (ca : ∀ b, Commute a b) :\\n    IsRightRegular a ↔ IsLeftRegular a',\n",
       "  []),\n",
       " 'Commute.isRegular_iff': (Theorem(repo=LeanGitRepo(url='https://github.com/leanprover-community/mathlib4', commit='27c6744e1c0e25d676be5eb252cd4b6d30c6acc7'), file_path=PosixPath('Mathlib/Algebra/Regular/Basic.lean'), full_name='Commute.isRegular_iff'),\n",
       "  'theorem Commute.isRegular_iff {a : R} (ca : ∀ b, Commute a b) : IsRegular a ↔ IsLeftRegular a',\n",
       "  []),\n",
       " 'IsLeftRegular.mul': (Theorem(repo=LeanGitRepo(url='https://github.com/leanprover-community/mathlib4', commit='27c6744e1c0e25d676be5eb252cd4b6d30c6acc7'), file_path=PosixPath('Mathlib/Algebra/Regular/Basic.lean'), full_name='IsLeftRegular.mul'),\n",
       "  '@[to_additive \"In an additive semigroup, the sum of add-left-regular elements is add-left.regular.\"]\\ntheorem IsLeftRegular.mul (lra : IsLeftRegular a) (lrb : IsLeftRegular b) : IsLeftRegular (a * b)',\n",
       "  []),\n",
       " 'IsRightRegular.mul': (Theorem(repo=LeanGitRepo(url='https://github.com/leanprover-community/mathlib4', commit='27c6744e1c0e25d676be5eb252cd4b6d30c6acc7'), file_path=PosixPath('Mathlib/Algebra/Regular/Basic.lean'), full_name='IsRightRegular.mul'),\n",
       "  '@[to_additive \"In an additive semigroup, the sum of add-right-regular elements is\\nadd-right-regular.\"]\\ntheorem IsRightRegular.mul (rra : IsRightRegular a) (rrb : IsRightRegular b) :\\n    IsRightRegular (a * b)',\n",
       "  []),\n",
       " 'IsLeftRegular.of_mul': (Theorem(repo=LeanGitRepo(url='https://github.com/leanprover-community/mathlib4', commit='27c6744e1c0e25d676be5eb252cd4b6d30c6acc7'), file_path=PosixPath('Mathlib/Algebra/Regular/Basic.lean'), full_name='IsLeftRegular.of_mul'),\n",
       "  '@[to_additive \"If an element `b` becomes add-left-regular after adding to it on the left\\nan add-left-regular element, then `b` is add-left-regular.\"]\\ntheorem IsLeftRegular.of_mul (ab : IsLeftRegular (a * b)) : IsLeftRegular b',\n",
       "  ['rwa [comp_mul_left a b]']),\n",
       " 'mul_isLeftRegular_iff': (Theorem(repo=LeanGitRepo(url='https://github.com/leanprover-community/mathlib4', commit='27c6744e1c0e25d676be5eb252cd4b6d30c6acc7'), file_path=PosixPath('Mathlib/Algebra/Regular/Basic.lean'), full_name='mul_isLeftRegular_iff'),\n",
       "  '@[to_additive (attr := simp) \"An element is add-left-regular if and only if adding to it on the left\\nan add-left-regular element is add-left-regular.\"]\\ntheorem mul_isLeftRegular_iff (b : R) (ha : IsLeftRegular a) :\\n    IsLeftRegular (a * b) ↔ IsLeftRegular b',\n",
       "  []),\n",
       " 'IsRightRegular.of_mul': (Theorem(repo=LeanGitRepo(url='https://github.com/leanprover-community/mathlib4', commit='27c6744e1c0e25d676be5eb252cd4b6d30c6acc7'), file_path=PosixPath('Mathlib/Algebra/Regular/Basic.lean'), full_name='IsRightRegular.of_mul'),\n",
       "  '@[to_additive \"If an element `b` becomes add-right-regular after adding to it on the right\\nan add-right-regular element, then `b` is add-right-regular.\"]\\ntheorem IsRightRegular.of_mul (ab : IsRightRegular (b * a)) : IsRightRegular b',\n",
       "  ['refine fun x y xy => ab (?_ : x * (b * a) = y * (b * a))',\n",
       "   'rw [← mul_assoc, ← mul_assoc]',\n",
       "   'exact congr_arg (· * a) xy']),\n",
       " 'mul_isRightRegular_iff': (Theorem(repo=LeanGitRepo(url='https://github.com/leanprover-community/mathlib4', commit='27c6744e1c0e25d676be5eb252cd4b6d30c6acc7'), file_path=PosixPath('Mathlib/Algebra/Regular/Basic.lean'), full_name='mul_isRightRegular_iff'),\n",
       "  '@[to_additive (attr := simp)\\n\"An element is add-right-regular if and only if adding it on the right to\\nan add-right-regular element is add-right-regular.\"]\\ntheorem mul_isRightRegular_iff (b : R) (ha : IsRightRegular a) :\\n    IsRightRegular (b * a) ↔ IsRightRegular b',\n",
       "  []),\n",
       " 'isRegular_mul_and_mul_iff': (Theorem(repo=LeanGitRepo(url='https://github.com/leanprover-community/mathlib4', commit='27c6744e1c0e25d676be5eb252cd4b6d30c6acc7'), file_path=PosixPath('Mathlib/Algebra/Regular/Basic.lean'), full_name='isRegular_mul_and_mul_iff'),\n",
       "  '@[to_additive \"Two elements `a` and `b` are add-regular if and only if both sums `a + b` and\\n`b + a` are add-regular.\"]\\ntheorem isRegular_mul_and_mul_iff :\\n    IsRegular (a * b) ∧ IsRegular (b * a) ↔ IsRegular a ∧ IsRegular b',\n",
       "  ['refine ⟨?_, ?_⟩',\n",
       "   '· rintro ⟨ab, ba⟩\\n  exact\\n    ⟨⟨IsLeftRegular.of_mul ba.left, IsRightRegular.of_mul ab.right⟩,\\n      ⟨IsLeftRegular.of_mul ab.left, IsRightRegular.of_mul ba.right⟩⟩',\n",
       "   '· rintro ⟨ha, hb⟩\\n  exact\\n    ⟨⟨(mul_isLeftRegular_iff _ ha.left).mpr hb.left,\\n        (mul_isRightRegular_iff _ hb.right).mpr ha.right⟩,\\n      ⟨(mul_isLeftRegular_iff _ hb.left).mpr ha.left,\\n        (mul_isRightRegular_iff _ ha.right).mpr hb.right⟩⟩',\n",
       "   'rintro ⟨ab, ba⟩',\n",
       "   'exact\\n  ⟨⟨IsLeftRegular.of_mul ba.left, IsRightRegular.of_mul ab.right⟩,\\n    ⟨IsLeftRegular.of_mul ab.left, IsRightRegular.of_mul ba.right⟩⟩',\n",
       "   'rintro ⟨ha, hb⟩',\n",
       "   'exact\\n  ⟨⟨(mul_isLeftRegular_iff _ ha.left).mpr hb.left,\\n      (mul_isRightRegular_iff _ hb.right).mpr ha.right⟩,\\n    ⟨(mul_isLeftRegular_iff _ hb.left).mpr ha.left,\\n      (mul_isRightRegular_iff _ ha.right).mpr hb.right⟩⟩']),\n",
       " 'IsRegular.and_of_mul_of_mul': (Theorem(repo=LeanGitRepo(url='https://github.com/leanprover-community/mathlib4', commit='27c6744e1c0e25d676be5eb252cd4b6d30c6acc7'), file_path=PosixPath('Mathlib/Algebra/Regular/Basic.lean'), full_name='IsRegular.and_of_mul_of_mul'),\n",
       "  '@[to_additive \"The \\\\\"most used\\\\\" implication of `add_and_add_iff`, with split\\nhypotheses, instead of `∧`.\"]\\ntheorem IsRegular.and_of_mul_of_mul (ab : IsRegular (a * b)) (ba : IsRegular (b * a)) :\\n    IsRegular a ∧ IsRegular b',\n",
       "  []),\n",
       " 'IsLeftRegular.subsingleton': (Theorem(repo=LeanGitRepo(url='https://github.com/leanprover-community/mathlib4', commit='27c6744e1c0e25d676be5eb252cd4b6d30c6acc7'), file_path=PosixPath('Mathlib/Algebra/Regular/Basic.lean'), full_name='IsLeftRegular.subsingleton'),\n",
       "  'theorem IsLeftRegular.subsingleton (h : IsLeftRegular (0 : R)) : Subsingleton R',\n",
       "  []),\n",
       " 'IsRightRegular.subsingleton': (Theorem(repo=LeanGitRepo(url='https://github.com/leanprover-community/mathlib4', commit='27c6744e1c0e25d676be5eb252cd4b6d30c6acc7'), file_path=PosixPath('Mathlib/Algebra/Regular/Basic.lean'), full_name='IsRightRegular.subsingleton'),\n",
       "  'theorem IsRightRegular.subsingleton (h : IsRightRegular (0 : R)) : Subsingleton R',\n",
       "  []),\n",
       " 'IsRegular.subsingleton': (Theorem(repo=LeanGitRepo(url='https://github.com/leanprover-community/mathlib4', commit='27c6744e1c0e25d676be5eb252cd4b6d30c6acc7'), file_path=PosixPath('Mathlib/Algebra/Regular/Basic.lean'), full_name='IsRegular.subsingleton'),\n",
       "  'theorem IsRegular.subsingleton (h : IsRegular (0 : R)) : Subsingleton R',\n",
       "  []),\n",
       " 'isLeftRegular_zero_iff_subsingleton': (Theorem(repo=LeanGitRepo(url='https://github.com/leanprover-community/mathlib4', commit='27c6744e1c0e25d676be5eb252cd4b6d30c6acc7'), file_path=PosixPath('Mathlib/Algebra/Regular/Basic.lean'), full_name='isLeftRegular_zero_iff_subsingleton'),\n",
       "  'theorem isLeftRegular_zero_iff_subsingleton : IsLeftRegular (0 : R) ↔ Subsingleton R',\n",
       "  []),\n",
       " 'not_isLeftRegular_zero_iff': (Theorem(repo=LeanGitRepo(url='https://github.com/leanprover-community/mathlib4', commit='27c6744e1c0e25d676be5eb252cd4b6d30c6acc7'), file_path=PosixPath('Mathlib/Algebra/Regular/Basic.lean'), full_name='not_isLeftRegular_zero_iff'),\n",
       "  'theorem not_isLeftRegular_zero_iff : ¬IsLeftRegular (0 : R) ↔ Nontrivial R',\n",
       "  ['rw [nontrivial_iff, not_iff_comm, isLeftRegular_zero_iff_subsingleton, subsingleton_iff]',\n",
       "   'push_neg',\n",
       "   'exact Iff.rfl']),\n",
       " 'isRightRegular_zero_iff_subsingleton': (Theorem(repo=LeanGitRepo(url='https://github.com/leanprover-community/mathlib4', commit='27c6744e1c0e25d676be5eb252cd4b6d30c6acc7'), file_path=PosixPath('Mathlib/Algebra/Regular/Basic.lean'), full_name='isRightRegular_zero_iff_subsingleton'),\n",
       "  'theorem isRightRegular_zero_iff_subsingleton : IsRightRegular (0 : R) ↔ Subsingleton R',\n",
       "  []),\n",
       " 'not_isRightRegular_zero_iff': (Theorem(repo=LeanGitRepo(url='https://github.com/leanprover-community/mathlib4', commit='27c6744e1c0e25d676be5eb252cd4b6d30c6acc7'), file_path=PosixPath('Mathlib/Algebra/Regular/Basic.lean'), full_name='not_isRightRegular_zero_iff'),\n",
       "  'theorem not_isRightRegular_zero_iff : ¬IsRightRegular (0 : R) ↔ Nontrivial R',\n",
       "  ['rw [nontrivial_iff, not_iff_comm, isRightRegular_zero_iff_subsingleton, subsingleton_iff]',\n",
       "   'push_neg',\n",
       "   'exact Iff.rfl']),\n",
       " 'isRegular_iff_subsingleton': (Theorem(repo=LeanGitRepo(url='https://github.com/leanprover-community/mathlib4', commit='27c6744e1c0e25d676be5eb252cd4b6d30c6acc7'), file_path=PosixPath('Mathlib/Algebra/Regular/Basic.lean'), full_name='isRegular_iff_subsingleton'),\n",
       "  'theorem isRegular_iff_subsingleton : IsRegular (0 : R) ↔ Subsingleton R',\n",
       "  []),\n",
       " 'IsLeftRegular.ne_zero': (Theorem(repo=LeanGitRepo(url='https://github.com/leanprover-community/mathlib4', commit='27c6744e1c0e25d676be5eb252cd4b6d30c6acc7'), file_path=PosixPath('Mathlib/Algebra/Regular/Basic.lean'), full_name='IsLeftRegular.ne_zero'),\n",
       "  'theorem IsLeftRegular.ne_zero [Nontrivial R] (la : IsLeftRegular a) : a ≠ 0',\n",
       "  ['rintro rfl',\n",
       "   'rcases exists_pair_ne R with ⟨x, y, xy⟩',\n",
       "   'refine xy (la (?_ : 0 * x = 0 * y))',\n",
       "   'rw [zero_mul, zero_mul]']),\n",
       " 'IsRightRegular.ne_zero': (Theorem(repo=LeanGitRepo(url='https://github.com/leanprover-community/mathlib4', commit='27c6744e1c0e25d676be5eb252cd4b6d30c6acc7'), file_path=PosixPath('Mathlib/Algebra/Regular/Basic.lean'), full_name='IsRightRegular.ne_zero'),\n",
       "  'theorem IsRightRegular.ne_zero [Nontrivial R] (ra : IsRightRegular a) : a ≠ 0',\n",
       "  ['rintro rfl',\n",
       "   'rcases exists_pair_ne R with ⟨x, y, xy⟩',\n",
       "   'refine xy (ra (?_ : x * 0 = y * 0))',\n",
       "   'rw [mul_zero, mul_zero]']),\n",
       " 'IsRegular.ne_zero': (Theorem(repo=LeanGitRepo(url='https://github.com/leanprover-community/mathlib4', commit='27c6744e1c0e25d676be5eb252cd4b6d30c6acc7'), file_path=PosixPath('Mathlib/Algebra/Regular/Basic.lean'), full_name='IsRegular.ne_zero'),\n",
       "  'theorem IsRegular.ne_zero [Nontrivial R] (la : IsRegular a) : a ≠ 0',\n",
       "  []),\n",
       " 'not_isLeftRegular_zero': (Theorem(repo=LeanGitRepo(url='https://github.com/leanprover-community/mathlib4', commit='27c6744e1c0e25d676be5eb252cd4b6d30c6acc7'), file_path=PosixPath('Mathlib/Algebra/Regular/Basic.lean'), full_name='not_isLeftRegular_zero'),\n",
       "  'theorem not_isLeftRegular_zero [nR : Nontrivial R] : ¬IsLeftRegular (0 : R)',\n",
       "  []),\n",
       " 'not_isRightRegular_zero': (Theorem(repo=LeanGitRepo(url='https://github.com/leanprover-community/mathlib4', commit='27c6744e1c0e25d676be5eb252cd4b6d30c6acc7'), file_path=PosixPath('Mathlib/Algebra/Regular/Basic.lean'), full_name='not_isRightRegular_zero'),\n",
       "  'theorem not_isRightRegular_zero [nR : Nontrivial R] : ¬IsRightRegular (0 : R)',\n",
       "  []),\n",
       " 'not_isRegular_zero': (Theorem(repo=LeanGitRepo(url='https://github.com/leanprover-community/mathlib4', commit='27c6744e1c0e25d676be5eb252cd4b6d30c6acc7'), file_path=PosixPath('Mathlib/Algebra/Regular/Basic.lean'), full_name='not_isRegular_zero'),\n",
       "  'theorem not_isRegular_zero [Nontrivial R] : ¬IsRegular (0 : R)',\n",
       "  []),\n",
       " 'IsLeftRegular.mul_left_eq_zero_iff': (Theorem(repo=LeanGitRepo(url='https://github.com/leanprover-community/mathlib4', commit='27c6744e1c0e25d676be5eb252cd4b6d30c6acc7'), file_path=PosixPath('Mathlib/Algebra/Regular/Basic.lean'), full_name='IsLeftRegular.mul_left_eq_zero_iff'),\n",
       "  '@[simp] lemma IsLeftRegular.mul_left_eq_zero_iff (hb : IsLeftRegular b) : b * a = 0 ↔ a = 0 := by\\n  nth_rw 1 [← mul_zero b]\\n  exact ⟨fun h ↦ hb h, fun ha ↦ by rw [ha]⟩',\n",
       "  ['nth_rw 1 [← mul_zero b]',\n",
       "   'exact ⟨fun h ↦ hb h, fun ha ↦ by rw [ha]⟩',\n",
       "   'rw [ha]']),\n",
       " 'IsRightRegular.mul_right_eq_zero_iff': (Theorem(repo=LeanGitRepo(url='https://github.com/leanprover-community/mathlib4', commit='27c6744e1c0e25d676be5eb252cd4b6d30c6acc7'), file_path=PosixPath('Mathlib/Algebra/Regular/Basic.lean'), full_name='IsRightRegular.mul_right_eq_zero_iff'),\n",
       "  '@[simp] lemma IsRightRegular.mul_right_eq_zero_iff (hb : IsRightRegular b) : a * b = 0 ↔ a = 0 := by\\n  nth_rw 1 [← zero_mul b]\\n  exact ⟨fun h ↦ hb h, fun ha ↦ by rw [ha]⟩',\n",
       "  ['nth_rw 1 [← zero_mul b]',\n",
       "   'exact ⟨fun h ↦ hb h, fun ha ↦ by rw [ha]⟩',\n",
       "   'rw [ha]']),\n",
       " 'isRegular_one': (Theorem(repo=LeanGitRepo(url='https://github.com/leanprover-community/mathlib4', commit='27c6744e1c0e25d676be5eb252cd4b6d30c6acc7'), file_path=PosixPath('Mathlib/Algebra/Regular/Basic.lean'), full_name='isRegular_one'),\n",
       "  '@[to_additive \"If adding `0` on either side is the identity, `0` is regular.\"]\\ntheorem isRegular_one : IsRegular (1 : R)',\n",
       "  []),\n",
       " 'isRegular_mul_iff': (Theorem(repo=LeanGitRepo(url='https://github.com/leanprover-community/mathlib4', commit='27c6744e1c0e25d676be5eb252cd4b6d30c6acc7'), file_path=PosixPath('Mathlib/Algebra/Regular/Basic.lean'), full_name='isRegular_mul_iff'),\n",
       "  '@[to_additive \"A sum is add-regular if and only if the summands are.\"]\\ntheorem isRegular_mul_iff : IsRegular (a * b) ↔ IsRegular a ∧ IsRegular b',\n",
       "  ['refine Iff.trans ?_ isRegular_mul_and_mul_iff',\n",
       "   'exact ⟨fun ab => ⟨ab, by rwa [mul_comm]⟩, fun rab => rab.1⟩',\n",
       "   'rwa [mul_comm]']),\n",
       " 'isLeftRegular_of_mul_eq_one': (Theorem(repo=LeanGitRepo(url='https://github.com/leanprover-community/mathlib4', commit='27c6744e1c0e25d676be5eb252cd4b6d30c6acc7'), file_path=PosixPath('Mathlib/Algebra/Regular/Basic.lean'), full_name='isLeftRegular_of_mul_eq_one'),\n",
       "  '@[to_additive \"An element admitting a left additive opposite is add-left-regular.\"]\\ntheorem isLeftRegular_of_mul_eq_one (h : b * a = 1) : IsLeftRegular a',\n",
       "  ['rw [h]', 'exact isRegular_one.left']),\n",
       " 'isRightRegular_of_mul_eq_one': (Theorem(repo=LeanGitRepo(url='https://github.com/leanprover-community/mathlib4', commit='27c6744e1c0e25d676be5eb252cd4b6d30c6acc7'), file_path=PosixPath('Mathlib/Algebra/Regular/Basic.lean'), full_name='isRightRegular_of_mul_eq_one'),\n",
       "  '@[to_additive \"An element admitting a right additive opposite is add-right-regular.\"]\\ntheorem isRightRegular_of_mul_eq_one (h : a * b = 1) : IsRightRegular a',\n",
       "  ['rw [h]', 'exact isRegular_one.right']),\n",
       " 'Units.isRegular': (Theorem(repo=LeanGitRepo(url='https://github.com/leanprover-community/mathlib4', commit='27c6744e1c0e25d676be5eb252cd4b6d30c6acc7'), file_path=PosixPath('Mathlib/Algebra/Regular/Basic.lean'), full_name='Units.isRegular'),\n",
       "  '@[to_additive \"If `R` is an additive monoid, an element in `add_units R` is add-regular.\"]\\ntheorem Units.isRegular (a : Rˣ) : IsRegular (a : R)',\n",
       "  []),\n",
       " 'IsUnit.isRegular': (Theorem(repo=LeanGitRepo(url='https://github.com/leanprover-community/mathlib4', commit='27c6744e1c0e25d676be5eb252cd4b6d30c6acc7'), file_path=PosixPath('Mathlib/Algebra/Regular/Basic.lean'), full_name='IsUnit.isRegular'),\n",
       "  '@[to_additive \"An additive unit in an additive monoid is add-regular.\"]\\ntheorem IsUnit.isRegular (ua : IsUnit a) : IsRegular a',\n",
       "  ['rcases ua with ⟨a, rfl⟩', 'exact Units.isRegular a']),\n",
       " 'IsLeftRegular.all': (Theorem(repo=LeanGitRepo(url='https://github.com/leanprover-community/mathlib4', commit='27c6744e1c0e25d676be5eb252cd4b6d30c6acc7'), file_path=PosixPath('Mathlib/Algebra/Regular/Basic.lean'), full_name='IsLeftRegular.all'),\n",
       "  '@[to_additive \"If all additions cancel on the left then every element is add-left-regular.\"]\\ntheorem IsLeftRegular.all [Mul R] [IsLeftCancelMul R] (g : R) : IsLeftRegular g',\n",
       "  []),\n",
       " 'IsRightRegular.all': (Theorem(repo=LeanGitRepo(url='https://github.com/leanprover-community/mathlib4', commit='27c6744e1c0e25d676be5eb252cd4b6d30c6acc7'), file_path=PosixPath('Mathlib/Algebra/Regular/Basic.lean'), full_name='IsRightRegular.all'),\n",
       "  '@[to_additive \"If all additions cancel on the right then every element is add-right-regular.\"]\\ntheorem IsRightRegular.all [Mul R] [IsRightCancelMul R] (g : R) : IsRightRegular g',\n",
       "  []),\n",
       " 'IsRegular.all': (Theorem(repo=LeanGitRepo(url='https://github.com/leanprover-community/mathlib4', commit='27c6744e1c0e25d676be5eb252cd4b6d30c6acc7'), file_path=PosixPath('Mathlib/Algebra/Regular/Basic.lean'), full_name='IsRegular.all'),\n",
       "  '@[to_additive \"If all additions cancel then every element is add-regular.\"]\\ntheorem IsRegular.all [Mul R] [IsCancelMul R] (g : R) : IsRegular g',\n",
       "  []),\n",
       " 'isRegular_of_ne_zero': (Theorem(repo=LeanGitRepo(url='https://github.com/leanprover-community/mathlib4', commit='27c6744e1c0e25d676be5eb252cd4b6d30c6acc7'), file_path=PosixPath('Mathlib/Algebra/Regular/Basic.lean'), full_name='isRegular_of_ne_zero'),\n",
       "  'theorem isRegular_of_ne_zero (a0 : a ≠ 0) : IsRegular a',\n",
       "  []),\n",
       " 'isRegular_iff_ne_zero': (Theorem(repo=LeanGitRepo(url='https://github.com/leanprover-community/mathlib4', commit='27c6744e1c0e25d676be5eb252cd4b6d30c6acc7'), file_path=PosixPath('Mathlib/Algebra/Regular/Basic.lean'), full_name='isRegular_iff_ne_zero'),\n",
       "  'theorem isRegular_iff_ne_zero [Nontrivial R] : IsRegular a ↔ a ≠ 0',\n",
       "  [])}"
      ]
     },
     "execution_count": 22,
     "metadata": {},
     "output_type": "execute_result"
    }
   ],
   "source": [
    "train_theorems['Mathlib/Algebra/Regular/Basic.lean']"
   ]
  }
 ],
 "metadata": {
  "kernelspec": {
   "display_name": "atp",
   "language": "python",
   "name": "atp"
  },
  "language_info": {
   "codemirror_mode": {
    "name": "ipython",
    "version": 3
   },
   "file_extension": ".py",
   "mimetype": "text/x-python",
   "name": "python",
   "nbconvert_exporter": "python",
   "pygments_lexer": "ipython3",
   "version": "3.10.13"
  }
 },
 "nbformat": 4,
 "nbformat_minor": 5
}
