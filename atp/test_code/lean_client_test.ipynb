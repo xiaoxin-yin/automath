{
 "cells": [
  {
   "cell_type": "code",
   "execution_count": null,
   "id": "106833b8",
   "metadata": {},
   "outputs": [
    {
     "name": "stdout",
     "output_type": "stream",
     "text": [
      "Init TrioLeanServer\n",
      "Sending SyncRequest(file_name='lean-client-python/examples/test.lean', content=None)\n",
      "Sending b'{\"file_name\": \"lean-client-python/examples/test.lean\", \"seq_num\": 1, \"command\": \"sync\"}\\n'\n",
      "entering receiver function\n",
      "receiver 1\n"
     ]
    },
    {
     "name": "stderr",
     "output_type": "stream",
     "text": [
      "Watchdog error: Cannot read LSP request: A Lean 3 request was received. Please ensure that your editor has a Lean 4 compatible extension installed. For VSCode, this is\n",
      "\n",
      "    https://github.com/leanprover/vscode-lean4 \n"
     ]
    }
   ],
   "source": [
    "from pathlib import Path\n",
    "\n",
    "import trio # type: ignore\n",
    "\n",
    "from lean_client.trio_server import TrioLeanServer\n",
    "\n",
    "\n",
    "async def main():\n",
    "    lines = Path('lean-client-python/examples/test.lean').read_text().split('\\n')\n",
    "\n",
    "    async with trio.open_nursery() as nursery:\n",
    "        server = TrioLeanServer(nursery, debug=True, debug_bytes=True)\n",
    "        await server.start()\n",
    "        await server.full_sync('lean-client-python/examples/test.lean')\n",
    "\n",
    "        for i, line in enumerate(lines):\n",
    "            before = await server.state('lean-client-python/examples/test.lean', i+1, 0)\n",
    "            after = await server.state('lean-client-python/examples/test.lean', i+1, len(line))\n",
    "            if before or after:\n",
    "                print(f'Line {i+1}: {line}')\n",
    "                print(f'State before:\\n{before}\\n')\n",
    "                print(f'State after:\\n{after}\\n')\n",
    "\n",
    "        server.kill()\n",
    "        nursery.cancel_scope.cancel()\n",
    "\n",
    "if __name__ == '__main__':\n",
    "    trio.run(main)"
   ]
  },
  {
   "cell_type": "code",
   "execution_count": 1,
   "id": "c2da39de",
   "metadata": {},
   "outputs": [],
   "source": [
    "from pathlib import Path\n",
    "\n",
    "lines = Path('lean-client-python/examples/test.lean').read_text().split('\\n')"
   ]
  },
  {
   "cell_type": "code",
   "execution_count": 2,
   "id": "ead9543a",
   "metadata": {},
   "outputs": [
    {
     "data": {
      "text/plain": [
       "['import Mathlib.Data.Set.Basic',\n",
       " 'import Mathlib.Data.Real.Basic',\n",
       " 'import Mathlib.Tactic.Basic',\n",
       " 'import Mathlib.Tactic.Linarith',\n",
       " 'import Mathlib.Data.Complex.Exponential',\n",
       " 'import Mathlib.Analysis.SpecialFunctions.Log.Basic',\n",
       " '',\n",
       " 'variable {α : Type*}',\n",
       " 'variable (s t u : Set α)',\n",
       " 'open Set',\n",
       " '',\n",
       " 'example (h : s ⊆ t) : s ∩ u ⊆ t ∩ u := by',\n",
       " '  rw [subset_def, inter_def, inter_def]',\n",
       " '  rw [subset_def] at h',\n",
       " '  simp only [mem_setOf]',\n",
       " '  rintro x ⟨xs, xu⟩',\n",
       " '  exact ⟨h _ xs, xu⟩',\n",
       " '  ',\n",
       " 'def main : IO Unit :=',\n",
       " '  IO.println s!\"Hello!\"']"
      ]
     },
     "execution_count": 2,
     "metadata": {},
     "output_type": "execute_result"
    }
   ],
   "source": [
    "lines"
   ]
  },
  {
   "cell_type": "code",
   "execution_count": 3,
   "id": "78e25468",
   "metadata": {},
   "outputs": [],
   "source": [
    "from lean_client.commands import SyncRequest\n",
    "\n",
    "request = SyncRequest('lean-client-python/examples/test.lean')"
   ]
  },
  {
   "cell_type": "code",
   "execution_count": 4,
   "id": "1f7113fd",
   "metadata": {},
   "outputs": [
    {
     "data": {
      "text/plain": [
       "SyncRequest(file_name='lean-client-python/examples/test.lean', content=None)"
      ]
     },
     "execution_count": 4,
     "metadata": {},
     "output_type": "execute_result"
    }
   ],
   "source": [
    "request"
   ]
  },
  {
   "cell_type": "code",
   "execution_count": 5,
   "id": "9999464d",
   "metadata": {},
   "outputs": [
    {
     "ename": "JSONDecodeError",
     "evalue": "Expecting value: line 1 column 1 (char 0)",
     "output_type": "error",
     "traceback": [
      "\u001b[0;31m---------------------------------------------------------------------------\u001b[0m",
      "\u001b[0;31mJSONDecodeError\u001b[0m                           Traceback (most recent call last)",
      "Cell \u001b[0;32mIn[5], line 3\u001b[0m\n\u001b[1;32m      1\u001b[0m \u001b[38;5;28;01mfrom\u001b[39;00m \u001b[38;5;21;01mlean_client\u001b[39;00m\u001b[38;5;21;01m.\u001b[39;00m\u001b[38;5;21;01mcommands\u001b[39;00m \u001b[38;5;28;01mimport\u001b[39;00m CommandResponse\n\u001b[0;32m----> 3\u001b[0m \u001b[43mCommandResponse\u001b[49m\u001b[38;5;241;43m.\u001b[39;49m\u001b[43mparse_response\u001b[49m\u001b[43m(\u001b[49m\u001b[38;5;124;43m'\u001b[39;49m\u001b[38;5;124;43mimport Mathlib.Data.Set.Basic\u001b[39;49m\u001b[38;5;124;43m'\u001b[39;49m\u001b[43m)\u001b[49m\n",
      "File \u001b[0;32m~/anaconda3/envs/atp/lib/python3.10/site-packages/lean_client/commands.py:43\u001b[0m, in \u001b[0;36mResponse.parse_response\u001b[0;34m(data)\u001b[0m\n\u001b[1;32m     41\u001b[0m \u001b[38;5;129m@staticmethod\u001b[39m\n\u001b[1;32m     42\u001b[0m \u001b[38;5;28;01mdef\u001b[39;00m \u001b[38;5;21mparse_response\u001b[39m(data: \u001b[38;5;28mstr\u001b[39m) \u001b[38;5;241m-\u001b[39m\u001b[38;5;241m>\u001b[39m Union[\u001b[38;5;124m'\u001b[39m\u001b[38;5;124mAllMessagesResponse\u001b[39m\u001b[38;5;124m'\u001b[39m, \u001b[38;5;124m'\u001b[39m\u001b[38;5;124mCurrentTasksResponse\u001b[39m\u001b[38;5;124m'\u001b[39m, \u001b[38;5;124m'\u001b[39m\u001b[38;5;124mOkResponse\u001b[39m\u001b[38;5;124m'\u001b[39m, \u001b[38;5;124m'\u001b[39m\u001b[38;5;124mErrorResponse\u001b[39m\u001b[38;5;124m'\u001b[39m]:\n\u001b[0;32m---> 43\u001b[0m     dic \u001b[38;5;241m=\u001b[39m \u001b[43mjson\u001b[49m\u001b[38;5;241;43m.\u001b[39;49m\u001b[43mloads\u001b[49m\u001b[43m(\u001b[49m\u001b[43mdata\u001b[49m\u001b[43m)\u001b[49m\n\u001b[1;32m     44\u001b[0m     response \u001b[38;5;241m=\u001b[39m dic\u001b[38;5;241m.\u001b[39mpop(\u001b[38;5;124m'\u001b[39m\u001b[38;5;124mresponse\u001b[39m\u001b[38;5;124m'\u001b[39m)\n\u001b[1;32m     46\u001b[0m     \u001b[38;5;28;01mfor\u001b[39;00m \u001b[38;5;28mcls\u001b[39m \u001b[38;5;129;01min\u001b[39;00m [AllMessagesResponse, CurrentTasksResponse, OkResponse, ErrorResponse]:\n",
      "File \u001b[0;32m~/anaconda3/envs/atp/lib/python3.10/json/__init__.py:346\u001b[0m, in \u001b[0;36mloads\u001b[0;34m(s, cls, object_hook, parse_float, parse_int, parse_constant, object_pairs_hook, **kw)\u001b[0m\n\u001b[1;32m    341\u001b[0m     s \u001b[38;5;241m=\u001b[39m s\u001b[38;5;241m.\u001b[39mdecode(detect_encoding(s), \u001b[38;5;124m'\u001b[39m\u001b[38;5;124msurrogatepass\u001b[39m\u001b[38;5;124m'\u001b[39m)\n\u001b[1;32m    343\u001b[0m \u001b[38;5;28;01mif\u001b[39;00m (\u001b[38;5;28mcls\u001b[39m \u001b[38;5;129;01mis\u001b[39;00m \u001b[38;5;28;01mNone\u001b[39;00m \u001b[38;5;129;01mand\u001b[39;00m object_hook \u001b[38;5;129;01mis\u001b[39;00m \u001b[38;5;28;01mNone\u001b[39;00m \u001b[38;5;129;01mand\u001b[39;00m\n\u001b[1;32m    344\u001b[0m         parse_int \u001b[38;5;129;01mis\u001b[39;00m \u001b[38;5;28;01mNone\u001b[39;00m \u001b[38;5;129;01mand\u001b[39;00m parse_float \u001b[38;5;129;01mis\u001b[39;00m \u001b[38;5;28;01mNone\u001b[39;00m \u001b[38;5;129;01mand\u001b[39;00m\n\u001b[1;32m    345\u001b[0m         parse_constant \u001b[38;5;129;01mis\u001b[39;00m \u001b[38;5;28;01mNone\u001b[39;00m \u001b[38;5;129;01mand\u001b[39;00m object_pairs_hook \u001b[38;5;129;01mis\u001b[39;00m \u001b[38;5;28;01mNone\u001b[39;00m \u001b[38;5;129;01mand\u001b[39;00m \u001b[38;5;129;01mnot\u001b[39;00m kw):\n\u001b[0;32m--> 346\u001b[0m     \u001b[38;5;28;01mreturn\u001b[39;00m \u001b[43m_default_decoder\u001b[49m\u001b[38;5;241;43m.\u001b[39;49m\u001b[43mdecode\u001b[49m\u001b[43m(\u001b[49m\u001b[43ms\u001b[49m\u001b[43m)\u001b[49m\n\u001b[1;32m    347\u001b[0m \u001b[38;5;28;01mif\u001b[39;00m \u001b[38;5;28mcls\u001b[39m \u001b[38;5;129;01mis\u001b[39;00m \u001b[38;5;28;01mNone\u001b[39;00m:\n\u001b[1;32m    348\u001b[0m     \u001b[38;5;28mcls\u001b[39m \u001b[38;5;241m=\u001b[39m JSONDecoder\n",
      "File \u001b[0;32m~/anaconda3/envs/atp/lib/python3.10/json/decoder.py:337\u001b[0m, in \u001b[0;36mJSONDecoder.decode\u001b[0;34m(self, s, _w)\u001b[0m\n\u001b[1;32m    332\u001b[0m \u001b[38;5;28;01mdef\u001b[39;00m \u001b[38;5;21mdecode\u001b[39m(\u001b[38;5;28mself\u001b[39m, s, _w\u001b[38;5;241m=\u001b[39mWHITESPACE\u001b[38;5;241m.\u001b[39mmatch):\n\u001b[1;32m    333\u001b[0m \u001b[38;5;250m    \u001b[39m\u001b[38;5;124;03m\"\"\"Return the Python representation of ``s`` (a ``str`` instance\u001b[39;00m\n\u001b[1;32m    334\u001b[0m \u001b[38;5;124;03m    containing a JSON document).\u001b[39;00m\n\u001b[1;32m    335\u001b[0m \n\u001b[1;32m    336\u001b[0m \u001b[38;5;124;03m    \"\"\"\u001b[39;00m\n\u001b[0;32m--> 337\u001b[0m     obj, end \u001b[38;5;241m=\u001b[39m \u001b[38;5;28;43mself\u001b[39;49m\u001b[38;5;241;43m.\u001b[39;49m\u001b[43mraw_decode\u001b[49m\u001b[43m(\u001b[49m\u001b[43ms\u001b[49m\u001b[43m,\u001b[49m\u001b[43m \u001b[49m\u001b[43midx\u001b[49m\u001b[38;5;241;43m=\u001b[39;49m\u001b[43m_w\u001b[49m\u001b[43m(\u001b[49m\u001b[43ms\u001b[49m\u001b[43m,\u001b[49m\u001b[43m \u001b[49m\u001b[38;5;241;43m0\u001b[39;49m\u001b[43m)\u001b[49m\u001b[38;5;241;43m.\u001b[39;49m\u001b[43mend\u001b[49m\u001b[43m(\u001b[49m\u001b[43m)\u001b[49m\u001b[43m)\u001b[49m\n\u001b[1;32m    338\u001b[0m     end \u001b[38;5;241m=\u001b[39m _w(s, end)\u001b[38;5;241m.\u001b[39mend()\n\u001b[1;32m    339\u001b[0m     \u001b[38;5;28;01mif\u001b[39;00m end \u001b[38;5;241m!=\u001b[39m \u001b[38;5;28mlen\u001b[39m(s):\n",
      "File \u001b[0;32m~/anaconda3/envs/atp/lib/python3.10/json/decoder.py:355\u001b[0m, in \u001b[0;36mJSONDecoder.raw_decode\u001b[0;34m(self, s, idx)\u001b[0m\n\u001b[1;32m    353\u001b[0m     obj, end \u001b[38;5;241m=\u001b[39m \u001b[38;5;28mself\u001b[39m\u001b[38;5;241m.\u001b[39mscan_once(s, idx)\n\u001b[1;32m    354\u001b[0m \u001b[38;5;28;01mexcept\u001b[39;00m \u001b[38;5;167;01mStopIteration\u001b[39;00m \u001b[38;5;28;01mas\u001b[39;00m err:\n\u001b[0;32m--> 355\u001b[0m     \u001b[38;5;28;01mraise\u001b[39;00m JSONDecodeError(\u001b[38;5;124m\"\u001b[39m\u001b[38;5;124mExpecting value\u001b[39m\u001b[38;5;124m\"\u001b[39m, s, err\u001b[38;5;241m.\u001b[39mvalue) \u001b[38;5;28;01mfrom\u001b[39;00m \u001b[38;5;28;01mNone\u001b[39;00m\n\u001b[1;32m    356\u001b[0m \u001b[38;5;28;01mreturn\u001b[39;00m obj, end\n",
      "\u001b[0;31mJSONDecodeError\u001b[0m: Expecting value: line 1 column 1 (char 0)"
     ]
    }
   ],
   "source": [
    "from lean_client.commands import CommandResponse\n",
    "\n",
    "CommandResponse.parse_response('import Mathlib.Data.Set.Basic')"
   ]
  },
  {
   "cell_type": "code",
   "execution_count": 11,
   "id": "a6f8ad1a",
   "metadata": {},
   "outputs": [
    {
     "name": "stdout",
     "output_type": "stream",
     "text": [
      "{\"jsonrpc\": \"2.0\", \"method\": \"textDocument/didOpen\", \"params\": {\"textDocument\": {\"uri\": \"file:///test.lean\", \"languageId\": \"lean\", \"version\": 1, \"text\": \"import Init.System.IO\\n\\ndef n : Nat := 1234\\n\\n#check n\\n\\ndef s : String := \\\"abcd\\\"\\n\\n#check s\\n\\ndef hello : IO Unit := IO.println \\\"Hello world!\\\"\\n\\n#eval hello\\n\\ndef \\u03b1\\u03b2\\u03b3 /- \\ud83d\\ude09\\ud83d\\ude09\\ud83d\\ude09\\ud83d\\ude09 -/: Nat := \\\"NotANat\\\"\\n\\nnamespace MyNs\\n\\ndef u : Unit := ()\\n\\nend MyNs\\n\\n#check MyNs.u\\n\\n#print MyNs.u\\n\"}}}\n",
      "Response from Lean server: \n"
     ]
    }
   ],
   "source": [
    "import json\n",
    "import subprocess\n",
    "\n",
    "def send_lsp_request(lsp_command):\n",
    "    # Start the Lean server as a subprocess\n",
    "    process = subprocess.Popen(['lean', '--server'],\n",
    "                               stdin=subprocess.PIPE,\n",
    "                               stdout=subprocess.PIPE,\n",
    "                               stderr=subprocess.PIPE,\n",
    "                               text=True)\n",
    "\n",
    "    print(json.dumps(lsp_command))\n",
    "    # Send an LSP request to the Lean server\n",
    "    process.stdin.write(json.dumps(lsp_command) + \"\\n\")\n",
    "    process.stdin.flush()\n",
    "\n",
    "    # Read the response from Lean server\n",
    "    response = process.stdout.readline()\n",
    "    print(\"Response from Lean server:\", response)\n",
    "\n",
    "    # Close the Lean server\n",
    "    process.terminate()\n",
    "    process.wait()\n",
    "\n",
    "# Example LSP request for initialization (simplified version)\n",
    "# lsp_request = {\n",
    "#     \"jsonrpc\": \"2.0\",\n",
    "#     \"id\": 1,\n",
    "#     \"method\": \"initialize\",\n",
    "#     \"params\": {\n",
    "#         \"capabilities\": {},  # Capabilities can be filled as needed\n",
    "#         \"processId\": None,\n",
    "#         \"rootPath\": None,\n",
    "#         \"rootUri\": None\n",
    "#     }\n",
    "# }\n",
    "\n",
    "lsp_request = {\"jsonrpc\":\"2.0\",\"method\":\"textDocument/didOpen\",\"params\":{\"textDocument\":{\"uri\":\"file:///test.lean\",\"languageId\":\"lean\",\"version\":1,\"text\":\"import Init.System.IO\\n\\ndef n : Nat := 1234\\n\\n#check n\\n\\ndef s : String := \\\"abcd\\\"\\n\\n#check s\\n\\ndef hello : IO Unit := IO.println \\\"Hello world!\\\"\\n\\n#eval hello\\n\\ndef αβγ /- 😉😉😉😉 -/: Nat := \\\"NotANat\\\"\\n\\nnamespace MyNs\\n\\ndef u : Unit := ()\\n\\nend MyNs\\n\\n#check MyNs.u\\n\\n#print MyNs.u\\n\"}}}\n",
    "\n",
    "send_lsp_request(lsp_request)\n"
   ]
  }
 ],
 "metadata": {
  "kernelspec": {
   "display_name": "Python [conda env:atp]",
   "language": "python",
   "name": "conda-env-atp-py"
  },
  "language_info": {
   "codemirror_mode": {
    "name": "ipython",
    "version": 3
   },
   "file_extension": ".py",
   "mimetype": "text/x-python",
   "name": "python",
   "nbconvert_exporter": "python",
   "pygments_lexer": "ipython3",
   "version": "3.10.13"
  }
 },
 "nbformat": 4,
 "nbformat_minor": 5
}
