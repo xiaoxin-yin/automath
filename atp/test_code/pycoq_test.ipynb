{
 "cells": [
  {
   "cell_type": "code",
   "execution_count": 1,
   "id": "d411b686",
   "metadata": {},
   "outputs": [],
   "source": [
    "import asyncio\n",
    "import os\n",
    "\n",
    "from typing import Iterable\n",
    "\n",
    "import pycoq.opam\n",
    "import pycoq.common\n",
    "import pycoq.agent"
   ]
  },
  {
   "cell_type": "code",
   "execution_count": 2,
   "id": "efcafd44",
   "metadata": {},
   "outputs": [],
   "source": [
    "async def tutorial_deterministic_agent(theorems: Iterable):\n",
    "    \"\"\"\n",
    "    a snipped of code demonstrating usage of pycoq\n",
    "    \"\"\"\n",
    "\n",
    "    # create default coq context for evaluation of a theorem\n",
    "    coq_ctxt = pycoq.common.CoqContext(pwd=os.getcwd(),\n",
    "                                       executable='',\n",
    "                                       target='serapi_shell')\n",
    "    cfg = pycoq.opam.opam_serapi_cfg(coq_ctxt)\n",
    "\n",
    "\n",
    "    # create python coq-serapi object that wraps API of the coq-serapi  \n",
    "    async with pycoq.serapi.CoqSerapi(cfg) as coq:\n",
    "        for prop, script in theorems:\n",
    "\n",
    "            # execute proposition of the theorem\n",
    "            _, _, coq_exc, _ = await coq.execute(prop)\n",
    "            if coq_exc:\n",
    "                print(f\"{prop} raised coq exception {coq_exc}\")\n",
    "                continue\n",
    "\n",
    "            # execute the proof script of the theorem\n",
    "            n_steps, n_goals = await pycoq.agent.script_agent(coq, script)\n",
    "\n",
    "            msg = f\"Proof {script} fail\" if n_goals != 0 else f\"Proof {script} success\"\n",
    "            print(f\"{prop} ### {msg} in {n_steps} steps\\n\")"
   ]
  },
  {
   "cell_type": "code",
   "execution_count": 3,
   "id": "f9a0d186",
   "metadata": {},
   "outputs": [
    {
     "ename": "RuntimeError",
     "evalue": "asyncio.run() cannot be called from a running event loop",
     "output_type": "error",
     "traceback": [
      "\u001b[0;31m---------------------------------------------------------------------------\u001b[0m",
      "\u001b[0;31mRuntimeError\u001b[0m                              Traceback (most recent call last)",
      "Cell \u001b[0;32mIn[3], line 10\u001b[0m\n\u001b[1;32m      1\u001b[0m theorems \u001b[38;5;241m=\u001b[39m [\n\u001b[1;32m      2\u001b[0m         (\u001b[38;5;124m\"\u001b[39m\u001b[38;5;124mTheorem th4: forall A B C D: Prop, A->(A->B)->(B->C)->(C->D)->D.\u001b[39m\u001b[38;5;124m\"\u001b[39m,\n\u001b[1;32m      3\u001b[0m          [\u001b[38;5;124m\"\u001b[39m\u001b[38;5;124mauto.\u001b[39m\u001b[38;5;124m\"\u001b[39m]),\n\u001b[0;32m   (...)\u001b[0m\n\u001b[1;32m      6\u001b[0m         (\u001b[38;5;124m\"\u001b[39m\u001b[38;5;124mTheorem th6: forall A B C D E: Prop, A->(A->B)->(B->C)->(C->D)->(D->E)->E.\u001b[39m\u001b[38;5;124m\"\u001b[39m,\n\u001b[1;32m      7\u001b[0m          [\u001b[38;5;124m\"\u001b[39m\u001b[38;5;124mauto.\u001b[39m\u001b[38;5;124m\"\u001b[39m])]\n\u001b[0;32m---> 10\u001b[0m \u001b[43masyncio\u001b[49m\u001b[38;5;241;43m.\u001b[39;49m\u001b[43mrun\u001b[49m\u001b[43m(\u001b[49m\u001b[43mtutorial_deterministic_agent\u001b[49m\u001b[43m(\u001b[49m\u001b[43mtheorems\u001b[49m\u001b[43m)\u001b[49m\u001b[43m)\u001b[49m\n",
      "File \u001b[0;32m~/anaconda3/envs/atp/lib/python3.10/asyncio/runners.py:33\u001b[0m, in \u001b[0;36mrun\u001b[0;34m(main, debug)\u001b[0m\n\u001b[1;32m      9\u001b[0m \u001b[38;5;250m\u001b[39m\u001b[38;5;124;03m\"\"\"Execute the coroutine and return the result.\u001b[39;00m\n\u001b[1;32m     10\u001b[0m \n\u001b[1;32m     11\u001b[0m \u001b[38;5;124;03mThis function runs the passed coroutine, taking care of\u001b[39;00m\n\u001b[0;32m   (...)\u001b[0m\n\u001b[1;32m     30\u001b[0m \u001b[38;5;124;03m    asyncio.run(main())\u001b[39;00m\n\u001b[1;32m     31\u001b[0m \u001b[38;5;124;03m\"\"\"\u001b[39;00m\n\u001b[1;32m     32\u001b[0m \u001b[38;5;28;01mif\u001b[39;00m events\u001b[38;5;241m.\u001b[39m_get_running_loop() \u001b[38;5;129;01mis\u001b[39;00m \u001b[38;5;129;01mnot\u001b[39;00m \u001b[38;5;28;01mNone\u001b[39;00m:\n\u001b[0;32m---> 33\u001b[0m     \u001b[38;5;28;01mraise\u001b[39;00m \u001b[38;5;167;01mRuntimeError\u001b[39;00m(\n\u001b[1;32m     34\u001b[0m         \u001b[38;5;124m\"\u001b[39m\u001b[38;5;124masyncio.run() cannot be called from a running event loop\u001b[39m\u001b[38;5;124m\"\u001b[39m)\n\u001b[1;32m     36\u001b[0m \u001b[38;5;28;01mif\u001b[39;00m \u001b[38;5;129;01mnot\u001b[39;00m coroutines\u001b[38;5;241m.\u001b[39miscoroutine(main):\n\u001b[1;32m     37\u001b[0m     \u001b[38;5;28;01mraise\u001b[39;00m \u001b[38;5;167;01mValueError\u001b[39;00m(\u001b[38;5;124m\"\u001b[39m\u001b[38;5;124ma coroutine was expected, got \u001b[39m\u001b[38;5;132;01m{!r}\u001b[39;00m\u001b[38;5;124m\"\u001b[39m\u001b[38;5;241m.\u001b[39mformat(main))\n",
      "\u001b[0;31mRuntimeError\u001b[0m: asyncio.run() cannot be called from a running event loop"
     ]
    }
   ],
   "source": [
    "theorems = [\n",
    "        (\"Theorem th4: forall A B C D: Prop, A->(A->B)->(B->C)->(C->D)->D.\",\n",
    "         [\"auto.\"]),\n",
    "        (\"Theorem th5: forall A B C D E: Prop, A->(A->B)->(B->C)->(C->D)->E.\",\n",
    "         [\"auto.\"]),\n",
    "        (\"Theorem th6: forall A B C D E: Prop, A->(A->B)->(B->C)->(C->D)->(D->E)->E.\",\n",
    "         [\"auto.\"])]\n",
    "        \n",
    "\n",
    "asyncio.run(tutorial_deterministic_agent(theorems))"
   ]
  },
  {
   "cell_type": "code",
   "execution_count": 1,
   "id": "181b401f",
   "metadata": {},
   "outputs": [
    {
     "data": {
      "text/plain": [
       "[1, 2, 4, 5, 7]"
      ]
     },
     "execution_count": 1,
     "metadata": {},
     "output_type": "execute_result"
    }
   ],
   "source": [
    "def boo(arr):\n",
    "    if len(arr) == 1:\n",
    "        return arr\n",
    "    else:\n",
    "        arr1 = boo(arr[1:])\n",
    "        if arr[0] <= arr1[0]:\n",
    "            return [arr[0]] + arr1\n",
    "        else:\n",
    "            return [arr1[0]] + boo([arr[0]] + arr1[1:])\n",
    "\n",
    "boo([5,4,7,2,1])"
   ]
  },
  {
   "cell_type": "code",
   "execution_count": 9,
   "id": "a826daeb",
   "metadata": {},
   "outputs": [
    {
     "name": "stdout",
     "output_type": "stream",
     "text": [
      "def foo(arr):\n",
      "        if len(arr) == 1:\n",
      "            return arr[0] * 3\n",
      "        else:\n",
      "            return arr[0] - foo(arr[1:])\n",
      "        \n"
     ]
    }
   ],
   "source": [
    "import random\n",
    "\n",
    "def generate_random_operator():\n",
    "    operators = ['+', '-', '*', '//', '%']\n",
    "    return random.choice(operators)\n",
    "\n",
    "def generate_random_comparison():\n",
    "    comparisons = ['<', '>', '<=', '>=', '==', '!=']\n",
    "    return random.choice(comparisons)\n",
    "\n",
    "def generate_random_code():\n",
    "    base_case_operator = generate_random_operator()\n",
    "    recursive_operator = generate_random_operator()\n",
    "    comparison_operator = generate_random_comparison()\n",
    "\n",
    "    if random.random()>0.5:\n",
    "        code = f\"\"\"def foo(arr):\n",
    "        if len(arr) == 1:\n",
    "            return arr[0] {base_case_operator} {random.randint(1, 10)}\n",
    "        else:\n",
    "            if arr[0] {comparison_operator} {random.randint(1, 10)}:\n",
    "                return arr[0] {recursive_operator} foo(arr[1:])\n",
    "            else:\n",
    "                return foo(arr[1:])\n",
    "        \"\"\"\n",
    "    else:\n",
    "        code = f\"\"\"def foo(arr):\n",
    "        if len(arr) == 1:\n",
    "            return arr[0] {base_case_operator} {random.randint(1, 10)}\n",
    "        else:\n",
    "            return arr[0] {recursive_operator} foo(arr[1:])\n",
    "        \"\"\"\n",
    "\n",
    "    return code\n",
    "\n",
    "# Generate random code\n",
    "random_code = generate_random_code()\n",
    "print(random_code)"
   ]
  },
  {
   "cell_type": "code",
   "execution_count": 160,
   "id": "63af8677",
   "metadata": {},
   "outputs": [
    {
     "name": "stdout",
     "output_type": "stream",
     "text": [
      "def foo(arr):\n",
      "    if len(arr) == 1:\n",
      "        return arr[0] // 1\n",
      "    else:\n",
      "        return arr[0] % foo(arr[1:])\n",
      "    \n",
      "1\n"
     ]
    }
   ],
   "source": [
    "import random\n",
    "\n",
    "def generate_random_operator():\n",
    "    operators = ['+', '-', '*', '//', '%', 'max', 'min']\n",
    "    return random.choice(operators)\n",
    "\n",
    "def generate_random_comparison():\n",
    "    comparisons = ['<', '>', '<=', '>=', '==', '!=']\n",
    "    return random.choice(comparisons)\n",
    "\n",
    "def generate_random_constant(arr_length=False):\n",
    "    if arr_length and random.choice([True, False]):\n",
    "        unary_functions = ['abs', '']\n",
    "        unary_function = random.choice(unary_functions)\n",
    "        if unary_function:\n",
    "            return f'{unary_function}(len(arr))'\n",
    "        else:\n",
    "            return 'len(arr)'\n",
    "    else:\n",
    "        return str(random.randint(1, 10))\n",
    "\n",
    "def generate_random_code():\n",
    "    base_case_constant = generate_random_constant()\n",
    "    recursive_case_constant = generate_random_constant(arr_length=True)\n",
    "    base_case_operator = generate_random_operator()\n",
    "    recursive_operator = generate_random_operator()\n",
    "    comparison_operator = generate_random_comparison()\n",
    "\n",
    "    base_case_code = \"arr[0]\"\n",
    "    if random.choice([True, False]):\n",
    "        if base_case_operator in ['max', 'min']:\n",
    "            base_case_code = f\"{base_case_operator}([arr[0], {base_case_constant}])\"\n",
    "        else:\n",
    "            base_case_code = f\"arr[0] {base_case_operator} {base_case_constant}\"\n",
    "\n",
    "    recursive_part = f\"foo(arr[1:])\"\n",
    "    if recursive_operator in ['max', 'min']:\n",
    "        recursive_part = f\"{recursive_operator}([arr[0], {recursive_part}])\"\n",
    "    else:\n",
    "        recursive_part = f\"arr[0] {recursive_operator} {recursive_part}\"\n",
    "\n",
    "    if random.random()>0.5:\n",
    "        code = f\"\"\"def foo(arr):\n",
    "    if len(arr) == 1:\n",
    "        return {base_case_code}\n",
    "    else:\n",
    "        if arr[0] {comparison_operator} {recursive_case_constant}:\n",
    "            return {recursive_part}\n",
    "        else:\n",
    "            return foo(arr[1:])\n",
    "    \"\"\"\n",
    "    else:\n",
    "        code = f\"\"\"def foo(arr):\n",
    "    if len(arr) == 1:\n",
    "        return {base_case_code}\n",
    "    else:\n",
    "        return {recursive_part}\n",
    "    \"\"\"\n",
    "\n",
    "    return code\n",
    "\n",
    "# Generate random code\n",
    "random_code = generate_random_code()\n",
    "print(random_code)\n",
    "\n",
    "# Example usage:\n",
    "exec(random_code)\n",
    "print(foo([1, 2, 3, 4, 5]))\n"
   ]
  },
  {
   "cell_type": "code",
   "execution_count": 141,
   "id": "1e5324fc",
   "metadata": {},
   "outputs": [
    {
     "name": "stdout",
     "output_type": "stream",
     "text": [
      "Random Array: [2, 9, -22, -6, 3, -5, 3, 1, 17, 11, 7, -39, 2, -8, 5, 0, 2, -5]\n"
     ]
    }
   ],
   "source": [
    "import numpy as np\n",
    "import random\n",
    "\n",
    "def generate_random_array():\n",
    "    length = random.randint(2, 20)  # Randomly choose the length of the array\n",
    "    # Generate the array with absolute values following an exponential distribution\n",
    "    array = [(-1)**random.randint(0, 1) * round(np.random.exponential(scale=8.0)) for _ in range(length)]\n",
    "    return array\n",
    "\n",
    "random_array = generate_random_array()\n",
    "print(\"Random Array:\", random_array)\n"
   ]
  }
 ],
 "metadata": {
  "kernelspec": {
   "display_name": "atp",
   "language": "python",
   "name": "atp"
  },
  "language_info": {
   "codemirror_mode": {
    "name": "ipython",
    "version": 3
   },
   "file_extension": ".py",
   "mimetype": "text/x-python",
   "name": "python",
   "nbconvert_exporter": "python",
   "pygments_lexer": "ipython3",
   "version": "3.10.13"
  }
 },
 "nbformat": 4,
 "nbformat_minor": 5
}
