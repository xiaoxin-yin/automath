{
 "cells": [
  {
   "cell_type": "code",
   "execution_count": null,
   "id": "3ae08b4a",
   "metadata": {},
   "outputs": [
    {
     "name": "stderr",
     "output_type": "stream",
     "text": [
      "\u001b[32m2024-04-20 23:45:14.406\u001b[0m | \u001b[1mINFO    \u001b[0m | \u001b[36mlean_dojo.data_extraction.trace\u001b[0m:\u001b[36mtrace\u001b[0m:\u001b[36m117\u001b[0m - \u001b[1mLoading the traced repo from /home/mcwave/.cache/lean_dojo/yangky11-lean4-example-04e29174a45eefaccb49b835a372aa762321194e/lean4-example\u001b[0m\n",
      "2024-04-20 23:45:16,152\tINFO worker.py:1743 -- Started a local Ray instance. View the dashboard at \u001b[1m\u001b[32m127.0.0.1:8265 \u001b[39m\u001b[22m\n",
      "100%|██████████████████████████████████████████████████████████████████████████████████████████████████████████████████████████████████████████████████████████████████| 740/740 [00:19<00:00, 37.68it/s]\n",
      "Request GET /repos/leanprover/lean4 failed with 403: rate limit exceeded\n",
      "Setting next backoff to 3566.341589s\n"
     ]
    }
   ],
   "source": [
    "from lean_dojo import LeanGitRepo, trace\n",
    "\n",
    "repo = LeanGitRepo(\"https://github.com/yangky11/lean4-example\", \"04e29174a45eefaccb49b835a372aa762321194e\")\n",
    "trace(repo, dst_dir=\"traced_lean4-example\")"
   ]
  },
  {
   "cell_type": "code",
   "execution_count": 7,
   "id": "8201b1a5",
   "metadata": {},
   "outputs": [
    {
     "name": "stderr",
     "output_type": "stream",
     "text": [
      "\u001b[32m2024-04-16 20:35:18.275\u001b[0m | \u001b[33m\u001b[1mWARNING \u001b[0m | \u001b[36mlean_dojo.interaction.dojo\u001b[0m:\u001b[36m__init__\u001b[0m:\u001b[36m162\u001b[0m - \u001b[33m\u001b[1mUsing Lean 4 without a hard timeout may hang indefinitely.\u001b[0m\n",
      "\u001b[32m2024-04-16 20:35:18.279\u001b[0m | \u001b[1mINFO    \u001b[0m | \u001b[36mlean_dojo.data_extraction.trace\u001b[0m:\u001b[36mget_traced_repo_path\u001b[0m:\u001b[36m80\u001b[0m - \u001b[1mTracing LeanGitRepo(url='https://github.com/yangky11/lean4-example', commit='fd14c4c8b29cc74a082e5ae6f64c2fb25b28e15e')\u001b[0m\n"
     ]
    },
    {
     "name": "stdout",
     "output_type": "stream",
     "text": [
      "1\n",
      "cmd: python build_lean4_repo.py lean4-example\n"
     ]
    },
    {
     "name": "stderr",
     "output_type": "stream",
     "text": [
      "2024-04-16 20:35:19.319 | INFO     | __main__:main:165 - Building lean4-example\n"
     ]
    },
    {
     "name": "stdout",
     "output_type": "stream",
     "text": [
      "[0/1] Building Lean4Example\n"
     ]
    },
    {
     "name": "stderr",
     "output_type": "stream",
     "text": [
      "2024-04-16 20:35:19.929 | INFO     | __main__:main:188 - Tracing lean4-example\n",
      "2024-04-16 20:35:19.935 | DEBUG    | __main__:main:193 - /home/mcwave/.elan/bin/lake env lean --threads 20 --run ExtractData.lean\n",
      "  0%|          | 0/721 [00:00<?, ?it/s]Traceback (most recent call last):\n",
      "  File \"/tmp/tmpnjdh2l02/workspace/build_lean4_repo.py\", line 200, in <module>\n",
      "    main()\n",
      "  File \"/tmp/tmpnjdh2l02/workspace/build_lean4_repo.py\", line 194, in main\n",
      "    run_cmd(cmd, capture_output=True)\n",
      "  File \"/tmp/tmpnjdh2l02/workspace/build_lean4_repo.py\", line 29, in run_cmd\n",
      "    res = subprocess.run(cmd, shell=True, capture_output=capture_output, check=True)\n",
      "  File \"/home/mcwave/anaconda3/lib/python3.10/subprocess.py\", line 526, in run\n",
      "    raise CalledProcessError(retcode, process.args,\n",
      "subprocess.CalledProcessError: Command '/home/mcwave/.elan/bin/lake env lean --threads 20 --run ExtractData.lean' returned non-zero exit status 1.\n"
     ]
    },
    {
     "ename": "CalledProcessError",
     "evalue": "Command 'NUM_PROCS=20 python build_lean4_repo.py lean4-example' returned non-zero exit status 1.",
     "output_type": "error",
     "traceback": [
      "\u001b[0;31m---------------------------------------------------------------------------\u001b[0m",
      "\u001b[0;31mCalledProcessError\u001b[0m                        Traceback (most recent call last)",
      "Cell \u001b[0;32mIn[7], line 13\u001b[0m\n\u001b[1;32m      9\u001b[0m theorem \u001b[38;5;241m=\u001b[39m Theorem(repo, \u001b[38;5;124m\"\u001b[39m\u001b[38;5;124mLean4Example.lean\u001b[39m\u001b[38;5;124m\"\u001b[39m, \u001b[38;5;124m\"\u001b[39m\u001b[38;5;124mhello_world\u001b[39m\u001b[38;5;124m\"\u001b[39m)\n\u001b[1;32m     11\u001b[0m \u001b[38;5;28mprint\u001b[39m(\u001b[38;5;241m1\u001b[39m)\n\u001b[0;32m---> 13\u001b[0m \u001b[38;5;28;01mwith\u001b[39;00m Dojo(theorem) \u001b[38;5;28;01mas\u001b[39;00m (dojo, init_state):\n\u001b[1;32m     14\u001b[0m   \u001b[38;5;28mprint\u001b[39m(\u001b[38;5;241m2\u001b[39m)\n\u001b[1;32m     15\u001b[0m   \u001b[38;5;28mprint\u001b[39m(init_state)\n",
      "File \u001b[0;32m~/anaconda3/envs/atp/lib/python3.10/site-packages/lean_dojo/interaction/dojo.py:265\u001b[0m, in \u001b[0;36mDojo.__enter__\u001b[0;34m(self)\u001b[0m\n\u001b[1;32m    263\u001b[0m os\u001b[38;5;241m.\u001b[39mchdir(\u001b[38;5;28mself\u001b[39m\u001b[38;5;241m.\u001b[39morigin_dir)\n\u001b[1;32m    264\u001b[0m shutil\u001b[38;5;241m.\u001b[39mrmtree(\u001b[38;5;28mself\u001b[39m\u001b[38;5;241m.\u001b[39mtmp_dir)\n\u001b[0;32m--> 265\u001b[0m \u001b[38;5;28;01mraise\u001b[39;00m ex\n",
      "File \u001b[0;32m~/anaconda3/envs/atp/lib/python3.10/site-packages/lean_dojo/interaction/dojo.py:185\u001b[0m, in \u001b[0;36mDojo.__enter__\u001b[0;34m(self)\u001b[0m\n\u001b[1;32m    182\u001b[0m os\u001b[38;5;241m.\u001b[39mchdir(\u001b[38;5;28mself\u001b[39m\u001b[38;5;241m.\u001b[39mtmp_dir)\n\u001b[1;32m    184\u001b[0m \u001b[38;5;66;03m# Copy and `cd` into the repo.\u001b[39;00m\n\u001b[0;32m--> 185\u001b[0m traced_repo_path \u001b[38;5;241m=\u001b[39m \u001b[43mget_traced_repo_path\u001b[49m\u001b[43m(\u001b[49m\u001b[38;5;28;43mself\u001b[39;49m\u001b[38;5;241;43m.\u001b[39;49m\u001b[43mrepo\u001b[49m\u001b[43m)\u001b[49m\n\u001b[1;32m    186\u001b[0m shutil\u001b[38;5;241m.\u001b[39mcopytree(\n\u001b[1;32m    187\u001b[0m     traced_repo_path,\n\u001b[1;32m    188\u001b[0m     \u001b[38;5;28mself\u001b[39m\u001b[38;5;241m.\u001b[39mrepo\u001b[38;5;241m.\u001b[39mname,\n\u001b[1;32m    189\u001b[0m     ignore\u001b[38;5;241m=\u001b[39mignore_patterns(\u001b[38;5;124m\"\u001b[39m\u001b[38;5;124m*.dep_paths\u001b[39m\u001b[38;5;124m\"\u001b[39m, \u001b[38;5;124m\"\u001b[39m\u001b[38;5;124m*.ast.json\u001b[39m\u001b[38;5;124m\"\u001b[39m, \u001b[38;5;124m\"\u001b[39m\u001b[38;5;124m*.trace.xml\u001b[39m\u001b[38;5;124m\"\u001b[39m),\n\u001b[1;32m    190\u001b[0m )\n\u001b[1;32m    191\u001b[0m os\u001b[38;5;241m.\u001b[39mchdir(\u001b[38;5;28mself\u001b[39m\u001b[38;5;241m.\u001b[39mrepo\u001b[38;5;241m.\u001b[39mname)\n",
      "File \u001b[0;32m~/anaconda3/envs/atp/lib/python3.10/site-packages/lean_dojo/data_extraction/trace.py:83\u001b[0m, in \u001b[0;36mget_traced_repo_path\u001b[0;34m(repo, build_deps)\u001b[0m\n\u001b[1;32m     81\u001b[0m \u001b[38;5;28;01mwith\u001b[39;00m working_directory() \u001b[38;5;28;01mas\u001b[39;00m tmp_dir:\n\u001b[1;32m     82\u001b[0m     logger\u001b[38;5;241m.\u001b[39mdebug(\u001b[38;5;124mf\u001b[39m\u001b[38;5;124m\"\u001b[39m\u001b[38;5;124mWorking in the temporary directory \u001b[39m\u001b[38;5;132;01m{\u001b[39;00mtmp_dir\u001b[38;5;132;01m}\u001b[39;00m\u001b[38;5;124m\"\u001b[39m)\n\u001b[0;32m---> 83\u001b[0m     \u001b[43m_trace\u001b[49m\u001b[43m(\u001b[49m\u001b[43mrepo\u001b[49m\u001b[43m,\u001b[49m\u001b[43m \u001b[49m\u001b[43mbuild_deps\u001b[49m\u001b[43m)\u001b[49m\n\u001b[1;32m     84\u001b[0m     traced_repo \u001b[38;5;241m=\u001b[39m TracedRepo\u001b[38;5;241m.\u001b[39mfrom_traced_files(tmp_dir \u001b[38;5;241m/\u001b[39m repo\u001b[38;5;241m.\u001b[39mname, build_deps)\n\u001b[1;32m     85\u001b[0m     traced_repo\u001b[38;5;241m.\u001b[39msave_to_disk()\n",
      "File \u001b[0;32m~/anaconda3/envs/atp/lib/python3.10/site-packages/lean_dojo/data_extraction/trace.py:58\u001b[0m, in \u001b[0;36m_trace\u001b[0;34m(repo, build_deps)\u001b[0m\n\u001b[1;32m     54\u001b[0m \u001b[38;5;28;01mif\u001b[39;00m repo\u001b[38;5;241m.\u001b[39mis_lean4 \u001b[38;5;129;01mand\u001b[39;00m \u001b[38;5;28misinstance\u001b[39m(container, NativeContainer):\n\u001b[1;32m     55\u001b[0m     logger\u001b[38;5;241m.\u001b[39merror(\n\u001b[1;32m     56\u001b[0m         \u001b[38;5;124m\"\u001b[39m\u001b[38;5;124mFailed to build Lean 4 without Docker. See https://leandojo.readthedocs.io/en/latest/user-guide.html#advanced-running-within-docker.\u001b[39m\u001b[38;5;124m\"\u001b[39m\n\u001b[1;32m     57\u001b[0m     )\n\u001b[0;32m---> 58\u001b[0m \u001b[38;5;28;01mraise\u001b[39;00m ex\n",
      "File \u001b[0;32m~/anaconda3/envs/atp/lib/python3.10/site-packages/lean_dojo/data_extraction/trace.py:46\u001b[0m, in \u001b[0;36m_trace\u001b[0;34m(repo, build_deps)\u001b[0m\n\u001b[1;32m     44\u001b[0m \u001b[38;5;28;01mtry\u001b[39;00m:\n\u001b[1;32m     45\u001b[0m     \u001b[38;5;28mprint\u001b[39m(\u001b[38;5;124m\"\u001b[39m\u001b[38;5;124mcmd:\u001b[39m\u001b[38;5;124m\"\u001b[39m, cmd)\n\u001b[0;32m---> 46\u001b[0m     \u001b[43mcontainer\u001b[49m\u001b[38;5;241;43m.\u001b[39;49m\u001b[43mrun\u001b[49m\u001b[43m(\u001b[49m\n\u001b[1;32m     47\u001b[0m \u001b[43m        \u001b[49m\u001b[43mcmd\u001b[49m\u001b[43m,\u001b[49m\n\u001b[1;32m     48\u001b[0m \u001b[43m        \u001b[49m\u001b[43mcreate_mounts\u001b[49m\u001b[43m(\u001b[49m\u001b[43mmts\u001b[49m\u001b[43m)\u001b[49m\u001b[43m,\u001b[49m\n\u001b[1;32m     49\u001b[0m \u001b[43m        \u001b[49m\u001b[43m{\u001b[49m\u001b[38;5;124;43m\"\u001b[39;49m\u001b[38;5;124;43mNUM_PROCS\u001b[39;49m\u001b[38;5;124;43m\"\u001b[39;49m\u001b[43m:\u001b[49m\u001b[43m \u001b[49m\u001b[43mNUM_PROCS\u001b[49m\u001b[43m}\u001b[49m\u001b[43m,\u001b[49m\n\u001b[1;32m     50\u001b[0m \u001b[43m        \u001b[49m\u001b[43mas_current_user\u001b[49m\u001b[38;5;241;43m=\u001b[39;49m\u001b[38;5;28;43;01mTrue\u001b[39;49;00m\u001b[43m,\u001b[49m\n\u001b[1;32m     51\u001b[0m \u001b[43m        \u001b[49m\u001b[43mwork_dir\u001b[49m\u001b[38;5;241;43m=\u001b[39;49m\u001b[38;5;124;43m\"\u001b[39;49m\u001b[38;5;124;43m/workspace\u001b[39;49m\u001b[38;5;124;43m\"\u001b[39;49m\u001b[43m,\u001b[49m\n\u001b[1;32m     52\u001b[0m \u001b[43m    \u001b[49m\u001b[43m)\u001b[49m\n\u001b[1;32m     53\u001b[0m \u001b[38;5;28;01mexcept\u001b[39;00m CalledProcessError \u001b[38;5;28;01mas\u001b[39;00m ex:\n\u001b[1;32m     54\u001b[0m     \u001b[38;5;28;01mif\u001b[39;00m repo\u001b[38;5;241m.\u001b[39mis_lean4 \u001b[38;5;129;01mand\u001b[39;00m \u001b[38;5;28misinstance\u001b[39m(container, NativeContainer):\n",
      "File \u001b[0;32m~/anaconda3/envs/atp/lib/python3.10/site-packages/lean_dojo/container.py:194\u001b[0m, in \u001b[0;36mNativeContainer.run\u001b[0;34m(self, command, mounts, envs, as_current_user, capture_output, cpu_limit, memory_limit, work_dir)\u001b[0m\n\u001b[1;32m    191\u001b[0m         work_dir \u001b[38;5;241m=\u001b[39m Path\u001b[38;5;241m.\u001b[39mcwd() \u001b[38;5;241m/\u001b[39m work_dir\u001b[38;5;241m.\u001b[39mrelative_to(work_dir\u001b[38;5;241m.\u001b[39mroot)\n\u001b[1;32m    193\u001b[0m \u001b[38;5;28;01mwith\u001b[39;00m working_directory(work_dir):\n\u001b[0;32m--> 194\u001b[0m     \u001b[43mexecute\u001b[49m\u001b[43m(\u001b[49m\u001b[43mcmd\u001b[49m\u001b[43m,\u001b[49m\u001b[43m \u001b[49m\u001b[43mcapture_output\u001b[49m\u001b[38;5;241;43m=\u001b[39;49m\u001b[43mcapture_output\u001b[49m\u001b[43m)\u001b[49m\n\u001b[1;32m    196\u001b[0m \u001b[38;5;28mself\u001b[39m\u001b[38;5;241m.\u001b[39m_unmount_files(mounts)\n",
      "File \u001b[0;32m~/anaconda3/envs/atp/lib/python3.10/site-packages/lean_dojo/utils.py:116\u001b[0m, in \u001b[0;36mexecute\u001b[0;34m(cmd, capture_output)\u001b[0m\n\u001b[1;32m    114\u001b[0m         logger\u001b[38;5;241m.\u001b[39minfo(ex\u001b[38;5;241m.\u001b[39mstdout\u001b[38;5;241m.\u001b[39mdecode())\n\u001b[1;32m    115\u001b[0m         logger\u001b[38;5;241m.\u001b[39merror(ex\u001b[38;5;241m.\u001b[39mstderr\u001b[38;5;241m.\u001b[39mdecode())\n\u001b[0;32m--> 116\u001b[0m     \u001b[38;5;28;01mraise\u001b[39;00m ex\n\u001b[1;32m    117\u001b[0m \u001b[38;5;28;01mif\u001b[39;00m \u001b[38;5;129;01mnot\u001b[39;00m capture_output:\n\u001b[1;32m    118\u001b[0m     \u001b[38;5;28;01mreturn\u001b[39;00m \u001b[38;5;28;01mNone\u001b[39;00m\n",
      "File \u001b[0;32m~/anaconda3/envs/atp/lib/python3.10/site-packages/lean_dojo/utils.py:111\u001b[0m, in \u001b[0;36mexecute\u001b[0;34m(cmd, capture_output)\u001b[0m\n\u001b[1;32m    101\u001b[0m \u001b[38;5;250m\u001b[39m\u001b[38;5;124;03m\"\"\"Execute the shell command ``cmd`` and optionally return its output.\u001b[39;00m\n\u001b[1;32m    102\u001b[0m \n\u001b[1;32m    103\u001b[0m \u001b[38;5;124;03mArgs:\u001b[39;00m\n\u001b[0;32m   (...)\u001b[0m\n\u001b[1;32m    108\u001b[0m \u001b[38;5;124;03m    Optional[Tuple[str, str]]: The command's output, including stdout and stderr (None if ``capture_output == False``).\u001b[39;00m\n\u001b[1;32m    109\u001b[0m \u001b[38;5;124;03m\"\"\"\u001b[39;00m\n\u001b[1;32m    110\u001b[0m \u001b[38;5;28;01mtry\u001b[39;00m:\n\u001b[0;32m--> 111\u001b[0m     res \u001b[38;5;241m=\u001b[39m \u001b[43msubprocess\u001b[49m\u001b[38;5;241;43m.\u001b[39;49m\u001b[43mrun\u001b[49m\u001b[43m(\u001b[49m\u001b[43mcmd\u001b[49m\u001b[43m,\u001b[49m\u001b[43m \u001b[49m\u001b[43mshell\u001b[49m\u001b[38;5;241;43m=\u001b[39;49m\u001b[38;5;28;43;01mTrue\u001b[39;49;00m\u001b[43m,\u001b[49m\u001b[43m \u001b[49m\u001b[43mcapture_output\u001b[49m\u001b[38;5;241;43m=\u001b[39;49m\u001b[43mcapture_output\u001b[49m\u001b[43m,\u001b[49m\u001b[43m \u001b[49m\u001b[43mcheck\u001b[49m\u001b[38;5;241;43m=\u001b[39;49m\u001b[38;5;28;43;01mTrue\u001b[39;49;00m\u001b[43m)\u001b[49m\n\u001b[1;32m    112\u001b[0m \u001b[38;5;28;01mexcept\u001b[39;00m subprocess\u001b[38;5;241m.\u001b[39mCalledProcessError \u001b[38;5;28;01mas\u001b[39;00m ex:\n\u001b[1;32m    113\u001b[0m     \u001b[38;5;28;01mif\u001b[39;00m capture_output:\n",
      "File \u001b[0;32m~/anaconda3/envs/atp/lib/python3.10/subprocess.py:526\u001b[0m, in \u001b[0;36mrun\u001b[0;34m(input, capture_output, timeout, check, *popenargs, **kwargs)\u001b[0m\n\u001b[1;32m    524\u001b[0m     retcode \u001b[38;5;241m=\u001b[39m process\u001b[38;5;241m.\u001b[39mpoll()\n\u001b[1;32m    525\u001b[0m     \u001b[38;5;28;01mif\u001b[39;00m check \u001b[38;5;129;01mand\u001b[39;00m retcode:\n\u001b[0;32m--> 526\u001b[0m         \u001b[38;5;28;01mraise\u001b[39;00m CalledProcessError(retcode, process\u001b[38;5;241m.\u001b[39margs,\n\u001b[1;32m    527\u001b[0m                                  output\u001b[38;5;241m=\u001b[39mstdout, stderr\u001b[38;5;241m=\u001b[39mstderr)\n\u001b[1;32m    528\u001b[0m \u001b[38;5;28;01mreturn\u001b[39;00m CompletedProcess(process\u001b[38;5;241m.\u001b[39margs, retcode, stdout, stderr)\n",
      "\u001b[0;31mCalledProcessError\u001b[0m: Command 'NUM_PROCS=20 python build_lean4_repo.py lean4-example' returned non-zero exit status 1."
     ]
    }
   ],
   "source": [
    "import pickle\n",
    "from lean_dojo import *\n",
    "\n",
    "fin = open('lean4-example.repo', 'rb')\n",
    "repo = pickle.load(fin)\n",
    "fin.close()\n",
    "\n",
    "#repo = LeanGitRepo(\"https://github.com/yangky11/lean4-example\", \"fd14c4c8b29cc74a082e5ae6f64c2fb25b28e15e\")\n",
    "theorem = Theorem(repo, \"Lean4Example.lean\", \"hello_world\")\n",
    "\n",
    "print(1)\n",
    "\n",
    "with Dojo(theorem) as (dojo, init_state):\n",
    "  print(2)\n",
    "  print(init_state)\n",
    "  result = dojo.run_tac(init_state, \"rw [add_assoc, add_comm b, ←add_assoc]\")\n",
    "  print(3)\n",
    "  assert isinstance(result, ProofFinished)\n",
    "  print(result)"
   ]
  },
  {
   "cell_type": "code",
   "execution_count": 11,
   "id": "62614472",
   "metadata": {},
   "outputs": [
    {
     "name": "stderr",
     "output_type": "stream",
     "text": [
      "\u001b[32m2024-04-16 20:38:14.724\u001b[0m | \u001b[1mINFO    \u001b[0m | \u001b[36mlean_dojo.data_extraction.trace\u001b[0m:\u001b[36mget_traced_repo_path\u001b[0m:\u001b[36m80\u001b[0m - \u001b[1mTracing LeanGitRepo(url='https://github.com/yangky11/lean4-example', commit='fd14c4c8b29cc74a082e5ae6f64c2fb25b28e15e')\u001b[0m\n"
     ]
    },
    {
     "name": "stdout",
     "output_type": "stream",
     "text": [
      "cmd: python build_lean4_repo.py lean4-example\n"
     ]
    },
    {
     "name": "stderr",
     "output_type": "stream",
     "text": [
      "2024-04-16 20:38:15.893 | INFO     | __main__:main:165 - Building lean4-example\n"
     ]
    },
    {
     "name": "stdout",
     "output_type": "stream",
     "text": [
      "[0/1] Building Lean4Example\n"
     ]
    },
    {
     "name": "stderr",
     "output_type": "stream",
     "text": [
      "2024-04-16 20:38:16.504 | INFO     | __main__:main:188 - Tracing lean4-example\n",
      "2024-04-16 20:38:16.510 | DEBUG    | __main__:main:193 - /home/mcwave/.elan/bin/lake env lean --threads 20 --run ExtractData.lean\n",
      "  0%|          | 0/721 [00:00<?, ?it/s]Traceback (most recent call last):\n",
      "  File \"/tmp/tmp3nwnr3we/workspace/build_lean4_repo.py\", line 200, in <module>\n",
      "    main()\n",
      "  File \"/tmp/tmp3nwnr3we/workspace/build_lean4_repo.py\", line 194, in main\n",
      "    run_cmd(cmd, capture_output=True)\n",
      "  File \"/tmp/tmp3nwnr3we/workspace/build_lean4_repo.py\", line 29, in run_cmd\n",
      "    res = subprocess.run(cmd, shell=True, capture_output=capture_output, check=True)\n",
      "  File \"/home/mcwave/anaconda3/lib/python3.10/subprocess.py\", line 526, in run\n",
      "    raise CalledProcessError(retcode, process.args,\n",
      "subprocess.CalledProcessError: Command '/home/mcwave/.elan/bin/lake env lean --threads 20 --run ExtractData.lean' returned non-zero exit status 1.\n"
     ]
    },
    {
     "ename": "CalledProcessError",
     "evalue": "Command 'NUM_PROCS=20 python build_lean4_repo.py lean4-example' returned non-zero exit status 1.",
     "output_type": "error",
     "traceback": [
      "\u001b[0;31m---------------------------------------------------------------------------\u001b[0m",
      "\u001b[0;31mCalledProcessError\u001b[0m                        Traceback (most recent call last)",
      "Cell \u001b[0;32mIn[11], line 1\u001b[0m\n\u001b[0;32m----> 1\u001b[0m \u001b[43mtrace\u001b[49m\u001b[43m(\u001b[49m\u001b[43mrepo\u001b[49m\u001b[43m,\u001b[49m\u001b[43m \u001b[49m\u001b[43mdst_dir\u001b[49m\u001b[38;5;241;43m=\u001b[39;49m\u001b[38;5;124;43m\"\u001b[39;49m\u001b[38;5;124;43mtraced_lean4-example\u001b[39;49m\u001b[38;5;124;43m\"\u001b[39;49m\u001b[43m)\u001b[49m\n",
      "File \u001b[0;32m~/anaconda3/envs/atp/lib/python3.10/site-packages/lean_dojo/data_extraction/trace.py:116\u001b[0m, in \u001b[0;36mtrace\u001b[0;34m(repo, dst_dir, build_deps)\u001b[0m\n\u001b[1;32m    111\u001b[0m     dst_dir \u001b[38;5;241m=\u001b[39m Path(dst_dir)\n\u001b[1;32m    112\u001b[0m     \u001b[38;5;28;01massert\u001b[39;00m (\n\u001b[1;32m    113\u001b[0m         \u001b[38;5;129;01mnot\u001b[39;00m dst_dir\u001b[38;5;241m.\u001b[39mexists()\n\u001b[1;32m    114\u001b[0m     ), \u001b[38;5;124mf\u001b[39m\u001b[38;5;124m\"\u001b[39m\u001b[38;5;124mThe destination directory \u001b[39m\u001b[38;5;132;01m{\u001b[39;00mdst_dir\u001b[38;5;132;01m}\u001b[39;00m\u001b[38;5;124m already exists.\u001b[39m\u001b[38;5;124m\"\u001b[39m\n\u001b[0;32m--> 116\u001b[0m cached_path \u001b[38;5;241m=\u001b[39m \u001b[43mget_traced_repo_path\u001b[49m\u001b[43m(\u001b[49m\u001b[43mrepo\u001b[49m\u001b[43m,\u001b[49m\u001b[43m \u001b[49m\u001b[43mbuild_deps\u001b[49m\u001b[43m)\u001b[49m\n\u001b[1;32m    117\u001b[0m logger\u001b[38;5;241m.\u001b[39minfo(\u001b[38;5;124mf\u001b[39m\u001b[38;5;124m\"\u001b[39m\u001b[38;5;124mLoading the traced repo from \u001b[39m\u001b[38;5;132;01m{\u001b[39;00mcached_path\u001b[38;5;132;01m}\u001b[39;00m\u001b[38;5;124m\"\u001b[39m)\n\u001b[1;32m    118\u001b[0m traced_repo \u001b[38;5;241m=\u001b[39m TracedRepo\u001b[38;5;241m.\u001b[39mload_from_disk(cached_path, build_deps)\n",
      "File \u001b[0;32m~/anaconda3/envs/atp/lib/python3.10/site-packages/lean_dojo/data_extraction/trace.py:83\u001b[0m, in \u001b[0;36mget_traced_repo_path\u001b[0;34m(repo, build_deps)\u001b[0m\n\u001b[1;32m     81\u001b[0m \u001b[38;5;28;01mwith\u001b[39;00m working_directory() \u001b[38;5;28;01mas\u001b[39;00m tmp_dir:\n\u001b[1;32m     82\u001b[0m     logger\u001b[38;5;241m.\u001b[39mdebug(\u001b[38;5;124mf\u001b[39m\u001b[38;5;124m\"\u001b[39m\u001b[38;5;124mWorking in the temporary directory \u001b[39m\u001b[38;5;132;01m{\u001b[39;00mtmp_dir\u001b[38;5;132;01m}\u001b[39;00m\u001b[38;5;124m\"\u001b[39m)\n\u001b[0;32m---> 83\u001b[0m     \u001b[43m_trace\u001b[49m\u001b[43m(\u001b[49m\u001b[43mrepo\u001b[49m\u001b[43m,\u001b[49m\u001b[43m \u001b[49m\u001b[43mbuild_deps\u001b[49m\u001b[43m)\u001b[49m\n\u001b[1;32m     84\u001b[0m     traced_repo \u001b[38;5;241m=\u001b[39m TracedRepo\u001b[38;5;241m.\u001b[39mfrom_traced_files(tmp_dir \u001b[38;5;241m/\u001b[39m repo\u001b[38;5;241m.\u001b[39mname, build_deps)\n\u001b[1;32m     85\u001b[0m     traced_repo\u001b[38;5;241m.\u001b[39msave_to_disk()\n",
      "File \u001b[0;32m~/anaconda3/envs/atp/lib/python3.10/site-packages/lean_dojo/data_extraction/trace.py:58\u001b[0m, in \u001b[0;36m_trace\u001b[0;34m(repo, build_deps)\u001b[0m\n\u001b[1;32m     54\u001b[0m \u001b[38;5;28;01mif\u001b[39;00m repo\u001b[38;5;241m.\u001b[39mis_lean4 \u001b[38;5;129;01mand\u001b[39;00m \u001b[38;5;28misinstance\u001b[39m(container, NativeContainer):\n\u001b[1;32m     55\u001b[0m     logger\u001b[38;5;241m.\u001b[39merror(\n\u001b[1;32m     56\u001b[0m         \u001b[38;5;124m\"\u001b[39m\u001b[38;5;124mFailed to build Lean 4 without Docker. See https://leandojo.readthedocs.io/en/latest/user-guide.html#advanced-running-within-docker.\u001b[39m\u001b[38;5;124m\"\u001b[39m\n\u001b[1;32m     57\u001b[0m     )\n\u001b[0;32m---> 58\u001b[0m \u001b[38;5;28;01mraise\u001b[39;00m ex\n",
      "File \u001b[0;32m~/anaconda3/envs/atp/lib/python3.10/site-packages/lean_dojo/data_extraction/trace.py:46\u001b[0m, in \u001b[0;36m_trace\u001b[0;34m(repo, build_deps)\u001b[0m\n\u001b[1;32m     44\u001b[0m \u001b[38;5;28;01mtry\u001b[39;00m:\n\u001b[1;32m     45\u001b[0m     \u001b[38;5;28mprint\u001b[39m(\u001b[38;5;124m\"\u001b[39m\u001b[38;5;124mcmd:\u001b[39m\u001b[38;5;124m\"\u001b[39m, cmd)\n\u001b[0;32m---> 46\u001b[0m     \u001b[43mcontainer\u001b[49m\u001b[38;5;241;43m.\u001b[39;49m\u001b[43mrun\u001b[49m\u001b[43m(\u001b[49m\n\u001b[1;32m     47\u001b[0m \u001b[43m        \u001b[49m\u001b[43mcmd\u001b[49m\u001b[43m,\u001b[49m\n\u001b[1;32m     48\u001b[0m \u001b[43m        \u001b[49m\u001b[43mcreate_mounts\u001b[49m\u001b[43m(\u001b[49m\u001b[43mmts\u001b[49m\u001b[43m)\u001b[49m\u001b[43m,\u001b[49m\n\u001b[1;32m     49\u001b[0m \u001b[43m        \u001b[49m\u001b[43m{\u001b[49m\u001b[38;5;124;43m\"\u001b[39;49m\u001b[38;5;124;43mNUM_PROCS\u001b[39;49m\u001b[38;5;124;43m\"\u001b[39;49m\u001b[43m:\u001b[49m\u001b[43m \u001b[49m\u001b[43mNUM_PROCS\u001b[49m\u001b[43m}\u001b[49m\u001b[43m,\u001b[49m\n\u001b[1;32m     50\u001b[0m \u001b[43m        \u001b[49m\u001b[43mas_current_user\u001b[49m\u001b[38;5;241;43m=\u001b[39;49m\u001b[38;5;28;43;01mTrue\u001b[39;49;00m\u001b[43m,\u001b[49m\n\u001b[1;32m     51\u001b[0m \u001b[43m        \u001b[49m\u001b[43mwork_dir\u001b[49m\u001b[38;5;241;43m=\u001b[39;49m\u001b[38;5;124;43m\"\u001b[39;49m\u001b[38;5;124;43m/workspace\u001b[39;49m\u001b[38;5;124;43m\"\u001b[39;49m\u001b[43m,\u001b[49m\n\u001b[1;32m     52\u001b[0m \u001b[43m    \u001b[49m\u001b[43m)\u001b[49m\n\u001b[1;32m     53\u001b[0m \u001b[38;5;28;01mexcept\u001b[39;00m CalledProcessError \u001b[38;5;28;01mas\u001b[39;00m ex:\n\u001b[1;32m     54\u001b[0m     \u001b[38;5;28;01mif\u001b[39;00m repo\u001b[38;5;241m.\u001b[39mis_lean4 \u001b[38;5;129;01mand\u001b[39;00m \u001b[38;5;28misinstance\u001b[39m(container, NativeContainer):\n",
      "File \u001b[0;32m~/anaconda3/envs/atp/lib/python3.10/site-packages/lean_dojo/container.py:194\u001b[0m, in \u001b[0;36mNativeContainer.run\u001b[0;34m(self, command, mounts, envs, as_current_user, capture_output, cpu_limit, memory_limit, work_dir)\u001b[0m\n\u001b[1;32m    191\u001b[0m         work_dir \u001b[38;5;241m=\u001b[39m Path\u001b[38;5;241m.\u001b[39mcwd() \u001b[38;5;241m/\u001b[39m work_dir\u001b[38;5;241m.\u001b[39mrelative_to(work_dir\u001b[38;5;241m.\u001b[39mroot)\n\u001b[1;32m    193\u001b[0m \u001b[38;5;28;01mwith\u001b[39;00m working_directory(work_dir):\n\u001b[0;32m--> 194\u001b[0m     \u001b[43mexecute\u001b[49m\u001b[43m(\u001b[49m\u001b[43mcmd\u001b[49m\u001b[43m,\u001b[49m\u001b[43m \u001b[49m\u001b[43mcapture_output\u001b[49m\u001b[38;5;241;43m=\u001b[39;49m\u001b[43mcapture_output\u001b[49m\u001b[43m)\u001b[49m\n\u001b[1;32m    196\u001b[0m \u001b[38;5;28mself\u001b[39m\u001b[38;5;241m.\u001b[39m_unmount_files(mounts)\n",
      "File \u001b[0;32m~/anaconda3/envs/atp/lib/python3.10/site-packages/lean_dojo/utils.py:116\u001b[0m, in \u001b[0;36mexecute\u001b[0;34m(cmd, capture_output)\u001b[0m\n\u001b[1;32m    114\u001b[0m         logger\u001b[38;5;241m.\u001b[39minfo(ex\u001b[38;5;241m.\u001b[39mstdout\u001b[38;5;241m.\u001b[39mdecode())\n\u001b[1;32m    115\u001b[0m         logger\u001b[38;5;241m.\u001b[39merror(ex\u001b[38;5;241m.\u001b[39mstderr\u001b[38;5;241m.\u001b[39mdecode())\n\u001b[0;32m--> 116\u001b[0m     \u001b[38;5;28;01mraise\u001b[39;00m ex\n\u001b[1;32m    117\u001b[0m \u001b[38;5;28;01mif\u001b[39;00m \u001b[38;5;129;01mnot\u001b[39;00m capture_output:\n\u001b[1;32m    118\u001b[0m     \u001b[38;5;28;01mreturn\u001b[39;00m \u001b[38;5;28;01mNone\u001b[39;00m\n",
      "File \u001b[0;32m~/anaconda3/envs/atp/lib/python3.10/site-packages/lean_dojo/utils.py:111\u001b[0m, in \u001b[0;36mexecute\u001b[0;34m(cmd, capture_output)\u001b[0m\n\u001b[1;32m    101\u001b[0m \u001b[38;5;250m\u001b[39m\u001b[38;5;124;03m\"\"\"Execute the shell command ``cmd`` and optionally return its output.\u001b[39;00m\n\u001b[1;32m    102\u001b[0m \n\u001b[1;32m    103\u001b[0m \u001b[38;5;124;03mArgs:\u001b[39;00m\n\u001b[0;32m   (...)\u001b[0m\n\u001b[1;32m    108\u001b[0m \u001b[38;5;124;03m    Optional[Tuple[str, str]]: The command's output, including stdout and stderr (None if ``capture_output == False``).\u001b[39;00m\n\u001b[1;32m    109\u001b[0m \u001b[38;5;124;03m\"\"\"\u001b[39;00m\n\u001b[1;32m    110\u001b[0m \u001b[38;5;28;01mtry\u001b[39;00m:\n\u001b[0;32m--> 111\u001b[0m     res \u001b[38;5;241m=\u001b[39m \u001b[43msubprocess\u001b[49m\u001b[38;5;241;43m.\u001b[39;49m\u001b[43mrun\u001b[49m\u001b[43m(\u001b[49m\u001b[43mcmd\u001b[49m\u001b[43m,\u001b[49m\u001b[43m \u001b[49m\u001b[43mshell\u001b[49m\u001b[38;5;241;43m=\u001b[39;49m\u001b[38;5;28;43;01mTrue\u001b[39;49;00m\u001b[43m,\u001b[49m\u001b[43m \u001b[49m\u001b[43mcapture_output\u001b[49m\u001b[38;5;241;43m=\u001b[39;49m\u001b[43mcapture_output\u001b[49m\u001b[43m,\u001b[49m\u001b[43m \u001b[49m\u001b[43mcheck\u001b[49m\u001b[38;5;241;43m=\u001b[39;49m\u001b[38;5;28;43;01mTrue\u001b[39;49;00m\u001b[43m)\u001b[49m\n\u001b[1;32m    112\u001b[0m \u001b[38;5;28;01mexcept\u001b[39;00m subprocess\u001b[38;5;241m.\u001b[39mCalledProcessError \u001b[38;5;28;01mas\u001b[39;00m ex:\n\u001b[1;32m    113\u001b[0m     \u001b[38;5;28;01mif\u001b[39;00m capture_output:\n",
      "File \u001b[0;32m~/anaconda3/envs/atp/lib/python3.10/subprocess.py:526\u001b[0m, in \u001b[0;36mrun\u001b[0;34m(input, capture_output, timeout, check, *popenargs, **kwargs)\u001b[0m\n\u001b[1;32m    524\u001b[0m     retcode \u001b[38;5;241m=\u001b[39m process\u001b[38;5;241m.\u001b[39mpoll()\n\u001b[1;32m    525\u001b[0m     \u001b[38;5;28;01mif\u001b[39;00m check \u001b[38;5;129;01mand\u001b[39;00m retcode:\n\u001b[0;32m--> 526\u001b[0m         \u001b[38;5;28;01mraise\u001b[39;00m CalledProcessError(retcode, process\u001b[38;5;241m.\u001b[39margs,\n\u001b[1;32m    527\u001b[0m                                  output\u001b[38;5;241m=\u001b[39mstdout, stderr\u001b[38;5;241m=\u001b[39mstderr)\n\u001b[1;32m    528\u001b[0m \u001b[38;5;28;01mreturn\u001b[39;00m CompletedProcess(process\u001b[38;5;241m.\u001b[39margs, retcode, stdout, stderr)\n",
      "\u001b[0;31mCalledProcessError\u001b[0m: Command 'NUM_PROCS=20 python build_lean4_repo.py lean4-example' returned non-zero exit status 1."
     ]
    }
   ],
   "source": [
    "trace(repo, dst_dir=\"traced_lean4-example\")"
   ]
  },
  {
   "cell_type": "code",
   "execution_count": 1,
   "id": "bb20515e",
   "metadata": {},
   "outputs": [],
   "source": [
    "import pickle\n",
    "from lean_dojo import *\n",
    "\n",
    "fin = open('lean4-example.repo', 'rb')\n",
    "repo = pickle.load(fin)\n",
    "fin.close()\n",
    "\n",
    "theorem = Theorem(repo, \"Lean4Example.lean\", \"hello_world\")"
   ]
  },
  {
   "cell_type": "code",
   "execution_count": 2,
   "id": "b60c2909",
   "metadata": {},
   "outputs": [
    {
     "name": "stderr",
     "output_type": "stream",
     "text": [
      "\u001b[32m2024-04-19 23:19:53.368\u001b[0m | \u001b[33m\u001b[1mWARNING \u001b[0m | \u001b[36mlean_dojo.interaction.dojo\u001b[0m:\u001b[36m__init__\u001b[0m:\u001b[36m162\u001b[0m - \u001b[33m\u001b[1mUsing Lean 4 without a hard timeout may hang indefinitely.\u001b[0m\n",
      "\u001b[32m2024-04-19 23:19:53.552\u001b[0m | \u001b[1mINFO    \u001b[0m | \u001b[36mlean_dojo.data_extraction.trace\u001b[0m:\u001b[36mget_traced_repo_path\u001b[0m:\u001b[36m80\u001b[0m - \u001b[1mTracing LeanGitRepo(url='https://github.com/yangky11/lean4-example', commit='fd14c4c8b29cc74a082e5ae6f64c2fb25b28e15e')\u001b[0m\n"
     ]
    },
    {
     "name": "stdout",
     "output_type": "stream",
     "text": [
      "cmd: python build_lean4_repo.py lean4-example\n"
     ]
    },
    {
     "name": "stderr",
     "output_type": "stream",
     "text": [
      "2024-04-19 23:19:58.055 | INFO     | __main__:main:165 - Building lean4-example\n"
     ]
    },
    {
     "name": "stdout",
     "output_type": "stream",
     "text": [
      "[0/1] Building Lean4Example\n"
     ]
    },
    {
     "name": "stderr",
     "output_type": "stream",
     "text": [
      "2024-04-19 23:19:58.595 | INFO     | __main__:main:188 - Tracing lean4-example\n",
      "2024-04-19 23:19:58.601 | DEBUG    | __main__:main:193 - /home/mcwave/.elan/bin/lake env lean --threads 20 --run ExtractData.lean\n",
      "  0%|          | 0/721 [00:00<?, ?it/s]Traceback (most recent call last):\n",
      "  File \"/tmp/tmpmamegp7p/workspace/build_lean4_repo.py\", line 200, in <module>\n",
      "    main()\n",
      "  File \"/tmp/tmpmamegp7p/workspace/build_lean4_repo.py\", line 194, in main\n",
      "    run_cmd(cmd, capture_output=True)\n",
      "  File \"/tmp/tmpmamegp7p/workspace/build_lean4_repo.py\", line 29, in run_cmd\n",
      "    res = subprocess.run(cmd, shell=True, capture_output=capture_output, check=True)\n",
      "  File \"/home/mcwave/anaconda3/lib/python3.10/subprocess.py\", line 526, in run\n",
      "    raise CalledProcessError(retcode, process.args,\n",
      "subprocess.CalledProcessError: Command '/home/mcwave/.elan/bin/lake env lean --threads 20 --run ExtractData.lean' returned non-zero exit status 1.\n"
     ]
    },
    {
     "ename": "CalledProcessError",
     "evalue": "Command 'NUM_PROCS=20 python build_lean4_repo.py lean4-example' returned non-zero exit status 1.",
     "output_type": "error",
     "traceback": [
      "\u001b[0;31m---------------------------------------------------------------------------\u001b[0m",
      "\u001b[0;31mCalledProcessError\u001b[0m                        Traceback (most recent call last)",
      "Cell \u001b[0;32mIn[2], line 1\u001b[0m\n\u001b[0;32m----> 1\u001b[0m \u001b[38;5;28;01mwith\u001b[39;00m Dojo(theorem) \u001b[38;5;28;01mas\u001b[39;00m (dojo, init_state):\n\u001b[1;32m      2\u001b[0m   \u001b[38;5;28mprint\u001b[39m(\u001b[38;5;241m2\u001b[39m)\n\u001b[1;32m      3\u001b[0m   \u001b[38;5;28mprint\u001b[39m(init_state)\n",
      "File \u001b[0;32m~/anaconda3/envs/atp/lib/python3.10/site-packages/lean_dojo/interaction/dojo.py:265\u001b[0m, in \u001b[0;36mDojo.__enter__\u001b[0;34m(self)\u001b[0m\n\u001b[1;32m    263\u001b[0m os\u001b[38;5;241m.\u001b[39mchdir(\u001b[38;5;28mself\u001b[39m\u001b[38;5;241m.\u001b[39morigin_dir)\n\u001b[1;32m    264\u001b[0m shutil\u001b[38;5;241m.\u001b[39mrmtree(\u001b[38;5;28mself\u001b[39m\u001b[38;5;241m.\u001b[39mtmp_dir)\n\u001b[0;32m--> 265\u001b[0m \u001b[38;5;28;01mraise\u001b[39;00m ex\n",
      "File \u001b[0;32m~/anaconda3/envs/atp/lib/python3.10/site-packages/lean_dojo/interaction/dojo.py:185\u001b[0m, in \u001b[0;36mDojo.__enter__\u001b[0;34m(self)\u001b[0m\n\u001b[1;32m    182\u001b[0m os\u001b[38;5;241m.\u001b[39mchdir(\u001b[38;5;28mself\u001b[39m\u001b[38;5;241m.\u001b[39mtmp_dir)\n\u001b[1;32m    184\u001b[0m \u001b[38;5;66;03m# Copy and `cd` into the repo.\u001b[39;00m\n\u001b[0;32m--> 185\u001b[0m traced_repo_path \u001b[38;5;241m=\u001b[39m \u001b[43mget_traced_repo_path\u001b[49m\u001b[43m(\u001b[49m\u001b[38;5;28;43mself\u001b[39;49m\u001b[38;5;241;43m.\u001b[39;49m\u001b[43mrepo\u001b[49m\u001b[43m)\u001b[49m\n\u001b[1;32m    186\u001b[0m shutil\u001b[38;5;241m.\u001b[39mcopytree(\n\u001b[1;32m    187\u001b[0m     traced_repo_path,\n\u001b[1;32m    188\u001b[0m     \u001b[38;5;28mself\u001b[39m\u001b[38;5;241m.\u001b[39mrepo\u001b[38;5;241m.\u001b[39mname,\n\u001b[1;32m    189\u001b[0m     ignore\u001b[38;5;241m=\u001b[39mignore_patterns(\u001b[38;5;124m\"\u001b[39m\u001b[38;5;124m*.dep_paths\u001b[39m\u001b[38;5;124m\"\u001b[39m, \u001b[38;5;124m\"\u001b[39m\u001b[38;5;124m*.ast.json\u001b[39m\u001b[38;5;124m\"\u001b[39m, \u001b[38;5;124m\"\u001b[39m\u001b[38;5;124m*.trace.xml\u001b[39m\u001b[38;5;124m\"\u001b[39m),\n\u001b[1;32m    190\u001b[0m )\n\u001b[1;32m    191\u001b[0m os\u001b[38;5;241m.\u001b[39mchdir(\u001b[38;5;28mself\u001b[39m\u001b[38;5;241m.\u001b[39mrepo\u001b[38;5;241m.\u001b[39mname)\n",
      "File \u001b[0;32m~/anaconda3/envs/atp/lib/python3.10/site-packages/lean_dojo/data_extraction/trace.py:83\u001b[0m, in \u001b[0;36mget_traced_repo_path\u001b[0;34m(repo, build_deps)\u001b[0m\n\u001b[1;32m     81\u001b[0m \u001b[38;5;28;01mwith\u001b[39;00m working_directory() \u001b[38;5;28;01mas\u001b[39;00m tmp_dir:\n\u001b[1;32m     82\u001b[0m     logger\u001b[38;5;241m.\u001b[39mdebug(\u001b[38;5;124mf\u001b[39m\u001b[38;5;124m\"\u001b[39m\u001b[38;5;124mWorking in the temporary directory \u001b[39m\u001b[38;5;132;01m{\u001b[39;00mtmp_dir\u001b[38;5;132;01m}\u001b[39;00m\u001b[38;5;124m\"\u001b[39m)\n\u001b[0;32m---> 83\u001b[0m     \u001b[43m_trace\u001b[49m\u001b[43m(\u001b[49m\u001b[43mrepo\u001b[49m\u001b[43m,\u001b[49m\u001b[43m \u001b[49m\u001b[43mbuild_deps\u001b[49m\u001b[43m)\u001b[49m\n\u001b[1;32m     84\u001b[0m     traced_repo \u001b[38;5;241m=\u001b[39m TracedRepo\u001b[38;5;241m.\u001b[39mfrom_traced_files(tmp_dir \u001b[38;5;241m/\u001b[39m repo\u001b[38;5;241m.\u001b[39mname, build_deps)\n\u001b[1;32m     85\u001b[0m     traced_repo\u001b[38;5;241m.\u001b[39msave_to_disk()\n",
      "File \u001b[0;32m~/anaconda3/envs/atp/lib/python3.10/site-packages/lean_dojo/data_extraction/trace.py:58\u001b[0m, in \u001b[0;36m_trace\u001b[0;34m(repo, build_deps)\u001b[0m\n\u001b[1;32m     54\u001b[0m \u001b[38;5;28;01mif\u001b[39;00m repo\u001b[38;5;241m.\u001b[39mis_lean4 \u001b[38;5;129;01mand\u001b[39;00m \u001b[38;5;28misinstance\u001b[39m(container, NativeContainer):\n\u001b[1;32m     55\u001b[0m     logger\u001b[38;5;241m.\u001b[39merror(\n\u001b[1;32m     56\u001b[0m         \u001b[38;5;124m\"\u001b[39m\u001b[38;5;124mFailed to build Lean 4 without Docker. See https://leandojo.readthedocs.io/en/latest/user-guide.html#advanced-running-within-docker.\u001b[39m\u001b[38;5;124m\"\u001b[39m\n\u001b[1;32m     57\u001b[0m     )\n\u001b[0;32m---> 58\u001b[0m \u001b[38;5;28;01mraise\u001b[39;00m ex\n",
      "File \u001b[0;32m~/anaconda3/envs/atp/lib/python3.10/site-packages/lean_dojo/data_extraction/trace.py:46\u001b[0m, in \u001b[0;36m_trace\u001b[0;34m(repo, build_deps)\u001b[0m\n\u001b[1;32m     44\u001b[0m \u001b[38;5;28;01mtry\u001b[39;00m:\n\u001b[1;32m     45\u001b[0m     \u001b[38;5;28mprint\u001b[39m(\u001b[38;5;124m\"\u001b[39m\u001b[38;5;124mcmd:\u001b[39m\u001b[38;5;124m\"\u001b[39m, cmd)\n\u001b[0;32m---> 46\u001b[0m     \u001b[43mcontainer\u001b[49m\u001b[38;5;241;43m.\u001b[39;49m\u001b[43mrun\u001b[49m\u001b[43m(\u001b[49m\n\u001b[1;32m     47\u001b[0m \u001b[43m        \u001b[49m\u001b[43mcmd\u001b[49m\u001b[43m,\u001b[49m\n\u001b[1;32m     48\u001b[0m \u001b[43m        \u001b[49m\u001b[43mcreate_mounts\u001b[49m\u001b[43m(\u001b[49m\u001b[43mmts\u001b[49m\u001b[43m)\u001b[49m\u001b[43m,\u001b[49m\n\u001b[1;32m     49\u001b[0m \u001b[43m        \u001b[49m\u001b[43m{\u001b[49m\u001b[38;5;124;43m\"\u001b[39;49m\u001b[38;5;124;43mNUM_PROCS\u001b[39;49m\u001b[38;5;124;43m\"\u001b[39;49m\u001b[43m:\u001b[49m\u001b[43m \u001b[49m\u001b[43mNUM_PROCS\u001b[49m\u001b[43m}\u001b[49m\u001b[43m,\u001b[49m\n\u001b[1;32m     50\u001b[0m \u001b[43m        \u001b[49m\u001b[43mas_current_user\u001b[49m\u001b[38;5;241;43m=\u001b[39;49m\u001b[38;5;28;43;01mTrue\u001b[39;49;00m\u001b[43m,\u001b[49m\n\u001b[1;32m     51\u001b[0m \u001b[43m        \u001b[49m\u001b[43mwork_dir\u001b[49m\u001b[38;5;241;43m=\u001b[39;49m\u001b[38;5;124;43m\"\u001b[39;49m\u001b[38;5;124;43m/workspace\u001b[39;49m\u001b[38;5;124;43m\"\u001b[39;49m\u001b[43m,\u001b[49m\n\u001b[1;32m     52\u001b[0m \u001b[43m    \u001b[49m\u001b[43m)\u001b[49m\n\u001b[1;32m     53\u001b[0m \u001b[38;5;28;01mexcept\u001b[39;00m CalledProcessError \u001b[38;5;28;01mas\u001b[39;00m ex:\n\u001b[1;32m     54\u001b[0m     \u001b[38;5;28;01mif\u001b[39;00m repo\u001b[38;5;241m.\u001b[39mis_lean4 \u001b[38;5;129;01mand\u001b[39;00m \u001b[38;5;28misinstance\u001b[39m(container, NativeContainer):\n",
      "File \u001b[0;32m~/anaconda3/envs/atp/lib/python3.10/site-packages/lean_dojo/container.py:194\u001b[0m, in \u001b[0;36mNativeContainer.run\u001b[0;34m(self, command, mounts, envs, as_current_user, capture_output, cpu_limit, memory_limit, work_dir)\u001b[0m\n\u001b[1;32m    191\u001b[0m         work_dir \u001b[38;5;241m=\u001b[39m Path\u001b[38;5;241m.\u001b[39mcwd() \u001b[38;5;241m/\u001b[39m work_dir\u001b[38;5;241m.\u001b[39mrelative_to(work_dir\u001b[38;5;241m.\u001b[39mroot)\n\u001b[1;32m    193\u001b[0m \u001b[38;5;28;01mwith\u001b[39;00m working_directory(work_dir):\n\u001b[0;32m--> 194\u001b[0m     \u001b[43mexecute\u001b[49m\u001b[43m(\u001b[49m\u001b[43mcmd\u001b[49m\u001b[43m,\u001b[49m\u001b[43m \u001b[49m\u001b[43mcapture_output\u001b[49m\u001b[38;5;241;43m=\u001b[39;49m\u001b[43mcapture_output\u001b[49m\u001b[43m)\u001b[49m\n\u001b[1;32m    196\u001b[0m \u001b[38;5;28mself\u001b[39m\u001b[38;5;241m.\u001b[39m_unmount_files(mounts)\n",
      "File \u001b[0;32m~/anaconda3/envs/atp/lib/python3.10/site-packages/lean_dojo/utils.py:116\u001b[0m, in \u001b[0;36mexecute\u001b[0;34m(cmd, capture_output)\u001b[0m\n\u001b[1;32m    114\u001b[0m         logger\u001b[38;5;241m.\u001b[39minfo(ex\u001b[38;5;241m.\u001b[39mstdout\u001b[38;5;241m.\u001b[39mdecode())\n\u001b[1;32m    115\u001b[0m         logger\u001b[38;5;241m.\u001b[39merror(ex\u001b[38;5;241m.\u001b[39mstderr\u001b[38;5;241m.\u001b[39mdecode())\n\u001b[0;32m--> 116\u001b[0m     \u001b[38;5;28;01mraise\u001b[39;00m ex\n\u001b[1;32m    117\u001b[0m \u001b[38;5;28;01mif\u001b[39;00m \u001b[38;5;129;01mnot\u001b[39;00m capture_output:\n\u001b[1;32m    118\u001b[0m     \u001b[38;5;28;01mreturn\u001b[39;00m \u001b[38;5;28;01mNone\u001b[39;00m\n",
      "File \u001b[0;32m~/anaconda3/envs/atp/lib/python3.10/site-packages/lean_dojo/utils.py:111\u001b[0m, in \u001b[0;36mexecute\u001b[0;34m(cmd, capture_output)\u001b[0m\n\u001b[1;32m    101\u001b[0m \u001b[38;5;250m\u001b[39m\u001b[38;5;124;03m\"\"\"Execute the shell command ``cmd`` and optionally return its output.\u001b[39;00m\n\u001b[1;32m    102\u001b[0m \n\u001b[1;32m    103\u001b[0m \u001b[38;5;124;03mArgs:\u001b[39;00m\n\u001b[0;32m   (...)\u001b[0m\n\u001b[1;32m    108\u001b[0m \u001b[38;5;124;03m    Optional[Tuple[str, str]]: The command's output, including stdout and stderr (None if ``capture_output == False``).\u001b[39;00m\n\u001b[1;32m    109\u001b[0m \u001b[38;5;124;03m\"\"\"\u001b[39;00m\n\u001b[1;32m    110\u001b[0m \u001b[38;5;28;01mtry\u001b[39;00m:\n\u001b[0;32m--> 111\u001b[0m     res \u001b[38;5;241m=\u001b[39m \u001b[43msubprocess\u001b[49m\u001b[38;5;241;43m.\u001b[39;49m\u001b[43mrun\u001b[49m\u001b[43m(\u001b[49m\u001b[43mcmd\u001b[49m\u001b[43m,\u001b[49m\u001b[43m \u001b[49m\u001b[43mshell\u001b[49m\u001b[38;5;241;43m=\u001b[39;49m\u001b[38;5;28;43;01mTrue\u001b[39;49;00m\u001b[43m,\u001b[49m\u001b[43m \u001b[49m\u001b[43mcapture_output\u001b[49m\u001b[38;5;241;43m=\u001b[39;49m\u001b[43mcapture_output\u001b[49m\u001b[43m,\u001b[49m\u001b[43m \u001b[49m\u001b[43mcheck\u001b[49m\u001b[38;5;241;43m=\u001b[39;49m\u001b[38;5;28;43;01mTrue\u001b[39;49;00m\u001b[43m)\u001b[49m\n\u001b[1;32m    112\u001b[0m \u001b[38;5;28;01mexcept\u001b[39;00m subprocess\u001b[38;5;241m.\u001b[39mCalledProcessError \u001b[38;5;28;01mas\u001b[39;00m ex:\n\u001b[1;32m    113\u001b[0m     \u001b[38;5;28;01mif\u001b[39;00m capture_output:\n",
      "File \u001b[0;32m~/anaconda3/envs/atp/lib/python3.10/subprocess.py:526\u001b[0m, in \u001b[0;36mrun\u001b[0;34m(input, capture_output, timeout, check, *popenargs, **kwargs)\u001b[0m\n\u001b[1;32m    524\u001b[0m     retcode \u001b[38;5;241m=\u001b[39m process\u001b[38;5;241m.\u001b[39mpoll()\n\u001b[1;32m    525\u001b[0m     \u001b[38;5;28;01mif\u001b[39;00m check \u001b[38;5;129;01mand\u001b[39;00m retcode:\n\u001b[0;32m--> 526\u001b[0m         \u001b[38;5;28;01mraise\u001b[39;00m CalledProcessError(retcode, process\u001b[38;5;241m.\u001b[39margs,\n\u001b[1;32m    527\u001b[0m                                  output\u001b[38;5;241m=\u001b[39mstdout, stderr\u001b[38;5;241m=\u001b[39mstderr)\n\u001b[1;32m    528\u001b[0m \u001b[38;5;28;01mreturn\u001b[39;00m CompletedProcess(process\u001b[38;5;241m.\u001b[39margs, retcode, stdout, stderr)\n",
      "\u001b[0;31mCalledProcessError\u001b[0m: Command 'NUM_PROCS=20 python build_lean4_repo.py lean4-example' returned non-zero exit status 1."
     ]
    }
   ],
   "source": [
    "with Dojo(theorem) as (dojo, init_state):\n",
    "  print(2)\n",
    "  print(init_state)"
   ]
  },
  {
   "cell_type": "code",
   "execution_count": 12,
   "id": "3dfc8461",
   "metadata": {},
   "outputs": [
    {
     "name": "stderr",
     "output_type": "stream",
     "text": [
      "\u001b[32m2024-04-16 20:39:22.900\u001b[0m | \u001b[1mINFO    \u001b[0m | \u001b[36mlean_dojo.data_extraction.trace\u001b[0m:\u001b[36mget_traced_repo_path\u001b[0m:\u001b[36m80\u001b[0m - \u001b[1mTracing LeanGitRepo(url='https://github.com/yangky11/lean4-example', commit='04e29174a45eefaccb49b835a372aa762321194e')\u001b[0m\n"
     ]
    },
    {
     "name": "stdout",
     "output_type": "stream",
     "text": [
      "cmd: python build_lean4_repo.py lean4-example\n"
     ]
    },
    {
     "name": "stderr",
     "output_type": "stream",
     "text": [
      "2024-04-16 20:39:24.499 | INFO     | __main__:main:165 - Building lean4-example\n",
      "info: downloading component 'lean'\n",
      "info: installing component 'lean'\n"
     ]
    },
    {
     "name": "stdout",
     "output_type": "stream",
     "text": [
      "[0/1] Building Lean4Example\n"
     ]
    },
    {
     "name": "stderr",
     "output_type": "stream",
     "text": [
      "2024-04-16 20:40:48.451 | INFO     | __main__:main:188 - Tracing lean4-example\n",
      "2024-04-16 20:40:48.456 | DEBUG    | __main__:main:193 - /home/mcwave/.elan/bin/lake env lean --threads 20 --run ExtractData.lean\n",
      " 96%|█████████▌| 712/740 [02:10<00:04,  6.06it/s]2024-04-16 20:43:00,539\tINFO worker.py:1743 -- Started a local Ray instance. View the dashboard at \u001b[1m\u001b[32m127.0.0.1:8265 \u001b[39m\u001b[22m\n",
      "100%|████████████████████████████████████████████████████████████████████████████████████████████████████████████████████████████████████████████████████████████████| 740/740 [00:18<00:00, 40.56it/s]\n",
      "2024-04-16 20:43:23,140\tINFO worker.py:1743 -- Started a local Ray instance. View the dashboard at \u001b[1m\u001b[32m127.0.0.1:8265 \u001b[39m\u001b[22m\n",
      "  0%|                                                                                                                                                                          | 0/740 [00:00<?, ?it/s]\u001b[36m(pid=13790)\u001b[0m Request GET /repos/leanprover/lean4 failed with 403: rate limit exceeded\n",
      "\u001b[36m(pid=13790)\u001b[0m Setting next backoff to 3348.646006s\n",
      "100%|████████████████████████████████████████████████████████████████████████████████████████████████████████████████████████████████████████████████████████████████| 740/740 [55:55<00:00,  4.53s/it]\n",
      "\u001b[36m(pid=13792)\u001b[0m Request GET /repos/leanprover/lean4 failed with 403: rate limit exceeded\u001b[32m [repeated 18x across cluster] (Ray deduplicates logs by default. Set RAY_DEDUP_LOGS=0 to disable log deduplication, or see https://docs.ray.io/en/master/ray-observability/ray-logging.html#log-deduplication for more options.)\u001b[0m\n",
      "\u001b[36m(pid=13792)\u001b[0m Setting next backoff to 3345.764012s\u001b[32m [repeated 18x across cluster]\u001b[0m\n",
      "\u001b[32m2024-04-16 21:39:21.576\u001b[0m | \u001b[1mINFO    \u001b[0m | \u001b[36mlean_dojo.data_extraction.trace\u001b[0m:\u001b[36mtrace\u001b[0m:\u001b[36m117\u001b[0m - \u001b[1mLoading the traced repo from /home/mcwave/.cache/lean_dojo/yangky11-lean4-example-04e29174a45eefaccb49b835a372aa762321194e/lean4-example\u001b[0m\n",
      "2024-04-16 21:39:23,220\tINFO worker.py:1743 -- Started a local Ray instance. View the dashboard at \u001b[1m\u001b[32m127.0.0.1:8265 \u001b[39m\u001b[22m\n",
      "  0%|                                                                                                                                                                          | 0/740 [00:00<?, ?it/s]\u001b[36m(pid=16700)\u001b[0m Request GET /repos/leanprover/lean4-nightly failed with 403: rate limit exceeded\n",
      "\u001b[36m(pid=16700)\u001b[0m Setting next backoff to 3589.417809s\n",
      "100%|████████████████████████████████████████████████████████████████████████████████████████████████████████████████████████████████████████████████████████████████| 740/740 [59:51<00:00,  4.85s/it]\n",
      "\u001b[36m(pid=16703)\u001b[0m Request GET /repos/leanprover/lean4-nightly failed with 403: rate limit exceeded\u001b[32m [repeated 14x across cluster]\u001b[0m\n",
      "\u001b[36m(pid=16703)\u001b[0m Setting next backoff to 3589.292985s\u001b[32m [repeated 14x across cluster]\u001b[0m\n"
     ]
    },
    {
     "data": {
      "text/plain": [
       "TracedRepo(repo=LeanGitRepo(url='https://github.com/yangky11/lean4-example', commit='04e29174a45eefaccb49b835a372aa762321194e'), dependencies={'lean4': LeanGitRepo(url='https://github.com/leanprover/lean4', commit='5cc0c3f145ffa623a617ca31387d7f589802c1d3')}, root_dir=PosixPath('/home/mcwave/.cache/lean_dojo/yangky11-lean4-example-04e29174a45eefaccb49b835a372aa762321194e/lean4-example'))"
      ]
     },
     "execution_count": 12,
     "metadata": {},
     "output_type": "execute_result"
    }
   ],
   "source": [
    "from lean_dojo import LeanGitRepo, trace\n",
    "\n",
    "repo = LeanGitRepo(\"https://github.com/yangky11/lean4-example\", \"04e29174a45eefaccb49b835a372aa762321194e\")\n",
    "trace(repo, dst_dir=\"traced_lean4-example\")"
   ]
  },
  {
   "cell_type": "code",
   "execution_count": 4,
   "id": "ba211485",
   "metadata": {},
   "outputs": [],
   "source": [
    "import pickle\n",
    "\n",
    "fout = open('lean4-example.repo', 'wb')\n",
    "pickle.dump(repo, fout)\n",
    "fout.close()"
   ]
  },
  {
   "cell_type": "code",
   "execution_count": 8,
   "id": "53f4ae36",
   "metadata": {},
   "outputs": [
    {
     "name": "stdout",
     "output_type": "stream",
     "text": [
      "Miscellaneous:\n",
      "  --help -h          display this message\n",
      "  --features -f      display features compiler provides (eg. LLVM support)\n",
      "  --version -v       display version number\n",
      "  --githash          display the git commit hash number used to build this binary\n",
      "  --run              call the 'main' definition in a file with the remaining arguments\n",
      "  --o=oname -o       create olean file\n",
      "  --i=iname -i       create ilean file\n",
      "  --c=fname -c       name of the C output file\n",
      "  --bc=fname -b      name of the LLVM bitcode file\n",
      "  --stdin            take input from stdin\n",
      "  --root=dir         set package root directory from which the module name of the input file is calculated\n",
      "                     (default: current working directory)\n",
      "  --trust=num -t     trust level (default: max) 0 means do not trust any macro,\n",
      "                     and type check all imported modules\n",
      "  --quiet -q         do not print verbose messages\n",
      "  --memory=num -M    maximum amount of memory that should be used by Lean\n",
      "                     (in megabytes)\n",
      "  --timeout=num -T   maximum number of memory allocations per task\n",
      "                     this is a deterministic way of interrupting long running tasks\n",
      "  --threads=num -j   number of threads used to process lean files\n",
      "  --tstack=num -s    thread stack size in Kb\n",
      "  --server           start lean in server mode\n",
      "  --worker           start lean in server-worker mode\n",
      "  --plugin=file      load and initialize Lean shared library for registering linters etc.\n",
      "  --load-dynlib=file load shared library to make its symbols available to the interpreter\n",
      "  --deps             just print dependencies of a Lean input\n",
      "  --print-prefix     print the installation prefix for Lean and exit\n",
      "  --print-libdir     print the installation directory for Lean's built-in libraries and exit\n",
      "  --profile          display elaboration/type checking time for each definition/theorem\n",
      "  --stats            display environment statistics\n",
      "  -D name=value      set a configuration option (see set_option command)\n"
     ]
    },
    {
     "name": "stderr",
     "output_type": "stream",
     "text": [
      "Expected exactly one file name\n",
      "Lean (version 4.7.0, x86_64-unknown-linux-gnu, commit 6fce8f7d5cd1, Release)\n"
     ]
    },
    {
     "ename": "CalledProcessError",
     "evalue": "Command '/home/mcwave/.elan/bin/lean' returned non-zero exit status 1.",
     "output_type": "error",
     "traceback": [
      "\u001b[0;31m---------------------------------------------------------------------------\u001b[0m",
      "\u001b[0;31mCalledProcessError\u001b[0m                        Traceback (most recent call last)",
      "Cell \u001b[0;32mIn[8], line 35\u001b[0m\n\u001b[1;32m     32\u001b[0m     \u001b[38;5;28;01melse\u001b[39;00m:\n\u001b[1;32m     33\u001b[0m         \u001b[38;5;28;01mreturn\u001b[39;00m \u001b[38;5;28;01mNone\u001b[39;00m\n\u001b[0;32m---> 35\u001b[0m \u001b[43mrun_cmd\u001b[49m\u001b[43m(\u001b[49m\u001b[38;5;124;43m'\u001b[39;49m\u001b[38;5;124;43m/home/mcwave/.elan/bin/lean\u001b[39;49m\u001b[38;5;124;43m'\u001b[39;49m\u001b[43m)\u001b[49m\n",
      "Cell \u001b[0;32mIn[8], line 29\u001b[0m, in \u001b[0;36mrun_cmd\u001b[0;34m(cmd, capture_output)\u001b[0m\n\u001b[1;32m     27\u001b[0m \u001b[38;5;28;01mif\u001b[39;00m \u001b[38;5;28misinstance\u001b[39m(cmd, \u001b[38;5;28mlist\u001b[39m):\n\u001b[1;32m     28\u001b[0m     cmd \u001b[38;5;241m=\u001b[39m \u001b[38;5;124m\"\u001b[39m\u001b[38;5;124m && \u001b[39m\u001b[38;5;124m\"\u001b[39m\u001b[38;5;241m.\u001b[39mjoin(cmd)\n\u001b[0;32m---> 29\u001b[0m res \u001b[38;5;241m=\u001b[39m \u001b[43msubprocess\u001b[49m\u001b[38;5;241;43m.\u001b[39;49m\u001b[43mrun\u001b[49m\u001b[43m(\u001b[49m\u001b[43mcmd\u001b[49m\u001b[43m,\u001b[49m\u001b[43m \u001b[49m\u001b[43mshell\u001b[49m\u001b[38;5;241;43m=\u001b[39;49m\u001b[38;5;28;43;01mTrue\u001b[39;49;00m\u001b[43m,\u001b[49m\u001b[43m \u001b[49m\u001b[43mcapture_output\u001b[49m\u001b[38;5;241;43m=\u001b[39;49m\u001b[43mcapture_output\u001b[49m\u001b[43m,\u001b[49m\u001b[43m \u001b[49m\u001b[43mcheck\u001b[49m\u001b[38;5;241;43m=\u001b[39;49m\u001b[38;5;28;43;01mTrue\u001b[39;49;00m\u001b[43m)\u001b[49m\n\u001b[1;32m     30\u001b[0m \u001b[38;5;28;01mif\u001b[39;00m capture_output:\n\u001b[1;32m     31\u001b[0m     \u001b[38;5;28;01mreturn\u001b[39;00m res\u001b[38;5;241m.\u001b[39mstdout\u001b[38;5;241m.\u001b[39mdecode()\n",
      "File \u001b[0;32m~/anaconda3/envs/atp/lib/python3.10/subprocess.py:526\u001b[0m, in \u001b[0;36mrun\u001b[0;34m(input, capture_output, timeout, check, *popenargs, **kwargs)\u001b[0m\n\u001b[1;32m    524\u001b[0m     retcode \u001b[38;5;241m=\u001b[39m process\u001b[38;5;241m.\u001b[39mpoll()\n\u001b[1;32m    525\u001b[0m     \u001b[38;5;28;01mif\u001b[39;00m check \u001b[38;5;129;01mand\u001b[39;00m retcode:\n\u001b[0;32m--> 526\u001b[0m         \u001b[38;5;28;01mraise\u001b[39;00m CalledProcessError(retcode, process\u001b[38;5;241m.\u001b[39margs,\n\u001b[1;32m    527\u001b[0m                                  output\u001b[38;5;241m=\u001b[39mstdout, stderr\u001b[38;5;241m=\u001b[39mstderr)\n\u001b[1;32m    528\u001b[0m \u001b[38;5;28;01mreturn\u001b[39;00m CompletedProcess(process\u001b[38;5;241m.\u001b[39margs, retcode, stdout, stderr)\n",
      "\u001b[0;31mCalledProcessError\u001b[0m: Command '/home/mcwave/.elan/bin/lean' returned non-zero exit status 1."
     ]
    }
   ],
   "source": [
    "\"\"\"Build Lean 4 projects in Docker.\n",
    "\n",
    "Only this file runs in Docker. So it must be self-contained.\n",
    "\"\"\"\n",
    "\n",
    "import os\n",
    "import re\n",
    "import shutil\n",
    "import argparse\n",
    "import itertools\n",
    "import subprocess\n",
    "from tqdm import tqdm\n",
    "from loguru import logger\n",
    "from time import sleep, monotonic\n",
    "from pathlib import Path, PurePath\n",
    "from multiprocessing import Process\n",
    "from contextlib import contextmanager\n",
    "from typing import Union, List, Optional, Generator\n",
    "\n",
    "\n",
    "def run_cmd(cmd: Union[str, List[str]], capture_output: bool = False) -> Optional[str]:\n",
    "    \"\"\"Run a shell command.\n",
    "\n",
    "    Args:\n",
    "        cmd (Union[str, List[str]]): A command or a list of commands.\n",
    "    \"\"\"\n",
    "    if isinstance(cmd, list):\n",
    "        cmd = \" && \".join(cmd)\n",
    "    res = subprocess.run(cmd, shell=True, capture_output=capture_output, check=True)\n",
    "    if capture_output:\n",
    "        return res.stdout.decode()\n",
    "    else:\n",
    "        return None\n",
    "    \n",
    "run_cmd('/home/mcwave/.elan/bin/lean')"
   ]
  }
 ],
 "metadata": {
  "kernelspec": {
   "display_name": "atp",
   "language": "python",
   "name": "atp"
  },
  "language_info": {
   "codemirror_mode": {
    "name": "ipython",
    "version": 3
   },
   "file_extension": ".py",
   "mimetype": "text/x-python",
   "name": "python",
   "nbconvert_exporter": "python",
   "pygments_lexer": "ipython3",
   "version": "3.10.13"
  }
 },
 "nbformat": 4,
 "nbformat_minor": 5
}
