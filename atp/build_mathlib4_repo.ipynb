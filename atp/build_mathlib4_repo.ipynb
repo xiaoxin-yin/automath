{
 "cells": [
  {
   "cell_type": "markdown",
   "id": "829b7005",
   "metadata": {},
   "source": [
    "LeanDojo Demo\n",
    "=============\n",
    "\n",
    "This notebook demonstrates the main features of LeanDojo (using Lean 4). Please refer to the [documentation](https://leandojo.readthedocs.io/en/latest/) for more details."
   ]
  },
  {
   "cell_type": "code",
   "execution_count": 2,
   "id": "5971197a",
   "metadata": {},
   "outputs": [],
   "source": [
    "import os\n",
    "#print(os.getenv(\"GITHUB_ACCESS_TOKEN\", None))\n",
    "\n",
    "from lean_dojo import *"
   ]
  },
  {
   "cell_type": "markdown",
   "id": "7d400df8",
   "metadata": {},
   "source": [
    "## Extract Data from Lean"
   ]
  },
  {
   "cell_type": "code",
   "execution_count": 3,
   "id": "ef2ab5b2",
   "metadata": {},
   "outputs": [
    {
     "data": {
      "text/plain": [
       "LeanGitRepo(url='https://github.com/leanprover-community/mathlib4', commit='a4e862abb53569f1f806451f1959c0d48dcbd4f6')"
      ]
     },
     "execution_count": 3,
     "metadata": {},
     "output_type": "execute_result"
    }
   ],
   "source": [
    "repo = LeanGitRepo(\n",
    "    \"https://github.com/leanprover-community/mathlib4\",\n",
    "    \"a4e862abb53569f1f806451f1959c0d48dcbd4f6\",\n",
    ")\n",
    "\n",
    "repo"
   ]
  },
  {
   "cell_type": "code",
   "execution_count": null,
   "id": "4c2945c2",
   "metadata": {},
   "outputs": [],
   "source": [
    "repo.get_config(\"lean-toolchain\")"
   ]
  },
  {
   "cell_type": "code",
   "execution_count": 4,
   "id": "1a9c39cc",
   "metadata": {},
   "outputs": [
    {
     "name": "stderr",
     "output_type": "stream",
     "text": [
      "\u001b[32m2024-05-30 20:57:33.233\u001b[0m | \u001b[1mINFO    \u001b[0m | \u001b[36mlean_dojo.data_extraction.trace\u001b[0m:\u001b[36mtrace\u001b[0m:\u001b[36m116\u001b[0m - \u001b[1mLoading the traced repo from /home/mcwave/.cache/lean_dojo/leanprover-community-mathlib4-a4e862abb53569f1f806451f1959c0d48dcbd4f6/mathlib4\u001b[0m\n",
      "2024-05-30 20:57:36,246\tINFO worker.py:1740 -- Started a local Ray instance. View the dashboard at \u001b[1m\u001b[32m127.0.0.1:8265 \u001b[39m\u001b[22m\n",
      "0it [00:00, ?it/s]\n",
      "Following Github server redirection from /repos/mhuisi/lean4-cli to /repositories/341363356\n",
      "\u001b[32m2024-05-30 20:58:35.460\u001b[0m | \u001b[33m\u001b[1mWARNING \u001b[0m | \u001b[36mlean_dojo.data_extraction.lean\u001b[0m:\u001b[36m__post_init__\u001b[0m:\u001b[36m442\u001b[0m - \u001b[33m\u001b[1mLeanGitRepo(url='https://github.com/mhuisi/lean4-cli', commit='10d88b52fa8d717fa8e29af3abf0c3a2bf175497') relies on an unsupported Lean version: 41697dcf6cab7ec82723ba404f2bda7a4526bb2b\u001b[0m\n",
      "\u001b[32m2024-05-30 20:58:41.177\u001b[0m | \u001b[33m\u001b[1mWARNING \u001b[0m | \u001b[36mlean_dojo.data_extraction.lean\u001b[0m:\u001b[36m__post_init__\u001b[0m:\u001b[36m442\u001b[0m - \u001b[33m\u001b[1mLeanGitRepo(url='https://github.com/xubaiw/CMark.lean', commit='0077cbbaa92abf855fc1c0413e158ffd8195ec77') relies on an unsupported Lean version: 8fc1af650ad6d31cf766d9bc84119149330e7d4e\u001b[0m\n",
      "\u001b[32m2024-05-30 20:58:53.149\u001b[0m | \u001b[33m\u001b[1mWARNING \u001b[0m | \u001b[36mlean_dojo.data_extraction.lean\u001b[0m:\u001b[36m__post_init__\u001b[0m:\u001b[36m442\u001b[0m - \u001b[33m\u001b[1mLeanGitRepo(url='https://github.com/fgdorais/lean4-unicode-basic', commit='280d75fdfe7be8eb337be7f1bf8479b4aac09f71') relies on an unsupported Lean version: 0d7051497ea09b2b4a4ef608e371b8f317487c3c\u001b[0m\n",
      "\u001b[32m2024-05-30 20:58:57.448\u001b[0m | \u001b[33m\u001b[1mWARNING \u001b[0m | \u001b[36mlean_dojo.data_extraction.lean\u001b[0m:\u001b[36m__post_init__\u001b[0m:\u001b[36m442\u001b[0m - \u001b[33m\u001b[1mLeanGitRepo(url='https://github.com/mhuisi/lean4-cli', commit='39229f3630d734af7d9cfb5937ddc6b41d3aa6aa') relies on an unsupported Lean version: 216d2460e0adec8317fdeeb6f2543cb7442564fd\u001b[0m\n",
      "\u001b[32m2024-05-30 20:59:03.426\u001b[0m | \u001b[33m\u001b[1mWARNING \u001b[0m | \u001b[36mlean_dojo.data_extraction.lean\u001b[0m:\u001b[36m__post_init__\u001b[0m:\u001b[36m442\u001b[0m - \u001b[33m\u001b[1mLeanGitRepo(url='https://github.com/hargonix/LeanInk', commit='2447df5cc6e48eb965c3c3fba87e46d353b5e9f1') relies on an unsupported Lean version: f6cd6c069587cfe62dd68cb6330f9ad794a56724\u001b[0m\n"
     ]
    }
   ],
   "source": [
    "# A few minutes if the traced repo is in the cache; many hours otherwise.\n",
    "traced_repo = trace(repo)"
   ]
  },
  {
   "cell_type": "code",
   "execution_count": 5,
   "id": "25ccf173",
   "metadata": {},
   "outputs": [
    {
     "data": {
      "text/plain": [
       "<networkx.classes.digraph.DiGraph at 0x77840c776cb0>"
      ]
     },
     "execution_count": 5,
     "metadata": {},
     "output_type": "execute_result"
    }
   ],
   "source": [
    "traced_repo.traced_files_graph"
   ]
  },
  {
   "cell_type": "code",
   "execution_count": 6,
   "id": "375023d4",
   "metadata": {},
   "outputs": [
    {
     "data": {
      "text/plain": [
       "0"
      ]
     },
     "execution_count": 6,
     "metadata": {},
     "output_type": "execute_result"
    }
   ],
   "source": [
    "len(traced_repo.traced_files)"
   ]
  },
  {
   "cell_type": "code",
   "execution_count": null,
   "id": "1c725a11",
   "metadata": {},
   "outputs": [],
   "source": [
    "#traced_file = traced_repo.get_traced_file(\"Mathlib/Algebra/BigOperators/Pi.lean\")\n",
    "traced_file = traced_repo.get_traced_file(\"Mathlib/Data/Real/Cardinality.lean\")\n",
    "\n",
    "traced_file"
   ]
  },
  {
   "cell_type": "code",
   "execution_count": null,
   "id": "153f37ce",
   "metadata": {},
   "outputs": [],
   "source": [
    "traced_file.get_premise_definitions()"
   ]
  },
  {
   "cell_type": "code",
   "execution_count": null,
   "id": "77e58935",
   "metadata": {},
   "outputs": [],
   "source": [
    "traced_theorems = traced_file.get_traced_theorems()\n",
    "\n",
    "len(traced_theorems)"
   ]
  },
  {
   "cell_type": "code",
   "execution_count": null,
   "id": "00042165",
   "metadata": {},
   "outputs": [],
   "source": [
    "thm = traced_file.get_traced_theorem(\"Cardinal.cantorFunction_injective\") #\"pi_eq_sum_univ\")\n",
    "\n",
    "thm"
   ]
  },
  {
   "cell_type": "code",
   "execution_count": null,
   "id": "4d9ed905",
   "metadata": {},
   "outputs": [],
   "source": [
    "# Expected behavior: this line should open another tab and take you to the website of the traced theorem.\n",
    "thm.show()"
   ]
  },
  {
   "cell_type": "code",
   "execution_count": null,
   "id": "eafb6369",
   "metadata": {},
   "outputs": [],
   "source": [
    "thm.theorem"
   ]
  },
  {
   "cell_type": "code",
   "execution_count": null,
   "id": "5e00cba9",
   "metadata": {},
   "outputs": [],
   "source": [
    "thm.start, thm.end"
   ]
  },
  {
   "cell_type": "code",
   "execution_count": null,
   "id": "14c611f4",
   "metadata": {},
   "outputs": [],
   "source": [
    "thm.has_tactic_proof()"
   ]
  },
  {
   "cell_type": "code",
   "execution_count": null,
   "id": "24bc67e9",
   "metadata": {},
   "outputs": [],
   "source": [
    "thm.get_num_tactics()"
   ]
  },
  {
   "cell_type": "code",
   "execution_count": null,
   "id": "3fa19ef3",
   "metadata": {},
   "outputs": [],
   "source": [
    "proof_node = thm.get_proof_node()\n",
    "proof = proof_node.lean_file[proof_node.start : proof_node.end]\n",
    "print(proof)"
   ]
  },
  {
   "cell_type": "code",
   "execution_count": null,
   "id": "1fae1876",
   "metadata": {},
   "outputs": [],
   "source": [
    "traced_tactics = thm.get_traced_tactics()\n",
    "\n",
    "traced_tactics"
   ]
  },
  {
   "cell_type": "code",
   "execution_count": null,
   "id": "39fbe993",
   "metadata": {},
   "outputs": [],
   "source": [
    "tac = traced_tactics[1]\n",
    "\n",
    "tac"
   ]
  },
  {
   "cell_type": "markdown",
   "id": "84b1c8b6",
   "metadata": {},
   "source": [
    "## Interact with Lean Programmatically"
   ]
  },
  {
   "cell_type": "code",
   "execution_count": null,
   "id": "f3d3f736",
   "metadata": {},
   "outputs": [],
   "source": [
    "repo"
   ]
  },
  {
   "cell_type": "markdown",
   "id": "fb39a5a0",
   "metadata": {},
   "source": [
    "### Interact through Tactics"
   ]
  },
  {
   "cell_type": "code",
   "execution_count": null,
   "id": "10364e0f",
   "metadata": {},
   "outputs": [],
   "source": [
    "theorem = Theorem(repo, \"Mathlib/Data/Real/Cardinality.lean\", \"Cardinal.cantorFunction_injective\") #\"pi_eq_sum_univ\")\n",
    "#theorem = Theorem(repo, \"Mathlib/Algebra/Algebra/Bilinear.lean\", \"mulLeft_injective\")\n",
    "\n",
    "# For some theorems, it might take a few minutes.\n",
    "dojo, state_0 = Dojo(theorem).__enter__()"
   ]
  },
  {
   "cell_type": "code",
   "execution_count": null,
   "id": "af88893b",
   "metadata": {},
   "outputs": [],
   "source": [
    "print(state_0.pp)"
   ]
  },
  {
   "cell_type": "code",
   "execution_count": null,
   "id": "4ca2dca9",
   "metadata": {},
   "outputs": [],
   "source": [
    "state_1 = dojo.run_tac(state_0, \"intro f g hfg\") #\"revert x\")\n",
    "\n",
    "print(state_1.pp)"
   ]
  },
  {
   "cell_type": "code",
   "execution_count": null,
   "id": "89a62c89",
   "metadata": {},
   "outputs": [],
   "source": [
    "state_2 = dojo.run_tac(state_1, \"classical\") #\"hello world!\")\n",
    "\n",
    "state_2"
   ]
  },
  {
   "cell_type": "code",
   "execution_count": null,
   "id": "10b5f013",
   "metadata": {},
   "outputs": [],
   "source": [
    "dojo.run_tac(state_2, \"skip\")"
   ]
  },
  {
   "cell_type": "code",
   "execution_count": null,
   "id": "65bae6ea",
   "metadata": {},
   "outputs": [],
   "source": [
    "dojo.run_tac(state_0, \"sorry\")"
   ]
  },
  {
   "cell_type": "code",
   "execution_count": null,
   "id": "c373865a",
   "metadata": {},
   "outputs": [],
   "source": [
    "print(state_0.pp)"
   ]
  },
  {
   "cell_type": "code",
   "execution_count": null,
   "id": "a5d0156f",
   "metadata": {},
   "outputs": [],
   "source": [
    "state_3 = dojo.run_tac(state_0, \"ext\")\n",
    "\n",
    "print(state_3.pp)"
   ]
  },
  {
   "cell_type": "code",
   "execution_count": null,
   "id": "71ab5854",
   "metadata": {},
   "outputs": [],
   "source": [
    "state_4 = dojo.run_tac(state_3, \"simp\")\n",
    "\n",
    "print(state_4)"
   ]
  },
  {
   "cell_type": "code",
   "execution_count": null,
   "id": "fdb44496",
   "metadata": {},
   "outputs": [],
   "source": [
    "dojo.is_successful"
   ]
  },
  {
   "cell_type": "markdown",
   "id": "0ca87e34",
   "metadata": {},
   "source": [
    "### Interact through Commands"
   ]
  },
  {
   "cell_type": "code",
   "execution_count": null,
   "id": "243ea43c",
   "metadata": {},
   "outputs": [],
   "source": [
    "entry = (repo, \"Mathlib/LinearAlgebra/Basic.lean\", 90)  # (repo, file_path, line_nb)\n",
    "dojo, state_0 = Dojo(entry).__enter__()"
   ]
  },
  {
   "cell_type": "code",
   "execution_count": null,
   "id": "5ebd615c",
   "metadata": {},
   "outputs": [],
   "source": [
    "state_0"
   ]
  },
  {
   "cell_type": "code",
   "execution_count": null,
   "id": "b1e079fa",
   "metadata": {},
   "outputs": [],
   "source": [
    "dojo.run_cmd(state_0, \"#eval 1\")"
   ]
  },
  {
   "cell_type": "code",
   "execution_count": null,
   "id": "31c9bada",
   "metadata": {},
   "outputs": [],
   "source": [
    "dojo.run_cmd(state_0, \"#eval x\")"
   ]
  },
  {
   "cell_type": "code",
   "execution_count": null,
   "id": "b638bfbf",
   "metadata": {},
   "outputs": [],
   "source": [
    "state_1 = dojo.run_cmd(state_0, \"def x := 1\")\n",
    "\n",
    "state_1"
   ]
  },
  {
   "cell_type": "code",
   "execution_count": null,
   "id": "bdc4f14d",
   "metadata": {},
   "outputs": [],
   "source": [
    "dojo.run_cmd(state_1, \"#eval x\")"
   ]
  },
  {
   "cell_type": "code",
   "execution_count": null,
   "id": "ef47afb8",
   "metadata": {},
   "outputs": [],
   "source": [
    "dojo.run_cmd(state_0, \"#check addMonoidHomLequivNat\")"
   ]
  },
  {
   "cell_type": "code",
   "execution_count": null,
   "id": "c6b8b9a5",
   "metadata": {},
   "outputs": [],
   "source": [
    "dojo.run_cmd(state_0, \"#check addMonoidEndRingEquivInt\")"
   ]
  },
  {
   "cell_type": "code",
   "execution_count": null,
   "id": "791875ec",
   "metadata": {},
   "outputs": [],
   "source": []
  }
 ],
 "metadata": {
  "kernelspec": {
   "display_name": "atp",
   "language": "python",
   "name": "atp"
  },
  "language_info": {
   "codemirror_mode": {
    "name": "ipython",
    "version": 3
   },
   "file_extension": ".py",
   "mimetype": "text/x-python",
   "name": "python",
   "nbconvert_exporter": "python",
   "pygments_lexer": "ipython3",
   "version": "3.10.14"
  }
 },
 "nbformat": 4,
 "nbformat_minor": 5
}
