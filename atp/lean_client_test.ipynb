{
 "cells": [
  {
   "cell_type": "code",
   "execution_count": null,
   "id": "011bd931",
   "metadata": {},
   "outputs": [
    {
     "name": "stdout",
     "output_type": "stream",
     "text": [
      "Init TrioLeanServer\n",
      "Sending SyncRequest(file_name='lean-client-python/examples/test.lean', content=None)\n",
      "Sending b'{\"file_name\": \"lean-client-python/examples/test.lean\", \"seq_num\": 1, \"command\": \"sync\"}\\n'\n",
      "entering receiver function\n",
      "receiver 1\n"
     ]
    },
    {
     "name": "stderr",
     "output_type": "stream",
     "text": [
      "Watchdog error: Cannot read LSP request: A Lean 3 request was received. Please ensure that your editor has a Lean 4 compatible extension installed. For VSCode, this is\n",
      "\n",
      "    https://github.com/leanprover/vscode-lean4 \n"
     ]
    }
   ],
   "source": [
    "from pathlib import Path\n",
    "\n",
    "import trio # type: ignore\n",
    "\n",
    "from lean_client.trio_server import TrioLeanServer\n",
    "\n",
    "\n",
    "async def main():\n",
    "    lines = Path('lean-client-python/examples/test.lean').read_text().split('\\n')\n",
    "\n",
    "    async with trio.open_nursery() as nursery:\n",
    "        server = TrioLeanServer(nursery, debug=True, debug_bytes=True)\n",
    "        await server.start()\n",
    "        await server.full_sync('lean-client-python/examples/test.lean')\n",
    "\n",
    "        for i, line in enumerate(lines):\n",
    "            before = await server.state('lean-client-python/examples/test.lean', i+1, 0)\n",
    "            after = await server.state('lean-client-python/examples/test.lean', i+1, len(line))\n",
    "            if before or after:\n",
    "                print(f'Line {i+1}: {line}')\n",
    "                print(f'State before:\\n{before}\\n')\n",
    "                print(f'State after:\\n{after}\\n')\n",
    "\n",
    "        server.kill()\n",
    "        nursery.cancel_scope.cancel()\n",
    "\n",
    "if __name__ == '__main__':\n",
    "    trio.run(main)"
   ]
  },
  {
   "cell_type": "code",
   "execution_count": 1,
   "id": "3c30896a",
   "metadata": {},
   "outputs": [],
   "source": [
    "from pathlib import Path\n",
    "\n",
    "lines = Path('lean-client-python/examples/test.lean').read_text().split('\\n')"
   ]
  },
  {
   "cell_type": "code",
   "execution_count": 2,
   "id": "59fdd486",
   "metadata": {},
   "outputs": [
    {
     "data": {
      "text/plain": [
       "['import Mathlib.Data.Set.Basic',\n",
       " 'import Mathlib.Data.Real.Basic',\n",
       " 'import Mathlib.Tactic.Basic',\n",
       " 'import Mathlib.Tactic.Linarith',\n",
       " 'import Mathlib.Data.Complex.Exponential',\n",
       " 'import Mathlib.Analysis.SpecialFunctions.Log.Basic',\n",
       " '',\n",
       " 'variable {α : Type*}',\n",
       " 'variable (s t u : Set α)',\n",
       " 'open Set',\n",
       " '',\n",
       " 'example (h : s ⊆ t) : s ∩ u ⊆ t ∩ u := by',\n",
       " '  rw [subset_def, inter_def, inter_def]',\n",
       " '  rw [subset_def] at h',\n",
       " '  simp only [mem_setOf]',\n",
       " '  rintro x ⟨xs, xu⟩',\n",
       " '  exact ⟨h _ xs, xu⟩',\n",
       " '  ',\n",
       " 'def main : IO Unit :=',\n",
       " '  IO.println s!\"Hello!\"']"
      ]
     },
     "execution_count": 2,
     "metadata": {},
     "output_type": "execute_result"
    }
   ],
   "source": [
    "lines"
   ]
  }
 ],
 "metadata": {
  "kernelspec": {
   "display_name": "Python [conda env:atp]",
   "language": "python",
   "name": "conda-env-atp-py"
  },
  "language_info": {
   "codemirror_mode": {
    "name": "ipython",
    "version": 3
   },
   "file_extension": ".py",
   "mimetype": "text/x-python",
   "name": "python",
   "nbconvert_exporter": "python",
   "pygments_lexer": "ipython3",
   "version": "3.10.13"
  }
 },
 "nbformat": 4,
 "nbformat_minor": 5
}
