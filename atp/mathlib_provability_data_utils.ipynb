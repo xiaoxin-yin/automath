{
 "cells": [
  {
   "cell_type": "code",
   "execution_count": 1,
   "id": "e3728022",
   "metadata": {},
   "outputs": [
    {
     "name": "stderr",
     "output_type": "stream",
     "text": [
      "/home/mcwave/anaconda3/envs/atp/lib/python3.10/site-packages/tqdm/auto.py:21: TqdmWarning: IProgress not found. Please update jupyter and ipywidgets. See https://ipywidgets.readthedocs.io/en/stable/user_install.html\n",
      "  from .autonotebook import tqdm as notebook_tqdm\n",
      "2024-06-14 21:46:57,629\tINFO util.py:154 -- Missing packages: ['ipywidgets']. Run `pip install -U ipywidgets`, then restart the notebook server for rich notebook output.\n"
     ]
    },
    {
     "ename": "IsADirectoryError",
     "evalue": "[Errno 21] Is a directory: '/home/mcwave/code/automath/atp/datasets/provability/rag_20240614/.ipynb_checkpoints'",
     "output_type": "error",
     "traceback": [
      "\u001b[0;31m---------------------------------------------------------------------------\u001b[0m",
      "\u001b[0;31mIsADirectoryError\u001b[0m                         Traceback (most recent call last)",
      "Cell \u001b[0;32mIn[1], line 55\u001b[0m\n\u001b[1;32m     52\u001b[0m         shutil\u001b[38;5;241m.\u001b[39mcopy2(os\u001b[38;5;241m.\u001b[39mpath\u001b[38;5;241m.\u001b[39mjoin(source_folder2, file_name), os\u001b[38;5;241m.\u001b[39mpath\u001b[38;5;241m.\u001b[39mjoin(destination_folder, file_name))\n\u001b[1;32m     54\u001b[0m \u001b[38;5;66;03m# Example usage\u001b[39;00m\n\u001b[0;32m---> 55\u001b[0m \u001b[43mmerge_pickle_folders\u001b[49m\u001b[43m(\u001b[49m\u001b[38;5;124;43m'\u001b[39;49m\u001b[38;5;124;43m/home/mcwave/code/automath/atp/datasets/provability/rag_20240613\u001b[39;49m\u001b[38;5;124;43m'\u001b[39;49m\u001b[43m,\u001b[49m\u001b[43m \u001b[49m\n\u001b[1;32m     56\u001b[0m \u001b[43m                     \u001b[49m\u001b[38;5;124;43m'\u001b[39;49m\u001b[38;5;124;43m/home/mcwave/code/automath/atp/datasets/provability/rag_20240614\u001b[39;49m\u001b[38;5;124;43m'\u001b[39;49m\u001b[43m,\u001b[49m\u001b[43m \u001b[49m\n\u001b[1;32m     57\u001b[0m \u001b[43m                     \u001b[49m\u001b[38;5;124;43m'\u001b[39;49m\u001b[38;5;124;43m/home/mcwave/code/automath/atp/datasets/provability/rag_merged\u001b[39;49m\u001b[38;5;124;43m'\u001b[39;49m\u001b[43m)\u001b[49m\n",
      "Cell \u001b[0;32mIn[1], line 52\u001b[0m, in \u001b[0;36mmerge_pickle_folders\u001b[0;34m(source_folder1, source_folder2, destination_folder)\u001b[0m\n\u001b[1;32m     50\u001b[0m unique_files2 \u001b[38;5;241m=\u001b[39m files2 \u001b[38;5;241m-\u001b[39m files1\n\u001b[1;32m     51\u001b[0m \u001b[38;5;28;01mfor\u001b[39;00m file_name \u001b[38;5;129;01min\u001b[39;00m unique_files2:\n\u001b[0;32m---> 52\u001b[0m     \u001b[43mshutil\u001b[49m\u001b[38;5;241;43m.\u001b[39;49m\u001b[43mcopy2\u001b[49m\u001b[43m(\u001b[49m\u001b[43mos\u001b[49m\u001b[38;5;241;43m.\u001b[39;49m\u001b[43mpath\u001b[49m\u001b[38;5;241;43m.\u001b[39;49m\u001b[43mjoin\u001b[49m\u001b[43m(\u001b[49m\u001b[43msource_folder2\u001b[49m\u001b[43m,\u001b[49m\u001b[43m \u001b[49m\u001b[43mfile_name\u001b[49m\u001b[43m)\u001b[49m\u001b[43m,\u001b[49m\u001b[43m \u001b[49m\u001b[43mos\u001b[49m\u001b[38;5;241;43m.\u001b[39;49m\u001b[43mpath\u001b[49m\u001b[38;5;241;43m.\u001b[39;49m\u001b[43mjoin\u001b[49m\u001b[43m(\u001b[49m\u001b[43mdestination_folder\u001b[49m\u001b[43m,\u001b[49m\u001b[43m \u001b[49m\u001b[43mfile_name\u001b[49m\u001b[43m)\u001b[49m\u001b[43m)\u001b[49m\n",
      "File \u001b[0;32m~/anaconda3/envs/atp/lib/python3.10/shutil.py:434\u001b[0m, in \u001b[0;36mcopy2\u001b[0;34m(src, dst, follow_symlinks)\u001b[0m\n\u001b[1;32m    432\u001b[0m \u001b[38;5;28;01mif\u001b[39;00m os\u001b[38;5;241m.\u001b[39mpath\u001b[38;5;241m.\u001b[39misdir(dst):\n\u001b[1;32m    433\u001b[0m     dst \u001b[38;5;241m=\u001b[39m os\u001b[38;5;241m.\u001b[39mpath\u001b[38;5;241m.\u001b[39mjoin(dst, os\u001b[38;5;241m.\u001b[39mpath\u001b[38;5;241m.\u001b[39mbasename(src))\n\u001b[0;32m--> 434\u001b[0m \u001b[43mcopyfile\u001b[49m\u001b[43m(\u001b[49m\u001b[43msrc\u001b[49m\u001b[43m,\u001b[49m\u001b[43m \u001b[49m\u001b[43mdst\u001b[49m\u001b[43m,\u001b[49m\u001b[43m \u001b[49m\u001b[43mfollow_symlinks\u001b[49m\u001b[38;5;241;43m=\u001b[39;49m\u001b[43mfollow_symlinks\u001b[49m\u001b[43m)\u001b[49m\n\u001b[1;32m    435\u001b[0m copystat(src, dst, follow_symlinks\u001b[38;5;241m=\u001b[39mfollow_symlinks)\n\u001b[1;32m    436\u001b[0m \u001b[38;5;28;01mreturn\u001b[39;00m dst\n",
      "File \u001b[0;32m~/anaconda3/envs/atp/lib/python3.10/shutil.py:254\u001b[0m, in \u001b[0;36mcopyfile\u001b[0;34m(src, dst, follow_symlinks)\u001b[0m\n\u001b[1;32m    252\u001b[0m     os\u001b[38;5;241m.\u001b[39msymlink(os\u001b[38;5;241m.\u001b[39mreadlink(src), dst)\n\u001b[1;32m    253\u001b[0m \u001b[38;5;28;01melse\u001b[39;00m:\n\u001b[0;32m--> 254\u001b[0m     \u001b[38;5;28;01mwith\u001b[39;00m \u001b[38;5;28;43mopen\u001b[39;49m\u001b[43m(\u001b[49m\u001b[43msrc\u001b[49m\u001b[43m,\u001b[49m\u001b[43m \u001b[49m\u001b[38;5;124;43m'\u001b[39;49m\u001b[38;5;124;43mrb\u001b[39;49m\u001b[38;5;124;43m'\u001b[39;49m\u001b[43m)\u001b[49m \u001b[38;5;28;01mas\u001b[39;00m fsrc:\n\u001b[1;32m    255\u001b[0m         \u001b[38;5;28;01mtry\u001b[39;00m:\n\u001b[1;32m    256\u001b[0m             \u001b[38;5;28;01mwith\u001b[39;00m \u001b[38;5;28mopen\u001b[39m(dst, \u001b[38;5;124m'\u001b[39m\u001b[38;5;124mwb\u001b[39m\u001b[38;5;124m'\u001b[39m) \u001b[38;5;28;01mas\u001b[39;00m fdst:\n\u001b[1;32m    257\u001b[0m                 \u001b[38;5;66;03m# macOS\u001b[39;00m\n",
      "\u001b[0;31mIsADirectoryError\u001b[0m: [Errno 21] Is a directory: '/home/mcwave/code/automath/atp/datasets/provability/rag_20240614/.ipynb_checkpoints'"
     ]
    }
   ],
   "source": [
    "import os\n",
    "import pickle\n",
    "import shutil\n",
    "\n",
    "def load_multiple_pickles(file_path):\n",
    "    \"\"\" Load all objects from a pickle file where multiple objects are stored sequentially. \"\"\"\n",
    "    objects = []\n",
    "    with open(file_path, 'rb') as file:\n",
    "        while True:\n",
    "            try:\n",
    "                objects.append(pickle.load(file))\n",
    "            except EOFError:\n",
    "                break\n",
    "    return objects\n",
    "\n",
    "def save_multiple_pickles(objects, file_path):\n",
    "    \"\"\" Save multiple objects to a pickle file. \"\"\"\n",
    "    with open(file_path, 'wb') as file:\n",
    "        for obj in objects:\n",
    "            pickle.dump(obj, file)\n",
    "\n",
    "def merge_pickle_folders(source_folder1, source_folder2, destination_folder):\n",
    "    \"\"\" Merge pickle files from two source folders into a destination folder. \"\"\"\n",
    "    # Create destination folder if it doesn't exist\n",
    "    os.makedirs(destination_folder, exist_ok=True)\n",
    "\n",
    "    # Get all pickle files from both folders\n",
    "    files1 = set(os.listdir(source_folder1))\n",
    "    files2 = set(os.listdir(source_folder2))\n",
    "\n",
    "    # Merge common files\n",
    "    common_files = files1.intersection(files2)\n",
    "    for file_name in common_files:\n",
    "        file_path1 = os.path.join(source_folder1, file_name)\n",
    "        file_path2 = os.path.join(source_folder2, file_name)\n",
    "        objects1 = load_multiple_pickles(file_path1)\n",
    "        objects2 = load_multiple_pickles(file_path2)\n",
    "\n",
    "        # Combine lists of objects from both files\n",
    "        combined_objects = objects1 + objects2\n",
    "\n",
    "        save_multiple_pickles(combined_objects, os.path.join(destination_folder, file_name))\n",
    "\n",
    "    # Copy unique files from folder1\n",
    "    unique_files1 = files1 - files2\n",
    "    for file_name in unique_files1:\n",
    "        shutil.copy2(os.path.join(source_folder1, file_name), os.path.join(destination_folder, file_name))\n",
    "\n",
    "    # Copy unique files from folder2\n",
    "    unique_files2 = files2 - files1\n",
    "    for file_name in unique_files2:\n",
    "        shutil.copy2(os.path.join(source_folder2, file_name), os.path.join(destination_folder, file_name))\n",
    "\n",
    "# Example usage\n",
    "merge_pickle_folders('/home/mcwave/code/automath/atp/datasets/provability/rag_20240613', \n",
    "                     '/home/mcwave/code/automath/atp/datasets/provability/rag_20240614', \n",
    "                     '/home/mcwave/code/automath/atp/datasets/provability/rag_merged')\n"
   ]
  }
 ],
 "metadata": {
  "kernelspec": {
   "display_name": "atp",
   "language": "python",
   "name": "atp"
  },
  "language_info": {
   "codemirror_mode": {
    "name": "ipython",
    "version": 3
   },
   "file_extension": ".py",
   "mimetype": "text/x-python",
   "name": "python",
   "nbconvert_exporter": "python",
   "pygments_lexer": "ipython3",
   "version": "3.10.14"
  }
 },
 "nbformat": 4,
 "nbformat_minor": 5
}
