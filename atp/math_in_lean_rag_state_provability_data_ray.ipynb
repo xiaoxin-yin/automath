{
 "cells": [
  {
   "cell_type": "code",
   "execution_count": 2,
   "id": "2cd159f2",
   "metadata": {},
   "outputs": [
    {
     "name": "stderr",
     "output_type": "stream",
     "text": [
      "/home/mcwave/anaconda3/envs/atp/lib/python3.10/site-packages/tqdm/auto.py:21: TqdmWarning: IProgress not found. Please update jupyter and ipywidgets. See https://ipywidgets.readthedocs.io/en/stable/user_install.html\n",
      "  from .autonotebook import tqdm as notebook_tqdm\n",
      "2024-06-06 18:20:36,274\tINFO util.py:154 -- Missing packages: ['ipywidgets']. Run `pip install -U ipywidgets`, then restart the notebook server for rich notebook output.\n"
     ]
    }
   ],
   "source": [
    "import os\n",
    "import lean_dojo\n",
    "from lean_dojo import *\n",
    "from random import randint\n",
    "import random\n",
    "import time\n",
    "import pickle\n",
    "import ray\n",
    "import json\n",
    "import faiss\n",
    "import subprocess\n",
    "\n",
    "import torch\n",
    "import torch.nn as nn\n",
    "from torch.utils.data import Dataset, DataLoader\n",
    "from transformers import BertTokenizer, BertModel\n",
    "\n",
    "from utils.lean_rag_utils import *"
   ]
  },
  {
   "cell_type": "code",
   "execution_count": 7,
   "id": "7d967085",
   "metadata": {},
   "outputs": [
    {
     "name": "stdout",
     "output_type": "stream",
     "text": [
      "Current memory RSS usage: 605.13 MB\n",
      "Current memory VMS usage: 4728.60 MB\n"
     ]
    }
   ],
   "source": [
    "import psutil\n",
    "\n",
    "# Get the current process object\n",
    "process = psutil.Process(os.getpid())\n",
    "\n",
    "# Memory info (in bytes)\n",
    "mem_info = process.memory_info()\n",
    "\n",
    "# Print the RSS (Resident Set Size): total physical memory used\n",
    "print(f\"Current memory RSS usage: {mem_info.rss / (1024 ** 2):.2f} MB\")\n",
    "\n",
    "# Print the VMS (Virtual Memory Size): total virtual memory used\n",
    "print(f\"Current memory VMS usage: {mem_info.vms / (1024 ** 2):.2f} MB\")"
   ]
  },
  {
   "cell_type": "code",
   "execution_count": 3,
   "id": "621f53cb",
   "metadata": {},
   "outputs": [],
   "source": [
    "fin = open('/home/mcwave/code/automath/atp/datasets/tac_templates_in_files/train_tac_templates.json', 'r')\n",
    "train_tac_templates = json.load(fin)\n",
    "fin.close()\n",
    "all_file_paths = list(set([x[-1] for x in train_tac_templates]))"
   ]
  },
  {
   "cell_type": "code",
   "execution_count": 7,
   "id": "24dadb33",
   "metadata": {},
   "outputs": [
    {
     "data": {
      "text/plain": [
       "[['rcases hs with ⟨y, hy⟩',\n",
       "  'rcases {set} with ⟨{nvar0}, {nvar1}⟩',\n",
       "  \"Submodule.eq_top_of_nonempty_interior'\",\n",
       "  '.lake/packages/mathlib/Mathlib/Topology/Algebra/Module/Basic.lean'],\n",
       " [\"refine' Submodule.eq_top_iff'.2 fun x => _\",\n",
       "  \"refine' {custom_def:.topologicalClosure (s : Submodule R M) : Submodule R M}.eq_top_iff'.2 fun x => _\",\n",
       "  \"Submodule.eq_top_of_nonempty_interior'\",\n",
       "  '.lake/packages/mathlib/Mathlib/Topology/Algebra/Module/Basic.lean'],\n",
       " ['rw [mem_interior_iff_mem_nhds] at hy',\n",
       "  'rw [mem_interior_iff_mem_nhds] at {hypothesis}',\n",
       "  \"Submodule.eq_top_of_nonempty_interior'\",\n",
       "  '.lake/packages/mathlib/Mathlib/Topology/Algebra/Module/Basic.lean'],\n",
       " ['have : Tendsto (fun c : R => y + c • x) (𝓝[{ x : R | IsUnit x }] 0) (𝓝 (y + (0 : R) • x)) :=',\n",
       "  'have : Tendsto (fun c : {type} => {variable} + c • {variable}) (𝓝[{ {variable} : {type} | IsUnit {variable} }] 0) (𝓝 ({variable} + (0 : {type}) • {variable})) :=',\n",
       "  \"Submodule.eq_top_of_nonempty_interior'\",\n",
       "  '.lake/packages/mathlib/Mathlib/Topology/Algebra/Module/Basic.lean'],\n",
       " ['tendsto_const_nhds.add ((tendsto_nhdsWithin_of_tendsto_nhds tendsto_id).smul tendsto_const_nhds)',\n",
       "  'tendsto_const_nhds.add ((tendsto_nhdsWithin_of_tendsto_nhds tendsto_id).smul tendsto_const_nhds)',\n",
       "  \"Submodule.eq_top_of_nonempty_interior'\",\n",
       "  '.lake/packages/mathlib/Mathlib/Topology/Algebra/Module/Basic.lean'],\n",
       " ['rw [zero_smul, add_zero] at this',\n",
       "  'rw [zero_smul, add_zero] at {function}',\n",
       "  \"Submodule.eq_top_of_nonempty_interior'\",\n",
       "  '.lake/packages/mathlib/Mathlib/Topology/Algebra/Module/Basic.lean'],\n",
       " ['obtain ⟨_, hu : y + _ • _ ∈ s, u, rfl⟩ :=',\n",
       "  'obtain ⟨_, hu : {variable} + _ • _ ∈ {unknown}, u, rfl⟩ :=',\n",
       "  \"Submodule.eq_top_of_nonempty_interior'\",\n",
       "  '.lake/packages/mathlib/Mathlib/Topology/Algebra/Module/Basic.lean'],\n",
       " ['nonempty_of_mem (inter_mem (Filter.mem_map.1 (this hy)) self_mem_nhdsWithin)',\n",
       "  'nonempty_of_mem (inter_mem (Filter.mem_map.1 ({function} {hypothesis})) self_mem_nhdsWithin)',\n",
       "  \"Submodule.eq_top_of_nonempty_interior'\",\n",
       "  '.lake/packages/mathlib/Mathlib/Topology/Algebra/Module/Basic.lean'],\n",
       " [\"have hy' : y ∈ ↑s := mem_of_mem_nhds hy\",\n",
       "  \"have hy' : {variable} ∈ ↑{unknown} := mem_of_mem_nhds {hypothesis}\",\n",
       "  \"Submodule.eq_top_of_nonempty_interior'\",\n",
       "  '.lake/packages/mathlib/Mathlib/Topology/Algebra/Module/Basic.lean'],\n",
       " [\"rwa [s.add_mem_iff_right hy', ← Units.smul_def, s.smul_mem_iff' u] at hu\",\n",
       "  \"rwa [{unknown}.add_mem_iff_right {hypothesis}, ← Units.smul_def, {unknown}.smul_mem_iff' {unknown}] at {hypothesis}\",\n",
       "  \"Submodule.eq_top_of_nonempty_interior'\",\n",
       "  '.lake/packages/mathlib/Mathlib/Topology/Algebra/Module/Basic.lean']]"
      ]
     },
     "execution_count": 7,
     "metadata": {},
     "output_type": "execute_result"
    }
   ],
   "source": [
    "[x for x in train_tac_templates if 'Submodule.eq_top_of_nonempty_interior' in x[2]]"
   ]
  },
  {
   "cell_type": "code",
   "execution_count": 3,
   "id": "b2adaa4f",
   "metadata": {},
   "outputs": [],
   "source": [
    "# repo = LeanGitRepo(\n",
    "#     \"https://github.com/xiaoxin-yin/math-in-lean\",\n",
    "#     \"20077bcd4392317ddb9605404fda3a85e40e8956\"\n",
    "# )\n",
    "\n",
    "# fin = open('/home/mcwave/code/automath/atp/datasets/traced_repo_math_in_lean.pkl', 'rb')\n",
    "# traced_repo = pickle.load(fin)\n",
    "# fin.close()"
   ]
  },
  {
   "cell_type": "code",
   "execution_count": 4,
   "id": "1c1bedd0",
   "metadata": {},
   "outputs": [
    {
     "name": "stderr",
     "output_type": "stream",
     "text": [
      "2024-06-05 00:20:53,747\tINFO worker.py:1740 -- Started a local Ray instance. View the dashboard at \u001b[1m\u001b[32m127.0.0.1:8265 \u001b[39m\u001b[22m\n"
     ]
    },
    {
     "name": "stdout",
     "output_type": "stream",
     "text": [
      "\u001b[36m(compute_provability_training_data_remote pid=760220)\u001b[0m Worker 75 on .lake/packages/mathlib/Mathlib/Data/Set/Intervals/OrdConnected.lean\n",
      "\u001b[36m(compute_provability_training_data_remote pid=760220)\u001b[0m nvcc: NVIDIA (R) Cuda compiler driver\n",
      "\u001b[36m(compute_provability_training_data_remote pid=760220)\u001b[0m Copyright (c) 2005-2023 NVIDIA Corporation\n",
      "\u001b[36m(compute_provability_training_data_remote pid=760220)\u001b[0m Built on Tue_Jun_13_19:16:58_PDT_2023\n",
      "\u001b[36m(compute_provability_training_data_remote pid=760220)\u001b[0m Cuda compilation tools, release 12.2, V12.2.91\n",
      "\u001b[36m(compute_provability_training_data_remote pid=760220)\u001b[0m Build cuda_12.2.r12.2/compiler.32965470_0\n",
      "\u001b[36m(compute_provability_training_data_remote pid=760220)\u001b[0m \n",
      "\u001b[36m(compute_provability_training_data_remote pid=760220)\u001b[0m CUDA: True\n",
      "\u001b[36m(compute_provability_training_data_remote pid=760220)\u001b[0m os.environ['LD_LIBRARY_PATH'] /usr/local/cuda-12.2/lib64:\n",
      "\u001b[36m(compute_provability_training_data_remote pid=760220)\u001b[0m Worker 75 Loading repo...\n",
      "\u001b[36m(compute_provability_training_data_remote pid=760220)\u001b[0m Worker 75 Done.\n",
      "\u001b[36m(compute_provability_training_data_remote pid=760220)\u001b[0m Worker 75 Loading models...\n",
      "\u001b[36m(compute_provability_training_data_remote pid=760220)\u001b[0m cuda:0\n",
      "\u001b[36m(compute_provability_training_data_remote pid=760220)\u001b[0m Worker 75 Loading faiss index ...\n"
     ]
    },
    {
     "name": "stderr",
     "output_type": "stream",
     "text": [
      "\u001b[36m(compute_provability_training_data_remote pid=760220)\u001b[0m 2024-06-05 00:21:27.046 | WARNING  | lean_dojo.interaction.dojo:__init__:162 - Using Lean 4 without a hard timeout may hang indefinitely.\n"
     ]
    },
    {
     "name": "stdout",
     "output_type": "stream",
     "text": [
      "\u001b[36m(compute_provability_training_data_remote pid=760220)\u001b[0m Worker 75 Computing provability ...\n",
      "\u001b[36m(compute_provability_training_data_remote pid=760220)\u001b[0m Loading Theorem: Set.ordConnected_of_Ioo theorem ordConnected_of_Ioo {α : Type*} [PartialOrder α] {s : Set α}\n",
      "\u001b[36m(compute_provability_training_data_remote pid=760220)\u001b[0m     (hs : ∀ x ∈ s, ∀ y ∈ s, x < y → Ioo x y ⊆ s) : OrdConnected s\n",
      "\u001b[36m(compute_provability_training_data_remote pid=760220)\u001b[0m Done\n",
      "\u001b[36m(compute_provability_training_data_remote pid=760220)\u001b[0m Sucessfully followed proof\n",
      "\u001b[36m(compute_provability_training_data_remote pid=760220)\u001b[0m INIT_STATE: α✝ : Type u_1\n",
      "\u001b[36m(compute_provability_training_data_remote pid=760220)\u001b[0m β : Type u_2\n",
      "\u001b[36m(compute_provability_training_data_remote pid=760220)\u001b[0m inst✝² : Preorder α✝\n",
      "\u001b[36m(compute_provability_training_data_remote pid=760220)\u001b[0m inst✝¹ : Preorder β\n",
      "\u001b[36m(compute_provability_training_data_remote pid=760220)\u001b[0m s✝ t : Set α✝\n",
      "\u001b[36m(compute_provability_training_data_remote pid=760220)\u001b[0m α : Type u_3\n",
      "\u001b[36m(compute_provability_training_data_remote pid=760220)\u001b[0m inst✝ : PartialOrder α\n",
      "\u001b[36m(compute_provability_training_data_remote pid=760220)\u001b[0m s : Set α\n",
      "\u001b[36m(compute_provability_training_data_remote pid=760220)\u001b[0m hs : ∀ x ∈ s, ∀ y ∈ s, x < y → Ioo x y ⊆ s\n",
      "\u001b[36m(compute_provability_training_data_remote pid=760220)\u001b[0m ⊢ OrdConnected s\n",
      "\u001b[36m(compute_provability_training_data_remote pid=760220)\u001b[0m {'α': 'type', 's': 'set', 'hs': 'hypothesis'}\n",
      "\u001b[36m(compute_provability_training_data_remote pid=760220)\u001b[0m 10000 steps executed\n",
      "\u001b[36m(compute_provability_training_data_remote pid=760220)\u001b[0m 20000 steps executed\n",
      "\u001b[36m(compute_provability_training_data_remote pid=760220)\u001b[0m 30000 steps executed\n",
      "\u001b[36m(compute_provability_training_data_remote pid=760220)\u001b[0m 40000 steps executed\n",
      "\u001b[36m(compute_provability_training_data_remote pid=760220)\u001b[0m 50000 steps executed\n"
     ]
    },
    {
     "name": "stderr",
     "output_type": "stream",
     "text": [
      "\u001b[36m(compute_provability_training_data_remote pid=760220)\u001b[0m 2024-06-05 00:28:56.372 | WARNING  | lean_dojo.interaction.dojo:__init__:162 - Using Lean 4 without a hard timeout may hang indefinitely.\n"
     ]
    },
    {
     "name": "stdout",
     "output_type": "stream",
     "text": [
      "\u001b[36m(compute_provability_training_data_remote pid=760220)\u001b[0m 1608 states in total\n",
      "\u001b[36m(compute_provability_training_data_remote pid=760220)\u001b[0m 1 proven states\n",
      "\u001b[36m(compute_provability_training_data_remote pid=760220)\u001b[0m 12 state pairs found in Set.ordConnected_of_Ioo .lake/packages/mathlib/Mathlib/Data/Set/Intervals/OrdConnected.lean\n",
      "\u001b[36m(compute_provability_training_data_remote pid=760220)\u001b[0m Loading Theorem: OrderEmbedding.image_Icc theorem image_Icc (e : α ↪o β) (he : OrdConnected (range e)) (x y : α) :\n",
      "\u001b[36m(compute_provability_training_data_remote pid=760220)\u001b[0m     e '' Icc x y = Icc (e x) (e y)\n",
      "\u001b[36m(compute_provability_training_data_remote pid=760220)\u001b[0m Done\n",
      "\u001b[36m(compute_provability_training_data_remote pid=760220)\u001b[0m Sucessfully followed proof\n",
      "\u001b[36m(compute_provability_training_data_remote pid=760220)\u001b[0m INIT_STATE: α : Type u_1\n",
      "\u001b[36m(compute_provability_training_data_remote pid=760220)\u001b[0m β : Type u_2\n",
      "\u001b[36m(compute_provability_training_data_remote pid=760220)\u001b[0m inst✝¹ : Preorder α\n",
      "\u001b[36m(compute_provability_training_data_remote pid=760220)\u001b[0m inst✝ : Preorder β\n",
      "\u001b[36m(compute_provability_training_data_remote pid=760220)\u001b[0m e : α ↪o β\n",
      "\u001b[36m(compute_provability_training_data_remote pid=760220)\u001b[0m he : OrdConnected (range ⇑e)\n",
      "\u001b[36m(compute_provability_training_data_remote pid=760220)\u001b[0m x y : α\n",
      "\u001b[36m(compute_provability_training_data_remote pid=760220)\u001b[0m ⊢ ⇑e '' Icc x y = Icc (e x) (e y)\n",
      "\u001b[36m(compute_provability_training_data_remote pid=760220)\u001b[0m {'α': 'type', 'β': 'type', 'e': 'unknown', 'he': 'unknown', 'x': 'variable', 'y': 'variable'}\n",
      "\u001b[36m(compute_provability_training_data_remote pid=760220)\u001b[0m 10000 steps executed\n",
      "\u001b[36m(compute_provability_training_data_remote pid=760220)\u001b[0m 20000 steps executed\n",
      "\u001b[36m(compute_provability_training_data_remote pid=760220)\u001b[0m 30000 steps executed\n",
      "\u001b[36m(compute_provability_training_data_remote pid=760220)\u001b[0m 40000 steps executed\n",
      "\u001b[36m(compute_provability_training_data_remote pid=760220)\u001b[0m 50000 steps executed\n"
     ]
    },
    {
     "name": "stderr",
     "output_type": "stream",
     "text": [
      "\u001b[36m(compute_provability_training_data_remote pid=760220)\u001b[0m 2024-06-05 00:31:13.183 | WARNING  | lean_dojo.interaction.dojo:__init__:162 - Using Lean 4 without a hard timeout may hang indefinitely.\n"
     ]
    },
    {
     "name": "stdout",
     "output_type": "stream",
     "text": [
      "\u001b[36m(compute_provability_training_data_remote pid=760220)\u001b[0m 2159 states in total\n",
      "\u001b[36m(compute_provability_training_data_remote pid=760220)\u001b[0m 1 proven states\n",
      "\u001b[36m(compute_provability_training_data_remote pid=760220)\u001b[0m 16 state pairs found in OrderEmbedding.image_Icc .lake/packages/mathlib/Mathlib/Data/Set/Intervals/OrdConnected.lean\n",
      "\u001b[36m(compute_provability_training_data_remote pid=760220)\u001b[0m Loading Theorem: OrderEmbedding.image_Ico theorem image_Ico (e : α ↪o β) (he : OrdConnected (range e)) (x y : α) :\n",
      "\u001b[36m(compute_provability_training_data_remote pid=760220)\u001b[0m     e '' Ico x y = Ico (e x) (e y)\n",
      "\u001b[36m(compute_provability_training_data_remote pid=760220)\u001b[0m Done\n",
      "\u001b[36m(compute_provability_training_data_remote pid=760220)\u001b[0m Sucessfully followed proof\n",
      "\u001b[36m(compute_provability_training_data_remote pid=760220)\u001b[0m INIT_STATE: α : Type u_1\n",
      "\u001b[36m(compute_provability_training_data_remote pid=760220)\u001b[0m β : Type u_2\n",
      "\u001b[36m(compute_provability_training_data_remote pid=760220)\u001b[0m inst✝¹ : Preorder α\n",
      "\u001b[36m(compute_provability_training_data_remote pid=760220)\u001b[0m inst✝ : Preorder β\n",
      "\u001b[36m(compute_provability_training_data_remote pid=760220)\u001b[0m e : α ↪o β\n",
      "\u001b[36m(compute_provability_training_data_remote pid=760220)\u001b[0m he : OrdConnected (range ⇑e)\n",
      "\u001b[36m(compute_provability_training_data_remote pid=760220)\u001b[0m x y : α\n",
      "\u001b[36m(compute_provability_training_data_remote pid=760220)\u001b[0m ⊢ ⇑e '' Ico x y = Ico (e x) (e y)\n",
      "\u001b[36m(compute_provability_training_data_remote pid=760220)\u001b[0m {'α': 'type', 'β': 'type', 'e': 'unknown', 'he': 'unknown', 'x': 'variable', 'y': 'variable'}\n",
      "\u001b[36m(compute_provability_training_data_remote pid=760220)\u001b[0m 10000 steps executed\n",
      "\u001b[36m(compute_provability_training_data_remote pid=760220)\u001b[0m 20000 steps executed\n",
      "\u001b[36m(compute_provability_training_data_remote pid=760220)\u001b[0m 30000 steps executed\n",
      "\u001b[36m(compute_provability_training_data_remote pid=760220)\u001b[0m 40000 steps executed\n",
      "\u001b[36m(compute_provability_training_data_remote pid=760220)\u001b[0m 50000 steps executed\n"
     ]
    },
    {
     "name": "stderr",
     "output_type": "stream",
     "text": [
      "\u001b[36m(compute_provability_training_data_remote pid=760220)\u001b[0m 2024-06-05 00:35:32.544 | WARNING  | lean_dojo.interaction.dojo:__init__:162 - Using Lean 4 without a hard timeout may hang indefinitely.\n"
     ]
    },
    {
     "name": "stdout",
     "output_type": "stream",
     "text": [
      "\u001b[36m(compute_provability_training_data_remote pid=760220)\u001b[0m 2508 states in total\n",
      "\u001b[36m(compute_provability_training_data_remote pid=760220)\u001b[0m 1 proven states\n",
      "\u001b[36m(compute_provability_training_data_remote pid=760220)\u001b[0m 18 state pairs found in OrderEmbedding.image_Ico .lake/packages/mathlib/Mathlib/Data/Set/Intervals/OrdConnected.lean\n",
      "\u001b[36m(compute_provability_training_data_remote pid=760220)\u001b[0m Loading Theorem: OrderEmbedding.image_Ioc theorem image_Ioc (e : α ↪o β) (he : OrdConnected (range e)) (x y : α) :\n",
      "\u001b[36m(compute_provability_training_data_remote pid=760220)\u001b[0m     e '' Ioc x y = Ioc (e x) (e y)\n",
      "\u001b[36m(compute_provability_training_data_remote pid=760220)\u001b[0m Done\n",
      "\u001b[36m(compute_provability_training_data_remote pid=760220)\u001b[0m Sucessfully followed proof\n",
      "\u001b[36m(compute_provability_training_data_remote pid=760220)\u001b[0m INIT_STATE: α : Type u_1\n",
      "\u001b[36m(compute_provability_training_data_remote pid=760220)\u001b[0m β : Type u_2\n",
      "\u001b[36m(compute_provability_training_data_remote pid=760220)\u001b[0m inst✝¹ : Preorder α\n",
      "\u001b[36m(compute_provability_training_data_remote pid=760220)\u001b[0m inst✝ : Preorder β\n",
      "\u001b[36m(compute_provability_training_data_remote pid=760220)\u001b[0m e : α ↪o β\n",
      "\u001b[36m(compute_provability_training_data_remote pid=760220)\u001b[0m he : OrdConnected (range ⇑e)\n",
      "\u001b[36m(compute_provability_training_data_remote pid=760220)\u001b[0m x y : α\n",
      "\u001b[36m(compute_provability_training_data_remote pid=760220)\u001b[0m ⊢ ⇑e '' Ioc x y = Ioc (e x) (e y)\n",
      "\u001b[36m(compute_provability_training_data_remote pid=760220)\u001b[0m {'α': 'type', 'β': 'type', 'e': 'unknown', 'he': 'unknown', 'x': 'variable', 'y': 'variable'}\n",
      "\u001b[36m(compute_provability_training_data_remote pid=760220)\u001b[0m 10000 steps executed\n",
      "\u001b[36m(compute_provability_training_data_remote pid=760220)\u001b[0m 20000 steps executed\n",
      "\u001b[36m(compute_provability_training_data_remote pid=760220)\u001b[0m 30000 steps executed\n",
      "\u001b[36m(compute_provability_training_data_remote pid=760220)\u001b[0m 40000 steps executed\n",
      "\u001b[36m(compute_provability_training_data_remote pid=760220)\u001b[0m 50000 steps executed\n"
     ]
    },
    {
     "name": "stderr",
     "output_type": "stream",
     "text": [
      "\u001b[36m(compute_provability_training_data_remote pid=760220)\u001b[0m 2024-06-05 00:37:45.345 | WARNING  | lean_dojo.interaction.dojo:__init__:162 - Using Lean 4 without a hard timeout may hang indefinitely.\n"
     ]
    },
    {
     "name": "stdout",
     "output_type": "stream",
     "text": [
      "\u001b[36m(compute_provability_training_data_remote pid=760220)\u001b[0m 1895 states in total\n",
      "\u001b[36m(compute_provability_training_data_remote pid=760220)\u001b[0m 1 proven states\n",
      "\u001b[36m(compute_provability_training_data_remote pid=760220)\u001b[0m 8 state pairs found in OrderEmbedding.image_Ioc .lake/packages/mathlib/Mathlib/Data/Set/Intervals/OrdConnected.lean\n",
      "\u001b[36m(compute_provability_training_data_remote pid=760220)\u001b[0m Loading Theorem: OrderEmbedding.image_Ioo theorem image_Ioo (e : α ↪o β) (he : OrdConnected (range e)) (x y : α) :\n",
      "\u001b[36m(compute_provability_training_data_remote pid=760220)\u001b[0m     e '' Ioo x y = Ioo (e x) (e y)\n",
      "\u001b[36m(compute_provability_training_data_remote pid=760220)\u001b[0m Done\n",
      "\u001b[36m(compute_provability_training_data_remote pid=760220)\u001b[0m Sucessfully followed proof\n",
      "\u001b[36m(compute_provability_training_data_remote pid=760220)\u001b[0m INIT_STATE: α : Type u_1\n",
      "\u001b[36m(compute_provability_training_data_remote pid=760220)\u001b[0m β : Type u_2\n",
      "\u001b[36m(compute_provability_training_data_remote pid=760220)\u001b[0m inst✝¹ : Preorder α\n",
      "\u001b[36m(compute_provability_training_data_remote pid=760220)\u001b[0m inst✝ : Preorder β\n",
      "\u001b[36m(compute_provability_training_data_remote pid=760220)\u001b[0m e : α ↪o β\n",
      "\u001b[36m(compute_provability_training_data_remote pid=760220)\u001b[0m he : OrdConnected (range ⇑e)\n",
      "\u001b[36m(compute_provability_training_data_remote pid=760220)\u001b[0m x y : α\n",
      "\u001b[36m(compute_provability_training_data_remote pid=760220)\u001b[0m ⊢ ⇑e '' Ioo x y = Ioo (e x) (e y)\n",
      "\u001b[36m(compute_provability_training_data_remote pid=760220)\u001b[0m {'α': 'type', 'β': 'type', 'e': 'unknown', 'he': 'unknown', 'x': 'variable', 'y': 'variable'}\n",
      "\u001b[36m(compute_provability_training_data_remote pid=760220)\u001b[0m 10000 steps executed\n",
      "\u001b[36m(compute_provability_training_data_remote pid=760220)\u001b[0m 20000 steps executed\n",
      "\u001b[36m(compute_provability_training_data_remote pid=760220)\u001b[0m 30000 steps executed\n",
      "\u001b[36m(compute_provability_training_data_remote pid=760220)\u001b[0m 40000 steps executed\n",
      "\u001b[36m(compute_provability_training_data_remote pid=760220)\u001b[0m Max run-time exceeded\n",
      "\u001b[36m(compute_provability_training_data_remote pid=760220)\u001b[0m 2331 states in total\n",
      "\u001b[36m(compute_provability_training_data_remote pid=760220)\u001b[0m 1 proven states\n",
      "\u001b[36m(compute_provability_training_data_remote pid=760220)\u001b[0m 20 state pairs found in OrderEmbedding.image_Ioo .lake/packages/mathlib/Mathlib/Data/Set/Intervals/OrdConnected.lean\n",
      "\u001b[36m(compute_provability_training_data_remote pid=760877)\u001b[0m Worker 77 on .lake/packages/mathlib/Mathlib/Data/Real/Archimedean.lean\n",
      "\u001b[36m(compute_provability_training_data_remote pid=760877)\u001b[0m nvcc: NVIDIA (R) Cuda compiler driver\n",
      "\u001b[36m(compute_provability_training_data_remote pid=760877)\u001b[0m Copyright (c) 2005-2023 NVIDIA Corporation\n",
      "\u001b[36m(compute_provability_training_data_remote pid=760877)\u001b[0m Built on Tue_Jun_13_19:16:58_PDT_2023\n",
      "\u001b[36m(compute_provability_training_data_remote pid=760877)\u001b[0m Cuda compilation tools, release 12.2, V12.2.91\n",
      "\u001b[36m(compute_provability_training_data_remote pid=760877)\u001b[0m Build cuda_12.2.r12.2/compiler.32965470_0\n",
      "\u001b[36m(compute_provability_training_data_remote pid=760877)\u001b[0m \n",
      "\u001b[36m(compute_provability_training_data_remote pid=760877)\u001b[0m CUDA: True\n",
      "\u001b[36m(compute_provability_training_data_remote pid=760877)\u001b[0m os.environ['LD_LIBRARY_PATH'] /usr/local/cuda-12.2/lib64:\n",
      "\u001b[36m(compute_provability_training_data_remote pid=760877)\u001b[0m Worker 77 Loading repo...\n",
      "\u001b[36m(compute_provability_training_data_remote pid=760877)\u001b[0m Worker 77 Done.\n",
      "\u001b[36m(compute_provability_training_data_remote pid=760877)\u001b[0m Worker 77 Loading models...\n",
      "\u001b[36m(compute_provability_training_data_remote pid=760877)\u001b[0m cuda:0\n",
      "\u001b[36m(compute_provability_training_data_remote pid=760877)\u001b[0m Worker 77 Loading faiss index ...\n",
      "\u001b[36m(compute_provability_training_data_remote pid=760877)\u001b[0m Worker 77 Computing provability ...\n",
      "\u001b[36m(compute_provability_training_data_remote pid=760877)\u001b[0m Loading Theorem: Real.isCauSeq_iff_lift theorem isCauSeq_iff_lift {f : ℕ → ℚ} : IsCauSeq abs f ↔ IsCauSeq abs fun i => (f i : ℝ)\n",
      "\u001b[36m(compute_provability_training_data_remote pid=760877)\u001b[0m Done\n"
     ]
    },
    {
     "name": "stderr",
     "output_type": "stream",
     "text": [
      "\u001b[36m(compute_provability_training_data_remote pid=760877)\u001b[0m 2024-06-05 01:01:33.136 | WARNING  | lean_dojo.interaction.dojo:__init__:162 - Using Lean 4 without a hard timeout may hang indefinitely.\n"
     ]
    },
    {
     "name": "stdout",
     "output_type": "stream",
     "text": [
      "\u001b[36m(compute_provability_training_data_remote pid=760877)\u001b[0m INIT_STATE: f : ℕ → ℚ\n",
      "\u001b[36m(compute_provability_training_data_remote pid=760877)\u001b[0m ⊢ IsCauSeq abs f ↔ IsCauSeq abs fun i => ↑(f i)\n",
      "\u001b[36m(compute_provability_training_data_remote pid=760877)\u001b[0m {'f': 'function'}\n",
      "\u001b[36m(compute_provability_training_data_remote pid=760877)\u001b[0m 10000 steps executed\n",
      "\u001b[36m(compute_provability_training_data_remote pid=760877)\u001b[0m 20000 steps executed\n",
      "\u001b[36m(compute_provability_training_data_remote pid=760877)\u001b[0m 30000 steps executed\n",
      "\u001b[36m(compute_provability_training_data_remote pid=761062)\u001b[0m Worker 74 on .lake/packages/mathlib/Mathlib/MeasureTheory/Measure/AEMeasurable.lean\n",
      "\u001b[36m(compute_provability_training_data_remote pid=761062)\u001b[0m nvcc: NVIDIA (R) Cuda compiler driver\n",
      "\u001b[36m(compute_provability_training_data_remote pid=761062)\u001b[0m Copyright (c) 2005-2023 NVIDIA Corporation\n",
      "\u001b[36m(compute_provability_training_data_remote pid=761062)\u001b[0m Built on Tue_Jun_13_19:16:58_PDT_2023\n",
      "\u001b[36m(compute_provability_training_data_remote pid=761062)\u001b[0m Cuda compilation tools, release 12.2, V12.2.91\n",
      "\u001b[36m(compute_provability_training_data_remote pid=761062)\u001b[0m Build cuda_12.2.r12.2/compiler.32965470_0\n",
      "\u001b[36m(compute_provability_training_data_remote pid=761062)\u001b[0m \n",
      "\u001b[36m(compute_provability_training_data_remote pid=761062)\u001b[0m CUDA: True\n",
      "\u001b[36m(compute_provability_training_data_remote pid=761062)\u001b[0m os.environ['LD_LIBRARY_PATH'] /usr/local/cuda-12.2/lib64:\n",
      "\u001b[36m(compute_provability_training_data_remote pid=761062)\u001b[0m Worker 74 Loading repo...\n"
     ]
    },
    {
     "ename": "OutOfMemoryError",
     "evalue": "Task was killed due to the node running low on memory.\nMemory on the node (IP: 192.168.0.192, ID: 671926fa8dfb06c61c26e948eac3754d1d9aea95f8777762687b280c) where the task (task ID: b8f2ebda523be91202ca084ed907e96a3b1bcdc001000000, name=compute_provability_training_data_remote, pid=760877, memory used=92.56GB) was running was 179.16GB / 188.54GB (0.950267), which exceeds the memory usage threshold of 0.95. Ray killed this worker (ID: 1842cc50fe7cd92eb247ea5ed9968f32318b71c83bc7a0038a0df364) because it was the most recently scheduled task; to see more information about memory usage on this node, use `ray logs raylet.out -ip 192.168.0.192`. To see the logs of the worker, use `ray logs worker-1842cc50fe7cd92eb247ea5ed9968f32318b71c83bc7a0038a0df364*out -ip 192.168.0.192. Top 10 memory users:\nPID\tMEM(GB)\tCOMMAND\n760877\t92.56\tray::compute_provability_training_data_remote\n761056\t1.88\tlean --threads=1 --memory=32768 .lake/packages/mathlib/Mathlib/Data/Real/Archimedean.lean\n759757\t0.47\t/home/mcwave/anaconda3/envs/atp/bin/python -m ipykernel_launcher -f /home/mcwave/.local/share/jupyte...\n759806\t0.17\t/home/mcwave/anaconda3/envs/atp/lib/python3.10/site-packages/ray/core/src/ray/gcs/gcs_server --log_d...\n759897\t0.07\t/home/mcwave/anaconda3/envs/atp/bin/python /home/mcwave/anaconda3/envs/atp/lib/python3.10/site-packa...\n760028\t0.07\t/home/mcwave/anaconda3/envs/atp/bin/python -u /home/mcwave/anaconda3/envs/atp/lib/python3.10/site-pa...\n761018\t0.05\t/home/mcwave/.elan/toolchains/leanprover--lean4---v4.6.0-rc1/bin/lake env lean --threads=1 --memory=...\n759972\t0.05\t/home/mcwave/anaconda3/envs/atp/lib/python3.10/site-packages/ray/core/src/ray/raylet/raylet --raylet...\n759896\t0.04\t/home/mcwave/anaconda3/envs/atp/bin/python -u /home/mcwave/anaconda3/envs/atp/lib/python3.10/site-pa...\n759994\t0.04\t/home/mcwave/anaconda3/envs/atp/bin/python -u /home/mcwave/anaconda3/envs/atp/lib/python3.10/site-pa...\nRefer to the documentation on how to address the out of memory issue: https://docs.ray.io/en/latest/ray-core/scheduling/ray-oom-prevention.html. Consider provisioning more memory on this node or reducing task parallelism by requesting more CPUs per task. To adjust the kill threshold, set the environment variable `RAY_memory_usage_threshold` when starting Ray. To disable worker killing, set the environment variable `RAY_memory_monitor_refresh_ms` to zero.",
     "output_type": "error",
     "traceback": [
      "\u001b[0;31m---------------------------------------------------------------------------\u001b[0m",
      "\u001b[0;31mOutOfMemoryError\u001b[0m                          Traceback (most recent call last)",
      "Cell \u001b[0;32mIn[4], line 79\u001b[0m\n\u001b[1;32m     76\u001b[0m result_ids \u001b[38;5;241m=\u001b[39m [compute_provability_training_data_remote\u001b[38;5;241m.\u001b[39mremote(file_path, output_folder) \u001b[38;5;28;01mfor\u001b[39;00m file_path \u001b[38;5;129;01min\u001b[39;00m all_file_paths]\n\u001b[1;32m     78\u001b[0m \u001b[38;5;66;03m# Fetch results\u001b[39;00m\n\u001b[0;32m---> 79\u001b[0m results \u001b[38;5;241m=\u001b[39m \u001b[43mray\u001b[49m\u001b[38;5;241;43m.\u001b[39;49m\u001b[43mget\u001b[49m\u001b[43m(\u001b[49m\u001b[43mresult_ids\u001b[49m\u001b[43m)\u001b[49m\n\u001b[1;32m     81\u001b[0m \u001b[38;5;66;03m# Optionally, shut down Ray if you're done with all computations\u001b[39;00m\n\u001b[1;32m     82\u001b[0m ray\u001b[38;5;241m.\u001b[39mshutdown()\n",
      "File \u001b[0;32m~/anaconda3/envs/atp/lib/python3.10/site-packages/ray/_private/auto_init_hook.py:21\u001b[0m, in \u001b[0;36mwrap_auto_init.<locals>.auto_init_wrapper\u001b[0;34m(*args, **kwargs)\u001b[0m\n\u001b[1;32m     18\u001b[0m \u001b[38;5;129m@wraps\u001b[39m(fn)\n\u001b[1;32m     19\u001b[0m \u001b[38;5;28;01mdef\u001b[39;00m \u001b[38;5;21mauto_init_wrapper\u001b[39m(\u001b[38;5;241m*\u001b[39margs, \u001b[38;5;241m*\u001b[39m\u001b[38;5;241m*\u001b[39mkwargs):\n\u001b[1;32m     20\u001b[0m     auto_init_ray()\n\u001b[0;32m---> 21\u001b[0m     \u001b[38;5;28;01mreturn\u001b[39;00m \u001b[43mfn\u001b[49m\u001b[43m(\u001b[49m\u001b[38;5;241;43m*\u001b[39;49m\u001b[43margs\u001b[49m\u001b[43m,\u001b[49m\u001b[43m \u001b[49m\u001b[38;5;241;43m*\u001b[39;49m\u001b[38;5;241;43m*\u001b[39;49m\u001b[43mkwargs\u001b[49m\u001b[43m)\u001b[49m\n",
      "File \u001b[0;32m~/anaconda3/envs/atp/lib/python3.10/site-packages/ray/_private/client_mode_hook.py:103\u001b[0m, in \u001b[0;36mclient_mode_hook.<locals>.wrapper\u001b[0;34m(*args, **kwargs)\u001b[0m\n\u001b[1;32m    101\u001b[0m     \u001b[38;5;28;01mif\u001b[39;00m func\u001b[38;5;241m.\u001b[39m\u001b[38;5;18m__name__\u001b[39m \u001b[38;5;241m!=\u001b[39m \u001b[38;5;124m\"\u001b[39m\u001b[38;5;124minit\u001b[39m\u001b[38;5;124m\"\u001b[39m \u001b[38;5;129;01mor\u001b[39;00m is_client_mode_enabled_by_default:\n\u001b[1;32m    102\u001b[0m         \u001b[38;5;28;01mreturn\u001b[39;00m \u001b[38;5;28mgetattr\u001b[39m(ray, func\u001b[38;5;241m.\u001b[39m\u001b[38;5;18m__name__\u001b[39m)(\u001b[38;5;241m*\u001b[39margs, \u001b[38;5;241m*\u001b[39m\u001b[38;5;241m*\u001b[39mkwargs)\n\u001b[0;32m--> 103\u001b[0m \u001b[38;5;28;01mreturn\u001b[39;00m \u001b[43mfunc\u001b[49m\u001b[43m(\u001b[49m\u001b[38;5;241;43m*\u001b[39;49m\u001b[43margs\u001b[49m\u001b[43m,\u001b[49m\u001b[43m \u001b[49m\u001b[38;5;241;43m*\u001b[39;49m\u001b[38;5;241;43m*\u001b[39;49m\u001b[43mkwargs\u001b[49m\u001b[43m)\u001b[49m\n",
      "File \u001b[0;32m~/anaconda3/envs/atp/lib/python3.10/site-packages/ray/_private/worker.py:2623\u001b[0m, in \u001b[0;36mget\u001b[0;34m(object_refs, timeout)\u001b[0m\n\u001b[1;32m   2617\u001b[0m     \u001b[38;5;28;01mraise\u001b[39;00m \u001b[38;5;167;01mValueError\u001b[39;00m(\n\u001b[1;32m   2618\u001b[0m         \u001b[38;5;124mf\u001b[39m\u001b[38;5;124m\"\u001b[39m\u001b[38;5;124mInvalid type of object refs, \u001b[39m\u001b[38;5;132;01m{\u001b[39;00m\u001b[38;5;28mtype\u001b[39m(object_refs)\u001b[38;5;132;01m}\u001b[39;00m\u001b[38;5;124m, is given. \u001b[39m\u001b[38;5;124m\"\u001b[39m\n\u001b[1;32m   2619\u001b[0m         \u001b[38;5;124m\"\u001b[39m\u001b[38;5;124m'\u001b[39m\u001b[38;5;124mobject_refs\u001b[39m\u001b[38;5;124m'\u001b[39m\u001b[38;5;124m must either be an ObjectRef or a list of ObjectRefs. \u001b[39m\u001b[38;5;124m\"\u001b[39m\n\u001b[1;32m   2620\u001b[0m     )\n\u001b[1;32m   2622\u001b[0m \u001b[38;5;66;03m# TODO(ujvl): Consider how to allow user to retrieve the ready objects.\u001b[39;00m\n\u001b[0;32m-> 2623\u001b[0m values, debugger_breakpoint \u001b[38;5;241m=\u001b[39m \u001b[43mworker\u001b[49m\u001b[38;5;241;43m.\u001b[39;49m\u001b[43mget_objects\u001b[49m\u001b[43m(\u001b[49m\u001b[43mobject_refs\u001b[49m\u001b[43m,\u001b[49m\u001b[43m \u001b[49m\u001b[43mtimeout\u001b[49m\u001b[38;5;241;43m=\u001b[39;49m\u001b[43mtimeout\u001b[49m\u001b[43m)\u001b[49m\n\u001b[1;32m   2624\u001b[0m \u001b[38;5;28;01mfor\u001b[39;00m i, value \u001b[38;5;129;01min\u001b[39;00m \u001b[38;5;28menumerate\u001b[39m(values):\n\u001b[1;32m   2625\u001b[0m     \u001b[38;5;28;01mif\u001b[39;00m \u001b[38;5;28misinstance\u001b[39m(value, RayError):\n",
      "File \u001b[0;32m~/anaconda3/envs/atp/lib/python3.10/site-packages/ray/_private/worker.py:863\u001b[0m, in \u001b[0;36mWorker.get_objects\u001b[0;34m(self, object_refs, timeout)\u001b[0m\n\u001b[1;32m    861\u001b[0m             \u001b[38;5;28;01mraise\u001b[39;00m value\u001b[38;5;241m.\u001b[39mas_instanceof_cause()\n\u001b[1;32m    862\u001b[0m         \u001b[38;5;28;01melse\u001b[39;00m:\n\u001b[0;32m--> 863\u001b[0m             \u001b[38;5;28;01mraise\u001b[39;00m value\n\u001b[1;32m    864\u001b[0m \u001b[38;5;28;01mreturn\u001b[39;00m values, debugger_breakpoint\n",
      "\u001b[0;31mOutOfMemoryError\u001b[0m: Task was killed due to the node running low on memory.\nMemory on the node (IP: 192.168.0.192, ID: 671926fa8dfb06c61c26e948eac3754d1d9aea95f8777762687b280c) where the task (task ID: b8f2ebda523be91202ca084ed907e96a3b1bcdc001000000, name=compute_provability_training_data_remote, pid=760877, memory used=92.56GB) was running was 179.16GB / 188.54GB (0.950267), which exceeds the memory usage threshold of 0.95. Ray killed this worker (ID: 1842cc50fe7cd92eb247ea5ed9968f32318b71c83bc7a0038a0df364) because it was the most recently scheduled task; to see more information about memory usage on this node, use `ray logs raylet.out -ip 192.168.0.192`. To see the logs of the worker, use `ray logs worker-1842cc50fe7cd92eb247ea5ed9968f32318b71c83bc7a0038a0df364*out -ip 192.168.0.192. Top 10 memory users:\nPID\tMEM(GB)\tCOMMAND\n760877\t92.56\tray::compute_provability_training_data_remote\n761056\t1.88\tlean --threads=1 --memory=32768 .lake/packages/mathlib/Mathlib/Data/Real/Archimedean.lean\n759757\t0.47\t/home/mcwave/anaconda3/envs/atp/bin/python -m ipykernel_launcher -f /home/mcwave/.local/share/jupyte...\n759806\t0.17\t/home/mcwave/anaconda3/envs/atp/lib/python3.10/site-packages/ray/core/src/ray/gcs/gcs_server --log_d...\n759897\t0.07\t/home/mcwave/anaconda3/envs/atp/bin/python /home/mcwave/anaconda3/envs/atp/lib/python3.10/site-packa...\n760028\t0.07\t/home/mcwave/anaconda3/envs/atp/bin/python -u /home/mcwave/anaconda3/envs/atp/lib/python3.10/site-pa...\n761018\t0.05\t/home/mcwave/.elan/toolchains/leanprover--lean4---v4.6.0-rc1/bin/lake env lean --threads=1 --memory=...\n759972\t0.05\t/home/mcwave/anaconda3/envs/atp/lib/python3.10/site-packages/ray/core/src/ray/raylet/raylet --raylet...\n759896\t0.04\t/home/mcwave/anaconda3/envs/atp/bin/python -u /home/mcwave/anaconda3/envs/atp/lib/python3.10/site-pa...\n759994\t0.04\t/home/mcwave/anaconda3/envs/atp/bin/python -u /home/mcwave/anaconda3/envs/atp/lib/python3.10/site-pa...\nRefer to the documentation on how to address the out of memory issue: https://docs.ray.io/en/latest/ray-core/scheduling/ray-oom-prevention.html. Consider provisioning more memory on this node or reducing task parallelism by requesting more CPUs per task. To adjust the kill threshold, set the environment variable `RAY_memory_usage_threshold` when starting Ray. To disable worker killing, set the environment variable `RAY_memory_monitor_refresh_ms` to zero."
     ]
    }
   ],
   "source": [
    "from utils.lean_rag_utils import *\n",
    "\n",
    "import math\n",
    "from lean_dojo import *\n",
    "\n",
    "# Set the environment variable to disable log deduplication\n",
    "os.environ['RAY_record_all_task_output'] = '1'\n",
    "#os.environ['CUDA_VISIBLE_DEVICES'] = '0'\n",
    "\n",
    "# Ensure Ray is not already initialized\n",
    "if ray.is_initialized():\n",
    "    ray.shutdown()\n",
    "\n",
    "# Start Ray with custom configuration\n",
    "ray.init(\n",
    "    num_gpus=1,\n",
    "    num_cpus=1,\n",
    "    _memory=(192 * 1024 * 1024 * 1024),  # For example, limit Ray to 4 GB of RAM\n",
    "    object_store_memory=(20 * 1024 * 1024 * 1024)  # Set object store memory to 2 GB\n",
    ")\n",
    "\n",
    "\n",
    "@ray.remote(num_cpus=1,num_gpus=0.1)\n",
    "def compute_provability_training_data_remote(file_path, output_path):\n",
    "    worker_id = random.randint(0, 100)\n",
    "    print(\"Worker\", worker_id, \"on\", file_path)\n",
    "    cuda_version = subprocess.run(['nvcc', '--version'], capture_output=True, text=True).stdout\n",
    "    print(cuda_version)\n",
    "    print(\"CUDA:\", torch.cuda.is_available())\n",
    "    print(\"os.environ['LD_LIBRARY_PATH']\", os.environ['LD_LIBRARY_PATH'])\n",
    "    print(\"Worker\", worker_id, \"Loading repo...\")\n",
    "    repo = LeanGitRepo(\n",
    "        \"https://github.com/xiaoxin-yin/math-in-lean\",\n",
    "        \"20077bcd4392317ddb9605404fda3a85e40e8956\"\n",
    "    )\n",
    "    fin = open('/home/mcwave/code/automath/atp/datasets/train_traced_theorems_repo_math_in_lean.pkl', 'rb')\n",
    "    train_traced_theorems = pickle.load(fin)\n",
    "    fin.close()\n",
    "    print(\"Worker\", worker_id, \"Done.\")\n",
    "    #\n",
    "    print(\"Worker\", worker_id, \"Loading models...\")\n",
    "    # Load pre-trained BERT tokenizer and model\n",
    "    tokenizer = BertTokenizer.from_pretrained('bert-base-uncased')\n",
    "    model_state = torch.load('/home/mcwave/code/automath/atp/datasets/rag_tactic_templates/bert_embeder_state-batch64-60k-loss0047.model')\n",
    "    #model_tac   = torch.load('/home/mcwave/code/automath/atp/datasets/rag_tactic_templates/bert_embeder_tac-batch64-60k-loss0047.model')\n",
    "    device = model_state.device\n",
    "    print(device)\n",
    "    #\n",
    "    print(\"Worker\", worker_id, \"Loading faiss index ...\")\n",
    "    index = faiss.read_index('/home/mcwave/code/automath/atp/datasets/rag_tactic_templates/faiss_index_bert_embeds-batch64-60k-loss0047.idx')\n",
    "    fin = open('/home/mcwave/code/automath/atp/datasets/rag_tactic_templates/tac_template_freq.json', 'r')\n",
    "    tac_template_freq = json.load(fin)\n",
    "    fin.close()\n",
    "    tacs = list(tac_template_freq.keys())\n",
    "    #\n",
    "    print(\"Worker\", worker_id, \"Computing provability ...\")\n",
    "    compute_provability_training_data(repo,\n",
    "                                      file_path,\n",
    "                                      output_path,\n",
    "                                      train_traced_theorems,\n",
    "                                      model_state,\n",
    "                                      tokenizer,\n",
    "                                      index,\n",
    "                                      tacs)\n",
    "\n",
    "# all_file_paths = [\n",
    "#     \"MIL/C02_Basics/solutions/Solutions_S01_Calculating.lean\",\n",
    "#     \"MIL/C02_Basics/solutions/Solutions_S02_Proving_Identities_in_Algebraic_Structures.lean\",\n",
    "#     \"MIL/C02_Basics/solutions/Solutions_S03_Using_Theorems_and_Lemmas.lean\",\n",
    "#     \"MIL/C02_Basics/solutions/Solutions_S04_More_on_Order_and_Divisibility.lean\",\n",
    "#     \"MIL/C02_Basics/solutions/Solutions_S05_Proving_Facts_about_Algebraic_Structures.lean\"\n",
    "# ]\n",
    "output_folder = '/home/mcwave/code/automath/atp/datasets/provability/rag/'\n",
    "\n",
    "# Submit tasks\n",
    "result_ids = [compute_provability_training_data_remote.remote(file_path, output_folder) for file_path in all_file_paths]\n",
    "\n",
    "# Fetch results\n",
    "results = ray.get(result_ids)\n",
    "\n",
    "# Optionally, shut down Ray if you're done with all computations\n",
    "ray.shutdown()\n",
    "\n",
    "# Display results\n",
    "print(results)"
   ]
  },
  {
   "cell_type": "code",
   "execution_count": 5,
   "id": "f3cb4390",
   "metadata": {},
   "outputs": [],
   "source": [
    "import ray\n",
    "\n",
    "# Ensure Ray is not already initialized\n",
    "if ray.is_initialized():\n",
    "    ray.shutdown()"
   ]
  },
  {
   "cell_type": "code",
   "execution_count": 12,
   "id": "d581ccfc",
   "metadata": {},
   "outputs": [],
   "source": [
    "fin = open('/home/mcwave/code/automath/atp/datasets/tac_templates_in_files/train_tac_templates.json', 'r')\n",
    "train_tac_templates = json.load(fin)\n",
    "fin.close()\n",
    "all_file_paths = list(set([x[-1] for x in train_tac_templates]))\n",
    "\n",
    "repo = LeanGitRepo(\n",
    "        \"https://github.com/xiaoxin-yin/math-in-lean\",\n",
    "        \"20077bcd4392317ddb9605404fda3a85e40e8956\"\n",
    ")\n",
    "\n",
    "fin = open('/home/mcwave/code/automath/atp/datasets/train_traced_theorems_repo_math_in_lean.pkl', 'rb')\n",
    "train_traced_theorems = pickle.load(fin)\n",
    "fin.close()"
   ]
  },
  {
   "cell_type": "code",
   "execution_count": 14,
   "id": "e446984e",
   "metadata": {},
   "outputs": [
    {
     "name": "stderr",
     "output_type": "stream",
     "text": [
      "\u001b[32m2024-06-06 18:19:42.292\u001b[0m | \u001b[33m\u001b[1mWARNING \u001b[0m | \u001b[36mlean_dojo.interaction.dojo\u001b[0m:\u001b[36m__init__\u001b[0m:\u001b[36m162\u001b[0m - \u001b[33m\u001b[1mUsing Lean 4 without a hard timeout may hang indefinitely.\u001b[0m\n"
     ]
    },
    {
     "name": "stdout",
     "output_type": "stream",
     "text": [
      "cuda:0\n",
      "Loading Theorem: Real.isCauSeq_iff_lift theorem isCauSeq_iff_lift {f : ℕ → ℚ} : IsCauSeq abs f ↔ IsCauSeq abs fun i => (f i : ℝ)\n",
      "Done\n",
      "INIT_STATE: f : ℕ → ℚ\n",
      "⊢ IsCauSeq abs f ↔ IsCauSeq abs fun i => ↑(f i)\n",
      "{'f': 'function'}\n"
     ]
    },
    {
     "ename": "SystemExit",
     "evalue": "-1",
     "output_type": "error",
     "traceback": [
      "An exception has occurred, use %tb to see the full traceback.\n",
      "\u001b[0;31mSystemExit\u001b[0m\u001b[0;31m:\u001b[0m -1\n"
     ]
    },
    {
     "name": "stderr",
     "output_type": "stream",
     "text": [
      "/home/mcwave/anaconda3/envs/atp/lib/python3.10/site-packages/IPython/core/interactiveshell.py:3534: UserWarning: To exit: use 'exit', 'quit', or Ctrl-D.\n",
      "  warn(\"To exit: use 'exit', 'quit', or Ctrl-D.\", stacklevel=1)\n"
     ]
    }
   ],
   "source": [
    "from utils.lean_rag_utils import *\n",
    "\n",
    "file_path = '.lake/packages/mathlib/Mathlib/Data/Real/Archimedean.lean'\n",
    "\n",
    "tokenizer = BertTokenizer.from_pretrained('bert-base-uncased')\n",
    "model_state = torch.load('/home/mcwave/code/automath/atp/datasets/rag_tactic_templates/bert_embeder_state-batch64-60k-loss0047.model')\n",
    "#model_tac   = torch.load('/home/mcwave/code/automath/atp/datasets/rag_tactic_templates/bert_embeder_tac-batch64-60k-loss0047.model')\n",
    "device = model_state.device\n",
    "print(device)\n",
    "#\n",
    "index = faiss.read_index('/home/mcwave/code/automath/atp/datasets/rag_tactic_templates/faiss_index_bert_embeds-batch64-60k-loss0047.idx')\n",
    "fin = open('/home/mcwave/code/automath/atp/datasets/rag_tactic_templates/tac_template_freq.json', 'r')\n",
    "tac_template_freq = json.load(fin)\n",
    "fin.close()\n",
    "tacs = list(tac_template_freq.keys())\n",
    "#\n",
    "output_folder = '/home/mcwave/code/automath/atp/datasets/provability/rag/'\n",
    "compute_provability_training_data(repo,\n",
    "                                  file_path,\n",
    "                                  output_folder,\n",
    "                                  train_traced_theorems,\n",
    "                                  model_state,\n",
    "                                  tokenizer,\n",
    "                                  index,\n",
    "                                  tacs)"
   ]
  },
  {
   "cell_type": "code",
   "execution_count": null,
   "id": "61f8afa2",
   "metadata": {},
   "outputs": [
    {
     "name": "stderr",
     "output_type": "stream",
     "text": [
      "\u001b[33m(raylet)\u001b[0m [2024-06-05 01:11:53,699 E 759972 759972] (raylet) node_manager.cc:3002: 1 Workers (tasks / actors) killed due to memory pressure (OOM), 0 Workers crashed due to other reasons at node (ID: 671926fa8dfb06c61c26e948eac3754d1d9aea95f8777762687b280c, IP: 192.168.0.192) over the last time period. To see more information about the Workers killed on this node, use `ray logs raylet.out -ip 192.168.0.192`\n",
      "\u001b[33m(raylet)\u001b[0m \n",
      "\u001b[33m(raylet)\u001b[0m Refer to the documentation on how to address the out of memory issue: https://docs.ray.io/en/latest/ray-core/scheduling/ray-oom-prevention.html. Consider provisioning more memory on this node or reducing task parallelism by requesting more CPUs per task. To adjust the kill threshold, set the environment variable `RAY_memory_usage_threshold` when starting Ray. To disable worker killing, set the environment variable `RAY_memory_monitor_refresh_ms` to zero.\n"
     ]
    },
    {
     "name": "stdout",
     "output_type": "stream",
     "text": [
      "\u001b[36m(compute_provability_training_data_remote pid=761062)\u001b[0m Worker 74 Done.\n",
      "\u001b[36m(compute_provability_training_data_remote pid=761062)\u001b[0m Worker 74 Loading models...\n",
      "\u001b[36m(compute_provability_training_data_remote pid=761062)\u001b[0m cuda:0\n",
      "\u001b[36m(compute_provability_training_data_remote pid=761062)\u001b[0m Worker 74 Loading faiss index ...\n",
      "\u001b[36m(compute_provability_training_data_remote pid=761062)\u001b[0m Worker 74 Computing provability ...\n",
      "\u001b[36m(compute_provability_training_data_remote pid=761062)\u001b[0m Loading Theorem: aemeasurable_of_map_neZero lemma aemeasurable_of_map_neZero {mβ : MeasurableSpace β} {μ : Measure α}\n",
      "\u001b[36m(compute_provability_training_data_remote pid=761062)\u001b[0m     {f : α → β} (h : NeZero (μ.map f)) :\n",
      "\u001b[36m(compute_provability_training_data_remote pid=761062)\u001b[0m     AEMeasurable f μ := by\n",
      "\u001b[36m(compute_provability_training_data_remote pid=761062)\u001b[0m   by_contra h'\n",
      "\u001b[36m(compute_provability_training_data_remote pid=761062)\u001b[0m   simp [h'] at h\n",
      "\u001b[36m(compute_provability_training_data_remote pid=761062)\u001b[0m Done\n"
     ]
    },
    {
     "name": "stderr",
     "output_type": "stream",
     "text": [
      "\u001b[36m(compute_provability_training_data_remote pid=761062)\u001b[0m 2024-06-05 01:11:59.218 | WARNING  | lean_dojo.interaction.dojo:__init__:162 - Using Lean 4 without a hard timeout may hang indefinitely.\n"
     ]
    },
    {
     "name": "stdout",
     "output_type": "stream",
     "text": [
      "\u001b[36m(compute_provability_training_data_remote pid=761062)\u001b[0m Sucessfully followed proof\n",
      "\u001b[36m(compute_provability_training_data_remote pid=761062)\u001b[0m INIT_STATE: ι : Type u_1\n",
      "\u001b[36m(compute_provability_training_data_remote pid=761062)\u001b[0m α : Type u_2\n",
      "\u001b[36m(compute_provability_training_data_remote pid=761062)\u001b[0m β : Type u_3\n",
      "\u001b[36m(compute_provability_training_data_remote pid=761062)\u001b[0m γ : Type u_4\n",
      "\u001b[36m(compute_provability_training_data_remote pid=761062)\u001b[0m δ : Type u_5\n",
      "\u001b[36m(compute_provability_training_data_remote pid=761062)\u001b[0m R : Type u_6\n",
      "\u001b[36m(compute_provability_training_data_remote pid=761062)\u001b[0m m0 : MeasurableSpace α\n",
      "\u001b[36m(compute_provability_training_data_remote pid=761062)\u001b[0m inst✝² : MeasurableSpace β\n",
      "\u001b[36m(compute_provability_training_data_remote pid=761062)\u001b[0m inst✝¹ : MeasurableSpace γ\n",
      "\u001b[36m(compute_provability_training_data_remote pid=761062)\u001b[0m inst✝ : MeasurableSpace δ\n",
      "\u001b[36m(compute_provability_training_data_remote pid=761062)\u001b[0m f✝ g : α → β\n",
      "\u001b[36m(compute_provability_training_data_remote pid=761062)\u001b[0m μ✝ ν : Measure α\n",
      "\u001b[36m(compute_provability_training_data_remote pid=761062)\u001b[0m mβ : MeasurableSpace β\n",
      "\u001b[36m(compute_provability_training_data_remote pid=761062)\u001b[0m μ : Measure α\n",
      "\u001b[36m(compute_provability_training_data_remote pid=761062)\u001b[0m f : α → β\n",
      "\u001b[36m(compute_provability_training_data_remote pid=761062)\u001b[0m h : NeZero (Measure.map f μ)\n",
      "\u001b[36m(compute_provability_training_data_remote pid=761062)\u001b[0m ⊢ AEMeasurable f\n",
      "\u001b[36m(compute_provability_training_data_remote pid=761062)\u001b[0m {'α': 'type', 'β': 'type', 'mβ': 'unknown', 'μ': 'unknown', 'f': 'function', 'h': 'unknown'}\n",
      "\u001b[36m(compute_provability_training_data_remote pid=761062)\u001b[0m ProofFinished\n",
      "\u001b[36m(compute_provability_training_data_remote pid=761062)\u001b[0m ProofFinished\n",
      "\u001b[36m(compute_provability_training_data_remote pid=761062)\u001b[0m ProofFinished\n",
      "\u001b[36m(compute_provability_training_data_remote pid=761062)\u001b[0m ProofFinished\n",
      "\u001b[36m(compute_provability_training_data_remote pid=761062)\u001b[0m ProofFinished\n",
      "\u001b[36m(compute_provability_training_data_remote pid=761062)\u001b[0m ProofFinished\n",
      "\u001b[36m(compute_provability_training_data_remote pid=761062)\u001b[0m 10000 steps executed\n",
      "\u001b[36m(compute_provability_training_data_remote pid=761062)\u001b[0m 285 states in total\n",
      "\u001b[36m(compute_provability_training_data_remote pid=761062)\u001b[0m 19 proven states\n",
      "\u001b[36m(compute_provability_training_data_remote pid=761062)\u001b[0m 102 state pairs found in aemeasurable_of_map_neZero .lake/packages/mathlib/Mathlib/MeasureTheory/Measure/AEMeasurable.lean\n",
      "\u001b[36m(compute_provability_training_data_remote pid=761062)\u001b[0m Loading Theorem: AEMeasurable.map_map_of_aemeasurable theorem map_map_of_aemeasurable {g : β → γ} {f : α → β} (hg : AEMeasurable g (Measure.map f μ))\n",
      "\u001b[36m(compute_provability_training_data_remote pid=761062)\u001b[0m     (hf : AEMeasurable f μ) : (μ.map f).map g = μ.map (g ∘ f)\n",
      "\u001b[36m(compute_provability_training_data_remote pid=761062)\u001b[0m Done\n"
     ]
    },
    {
     "name": "stderr",
     "output_type": "stream",
     "text": [
      "\u001b[36m(compute_provability_training_data_remote pid=761062)\u001b[0m 2024-06-05 01:14:27.351 | WARNING  | lean_dojo.interaction.dojo:__init__:162 - Using Lean 4 without a hard timeout may hang indefinitely.\n"
     ]
    },
    {
     "name": "stdout",
     "output_type": "stream",
     "text": [
      "\u001b[36m(compute_provability_training_data_remote pid=761062)\u001b[0m Sucessfully followed proof\n",
      "\u001b[36m(compute_provability_training_data_remote pid=761062)\u001b[0m INIT_STATE: ι : Type u_1\n",
      "\u001b[36m(compute_provability_training_data_remote pid=761062)\u001b[0m α : Type u_2\n",
      "\u001b[36m(compute_provability_training_data_remote pid=761062)\u001b[0m β : Type u_3\n",
      "\u001b[36m(compute_provability_training_data_remote pid=761062)\u001b[0m γ : Type u_4\n",
      "\u001b[36m(compute_provability_training_data_remote pid=761062)\u001b[0m δ : Type u_5\n",
      "\u001b[36m(compute_provability_training_data_remote pid=761062)\u001b[0m R : Type u_6\n",
      "\u001b[36m(compute_provability_training_data_remote pid=761062)\u001b[0m m0 : MeasurableSpace α\n",
      "\u001b[36m(compute_provability_training_data_remote pid=761062)\u001b[0m inst✝² : MeasurableSpace β\n",
      "\u001b[36m(compute_provability_training_data_remote pid=761062)\u001b[0m inst✝¹ : MeasurableSpace γ\n",
      "\u001b[36m(compute_provability_training_data_remote pid=761062)\u001b[0m inst✝ : MeasurableSpace δ\n",
      "\u001b[36m(compute_provability_training_data_remote pid=761062)\u001b[0m f✝ g✝ : α → β\n",
      "\u001b[36m(compute_provability_training_data_remote pid=761062)\u001b[0m μ ν : Measure α\n",
      "\u001b[36m(compute_provability_training_data_remote pid=761062)\u001b[0m g : β → γ\n",
      "\u001b[36m(compute_provability_training_data_remote pid=761062)\u001b[0m f : α → β\n",
      "\u001b[36m(compute_provability_training_data_remote pid=761062)\u001b[0m hg : AEMeasurable g\n",
      "\u001b[36m(compute_provability_training_data_remote pid=761062)\u001b[0m hf : AEMeasurable f\n",
      "\u001b[36m(compute_provability_training_data_remote pid=761062)\u001b[0m ⊢ Measure.map g (Measure.map f μ) = Measure.map (g ∘ f) μ\n",
      "\u001b[36m(compute_provability_training_data_remote pid=761062)\u001b[0m {'α': 'type', 'β': 'type', 'γ': 'type', 'μ': 'unknown', 'g': 'function', 'f': 'function', 'hg': 'unknown', 'hf': 'unknown'}\n",
      "\u001b[36m(compute_provability_training_data_remote pid=761062)\u001b[0m 10000 steps executed\n",
      "\u001b[36m(compute_provability_training_data_remote pid=761062)\u001b[0m 20000 steps executed\n",
      "\u001b[36m(compute_provability_training_data_remote pid=761062)\u001b[0m 30000 steps executed\n",
      "\u001b[36m(compute_provability_training_data_remote pid=761062)\u001b[0m 40000 steps executed\n",
      "\u001b[36m(compute_provability_training_data_remote pid=761062)\u001b[0m 50000 steps executed\n",
      "\u001b[36m(compute_provability_training_data_remote pid=761062)\u001b[0m 916 states in total\n",
      "\u001b[36m(compute_provability_training_data_remote pid=761062)\u001b[0m 1 proven states\n",
      "\u001b[36m(compute_provability_training_data_remote pid=761062)\u001b[0m 8 state pairs found in AEMeasurable.map_map_of_aemeasurable .lake/packages/mathlib/Mathlib/MeasureTheory/Measure/AEMeasurable.lean\n",
      "\u001b[36m(compute_provability_training_data_remote pid=761062)\u001b[0m Loading Theorem: AEMeasurable.exists_ae_eq_range_subset theorem exists_ae_eq_range_subset (H : AEMeasurable f μ) {t : Set β} (ht : ∀ᵐ x ∂μ, f x ∈ t)\n",
      "\u001b[36m(compute_provability_training_data_remote pid=761062)\u001b[0m     (h₀ : t.Nonempty) : ∃ g, Measurable g ∧ range g ⊆ t ∧ f =ᵐ[μ] g\n",
      "\u001b[36m(compute_provability_training_data_remote pid=761062)\u001b[0m Done\n"
     ]
    },
    {
     "name": "stderr",
     "output_type": "stream",
     "text": [
      "\u001b[36m(compute_provability_training_data_remote pid=761062)\u001b[0m 2024-06-05 01:23:30.129 | WARNING  | lean_dojo.interaction.dojo:__init__:162 - Using Lean 4 without a hard timeout may hang indefinitely.\n"
     ]
    },
    {
     "name": "stdout",
     "output_type": "stream",
     "text": [
      "\u001b[36m(compute_provability_training_data_remote pid=761062)\u001b[0m Sucessfully followed proof\n",
      "\u001b[36m(compute_provability_training_data_remote pid=761062)\u001b[0m INIT_STATE: ι : Type u_1\n",
      "\u001b[36m(compute_provability_training_data_remote pid=761062)\u001b[0m α : Type u_2\n",
      "\u001b[36m(compute_provability_training_data_remote pid=761062)\u001b[0m β : Type u_3\n",
      "\u001b[36m(compute_provability_training_data_remote pid=761062)\u001b[0m γ : Type u_4\n",
      "\u001b[36m(compute_provability_training_data_remote pid=761062)\u001b[0m δ : Type u_5\n",
      "\u001b[36m(compute_provability_training_data_remote pid=761062)\u001b[0m R : Type u_6\n",
      "\u001b[36m(compute_provability_training_data_remote pid=761062)\u001b[0m m0 : MeasurableSpace α\n",
      "\u001b[36m(compute_provability_training_data_remote pid=761062)\u001b[0m inst✝² : MeasurableSpace β\n",
      "\u001b[36m(compute_provability_training_data_remote pid=761062)\u001b[0m inst✝¹ : MeasurableSpace γ\n",
      "\u001b[36m(compute_provability_training_data_remote pid=761062)\u001b[0m inst✝ : MeasurableSpace δ\n",
      "\u001b[36m(compute_provability_training_data_remote pid=761062)\u001b[0m f g : α → β\n",
      "\u001b[36m(compute_provability_training_data_remote pid=761062)\u001b[0m μ ν : Measure α\n",
      "\u001b[36m(compute_provability_training_data_remote pid=761062)\u001b[0m H : AEMeasurable f\n",
      "\u001b[36m(compute_provability_training_data_remote pid=761062)\u001b[0m t : Set β\n",
      "\u001b[36m(compute_provability_training_data_remote pid=761062)\u001b[0m ht : ∀ᵐ (x : α) ∂μ, f x ∈ t\n",
      "\u001b[36m(compute_provability_training_data_remote pid=761062)\u001b[0m h₀ : Set.Nonempty t\n",
      "\u001b[36m(compute_provability_training_data_remote pid=761062)\u001b[0m ⊢ ∃ g, Measurable g ∧ range g ⊆ t ∧ f =ᶠ[ae μ] g\n",
      "\u001b[36m(compute_provability_training_data_remote pid=761062)\u001b[0m {'β': 'type', 'f': 'function', 'g': 'function', 'μ': 'unknown', 'H': 'unknown', 't': 'set', 'ht': 'hypothesis', 'h₀': 'set'}\n",
      "\u001b[36m(compute_provability_training_data_remote pid=761062)\u001b[0m 10000 steps executed\n",
      "\u001b[36m(compute_provability_training_data_remote pid=761062)\u001b[0m 20000 steps executed\n",
      "\u001b[36m(compute_provability_training_data_remote pid=761062)\u001b[0m 30000 steps executed\n",
      "\u001b[36m(compute_provability_training_data_remote pid=761062)\u001b[0m 40000 steps executed\n",
      "\u001b[36m(compute_provability_training_data_remote pid=761062)\u001b[0m 50000 steps executed\n",
      "\u001b[36m(compute_provability_training_data_remote pid=761062)\u001b[0m 1326 states in total\n",
      "\u001b[36m(compute_provability_training_data_remote pid=761062)\u001b[0m 1 proven states\n",
      "\u001b[36m(compute_provability_training_data_remote pid=761062)\u001b[0m 12 state pairs found in AEMeasurable.exists_ae_eq_range_subset .lake/packages/mathlib/Mathlib/MeasureTheory/Measure/AEMeasurable.lean\n",
      "\u001b[36m(compute_provability_training_data_remote pid=761062)\u001b[0m Loading Theorem: AEMeasurable.exists_measurable_nonneg theorem exists_measurable_nonneg {β} [Preorder β] [Zero β] {mβ : MeasurableSpace β} {f : α → β}\n",
      "\u001b[36m(compute_provability_training_data_remote pid=761062)\u001b[0m     (hf : AEMeasurable f μ) (f_nn : ∀ᵐ t ∂μ, 0 ≤ f t) : ∃ g, Measurable g ∧ 0 ≤ g ∧ f =ᵐ[μ] g\n",
      "\u001b[36m(compute_provability_training_data_remote pid=761062)\u001b[0m Done\n"
     ]
    },
    {
     "name": "stderr",
     "output_type": "stream",
     "text": [
      "\u001b[36m(compute_provability_training_data_remote pid=761062)\u001b[0m 2024-06-05 01:27:08.423 | WARNING  | lean_dojo.interaction.dojo:__init__:162 - Using Lean 4 without a hard timeout may hang indefinitely.\n"
     ]
    },
    {
     "name": "stdout",
     "output_type": "stream",
     "text": [
      "\u001b[36m(compute_provability_training_data_remote pid=761062)\u001b[0m Sucessfully followed proof\n",
      "\u001b[36m(compute_provability_training_data_remote pid=761062)\u001b[0m INIT_STATE: ι : Type u_1\n",
      "\u001b[36m(compute_provability_training_data_remote pid=761062)\u001b[0m α : Type u_2\n",
      "\u001b[36m(compute_provability_training_data_remote pid=761062)\u001b[0m β✝ : Type u_3\n",
      "\u001b[36m(compute_provability_training_data_remote pid=761062)\u001b[0m γ : Type u_4\n",
      "\u001b[36m(compute_provability_training_data_remote pid=761062)\u001b[0m δ : Type u_5\n",
      "\u001b[36m(compute_provability_training_data_remote pid=761062)\u001b[0m R : Type u_6\n",
      "\u001b[36m(compute_provability_training_data_remote pid=761062)\u001b[0m m0 : MeasurableSpace α\n",
      "\u001b[36m(compute_provability_training_data_remote pid=761062)\u001b[0m inst✝⁴ : MeasurableSpace β✝\n",
      "\u001b[36m(compute_provability_training_data_remote pid=761062)\u001b[0m inst✝³ : MeasurableSpace γ\n",
      "\u001b[36m(compute_provability_training_data_remote pid=761062)\u001b[0m inst✝² : MeasurableSpace δ\n",
      "\u001b[36m(compute_provability_training_data_remote pid=761062)\u001b[0m f✝ g : α → β✝\n",
      "\u001b[36m(compute_provability_training_data_remote pid=761062)\u001b[0m μ ν : Measure α\n",
      "\u001b[36m(compute_provability_training_data_remote pid=761062)\u001b[0m β : Type u_7\n",
      "\u001b[36m(compute_provability_training_data_remote pid=761062)\u001b[0m inst✝¹ : Preorder β\n",
      "\u001b[36m(compute_provability_training_data_remote pid=761062)\u001b[0m inst✝ : Zero β\n",
      "\u001b[36m(compute_provability_training_data_remote pid=761062)\u001b[0m mβ : MeasurableSpace β\n",
      "\u001b[36m(compute_provability_training_data_remote pid=761062)\u001b[0m f : α → β\n",
      "\u001b[36m(compute_provability_training_data_remote pid=761062)\u001b[0m hf : AEMeasurable f\n",
      "\u001b[36m(compute_provability_training_data_remote pid=761062)\u001b[0m f_nn : ∀ᵐ (t : α) ∂μ, 0 ≤ f t\n",
      "\u001b[36m(compute_provability_training_data_remote pid=761062)\u001b[0m ⊢ ∃ g, Measurable g ∧ 0 ≤ g ∧ f =ᶠ[ae μ] g\n",
      "\u001b[36m(compute_provability_training_data_remote pid=761062)\u001b[0m {'α': 'type', 'g': 'function', 'μ': 'unknown', 'β': 'type', 'mβ': 'unknown', 'f': 'function', 'hf': 'unknown', 'f_nn': 'hypothesis'}\n",
      "\u001b[36m(compute_provability_training_data_remote pid=761062)\u001b[0m 10000 steps executed\n",
      "\u001b[36m(compute_provability_training_data_remote pid=761062)\u001b[0m 20000 steps executed\n",
      "\u001b[36m(compute_provability_training_data_remote pid=761062)\u001b[0m 30000 steps executed\n",
      "\u001b[36m(compute_provability_training_data_remote pid=761062)\u001b[0m 40000 steps executed\n",
      "\u001b[36m(compute_provability_training_data_remote pid=761062)\u001b[0m 50000 steps executed\n",
      "\u001b[36m(compute_provability_training_data_remote pid=761062)\u001b[0m 1193 states in total\n",
      "\u001b[36m(compute_provability_training_data_remote pid=761062)\u001b[0m 1 proven states\n",
      "\u001b[36m(compute_provability_training_data_remote pid=761062)\u001b[0m 4 state pairs found in AEMeasurable.exists_measurable_nonneg .lake/packages/mathlib/Mathlib/MeasureTheory/Measure/AEMeasurable.lean\n",
      "\u001b[36m(compute_provability_training_data_remote pid=761062)\u001b[0m Loading Theorem: AEMeasurable.subtype_mk theorem subtype_mk (h : AEMeasurable f μ) {s : Set β} {hfs : ∀ x, f x ∈ s} :\n",
      "\u001b[36m(compute_provability_training_data_remote pid=761062)\u001b[0m     AEMeasurable (codRestrict f s hfs) μ\n",
      "\u001b[36m(compute_provability_training_data_remote pid=761062)\u001b[0m Done\n"
     ]
    },
    {
     "name": "stderr",
     "output_type": "stream",
     "text": [
      "\u001b[36m(compute_provability_training_data_remote pid=761062)\u001b[0m 2024-06-05 01:33:20.375 | WARNING  | lean_dojo.interaction.dojo:__init__:162 - Using Lean 4 without a hard timeout may hang indefinitely.\n"
     ]
    },
    {
     "name": "stdout",
     "output_type": "stream",
     "text": [
      "\u001b[36m(compute_provability_training_data_remote pid=761062)\u001b[0m Sucessfully followed proof\n",
      "\u001b[36m(compute_provability_training_data_remote pid=761062)\u001b[0m INIT_STATE: ι : Type u_1\n",
      "\u001b[36m(compute_provability_training_data_remote pid=761062)\u001b[0m α : Type u_2\n",
      "\u001b[36m(compute_provability_training_data_remote pid=761062)\u001b[0m β : Type u_3\n",
      "\u001b[36m(compute_provability_training_data_remote pid=761062)\u001b[0m γ : Type u_4\n",
      "\u001b[36m(compute_provability_training_data_remote pid=761062)\u001b[0m δ : Type u_5\n",
      "\u001b[36m(compute_provability_training_data_remote pid=761062)\u001b[0m R : Type u_6\n",
      "\u001b[36m(compute_provability_training_data_remote pid=761062)\u001b[0m m0 : MeasurableSpace α\n",
      "\u001b[36m(compute_provability_training_data_remote pid=761062)\u001b[0m inst✝² : MeasurableSpace β\n",
      "\u001b[36m(compute_provability_training_data_remote pid=761062)\u001b[0m inst✝¹ : MeasurableSpace γ\n",
      "\u001b[36m(compute_provability_training_data_remote pid=761062)\u001b[0m inst✝ : MeasurableSpace δ\n",
      "\u001b[36m(compute_provability_training_data_remote pid=761062)\u001b[0m f g : α → β\n",
      "\u001b[36m(compute_provability_training_data_remote pid=761062)\u001b[0m μ ν : Measure α\n",
      "\u001b[36m(compute_provability_training_data_remote pid=761062)\u001b[0m h : AEMeasurable f\n",
      "\u001b[36m(compute_provability_training_data_remote pid=761062)\u001b[0m s : Set β\n",
      "\u001b[36m(compute_provability_training_data_remote pid=761062)\u001b[0m hfs : ∀ (x : α), f x ∈ s\n",
      "\u001b[36m(compute_provability_training_data_remote pid=761062)\u001b[0m ⊢ AEMeasurable (codRestrict f s hfs)\n",
      "\u001b[36m(compute_provability_training_data_remote pid=761062)\u001b[0m {'β': 'type', 'f': 'function', 'μ': 'unknown', 'h': 'unknown', 's': 'set', 'hfs': 'hypothesis'}\n",
      "\u001b[36m(compute_provability_training_data_remote pid=761062)\u001b[0m 10000 steps executed\n",
      "\u001b[36m(compute_provability_training_data_remote pid=761062)\u001b[0m 20000 steps executed\n",
      "\u001b[36m(compute_provability_training_data_remote pid=761062)\u001b[0m 30000 steps executed\n",
      "\u001b[36m(compute_provability_training_data_remote pid=761062)\u001b[0m 40000 steps executed\n",
      "\u001b[36m(compute_provability_training_data_remote pid=761062)\u001b[0m 50000 steps executed\n",
      "\u001b[36m(compute_provability_training_data_remote pid=761062)\u001b[0m 1063 states in total\n",
      "\u001b[36m(compute_provability_training_data_remote pid=761062)\u001b[0m 1 proven states\n",
      "\u001b[36m(compute_provability_training_data_remote pid=761062)\u001b[0m 12 state pairs found in AEMeasurable.subtype_mk .lake/packages/mathlib/Mathlib/MeasureTheory/Measure/AEMeasurable.lean\n",
      "\u001b[36m(compute_provability_training_data_remote pid=761672)\u001b[0m Worker 96 on .lake/packages/mathlib/Mathlib/Algebra/Algebra/Subalgebra/Tower.lean\n",
      "\u001b[36m(compute_provability_training_data_remote pid=761672)\u001b[0m nvcc: NVIDIA (R) Cuda compiler driver\n",
      "\u001b[36m(compute_provability_training_data_remote pid=761672)\u001b[0m Copyright (c) 2005-2023 NVIDIA Corporation\n",
      "\u001b[36m(compute_provability_training_data_remote pid=761672)\u001b[0m Built on Tue_Jun_13_19:16:58_PDT_2023\n",
      "\u001b[36m(compute_provability_training_data_remote pid=761672)\u001b[0m Cuda compilation tools, release 12.2, V12.2.91\n",
      "\u001b[36m(compute_provability_training_data_remote pid=761672)\u001b[0m Build cuda_12.2.r12.2/compiler.32965470_0\n",
      "\u001b[36m(compute_provability_training_data_remote pid=761672)\u001b[0m \n",
      "\u001b[36m(compute_provability_training_data_remote pid=761672)\u001b[0m CUDA: True\n",
      "\u001b[36m(compute_provability_training_data_remote pid=761672)\u001b[0m os.environ['LD_LIBRARY_PATH'] /usr/local/cuda-12.2/lib64:\n",
      "\u001b[36m(compute_provability_training_data_remote pid=761672)\u001b[0m Worker 96 Loading repo...\n",
      "\u001b[36m(compute_provability_training_data_remote pid=761672)\u001b[0m Worker 96 Done.\n",
      "\u001b[36m(compute_provability_training_data_remote pid=761672)\u001b[0m Worker 96 Loading models...\n",
      "\u001b[36m(compute_provability_training_data_remote pid=761672)\u001b[0m cuda:0\n",
      "\u001b[36m(compute_provability_training_data_remote pid=761672)\u001b[0m Worker 96 Loading faiss index ...\n",
      "\u001b[36m(compute_provability_training_data_remote pid=761672)\u001b[0m Worker 96 Computing provability ...\n",
      "\u001b[36m(compute_provability_training_data_remote pid=761672)\u001b[0m Loading Theorem: Subalgebra.restrictScalars_injective theorem restrictScalars_injective :\n",
      "\u001b[36m(compute_provability_training_data_remote pid=761672)\u001b[0m     Function.Injective (restrictScalars R : Subalgebra S A → Subalgebra R A)\n",
      "\u001b[36m(compute_provability_training_data_remote pid=761672)\u001b[0m Done\n"
     ]
    },
    {
     "name": "stderr",
     "output_type": "stream",
     "text": [
      "\u001b[36m(compute_provability_training_data_remote pid=761672)\u001b[0m 2024-06-05 01:37:09.331 | WARNING  | lean_dojo.interaction.dojo:__init__:162 - Using Lean 4 without a hard timeout may hang indefinitely.\n"
     ]
    },
    {
     "name": "stdout",
     "output_type": "stream",
     "text": [
      "\u001b[36m(compute_provability_training_data_remote pid=761672)\u001b[0m INIT_STATE: R : Type u\n",
      "\u001b[36m(compute_provability_training_data_remote pid=761672)\u001b[0m S : Type v\n",
      "\u001b[36m(compute_provability_training_data_remote pid=761672)\u001b[0m A : Type w\n",
      "\u001b[36m(compute_provability_training_data_remote pid=761672)\u001b[0m B : Type u₁\n",
      "\u001b[36m(compute_provability_training_data_remote pid=761672)\u001b[0m M : Type v₁\n",
      "\u001b[36m(compute_provability_training_data_remote pid=761672)\u001b[0m inst✝¹⁰ : CommSemiring R\n",
      "\u001b[36m(compute_provability_training_data_remote pid=761672)\u001b[0m inst✝⁹ : CommSemiring S\n",
      "\u001b[36m(compute_provability_training_data_remote pid=761672)\u001b[0m inst✝⁸ : Semiring A\n",
      "\u001b[36m(compute_provability_training_data_remote pid=761672)\u001b[0m inst✝⁷ : Semiring B\n",
      "\u001b[36m(compute_provability_training_data_remote pid=761672)\u001b[0m inst✝⁶ : Algebra R S\n",
      "\u001b[36m(compute_provability_training_data_remote pid=761672)\u001b[0m inst✝⁵ : Algebra S A\n",
      "\u001b[36m(compute_provability_training_data_remote pid=761672)\u001b[0m inst✝⁴ : Algebra R A\n",
      "\u001b[36m(compute_provability_training_data_remote pid=761672)\u001b[0m inst✝³ : Algebra S B\n",
      "\u001b[36m(compute_provability_training_data_remote pid=761672)\u001b[0m inst✝² : Algebra R B\n",
      "\u001b[36m(compute_provability_training_data_remote pid=761672)\u001b[0m inst✝¹ : IsScalarTower R S A\n",
      "\u001b[36m(compute_provability_training_data_remote pid=761672)\u001b[0m inst✝ : IsScalarTower R S B\n",
      "\u001b[36m(compute_provability_training_data_remote pid=761672)\u001b[0m ⊢ Function.Injective (restrictScalars R)\n",
      "\u001b[36m(compute_provability_training_data_remote pid=761672)\u001b[0m {'R': 'type', 'S': 'type', 'A': 'type'}\n",
      "\u001b[36m(compute_provability_training_data_remote pid=761672)\u001b[0m ProofFinished\n",
      "\u001b[36m(compute_provability_training_data_remote pid=761672)\u001b[0m ProofFinished\n",
      "\u001b[36m(compute_provability_training_data_remote pid=761672)\u001b[0m ProofFinished\n",
      "\u001b[36m(compute_provability_training_data_remote pid=761672)\u001b[0m ProofFinished\n",
      "\u001b[36m(compute_provability_training_data_remote pid=761672)\u001b[0m ProofFinished\n",
      "\u001b[36m(compute_provability_training_data_remote pid=761672)\u001b[0m ProofFinished\n",
      "\u001b[36m(compute_provability_training_data_remote pid=761672)\u001b[0m ProofFinished\n",
      "\u001b[36m(compute_provability_training_data_remote pid=761672)\u001b[0m ProofFinished\n",
      "\u001b[36m(compute_provability_training_data_remote pid=761672)\u001b[0m ProofFinished\n",
      "\u001b[36m(compute_provability_training_data_remote pid=761672)\u001b[0m ProofFinished\n",
      "\u001b[36m(compute_provability_training_data_remote pid=761672)\u001b[0m ProofFinished\n",
      "\u001b[36m(compute_provability_training_data_remote pid=761672)\u001b[0m ProofFinished\n",
      "\u001b[36m(compute_provability_training_data_remote pid=761672)\u001b[0m ProofFinished\n",
      "\u001b[36m(compute_provability_training_data_remote pid=761672)\u001b[0m ProofFinished\n",
      "\u001b[36m(compute_provability_training_data_remote pid=761672)\u001b[0m ProofFinished\n",
      "\u001b[36m(compute_provability_training_data_remote pid=761672)\u001b[0m ProofFinished\n",
      "\u001b[36m(compute_provability_training_data_remote pid=761672)\u001b[0m ProofFinished\n",
      "\u001b[36m(compute_provability_training_data_remote pid=761672)\u001b[0m ProofFinished\n",
      "\u001b[36m(compute_provability_training_data_remote pid=761672)\u001b[0m ProofFinished\n",
      "\u001b[36m(compute_provability_training_data_remote pid=761672)\u001b[0m ProofFinished\n",
      "\u001b[36m(compute_provability_training_data_remote pid=761672)\u001b[0m ProofFinished\n",
      "\u001b[36m(compute_provability_training_data_remote pid=761672)\u001b[0m ProofFinished\n",
      "\u001b[36m(compute_provability_training_data_remote pid=761672)\u001b[0m ProofFinished\n",
      "\u001b[36m(compute_provability_training_data_remote pid=761672)\u001b[0m ProofFinished\n",
      "\u001b[36m(compute_provability_training_data_remote pid=761672)\u001b[0m ProofFinished\n",
      "\u001b[36m(compute_provability_training_data_remote pid=761672)\u001b[0m ProofFinished\n",
      "\u001b[36m(compute_provability_training_data_remote pid=761672)\u001b[0m 10000 steps executed\n",
      "\u001b[36m(compute_provability_training_data_remote pid=761672)\u001b[0m 20000 steps executed\n",
      "\u001b[36m(compute_provability_training_data_remote pid=761672)\u001b[0m 30000 steps executed\n",
      "\u001b[36m(compute_provability_training_data_remote pid=761672)\u001b[0m 40000 steps executed\n",
      "\u001b[36m(compute_provability_training_data_remote pid=761672)\u001b[0m 50000 steps executed\n",
      "\u001b[36m(compute_provability_training_data_remote pid=761672)\u001b[0m 2044 states in total\n",
      "\u001b[36m(compute_provability_training_data_remote pid=761672)\u001b[0m 170 proven states\n",
      "\u001b[36m(compute_provability_training_data_remote pid=761672)\u001b[0m 3132 state pairs found in Subalgebra.restrictScalars_injective .lake/packages/mathlib/Mathlib/Algebra/Algebra/Subalgebra/Tower.lean\n",
      "\u001b[36m(compute_provability_training_data_remote pid=761672)\u001b[0m Loading Theorem: IsScalarTower.adjoin_range_toAlgHom theorem adjoin_range_toAlgHom (t : Set A) :\n",
      "\u001b[36m(compute_provability_training_data_remote pid=761672)\u001b[0m     (Algebra.adjoin (toAlgHom R S A).range t).restrictScalars R =\n",
      "\u001b[36m(compute_provability_training_data_remote pid=761672)\u001b[0m       (Algebra.adjoin S t).restrictScalars R\n",
      "\u001b[36m(compute_provability_training_data_remote pid=761672)\u001b[0m Done\n"
     ]
    },
    {
     "name": "stderr",
     "output_type": "stream",
     "text": [
      "\u001b[36m(compute_provability_training_data_remote pid=761672)\u001b[0m 2024-06-05 01:42:15.967 | WARNING  | lean_dojo.interaction.dojo:__init__:162 - Using Lean 4 without a hard timeout may hang indefinitely.\n"
     ]
    },
    {
     "name": "stdout",
     "output_type": "stream",
     "text": [
      "\u001b[36m(compute_provability_training_data_remote pid=761672)\u001b[0m INIT_STATE: R : Type u\n",
      "\u001b[36m(compute_provability_training_data_remote pid=761672)\u001b[0m S : Type v\n",
      "\u001b[36m(compute_provability_training_data_remote pid=761672)\u001b[0m A : Type w\n",
      "\u001b[36m(compute_provability_training_data_remote pid=761672)\u001b[0m B : Type u₁\n",
      "\u001b[36m(compute_provability_training_data_remote pid=761672)\u001b[0m M : Type v₁\n",
      "\u001b[36m(compute_provability_training_data_remote pid=761672)\u001b[0m inst✝⁶ : CommSemiring R\n",
      "\u001b[36m(compute_provability_training_data_remote pid=761672)\u001b[0m inst✝⁵ : CommSemiring S\n",
      "\u001b[36m(compute_provability_training_data_remote pid=761672)\u001b[0m inst✝⁴ : CommSemiring A\n",
      "\u001b[36m(compute_provability_training_data_remote pid=761672)\u001b[0m inst✝³ : Algebra R S\n",
      "\u001b[36m(compute_provability_training_data_remote pid=761672)\u001b[0m inst✝² : Algebra S A\n",
      "\u001b[36m(compute_provability_training_data_remote pid=761672)\u001b[0m inst✝¹ : Algebra R A\n",
      "\u001b[36m(compute_provability_training_data_remote pid=761672)\u001b[0m inst✝ : IsScalarTower R S A\n",
      "\u001b[36m(compute_provability_training_data_remote pid=761672)\u001b[0m t : Set A\n",
      "\u001b[36m(compute_provability_training_data_remote pid=761672)\u001b[0m ⊢ restrictScalars R (Algebra.adjoin (↥(AlgHom.range (toAlgHom R S A))) t) = restrictScalars R (Algebra.adjoin S t)\n",
      "\u001b[36m(compute_provability_training_data_remote pid=761672)\u001b[0m {'R': 'type', 'S': 'type', 'A': 'type', 't': 'set'}\n",
      "\u001b[36m(compute_provability_training_data_remote pid=761672)\u001b[0m 10000 steps executed\n",
      "\u001b[36m(compute_provability_training_data_remote pid=761672)\u001b[0m 20000 steps executed\n",
      "\u001b[36m(compute_provability_training_data_remote pid=761672)\u001b[0m 30000 steps executed\n",
      "\u001b[36m(compute_provability_training_data_remote pid=761672)\u001b[0m Max run-time exceeded\n",
      "\u001b[36m(compute_provability_training_data_remote pid=761672)\u001b[0m 1348 states in total\n",
      "\u001b[36m(compute_provability_training_data_remote pid=761672)\u001b[0m 0 proven states\n",
      "\u001b[36m(compute_provability_training_data_remote pid=761672)\u001b[0m 0 state pairs found in IsScalarTower.adjoin_range_toAlgHom .lake/packages/mathlib/Mathlib/Algebra/Algebra/Subalgebra/Tower.lean\n",
      "\u001b[36m(compute_provability_training_data_remote pid=761969)\u001b[0m Worker 25 on .lake/packages/std/Std/Data/Int/Order.lean\n",
      "\u001b[36m(compute_provability_training_data_remote pid=761969)\u001b[0m nvcc: NVIDIA (R) Cuda compiler driver\n",
      "\u001b[36m(compute_provability_training_data_remote pid=761969)\u001b[0m Copyright (c) 2005-2023 NVIDIA Corporation\n",
      "\u001b[36m(compute_provability_training_data_remote pid=761969)\u001b[0m Built on Tue_Jun_13_19:16:58_PDT_2023\n",
      "\u001b[36m(compute_provability_training_data_remote pid=761969)\u001b[0m Cuda compilation tools, release 12.2, V12.2.91\n",
      "\u001b[36m(compute_provability_training_data_remote pid=761969)\u001b[0m Build cuda_12.2.r12.2/compiler.32965470_0\n",
      "\u001b[36m(compute_provability_training_data_remote pid=761969)\u001b[0m \n",
      "\u001b[36m(compute_provability_training_data_remote pid=761969)\u001b[0m CUDA: True\n",
      "\u001b[36m(compute_provability_training_data_remote pid=761969)\u001b[0m os.environ['LD_LIBRARY_PATH'] /usr/local/cuda-12.2/lib64:\n",
      "\u001b[36m(compute_provability_training_data_remote pid=761969)\u001b[0m Worker 25 Loading repo...\n",
      "\u001b[36m(compute_provability_training_data_remote pid=761969)\u001b[0m Worker 25 Done.\n",
      "\u001b[36m(compute_provability_training_data_remote pid=761969)\u001b[0m Worker 25 Loading models...\n",
      "\u001b[36m(compute_provability_training_data_remote pid=761969)\u001b[0m cuda:0\n",
      "\u001b[36m(compute_provability_training_data_remote pid=761969)\u001b[0m Worker 25 Loading faiss index ...\n"
     ]
    },
    {
     "name": "stderr",
     "output_type": "stream",
     "text": [
      "\u001b[36m(compute_provability_training_data_remote pid=761969)\u001b[0m 2024-06-05 02:03:11.135 | WARNING  | lean_dojo.interaction.dojo:__init__:162 - Using Lean 4 without a hard timeout may hang indefinitely.\n"
     ]
    },
    {
     "name": "stdout",
     "output_type": "stream",
     "text": [
      "\u001b[36m(compute_provability_training_data_remote pid=761969)\u001b[0m Worker 25 Computing provability ...\n",
      "\u001b[36m(compute_provability_training_data_remote pid=761969)\u001b[0m Loading Theorem: Int.le.intro_sub theorem le.intro_sub {a b : Int} (n : Nat) (h : b - a = n) : a ≤ b\n",
      "\u001b[36m(compute_provability_training_data_remote pid=761969)\u001b[0m Done\n",
      "\u001b[36m(compute_provability_training_data_remote pid=761969)\u001b[0m Sucessfully followed proof\n",
      "\u001b[36m(compute_provability_training_data_remote pid=761969)\u001b[0m INIT_STATE: a b : Int\n",
      "\u001b[36m(compute_provability_training_data_remote pid=761969)\u001b[0m n : Nat\n",
      "\u001b[36m(compute_provability_training_data_remote pid=761969)\u001b[0m h : b - a = ↑n\n",
      "\u001b[36m(compute_provability_training_data_remote pid=761969)\u001b[0m ⊢ a ≤ b\n",
      "\u001b[36m(compute_provability_training_data_remote pid=761969)\u001b[0m {'a': 'unknown', 'b': 'unknown', 'n': 'unknown', 'h': 'unknown'}\n",
      "\u001b[36m(compute_provability_training_data_remote pid=761969)\u001b[0m 10000 steps executed\n",
      "\u001b[36m(compute_provability_training_data_remote pid=761969)\u001b[0m 20000 steps executed\n",
      "\u001b[36m(compute_provability_training_data_remote pid=761969)\u001b[0m 30000 steps executed\n",
      "\u001b[36m(compute_provability_training_data_remote pid=761969)\u001b[0m 40000 steps executed\n",
      "\u001b[36m(compute_provability_training_data_remote pid=761969)\u001b[0m 50000 steps executed\n"
     ]
    },
    {
     "name": "stderr",
     "output_type": "stream",
     "text": [
      "\u001b[36m(compute_provability_training_data_remote pid=761969)\u001b[0m 2024-06-05 02:03:52.910 | WARNING  | lean_dojo.interaction.dojo:__init__:162 - Using Lean 4 without a hard timeout may hang indefinitely.\n"
     ]
    },
    {
     "name": "stdout",
     "output_type": "stream",
     "text": [
      "\u001b[36m(compute_provability_training_data_remote pid=761969)\u001b[0m 831 states in total\n",
      "\u001b[36m(compute_provability_training_data_remote pid=761969)\u001b[0m 1 proven states\n",
      "\u001b[36m(compute_provability_training_data_remote pid=761969)\u001b[0m 6 state pairs found in Int.le.intro_sub .lake/packages/std/Std/Data/Int/Order.lean\n",
      "\u001b[36m(compute_provability_training_data_remote pid=761969)\u001b[0m Loading Theorem: Int.le.intro theorem le.intro {a b : Int} (n : Nat) (h : a + n = b) : a ≤ b\n",
      "\u001b[36m(compute_provability_training_data_remote pid=761969)\u001b[0m Done\n",
      "\u001b[36m(compute_provability_training_data_remote pid=761969)\u001b[0m INIT_STATE: a b : Int\n",
      "\u001b[36m(compute_provability_training_data_remote pid=761969)\u001b[0m n : Nat\n",
      "\u001b[36m(compute_provability_training_data_remote pid=761969)\u001b[0m h : a + ↑n = b\n",
      "\u001b[36m(compute_provability_training_data_remote pid=761969)\u001b[0m ⊢ a ≤ b\n",
      "\u001b[36m(compute_provability_training_data_remote pid=761969)\u001b[0m {'a': 'unknown', 'b': 'unknown', 'n': 'unknown', 'h': 'unknown'}\n",
      "\u001b[36m(compute_provability_training_data_remote pid=761969)\u001b[0m 10000 steps executed\n",
      "\u001b[36m(compute_provability_training_data_remote pid=761969)\u001b[0m 20000 steps executed\n",
      "\u001b[36m(compute_provability_training_data_remote pid=761969)\u001b[0m 30000 steps executed\n",
      "\u001b[36m(compute_provability_training_data_remote pid=761969)\u001b[0m 40000 steps executed\n",
      "\u001b[36m(compute_provability_training_data_remote pid=761969)\u001b[0m 50000 steps executed\n"
     ]
    },
    {
     "name": "stderr",
     "output_type": "stream",
     "text": [
      "\u001b[36m(compute_provability_training_data_remote pid=761969)\u001b[0m 2024-06-05 02:04:59.700 | WARNING  | lean_dojo.interaction.dojo:__init__:162 - Using Lean 4 without a hard timeout may hang indefinitely.\n"
     ]
    },
    {
     "name": "stdout",
     "output_type": "stream",
     "text": [
      "\u001b[36m(compute_provability_training_data_remote pid=761969)\u001b[0m 716 states in total\n",
      "\u001b[36m(compute_provability_training_data_remote pid=761969)\u001b[0m 0 proven states\n",
      "\u001b[36m(compute_provability_training_data_remote pid=761969)\u001b[0m 0 state pairs found in Int.le.intro .lake/packages/std/Std/Data/Int/Order.lean\n",
      "\u001b[36m(compute_provability_training_data_remote pid=761969)\u001b[0m Loading Theorem: Int.le.dest theorem le.dest {a b : Int} (h : a ≤ b) : ∃ n : Nat, a + n = b\n",
      "\u001b[36m(compute_provability_training_data_remote pid=761969)\u001b[0m Done\n",
      "\u001b[36m(compute_provability_training_data_remote pid=761969)\u001b[0m INIT_STATE: a b : Int\n",
      "\u001b[36m(compute_provability_training_data_remote pid=761969)\u001b[0m h : a ≤ b\n",
      "\u001b[36m(compute_provability_training_data_remote pid=761969)\u001b[0m ⊢ ∃ n, a + ↑n = b\n",
      "\u001b[36m(compute_provability_training_data_remote pid=761969)\u001b[0m {'a': 'unknown', 'b': 'unknown', 'h': 'unknown'}\n",
      "\u001b[36m(compute_provability_training_data_remote pid=761969)\u001b[0m 10000 steps executed\n",
      "\u001b[36m(compute_provability_training_data_remote pid=761969)\u001b[0m 20000 steps executed\n",
      "\u001b[36m(compute_provability_training_data_remote pid=761969)\u001b[0m 30000 steps executed\n",
      "\u001b[36m(compute_provability_training_data_remote pid=761969)\u001b[0m 40000 steps executed\n",
      "\u001b[36m(compute_provability_training_data_remote pid=761969)\u001b[0m 50000 steps executed\n"
     ]
    },
    {
     "name": "stderr",
     "output_type": "stream",
     "text": [
      "\u001b[36m(compute_provability_training_data_remote pid=761969)\u001b[0m 2024-06-05 02:05:46.234 | WARNING  | lean_dojo.interaction.dojo:__init__:162 - Using Lean 4 without a hard timeout may hang indefinitely.\n"
     ]
    },
    {
     "name": "stdout",
     "output_type": "stream",
     "text": [
      "\u001b[36m(compute_provability_training_data_remote pid=761969)\u001b[0m 878 states in total\n",
      "\u001b[36m(compute_provability_training_data_remote pid=761969)\u001b[0m 0 proven states\n",
      "\u001b[36m(compute_provability_training_data_remote pid=761969)\u001b[0m 0 state pairs found in Int.le.dest .lake/packages/std/Std/Data/Int/Order.lean\n",
      "\u001b[36m(compute_provability_training_data_remote pid=761969)\u001b[0m Loading Theorem: Int.eq_ofNat_of_zero_le theorem eq_ofNat_of_zero_le {a : Int} (h : 0 ≤ a) : ∃ n : Nat, a = n\n",
      "\u001b[36m(compute_provability_training_data_remote pid=761969)\u001b[0m Done\n",
      "\u001b[36m(compute_provability_training_data_remote pid=761969)\u001b[0m Sucessfully followed proof\n",
      "\u001b[36m(compute_provability_training_data_remote pid=761969)\u001b[0m INIT_STATE: a : Int\n",
      "\u001b[36m(compute_provability_training_data_remote pid=761969)\u001b[0m h : 0 ≤ a\n",
      "\u001b[36m(compute_provability_training_data_remote pid=761969)\u001b[0m ⊢ ∃ n, a = ↑n\n",
      "\u001b[36m(compute_provability_training_data_remote pid=761969)\u001b[0m {'a': 'unknown', 'h': 'unknown'}\n"
     ]
    },
    {
     "name": "stderr",
     "output_type": "stream",
     "text": [
      "\u001b[36m(compute_provability_training_data_remote pid=761969)\u001b[0m 2024-06-05 02:06:04.690 | WARNING  | lean_dojo.interaction.dojo:__init__:162 - Using Lean 4 without a hard timeout may hang indefinitely.\n"
     ]
    },
    {
     "name": "stdout",
     "output_type": "stream",
     "text": [
      "\u001b[36m(compute_provability_training_data_remote pid=761969)\u001b[0m 179 states in total\n",
      "\u001b[36m(compute_provability_training_data_remote pid=761969)\u001b[0m 1 proven states\n",
      "\u001b[36m(compute_provability_training_data_remote pid=761969)\u001b[0m 4 state pairs found in Int.eq_ofNat_of_zero_le .lake/packages/std/Std/Data/Int/Order.lean\n",
      "\u001b[36m(compute_provability_training_data_remote pid=761969)\u001b[0m Loading Theorem: Int.eq_succ_of_zero_lt theorem eq_succ_of_zero_lt {a : Int} (h : 0 < a) : ∃ n : Nat, a = n.succ\n",
      "\u001b[36m(compute_provability_training_data_remote pid=761969)\u001b[0m Done\n",
      "\u001b[36m(compute_provability_training_data_remote pid=761969)\u001b[0m INIT_STATE: a : Int\n",
      "\u001b[36m(compute_provability_training_data_remote pid=761969)\u001b[0m h : 0 < a\n",
      "\u001b[36m(compute_provability_training_data_remote pid=761969)\u001b[0m ⊢ ∃ n, a = ↑(succ n)\n",
      "\u001b[36m(compute_provability_training_data_remote pid=761969)\u001b[0m {'a': 'unknown', 'h': 'unknown'}\n",
      "\u001b[36m(compute_provability_training_data_remote pid=761969)\u001b[0m 10000 steps executed\n",
      "\u001b[36m(compute_provability_training_data_remote pid=761969)\u001b[0m 20000 steps executed\n",
      "\u001b[36m(compute_provability_training_data_remote pid=761969)\u001b[0m 30000 steps executed\n",
      "\u001b[36m(compute_provability_training_data_remote pid=761969)\u001b[0m 40000 steps executed\n",
      "\u001b[36m(compute_provability_training_data_remote pid=761969)\u001b[0m 50000 steps executed\n",
      "\u001b[36m(compute_provability_training_data_remote pid=761969)\u001b[0m 691 states in total\n",
      "\u001b[36m(compute_provability_training_data_remote pid=761969)\u001b[0m 0 proven states\n",
      "\u001b[36m(compute_provability_training_data_remote pid=761969)\u001b[0m 0 state pairs found in Int.eq_succ_of_zero_lt .lake/packages/std/Std/Data/Int/Order.lean\n",
      "\u001b[36m(compute_provability_training_data_remote pid=762584)\u001b[0m Worker 29 on .lake/packages/mathlib/Mathlib/Data/Set/Pointwise/Interval.lean\n",
      "\u001b[36m(compute_provability_training_data_remote pid=762584)\u001b[0m nvcc: NVIDIA (R) Cuda compiler driver\n",
      "\u001b[36m(compute_provability_training_data_remote pid=762584)\u001b[0m Copyright (c) 2005-2023 NVIDIA Corporation\n",
      "\u001b[36m(compute_provability_training_data_remote pid=762584)\u001b[0m Built on Tue_Jun_13_19:16:58_PDT_2023\n",
      "\u001b[36m(compute_provability_training_data_remote pid=762584)\u001b[0m Cuda compilation tools, release 12.2, V12.2.91\n",
      "\u001b[36m(compute_provability_training_data_remote pid=762584)\u001b[0m Build cuda_12.2.r12.2/compiler.32965470_0\n",
      "\u001b[36m(compute_provability_training_data_remote pid=762584)\u001b[0m \n",
      "\u001b[36m(compute_provability_training_data_remote pid=762584)\u001b[0m CUDA: True\n",
      "\u001b[36m(compute_provability_training_data_remote pid=762584)\u001b[0m os.environ['LD_LIBRARY_PATH'] /usr/local/cuda-12.2/lib64:\n",
      "\u001b[36m(compute_provability_training_data_remote pid=762584)\u001b[0m Worker 29 Loading repo...\n",
      "\u001b[36m(compute_provability_training_data_remote pid=762584)\u001b[0m Worker 29 Done.\n",
      "\u001b[36m(compute_provability_training_data_remote pid=762584)\u001b[0m Worker 29 Loading models...\n",
      "\u001b[36m(compute_provability_training_data_remote pid=762584)\u001b[0m cuda:0\n",
      "\u001b[36m(compute_provability_training_data_remote pid=762584)\u001b[0m Worker 29 Loading faiss index ...\n",
      "\u001b[36m(compute_provability_training_data_remote pid=762584)\u001b[0m Worker 29 Computing provability ...\n",
      "\u001b[36m(compute_provability_training_data_remote pid=762584)\u001b[0m Loading Theorem: Set.image_const_add_Iic theorem image_const_add_Iic : (fun x => a + x) '' Iic b = Iic (a + b)\n",
      "\u001b[36m(compute_provability_training_data_remote pid=762584)\u001b[0m Done\n"
     ]
    },
    {
     "name": "stderr",
     "output_type": "stream",
     "text": [
      "\u001b[36m(compute_provability_training_data_remote pid=762584)\u001b[0m 2024-06-05 02:07:56.680 | WARNING  | lean_dojo.interaction.dojo:__init__:162 - Using Lean 4 without a hard timeout may hang indefinitely.\n"
     ]
    },
    {
     "name": "stdout",
     "output_type": "stream",
     "text": [
      "\u001b[36m(compute_provability_training_data_remote pid=762584)\u001b[0m Sucessfully followed proof\n",
      "\u001b[36m(compute_provability_training_data_remote pid=762584)\u001b[0m INIT_STATE: α : Type u_1\n",
      "\u001b[36m(compute_provability_training_data_remote pid=762584)\u001b[0m inst✝ : OrderedAddCommGroup α\n",
      "\u001b[36m(compute_provability_training_data_remote pid=762584)\u001b[0m a b c : α\n",
      "\u001b[36m(compute_provability_training_data_remote pid=762584)\u001b[0m ⊢ (fun x => a + x) '' Iic b = Iic (a + b)\n",
      "\u001b[36m(compute_provability_training_data_remote pid=762584)\u001b[0m {'a': 'variable', 'b': 'variable'}\n",
      "\u001b[36m(compute_provability_training_data_remote pid=762584)\u001b[0m ProofFinished\n",
      "\u001b[36m(compute_provability_training_data_remote pid=762584)\u001b[0m ProofFinished\n",
      "\u001b[36m(compute_provability_training_data_remote pid=762584)\u001b[0m ProofFinished\n",
      "\u001b[36m(compute_provability_training_data_remote pid=762584)\u001b[0m ProofFinished\n",
      "\u001b[36m(compute_provability_training_data_remote pid=762584)\u001b[0m ProofFinished\n",
      "\u001b[36m(compute_provability_training_data_remote pid=762584)\u001b[0m ProofFinished\n",
      "\u001b[36m(compute_provability_training_data_remote pid=762584)\u001b[0m ProofFinished\n",
      "\u001b[36m(compute_provability_training_data_remote pid=762584)\u001b[0m ProofFinished\n",
      "\u001b[36m(compute_provability_training_data_remote pid=762584)\u001b[0m 10000 steps executed\n",
      "\u001b[36m(compute_provability_training_data_remote pid=762584)\u001b[0m 20000 steps executed\n",
      "\u001b[36m(compute_provability_training_data_remote pid=762584)\u001b[0m 30000 steps executed\n",
      "\u001b[36m(compute_provability_training_data_remote pid=762584)\u001b[0m 40000 steps executed\n",
      "\u001b[36m(compute_provability_training_data_remote pid=762584)\u001b[0m 50000 steps executed\n",
      "\u001b[36m(compute_provability_training_data_remote pid=762584)\u001b[0m 3462 states in total\n",
      "\u001b[36m(compute_provability_training_data_remote pid=762584)\u001b[0m 328 proven states\n",
      "\u001b[36m(compute_provability_training_data_remote pid=762584)\u001b[0m 6186 state pairs found in Set.image_const_add_Iic .lake/packages/mathlib/Mathlib/Data/Set/Pointwise/Interval.lean\n",
      "\u001b[36m(compute_provability_training_data_remote pid=762584)\u001b[0m Loading Theorem: Set.image_const_add_Iio theorem image_const_add_Iio : (fun x => a + x) '' Iio b = Iio (a + b)\n",
      "\u001b[36m(compute_provability_training_data_remote pid=762584)\u001b[0m Done\n"
     ]
    },
    {
     "name": "stderr",
     "output_type": "stream",
     "text": [
      "\u001b[36m(compute_provability_training_data_remote pid=762584)\u001b[0m 2024-06-05 02:10:03.890 | WARNING  | lean_dojo.interaction.dojo:__init__:162 - Using Lean 4 without a hard timeout may hang indefinitely.\n"
     ]
    },
    {
     "name": "stdout",
     "output_type": "stream",
     "text": [
      "\u001b[36m(compute_provability_training_data_remote pid=762584)\u001b[0m Sucessfully followed proof\n",
      "\u001b[36m(compute_provability_training_data_remote pid=762584)\u001b[0m INIT_STATE: α : Type u_1\n",
      "\u001b[36m(compute_provability_training_data_remote pid=762584)\u001b[0m inst✝ : OrderedAddCommGroup α\n",
      "\u001b[36m(compute_provability_training_data_remote pid=762584)\u001b[0m a b c : α\n",
      "\u001b[36m(compute_provability_training_data_remote pid=762584)\u001b[0m ⊢ (fun x => a + x) '' Iio b = Iio (a + b)\n",
      "\u001b[36m(compute_provability_training_data_remote pid=762584)\u001b[0m {'a': 'variable', 'b': 'variable'}\n",
      "\u001b[36m(compute_provability_training_data_remote pid=762584)\u001b[0m ProofFinished\n",
      "\u001b[36m(compute_provability_training_data_remote pid=762584)\u001b[0m 10000 steps executed\n",
      "\u001b[36m(compute_provability_training_data_remote pid=762584)\u001b[0m 20000 steps executed\n",
      "\u001b[36m(compute_provability_training_data_remote pid=762584)\u001b[0m 30000 steps executed\n",
      "\u001b[36m(compute_provability_training_data_remote pid=762584)\u001b[0m 40000 steps executed\n",
      "\u001b[36m(compute_provability_training_data_remote pid=762584)\u001b[0m 50000 steps executed\n",
      "\u001b[36m(compute_provability_training_data_remote pid=762584)\u001b[0m 3534 states in total\n",
      "\u001b[36m(compute_provability_training_data_remote pid=762584)\u001b[0m 206 proven states\n",
      "\u001b[36m(compute_provability_training_data_remote pid=762584)\u001b[0m 4932 state pairs found in Set.image_const_add_Iio .lake/packages/mathlib/Mathlib/Data/Set/Pointwise/Interval.lean\n",
      "\u001b[36m(compute_provability_training_data_remote pid=762584)\u001b[0m Loading Theorem: Set.image_add_const_Iic theorem image_add_const_Iic : (fun x => x + a) '' Iic b = Iic (b + a)\n",
      "\u001b[36m(compute_provability_training_data_remote pid=762584)\u001b[0m Done\n"
     ]
    },
    {
     "name": "stderr",
     "output_type": "stream",
     "text": [
      "\u001b[36m(compute_provability_training_data_remote pid=762584)\u001b[0m 2024-06-05 02:12:39.872 | WARNING  | lean_dojo.interaction.dojo:__init__:162 - Using Lean 4 without a hard timeout may hang indefinitely.\n"
     ]
    },
    {
     "name": "stdout",
     "output_type": "stream",
     "text": [
      "\u001b[36m(compute_provability_training_data_remote pid=762584)\u001b[0m Sucessfully followed proof\n",
      "\u001b[36m(compute_provability_training_data_remote pid=762584)\u001b[0m INIT_STATE: α : Type u_1\n",
      "\u001b[36m(compute_provability_training_data_remote pid=762584)\u001b[0m inst✝ : OrderedAddCommGroup α\n",
      "\u001b[36m(compute_provability_training_data_remote pid=762584)\u001b[0m a b c : α\n",
      "\u001b[36m(compute_provability_training_data_remote pid=762584)\u001b[0m ⊢ (fun x => x + a) '' Iic b = Iic (b + a)\n",
      "\u001b[36m(compute_provability_training_data_remote pid=762584)\u001b[0m {'a': 'variable', 'b': 'variable'}\n",
      "\u001b[36m(compute_provability_training_data_remote pid=762584)\u001b[0m ProofFinished\n",
      "\u001b[36m(compute_provability_training_data_remote pid=762584)\u001b[0m ProofFinished\n",
      "\u001b[36m(compute_provability_training_data_remote pid=762584)\u001b[0m ProofFinished\n",
      "\u001b[36m(compute_provability_training_data_remote pid=762584)\u001b[0m ProofFinished\n",
      "\u001b[36m(compute_provability_training_data_remote pid=762584)\u001b[0m ProofFinished\n",
      "\u001b[36m(compute_provability_training_data_remote pid=762584)\u001b[0m ProofFinished\n",
      "\u001b[36m(compute_provability_training_data_remote pid=762584)\u001b[0m ProofFinished\n",
      "\u001b[36m(compute_provability_training_data_remote pid=762584)\u001b[0m ProofFinished\n",
      "\u001b[36m(compute_provability_training_data_remote pid=762584)\u001b[0m 10000 steps executed\n",
      "\u001b[36m(compute_provability_training_data_remote pid=762584)\u001b[0m 20000 steps executed\n",
      "\u001b[36m(compute_provability_training_data_remote pid=762584)\u001b[0m 30000 steps executed\n",
      "\u001b[36m(compute_provability_training_data_remote pid=762584)\u001b[0m 40000 steps executed\n",
      "\u001b[36m(compute_provability_training_data_remote pid=762584)\u001b[0m 3148 states in total\n",
      "\u001b[36m(compute_provability_training_data_remote pid=762584)\u001b[0m 288 proven states\n",
      "\u001b[36m(compute_provability_training_data_remote pid=762584)\u001b[0m 5024 state pairs found in Set.image_add_const_Iic .lake/packages/mathlib/Mathlib/Data/Set/Pointwise/Interval.lean\n",
      "\u001b[36m(compute_provability_training_data_remote pid=762584)\u001b[0m Loading Theorem: Set.image_add_const_Iio theorem image_add_const_Iio : (fun x => x + a) '' Iio b = Iio (b + a)\n",
      "\u001b[36m(compute_provability_training_data_remote pid=762584)\u001b[0m Done\n"
     ]
    },
    {
     "name": "stderr",
     "output_type": "stream",
     "text": [
      "\u001b[36m(compute_provability_training_data_remote pid=762584)\u001b[0m 2024-06-05 02:15:41.441 | WARNING  | lean_dojo.interaction.dojo:__init__:162 - Using Lean 4 without a hard timeout may hang indefinitely.\n"
     ]
    },
    {
     "name": "stdout",
     "output_type": "stream",
     "text": [
      "\u001b[36m(compute_provability_training_data_remote pid=762584)\u001b[0m Sucessfully followed proof\n",
      "\u001b[36m(compute_provability_training_data_remote pid=762584)\u001b[0m INIT_STATE: α : Type u_1\n",
      "\u001b[36m(compute_provability_training_data_remote pid=762584)\u001b[0m inst✝ : OrderedAddCommGroup α\n",
      "\u001b[36m(compute_provability_training_data_remote pid=762584)\u001b[0m a b c : α\n",
      "\u001b[36m(compute_provability_training_data_remote pid=762584)\u001b[0m ⊢ (fun x => x + a) '' Iio b = Iio (b + a)\n",
      "\u001b[36m(compute_provability_training_data_remote pid=762584)\u001b[0m {'a': 'variable', 'b': 'variable'}\n",
      "\u001b[36m(compute_provability_training_data_remote pid=762584)\u001b[0m ProofFinished\n",
      "\u001b[36m(compute_provability_training_data_remote pid=762584)\u001b[0m ProofFinished\n",
      "\u001b[36m(compute_provability_training_data_remote pid=762584)\u001b[0m ProofFinished\n",
      "\u001b[36m(compute_provability_training_data_remote pid=762584)\u001b[0m ProofFinished\n",
      "\u001b[36m(compute_provability_training_data_remote pid=762584)\u001b[0m ProofFinished\n",
      "\u001b[36m(compute_provability_training_data_remote pid=762584)\u001b[0m ProofFinished\n",
      "\u001b[36m(compute_provability_training_data_remote pid=762584)\u001b[0m ProofFinished\n",
      "\u001b[36m(compute_provability_training_data_remote pid=762584)\u001b[0m ProofFinished\n",
      "\u001b[36m(compute_provability_training_data_remote pid=762584)\u001b[0m 10000 steps executed\n",
      "\u001b[36m(compute_provability_training_data_remote pid=762584)\u001b[0m 20000 steps executed\n",
      "\u001b[36m(compute_provability_training_data_remote pid=762584)\u001b[0m 30000 steps executed\n",
      "\u001b[36m(compute_provability_training_data_remote pid=762584)\u001b[0m 40000 steps executed\n",
      "\u001b[36m(compute_provability_training_data_remote pid=762584)\u001b[0m 50000 steps executed\n",
      "\u001b[36m(compute_provability_training_data_remote pid=762584)\u001b[0m 3178 states in total\n",
      "\u001b[36m(compute_provability_training_data_remote pid=762584)\u001b[0m 338 proven states\n",
      "\u001b[36m(compute_provability_training_data_remote pid=762584)\u001b[0m 8839 state pairs found in Set.image_add_const_Iio .lake/packages/mathlib/Mathlib/Data/Set/Pointwise/Interval.lean\n",
      "\u001b[36m(compute_provability_training_data_remote pid=762584)\u001b[0m Loading Theorem: Set.image_neg_Ici theorem image_neg_Ici : Neg.neg '' Ici a = Iic (-a)\n",
      "\u001b[36m(compute_provability_training_data_remote pid=762584)\u001b[0m Done\n"
     ]
    },
    {
     "name": "stderr",
     "output_type": "stream",
     "text": [
      "\u001b[36m(compute_provability_training_data_remote pid=762584)\u001b[0m 2024-06-05 02:18:03.225 | WARNING  | lean_dojo.interaction.dojo:__init__:162 - Using Lean 4 without a hard timeout may hang indefinitely.\n"
     ]
    },
    {
     "name": "stdout",
     "output_type": "stream",
     "text": [
      "\u001b[36m(compute_provability_training_data_remote pid=762584)\u001b[0m Sucessfully followed proof\n",
      "\u001b[36m(compute_provability_training_data_remote pid=762584)\u001b[0m INIT_STATE: α : Type u_1\n",
      "\u001b[36m(compute_provability_training_data_remote pid=762584)\u001b[0m inst✝ : OrderedAddCommGroup α\n",
      "\u001b[36m(compute_provability_training_data_remote pid=762584)\u001b[0m a b c : α\n",
      "\u001b[36m(compute_provability_training_data_remote pid=762584)\u001b[0m ⊢ Neg.neg '' Ici a = Iic (-a)\n",
      "\u001b[36m(compute_provability_training_data_remote pid=762584)\u001b[0m {'a': 'variable'}\n",
      "\u001b[36m(compute_provability_training_data_remote pid=762584)\u001b[0m ProofFinished\n",
      "\u001b[36m(compute_provability_training_data_remote pid=762584)\u001b[0m ProofFinished\n",
      "\u001b[36m(compute_provability_training_data_remote pid=762584)\u001b[0m ProofFinished\n",
      "\u001b[36m(compute_provability_training_data_remote pid=762584)\u001b[0m ProofFinished\n",
      "\u001b[36m(compute_provability_training_data_remote pid=762584)\u001b[0m ProofFinished\n",
      "\u001b[36m(compute_provability_training_data_remote pid=762584)\u001b[0m ProofFinished\n",
      "\u001b[36m(compute_provability_training_data_remote pid=762584)\u001b[0m ProofFinished\n",
      "\u001b[36m(compute_provability_training_data_remote pid=762584)\u001b[0m ProofFinished\n",
      "\u001b[36m(compute_provability_training_data_remote pid=762584)\u001b[0m 403 states in total\n",
      "\u001b[36m(compute_provability_training_data_remote pid=762584)\u001b[0m 69 proven states\n",
      "\u001b[36m(compute_provability_training_data_remote pid=762584)\u001b[0m 641 state pairs found in Set.image_neg_Ici .lake/packages/mathlib/Mathlib/Data/Set/Pointwise/Interval.lean\n",
      "\u001b[36m(compute_provability_training_data_remote pid=763195)\u001b[0m Worker 75 on .lake/packages/mathlib/Mathlib/Analysis/SpecialFunctions/Trigonometric/Complex.lean\n",
      "\u001b[36m(compute_provability_training_data_remote pid=763195)\u001b[0m nvcc: NVIDIA (R) Cuda compiler driver\n",
      "\u001b[36m(compute_provability_training_data_remote pid=763195)\u001b[0m Copyright (c) 2005-2023 NVIDIA Corporation\n",
      "\u001b[36m(compute_provability_training_data_remote pid=763195)\u001b[0m Built on Tue_Jun_13_19:16:58_PDT_2023\n",
      "\u001b[36m(compute_provability_training_data_remote pid=763195)\u001b[0m Cuda compilation tools, release 12.2, V12.2.91\n",
      "\u001b[36m(compute_provability_training_data_remote pid=763195)\u001b[0m Build cuda_12.2.r12.2/compiler.32965470_0\n",
      "\u001b[36m(compute_provability_training_data_remote pid=763195)\u001b[0m \n",
      "\u001b[36m(compute_provability_training_data_remote pid=763195)\u001b[0m CUDA: True\n",
      "\u001b[36m(compute_provability_training_data_remote pid=763195)\u001b[0m os.environ['LD_LIBRARY_PATH'] /usr/local/cuda-12.2/lib64:\n",
      "\u001b[36m(compute_provability_training_data_remote pid=763195)\u001b[0m Worker 75 Loading repo...\n",
      "\u001b[36m(compute_provability_training_data_remote pid=763195)\u001b[0m Worker 75 Done.\n",
      "\u001b[36m(compute_provability_training_data_remote pid=763195)\u001b[0m Worker 75 Loading models...\n",
      "\u001b[36m(compute_provability_training_data_remote pid=763195)\u001b[0m cuda:0\n",
      "\u001b[36m(compute_provability_training_data_remote pid=763195)\u001b[0m Worker 75 Loading faiss index ...\n",
      "\u001b[36m(compute_provability_training_data_remote pid=763195)\u001b[0m Worker 75 Computing provability ...\n",
      "\u001b[36m(compute_provability_training_data_remote pid=763195)\u001b[0m Loading Theorem: Complex.cos_eq_zero_iff theorem cos_eq_zero_iff {θ : ℂ} : cos θ = 0 ↔ ∃ k : ℤ, θ = (2 * k + 1) * π / 2\n",
      "\u001b[36m(compute_provability_training_data_remote pid=763195)\u001b[0m Done\n"
     ]
    },
    {
     "name": "stderr",
     "output_type": "stream",
     "text": [
      "\u001b[36m(compute_provability_training_data_remote pid=763195)\u001b[0m 2024-06-05 02:19:07.779 | WARNING  | lean_dojo.interaction.dojo:__init__:162 - Using Lean 4 without a hard timeout may hang indefinitely.\n"
     ]
    },
    {
     "name": "stdout",
     "output_type": "stream",
     "text": [
      "\u001b[36m(compute_provability_training_data_remote pid=763195)\u001b[0m Sucessfully followed proof\n",
      "\u001b[36m(compute_provability_training_data_remote pid=763195)\u001b[0m INIT_STATE: θ : ℂ\n",
      "\u001b[36m(compute_provability_training_data_remote pid=763195)\u001b[0m ⊢ cos θ = 0 ↔ ∃ k, θ = (2 * ↑k + 1) * ↑π / 2\n",
      "\u001b[36m(compute_provability_training_data_remote pid=763195)\u001b[0m {'θ': 'unknown'}\n"
     ]
    },
    {
     "name": "stderr",
     "output_type": "stream",
     "text": [
      "\u001b[36m(compute_provability_training_data_remote pid=763195)\u001b[0m 2024-06-05 02:19:29.902 | WARNING  | lean_dojo.interaction.dojo:__init__:162 - Using Lean 4 without a hard timeout may hang indefinitely.\n"
     ]
    },
    {
     "name": "stdout",
     "output_type": "stream",
     "text": [
      "\u001b[36m(compute_provability_training_data_remote pid=763195)\u001b[0m 100 states in total\n",
      "\u001b[36m(compute_provability_training_data_remote pid=763195)\u001b[0m 1 proven states\n",
      "\u001b[36m(compute_provability_training_data_remote pid=763195)\u001b[0m 14 state pairs found in Complex.cos_eq_zero_iff .lake/packages/mathlib/Mathlib/Analysis/SpecialFunctions/Trigonometric/Complex.lean\n",
      "\u001b[36m(compute_provability_training_data_remote pid=763195)\u001b[0m Loading Theorem: Complex.cos_ne_zero_iff theorem cos_ne_zero_iff {θ : ℂ} : cos θ ≠ 0 ↔ ∀ k : ℤ, θ ≠ (2 * k + 1) * π / 2\n",
      "\u001b[36m(compute_provability_training_data_remote pid=763195)\u001b[0m Done\n",
      "\u001b[36m(compute_provability_training_data_remote pid=763195)\u001b[0m Sucessfully followed proof\n",
      "\u001b[36m(compute_provability_training_data_remote pid=763195)\u001b[0m INIT_STATE: θ : ℂ\n",
      "\u001b[36m(compute_provability_training_data_remote pid=763195)\u001b[0m ⊢ cos θ ≠ 0 ↔ ∀ (k : ℤ), θ ≠ (2 * ↑k + 1) * ↑π / 2\n",
      "\u001b[36m(compute_provability_training_data_remote pid=763195)\u001b[0m {'θ': 'unknown', 'cos': 'unknown', '≠': 'unknown', '0': 'unknown', '↔': 'unknown', '∀': 'unknown'}\n"
     ]
    },
    {
     "name": "stderr",
     "output_type": "stream",
     "text": [
      "\u001b[36m(compute_provability_training_data_remote pid=763195)\u001b[0m 2024-06-05 02:19:46.576 | WARNING  | lean_dojo.interaction.dojo:__init__:162 - Using Lean 4 without a hard timeout may hang indefinitely.\n"
     ]
    },
    {
     "name": "stdout",
     "output_type": "stream",
     "text": [
      "\u001b[36m(compute_provability_training_data_remote pid=763195)\u001b[0m 15 states in total\n",
      "\u001b[36m(compute_provability_training_data_remote pid=763195)\u001b[0m 1 proven states\n",
      "\u001b[36m(compute_provability_training_data_remote pid=763195)\u001b[0m 2 state pairs found in Complex.cos_ne_zero_iff .lake/packages/mathlib/Mathlib/Analysis/SpecialFunctions/Trigonometric/Complex.lean\n",
      "\u001b[36m(compute_provability_training_data_remote pid=763195)\u001b[0m Loading Theorem: Complex.sin_eq_zero_iff theorem sin_eq_zero_iff {θ : ℂ} : sin θ = 0 ↔ ∃ k : ℤ, θ = k * π\n",
      "\u001b[36m(compute_provability_training_data_remote pid=763195)\u001b[0m Done\n",
      "\u001b[36m(compute_provability_training_data_remote pid=763195)\u001b[0m Sucessfully followed proof\n",
      "\u001b[36m(compute_provability_training_data_remote pid=763195)\u001b[0m INIT_STATE: θ : ℂ\n",
      "\u001b[36m(compute_provability_training_data_remote pid=763195)\u001b[0m ⊢ sin θ = 0 ↔ ∃ k, θ = ↑k * ↑π\n",
      "\u001b[36m(compute_provability_training_data_remote pid=763195)\u001b[0m {'θ': 'unknown'}\n"
     ]
    },
    {
     "name": "stderr",
     "output_type": "stream",
     "text": [
      "\u001b[36m(compute_provability_training_data_remote pid=763195)\u001b[0m 2024-06-05 02:20:00.877 | WARNING  | lean_dojo.interaction.dojo:__init__:162 - Using Lean 4 without a hard timeout may hang indefinitely.\n"
     ]
    },
    {
     "name": "stdout",
     "output_type": "stream",
     "text": [
      "\u001b[36m(compute_provability_training_data_remote pid=763195)\u001b[0m 19 states in total\n",
      "\u001b[36m(compute_provability_training_data_remote pid=763195)\u001b[0m 1 proven states\n",
      "\u001b[36m(compute_provability_training_data_remote pid=763195)\u001b[0m 8 state pairs found in Complex.sin_eq_zero_iff .lake/packages/mathlib/Mathlib/Analysis/SpecialFunctions/Trigonometric/Complex.lean\n",
      "\u001b[36m(compute_provability_training_data_remote pid=763195)\u001b[0m Loading Theorem: Complex.sin_ne_zero_iff theorem sin_ne_zero_iff {θ : ℂ} : sin θ ≠ 0 ↔ ∀ k : ℤ, θ ≠ k * π\n",
      "\u001b[36m(compute_provability_training_data_remote pid=763195)\u001b[0m Done\n",
      "\u001b[36m(compute_provability_training_data_remote pid=763195)\u001b[0m Sucessfully followed proof\n",
      "\u001b[36m(compute_provability_training_data_remote pid=763195)\u001b[0m INIT_STATE: θ : ℂ\n",
      "\u001b[36m(compute_provability_training_data_remote pid=763195)\u001b[0m ⊢ sin θ ≠ 0 ↔ ∀ (k : ℤ), θ ≠ ↑k * ↑π\n",
      "\u001b[36m(compute_provability_training_data_remote pid=763195)\u001b[0m {'θ': 'unknown', 'sin': 'unknown', '≠': 'unknown', '0': 'unknown', '↔': 'unknown', '∀': 'unknown'}\n"
     ]
    },
    {
     "name": "stderr",
     "output_type": "stream",
     "text": [
      "\u001b[36m(compute_provability_training_data_remote pid=763195)\u001b[0m 2024-06-05 02:20:16.290 | WARNING  | lean_dojo.interaction.dojo:__init__:162 - Using Lean 4 without a hard timeout may hang indefinitely.\n"
     ]
    },
    {
     "name": "stdout",
     "output_type": "stream",
     "text": [
      "\u001b[36m(compute_provability_training_data_remote pid=763195)\u001b[0m 14 states in total\n",
      "\u001b[36m(compute_provability_training_data_remote pid=763195)\u001b[0m 1 proven states\n",
      "\u001b[36m(compute_provability_training_data_remote pid=763195)\u001b[0m 2 state pairs found in Complex.sin_ne_zero_iff .lake/packages/mathlib/Mathlib/Analysis/SpecialFunctions/Trigonometric/Complex.lean\n",
      "\u001b[36m(compute_provability_training_data_remote pid=763195)\u001b[0m Loading Theorem: Complex.tan_eq_zero_iff theorem tan_eq_zero_iff {θ : ℂ} : tan θ = 0 ↔ ∃ k : ℤ, k * π / 2 = θ\n",
      "\u001b[36m(compute_provability_training_data_remote pid=763195)\u001b[0m Done\n",
      "\u001b[36m(compute_provability_training_data_remote pid=763195)\u001b[0m Sucessfully followed proof\n",
      "\u001b[36m(compute_provability_training_data_remote pid=763195)\u001b[0m INIT_STATE: θ : ℂ\n",
      "\u001b[36m(compute_provability_training_data_remote pid=763195)\u001b[0m ⊢ tan θ = 0 ↔ ∃ k, ↑k * ↑π / 2 = θ\n",
      "\u001b[36m(compute_provability_training_data_remote pid=763195)\u001b[0m {'θ': 'unknown'}\n",
      "\u001b[36m(compute_provability_training_data_remote pid=763195)\u001b[0m 19 states in total\n",
      "\u001b[36m(compute_provability_training_data_remote pid=763195)\u001b[0m 1 proven states\n",
      "\u001b[36m(compute_provability_training_data_remote pid=763195)\u001b[0m 4 state pairs found in Complex.tan_eq_zero_iff .lake/packages/mathlib/Mathlib/Analysis/SpecialFunctions/Trigonometric/Complex.lean\n",
      "\u001b[36m(compute_provability_training_data_remote pid=763797)\u001b[0m Worker 28 on .lake/packages/mathlib/Mathlib/Algebra/GroupPower/Ring.lean\n",
      "\u001b[36m(compute_provability_training_data_remote pid=763797)\u001b[0m nvcc: NVIDIA (R) Cuda compiler driver\n",
      "\u001b[36m(compute_provability_training_data_remote pid=763797)\u001b[0m Copyright (c) 2005-2023 NVIDIA Corporation\n",
      "\u001b[36m(compute_provability_training_data_remote pid=763797)\u001b[0m Built on Tue_Jun_13_19:16:58_PDT_2023\n",
      "\u001b[36m(compute_provability_training_data_remote pid=763797)\u001b[0m Cuda compilation tools, release 12.2, V12.2.91\n",
      "\u001b[36m(compute_provability_training_data_remote pid=763797)\u001b[0m Build cuda_12.2.r12.2/compiler.32965470_0\n",
      "\u001b[36m(compute_provability_training_data_remote pid=763797)\u001b[0m \n",
      "\u001b[36m(compute_provability_training_data_remote pid=763797)\u001b[0m CUDA: True\n",
      "\u001b[36m(compute_provability_training_data_remote pid=763797)\u001b[0m os.environ['LD_LIBRARY_PATH'] /usr/local/cuda-12.2/lib64:\n",
      "\u001b[36m(compute_provability_training_data_remote pid=763797)\u001b[0m Worker 28 Loading repo...\n",
      "\u001b[36m(compute_provability_training_data_remote pid=763797)\u001b[0m Worker 28 Done.\n",
      "\u001b[36m(compute_provability_training_data_remote pid=763797)\u001b[0m Worker 28 Loading models...\n",
      "\u001b[36m(compute_provability_training_data_remote pid=763797)\u001b[0m cuda:0\n",
      "\u001b[36m(compute_provability_training_data_remote pid=763797)\u001b[0m Worker 28 Loading faiss index ...\n",
      "\u001b[36m(compute_provability_training_data_remote pid=763797)\u001b[0m Worker 28 Computing provability ...\n",
      "\u001b[36m(compute_provability_training_data_remote pid=763797)\u001b[0m Loading Theorem: Ring.inverse_pow theorem Ring.inverse_pow (r : M) : ∀ n : ℕ, Ring.inverse r ^ n = Ring.inverse (r ^ n)\n",
      "\u001b[36m(compute_provability_training_data_remote pid=763797)\u001b[0m Done\n"
     ]
    },
    {
     "name": "stderr",
     "output_type": "stream",
     "text": [
      "\u001b[36m(compute_provability_training_data_remote pid=763797)\u001b[0m 2024-06-05 02:21:04.932 | WARNING  | lean_dojo.interaction.dojo:__init__:162 - Using Lean 4 without a hard timeout may hang indefinitely.\n"
     ]
    },
    {
     "name": "stdout",
     "output_type": "stream",
     "text": [
      "\u001b[36m(compute_provability_training_data_remote pid=763797)\u001b[0m DojoInitError\n",
      "\u001b[36m(compute_provability_training_data_remote pid=763797)\u001b[0m 0 states in total\n",
      "\u001b[36m(compute_provability_training_data_remote pid=763797)\u001b[0m 0 proven states\n",
      "\u001b[36m(compute_provability_training_data_remote pid=763797)\u001b[0m 0 state pairs found in Ring.inverse_pow .lake/packages/mathlib/Mathlib/Algebra/GroupPower/Ring.lean\n",
      "\u001b[36m(compute_provability_training_data_remote pid=763797)\u001b[0m Loading Theorem: pow_dvd_pow_iff theorem pow_dvd_pow_iff [CancelCommMonoidWithZero R] {x : R} {n m : ℕ} (h0 : x ≠ 0)\n",
      "\u001b[36m(compute_provability_training_data_remote pid=763797)\u001b[0m     (h1 : ¬IsUnit x) : x ^ n ∣ x ^ m ↔ n ≤ m\n",
      "\u001b[36m(compute_provability_training_data_remote pid=763797)\u001b[0m Done\n"
     ]
    },
    {
     "name": "stderr",
     "output_type": "stream",
     "text": [
      "\u001b[36m(compute_provability_training_data_remote pid=763797)\u001b[0m 2024-06-05 02:21:14.889 | WARNING  | lean_dojo.interaction.dojo:__init__:162 - Using Lean 4 without a hard timeout may hang indefinitely.\n"
     ]
    },
    {
     "name": "stdout",
     "output_type": "stream",
     "text": [
      "\u001b[36m(compute_provability_training_data_remote pid=763797)\u001b[0m Sucessfully followed proof\n",
      "\u001b[36m(compute_provability_training_data_remote pid=763797)\u001b[0m INIT_STATE: R : Type u_1\n",
      "\u001b[36m(compute_provability_training_data_remote pid=763797)\u001b[0m S : Type u_2\n",
      "\u001b[36m(compute_provability_training_data_remote pid=763797)\u001b[0m M : Type u_3\n",
      "\u001b[36m(compute_provability_training_data_remote pid=763797)\u001b[0m inst✝ : CancelCommMonoidWithZero R\n",
      "\u001b[36m(compute_provability_training_data_remote pid=763797)\u001b[0m x : R\n",
      "\u001b[36m(compute_provability_training_data_remote pid=763797)\u001b[0m n m : ℕ\n",
      "\u001b[36m(compute_provability_training_data_remote pid=763797)\u001b[0m h0 : x ≠ 0\n",
      "\u001b[36m(compute_provability_training_data_remote pid=763797)\u001b[0m h1 : ¬IsUnit x\n",
      "\u001b[36m(compute_provability_training_data_remote pid=763797)\u001b[0m ⊢ x ^ n ∣ x ^ m ↔ n ≤ m\n",
      "\u001b[36m(compute_provability_training_data_remote pid=763797)\u001b[0m {'R': 'type', 'x': 'variable', 'n': 'unknown', 'm': 'unknown', 'h0': 'unknown', 'h1': 'hypothesis'}\n",
      "\u001b[36m(compute_provability_training_data_remote pid=763797)\u001b[0m 10000 steps executed\n",
      "\u001b[36m(compute_provability_training_data_remote pid=763797)\u001b[0m 20000 steps executed\n",
      "\u001b[36m(compute_provability_training_data_remote pid=763797)\u001b[0m 30000 steps executed\n",
      "\u001b[36m(compute_provability_training_data_remote pid=763797)\u001b[0m 40000 steps executed\n",
      "\u001b[36m(compute_provability_training_data_remote pid=763797)\u001b[0m 50000 steps executed\n",
      "\u001b[36m(compute_provability_training_data_remote pid=763797)\u001b[0m 539 states in total\n",
      "\u001b[36m(compute_provability_training_data_remote pid=763797)\u001b[0m 1 proven states\n",
      "\u001b[36m(compute_provability_training_data_remote pid=763797)\u001b[0m 8 state pairs found in pow_dvd_pow_iff .lake/packages/mathlib/Mathlib/Algebra/GroupPower/Ring.lean\n",
      "\u001b[36m(compute_provability_training_data_remote pid=763797)\u001b[0m Loading Theorem: min_pow_dvd_add theorem min_pow_dvd_add {n m : ℕ} {a b c : R} (ha : c ^ n ∣ a) (hb : c ^ m ∣ b) :\n",
      "\u001b[36m(compute_provability_training_data_remote pid=763797)\u001b[0m     c ^ min n m ∣ a + b\n",
      "\u001b[36m(compute_provability_training_data_remote pid=763797)\u001b[0m Done\n"
     ]
    },
    {
     "name": "stderr",
     "output_type": "stream",
     "text": [
      "\u001b[36m(compute_provability_training_data_remote pid=763797)\u001b[0m 2024-06-05 02:24:23.147 | WARNING  | lean_dojo.interaction.dojo:__init__:162 - Using Lean 4 without a hard timeout may hang indefinitely.\n"
     ]
    },
    {
     "name": "stdout",
     "output_type": "stream",
     "text": [
      "\u001b[36m(compute_provability_training_data_remote pid=763797)\u001b[0m Sucessfully followed proof\n",
      "\u001b[36m(compute_provability_training_data_remote pid=763797)\u001b[0m INIT_STATE: R : Type u_1\n",
      "\u001b[36m(compute_provability_training_data_remote pid=763797)\u001b[0m S : Type u_2\n",
      "\u001b[36m(compute_provability_training_data_remote pid=763797)\u001b[0m M : Type u_3\n",
      "\u001b[36m(compute_provability_training_data_remote pid=763797)\u001b[0m inst✝¹ : Semiring R\n",
      "\u001b[36m(compute_provability_training_data_remote pid=763797)\u001b[0m inst✝ : Semiring S\n",
      "\u001b[36m(compute_provability_training_data_remote pid=763797)\u001b[0m n m : ℕ\n",
      "\u001b[36m(compute_provability_training_data_remote pid=763797)\u001b[0m a b c : R\n",
      "\u001b[36m(compute_provability_training_data_remote pid=763797)\u001b[0m ha : c ^ n ∣ a\n",
      "\u001b[36m(compute_provability_training_data_remote pid=763797)\u001b[0m hb : c ^ m ∣ b\n",
      "\u001b[36m(compute_provability_training_data_remote pid=763797)\u001b[0m ⊢ c ^ min n m ∣ a + b\n",
      "\u001b[36m(compute_provability_training_data_remote pid=763797)\u001b[0m {'R': 'type', 'n': 'unknown', 'm': 'unknown', 'a': 'variable', 'b': 'variable', 'c': 'variable', 'ha': 'unknown', 'hb': 'unknown'}\n",
      "\u001b[36m(compute_provability_training_data_remote pid=763797)\u001b[0m 10000 steps executed\n",
      "\u001b[36m(compute_provability_training_data_remote pid=763797)\u001b[0m 20000 steps executed\n",
      "\u001b[36m(compute_provability_training_data_remote pid=763797)\u001b[0m 30000 steps executed\n",
      "\u001b[36m(compute_provability_training_data_remote pid=763797)\u001b[0m 40000 steps executed\n",
      "\u001b[36m(compute_provability_training_data_remote pid=763797)\u001b[0m 50000 steps executed\n",
      "\u001b[36m(compute_provability_training_data_remote pid=763797)\u001b[0m 1941 states in total\n",
      "\u001b[36m(compute_provability_training_data_remote pid=763797)\u001b[0m 1 proven states\n",
      "\u001b[36m(compute_provability_training_data_remote pid=763797)\u001b[0m 10 state pairs found in min_pow_dvd_add .lake/packages/mathlib/Mathlib/Algebra/GroupPower/Ring.lean\n",
      "\u001b[36m(compute_provability_training_data_remote pid=763797)\u001b[0m Loading Theorem: add_sq theorem add_sq (a b : R) : (a + b) ^ 2 = a ^ 2 + 2 * a * b + b ^ 2\n",
      "\u001b[36m(compute_provability_training_data_remote pid=763797)\u001b[0m Done\n"
     ]
    },
    {
     "name": "stderr",
     "output_type": "stream",
     "text": [
      "\u001b[36m(compute_provability_training_data_remote pid=763797)\u001b[0m 2024-06-05 02:27:35.349 | WARNING  | lean_dojo.interaction.dojo:__init__:162 - Using Lean 4 without a hard timeout may hang indefinitely.\n"
     ]
    },
    {
     "name": "stdout",
     "output_type": "stream",
     "text": [
      "\u001b[36m(compute_provability_training_data_remote pid=763797)\u001b[0m Sucessfully followed proof\n",
      "\u001b[36m(compute_provability_training_data_remote pid=763797)\u001b[0m INIT_STATE: R : Type u_1\n",
      "\u001b[36m(compute_provability_training_data_remote pid=763797)\u001b[0m S : Type u_2\n",
      "\u001b[36m(compute_provability_training_data_remote pid=763797)\u001b[0m M : Type u_3\n",
      "\u001b[36m(compute_provability_training_data_remote pid=763797)\u001b[0m inst✝ : CommSemiring R\n",
      "\u001b[36m(compute_provability_training_data_remote pid=763797)\u001b[0m a b : R\n",
      "\u001b[36m(compute_provability_training_data_remote pid=763797)\u001b[0m ⊢ (a + b) ^ 2 = a ^ 2 + 2 * a * b + b ^ 2\n",
      "\u001b[36m(compute_provability_training_data_remote pid=763797)\u001b[0m {'R': 'type', 'a': 'variable', 'b': 'variable'}\n",
      "\u001b[36m(compute_provability_training_data_remote pid=763797)\u001b[0m ProofFinished\n",
      "\u001b[36m(compute_provability_training_data_remote pid=763797)\u001b[0m 10000 steps executed\n",
      "\u001b[36m(compute_provability_training_data_remote pid=763797)\u001b[0m 20000 steps executed\n",
      "\u001b[36m(compute_provability_training_data_remote pid=763797)\u001b[0m 30000 steps executed\n",
      "\u001b[36m(compute_provability_training_data_remote pid=763797)\u001b[0m 40000 steps executed\n",
      "\u001b[36m(compute_provability_training_data_remote pid=763797)\u001b[0m 50000 steps executed\n",
      "\u001b[36m(compute_provability_training_data_remote pid=763797)\u001b[0m 2940 states in total\n",
      "\u001b[36m(compute_provability_training_data_remote pid=763797)\u001b[0m 6 proven states\n",
      "\u001b[36m(compute_provability_training_data_remote pid=763797)\u001b[0m 496 state pairs found in add_sq .lake/packages/mathlib/Mathlib/Algebra/GroupPower/Ring.lean\n",
      "\u001b[36m(compute_provability_training_data_remote pid=763797)\u001b[0m Loading Theorem: add_sq' theorem add_sq' (a b : R) : (a + b) ^ 2 = a ^ 2 + b ^ 2 + 2 * a * b\n",
      "\u001b[36m(compute_provability_training_data_remote pid=763797)\u001b[0m Done\n"
     ]
    },
    {
     "name": "stderr",
     "output_type": "stream",
     "text": [
      "\u001b[36m(compute_provability_training_data_remote pid=763797)\u001b[0m 2024-06-05 02:29:39.102 | WARNING  | lean_dojo.interaction.dojo:__init__:162 - Using Lean 4 without a hard timeout may hang indefinitely.\n"
     ]
    },
    {
     "name": "stdout",
     "output_type": "stream",
     "text": [
      "\u001b[36m(compute_provability_training_data_remote pid=763797)\u001b[0m Sucessfully followed proof\n",
      "\u001b[36m(compute_provability_training_data_remote pid=763797)\u001b[0m INIT_STATE: R : Type u_1\n",
      "\u001b[36m(compute_provability_training_data_remote pid=763797)\u001b[0m S : Type u_2\n",
      "\u001b[36m(compute_provability_training_data_remote pid=763797)\u001b[0m M : Type u_3\n",
      "\u001b[36m(compute_provability_training_data_remote pid=763797)\u001b[0m inst✝ : CommSemiring R\n",
      "\u001b[36m(compute_provability_training_data_remote pid=763797)\u001b[0m a b : R\n",
      "\u001b[36m(compute_provability_training_data_remote pid=763797)\u001b[0m ⊢ (a + b) ^ 2 = a ^ 2 + b ^ 2 + 2 * a * b\n",
      "\u001b[36m(compute_provability_training_data_remote pid=763797)\u001b[0m {'R': 'type', 'a': 'variable', 'b': 'variable'}\n",
      "\u001b[36m(compute_provability_training_data_remote pid=763797)\u001b[0m 10000 steps executed\n",
      "\u001b[36m(compute_provability_training_data_remote pid=763797)\u001b[0m 20000 steps executed\n",
      "\u001b[36m(compute_provability_training_data_remote pid=763797)\u001b[0m 30000 steps executed\n",
      "\u001b[36m(compute_provability_training_data_remote pid=763797)\u001b[0m 40000 steps executed\n",
      "\u001b[36m(compute_provability_training_data_remote pid=763797)\u001b[0m 50000 steps executed\n",
      "\u001b[36m(compute_provability_training_data_remote pid=763797)\u001b[0m 2707 states in total\n",
      "\u001b[36m(compute_provability_training_data_remote pid=763797)\u001b[0m 1 proven states\n",
      "\u001b[36m(compute_provability_training_data_remote pid=763797)\u001b[0m 92 state pairs found in add_sq' .lake/packages/mathlib/Mathlib/Algebra/GroupPower/Ring.lean\n",
      "\u001b[36m(compute_provability_training_data_remote pid=764410)\u001b[0m Worker 43 on .lake/packages/mathlib/Mathlib/Data/Set/Sigma.lean\n",
      "\u001b[36m(compute_provability_training_data_remote pid=764410)\u001b[0m nvcc: NVIDIA (R) Cuda compiler driver\n",
      "\u001b[36m(compute_provability_training_data_remote pid=764410)\u001b[0m Copyright (c) 2005-2023 NVIDIA Corporation\n",
      "\u001b[36m(compute_provability_training_data_remote pid=764410)\u001b[0m Built on Tue_Jun_13_19:16:58_PDT_2023\n",
      "\u001b[36m(compute_provability_training_data_remote pid=764410)\u001b[0m Cuda compilation tools, release 12.2, V12.2.91\n",
      "\u001b[36m(compute_provability_training_data_remote pid=764410)\u001b[0m Build cuda_12.2.r12.2/compiler.32965470_0\n",
      "\u001b[36m(compute_provability_training_data_remote pid=764410)\u001b[0m \n",
      "\u001b[36m(compute_provability_training_data_remote pid=764410)\u001b[0m CUDA: True\n",
      "\u001b[36m(compute_provability_training_data_remote pid=764410)\u001b[0m os.environ['LD_LIBRARY_PATH'] /usr/local/cuda-12.2/lib64:\n",
      "\u001b[36m(compute_provability_training_data_remote pid=764410)\u001b[0m Worker 43 Loading repo...\n",
      "\u001b[36m(compute_provability_training_data_remote pid=764410)\u001b[0m Worker 43 Done.\n",
      "\u001b[36m(compute_provability_training_data_remote pid=764410)\u001b[0m Worker 43 Loading models...\n",
      "\u001b[36m(compute_provability_training_data_remote pid=764410)\u001b[0m cuda:0\n",
      "\u001b[36m(compute_provability_training_data_remote pid=764410)\u001b[0m Worker 43 Loading faiss index ...\n",
      "\u001b[36m(compute_provability_training_data_remote pid=764410)\u001b[0m Worker 43 Computing provability ...\n",
      "\u001b[36m(compute_provability_training_data_remote pid=764410)\u001b[0m Loading Theorem: Set.preimage_image_sigmaMk_of_ne theorem preimage_image_sigmaMk_of_ne (h : i ≠ j) (s : Set (α j)) :\n",
      "\u001b[36m(compute_provability_training_data_remote pid=764410)\u001b[0m     Sigma.mk i ⁻¹' (Sigma.mk j '' s) = ∅\n",
      "\u001b[36m(compute_provability_training_data_remote pid=764410)\u001b[0m Done\n"
     ]
    },
    {
     "name": "stderr",
     "output_type": "stream",
     "text": [
      "\u001b[36m(compute_provability_training_data_remote pid=764410)\u001b[0m 2024-06-05 02:31:58.620 | WARNING  | lean_dojo.interaction.dojo:__init__:162 - Using Lean 4 without a hard timeout may hang indefinitely.\n"
     ]
    },
    {
     "name": "stdout",
     "output_type": "stream",
     "text": [
      "\u001b[36m(compute_provability_training_data_remote pid=764410)\u001b[0m Sucessfully followed proof\n",
      "\u001b[36m(compute_provability_training_data_remote pid=764410)\u001b[0m INIT_STATE: ι : Type u_1\n",
      "\u001b[36m(compute_provability_training_data_remote pid=764410)\u001b[0m ι' : Type u_2\n",
      "\u001b[36m(compute_provability_training_data_remote pid=764410)\u001b[0m α : ι → Type u_3\n",
      "\u001b[36m(compute_provability_training_data_remote pid=764410)\u001b[0m β : ι → Type u_4\n",
      "\u001b[36m(compute_provability_training_data_remote pid=764410)\u001b[0m s✝ s₁ s₂ : Set ι\n",
      "\u001b[36m(compute_provability_training_data_remote pid=764410)\u001b[0m t t₁ t₂ : (i : ι) → Set (α i)\n",
      "\u001b[36m(compute_provability_training_data_remote pid=764410)\u001b[0m u : Set ((i : ι) × α i)\n",
      "\u001b[36m(compute_provability_training_data_remote pid=764410)\u001b[0m x : (i : ι) × α i\n",
      "\u001b[36m(compute_provability_training_data_remote pid=764410)\u001b[0m i j : ι\n",
      "\u001b[36m(compute_provability_training_data_remote pid=764410)\u001b[0m a : α i\n",
      "\u001b[36m(compute_provability_training_data_remote pid=764410)\u001b[0m h : i ≠ j\n",
      "\u001b[36m(compute_provability_training_data_remote pid=764410)\u001b[0m s : Set (α j)\n",
      "\u001b[36m(compute_provability_training_data_remote pid=764410)\u001b[0m ⊢ Sigma.mk i ⁻¹' (Sigma.mk j '' s) = ∅\n",
      "\u001b[36m(compute_provability_training_data_remote pid=764410)\u001b[0m {'α': 'function', 'i': 'variable', 'j': 'variable', 'h': 'unknown', 's': 'set'}\n",
      "\u001b[36m(compute_provability_training_data_remote pid=764410)\u001b[0m ProofFinished\n",
      "\u001b[36m(compute_provability_training_data_remote pid=764410)\u001b[0m 10000 steps executed\n",
      "\u001b[36m(compute_provability_training_data_remote pid=764410)\u001b[0m 20000 steps executed\n",
      "\u001b[36m(compute_provability_training_data_remote pid=764410)\u001b[0m 30000 steps executed\n",
      "\u001b[36m(compute_provability_training_data_remote pid=764410)\u001b[0m 40000 steps executed\n",
      "\u001b[36m(compute_provability_training_data_remote pid=764410)\u001b[0m 50000 steps executed\n",
      "\u001b[36m(compute_provability_training_data_remote pid=764410)\u001b[0m 2319 states in total\n",
      "\u001b[36m(compute_provability_training_data_remote pid=764410)\u001b[0m 199 proven states\n",
      "\u001b[36m(compute_provability_training_data_remote pid=764410)\u001b[0m 4556 state pairs found in Set.preimage_image_sigmaMk_of_ne .lake/packages/mathlib/Mathlib/Data/Set/Sigma.lean\n",
      "\u001b[36m(compute_provability_training_data_remote pid=764410)\u001b[0m Loading Theorem: Set.image_sigmaMk_preimage_sigmaMap theorem image_sigmaMk_preimage_sigmaMap {β : ι' → Type*} {f : ι → ι'} (hf : Function.Injective f)\n",
      "\u001b[36m(compute_provability_training_data_remote pid=764410)\u001b[0m     (g : ∀ i, α i → β (f i)) (i : ι) (s : Set (β (f i))) :\n",
      "\u001b[36m(compute_provability_training_data_remote pid=764410)\u001b[0m     Sigma.mk i '' (g i ⁻¹' s) = Sigma.map f g ⁻¹' (Sigma.mk (f i) '' s)\n",
      "\u001b[36m(compute_provability_training_data_remote pid=764410)\u001b[0m Done\n"
     ]
    },
    {
     "name": "stderr",
     "output_type": "stream",
     "text": [
      "\u001b[36m(compute_provability_training_data_remote pid=764410)\u001b[0m 2024-06-05 02:34:00.188 | WARNING  | lean_dojo.interaction.dojo:__init__:162 - Using Lean 4 without a hard timeout may hang indefinitely.\n"
     ]
    },
    {
     "name": "stdout",
     "output_type": "stream",
     "text": [
      "\u001b[36m(compute_provability_training_data_remote pid=764410)\u001b[0m Sucessfully followed proof\n",
      "\u001b[36m(compute_provability_training_data_remote pid=764410)\u001b[0m INIT_STATE: ι : Type u_1\n",
      "\u001b[36m(compute_provability_training_data_remote pid=764410)\u001b[0m ι' : Type u_2\n",
      "\u001b[36m(compute_provability_training_data_remote pid=764410)\u001b[0m α : ι → Type u_3\n",
      "\u001b[36m(compute_provability_training_data_remote pid=764410)\u001b[0m β✝ : ι → Type u_4\n",
      "\u001b[36m(compute_provability_training_data_remote pid=764410)\u001b[0m s✝ s₁ s₂ : Set ι\n",
      "\u001b[36m(compute_provability_training_data_remote pid=764410)\u001b[0m t t₁ t₂ : (i : ι) → Set (α i)\n",
      "\u001b[36m(compute_provability_training_data_remote pid=764410)\u001b[0m u : Set ((i : ι) × α i)\n",
      "\u001b[36m(compute_provability_training_data_remote pid=764410)\u001b[0m x : (i : ι) × α i\n",
      "\u001b[36m(compute_provability_training_data_remote pid=764410)\u001b[0m i✝ j : ι\n",
      "\u001b[36m(compute_provability_training_data_remote pid=764410)\u001b[0m a : α i✝\n",
      "\u001b[36m(compute_provability_training_data_remote pid=764410)\u001b[0m β : ι' → Type u_5\n",
      "\u001b[36m(compute_provability_training_data_remote pid=764410)\u001b[0m f : ι → ι'\n",
      "\u001b[36m(compute_provability_training_data_remote pid=764410)\u001b[0m hf : Function.Injective f\n",
      "\u001b[36m(compute_provability_training_data_remote pid=764410)\u001b[0m g : (i : ι) → α i → β (f i)\n",
      "\u001b[36m(compute_provability_training_data_remote pid=764410)\u001b[0m i : ι\n",
      "\u001b[36m(compute_provability_training_data_remote pid=764410)\u001b[0m s : Set (β (f i))\n",
      "\u001b[36m(compute_provability_training_data_remote pid=764410)\u001b[0m ⊢ Sigma.mk i '' (g i ⁻¹' s) = Sigma.map f g ⁻¹' (Sigma.mk (f i) '' s)\n",
      "\u001b[36m(compute_provability_training_data_remote pid=764410)\u001b[0m {'ι': 'type', \"ι'\": 'type', 'α': 'function', 'β': 'function', 'f': 'function', 'hf': 'unknown', 'g': 'function', 'i': 'variable', 's': 'set'}\n",
      "\u001b[36m(compute_provability_training_data_remote pid=764410)\u001b[0m 10000 steps executed\n",
      "\u001b[36m(compute_provability_training_data_remote pid=764410)\u001b[0m 20000 steps executed\n",
      "\u001b[36m(compute_provability_training_data_remote pid=764410)\u001b[0m 30000 steps executed\n",
      "\u001b[36m(compute_provability_training_data_remote pid=764410)\u001b[0m 40000 steps executed\n",
      "\u001b[36m(compute_provability_training_data_remote pid=764410)\u001b[0m 50000 steps executed\n",
      "\u001b[36m(compute_provability_training_data_remote pid=764410)\u001b[0m 2179 states in total\n",
      "\u001b[36m(compute_provability_training_data_remote pid=764410)\u001b[0m 1 proven states\n",
      "\u001b[36m(compute_provability_training_data_remote pid=764410)\u001b[0m 20 state pairs found in Set.image_sigmaMk_preimage_sigmaMap .lake/packages/mathlib/Mathlib/Data/Set/Sigma.lean\n",
      "\u001b[36m(compute_provability_training_data_remote pid=764410)\u001b[0m Loading Theorem: Set.singleton_sigma_singleton theorem singleton_sigma_singleton {a : ∀ i, α i} :\n",
      "\u001b[36m(compute_provability_training_data_remote pid=764410)\u001b[0m     (({i} : Set ι).sigma fun i ↦ ({a i} : Set (α i))) = {⟨i, a i⟩}\n",
      "\u001b[36m(compute_provability_training_data_remote pid=764410)\u001b[0m Done\n"
     ]
    },
    {
     "name": "stderr",
     "output_type": "stream",
     "text": [
      "\u001b[36m(compute_provability_training_data_remote pid=764410)\u001b[0m 2024-06-05 02:37:13.919 | WARNING  | lean_dojo.interaction.dojo:__init__:162 - Using Lean 4 without a hard timeout may hang indefinitely.\n"
     ]
    },
    {
     "name": "stdout",
     "output_type": "stream",
     "text": [
      "\u001b[36m(compute_provability_training_data_remote pid=764410)\u001b[0m Sucessfully followed proof\n",
      "\u001b[36m(compute_provability_training_data_remote pid=764410)\u001b[0m INIT_STATE: ι : Type u_1\n",
      "\u001b[36m(compute_provability_training_data_remote pid=764410)\u001b[0m ι' : Type u_2\n",
      "\u001b[36m(compute_provability_training_data_remote pid=764410)\u001b[0m α : ι → Type u_3\n",
      "\u001b[36m(compute_provability_training_data_remote pid=764410)\u001b[0m β : ι → Type u_4\n",
      "\u001b[36m(compute_provability_training_data_remote pid=764410)\u001b[0m s s₁ s₂ : Set ι\n",
      "\u001b[36m(compute_provability_training_data_remote pid=764410)\u001b[0m t t₁ t₂ : (i : ι) → Set (α i)\n",
      "\u001b[36m(compute_provability_training_data_remote pid=764410)\u001b[0m u : Set ((i : ι) × α i)\n",
      "\u001b[36m(compute_provability_training_data_remote pid=764410)\u001b[0m x : (i : ι) × α i\n",
      "\u001b[36m(compute_provability_training_data_remote pid=764410)\u001b[0m i j : ι\n",
      "\u001b[36m(compute_provability_training_data_remote pid=764410)\u001b[0m a✝ : α i\n",
      "\u001b[36m(compute_provability_training_data_remote pid=764410)\u001b[0m a : (i : ι) → α i\n",
      "\u001b[36m(compute_provability_training_data_remote pid=764410)\u001b[0m ⊢ (Set.sigma {i} fun i => {a i}) = {{ fst := i, snd := a i }}\n",
      "\u001b[36m(compute_provability_training_data_remote pid=764410)\u001b[0m {'ι': 'type', 'α': 'function', 'i': 'function', 'a': 'function', 'fun': 'function', '=': 'function'}\n",
      "\u001b[36m(compute_provability_training_data_remote pid=764410)\u001b[0m ProofFinished\n",
      "\u001b[36m(compute_provability_training_data_remote pid=764410)\u001b[0m ProofFinished\n",
      "\u001b[36m(compute_provability_training_data_remote pid=764410)\u001b[0m ProofFinished\n",
      "\u001b[36m(compute_provability_training_data_remote pid=764410)\u001b[0m ProofFinished\n",
      "\u001b[36m(compute_provability_training_data_remote pid=764410)\u001b[0m ProofFinished\n",
      "\u001b[36m(compute_provability_training_data_remote pid=764410)\u001b[0m ProofFinished\n",
      "\u001b[36m(compute_provability_training_data_remote pid=764410)\u001b[0m ProofFinished\n",
      "\u001b[36m(compute_provability_training_data_remote pid=764410)\u001b[0m ProofFinished\n",
      "\u001b[36m(compute_provability_training_data_remote pid=764410)\u001b[0m 10000 steps executed\n",
      "\u001b[36m(compute_provability_training_data_remote pid=764410)\u001b[0m 20000 steps executed\n",
      "\u001b[36m(compute_provability_training_data_remote pid=764410)\u001b[0m 2142 states in total\n",
      "\u001b[36m(compute_provability_training_data_remote pid=764410)\u001b[0m 600 proven states\n",
      "\u001b[36m(compute_provability_training_data_remote pid=764410)\u001b[0m 7482 state pairs found in Set.singleton_sigma_singleton .lake/packages/mathlib/Mathlib/Data/Set/Sigma.lean\n",
      "\u001b[36m(compute_provability_training_data_remote pid=764410)\u001b[0m Loading Theorem: Set.sigma_inter_sigma theorem sigma_inter_sigma : s₁.sigma t₁ ∩ s₂.sigma t₂ = (s₁ ∩ s₂).sigma fun i ↦ t₁ i ∩ t₂ i\n",
      "\u001b[36m(compute_provability_training_data_remote pid=764410)\u001b[0m Done\n"
     ]
    },
    {
     "name": "stderr",
     "output_type": "stream",
     "text": [
      "\u001b[36m(compute_provability_training_data_remote pid=764410)\u001b[0m 2024-06-05 02:39:04.854 | WARNING  | lean_dojo.interaction.dojo:__init__:162 - Using Lean 4 without a hard timeout may hang indefinitely.\n"
     ]
    },
    {
     "name": "stdout",
     "output_type": "stream",
     "text": [
      "\u001b[36m(compute_provability_training_data_remote pid=764410)\u001b[0m Sucessfully followed proof\n",
      "\u001b[36m(compute_provability_training_data_remote pid=764410)\u001b[0m INIT_STATE: ι : Type u_1\n",
      "\u001b[36m(compute_provability_training_data_remote pid=764410)\u001b[0m ι' : Type u_2\n",
      "\u001b[36m(compute_provability_training_data_remote pid=764410)\u001b[0m α : ι → Type u_3\n",
      "\u001b[36m(compute_provability_training_data_remote pid=764410)\u001b[0m β : ι → Type u_4\n",
      "\u001b[36m(compute_provability_training_data_remote pid=764410)\u001b[0m s s₁ s₂ : Set ι\n",
      "\u001b[36m(compute_provability_training_data_remote pid=764410)\u001b[0m t t₁ t₂ : (i : ι) → Set (α i)\n",
      "\u001b[36m(compute_provability_training_data_remote pid=764410)\u001b[0m u : Set ((i : ι) × α i)\n",
      "\u001b[36m(compute_provability_training_data_remote pid=764410)\u001b[0m x : (i : ι) × α i\n",
      "\u001b[36m(compute_provability_training_data_remote pid=764410)\u001b[0m i j : ι\n",
      "\u001b[36m(compute_provability_training_data_remote pid=764410)\u001b[0m a : α i\n",
      "\u001b[36m(compute_provability_training_data_remote pid=764410)\u001b[0m ⊢ Set.sigma s₁ t₁ ∩ Set.sigma s₂ t₂ = Set.sigma (s₁ ∩ s₂) fun i => t₁ i ∩ t₂ i\n",
      "\u001b[36m(compute_provability_training_data_remote pid=764410)\u001b[0m {'s₁': 'set', 's₂': 'set', 't₁': 'function', 't₂': 'function', 'i': 'variable'}\n",
      "\u001b[36m(compute_provability_training_data_remote pid=764410)\u001b[0m 8 states in total\n",
      "\u001b[36m(compute_provability_training_data_remote pid=764410)\u001b[0m 1 proven states\n",
      "\u001b[36m(compute_provability_training_data_remote pid=764410)\u001b[0m 4 state pairs found in Set.sigma_inter_sigma .lake/packages/mathlib/Mathlib/Data/Set/Sigma.lean\n",
      "\u001b[36m(compute_provability_training_data_remote pid=764410)\u001b[0m Loading Theorem: Set.insert_sigma theorem insert_sigma : (insert i s).sigma t = Sigma.mk i '' t i ∪ s.sigma t\n",
      "\u001b[36m(compute_provability_training_data_remote pid=764410)\u001b[0m Done\n"
     ]
    },
    {
     "name": "stderr",
     "output_type": "stream",
     "text": [
      "\u001b[36m(compute_provability_training_data_remote pid=764410)\u001b[0m 2024-06-05 02:39:20.164 | WARNING  | lean_dojo.interaction.dojo:__init__:162 - Using Lean 4 without a hard timeout may hang indefinitely.\n"
     ]
    },
    {
     "name": "stdout",
     "output_type": "stream",
     "text": [
      "\u001b[36m(compute_provability_training_data_remote pid=764410)\u001b[0m Sucessfully followed proof\n",
      "\u001b[36m(compute_provability_training_data_remote pid=764410)\u001b[0m INIT_STATE: ι : Type u_1\n",
      "\u001b[36m(compute_provability_training_data_remote pid=764410)\u001b[0m ι' : Type u_2\n",
      "\u001b[36m(compute_provability_training_data_remote pid=764410)\u001b[0m α : ι → Type u_3\n",
      "\u001b[36m(compute_provability_training_data_remote pid=764410)\u001b[0m β : ι → Type u_4\n",
      "\u001b[36m(compute_provability_training_data_remote pid=764410)\u001b[0m s s₁ s₂ : Set ι\n",
      "\u001b[36m(compute_provability_training_data_remote pid=764410)\u001b[0m t t₁ t₂ : (i : ι) → Set (α i)\n",
      "\u001b[36m(compute_provability_training_data_remote pid=764410)\u001b[0m u : Set ((i : ι) × α i)\n",
      "\u001b[36m(compute_provability_training_data_remote pid=764410)\u001b[0m x : (i : ι) × α i\n",
      "\u001b[36m(compute_provability_training_data_remote pid=764410)\u001b[0m i j : ι\n",
      "\u001b[36m(compute_provability_training_data_remote pid=764410)\u001b[0m a : α i\n",
      "\u001b[36m(compute_provability_training_data_remote pid=764410)\u001b[0m ⊢ Set.sigma (insert i s) t = Sigma.mk i '' t i ∪ Set.sigma s t\n",
      "\u001b[36m(compute_provability_training_data_remote pid=764410)\u001b[0m {'s': 'set', 't': 'function', 'i': 'variable'}\n",
      "\u001b[36m(compute_provability_training_data_remote pid=764410)\u001b[0m ProofFinished\n",
      "\u001b[36m(compute_provability_training_data_remote pid=764410)\u001b[0m 325 states in total\n",
      "\u001b[36m(compute_provability_training_data_remote pid=764410)\u001b[0m 27 proven states\n",
      "\u001b[36m(compute_provability_training_data_remote pid=764410)\u001b[0m 577 state pairs found in Set.insert_sigma .lake/packages/mathlib/Mathlib/Data/Set/Sigma.lean\n",
      "\u001b[36m(compute_provability_training_data_remote pid=765014)\u001b[0m Worker 16 on .lake/packages/mathlib/Mathlib/Data/Set/Defs.lean\n",
      "\u001b[36m(compute_provability_training_data_remote pid=765014)\u001b[0m nvcc: NVIDIA (R) Cuda compiler driver\n",
      "\u001b[36m(compute_provability_training_data_remote pid=765014)\u001b[0m Copyright (c) 2005-2023 NVIDIA Corporation\n",
      "\u001b[36m(compute_provability_training_data_remote pid=765014)\u001b[0m Built on Tue_Jun_13_19:16:58_PDT_2023\n",
      "\u001b[36m(compute_provability_training_data_remote pid=765014)\u001b[0m Cuda compilation tools, release 12.2, V12.2.91\n",
      "\u001b[36m(compute_provability_training_data_remote pid=765014)\u001b[0m Build cuda_12.2.r12.2/compiler.32965470_0\n",
      "\u001b[36m(compute_provability_training_data_remote pid=765014)\u001b[0m \n",
      "\u001b[36m(compute_provability_training_data_remote pid=765014)\u001b[0m CUDA: True\n",
      "\u001b[36m(compute_provability_training_data_remote pid=765014)\u001b[0m os.environ['LD_LIBRARY_PATH'] /usr/local/cuda-12.2/lib64:\n",
      "\u001b[36m(compute_provability_training_data_remote pid=765014)\u001b[0m Worker 16 Loading repo...\n",
      "\u001b[36m(compute_provability_training_data_remote pid=765014)\u001b[0m Worker 16 Done.\n",
      "\u001b[36m(compute_provability_training_data_remote pid=765014)\u001b[0m Worker 16 Loading models...\n",
      "\u001b[36m(compute_provability_training_data_remote pid=765014)\u001b[0m cuda:0\n",
      "\u001b[36m(compute_provability_training_data_remote pid=765014)\u001b[0m Worker 16 Loading faiss index ...\n",
      "\u001b[36m(compute_provability_training_data_remote pid=765014)\u001b[0m Worker 16 Computing provability ...\n",
      "\u001b[36m(compute_provability_training_data_remote pid=765014)\u001b[0m Loading Theorem: Set.mem_univ_pi theorem mem_univ_pi : f ∈ pi univ t ↔ ∀ i, f i ∈ t i\n",
      "\u001b[36m(compute_provability_training_data_remote pid=765014)\u001b[0m Done\n"
     ]
    },
    {
     "name": "stderr",
     "output_type": "stream",
     "text": [
      "\u001b[36m(compute_provability_training_data_remote pid=765014)\u001b[0m 2024-06-05 02:40:26.746 | WARNING  | lean_dojo.interaction.dojo:__init__:162 - Using Lean 4 without a hard timeout may hang indefinitely.\n"
     ]
    },
    {
     "name": "stdout",
     "output_type": "stream",
     "text": [
      "\u001b[36m(compute_provability_training_data_remote pid=765014)\u001b[0m Sucessfully followed proof\n",
      "\u001b[36m(compute_provability_training_data_remote pid=765014)\u001b[0m INIT_STATE: α✝ : Type u\n",
      "\u001b[36m(compute_provability_training_data_remote pid=765014)\u001b[0m β : Type v\n",
      "\u001b[36m(compute_provability_training_data_remote pid=765014)\u001b[0m γ : Type w\n",
      "\u001b[36m(compute_provability_training_data_remote pid=765014)\u001b[0m ι : Type u_1\n",
      "\u001b[36m(compute_provability_training_data_remote pid=765014)\u001b[0m α : ι → Type u_2\n",
      "\u001b[36m(compute_provability_training_data_remote pid=765014)\u001b[0m s : Set ι\n",
      "\u001b[36m(compute_provability_training_data_remote pid=765014)\u001b[0m t : (i : ι) → Set (α i)\n",
      "\u001b[36m(compute_provability_training_data_remote pid=765014)\u001b[0m f : (i : ι) → α i\n",
      "\u001b[36m(compute_provability_training_data_remote pid=765014)\u001b[0m ⊢ f ∈ pi univ t ↔ ∀ (i : ι), f i ∈ t i\n",
      "\u001b[36m(compute_provability_training_data_remote pid=765014)\u001b[0m {'t': 'hypothesis', 'f': 'hypothesis', '∈': 'hypothesis', 'pi': 'hypothesis', 'univ': 'hypothesis', '↔': 'hypothesis', '∀': 'hypothesis'}\n",
      "\u001b[36m(compute_provability_training_data_remote pid=765014)\u001b[0m ProofFinished\n",
      "\u001b[36m(compute_provability_training_data_remote pid=765014)\u001b[0m ProofFinished\n",
      "\u001b[36m(compute_provability_training_data_remote pid=765014)\u001b[0m ProofFinished\n",
      "\u001b[36m(compute_provability_training_data_remote pid=765014)\u001b[0m ProofFinished\n",
      "\u001b[36m(compute_provability_training_data_remote pid=765014)\u001b[0m ProofFinished\n",
      "\u001b[36m(compute_provability_training_data_remote pid=765014)\u001b[0m ProofFinished\n",
      "\u001b[36m(compute_provability_training_data_remote pid=765014)\u001b[0m ProofFinished\n",
      "\u001b[36m(compute_provability_training_data_remote pid=765014)\u001b[0m ProofFinished\n",
      "\u001b[36m(compute_provability_training_data_remote pid=765014)\u001b[0m ProofFinished\n",
      "\u001b[36m(compute_provability_training_data_remote pid=765014)\u001b[0m ProofFinished\n",
      "\u001b[36m(compute_provability_training_data_remote pid=765014)\u001b[0m ProofFinished\n",
      "\u001b[36m(compute_provability_training_data_remote pid=765014)\u001b[0m ProofFinished\n",
      "\u001b[36m(compute_provability_training_data_remote pid=765014)\u001b[0m ProofFinished\n",
      "\u001b[36m(compute_provability_training_data_remote pid=765014)\u001b[0m ProofFinished\n",
      "\u001b[36m(compute_provability_training_data_remote pid=765014)\u001b[0m ProofFinished\n",
      "\u001b[36m(compute_provability_training_data_remote pid=765014)\u001b[0m 10000 steps executed\n",
      "\u001b[36m(compute_provability_training_data_remote pid=765014)\u001b[0m 20000 steps executed\n",
      "\u001b[36m(compute_provability_training_data_remote pid=765014)\u001b[0m 30000 steps executed\n",
      "\u001b[36m(compute_provability_training_data_remote pid=765014)\u001b[0m 40000 steps executed\n",
      "\u001b[36m(compute_provability_training_data_remote pid=765014)\u001b[0m 50000 steps executed\n",
      "\u001b[36m(compute_provability_training_data_remote pid=765014)\u001b[0m 1871 states in total\n",
      "\u001b[36m(compute_provability_training_data_remote pid=765014)\u001b[0m 523 proven states\n",
      "\u001b[36m(compute_provability_training_data_remote pid=765014)\u001b[0m 7841 state pairs found in Set.mem_univ_pi .lake/packages/mathlib/Mathlib/Data/Set/Defs.lean\n",
      "\u001b[36m(compute_provability_training_data_remote pid=765191)\u001b[0m Worker 53 on .lake/packages/mathlib/Mathlib/Data/Finset/Sort.lean\n",
      "\u001b[36m(compute_provability_training_data_remote pid=765191)\u001b[0m nvcc: NVIDIA (R) Cuda compiler driver\n",
      "\u001b[36m(compute_provability_training_data_remote pid=765191)\u001b[0m Copyright (c) 2005-2023 NVIDIA Corporation\n",
      "\u001b[36m(compute_provability_training_data_remote pid=765191)\u001b[0m Built on Tue_Jun_13_19:16:58_PDT_2023\n",
      "\u001b[36m(compute_provability_training_data_remote pid=765191)\u001b[0m Cuda compilation tools, release 12.2, V12.2.91\n",
      "\u001b[36m(compute_provability_training_data_remote pid=765191)\u001b[0m Build cuda_12.2.r12.2/compiler.32965470_0\n",
      "\u001b[36m(compute_provability_training_data_remote pid=765191)\u001b[0m \n",
      "\u001b[36m(compute_provability_training_data_remote pid=765191)\u001b[0m CUDA: True\n",
      "\u001b[36m(compute_provability_training_data_remote pid=765191)\u001b[0m os.environ['LD_LIBRARY_PATH'] /usr/local/cuda-12.2/lib64:\n",
      "\u001b[36m(compute_provability_training_data_remote pid=765191)\u001b[0m Worker 53 Loading repo...\n",
      "\u001b[36m(compute_provability_training_data_remote pid=765191)\u001b[0m Worker 53 Done.\n",
      "\u001b[36m(compute_provability_training_data_remote pid=765191)\u001b[0m Worker 53 Loading models...\n",
      "\u001b[36m(compute_provability_training_data_remote pid=765191)\u001b[0m cuda:0\n",
      "\u001b[36m(compute_provability_training_data_remote pid=765191)\u001b[0m Worker 53 Loading faiss index ...\n",
      "\u001b[36m(compute_provability_training_data_remote pid=765191)\u001b[0m Worker 53 Computing provability ...\n",
      "\u001b[36m(compute_provability_training_data_remote pid=765191)\u001b[0m Loading Theorem: Finset.sort_perm_toList theorem sort_perm_toList (s : Finset α) : sort r s ~ s.toList\n",
      "\u001b[36m(compute_provability_training_data_remote pid=765191)\u001b[0m Done\n"
     ]
    },
    {
     "name": "stderr",
     "output_type": "stream",
     "text": [
      "\u001b[36m(compute_provability_training_data_remote pid=765191)\u001b[0m 2024-06-05 02:42:04.410 | WARNING  | lean_dojo.interaction.dojo:__init__:162 - Using Lean 4 without a hard timeout may hang indefinitely.\n"
     ]
    },
    {
     "name": "stdout",
     "output_type": "stream",
     "text": [
      "\u001b[36m(compute_provability_training_data_remote pid=765191)\u001b[0m Sucessfully followed proof\n",
      "\u001b[36m(compute_provability_training_data_remote pid=765191)\u001b[0m INIT_STATE: α : Type u_1\n",
      "\u001b[36m(compute_provability_training_data_remote pid=765191)\u001b[0m β : Type u_2\n",
      "\u001b[36m(compute_provability_training_data_remote pid=765191)\u001b[0m r : α → α → Prop\n",
      "\u001b[36m(compute_provability_training_data_remote pid=765191)\u001b[0m inst✝³ : DecidableRel r\n",
      "\u001b[36m(compute_provability_training_data_remote pid=765191)\u001b[0m inst✝² : IsTrans α r\n",
      "\u001b[36m(compute_provability_training_data_remote pid=765191)\u001b[0m inst✝¹ : IsAntisymm α r\n",
      "\u001b[36m(compute_provability_training_data_remote pid=765191)\u001b[0m inst✝ : IsTotal α r\n",
      "\u001b[36m(compute_provability_training_data_remote pid=765191)\u001b[0m s : Finset α\n",
      "\u001b[36m(compute_provability_training_data_remote pid=765191)\u001b[0m ⊢ sort r s ~ toList s\n",
      "\u001b[36m(compute_provability_training_data_remote pid=765191)\u001b[0m {'α': 'type', 'r': 'function', 's': 'unknown'}\n",
      "\u001b[36m(compute_provability_training_data_remote pid=765191)\u001b[0m ProofFinished\n",
      "\u001b[36m(compute_provability_training_data_remote pid=765191)\u001b[0m ProofFinished\n",
      "\u001b[36m(compute_provability_training_data_remote pid=765191)\u001b[0m ProofFinished\n",
      "\u001b[36m(compute_provability_training_data_remote pid=765191)\u001b[0m ProofFinished\n",
      "\u001b[36m(compute_provability_training_data_remote pid=765191)\u001b[0m ProofFinished\n",
      "\u001b[36m(compute_provability_training_data_remote pid=765191)\u001b[0m ProofFinished\n",
      "\u001b[36m(compute_provability_training_data_remote pid=765191)\u001b[0m ProofFinished\n",
      "\u001b[36m(compute_provability_training_data_remote pid=765191)\u001b[0m 10000 steps executed\n",
      "\u001b[36m(compute_provability_training_data_remote pid=765191)\u001b[0m 20000 steps executed\n",
      "\u001b[36m(compute_provability_training_data_remote pid=765191)\u001b[0m 30000 steps executed\n",
      "\u001b[36m(compute_provability_training_data_remote pid=765191)\u001b[0m 40000 steps executed\n",
      "\u001b[36m(compute_provability_training_data_remote pid=765191)\u001b[0m 50000 steps executed\n",
      "\u001b[36m(compute_provability_training_data_remote pid=765191)\u001b[0m 1323 states in total\n",
      "\u001b[36m(compute_provability_training_data_remote pid=765191)\u001b[0m 65 proven states\n",
      "\u001b[36m(compute_provability_training_data_remote pid=765191)\u001b[0m 1678 state pairs found in Finset.sort_perm_toList .lake/packages/mathlib/Mathlib/Data/Finset/Sort.lean\n",
      "\u001b[36m(compute_provability_training_data_remote pid=765191)\u001b[0m Loading Theorem: Finset.sorted_zero_eq_min'_aux theorem sorted_zero_eq_min'_aux (s : Finset α) (h : 0 < (s.sort (· ≤ ·)).length) (H : s.Nonempty) :\n",
      "\u001b[36m(compute_provability_training_data_remote pid=765191)\u001b[0m     (s.sort (· ≤ ·)).nthLe 0 h = s.min' H\n",
      "\u001b[36m(compute_provability_training_data_remote pid=765191)\u001b[0m Done\n"
     ]
    },
    {
     "name": "stderr",
     "output_type": "stream",
     "text": [
      "\u001b[36m(compute_provability_training_data_remote pid=765191)\u001b[0m 2024-06-05 02:47:29.355 | WARNING  | lean_dojo.interaction.dojo:__init__:162 - Using Lean 4 without a hard timeout may hang indefinitely.\n"
     ]
    },
    {
     "name": "stdout",
     "output_type": "stream",
     "text": [
      "\u001b[36m(compute_provability_training_data_remote pid=765191)\u001b[0m Sucessfully followed proof\n",
      "\u001b[36m(compute_provability_training_data_remote pid=765191)\u001b[0m INIT_STATE: α : Type u_1\n",
      "\u001b[36m(compute_provability_training_data_remote pid=765191)\u001b[0m β : Type u_2\n",
      "\u001b[36m(compute_provability_training_data_remote pid=765191)\u001b[0m inst✝ : LinearOrder α\n",
      "\u001b[36m(compute_provability_training_data_remote pid=765191)\u001b[0m s : Finset α\n",
      "\u001b[36m(compute_provability_training_data_remote pid=765191)\u001b[0m h : 0 < List.length (sort (fun x x_1 => x ≤ x_1) s)\n",
      "\u001b[36m(compute_provability_training_data_remote pid=765191)\u001b[0m H : s.Nonempty\n",
      "\u001b[36m(compute_provability_training_data_remote pid=765191)\u001b[0m ⊢ List.nthLe (sort (fun x x_1 => x ≤ x_1) s) 0 h = min' s H\n",
      "\u001b[36m(compute_provability_training_data_remote pid=765191)\u001b[0m {'α': 'type', 's': 'unknown', 'h': 'function', 'H': 'unknown'}\n",
      "\u001b[36m(compute_provability_training_data_remote pid=765191)\u001b[0m 10000 steps executed\n",
      "\u001b[36m(compute_provability_training_data_remote pid=765191)\u001b[0m 20000 steps executed\n",
      "\u001b[36m(compute_provability_training_data_remote pid=765191)\u001b[0m 30000 steps executed\n",
      "\u001b[36m(compute_provability_training_data_remote pid=765191)\u001b[0m 40000 steps executed\n",
      "\u001b[36m(compute_provability_training_data_remote pid=765191)\u001b[0m 50000 steps executed\n",
      "\u001b[36m(compute_provability_training_data_remote pid=765191)\u001b[0m 1228 states in total\n",
      "\u001b[36m(compute_provability_training_data_remote pid=765191)\u001b[0m 1 proven states\n",
      "\u001b[36m(compute_provability_training_data_remote pid=765191)\u001b[0m 10 state pairs found in Finset.sorted_zero_eq_min'_aux .lake/packages/mathlib/Mathlib/Data/Finset/Sort.lean\n",
      "\u001b[36m(compute_provability_training_data_remote pid=765191)\u001b[0m Loading Theorem: Finset.sorted_zero_eq_min' theorem sorted_zero_eq_min' {s : Finset α} {h : 0 < (s.sort (· ≤ ·)).length} :\n",
      "\u001b[36m(compute_provability_training_data_remote pid=765191)\u001b[0m     (s.sort (· ≤ ·)).nthLe 0 h = s.min' (card_pos.1 <| by rwa [length_sort] at h)\n",
      "\u001b[36m(compute_provability_training_data_remote pid=765191)\u001b[0m Done\n"
     ]
    },
    {
     "name": "stderr",
     "output_type": "stream",
     "text": [
      "\u001b[36m(compute_provability_training_data_remote pid=765191)\u001b[0m 2024-06-05 02:50:42.226 | WARNING  | lean_dojo.interaction.dojo:__init__:162 - Using Lean 4 without a hard timeout may hang indefinitely.\n"
     ]
    },
    {
     "name": "stdout",
     "output_type": "stream",
     "text": [
      "\u001b[36m(compute_provability_training_data_remote pid=765191)\u001b[0m INIT_STATE: α : Type u_1\n",
      "\u001b[36m(compute_provability_training_data_remote pid=765191)\u001b[0m β : Type u_2\n",
      "\u001b[36m(compute_provability_training_data_remote pid=765191)\u001b[0m inst✝ : LinearOrder α\n",
      "\u001b[36m(compute_provability_training_data_remote pid=765191)\u001b[0m s : Finset α\n",
      "\u001b[36m(compute_provability_training_data_remote pid=765191)\u001b[0m h : 0 < List.length (sort (fun x x_1 => x ≤ x_1) s)\n",
      "\u001b[36m(compute_provability_training_data_remote pid=765191)\u001b[0m ⊢ List.nthLe (sort (fun x x_1 => x ≤ x_1) s) 0 h = min' s (_ : s.Nonempty)\n",
      "\u001b[36m(compute_provability_training_data_remote pid=765191)\u001b[0m {'α': 'type', 's': 'unknown', 'h': 'unknown', '≤': 'unknown', '0': 'unknown', '=': 'unknown', \"min'\": 'unknown'}\n",
      "\u001b[36m(compute_provability_training_data_remote pid=765191)\u001b[0m 10000 steps executed\n",
      "\u001b[36m(compute_provability_training_data_remote pid=765191)\u001b[0m 20000 steps executed\n",
      "\u001b[36m(compute_provability_training_data_remote pid=765191)\u001b[0m 30000 steps executed\n",
      "\u001b[36m(compute_provability_training_data_remote pid=765191)\u001b[0m 40000 steps executed\n",
      "\u001b[36m(compute_provability_training_data_remote pid=765191)\u001b[0m 50000 steps executed\n",
      "\u001b[36m(compute_provability_training_data_remote pid=765191)\u001b[0m 837 states in total\n",
      "\u001b[36m(compute_provability_training_data_remote pid=765191)\u001b[0m 0 proven states\n",
      "\u001b[36m(compute_provability_training_data_remote pid=765191)\u001b[0m 0 state pairs found in Finset.sorted_zero_eq_min' .lake/packages/mathlib/Mathlib/Data/Finset/Sort.lean\n",
      "\u001b[36m(compute_provability_training_data_remote pid=765191)\u001b[0m Loading Theorem: Finset.min'_eq_sorted_zero theorem min'_eq_sorted_zero {s : Finset α} {h : s.Nonempty} :\n",
      "\u001b[36m(compute_provability_training_data_remote pid=765191)\u001b[0m     s.min' h = (s.sort (· ≤ ·)).nthLe 0 (by rw [length_sort]; exact card_pos.2 h)\n",
      "\u001b[36m(compute_provability_training_data_remote pid=765191)\u001b[0m Done\n"
     ]
    },
    {
     "name": "stderr",
     "output_type": "stream",
     "text": [
      "\u001b[36m(compute_provability_training_data_remote pid=765191)\u001b[0m 2024-06-05 02:52:53.717 | WARNING  | lean_dojo.interaction.dojo:__init__:162 - Using Lean 4 without a hard timeout may hang indefinitely.\n"
     ]
    },
    {
     "name": "stdout",
     "output_type": "stream",
     "text": [
      "\u001b[36m(compute_provability_training_data_remote pid=765191)\u001b[0m INIT_STATE: α : Type u_1\n",
      "\u001b[36m(compute_provability_training_data_remote pid=765191)\u001b[0m β : Type u_2\n",
      "\u001b[36m(compute_provability_training_data_remote pid=765191)\u001b[0m inst✝ : LinearOrder α\n",
      "\u001b[36m(compute_provability_training_data_remote pid=765191)\u001b[0m s : Finset α\n",
      "\u001b[36m(compute_provability_training_data_remote pid=765191)\u001b[0m h : s.Nonempty\n",
      "\u001b[36m(compute_provability_training_data_remote pid=765191)\u001b[0m ⊢ min' s h = List.nthLe (sort (fun x x_1 => x ≤ x_1) s) 0 (_ : 0 < List.length (sort (fun x x_1 => x ≤ x_1) s))\n",
      "\u001b[36m(compute_provability_training_data_remote pid=765191)\u001b[0m {'α': 'type', 's': 'function', 'h': 'function', \"min'\": 'function', '=': 'function', '≤': 'function', '0': 'function'}\n",
      "\u001b[36m(compute_provability_training_data_remote pid=765191)\u001b[0m ProofFinished\n",
      "\u001b[36m(compute_provability_training_data_remote pid=765191)\u001b[0m 10000 steps executed\n",
      "\u001b[36m(compute_provability_training_data_remote pid=765191)\u001b[0m 20000 steps executed\n",
      "\u001b[36m(compute_provability_training_data_remote pid=765191)\u001b[0m 30000 steps executed\n",
      "\u001b[36m(compute_provability_training_data_remote pid=765191)\u001b[0m 40000 steps executed\n",
      "\u001b[36m(compute_provability_training_data_remote pid=765191)\u001b[0m 50000 steps executed\n",
      "\u001b[36m(compute_provability_training_data_remote pid=765191)\u001b[0m 1415 states in total\n",
      "\u001b[36m(compute_provability_training_data_remote pid=765191)\u001b[0m 188 proven states\n",
      "\u001b[36m(compute_provability_training_data_remote pid=765191)\u001b[0m 2481 state pairs found in Finset.min'_eq_sorted_zero .lake/packages/mathlib/Mathlib/Data/Finset/Sort.lean\n",
      "\u001b[36m(compute_provability_training_data_remote pid=765191)\u001b[0m Loading Theorem: Finset.sorted_last_eq_max'_aux theorem sorted_last_eq_max'_aux (s : Finset α)\n",
      "\u001b[36m(compute_provability_training_data_remote pid=765191)\u001b[0m     (h : (s.sort (· ≤ ·)).length - 1 < (s.sort (· ≤ ·)).length) (H : s.Nonempty) :\n",
      "\u001b[36m(compute_provability_training_data_remote pid=765191)\u001b[0m     (s.sort (· ≤ ·)).nthLe ((s.sort (· ≤ ·)).length - 1) h = s.max' H\n",
      "\u001b[36m(compute_provability_training_data_remote pid=765191)\u001b[0m Done\n"
     ]
    },
    {
     "name": "stderr",
     "output_type": "stream",
     "text": [
      "\u001b[36m(compute_provability_training_data_remote pid=765191)\u001b[0m 2024-06-05 02:55:16.045 | WARNING  | lean_dojo.interaction.dojo:__init__:162 - Using Lean 4 without a hard timeout may hang indefinitely.\n"
     ]
    },
    {
     "name": "stdout",
     "output_type": "stream",
     "text": [
      "\u001b[36m(compute_provability_training_data_remote pid=765191)\u001b[0m Sucessfully followed proof\n",
      "\u001b[36m(compute_provability_training_data_remote pid=765191)\u001b[0m INIT_STATE: α : Type u_1\n",
      "\u001b[36m(compute_provability_training_data_remote pid=765191)\u001b[0m β : Type u_2\n",
      "\u001b[36m(compute_provability_training_data_remote pid=765191)\u001b[0m inst✝ : LinearOrder α\n",
      "\u001b[36m(compute_provability_training_data_remote pid=765191)\u001b[0m s : Finset α\n",
      "\u001b[36m(compute_provability_training_data_remote pid=765191)\u001b[0m h : List.length (sort (fun x x_1 => x ≤ x_1) s) - 1 < List.length (sort (fun x x_1 => x ≤ x_1) s)\n",
      "\u001b[36m(compute_provability_training_data_remote pid=765191)\u001b[0m H : s.Nonempty\n",
      "\u001b[36m(compute_provability_training_data_remote pid=765191)\u001b[0m ⊢ List.nthLe (sort (fun x x_1 => x ≤ x_1) s) (List.length (sort (fun x x_1 => x ≤ x_1) s) - 1) h = max' s H\n",
      "\u001b[36m(compute_provability_training_data_remote pid=765191)\u001b[0m {'α': 'type', 's': 'unknown', 'h': 'function', 'H': 'unknown'}\n",
      "\u001b[36m(compute_provability_training_data_remote pid=765191)\u001b[0m 10000 steps executed\n",
      "\u001b[36m(compute_provability_training_data_remote pid=765191)\u001b[0m 20000 steps executed\n",
      "\u001b[36m(compute_provability_training_data_remote pid=765191)\u001b[0m 30000 steps executed\n",
      "\u001b[36m(compute_provability_training_data_remote pid=765191)\u001b[0m 40000 steps executed\n",
      "\u001b[36m(compute_provability_training_data_remote pid=765191)\u001b[0m 50000 steps executed\n",
      "\u001b[36m(compute_provability_training_data_remote pid=765191)\u001b[0m 821 states in total\n",
      "\u001b[36m(compute_provability_training_data_remote pid=765191)\u001b[0m 1 proven states\n",
      "\u001b[36m(compute_provability_training_data_remote pid=765191)\u001b[0m 10 state pairs found in Finset.sorted_last_eq_max'_aux .lake/packages/mathlib/Mathlib/Data/Finset/Sort.lean\n",
      "\u001b[36m(compute_provability_training_data_remote pid=766306)\u001b[0m Worker 2 on .lake/packages/mathlib/Mathlib/Data/List/Sort.lean\n",
      "\u001b[36m(compute_provability_training_data_remote pid=766306)\u001b[0m nvcc: NVIDIA (R) Cuda compiler driver\n",
      "\u001b[36m(compute_provability_training_data_remote pid=766306)\u001b[0m Copyright (c) 2005-2023 NVIDIA Corporation\n",
      "\u001b[36m(compute_provability_training_data_remote pid=766306)\u001b[0m Built on Tue_Jun_13_19:16:58_PDT_2023\n",
      "\u001b[36m(compute_provability_training_data_remote pid=766306)\u001b[0m Cuda compilation tools, release 12.2, V12.2.91\n",
      "\u001b[36m(compute_provability_training_data_remote pid=766306)\u001b[0m Build cuda_12.2.r12.2/compiler.32965470_0\n",
      "\u001b[36m(compute_provability_training_data_remote pid=766306)\u001b[0m \n",
      "\u001b[36m(compute_provability_training_data_remote pid=766306)\u001b[0m CUDA: True\n",
      "\u001b[36m(compute_provability_training_data_remote pid=766306)\u001b[0m os.environ['LD_LIBRARY_PATH'] /usr/local/cuda-12.2/lib64:\n",
      "\u001b[36m(compute_provability_training_data_remote pid=766306)\u001b[0m Worker 2 Loading repo...\n",
      "\u001b[36m(compute_provability_training_data_remote pid=766306)\u001b[0m Worker 2 Done.\n",
      "\u001b[36m(compute_provability_training_data_remote pid=766306)\u001b[0m Worker 2 Loading models...\n",
      "\u001b[36m(compute_provability_training_data_remote pid=766306)\u001b[0m cuda:0\n",
      "\u001b[36m(compute_provability_training_data_remote pid=766306)\u001b[0m Worker 2 Loading faiss index ...\n"
     ]
    },
    {
     "name": "stderr",
     "output_type": "stream",
     "text": [
      "\u001b[36m(compute_provability_training_data_remote pid=766306)\u001b[0m 2024-06-05 03:01:49.075 | WARNING  | lean_dojo.interaction.dojo:__init__:162 - Using Lean 4 without a hard timeout may hang indefinitely.\n"
     ]
    },
    {
     "name": "stdout",
     "output_type": "stream",
     "text": [
      "\u001b[36m(compute_provability_training_data_remote pid=766306)\u001b[0m Worker 2 Computing provability ...\n",
      "\u001b[36m(compute_provability_training_data_remote pid=766306)\u001b[0m Loading Theorem: List.Sorted.head!_le theorem Sorted.head!_le [Inhabited α] [Preorder α] {a : α} {l : List α} (h : Sorted (· < ·) l)\n",
      "\u001b[36m(compute_provability_training_data_remote pid=766306)\u001b[0m     (ha : a ∈ l) : l.head! ≤ a\n",
      "\u001b[36m(compute_provability_training_data_remote pid=766306)\u001b[0m Done\n",
      "\u001b[36m(compute_provability_training_data_remote pid=766306)\u001b[0m Sucessfully followed proof\n",
      "\u001b[36m(compute_provability_training_data_remote pid=766306)\u001b[0m INIT_STATE: α : Type uu\n",
      "\u001b[36m(compute_provability_training_data_remote pid=766306)\u001b[0m r : α → α → Prop\n",
      "\u001b[36m(compute_provability_training_data_remote pid=766306)\u001b[0m a✝ : α\n",
      "\u001b[36m(compute_provability_training_data_remote pid=766306)\u001b[0m l✝ : List α\n",
      "\u001b[36m(compute_provability_training_data_remote pid=766306)\u001b[0m inst✝¹ : Inhabited α\n",
      "\u001b[36m(compute_provability_training_data_remote pid=766306)\u001b[0m inst✝ : Preorder α\n",
      "\u001b[36m(compute_provability_training_data_remote pid=766306)\u001b[0m a : α\n",
      "\u001b[36m(compute_provability_training_data_remote pid=766306)\u001b[0m l : List α\n",
      "\u001b[36m(compute_provability_training_data_remote pid=766306)\u001b[0m h : Sorted (fun x x_1 => x < x_1) l\n",
      "\u001b[36m(compute_provability_training_data_remote pid=766306)\u001b[0m ha : a ∈ l\n",
      "\u001b[36m(compute_provability_training_data_remote pid=766306)\u001b[0m ⊢ head! l ≤ a\n",
      "\u001b[36m(compute_provability_training_data_remote pid=766306)\u001b[0m {'α': 'type', 'a': 'variable', 'l': 'unknown', 'h': 'function', 'ha': 'hypothesis'}\n",
      "\u001b[36m(compute_provability_training_data_remote pid=766306)\u001b[0m 10000 steps executed\n",
      "\u001b[36m(compute_provability_training_data_remote pid=766306)\u001b[0m 20000 steps executed\n",
      "\u001b[36m(compute_provability_training_data_remote pid=766306)\u001b[0m 30000 steps executed\n",
      "\u001b[36m(compute_provability_training_data_remote pid=766306)\u001b[0m 40000 steps executed\n",
      "\u001b[36m(compute_provability_training_data_remote pid=766306)\u001b[0m 50000 steps executed\n"
     ]
    },
    {
     "name": "stderr",
     "output_type": "stream",
     "text": [
      "\u001b[36m(compute_provability_training_data_remote pid=766306)\u001b[0m 2024-06-05 03:02:53.023 | WARNING  | lean_dojo.interaction.dojo:__init__:162 - Using Lean 4 without a hard timeout may hang indefinitely.\n"
     ]
    },
    {
     "name": "stdout",
     "output_type": "stream",
     "text": [
      "\u001b[36m(compute_provability_training_data_remote pid=766306)\u001b[0m 797 states in total\n",
      "\u001b[36m(compute_provability_training_data_remote pid=766306)\u001b[0m 1 proven states\n",
      "\u001b[36m(compute_provability_training_data_remote pid=766306)\u001b[0m 8 state pairs found in List.Sorted.head!_le .lake/packages/mathlib/Mathlib/Data/List/Sort.lean\n",
      "\u001b[36m(compute_provability_training_data_remote pid=766306)\u001b[0m Loading Theorem: List.Sorted.le_head! theorem Sorted.le_head! [Inhabited α] [Preorder α] {a : α} {l : List α} (h : Sorted (· > ·) l)\n",
      "\u001b[36m(compute_provability_training_data_remote pid=766306)\u001b[0m     (ha : a ∈ l) : a ≤ l.head!\n",
      "\u001b[36m(compute_provability_training_data_remote pid=766306)\u001b[0m Done\n",
      "\u001b[36m(compute_provability_training_data_remote pid=766306)\u001b[0m Sucessfully followed proof\n",
      "\u001b[36m(compute_provability_training_data_remote pid=766306)\u001b[0m INIT_STATE: α : Type uu\n",
      "\u001b[36m(compute_provability_training_data_remote pid=766306)\u001b[0m r : α → α → Prop\n",
      "\u001b[36m(compute_provability_training_data_remote pid=766306)\u001b[0m a✝ : α\n",
      "\u001b[36m(compute_provability_training_data_remote pid=766306)\u001b[0m l✝ : List α\n",
      "\u001b[36m(compute_provability_training_data_remote pid=766306)\u001b[0m inst✝¹ : Inhabited α\n",
      "\u001b[36m(compute_provability_training_data_remote pid=766306)\u001b[0m inst✝ : Preorder α\n",
      "\u001b[36m(compute_provability_training_data_remote pid=766306)\u001b[0m a : α\n",
      "\u001b[36m(compute_provability_training_data_remote pid=766306)\u001b[0m l : List α\n",
      "\u001b[36m(compute_provability_training_data_remote pid=766306)\u001b[0m h : Sorted (fun x x_1 => x > x_1) l\n",
      "\u001b[36m(compute_provability_training_data_remote pid=766306)\u001b[0m ha : a ∈ l\n",
      "\u001b[36m(compute_provability_training_data_remote pid=766306)\u001b[0m ⊢ a ≤ head! l\n",
      "\u001b[36m(compute_provability_training_data_remote pid=766306)\u001b[0m {'α': 'type', 'a': 'variable', 'l': 'unknown', 'h': 'function', 'ha': 'hypothesis'}\n",
      "\u001b[36m(compute_provability_training_data_remote pid=766306)\u001b[0m 10000 steps executed\n",
      "\u001b[36m(compute_provability_training_data_remote pid=766306)\u001b[0m 20000 steps executed\n",
      "\u001b[36m(compute_provability_training_data_remote pid=766306)\u001b[0m 30000 steps executed\n",
      "\u001b[36m(compute_provability_training_data_remote pid=766306)\u001b[0m 40000 steps executed\n",
      "\u001b[36m(compute_provability_training_data_remote pid=766306)\u001b[0m 50000 steps executed\n"
     ]
    },
    {
     "name": "stderr",
     "output_type": "stream",
     "text": [
      "\u001b[36m(compute_provability_training_data_remote pid=766306)\u001b[0m 2024-06-05 03:04:14.601 | WARNING  | lean_dojo.interaction.dojo:__init__:162 - Using Lean 4 without a hard timeout may hang indefinitely.\n"
     ]
    },
    {
     "name": "stdout",
     "output_type": "stream",
     "text": [
      "\u001b[36m(compute_provability_training_data_remote pid=766306)\u001b[0m 779 states in total\n",
      "\u001b[36m(compute_provability_training_data_remote pid=766306)\u001b[0m 1 proven states\n",
      "\u001b[36m(compute_provability_training_data_remote pid=766306)\u001b[0m 8 state pairs found in List.Sorted.le_head! .lake/packages/mathlib/Mathlib/Data/List/Sort.lean\n",
      "\u001b[36m(compute_provability_training_data_remote pid=766306)\u001b[0m Loading Theorem: List.eq_of_perm_of_sorted theorem eq_of_perm_of_sorted [IsAntisymm α r] {l₁ l₂ : List α} (hp : l₁ ~ l₂) (hs₁ : Sorted r l₁)\n",
      "\u001b[36m(compute_provability_training_data_remote pid=766306)\u001b[0m     (hs₂ : Sorted r l₂) : l₁ = l₂\n",
      "\u001b[36m(compute_provability_training_data_remote pid=766306)\u001b[0m Done\n",
      "\u001b[36m(compute_provability_training_data_remote pid=766306)\u001b[0m Sucessfully followed proof\n",
      "\u001b[36m(compute_provability_training_data_remote pid=766306)\u001b[0m INIT_STATE: α : Type uu\n",
      "\u001b[36m(compute_provability_training_data_remote pid=766306)\u001b[0m r : α → α → Prop\n",
      "\u001b[36m(compute_provability_training_data_remote pid=766306)\u001b[0m a : α\n",
      "\u001b[36m(compute_provability_training_data_remote pid=766306)\u001b[0m l : List α\n",
      "\u001b[36m(compute_provability_training_data_remote pid=766306)\u001b[0m inst✝ : IsAntisymm α r\n",
      "\u001b[36m(compute_provability_training_data_remote pid=766306)\u001b[0m l₁ l₂ : List α\n",
      "\u001b[36m(compute_provability_training_data_remote pid=766306)\u001b[0m hp : l₁ ~ l₂\n",
      "\u001b[36m(compute_provability_training_data_remote pid=766306)\u001b[0m hs₁ : Sorted r l₁\n",
      "\u001b[36m(compute_provability_training_data_remote pid=766306)\u001b[0m hs₂ : Sorted r l₂\n",
      "\u001b[36m(compute_provability_training_data_remote pid=766306)\u001b[0m ⊢ l₁ = l₂\n",
      "\u001b[36m(compute_provability_training_data_remote pid=766306)\u001b[0m {'α': 'type', 'r': 'function', 'l₁': 'unknown', 'l₂': 'unknown', 'hp': 'unknown', 'hs₁': 'unknown', 'hs₂': 'unknown'}\n",
      "\u001b[36m(compute_provability_training_data_remote pid=766306)\u001b[0m 10000 steps executed\n",
      "\u001b[36m(compute_provability_training_data_remote pid=766306)\u001b[0m 20000 steps executed\n",
      "\u001b[36m(compute_provability_training_data_remote pid=766306)\u001b[0m 30000 steps executed\n",
      "\u001b[36m(compute_provability_training_data_remote pid=766306)\u001b[0m 40000 steps executed\n",
      "\u001b[36m(compute_provability_training_data_remote pid=766306)\u001b[0m 50000 steps executed\n"
     ]
    },
    {
     "name": "stderr",
     "output_type": "stream",
     "text": [
      "\u001b[36m(compute_provability_training_data_remote pid=766306)\u001b[0m 2024-06-05 03:05:09.869 | WARNING  | lean_dojo.interaction.dojo:__init__:162 - Using Lean 4 without a hard timeout may hang indefinitely.\n"
     ]
    },
    {
     "name": "stdout",
     "output_type": "stream",
     "text": [
      "\u001b[36m(compute_provability_training_data_remote pid=766306)\u001b[0m 1224 states in total\n",
      "\u001b[36m(compute_provability_training_data_remote pid=766306)\u001b[0m 1 proven states\n",
      "\u001b[36m(compute_provability_training_data_remote pid=766306)\u001b[0m 8 state pairs found in List.eq_of_perm_of_sorted .lake/packages/mathlib/Mathlib/Data/List/Sort.lean\n",
      "\u001b[36m(compute_provability_training_data_remote pid=766306)\u001b[0m Loading Theorem: List.sublist_of_subperm_of_sorted theorem sublist_of_subperm_of_sorted [IsAntisymm α r] {l₁ l₂ : List α} (hp : l₁ <+~ l₂)\n",
      "\u001b[36m(compute_provability_training_data_remote pid=766306)\u001b[0m     (hs₁ : l₁.Sorted r) (hs₂ : l₂.Sorted r) : l₁ <+ l₂\n",
      "\u001b[36m(compute_provability_training_data_remote pid=766306)\u001b[0m Done\n",
      "\u001b[36m(compute_provability_training_data_remote pid=766306)\u001b[0m Sucessfully followed proof\n",
      "\u001b[36m(compute_provability_training_data_remote pid=766306)\u001b[0m INIT_STATE: α : Type uu\n",
      "\u001b[36m(compute_provability_training_data_remote pid=766306)\u001b[0m r : α → α → Prop\n",
      "\u001b[36m(compute_provability_training_data_remote pid=766306)\u001b[0m a : α\n",
      "\u001b[36m(compute_provability_training_data_remote pid=766306)\u001b[0m l : List α\n",
      "\u001b[36m(compute_provability_training_data_remote pid=766306)\u001b[0m inst✝ : IsAntisymm α r\n",
      "\u001b[36m(compute_provability_training_data_remote pid=766306)\u001b[0m l₁ l₂ : List α\n",
      "\u001b[36m(compute_provability_training_data_remote pid=766306)\u001b[0m hp : l₁ <+~ l₂\n",
      "\u001b[36m(compute_provability_training_data_remote pid=766306)\u001b[0m hs₁ : Sorted r l₁\n",
      "\u001b[36m(compute_provability_training_data_remote pid=766306)\u001b[0m hs₂ : Sorted r l₂\n",
      "\u001b[36m(compute_provability_training_data_remote pid=766306)\u001b[0m ⊢ l₁ <+ l₂\n",
      "\u001b[36m(compute_provability_training_data_remote pid=766306)\u001b[0m {'α': 'type', 'r': 'function', 'l₁': 'unknown', 'l₂': 'unknown', 'hp': 'unknown', 'hs₁': 'unknown', 'hs₂': 'unknown'}\n",
      "\u001b[36m(compute_provability_training_data_remote pid=766306)\u001b[0m 10000 steps executed\n",
      "\u001b[36m(compute_provability_training_data_remote pid=766306)\u001b[0m 20000 steps executed\n",
      "\u001b[36m(compute_provability_training_data_remote pid=766306)\u001b[0m 30000 steps executed\n",
      "\u001b[36m(compute_provability_training_data_remote pid=766306)\u001b[0m 40000 steps executed\n",
      "\u001b[36m(compute_provability_training_data_remote pid=766306)\u001b[0m 50000 steps executed\n"
     ]
    },
    {
     "name": "stderr",
     "output_type": "stream",
     "text": [
      "\u001b[36m(compute_provability_training_data_remote pid=766306)\u001b[0m 2024-06-05 03:06:58.197 | WARNING  | lean_dojo.interaction.dojo:__init__:162 - Using Lean 4 without a hard timeout may hang indefinitely.\n"
     ]
    },
    {
     "name": "stdout",
     "output_type": "stream",
     "text": [
      "\u001b[36m(compute_provability_training_data_remote pid=766306)\u001b[0m 1082 states in total\n",
      "\u001b[36m(compute_provability_training_data_remote pid=766306)\u001b[0m 1 proven states\n",
      "\u001b[36m(compute_provability_training_data_remote pid=766306)\u001b[0m 6 state pairs found in List.sublist_of_subperm_of_sorted .lake/packages/mathlib/Mathlib/Data/List/Sort.lean\n",
      "\u001b[36m(compute_provability_training_data_remote pid=766306)\u001b[0m Loading Theorem: List.Sorted.rel_get_of_le theorem Sorted.rel_get_of_le [IsRefl α r] {l : List α} (h : l.Sorted r) {a b : Fin l.length}\n",
      "\u001b[36m(compute_provability_training_data_remote pid=766306)\u001b[0m     (hab : a ≤ b) : r (l.get a) (l.get b)\n",
      "\u001b[36m(compute_provability_training_data_remote pid=766306)\u001b[0m Done\n",
      "\u001b[36m(compute_provability_training_data_remote pid=766306)\u001b[0m Sucessfully followed proof\n",
      "\u001b[36m(compute_provability_training_data_remote pid=766306)\u001b[0m INIT_STATE: α : Type uu\n",
      "\u001b[36m(compute_provability_training_data_remote pid=766306)\u001b[0m r : α → α → Prop\n",
      "\u001b[36m(compute_provability_training_data_remote pid=766306)\u001b[0m a✝ : α\n",
      "\u001b[36m(compute_provability_training_data_remote pid=766306)\u001b[0m l✝ : List α\n",
      "\u001b[36m(compute_provability_training_data_remote pid=766306)\u001b[0m inst✝ : IsRefl α r\n",
      "\u001b[36m(compute_provability_training_data_remote pid=766306)\u001b[0m l : List α\n",
      "\u001b[36m(compute_provability_training_data_remote pid=766306)\u001b[0m h : Sorted r l\n",
      "\u001b[36m(compute_provability_training_data_remote pid=766306)\u001b[0m a b : Fin (length l)\n",
      "\u001b[36m(compute_provability_training_data_remote pid=766306)\u001b[0m hab : a ≤ b\n",
      "\u001b[36m(compute_provability_training_data_remote pid=766306)\u001b[0m ⊢ r (get l a) (get l b)\n",
      "\u001b[36m(compute_provability_training_data_remote pid=766306)\u001b[0m {'α': 'type', 'r': 'function', 'l': 'unknown', 'h': 'unknown', 'a': 'unknown', 'b': 'unknown', 'hab': 'unknown'}\n",
      "\u001b[36m(compute_provability_training_data_remote pid=766306)\u001b[0m 10000 steps executed\n",
      "\u001b[36m(compute_provability_training_data_remote pid=766306)\u001b[0m 20000 steps executed\n",
      "\u001b[36m(compute_provability_training_data_remote pid=766306)\u001b[0m 30000 steps executed\n",
      "\u001b[36m(compute_provability_training_data_remote pid=766306)\u001b[0m 40000 steps executed\n",
      "\u001b[36m(compute_provability_training_data_remote pid=766306)\u001b[0m 50000 steps executed\n",
      "\u001b[36m(compute_provability_training_data_remote pid=766306)\u001b[0m 829 states in total\n",
      "\u001b[36m(compute_provability_training_data_remote pid=766306)\u001b[0m 1 proven states\n",
      "\u001b[36m(compute_provability_training_data_remote pid=766306)\u001b[0m 4 state pairs found in List.Sorted.rel_get_of_le .lake/packages/mathlib/Mathlib/Data/List/Sort.lean\n",
      "\u001b[36m(compute_provability_training_data_remote pid=766907)\u001b[0m Worker 15 on .lake/packages/mathlib/Mathlib/NumberTheory/Cyclotomic/Basic.lean\n",
      "\u001b[36m(compute_provability_training_data_remote pid=766907)\u001b[0m nvcc: NVIDIA (R) Cuda compiler driver\n",
      "\u001b[36m(compute_provability_training_data_remote pid=766907)\u001b[0m Copyright (c) 2005-2023 NVIDIA Corporation\n",
      "\u001b[36m(compute_provability_training_data_remote pid=766907)\u001b[0m Built on Tue_Jun_13_19:16:58_PDT_2023\n",
      "\u001b[36m(compute_provability_training_data_remote pid=766907)\u001b[0m Cuda compilation tools, release 12.2, V12.2.91\n",
      "\u001b[36m(compute_provability_training_data_remote pid=766907)\u001b[0m Build cuda_12.2.r12.2/compiler.32965470_0\n",
      "\u001b[36m(compute_provability_training_data_remote pid=766907)\u001b[0m \n",
      "\u001b[36m(compute_provability_training_data_remote pid=766907)\u001b[0m CUDA: True\n",
      "\u001b[36m(compute_provability_training_data_remote pid=766907)\u001b[0m os.environ['LD_LIBRARY_PATH'] /usr/local/cuda-12.2/lib64:\n",
      "\u001b[36m(compute_provability_training_data_remote pid=766907)\u001b[0m Worker 15 Loading repo...\n",
      "\u001b[36m(compute_provability_training_data_remote pid=766907)\u001b[0m Worker 15 Done.\n",
      "\u001b[36m(compute_provability_training_data_remote pid=766907)\u001b[0m Worker 15 Loading models...\n",
      "\u001b[36m(compute_provability_training_data_remote pid=766907)\u001b[0m cuda:0\n",
      "\u001b[36m(compute_provability_training_data_remote pid=766907)\u001b[0m Worker 15 Loading faiss index ...\n",
      "\u001b[36m(compute_provability_training_data_remote pid=766907)\u001b[0m Worker 15 Computing provability ...\n",
      "\u001b[36m(compute_provability_training_data_remote pid=766907)\u001b[0m Loading Theorem: IsCyclotomicExtension.iff_singleton theorem iff_singleton :\n",
      "\u001b[36m(compute_provability_training_data_remote pid=766907)\u001b[0m     IsCyclotomicExtension {n} A B ↔\n",
      "\u001b[36m(compute_provability_training_data_remote pid=766907)\u001b[0m       (∃ r : B, IsPrimitiveRoot r n) ∧ ∀ x, x ∈ adjoin A {b : B | b ^ (n : ℕ) = 1}\n",
      "\u001b[36m(compute_provability_training_data_remote pid=766907)\u001b[0m Done\n"
     ]
    },
    {
     "name": "stderr",
     "output_type": "stream",
     "text": [
      "\u001b[36m(compute_provability_training_data_remote pid=766907)\u001b[0m 2024-06-05 03:09:54.528 | WARNING  | lean_dojo.interaction.dojo:__init__:162 - Using Lean 4 without a hard timeout may hang indefinitely.\n"
     ]
    },
    {
     "name": "stdout",
     "output_type": "stream",
     "text": [
      "\u001b[36m(compute_provability_training_data_remote pid=766907)\u001b[0m Sucessfully followed proof\n",
      "\u001b[36m(compute_provability_training_data_remote pid=766907)\u001b[0m INIT_STATE: n : ℕ+\n",
      "\u001b[36m(compute_provability_training_data_remote pid=766907)\u001b[0m S T : Set ℕ+\n",
      "\u001b[36m(compute_provability_training_data_remote pid=766907)\u001b[0m A : Type u\n",
      "\u001b[36m(compute_provability_training_data_remote pid=766907)\u001b[0m B : Type v\n",
      "\u001b[36m(compute_provability_training_data_remote pid=766907)\u001b[0m K : Type w\n",
      "\u001b[36m(compute_provability_training_data_remote pid=766907)\u001b[0m L : Type z\n",
      "\u001b[36m(compute_provability_training_data_remote pid=766907)\u001b[0m inst✝⁵ : CommRing A\n",
      "\u001b[36m(compute_provability_training_data_remote pid=766907)\u001b[0m inst✝⁴ : CommRing B\n",
      "\u001b[36m(compute_provability_training_data_remote pid=766907)\u001b[0m inst✝³ : Algebra A B\n",
      "\u001b[36m(compute_provability_training_data_remote pid=766907)\u001b[0m inst✝² : Field K\n",
      "\u001b[36m(compute_provability_training_data_remote pid=766907)\u001b[0m inst✝¹ : Field L\n",
      "\u001b[36m(compute_provability_training_data_remote pid=766907)\u001b[0m inst✝ : Algebra K L\n",
      "\u001b[36m(compute_provability_training_data_remote pid=766907)\u001b[0m ⊢ IsCyclotomicExtension {n} A B ↔ (∃ r, IsPrimitiveRoot r ↑n) ∧ ∀ (x : B), x ∈ adjoin A {b | b ^ ↑n = 1}\n",
      "\u001b[36m(compute_provability_training_data_remote pid=766907)\u001b[0m {'n': 'unknown', 'A': 'hypothesis', 'B': 'hypothesis', 'IsCyclotomicExtension': 'hypothesis', '↔': 'hypothesis', 'IsPrimitiveRoot': 'hypothesis', 'r': 'hypothesis', '∧': 'hypothesis', '∀': 'hypothesis'}\n",
      "\u001b[36m(compute_provability_training_data_remote pid=766907)\u001b[0m ProofFinished\n",
      "\u001b[36m(compute_provability_training_data_remote pid=766907)\u001b[0m 10000 steps executed\n",
      "\u001b[36m(compute_provability_training_data_remote pid=766907)\u001b[0m 20000 steps executed\n",
      "\u001b[36m(compute_provability_training_data_remote pid=766907)\u001b[0m 30000 steps executed\n",
      "\u001b[36m(compute_provability_training_data_remote pid=766907)\u001b[0m 40000 steps executed\n",
      "\u001b[36m(compute_provability_training_data_remote pid=766907)\u001b[0m 50000 steps executed\n"
     ]
    },
    {
     "name": "stderr",
     "output_type": "stream",
     "text": [
      "\u001b[36m(compute_provability_training_data_remote pid=766907)\u001b[0m 2024-06-05 03:22:21.662 | WARNING  | lean_dojo.interaction.dojo:__init__:162 - Using Lean 4 without a hard timeout may hang indefinitely.\n"
     ]
    },
    {
     "name": "stdout",
     "output_type": "stream",
     "text": [
      "\u001b[36m(compute_provability_training_data_remote pid=766907)\u001b[0m 796 states in total\n",
      "\u001b[36m(compute_provability_training_data_remote pid=766907)\u001b[0m 2 proven states\n",
      "\u001b[36m(compute_provability_training_data_remote pid=766907)\u001b[0m 8 state pairs found in IsCyclotomicExtension.iff_singleton .lake/packages/mathlib/Mathlib/NumberTheory/Cyclotomic/Basic.lean\n",
      "\u001b[36m(compute_provability_training_data_remote pid=766907)\u001b[0m Loading Theorem: IsCyclotomicExtension.empty theorem empty [h : IsCyclotomicExtension ∅ A B] : (⊥ : Subalgebra A B) = ⊤\n",
      "\u001b[36m(compute_provability_training_data_remote pid=766907)\u001b[0m Done\n",
      "\u001b[36m(compute_provability_training_data_remote pid=766907)\u001b[0m Sucessfully followed proof\n",
      "\u001b[36m(compute_provability_training_data_remote pid=766907)\u001b[0m INIT_STATE: n : ℕ+\n",
      "\u001b[36m(compute_provability_training_data_remote pid=766907)\u001b[0m S T : Set ℕ+\n",
      "\u001b[36m(compute_provability_training_data_remote pid=766907)\u001b[0m A : Type u\n",
      "\u001b[36m(compute_provability_training_data_remote pid=766907)\u001b[0m B : Type v\n",
      "\u001b[36m(compute_provability_training_data_remote pid=766907)\u001b[0m K : Type w\n",
      "\u001b[36m(compute_provability_training_data_remote pid=766907)\u001b[0m L : Type z\n",
      "\u001b[36m(compute_provability_training_data_remote pid=766907)\u001b[0m inst✝⁵ : CommRing A\n",
      "\u001b[36m(compute_provability_training_data_remote pid=766907)\u001b[0m inst✝⁴ : CommRing B\n",
      "\u001b[36m(compute_provability_training_data_remote pid=766907)\u001b[0m inst✝³ : Algebra A B\n",
      "\u001b[36m(compute_provability_training_data_remote pid=766907)\u001b[0m inst✝² : Field K\n",
      "\u001b[36m(compute_provability_training_data_remote pid=766907)\u001b[0m inst✝¹ : Field L\n",
      "\u001b[36m(compute_provability_training_data_remote pid=766907)\u001b[0m inst✝ : Algebra K L\n",
      "\u001b[36m(compute_provability_training_data_remote pid=766907)\u001b[0m h : IsCyclotomicExtension ∅ A B\n",
      "\u001b[36m(compute_provability_training_data_remote pid=766907)\u001b[0m ⊢ ⊥ = ⊤\n",
      "\u001b[36m(compute_provability_training_data_remote pid=766907)\u001b[0m {'A': 'type', 'B': 'type', 'h': 'unknown'}\n",
      "\u001b[36m(compute_provability_training_data_remote pid=766907)\u001b[0m ProofFinished\n",
      "\u001b[36m(compute_provability_training_data_remote pid=766907)\u001b[0m 10000 steps executed\n",
      "\u001b[36m(compute_provability_training_data_remote pid=766907)\u001b[0m 20000 steps executed\n",
      "\u001b[36m(compute_provability_training_data_remote pid=766907)\u001b[0m 30000 steps executed\n",
      "\u001b[36m(compute_provability_training_data_remote pid=766907)\u001b[0m 40000 steps executed\n",
      "\u001b[36m(compute_provability_training_data_remote pid=766907)\u001b[0m 50000 steps executed\n",
      "\u001b[36m(compute_provability_training_data_remote pid=766907)\u001b[0m 1464 states in total\n",
      "\u001b[36m(compute_provability_training_data_remote pid=766907)\u001b[0m 36 proven states\n"
     ]
    },
    {
     "name": "stderr",
     "output_type": "stream",
     "text": [
      "\u001b[36m(compute_provability_training_data_remote pid=766907)\u001b[0m 2024-06-05 03:28:25.210 | WARNING  | lean_dojo.interaction.dojo:__init__:162 - Using Lean 4 without a hard timeout may hang indefinitely.\n"
     ]
    },
    {
     "name": "stdout",
     "output_type": "stream",
     "text": [
      "\u001b[36m(compute_provability_training_data_remote pid=766907)\u001b[0m 812 state pairs found in IsCyclotomicExtension.empty .lake/packages/mathlib/Mathlib/NumberTheory/Cyclotomic/Basic.lean\n",
      "\u001b[36m(compute_provability_training_data_remote pid=766907)\u001b[0m Loading Theorem: IsCyclotomicExtension.singleton_one theorem singleton_one [h : IsCyclotomicExtension {1} A B] : (⊥ : Subalgebra A B) = ⊤\n",
      "\u001b[36m(compute_provability_training_data_remote pid=766907)\u001b[0m Done\n",
      "\u001b[36m(compute_provability_training_data_remote pid=766907)\u001b[0m INIT_STATE: n : ℕ+\n",
      "\u001b[36m(compute_provability_training_data_remote pid=766907)\u001b[0m S T : Set ℕ+\n",
      "\u001b[36m(compute_provability_training_data_remote pid=766907)\u001b[0m A : Type u\n",
      "\u001b[36m(compute_provability_training_data_remote pid=766907)\u001b[0m B : Type v\n",
      "\u001b[36m(compute_provability_training_data_remote pid=766907)\u001b[0m K : Type w\n",
      "\u001b[36m(compute_provability_training_data_remote pid=766907)\u001b[0m L : Type z\n",
      "\u001b[36m(compute_provability_training_data_remote pid=766907)\u001b[0m inst✝⁵ : CommRing A\n",
      "\u001b[36m(compute_provability_training_data_remote pid=766907)\u001b[0m inst✝⁴ : CommRing B\n",
      "\u001b[36m(compute_provability_training_data_remote pid=766907)\u001b[0m inst✝³ : Algebra A B\n",
      "\u001b[36m(compute_provability_training_data_remote pid=766907)\u001b[0m inst✝² : Field K\n",
      "\u001b[36m(compute_provability_training_data_remote pid=766907)\u001b[0m inst✝¹ : Field L\n",
      "\u001b[36m(compute_provability_training_data_remote pid=766907)\u001b[0m inst✝ : Algebra K L\n",
      "\u001b[36m(compute_provability_training_data_remote pid=766907)\u001b[0m h : IsCyclotomicExtension {1} A B\n",
      "\u001b[36m(compute_provability_training_data_remote pid=766907)\u001b[0m ⊢ ⊥ = ⊤\n",
      "\u001b[36m(compute_provability_training_data_remote pid=766907)\u001b[0m {'A': 'type', 'B': 'type', 'h': 'unknown'}\n",
      "\u001b[36m(compute_provability_training_data_remote pid=766907)\u001b[0m ProofFinished\n",
      "\u001b[36m(compute_provability_training_data_remote pid=766907)\u001b[0m 10000 steps executed\n",
      "\u001b[36m(compute_provability_training_data_remote pid=766907)\u001b[0m 20000 steps executed\n",
      "\u001b[36m(compute_provability_training_data_remote pid=766907)\u001b[0m 30000 steps executed\n",
      "\u001b[36m(compute_provability_training_data_remote pid=766907)\u001b[0m 40000 steps executed\n",
      "\u001b[36m(compute_provability_training_data_remote pid=766907)\u001b[0m 50000 steps executed\n",
      "\u001b[36m(compute_provability_training_data_remote pid=766907)\u001b[0m 1494 states in total\n",
      "\u001b[36m(compute_provability_training_data_remote pid=766907)\u001b[0m 17 proven states\n",
      "\u001b[36m(compute_provability_training_data_remote pid=766907)\u001b[0m 472 state pairs found in IsCyclotomicExtension.singleton_one .lake/packages/mathlib/Mathlib/NumberTheory/Cyclotomic/Basic.lean\n",
      "\u001b[36m(compute_provability_training_data_remote pid=766907)\u001b[0m Loading Theorem: IsCyclotomicExtension.singleton_zero_of_bot_eq_top theorem singleton_zero_of_bot_eq_top (h : (⊥ : Subalgebra A B) = ⊤) :\n",
      "\u001b[36m(compute_provability_training_data_remote pid=766907)\u001b[0m     IsCyclotomicExtension ∅ A B\n",
      "\u001b[36m(compute_provability_training_data_remote pid=766907)\u001b[0m Done\n"
     ]
    },
    {
     "name": "stderr",
     "output_type": "stream",
     "text": [
      "\u001b[36m(compute_provability_training_data_remote pid=766907)\u001b[0m 2024-06-05 03:47:57.798 | WARNING  | lean_dojo.interaction.dojo:__init__:162 - Using Lean 4 without a hard timeout may hang indefinitely.\n"
     ]
    },
    {
     "name": "stdout",
     "output_type": "stream",
     "text": [
      "\u001b[36m(compute_provability_training_data_remote pid=766907)\u001b[0m Sucessfully followed proof\n",
      "\u001b[36m(compute_provability_training_data_remote pid=766907)\u001b[0m INIT_STATE: n : ℕ+\n",
      "\u001b[36m(compute_provability_training_data_remote pid=766907)\u001b[0m S T : Set ℕ+\n",
      "\u001b[36m(compute_provability_training_data_remote pid=766907)\u001b[0m A : Type u\n",
      "\u001b[36m(compute_provability_training_data_remote pid=766907)\u001b[0m B : Type v\n",
      "\u001b[36m(compute_provability_training_data_remote pid=766907)\u001b[0m K : Type w\n",
      "\u001b[36m(compute_provability_training_data_remote pid=766907)\u001b[0m L : Type z\n",
      "\u001b[36m(compute_provability_training_data_remote pid=766907)\u001b[0m inst✝⁵ : CommRing A\n",
      "\u001b[36m(compute_provability_training_data_remote pid=766907)\u001b[0m inst✝⁴ : CommRing B\n",
      "\u001b[36m(compute_provability_training_data_remote pid=766907)\u001b[0m inst✝³ : Algebra A B\n",
      "\u001b[36m(compute_provability_training_data_remote pid=766907)\u001b[0m inst✝² : Field K\n",
      "\u001b[36m(compute_provability_training_data_remote pid=766907)\u001b[0m inst✝¹ : Field L\n",
      "\u001b[36m(compute_provability_training_data_remote pid=766907)\u001b[0m inst✝ : Algebra K L\n",
      "\u001b[36m(compute_provability_training_data_remote pid=766907)\u001b[0m h : ⊥ = ⊤\n",
      "\u001b[36m(compute_provability_training_data_remote pid=766907)\u001b[0m ⊢ IsCyclotomicExtension ∅ A B\n",
      "\u001b[36m(compute_provability_training_data_remote pid=766907)\u001b[0m {'A': 'type', 'B': 'type', 'h': 'unknown'}\n",
      "\u001b[36m(compute_provability_training_data_remote pid=766907)\u001b[0m ProofFinished\n",
      "\u001b[36m(compute_provability_training_data_remote pid=766907)\u001b[0m 10000 steps executed\n",
      "\u001b[36m(compute_provability_training_data_remote pid=766907)\u001b[0m 20000 steps executed\n",
      "\u001b[36m(compute_provability_training_data_remote pid=766907)\u001b[0m 30000 steps executed\n",
      "\u001b[36m(compute_provability_training_data_remote pid=766907)\u001b[0m 40000 steps executed\n",
      "\u001b[36m(compute_provability_training_data_remote pid=766907)\u001b[0m 50000 steps executed\n",
      "\u001b[36m(compute_provability_training_data_remote pid=766907)\u001b[0m 1182 states in total\n",
      "\u001b[36m(compute_provability_training_data_remote pid=766907)\u001b[0m 22 proven states\n",
      "\u001b[36m(compute_provability_training_data_remote pid=766907)\u001b[0m 594 state pairs found in IsCyclotomicExtension.singleton_zero_of_bot_eq_top .lake/packages/mathlib/Mathlib/NumberTheory/Cyclotomic/Basic.lean\n",
      "\u001b[36m(compute_provability_training_data_remote pid=766907)\u001b[0m Loading Theorem: IsCyclotomicExtension.trans theorem trans (C : Type w) [CommRing C] [Algebra A C] [Algebra B C] [IsScalarTower A B C]\n",
      "\u001b[36m(compute_provability_training_data_remote pid=766907)\u001b[0m     [hS : IsCyclotomicExtension S A B] [hT : IsCyclotomicExtension T B C]\n",
      "\u001b[36m(compute_provability_training_data_remote pid=766907)\u001b[0m     (h : Function.Injective (algebraMap B C)) : IsCyclotomicExtension (S ∪ T) A C\n",
      "\u001b[36m(compute_provability_training_data_remote pid=766907)\u001b[0m Done\n"
     ]
    },
    {
     "name": "stderr",
     "output_type": "stream",
     "text": [
      "\u001b[36m(compute_provability_training_data_remote pid=766907)\u001b[0m 2024-06-05 03:58:34.427 | WARNING  | lean_dojo.interaction.dojo:__init__:162 - Using Lean 4 without a hard timeout may hang indefinitely.\n"
     ]
    },
    {
     "name": "stdout",
     "output_type": "stream",
     "text": [
      "\u001b[36m(compute_provability_training_data_remote pid=766907)\u001b[0m Sucessfully followed proof\n",
      "\u001b[36m(compute_provability_training_data_remote pid=766907)\u001b[0m INIT_STATE: n : ℕ+\n",
      "\u001b[36m(compute_provability_training_data_remote pid=766907)\u001b[0m S T : Set ℕ+\n",
      "\u001b[36m(compute_provability_training_data_remote pid=766907)\u001b[0m A : Type u\n",
      "\u001b[36m(compute_provability_training_data_remote pid=766907)\u001b[0m B : Type v\n",
      "\u001b[36m(compute_provability_training_data_remote pid=766907)\u001b[0m K : Type w\n",
      "\u001b[36m(compute_provability_training_data_remote pid=766907)\u001b[0m L : Type z\n",
      "\u001b[36m(compute_provability_training_data_remote pid=766907)\u001b[0m inst✝⁹ : CommRing A\n",
      "\u001b[36m(compute_provability_training_data_remote pid=766907)\u001b[0m inst✝⁸ : CommRing B\n",
      "\u001b[36m(compute_provability_training_data_remote pid=766907)\u001b[0m inst✝⁷ : Algebra A B\n",
      "\u001b[36m(compute_provability_training_data_remote pid=766907)\u001b[0m inst✝⁶ : Field K\n",
      "\u001b[36m(compute_provability_training_data_remote pid=766907)\u001b[0m inst✝⁵ : Field L\n",
      "\u001b[36m(compute_provability_training_data_remote pid=766907)\u001b[0m inst✝⁴ : Algebra K L\n",
      "\u001b[36m(compute_provability_training_data_remote pid=766907)\u001b[0m C : Type w\n",
      "\u001b[36m(compute_provability_training_data_remote pid=766907)\u001b[0m inst✝³ : CommRing C\n",
      "\u001b[36m(compute_provability_training_data_remote pid=766907)\u001b[0m inst✝² : Algebra A C\n",
      "\u001b[36m(compute_provability_training_data_remote pid=766907)\u001b[0m inst✝¹ : Algebra B C\n",
      "\u001b[36m(compute_provability_training_data_remote pid=766907)\u001b[0m inst✝ : IsScalarTower A B C\n",
      "\u001b[36m(compute_provability_training_data_remote pid=766907)\u001b[0m hS : IsCyclotomicExtension S A B\n",
      "\u001b[36m(compute_provability_training_data_remote pid=766907)\u001b[0m hT : IsCyclotomicExtension T B C\n",
      "\u001b[36m(compute_provability_training_data_remote pid=766907)\u001b[0m h : Function.Injective ⇑(algebraMap B C)\n",
      "\u001b[36m(compute_provability_training_data_remote pid=766907)\u001b[0m ⊢ IsCyclotomicExtension (S ∪ T) A C\n",
      "\u001b[36m(compute_provability_training_data_remote pid=766907)\u001b[0m {'S': 'set', 'T': 'set', 'A': 'type', 'B': 'type', 'C': 'type', 'hS': 'unknown', 'hT': 'unknown', 'h': 'unknown'}\n",
      "\u001b[36m(compute_provability_training_data_remote pid=766907)\u001b[0m 10000 steps executed\n",
      "\u001b[36m(compute_provability_training_data_remote pid=766907)\u001b[0m 20000 steps executed\n",
      "\u001b[36m(compute_provability_training_data_remote pid=766907)\u001b[0m Max run-time exceeded\n",
      "\u001b[36m(compute_provability_training_data_remote pid=766907)\u001b[0m 627 states in total\n",
      "\u001b[36m(compute_provability_training_data_remote pid=766907)\u001b[0m 1 proven states\n",
      "\u001b[36m(compute_provability_training_data_remote pid=766907)\u001b[0m 6 state pairs found in IsCyclotomicExtension.trans .lake/packages/mathlib/Mathlib/NumberTheory/Cyclotomic/Basic.lean\n",
      "\u001b[36m(compute_provability_training_data_remote pid=767550)\u001b[0m Worker 48 on .lake/packages/std/Std/Data/Option/Basic.lean\n",
      "\u001b[36m(compute_provability_training_data_remote pid=767550)\u001b[0m nvcc: NVIDIA (R) Cuda compiler driver\n",
      "\u001b[36m(compute_provability_training_data_remote pid=767550)\u001b[0m Copyright (c) 2005-2023 NVIDIA Corporation\n",
      "\u001b[36m(compute_provability_training_data_remote pid=767550)\u001b[0m Built on Tue_Jun_13_19:16:58_PDT_2023\n",
      "\u001b[36m(compute_provability_training_data_remote pid=767550)\u001b[0m Cuda compilation tools, release 12.2, V12.2.91\n",
      "\u001b[36m(compute_provability_training_data_remote pid=767550)\u001b[0m Build cuda_12.2.r12.2/compiler.32965470_0\n",
      "\u001b[36m(compute_provability_training_data_remote pid=767550)\u001b[0m \n",
      "\u001b[36m(compute_provability_training_data_remote pid=767550)\u001b[0m CUDA: True\n",
      "\u001b[36m(compute_provability_training_data_remote pid=767550)\u001b[0m os.environ['LD_LIBRARY_PATH'] /usr/local/cuda-12.2/lib64:\n",
      "\u001b[36m(compute_provability_training_data_remote pid=767550)\u001b[0m Worker 48 Loading repo...\n",
      "\u001b[36m(compute_provability_training_data_remote pid=767550)\u001b[0m Worker 48 Done.\n",
      "\u001b[36m(compute_provability_training_data_remote pid=767550)\u001b[0m Worker 48 Loading models...\n",
      "\u001b[36m(compute_provability_training_data_remote pid=767550)\u001b[0m cuda:0\n",
      "\u001b[36m(compute_provability_training_data_remote pid=767550)\u001b[0m Worker 48 Loading faiss index ...\n",
      "\u001b[36m(compute_provability_training_data_remote pid=767550)\u001b[0m Worker 48 Computing provability ...\n",
      "\u001b[36m(compute_provability_training_data_remote pid=767550)\u001b[0m Loading Theorem: Option.some_inj theorem some_inj {a b : α} : some a = some b ↔ a = b\n",
      "\u001b[36m(compute_provability_training_data_remote pid=767550)\u001b[0m Done\n"
     ]
    },
    {
     "name": "stderr",
     "output_type": "stream",
     "text": [
      "\u001b[36m(compute_provability_training_data_remote pid=767550)\u001b[0m 2024-06-05 04:19:21.488 | WARNING  | lean_dojo.interaction.dojo:__init__:162 - Using Lean 4 without a hard timeout may hang indefinitely.\n"
     ]
    },
    {
     "name": "stdout",
     "output_type": "stream",
     "text": [
      "\u001b[36m(compute_provability_training_data_remote pid=767550)\u001b[0m Sucessfully followed proof\n",
      "\u001b[36m(compute_provability_training_data_remote pid=767550)\u001b[0m INIT_STATE: α : Type u_1\n",
      "\u001b[36m(compute_provability_training_data_remote pid=767550)\u001b[0m a b : α\n",
      "\u001b[36m(compute_provability_training_data_remote pid=767550)\u001b[0m ⊢ some a = some b ↔ a = b\n",
      "\u001b[36m(compute_provability_training_data_remote pid=767550)\u001b[0m {'α': 'type', 'a': 'variable', 'b': 'variable'}\n",
      "\u001b[36m(compute_provability_training_data_remote pid=767550)\u001b[0m ProofFinished\n",
      "\u001b[36m(compute_provability_training_data_remote pid=767550)\u001b[0m ProofFinished\n",
      "\u001b[36m(compute_provability_training_data_remote pid=767550)\u001b[0m ProofFinished\n",
      "\u001b[36m(compute_provability_training_data_remote pid=767550)\u001b[0m 29 states in total\n",
      "\u001b[36m(compute_provability_training_data_remote pid=767550)\u001b[0m 4 proven states\n",
      "\u001b[36m(compute_provability_training_data_remote pid=767550)\u001b[0m 8 state pairs found in Option.some_inj .lake/packages/std/Std/Data/Option/Basic.lean\n",
      "\u001b[36m(compute_provability_training_data_remote pid=767730)\u001b[0m Worker 91 on .lake/packages/mathlib/Mathlib/Algebra/Ring/Semiconj.lean\n",
      "\u001b[36m(compute_provability_training_data_remote pid=767730)\u001b[0m nvcc: NVIDIA (R) Cuda compiler driver\n",
      "\u001b[36m(compute_provability_training_data_remote pid=767730)\u001b[0m Copyright (c) 2005-2023 NVIDIA Corporation\n",
      "\u001b[36m(compute_provability_training_data_remote pid=767730)\u001b[0m Built on Tue_Jun_13_19:16:58_PDT_2023\n",
      "\u001b[36m(compute_provability_training_data_remote pid=767730)\u001b[0m Cuda compilation tools, release 12.2, V12.2.91\n",
      "\u001b[36m(compute_provability_training_data_remote pid=767730)\u001b[0m Build cuda_12.2.r12.2/compiler.32965470_0\n",
      "\u001b[36m(compute_provability_training_data_remote pid=767730)\u001b[0m \n",
      "\u001b[36m(compute_provability_training_data_remote pid=767730)\u001b[0m CUDA: True\n",
      "\u001b[36m(compute_provability_training_data_remote pid=767730)\u001b[0m os.environ['LD_LIBRARY_PATH'] /usr/local/cuda-12.2/lib64:\n",
      "\u001b[36m(compute_provability_training_data_remote pid=767730)\u001b[0m Worker 91 Loading repo...\n",
      "\u001b[36m(compute_provability_training_data_remote pid=767730)\u001b[0m Worker 91 Done.\n",
      "\u001b[36m(compute_provability_training_data_remote pid=767730)\u001b[0m Worker 91 Loading models...\n",
      "\u001b[36m(compute_provability_training_data_remote pid=767730)\u001b[0m cuda:0\n",
      "\u001b[36m(compute_provability_training_data_remote pid=767730)\u001b[0m Worker 91 Loading faiss index ...\n",
      "\u001b[36m(compute_provability_training_data_remote pid=767730)\u001b[0m Worker 91 Computing provability ...\n",
      "\u001b[36m(compute_provability_training_data_remote pid=767730)\u001b[0m Loading Theorem: SemiconjBy.neg_right theorem neg_right (h : SemiconjBy a x y) : SemiconjBy a (-x) (-y)\n",
      "\u001b[36m(compute_provability_training_data_remote pid=767730)\u001b[0m Done\n"
     ]
    },
    {
     "name": "stderr",
     "output_type": "stream",
     "text": [
      "\u001b[36m(compute_provability_training_data_remote pid=767730)\u001b[0m 2024-06-05 04:20:06.985 | WARNING  | lean_dojo.interaction.dojo:__init__:162 - Using Lean 4 without a hard timeout may hang indefinitely.\n"
     ]
    },
    {
     "name": "stdout",
     "output_type": "stream",
     "text": [
      "\u001b[36m(compute_provability_training_data_remote pid=767730)\u001b[0m Sucessfully followed proof\n",
      "\u001b[36m(compute_provability_training_data_remote pid=767730)\u001b[0m INIT_STATE: α : Type u\n",
      "\u001b[36m(compute_provability_training_data_remote pid=767730)\u001b[0m β : Type v\n",
      "\u001b[36m(compute_provability_training_data_remote pid=767730)\u001b[0m γ : Type w\n",
      "\u001b[36m(compute_provability_training_data_remote pid=767730)\u001b[0m R : Type x\n",
      "\u001b[36m(compute_provability_training_data_remote pid=767730)\u001b[0m inst✝¹ : Mul R\n",
      "\u001b[36m(compute_provability_training_data_remote pid=767730)\u001b[0m inst✝ : HasDistribNeg R\n",
      "\u001b[36m(compute_provability_training_data_remote pid=767730)\u001b[0m a x y : R\n",
      "\u001b[36m(compute_provability_training_data_remote pid=767730)\u001b[0m h : SemiconjBy a x y\n",
      "\u001b[36m(compute_provability_training_data_remote pid=767730)\u001b[0m ⊢ SemiconjBy a (-x) (-y)\n",
      "\u001b[36m(compute_provability_training_data_remote pid=767730)\u001b[0m {'a': 'variable', 'x': 'variable', 'y': 'variable', 'h': 'unknown'}\n",
      "\u001b[36m(compute_provability_training_data_remote pid=767730)\u001b[0m ProofFinished\n",
      "\u001b[36m(compute_provability_training_data_remote pid=767730)\u001b[0m ProofFinished\n",
      "\u001b[36m(compute_provability_training_data_remote pid=767730)\u001b[0m ProofFinished\n",
      "\u001b[36m(compute_provability_training_data_remote pid=767730)\u001b[0m 10000 steps executed\n",
      "\u001b[36m(compute_provability_training_data_remote pid=767730)\u001b[0m 20000 steps executed\n",
      "\u001b[36m(compute_provability_training_data_remote pid=767730)\u001b[0m 30000 steps executed\n",
      "\u001b[36m(compute_provability_training_data_remote pid=767730)\u001b[0m 40000 steps executed\n",
      "\u001b[36m(compute_provability_training_data_remote pid=767730)\u001b[0m 50000 steps executed\n",
      "\u001b[36m(compute_provability_training_data_remote pid=767730)\u001b[0m 1944 states in total\n",
      "\u001b[36m(compute_provability_training_data_remote pid=767730)\u001b[0m 177 proven states\n",
      "\u001b[36m(compute_provability_training_data_remote pid=767730)\u001b[0m 8674 state pairs found in SemiconjBy.neg_right .lake/packages/mathlib/Mathlib/Algebra/Ring/Semiconj.lean\n",
      "\u001b[36m(compute_provability_training_data_remote pid=767730)\u001b[0m Loading Theorem: SemiconjBy.neg_left theorem neg_left (h : SemiconjBy a x y) : SemiconjBy (-a) x y\n",
      "\u001b[36m(compute_provability_training_data_remote pid=767730)\u001b[0m Done\n"
     ]
    },
    {
     "name": "stderr",
     "output_type": "stream",
     "text": [
      "\u001b[36m(compute_provability_training_data_remote pid=767730)\u001b[0m 2024-06-05 04:22:31.057 | WARNING  | lean_dojo.interaction.dojo:__init__:162 - Using Lean 4 without a hard timeout may hang indefinitely.\n"
     ]
    },
    {
     "name": "stdout",
     "output_type": "stream",
     "text": [
      "\u001b[36m(compute_provability_training_data_remote pid=767730)\u001b[0m Sucessfully followed proof\n",
      "\u001b[36m(compute_provability_training_data_remote pid=767730)\u001b[0m INIT_STATE: α : Type u\n",
      "\u001b[36m(compute_provability_training_data_remote pid=767730)\u001b[0m β : Type v\n",
      "\u001b[36m(compute_provability_training_data_remote pid=767730)\u001b[0m γ : Type w\n",
      "\u001b[36m(compute_provability_training_data_remote pid=767730)\u001b[0m R : Type x\n",
      "\u001b[36m(compute_provability_training_data_remote pid=767730)\u001b[0m inst✝¹ : Mul R\n",
      "\u001b[36m(compute_provability_training_data_remote pid=767730)\u001b[0m inst✝ : HasDistribNeg R\n",
      "\u001b[36m(compute_provability_training_data_remote pid=767730)\u001b[0m a x y : R\n",
      "\u001b[36m(compute_provability_training_data_remote pid=767730)\u001b[0m h : SemiconjBy a x y\n",
      "\u001b[36m(compute_provability_training_data_remote pid=767730)\u001b[0m ⊢ SemiconjBy (-a) x y\n",
      "\u001b[36m(compute_provability_training_data_remote pid=767730)\u001b[0m {'a': 'variable', 'x': 'variable', 'y': 'variable', 'h': 'unknown'}\n",
      "\u001b[36m(compute_provability_training_data_remote pid=767730)\u001b[0m ProofFinished\n",
      "\u001b[36m(compute_provability_training_data_remote pid=767730)\u001b[0m ProofFinished\n",
      "\u001b[36m(compute_provability_training_data_remote pid=767730)\u001b[0m ProofFinished\n",
      "\u001b[36m(compute_provability_training_data_remote pid=767730)\u001b[0m 10000 steps executed\n",
      "\u001b[36m(compute_provability_training_data_remote pid=767730)\u001b[0m 20000 steps executed\n",
      "\u001b[36m(compute_provability_training_data_remote pid=767730)\u001b[0m 30000 steps executed\n",
      "\u001b[36m(compute_provability_training_data_remote pid=767730)\u001b[0m 40000 steps executed\n",
      "\u001b[36m(compute_provability_training_data_remote pid=767730)\u001b[0m 50000 steps executed\n",
      "\u001b[36m(compute_provability_training_data_remote pid=767730)\u001b[0m 1697 states in total\n",
      "\u001b[36m(compute_provability_training_data_remote pid=767730)\u001b[0m 74 proven states\n",
      "\u001b[36m(compute_provability_training_data_remote pid=767730)\u001b[0m 3596 state pairs found in SemiconjBy.neg_left .lake/packages/mathlib/Mathlib/Algebra/Ring/Semiconj.lean\n",
      "\u001b[36m(compute_provability_training_data_remote pid=768034)\u001b[0m Worker 8 on .lake/packages/mathlib/Mathlib/LinearAlgebra/AffineSpace/AffineSubspace.lean\n",
      "\u001b[36m(compute_provability_training_data_remote pid=768034)\u001b[0m nvcc: NVIDIA (R) Cuda compiler driver\n",
      "\u001b[36m(compute_provability_training_data_remote pid=768034)\u001b[0m Copyright (c) 2005-2023 NVIDIA Corporation\n",
      "\u001b[36m(compute_provability_training_data_remote pid=768034)\u001b[0m Built on Tue_Jun_13_19:16:58_PDT_2023\n",
      "\u001b[36m(compute_provability_training_data_remote pid=768034)\u001b[0m Cuda compilation tools, release 12.2, V12.2.91\n",
      "\u001b[36m(compute_provability_training_data_remote pid=768034)\u001b[0m Build cuda_12.2.r12.2/compiler.32965470_0\n",
      "\u001b[36m(compute_provability_training_data_remote pid=768034)\u001b[0m \n",
      "\u001b[36m(compute_provability_training_data_remote pid=768034)\u001b[0m CUDA: True\n",
      "\u001b[36m(compute_provability_training_data_remote pid=768034)\u001b[0m os.environ['LD_LIBRARY_PATH'] /usr/local/cuda-12.2/lib64:\n",
      "\u001b[36m(compute_provability_training_data_remote pid=768034)\u001b[0m Worker 8 Loading repo...\n",
      "\u001b[36m(compute_provability_training_data_remote pid=768034)\u001b[0m Worker 8 Done.\n",
      "\u001b[36m(compute_provability_training_data_remote pid=768034)\u001b[0m Worker 8 Loading models...\n",
      "\u001b[36m(compute_provability_training_data_remote pid=768034)\u001b[0m cuda:0\n",
      "\u001b[36m(compute_provability_training_data_remote pid=768034)\u001b[0m Worker 8 Loading faiss index ...\n",
      "\u001b[36m(compute_provability_training_data_remote pid=768034)\u001b[0m Worker 8 Computing provability ...\n",
      "\u001b[36m(compute_provability_training_data_remote pid=768034)\u001b[0m Loading Theorem: vadd_mem_spanPoints_of_mem_spanPoints_of_mem_vectorSpan theorem vadd_mem_spanPoints_of_mem_spanPoints_of_mem_vectorSpan {s : Set P} {p : P} {v : V}\n",
      "\u001b[36m(compute_provability_training_data_remote pid=768034)\u001b[0m     (hp : p ∈ spanPoints k s) (hv : v ∈ vectorSpan k s) : v +ᵥ p ∈ spanPoints k s\n",
      "\u001b[36m(compute_provability_training_data_remote pid=768034)\u001b[0m Done\n"
     ]
    },
    {
     "name": "stderr",
     "output_type": "stream",
     "text": [
      "\u001b[36m(compute_provability_training_data_remote pid=768034)\u001b[0m 2024-06-05 04:24:56.473 | WARNING  | lean_dojo.interaction.dojo:__init__:162 - Using Lean 4 without a hard timeout may hang indefinitely.\n"
     ]
    },
    {
     "name": "stdout",
     "output_type": "stream",
     "text": [
      "\u001b[36m(compute_provability_training_data_remote pid=768034)\u001b[0m Sucessfully followed proof\n",
      "\u001b[36m(compute_provability_training_data_remote pid=768034)\u001b[0m INIT_STATE: k : Type u_1\n",
      "\u001b[36m(compute_provability_training_data_remote pid=768034)\u001b[0m V : Type u_2\n",
      "\u001b[36m(compute_provability_training_data_remote pid=768034)\u001b[0m P : Type u_3\n",
      "\u001b[36m(compute_provability_training_data_remote pid=768034)\u001b[0m inst✝³ : Ring k\n",
      "\u001b[36m(compute_provability_training_data_remote pid=768034)\u001b[0m inst✝² : AddCommGroup V\n",
      "\u001b[36m(compute_provability_training_data_remote pid=768034)\u001b[0m inst✝¹ : Module k V\n",
      "\u001b[36m(compute_provability_training_data_remote pid=768034)\u001b[0m inst✝ : AffineSpace V P\n",
      "\u001b[36m(compute_provability_training_data_remote pid=768034)\u001b[0m s : Set P\n",
      "\u001b[36m(compute_provability_training_data_remote pid=768034)\u001b[0m p : P\n",
      "\u001b[36m(compute_provability_training_data_remote pid=768034)\u001b[0m v : V\n",
      "\u001b[36m(compute_provability_training_data_remote pid=768034)\u001b[0m hp : p ∈ spanPoints k s\n",
      "\u001b[36m(compute_provability_training_data_remote pid=768034)\u001b[0m hv : v ∈ vectorSpan k s\n",
      "\u001b[36m(compute_provability_training_data_remote pid=768034)\u001b[0m ⊢ v +ᵥ p ∈ spanPoints k s\n",
      "\u001b[36m(compute_provability_training_data_remote pid=768034)\u001b[0m {'k': 'type', 'V': 'type', 'P': 'type', 's': 'set', 'p': 'variable', 'v': 'variable', 'hp': 'hypothesis', 'hv': 'hypothesis'}\n",
      "\u001b[36m(compute_provability_training_data_remote pid=768034)\u001b[0m Max run-time exceeded\n"
     ]
    },
    {
     "name": "stderr",
     "output_type": "stream",
     "text": [
      "\u001b[36m(compute_provability_training_data_remote pid=768034)\u001b[0m 2024-06-05 04:51:05.473 | WARNING  | lean_dojo.interaction.dojo:__init__:162 - Using Lean 4 without a hard timeout may hang indefinitely.\n"
     ]
    },
    {
     "name": "stdout",
     "output_type": "stream",
     "text": [
      "\u001b[36m(compute_provability_training_data_remote pid=768034)\u001b[0m 31 states in total\n",
      "\u001b[36m(compute_provability_training_data_remote pid=768034)\u001b[0m 1 proven states\n",
      "\u001b[36m(compute_provability_training_data_remote pid=768034)\u001b[0m 8 state pairs found in vadd_mem_spanPoints_of_mem_spanPoints_of_mem_vectorSpan .lake/packages/mathlib/Mathlib/LinearAlgebra/AffineSpace/AffineSubspace.lean\n",
      "\u001b[36m(compute_provability_training_data_remote pid=768034)\u001b[0m Loading Theorem: vsub_mem_vectorSpan_of_mem_spanPoints_of_mem_spanPoints theorem vsub_mem_vectorSpan_of_mem_spanPoints_of_mem_spanPoints {s : Set P} {p1 p2 : P}\n",
      "\u001b[36m(compute_provability_training_data_remote pid=768034)\u001b[0m     (hp1 : p1 ∈ spanPoints k s) (hp2 : p2 ∈ spanPoints k s) : p1 -ᵥ p2 ∈ vectorSpan k s\n",
      "\u001b[36m(compute_provability_training_data_remote pid=768034)\u001b[0m Done\n",
      "\u001b[36m(compute_provability_training_data_remote pid=768034)\u001b[0m Sucessfully followed proof\n",
      "\u001b[36m(compute_provability_training_data_remote pid=768034)\u001b[0m INIT_STATE: k : Type u_1\n",
      "\u001b[36m(compute_provability_training_data_remote pid=768034)\u001b[0m V : Type u_2\n",
      "\u001b[36m(compute_provability_training_data_remote pid=768034)\u001b[0m P : Type u_3\n",
      "\u001b[36m(compute_provability_training_data_remote pid=768034)\u001b[0m inst✝³ : Ring k\n",
      "\u001b[36m(compute_provability_training_data_remote pid=768034)\u001b[0m inst✝² : AddCommGroup V\n",
      "\u001b[36m(compute_provability_training_data_remote pid=768034)\u001b[0m inst✝¹ : Module k V\n",
      "\u001b[36m(compute_provability_training_data_remote pid=768034)\u001b[0m inst✝ : AffineSpace V P\n",
      "\u001b[36m(compute_provability_training_data_remote pid=768034)\u001b[0m s : Set P\n",
      "\u001b[36m(compute_provability_training_data_remote pid=768034)\u001b[0m p1 p2 : P\n",
      "\u001b[36m(compute_provability_training_data_remote pid=768034)\u001b[0m hp1 : p1 ∈ spanPoints k s\n",
      "\u001b[36m(compute_provability_training_data_remote pid=768034)\u001b[0m hp2 : p2 ∈ spanPoints k s\n",
      "\u001b[36m(compute_provability_training_data_remote pid=768034)\u001b[0m ⊢ p1 -ᵥ p2 ∈ vectorSpan k s\n",
      "\u001b[36m(compute_provability_training_data_remote pid=768034)\u001b[0m {'k': 'type', 'P': 'type', 's': 'set', 'p1': 'variable', 'p2': 'variable', 'hp1': 'hypothesis', 'hp2': 'hypothesis'}\n",
      "\u001b[36m(compute_provability_training_data_remote pid=768034)\u001b[0m 10000 steps executed\n",
      "\u001b[36m(compute_provability_training_data_remote pid=768034)\u001b[0m 20000 steps executed\n",
      "\u001b[36m(compute_provability_training_data_remote pid=768034)\u001b[0m 30000 steps executed\n",
      "\u001b[36m(compute_provability_training_data_remote pid=768034)\u001b[0m 40000 steps executed\n",
      "\u001b[36m(compute_provability_training_data_remote pid=768034)\u001b[0m 50000 steps executed\n"
     ]
    },
    {
     "name": "stderr",
     "output_type": "stream",
     "text": [
      "\u001b[36m(compute_provability_training_data_remote pid=768034)\u001b[0m 2024-06-05 04:56:04.043 | WARNING  | lean_dojo.interaction.dojo:__init__:162 - Using Lean 4 without a hard timeout may hang indefinitely.\n"
     ]
    },
    {
     "name": "stdout",
     "output_type": "stream",
     "text": [
      "\u001b[36m(compute_provability_training_data_remote pid=768034)\u001b[0m 1452 states in total\n",
      "\u001b[36m(compute_provability_training_data_remote pid=768034)\u001b[0m 1 proven states\n",
      "\u001b[36m(compute_provability_training_data_remote pid=768034)\u001b[0m 54 state pairs found in vsub_mem_vectorSpan_of_mem_spanPoints_of_mem_spanPoints .lake/packages/mathlib/Mathlib/LinearAlgebra/AffineSpace/AffineSubspace.lean\n",
      "\u001b[36m(compute_provability_training_data_remote pid=768034)\u001b[0m Loading Theorem: AffineSubspace.directionOfNonempty_eq_direction theorem directionOfNonempty_eq_direction {s : AffineSubspace k P} (h : (s : Set P).Nonempty) :\n",
      "\u001b[36m(compute_provability_training_data_remote pid=768034)\u001b[0m     directionOfNonempty h = s.direction\n",
      "\u001b[36m(compute_provability_training_data_remote pid=768034)\u001b[0m Done\n",
      "\u001b[36m(compute_provability_training_data_remote pid=768034)\u001b[0m Sucessfully followed proof\n",
      "\u001b[36m(compute_provability_training_data_remote pid=768034)\u001b[0m INIT_STATE: k : Type u_1\n",
      "\u001b[36m(compute_provability_training_data_remote pid=768034)\u001b[0m V : Type u_2\n",
      "\u001b[36m(compute_provability_training_data_remote pid=768034)\u001b[0m P : Type u_3\n",
      "\u001b[36m(compute_provability_training_data_remote pid=768034)\u001b[0m inst✝³ : Ring k\n",
      "\u001b[36m(compute_provability_training_data_remote pid=768034)\u001b[0m inst✝² : AddCommGroup V\n",
      "\u001b[36m(compute_provability_training_data_remote pid=768034)\u001b[0m inst✝¹ : Module k V\n",
      "\u001b[36m(compute_provability_training_data_remote pid=768034)\u001b[0m inst✝ : AffineSpace V P\n",
      "\u001b[36m(compute_provability_training_data_remote pid=768034)\u001b[0m s : AffineSubspace k P\n",
      "\u001b[36m(compute_provability_training_data_remote pid=768034)\u001b[0m h : Set.Nonempty ↑s\n",
      "\u001b[36m(compute_provability_training_data_remote pid=768034)\u001b[0m ⊢ directionOfNonempty h = direction s\n",
      "\u001b[36m(compute_provability_training_data_remote pid=768034)\u001b[0m {'k': 'type', 'P': 'type', 's': 'unknown', 'h': 'set'}\n",
      "\u001b[36m(compute_provability_training_data_remote pid=768034)\u001b[0m 10000 steps executed\n",
      "\u001b[36m(compute_provability_training_data_remote pid=768034)\u001b[0m 20000 steps executed\n",
      "\u001b[36m(compute_provability_training_data_remote pid=768034)\u001b[0m 30000 steps executed\n",
      "\u001b[36m(compute_provability_training_data_remote pid=768034)\u001b[0m 40000 steps executed\n",
      "\u001b[36m(compute_provability_training_data_remote pid=768034)\u001b[0m 50000 steps executed\n"
     ]
    },
    {
     "name": "stderr",
     "output_type": "stream",
     "text": [
      "\u001b[36m(compute_provability_training_data_remote pid=768034)\u001b[0m 2024-06-05 05:05:10.619 | WARNING  | lean_dojo.interaction.dojo:__init__:162 - Using Lean 4 without a hard timeout may hang indefinitely.\n"
     ]
    },
    {
     "name": "stdout",
     "output_type": "stream",
     "text": [
      "\u001b[36m(compute_provability_training_data_remote pid=768034)\u001b[0m 2250 states in total\n",
      "\u001b[36m(compute_provability_training_data_remote pid=768034)\u001b[0m 1 proven states\n",
      "\u001b[36m(compute_provability_training_data_remote pid=768034)\u001b[0m 12 state pairs found in AffineSubspace.directionOfNonempty_eq_direction .lake/packages/mathlib/Mathlib/LinearAlgebra/AffineSpace/AffineSubspace.lean\n",
      "\u001b[36m(compute_provability_training_data_remote pid=768034)\u001b[0m Loading Theorem: AffineSubspace.mem_direction_iff_eq_vsub theorem mem_direction_iff_eq_vsub {s : AffineSubspace k P} (h : (s : Set P).Nonempty) (v : V) :\n",
      "\u001b[36m(compute_provability_training_data_remote pid=768034)\u001b[0m     v ∈ s.direction ↔ ∃ p1 ∈ s, ∃ p2 ∈ s, v = p1 -ᵥ p2\n",
      "\u001b[36m(compute_provability_training_data_remote pid=768034)\u001b[0m Done\n",
      "\u001b[36m(compute_provability_training_data_remote pid=768034)\u001b[0m Sucessfully followed proof\n",
      "\u001b[36m(compute_provability_training_data_remote pid=768034)\u001b[0m INIT_STATE: k : Type u_1\n",
      "\u001b[36m(compute_provability_training_data_remote pid=768034)\u001b[0m V : Type u_2\n",
      "\u001b[36m(compute_provability_training_data_remote pid=768034)\u001b[0m P : Type u_3\n",
      "\u001b[36m(compute_provability_training_data_remote pid=768034)\u001b[0m inst✝³ : Ring k\n",
      "\u001b[36m(compute_provability_training_data_remote pid=768034)\u001b[0m inst✝² : AddCommGroup V\n",
      "\u001b[36m(compute_provability_training_data_remote pid=768034)\u001b[0m inst✝¹ : Module k V\n",
      "\u001b[36m(compute_provability_training_data_remote pid=768034)\u001b[0m inst✝ : AffineSpace V P\n",
      "\u001b[36m(compute_provability_training_data_remote pid=768034)\u001b[0m s : AffineSubspace k P\n",
      "\u001b[36m(compute_provability_training_data_remote pid=768034)\u001b[0m h : Set.Nonempty ↑s\n",
      "\u001b[36m(compute_provability_training_data_remote pid=768034)\u001b[0m v : V\n",
      "\u001b[36m(compute_provability_training_data_remote pid=768034)\u001b[0m ⊢ v ∈ direction s ↔ ∃ p1 ∈ s, ∃ p2 ∈ s, v = p1 -ᵥ p2\n",
      "\u001b[36m(compute_provability_training_data_remote pid=768034)\u001b[0m {'k': 'type', 'V': 'type', 'P': 'type', 's': 'unknown', 'h': 'set', 'v': 'variable'}\n",
      "\u001b[36m(compute_provability_training_data_remote pid=768034)\u001b[0m 10000 steps executed\n",
      "\u001b[36m(compute_provability_training_data_remote pid=768034)\u001b[0m 20000 steps executed\n",
      "\u001b[36m(compute_provability_training_data_remote pid=768034)\u001b[0m 30000 steps executed\n",
      "\u001b[36m(compute_provability_training_data_remote pid=768034)\u001b[0m 40000 steps executed\n",
      "\u001b[36m(compute_provability_training_data_remote pid=768034)\u001b[0m Max run-time exceeded\n"
     ]
    },
    {
     "name": "stderr",
     "output_type": "stream",
     "text": [
      "\u001b[36m(compute_provability_training_data_remote pid=768034)\u001b[0m 2024-06-05 05:25:22.682 | WARNING  | lean_dojo.interaction.dojo:__init__:162 - Using Lean 4 without a hard timeout may hang indefinitely.\n"
     ]
    },
    {
     "name": "stdout",
     "output_type": "stream",
     "text": [
      "\u001b[36m(compute_provability_training_data_remote pid=768034)\u001b[0m 1268 states in total\n",
      "\u001b[36m(compute_provability_training_data_remote pid=768034)\u001b[0m 1 proven states\n",
      "\u001b[36m(compute_provability_training_data_remote pid=768034)\u001b[0m 34 state pairs found in AffineSubspace.mem_direction_iff_eq_vsub .lake/packages/mathlib/Mathlib/LinearAlgebra/AffineSpace/AffineSubspace.lean\n",
      "\u001b[36m(compute_provability_training_data_remote pid=768034)\u001b[0m Loading Theorem: AffineSubspace.vadd_mem_of_mem_direction theorem vadd_mem_of_mem_direction {s : AffineSubspace k P} {v : V} (hv : v ∈ s.direction) {p : P}\n",
      "\u001b[36m(compute_provability_training_data_remote pid=768034)\u001b[0m     (hp : p ∈ s) : v +ᵥ p ∈ s\n",
      "\u001b[36m(compute_provability_training_data_remote pid=768034)\u001b[0m Done\n",
      "\u001b[36m(compute_provability_training_data_remote pid=768034)\u001b[0m Sucessfully followed proof\n",
      "\u001b[36m(compute_provability_training_data_remote pid=768034)\u001b[0m INIT_STATE: k : Type u_1\n",
      "\u001b[36m(compute_provability_training_data_remote pid=768034)\u001b[0m V : Type u_2\n",
      "\u001b[36m(compute_provability_training_data_remote pid=768034)\u001b[0m P : Type u_3\n",
      "\u001b[36m(compute_provability_training_data_remote pid=768034)\u001b[0m inst✝³ : Ring k\n",
      "\u001b[36m(compute_provability_training_data_remote pid=768034)\u001b[0m inst✝² : AddCommGroup V\n",
      "\u001b[36m(compute_provability_training_data_remote pid=768034)\u001b[0m inst✝¹ : Module k V\n",
      "\u001b[36m(compute_provability_training_data_remote pid=768034)\u001b[0m inst✝ : AffineSpace V P\n",
      "\u001b[36m(compute_provability_training_data_remote pid=768034)\u001b[0m s : AffineSubspace k P\n",
      "\u001b[36m(compute_provability_training_data_remote pid=768034)\u001b[0m v : V\n",
      "\u001b[36m(compute_provability_training_data_remote pid=768034)\u001b[0m hv : v ∈ direction s\n",
      "\u001b[36m(compute_provability_training_data_remote pid=768034)\u001b[0m p : P\n",
      "\u001b[36m(compute_provability_training_data_remote pid=768034)\u001b[0m hp : p ∈ s\n",
      "\u001b[36m(compute_provability_training_data_remote pid=768034)\u001b[0m ⊢ v +ᵥ p ∈ s\n",
      "\u001b[36m(compute_provability_training_data_remote pid=768034)\u001b[0m {'k': 'type', 'V': 'type', 'P': 'type', 's': 'unknown', 'v': 'variable', 'hv': 'hypothesis', 'p': 'variable', 'hp': 'hypothesis'}\n",
      "\u001b[36m(compute_provability_training_data_remote pid=768034)\u001b[0m 10000 steps executed\n",
      "\u001b[36m(compute_provability_training_data_remote pid=768034)\u001b[0m 20000 steps executed\n",
      "\u001b[36m(compute_provability_training_data_remote pid=768034)\u001b[0m 30000 steps executed\n",
      "\u001b[36m(compute_provability_training_data_remote pid=768034)\u001b[0m 40000 steps executed\n",
      "\u001b[36m(compute_provability_training_data_remote pid=768034)\u001b[0m Max run-time exceeded\n",
      "\u001b[36m(compute_provability_training_data_remote pid=768034)\u001b[0m 955 states in total\n",
      "\u001b[36m(compute_provability_training_data_remote pid=768034)\u001b[0m 1 proven states\n",
      "\u001b[36m(compute_provability_training_data_remote pid=768034)\u001b[0m 38 state pairs found in AffineSubspace.vadd_mem_of_mem_direction .lake/packages/mathlib/Mathlib/LinearAlgebra/AffineSpace/AffineSubspace.lean\n",
      "\u001b[36m(compute_provability_training_data_remote pid=768684)\u001b[0m Worker 62 on .lake/packages/mathlib/Mathlib/LinearAlgebra/LinearIndependent.lean\n",
      "\u001b[36m(compute_provability_training_data_remote pid=768684)\u001b[0m nvcc: NVIDIA (R) Cuda compiler driver\n",
      "\u001b[36m(compute_provability_training_data_remote pid=768684)\u001b[0m Copyright (c) 2005-2023 NVIDIA Corporation\n",
      "\u001b[36m(compute_provability_training_data_remote pid=768684)\u001b[0m Built on Tue_Jun_13_19:16:58_PDT_2023\n",
      "\u001b[36m(compute_provability_training_data_remote pid=768684)\u001b[0m Cuda compilation tools, release 12.2, V12.2.91\n",
      "\u001b[36m(compute_provability_training_data_remote pid=768684)\u001b[0m Build cuda_12.2.r12.2/compiler.32965470_0\n",
      "\u001b[36m(compute_provability_training_data_remote pid=768684)\u001b[0m \n",
      "\u001b[36m(compute_provability_training_data_remote pid=768684)\u001b[0m CUDA: True\n",
      "\u001b[36m(compute_provability_training_data_remote pid=768684)\u001b[0m os.environ['LD_LIBRARY_PATH'] /usr/local/cuda-12.2/lib64:\n",
      "\u001b[36m(compute_provability_training_data_remote pid=768684)\u001b[0m Worker 62 Loading repo...\n",
      "\u001b[36m(compute_provability_training_data_remote pid=768684)\u001b[0m Worker 62 Done.\n",
      "\u001b[36m(compute_provability_training_data_remote pid=768684)\u001b[0m Worker 62 Loading models...\n",
      "\u001b[36m(compute_provability_training_data_remote pid=768684)\u001b[0m cuda:0\n",
      "\u001b[36m(compute_provability_training_data_remote pid=768684)\u001b[0m Worker 62 Loading faiss index ...\n"
     ]
    },
    {
     "name": "stderr",
     "output_type": "stream",
     "text": [
      "\u001b[36m(compute_provability_training_data_remote pid=768684)\u001b[0m 2024-06-05 05:46:08.432 | WARNING  | lean_dojo.interaction.dojo:__init__:162 - Using Lean 4 without a hard timeout may hang indefinitely.\n"
     ]
    },
    {
     "name": "stdout",
     "output_type": "stream",
     "text": [
      "\u001b[36m(compute_provability_training_data_remote pid=768684)\u001b[0m Worker 62 Computing provability ...\n",
      "\u001b[36m(compute_provability_training_data_remote pid=768684)\u001b[0m Loading Theorem: linearIndependent_iff theorem linearIndependent_iff : LinearIndependent R v ↔ ∀ l, Finsupp.total ι M R v l = 0 → l = 0\n",
      "\u001b[36m(compute_provability_training_data_remote pid=768684)\u001b[0m Done\n",
      "\u001b[36m(compute_provability_training_data_remote pid=768684)\u001b[0m Sucessfully followed proof\n",
      "\u001b[36m(compute_provability_training_data_remote pid=768684)\u001b[0m INIT_STATE: ι : Type u'\n",
      "\u001b[36m(compute_provability_training_data_remote pid=768684)\u001b[0m ι' : Type u_1\n",
      "\u001b[36m(compute_provability_training_data_remote pid=768684)\u001b[0m R : Type u_2\n",
      "\u001b[36m(compute_provability_training_data_remote pid=768684)\u001b[0m K : Type u_3\n",
      "\u001b[36m(compute_provability_training_data_remote pid=768684)\u001b[0m M : Type u_4\n",
      "\u001b[36m(compute_provability_training_data_remote pid=768684)\u001b[0m M' : Type u_5\n",
      "\u001b[36m(compute_provability_training_data_remote pid=768684)\u001b[0m M'' : Type u_6\n",
      "\u001b[36m(compute_provability_training_data_remote pid=768684)\u001b[0m V : Type u\n",
      "\u001b[36m(compute_provability_training_data_remote pid=768684)\u001b[0m V' : Type u_7\n",
      "\u001b[36m(compute_provability_training_data_remote pid=768684)\u001b[0m v : ι → M\n",
      "\u001b[36m(compute_provability_training_data_remote pid=768684)\u001b[0m inst✝⁶ : Semiring R\n",
      "\u001b[36m(compute_provability_training_data_remote pid=768684)\u001b[0m inst✝⁵ : AddCommMonoid M\n",
      "\u001b[36m(compute_provability_training_data_remote pid=768684)\u001b[0m inst✝⁴ : AddCommMonoid M'\n",
      "\u001b[36m(compute_provability_training_data_remote pid=768684)\u001b[0m inst✝³ : AddCommMonoid M''\n",
      "\u001b[36m(compute_provability_training_data_remote pid=768684)\u001b[0m inst✝² : Module R M\n",
      "\u001b[36m(compute_provability_training_data_remote pid=768684)\u001b[0m inst✝¹ : Module R M'\n",
      "\u001b[36m(compute_provability_training_data_remote pid=768684)\u001b[0m inst✝ : Module R M''\n",
      "\u001b[36m(compute_provability_training_data_remote pid=768684)\u001b[0m a b : R\n",
      "\u001b[36m(compute_provability_training_data_remote pid=768684)\u001b[0m x y : M\n",
      "\u001b[36m(compute_provability_training_data_remote pid=768684)\u001b[0m ⊢ LinearIndependent R v ↔ ∀ (l : ι →₀ R), (Finsupp.total ι M R v) l = 0 → l = 0\n",
      "\u001b[36m(compute_provability_training_data_remote pid=768684)\u001b[0m {'ι': 'type', 'R': 'function', 'M': 'type', 'v': 'function', 'LinearIndependent': 'function', '↔': 'function', '∀': 'function'}\n",
      "\u001b[36m(compute_provability_training_data_remote pid=768684)\u001b[0m 10000 steps executed\n",
      "\u001b[36m(compute_provability_training_data_remote pid=768684)\u001b[0m 20000 steps executed\n",
      "\u001b[36m(compute_provability_training_data_remote pid=768684)\u001b[0m 30000 steps executed\n",
      "\u001b[36m(compute_provability_training_data_remote pid=768684)\u001b[0m 40000 steps executed\n",
      "\u001b[36m(compute_provability_training_data_remote pid=768684)\u001b[0m 50000 steps executed\n"
     ]
    },
    {
     "name": "stderr",
     "output_type": "stream",
     "text": [
      "\u001b[36m(compute_provability_training_data_remote pid=768684)\u001b[0m 2024-06-05 05:57:17.882 | WARNING  | lean_dojo.interaction.dojo:__init__:162 - Using Lean 4 without a hard timeout may hang indefinitely.\n"
     ]
    },
    {
     "name": "stdout",
     "output_type": "stream",
     "text": [
      "\u001b[36m(compute_provability_training_data_remote pid=768684)\u001b[0m 1435 states in total\n",
      "\u001b[36m(compute_provability_training_data_remote pid=768684)\u001b[0m 1 proven states\n",
      "\u001b[36m(compute_provability_training_data_remote pid=768684)\u001b[0m 4 state pairs found in linearIndependent_iff .lake/packages/mathlib/Mathlib/LinearAlgebra/LinearIndependent.lean\n",
      "\u001b[36m(compute_provability_training_data_remote pid=768684)\u001b[0m Loading Theorem: linearIndependent_iff' theorem linearIndependent_iff' :\n",
      "\u001b[36m(compute_provability_training_data_remote pid=768684)\u001b[0m     LinearIndependent R v ↔\n",
      "\u001b[36m(compute_provability_training_data_remote pid=768684)\u001b[0m       ∀ s : Finset ι, ∀ g : ι → R, ∑ i in s, g i • v i = 0 → ∀ i ∈ s, g i = 0\n",
      "\u001b[36m(compute_provability_training_data_remote pid=768684)\u001b[0m Done\n",
      "\u001b[36m(compute_provability_training_data_remote pid=768684)\u001b[0m INIT_STATE: ι : Type u'\n",
      "\u001b[36m(compute_provability_training_data_remote pid=768684)\u001b[0m ι' : Type u_1\n",
      "\u001b[36m(compute_provability_training_data_remote pid=768684)\u001b[0m R : Type u_2\n",
      "\u001b[36m(compute_provability_training_data_remote pid=768684)\u001b[0m K : Type u_3\n",
      "\u001b[36m(compute_provability_training_data_remote pid=768684)\u001b[0m M : Type u_4\n",
      "\u001b[36m(compute_provability_training_data_remote pid=768684)\u001b[0m M' : Type u_5\n",
      "\u001b[36m(compute_provability_training_data_remote pid=768684)\u001b[0m M'' : Type u_6\n",
      "\u001b[36m(compute_provability_training_data_remote pid=768684)\u001b[0m V : Type u\n",
      "\u001b[36m(compute_provability_training_data_remote pid=768684)\u001b[0m V' : Type u_7\n",
      "\u001b[36m(compute_provability_training_data_remote pid=768684)\u001b[0m v : ι → M\n",
      "\u001b[36m(compute_provability_training_data_remote pid=768684)\u001b[0m inst✝⁶ : Semiring R\n",
      "\u001b[36m(compute_provability_training_data_remote pid=768684)\u001b[0m inst✝⁵ : AddCommMonoid M\n",
      "\u001b[36m(compute_provability_training_data_remote pid=768684)\u001b[0m inst✝⁴ : AddCommMonoid M'\n",
      "\u001b[36m(compute_provability_training_data_remote pid=768684)\u001b[0m inst✝³ : AddCommMonoid M''\n",
      "\u001b[36m(compute_provability_training_data_remote pid=768684)\u001b[0m inst✝² : Module R M\n",
      "\u001b[36m(compute_provability_training_data_remote pid=768684)\u001b[0m inst✝¹ : Module R M'\n",
      "\u001b[36m(compute_provability_training_data_remote pid=768684)\u001b[0m inst✝ : Module R M''\n",
      "\u001b[36m(compute_provability_training_data_remote pid=768684)\u001b[0m a b : R\n",
      "\u001b[36m(compute_provability_training_data_remote pid=768684)\u001b[0m x y : M\n",
      "\u001b[36m(compute_provability_training_data_remote pid=768684)\u001b[0m ⊢ LinearIndependent R v ↔ ∀ (s : Finset ι) (g : ι → R), ∑ i in s, g i • v i = 0 → ∀ i ∈ s, g i = 0\n",
      "\u001b[36m(compute_provability_training_data_remote pid=768684)\u001b[0m {'ι': 'type', 'R': 'hypothesis', 'v': 'hypothesis', 'LinearIndependent': 'hypothesis', '↔': 'hypothesis', '∀': 'hypothesis'}\n"
     ]
    },
    {
     "name": "stderr",
     "output_type": "stream",
     "text": [
      "\u001b[36m(compute_provability_training_data_remote pid=768684)\u001b[0m 2024-06-05 05:58:00.469 | WARNING  | lean_dojo.interaction.dojo:__init__:162 - Using Lean 4 without a hard timeout may hang indefinitely.\n"
     ]
    },
    {
     "name": "stdout",
     "output_type": "stream",
     "text": [
      "\u001b[36m(compute_provability_training_data_remote pid=768684)\u001b[0m 51 states in total\n",
      "\u001b[36m(compute_provability_training_data_remote pid=768684)\u001b[0m 0 proven states\n",
      "\u001b[36m(compute_provability_training_data_remote pid=768684)\u001b[0m 0 state pairs found in linearIndependent_iff' .lake/packages/mathlib/Mathlib/LinearAlgebra/LinearIndependent.lean\n",
      "\u001b[36m(compute_provability_training_data_remote pid=768684)\u001b[0m Loading Theorem: linearIndependent_iff'' theorem linearIndependent_iff'' :\n",
      "\u001b[36m(compute_provability_training_data_remote pid=768684)\u001b[0m     LinearIndependent R v ↔\n",
      "\u001b[36m(compute_provability_training_data_remote pid=768684)\u001b[0m       ∀ (s : Finset ι) (g : ι → R), (∀ i ∉ s, g i = 0) →\n",
      "\u001b[36m(compute_provability_training_data_remote pid=768684)\u001b[0m         ∑ i in s, g i • v i = 0 → ∀ i, g i = 0\n",
      "\u001b[36m(compute_provability_training_data_remote pid=768684)\u001b[0m Done\n",
      "\u001b[36m(compute_provability_training_data_remote pid=768684)\u001b[0m Sucessfully followed proof\n",
      "\u001b[36m(compute_provability_training_data_remote pid=768684)\u001b[0m INIT_STATE: ι : Type u'\n",
      "\u001b[36m(compute_provability_training_data_remote pid=768684)\u001b[0m ι' : Type u_1\n",
      "\u001b[36m(compute_provability_training_data_remote pid=768684)\u001b[0m R : Type u_2\n",
      "\u001b[36m(compute_provability_training_data_remote pid=768684)\u001b[0m K : Type u_3\n",
      "\u001b[36m(compute_provability_training_data_remote pid=768684)\u001b[0m M : Type u_4\n",
      "\u001b[36m(compute_provability_training_data_remote pid=768684)\u001b[0m M' : Type u_5\n",
      "\u001b[36m(compute_provability_training_data_remote pid=768684)\u001b[0m M'' : Type u_6\n",
      "\u001b[36m(compute_provability_training_data_remote pid=768684)\u001b[0m V : Type u\n",
      "\u001b[36m(compute_provability_training_data_remote pid=768684)\u001b[0m V' : Type u_7\n",
      "\u001b[36m(compute_provability_training_data_remote pid=768684)\u001b[0m v : ι → M\n",
      "\u001b[36m(compute_provability_training_data_remote pid=768684)\u001b[0m inst✝⁶ : Semiring R\n",
      "\u001b[36m(compute_provability_training_data_remote pid=768684)\u001b[0m inst✝⁵ : AddCommMonoid M\n",
      "\u001b[36m(compute_provability_training_data_remote pid=768684)\u001b[0m inst✝⁴ : AddCommMonoid M'\n",
      "\u001b[36m(compute_provability_training_data_remote pid=768684)\u001b[0m inst✝³ : AddCommMonoid M''\n",
      "\u001b[36m(compute_provability_training_data_remote pid=768684)\u001b[0m inst✝² : Module R M\n",
      "\u001b[36m(compute_provability_training_data_remote pid=768684)\u001b[0m inst✝¹ : Module R M'\n",
      "\u001b[36m(compute_provability_training_data_remote pid=768684)\u001b[0m inst✝ : Module R M''\n",
      "\u001b[36m(compute_provability_training_data_remote pid=768684)\u001b[0m a b : R\n",
      "\u001b[36m(compute_provability_training_data_remote pid=768684)\u001b[0m x y : M\n",
      "\u001b[36m(compute_provability_training_data_remote pid=768684)\u001b[0m ⊢ LinearIndependent R v ↔\n",
      "\u001b[36m(compute_provability_training_data_remote pid=768684)\u001b[0m     ∀ (s : Finset ι) (g : ι → R), (∀ i ∉ s, g i = 0) → ∑ i in s, g i • v i = 0 → ∀ (i : ι), g i = 0\n",
      "\u001b[36m(compute_provability_training_data_remote pid=768684)\u001b[0m {'ι': 'type', 'R': 'type', 'v': 'function', '∀': 'hypothesis'}\n",
      "\u001b[36m(compute_provability_training_data_remote pid=768684)\u001b[0m 10000 steps executed\n",
      "\u001b[36m(compute_provability_training_data_remote pid=768684)\u001b[0m 20000 steps executed\n",
      "\u001b[36m(compute_provability_training_data_remote pid=768684)\u001b[0m 30000 steps executed\n",
      "\u001b[36m(compute_provability_training_data_remote pid=768684)\u001b[0m 40000 steps executed\n",
      "\u001b[36m(compute_provability_training_data_remote pid=768684)\u001b[0m 50000 steps executed\n"
     ]
    },
    {
     "name": "stderr",
     "output_type": "stream",
     "text": [
      "\u001b[36m(compute_provability_training_data_remote pid=768684)\u001b[0m 2024-06-05 06:12:20.024 | WARNING  | lean_dojo.interaction.dojo:__init__:162 - Using Lean 4 without a hard timeout may hang indefinitely.\n"
     ]
    },
    {
     "name": "stdout",
     "output_type": "stream",
     "text": [
      "\u001b[36m(compute_provability_training_data_remote pid=768684)\u001b[0m 1663 states in total\n",
      "\u001b[36m(compute_provability_training_data_remote pid=768684)\u001b[0m 1 proven states\n",
      "\u001b[36m(compute_provability_training_data_remote pid=768684)\u001b[0m 4 state pairs found in linearIndependent_iff'' .lake/packages/mathlib/Mathlib/LinearAlgebra/LinearIndependent.lean\n",
      "\u001b[36m(compute_provability_training_data_remote pid=768684)\u001b[0m Loading Theorem: not_linearIndependent_iff theorem not_linearIndependent_iff :\n",
      "\u001b[36m(compute_provability_training_data_remote pid=768684)\u001b[0m     ¬LinearIndependent R v ↔\n",
      "\u001b[36m(compute_provability_training_data_remote pid=768684)\u001b[0m       ∃ s : Finset ι, ∃ g : ι → R, ∑ i in s, g i • v i = 0 ∧ ∃ i ∈ s, g i ≠ 0\n",
      "\u001b[36m(compute_provability_training_data_remote pid=768684)\u001b[0m Done\n",
      "\u001b[36m(compute_provability_training_data_remote pid=768684)\u001b[0m Sucessfully followed proof\n",
      "\u001b[36m(compute_provability_training_data_remote pid=768684)\u001b[0m INIT_STATE: ι : Type u'\n",
      "\u001b[36m(compute_provability_training_data_remote pid=768684)\u001b[0m ι' : Type u_1\n",
      "\u001b[36m(compute_provability_training_data_remote pid=768684)\u001b[0m R : Type u_2\n",
      "\u001b[36m(compute_provability_training_data_remote pid=768684)\u001b[0m K : Type u_3\n",
      "\u001b[36m(compute_provability_training_data_remote pid=768684)\u001b[0m M : Type u_4\n",
      "\u001b[36m(compute_provability_training_data_remote pid=768684)\u001b[0m M' : Type u_5\n",
      "\u001b[36m(compute_provability_training_data_remote pid=768684)\u001b[0m M'' : Type u_6\n",
      "\u001b[36m(compute_provability_training_data_remote pid=768684)\u001b[0m V : Type u\n",
      "\u001b[36m(compute_provability_training_data_remote pid=768684)\u001b[0m V' : Type u_7\n",
      "\u001b[36m(compute_provability_training_data_remote pid=768684)\u001b[0m v : ι → M\n",
      "\u001b[36m(compute_provability_training_data_remote pid=768684)\u001b[0m inst✝⁶ : Semiring R\n",
      "\u001b[36m(compute_provability_training_data_remote pid=768684)\u001b[0m inst✝⁵ : AddCommMonoid M\n",
      "\u001b[36m(compute_provability_training_data_remote pid=768684)\u001b[0m inst✝⁴ : AddCommMonoid M'\n",
      "\u001b[36m(compute_provability_training_data_remote pid=768684)\u001b[0m inst✝³ : AddCommMonoid M''\n",
      "\u001b[36m(compute_provability_training_data_remote pid=768684)\u001b[0m inst✝² : Module R M\n",
      "\u001b[36m(compute_provability_training_data_remote pid=768684)\u001b[0m inst✝¹ : Module R M'\n",
      "\u001b[36m(compute_provability_training_data_remote pid=768684)\u001b[0m inst✝ : Module R M''\n",
      "\u001b[36m(compute_provability_training_data_remote pid=768684)\u001b[0m a b : R\n",
      "\u001b[36m(compute_provability_training_data_remote pid=768684)\u001b[0m x y : M\n",
      "\u001b[36m(compute_provability_training_data_remote pid=768684)\u001b[0m ⊢ ¬LinearIndependent R v ↔ ∃ s g, ∑ i in s, g i • v i = 0 ∧ ∃ i ∈ s, g i ≠ 0\n",
      "\u001b[36m(compute_provability_training_data_remote pid=768684)\u001b[0m {'ι': 'type', 'R': 'type', 'v': 'function'}\n",
      "\u001b[36m(compute_provability_training_data_remote pid=768684)\u001b[0m ProofFinished\n",
      "\u001b[36m(compute_provability_training_data_remote pid=768684)\u001b[0m ProofFinished\n",
      "\u001b[36m(compute_provability_training_data_remote pid=768684)\u001b[0m ProofFinished\n",
      "\u001b[36m(compute_provability_training_data_remote pid=768684)\u001b[0m ProofFinished\n",
      "\u001b[36m(compute_provability_training_data_remote pid=768684)\u001b[0m ProofFinished\n",
      "\u001b[36m(compute_provability_training_data_remote pid=768684)\u001b[0m ProofFinished\n",
      "\u001b[36m(compute_provability_training_data_remote pid=768684)\u001b[0m ProofFinished\n",
      "\u001b[36m(compute_provability_training_data_remote pid=768684)\u001b[0m ProofFinished\n",
      "\u001b[36m(compute_provability_training_data_remote pid=768684)\u001b[0m ProofFinished\n",
      "\u001b[36m(compute_provability_training_data_remote pid=768684)\u001b[0m 10000 steps executed\n",
      "\u001b[36m(compute_provability_training_data_remote pid=768684)\u001b[0m 20000 steps executed\n",
      "\u001b[36m(compute_provability_training_data_remote pid=768684)\u001b[0m 30000 steps executed\n",
      "\u001b[36m(compute_provability_training_data_remote pid=768684)\u001b[0m 40000 steps executed\n",
      "\u001b[36m(compute_provability_training_data_remote pid=768684)\u001b[0m 50000 steps executed\n",
      "\u001b[36m(compute_provability_training_data_remote pid=768684)\u001b[0m 1872 states in total\n",
      "\u001b[36m(compute_provability_training_data_remote pid=768684)\u001b[0m 33 proven states\n",
      "\u001b[36m(compute_provability_training_data_remote pid=768684)\u001b[0m 416 state pairs found in not_linearIndependent_iff .lake/packages/mathlib/Mathlib/LinearAlgebra/LinearIndependent.lean\n",
      "\u001b[36m(compute_provability_training_data_remote pid=768684)\u001b[0m Loading Theorem: Fintype.linearIndependent_iff theorem Fintype.linearIndependent_iff [Fintype ι] :\n",
      "\u001b[36m(compute_provability_training_data_remote pid=768684)\u001b[0m     LinearIndependent R v ↔ ∀ g : ι → R, ∑ i, g i • v i = 0 → ∀ i, g i = 0\n",
      "\u001b[36m(compute_provability_training_data_remote pid=768684)\u001b[0m Done\n"
     ]
    },
    {
     "name": "stderr",
     "output_type": "stream",
     "text": [
      "\u001b[36m(compute_provability_training_data_remote pid=768684)\u001b[0m 2024-06-05 06:28:38.404 | WARNING  | lean_dojo.interaction.dojo:__init__:162 - Using Lean 4 without a hard timeout may hang indefinitely.\n"
     ]
    },
    {
     "name": "stdout",
     "output_type": "stream",
     "text": [
      "\u001b[36m(compute_provability_training_data_remote pid=768684)\u001b[0m Sucessfully followed proof\n",
      "\u001b[36m(compute_provability_training_data_remote pid=768684)\u001b[0m INIT_STATE: ι : Type u'\n",
      "\u001b[36m(compute_provability_training_data_remote pid=768684)\u001b[0m ι' : Type u_1\n",
      "\u001b[36m(compute_provability_training_data_remote pid=768684)\u001b[0m R : Type u_2\n",
      "\u001b[36m(compute_provability_training_data_remote pid=768684)\u001b[0m K : Type u_3\n",
      "\u001b[36m(compute_provability_training_data_remote pid=768684)\u001b[0m M : Type u_4\n",
      "\u001b[36m(compute_provability_training_data_remote pid=768684)\u001b[0m M' : Type u_5\n",
      "\u001b[36m(compute_provability_training_data_remote pid=768684)\u001b[0m M'' : Type u_6\n",
      "\u001b[36m(compute_provability_training_data_remote pid=768684)\u001b[0m V : Type u\n",
      "\u001b[36m(compute_provability_training_data_remote pid=768684)\u001b[0m V' : Type u_7\n",
      "\u001b[36m(compute_provability_training_data_remote pid=768684)\u001b[0m v : ι → M\n",
      "\u001b[36m(compute_provability_training_data_remote pid=768684)\u001b[0m inst✝⁷ : Semiring R\n",
      "\u001b[36m(compute_provability_training_data_remote pid=768684)\u001b[0m inst✝⁶ : AddCommMonoid M\n",
      "\u001b[36m(compute_provability_training_data_remote pid=768684)\u001b[0m inst✝⁵ : AddCommMonoid M'\n",
      "\u001b[36m(compute_provability_training_data_remote pid=768684)\u001b[0m inst✝⁴ : AddCommMonoid M''\n",
      "\u001b[36m(compute_provability_training_data_remote pid=768684)\u001b[0m inst✝³ : Module R M\n",
      "\u001b[36m(compute_provability_training_data_remote pid=768684)\u001b[0m inst✝² : Module R M'\n",
      "\u001b[36m(compute_provability_training_data_remote pid=768684)\u001b[0m inst✝¹ : Module R M''\n",
      "\u001b[36m(compute_provability_training_data_remote pid=768684)\u001b[0m a b : R\n",
      "\u001b[36m(compute_provability_training_data_remote pid=768684)\u001b[0m x y : M\n",
      "\u001b[36m(compute_provability_training_data_remote pid=768684)\u001b[0m inst✝ : Fintype ι\n",
      "\u001b[36m(compute_provability_training_data_remote pid=768684)\u001b[0m ⊢ LinearIndependent R v ↔ ∀ (g : ι → R), ∑ i : ι, g i • v i = 0 → ∀ (i : ι), g i = 0\n",
      "\u001b[36m(compute_provability_training_data_remote pid=768684)\u001b[0m {'ι': 'type', 'R': 'hypothesis', 'v': 'hypothesis', 'LinearIndependent': 'hypothesis', '↔': 'hypothesis', '∀': 'hypothesis'}\n",
      "\u001b[36m(compute_provability_training_data_remote pid=768684)\u001b[0m 49 states in total\n",
      "\u001b[36m(compute_provability_training_data_remote pid=768684)\u001b[0m 1 proven states\n",
      "\u001b[36m(compute_provability_training_data_remote pid=768684)\u001b[0m 8 state pairs found in Fintype.linearIndependent_iff .lake/packages/mathlib/Mathlib/LinearAlgebra/LinearIndependent.lean\n",
      "\u001b[36m(compute_provability_training_data_remote pid=769313)\u001b[0m Worker 61 on .lake/packages/mathlib/Mathlib/Order/SupClosed.lean\n",
      "\u001b[36m(compute_provability_training_data_remote pid=769313)\u001b[0m nvcc: NVIDIA (R) Cuda compiler driver\n",
      "\u001b[36m(compute_provability_training_data_remote pid=769313)\u001b[0m Copyright (c) 2005-2023 NVIDIA Corporation\n",
      "\u001b[36m(compute_provability_training_data_remote pid=769313)\u001b[0m Built on Tue_Jun_13_19:16:58_PDT_2023\n",
      "\u001b[36m(compute_provability_training_data_remote pid=769313)\u001b[0m Cuda compilation tools, release 12.2, V12.2.91\n",
      "\u001b[36m(compute_provability_training_data_remote pid=769313)\u001b[0m Build cuda_12.2.r12.2/compiler.32965470_0\n",
      "\u001b[36m(compute_provability_training_data_remote pid=769313)\u001b[0m \n",
      "\u001b[36m(compute_provability_training_data_remote pid=769313)\u001b[0m CUDA: True\n",
      "\u001b[36m(compute_provability_training_data_remote pid=769313)\u001b[0m os.environ['LD_LIBRARY_PATH'] /usr/local/cuda-12.2/lib64:\n",
      "\u001b[36m(compute_provability_training_data_remote pid=769313)\u001b[0m Worker 61 Loading repo...\n",
      "\u001b[36m(compute_provability_training_data_remote pid=769313)\u001b[0m Worker 61 Done.\n",
      "\u001b[36m(compute_provability_training_data_remote pid=769313)\u001b[0m Worker 61 Loading models...\n",
      "\u001b[36m(compute_provability_training_data_remote pid=769313)\u001b[0m cuda:0\n",
      "\u001b[36m(compute_provability_training_data_remote pid=769313)\u001b[0m Worker 61 Loading faiss index ...\n",
      "\u001b[36m(compute_provability_training_data_remote pid=769313)\u001b[0m Worker 61 Computing provability ...\n",
      "\u001b[36m(compute_provability_training_data_remote pid=769313)\u001b[0m Loading Theorem: SupClosed.preimage lemma SupClosed.preimage [SupHomClass F β α] (hs : SupClosed s) (f : F) : SupClosed (f ⁻¹' s) :=\n",
      "\u001b[36m(compute_provability_training_data_remote pid=769313)\u001b[0m   fun a ha b hb ↦ by simpa [map_sup] using hs ha hb\n",
      "\u001b[36m(compute_provability_training_data_remote pid=769313)\u001b[0m Done\n"
     ]
    },
    {
     "name": "stderr",
     "output_type": "stream",
     "text": [
      "\u001b[36m(compute_provability_training_data_remote pid=769313)\u001b[0m 2024-06-05 06:29:47.683 | WARNING  | lean_dojo.interaction.dojo:__init__:162 - Using Lean 4 without a hard timeout may hang indefinitely.\n"
     ]
    },
    {
     "name": "stdout",
     "output_type": "stream",
     "text": [
      "\u001b[36m(compute_provability_training_data_remote pid=769313)\u001b[0m INIT_STATE: F : Type u_1\n",
      "\u001b[36m(compute_provability_training_data_remote pid=769313)\u001b[0m α : Type u_2\n",
      "\u001b[36m(compute_provability_training_data_remote pid=769313)\u001b[0m β : Type u_3\n",
      "\u001b[36m(compute_provability_training_data_remote pid=769313)\u001b[0m inst✝² : SemilatticeSup α\n",
      "\u001b[36m(compute_provability_training_data_remote pid=769313)\u001b[0m inst✝¹ : SemilatticeSup β\n",
      "\u001b[36m(compute_provability_training_data_remote pid=769313)\u001b[0m ι : Sort u_4\n",
      "\u001b[36m(compute_provability_training_data_remote pid=769313)\u001b[0m S : Set (Set α)\n",
      "\u001b[36m(compute_provability_training_data_remote pid=769313)\u001b[0m f✝ : ι → Set α\n",
      "\u001b[36m(compute_provability_training_data_remote pid=769313)\u001b[0m s t : Set α\n",
      "\u001b[36m(compute_provability_training_data_remote pid=769313)\u001b[0m a : α\n",
      "\u001b[36m(compute_provability_training_data_remote pid=769313)\u001b[0m inst✝ : SupHomClass F β α\n",
      "\u001b[36m(compute_provability_training_data_remote pid=769313)\u001b[0m hs : SupClosed s\n",
      "\u001b[36m(compute_provability_training_data_remote pid=769313)\u001b[0m f : F\n",
      "\u001b[36m(compute_provability_training_data_remote pid=769313)\u001b[0m ⊢ SupClosed (⇑f ⁻¹' s)\n",
      "\u001b[36m(compute_provability_training_data_remote pid=769313)\u001b[0m {'F': 'type', 'α': 'type', 'β': 'type', 's': 'set', 'a': 'variable', 'hs': 'unknown', 'f': 'variable'}\n",
      "\u001b[36m(compute_provability_training_data_remote pid=769313)\u001b[0m ProofFinished\n",
      "\u001b[36m(compute_provability_training_data_remote pid=769313)\u001b[0m 10000 steps executed\n",
      "\u001b[36m(compute_provability_training_data_remote pid=769313)\u001b[0m 20000 steps executed\n",
      "\u001b[36m(compute_provability_training_data_remote pid=769313)\u001b[0m 30000 steps executed\n",
      "\u001b[36m(compute_provability_training_data_remote pid=769313)\u001b[0m 40000 steps executed\n",
      "\u001b[36m(compute_provability_training_data_remote pid=769313)\u001b[0m 50000 steps executed\n",
      "\u001b[36m(compute_provability_training_data_remote pid=769313)\u001b[0m 1423 states in total\n",
      "\u001b[36m(compute_provability_training_data_remote pid=769313)\u001b[0m 149 proven states\n",
      "\u001b[36m(compute_provability_training_data_remote pid=769313)\u001b[0m 1780 state pairs found in SupClosed.preimage .lake/packages/mathlib/Mathlib/Order/SupClosed.lean\n"
     ]
    },
    {
     "name": "stderr",
     "output_type": "stream",
     "text": [
      "\u001b[36m(compute_provability_training_data_remote pid=769313)\u001b[0m 2024-06-05 06:31:45.832 | WARNING  | lean_dojo.interaction.dojo:__init__:162 - Using Lean 4 without a hard timeout may hang indefinitely.\n"
     ]
    },
    {
     "name": "stdout",
     "output_type": "stream",
     "text": [
      "\u001b[36m(compute_provability_training_data_remote pid=769313)\u001b[0m Loading Theorem: SupClosed.image lemma SupClosed.image [SupHomClass F α β] (hs : SupClosed s) (f : F) : SupClosed (f '' s) := by\n",
      "\u001b[36m(compute_provability_training_data_remote pid=769313)\u001b[0m   rintro _ ⟨a, ha, rfl⟩ _ ⟨b, hb, rfl⟩\n",
      "\u001b[36m(compute_provability_training_data_remote pid=769313)\u001b[0m   rw [← map_sup]\n",
      "\u001b[36m(compute_provability_training_data_remote pid=769313)\u001b[0m   exact Set.mem_image_of_mem _ <| hs ha hb\n",
      "\u001b[36m(compute_provability_training_data_remote pid=769313)\u001b[0m Done\n",
      "\u001b[36m(compute_provability_training_data_remote pid=769313)\u001b[0m Sucessfully followed proof\n",
      "\u001b[36m(compute_provability_training_data_remote pid=769313)\u001b[0m INIT_STATE: F : Type u_1\n",
      "\u001b[36m(compute_provability_training_data_remote pid=769313)\u001b[0m α : Type u_2\n",
      "\u001b[36m(compute_provability_training_data_remote pid=769313)\u001b[0m β : Type u_3\n",
      "\u001b[36m(compute_provability_training_data_remote pid=769313)\u001b[0m inst✝² : SemilatticeSup α\n",
      "\u001b[36m(compute_provability_training_data_remote pid=769313)\u001b[0m inst✝¹ : SemilatticeSup β\n",
      "\u001b[36m(compute_provability_training_data_remote pid=769313)\u001b[0m ι : Sort u_4\n",
      "\u001b[36m(compute_provability_training_data_remote pid=769313)\u001b[0m S : Set (Set α)\n",
      "\u001b[36m(compute_provability_training_data_remote pid=769313)\u001b[0m f✝ : ι → Set α\n",
      "\u001b[36m(compute_provability_training_data_remote pid=769313)\u001b[0m s t : Set α\n",
      "\u001b[36m(compute_provability_training_data_remote pid=769313)\u001b[0m a : α\n",
      "\u001b[36m(compute_provability_training_data_remote pid=769313)\u001b[0m inst✝ : SupHomClass F α β\n",
      "\u001b[36m(compute_provability_training_data_remote pid=769313)\u001b[0m hs : SupClosed s\n",
      "\u001b[36m(compute_provability_training_data_remote pid=769313)\u001b[0m f : F\n",
      "\u001b[36m(compute_provability_training_data_remote pid=769313)\u001b[0m ⊢ SupClosed (⇑f '' s)\n",
      "\u001b[36m(compute_provability_training_data_remote pid=769313)\u001b[0m {'F': 'type', 'α': 'type', 'β': 'type', 's': 'set', 'a': 'variable', 'hs': 'unknown', 'f': 'variable'}\n",
      "\u001b[36m(compute_provability_training_data_remote pid=769313)\u001b[0m ProofFinished\n",
      "\u001b[36m(compute_provability_training_data_remote pid=769313)\u001b[0m 10000 steps executed\n",
      "\u001b[36m(compute_provability_training_data_remote pid=769313)\u001b[0m 20000 steps executed\n",
      "\u001b[36m(compute_provability_training_data_remote pid=769313)\u001b[0m 30000 steps executed\n",
      "\u001b[36m(compute_provability_training_data_remote pid=769313)\u001b[0m 40000 steps executed\n",
      "\u001b[36m(compute_provability_training_data_remote pid=769313)\u001b[0m 50000 steps executed\n"
     ]
    },
    {
     "name": "stderr",
     "output_type": "stream",
     "text": [
      "\u001b[36m(compute_provability_training_data_remote pid=769313)\u001b[0m 2024-06-05 06:35:25.531 | WARNING  | lean_dojo.interaction.dojo:__init__:162 - Using Lean 4 without a hard timeout may hang indefinitely.\n"
     ]
    },
    {
     "name": "stdout",
     "output_type": "stream",
     "text": [
      "\u001b[36m(compute_provability_training_data_remote pid=769313)\u001b[0m 1299 states in total\n",
      "\u001b[36m(compute_provability_training_data_remote pid=769313)\u001b[0m 67 proven states\n",
      "\u001b[36m(compute_provability_training_data_remote pid=769313)\u001b[0m 488 state pairs found in SupClosed.image .lake/packages/mathlib/Mathlib/Order/SupClosed.lean\n",
      "\u001b[36m(compute_provability_training_data_remote pid=769313)\u001b[0m Loading Theorem: supClosed_range lemma supClosed_range [SupHomClass F α β] (f : F) : SupClosed (Set.range f) := by\n",
      "\u001b[36m(compute_provability_training_data_remote pid=769313)\u001b[0m   simpa using supClosed_univ.image f\n",
      "\u001b[36m(compute_provability_training_data_remote pid=769313)\u001b[0m Done\n",
      "\u001b[36m(compute_provability_training_data_remote pid=769313)\u001b[0m Sucessfully followed proof\n",
      "\u001b[36m(compute_provability_training_data_remote pid=769313)\u001b[0m INIT_STATE: F : Type u_1\n",
      "\u001b[36m(compute_provability_training_data_remote pid=769313)\u001b[0m α : Type u_2\n",
      "\u001b[36m(compute_provability_training_data_remote pid=769313)\u001b[0m β : Type u_3\n",
      "\u001b[36m(compute_provability_training_data_remote pid=769313)\u001b[0m inst✝² : SemilatticeSup α\n",
      "\u001b[36m(compute_provability_training_data_remote pid=769313)\u001b[0m inst✝¹ : SemilatticeSup β\n",
      "\u001b[36m(compute_provability_training_data_remote pid=769313)\u001b[0m ι : Sort u_4\n",
      "\u001b[36m(compute_provability_training_data_remote pid=769313)\u001b[0m S : Set (Set α)\n",
      "\u001b[36m(compute_provability_training_data_remote pid=769313)\u001b[0m f✝ : ι → Set α\n",
      "\u001b[36m(compute_provability_training_data_remote pid=769313)\u001b[0m s t : Set α\n",
      "\u001b[36m(compute_provability_training_data_remote pid=769313)\u001b[0m a : α\n",
      "\u001b[36m(compute_provability_training_data_remote pid=769313)\u001b[0m inst✝ : SupHomClass F α β\n",
      "\u001b[36m(compute_provability_training_data_remote pid=769313)\u001b[0m f : F\n",
      "\u001b[36m(compute_provability_training_data_remote pid=769313)\u001b[0m ⊢ SupClosed (range ⇑f)\n",
      "\u001b[36m(compute_provability_training_data_remote pid=769313)\u001b[0m {'F': 'type', 'α': 'type', 'β': 'type', 'f': 'variable'}\n",
      "\u001b[36m(compute_provability_training_data_remote pid=769313)\u001b[0m ProofFinished\n",
      "\u001b[36m(compute_provability_training_data_remote pid=769313)\u001b[0m 10000 steps executed\n",
      "\u001b[36m(compute_provability_training_data_remote pid=769313)\u001b[0m 20000 steps executed\n",
      "\u001b[36m(compute_provability_training_data_remote pid=769313)\u001b[0m 30000 steps executed\n",
      "\u001b[36m(compute_provability_training_data_remote pid=769313)\u001b[0m 40000 steps executed\n",
      "\u001b[36m(compute_provability_training_data_remote pid=769313)\u001b[0m 50000 steps executed\n"
     ]
    },
    {
     "name": "stderr",
     "output_type": "stream",
     "text": [
      "\u001b[36m(compute_provability_training_data_remote pid=769313)\u001b[0m 2024-06-05 06:38:11.391 | WARNING  | lean_dojo.interaction.dojo:__init__:162 - Using Lean 4 without a hard timeout may hang indefinitely.\n"
     ]
    },
    {
     "name": "stdout",
     "output_type": "stream",
     "text": [
      "\u001b[36m(compute_provability_training_data_remote pid=769313)\u001b[0m 4027 states in total\n",
      "\u001b[36m(compute_provability_training_data_remote pid=769313)\u001b[0m 4 proven states\n",
      "\u001b[36m(compute_provability_training_data_remote pid=769313)\u001b[0m 26 state pairs found in supClosed_range .lake/packages/mathlib/Mathlib/Order/SupClosed.lean\n",
      "\u001b[36m(compute_provability_training_data_remote pid=769313)\u001b[0m Loading Theorem: InfClosed.preimage lemma InfClosed.preimage [InfHomClass F β α] (hs : InfClosed s) (f : F) : InfClosed (f ⁻¹' s) :=\n",
      "\u001b[36m(compute_provability_training_data_remote pid=769313)\u001b[0m   fun a ha b hb ↦ by simpa [map_inf] using hs ha hb\n",
      "\u001b[36m(compute_provability_training_data_remote pid=769313)\u001b[0m Done\n",
      "\u001b[36m(compute_provability_training_data_remote pid=769313)\u001b[0m INIT_STATE: F : Type u_1\n",
      "\u001b[36m(compute_provability_training_data_remote pid=769313)\u001b[0m α : Type u_2\n",
      "\u001b[36m(compute_provability_training_data_remote pid=769313)\u001b[0m β : Type u_3\n",
      "\u001b[36m(compute_provability_training_data_remote pid=769313)\u001b[0m inst✝² : SemilatticeInf α\n",
      "\u001b[36m(compute_provability_training_data_remote pid=769313)\u001b[0m inst✝¹ : SemilatticeInf β\n",
      "\u001b[36m(compute_provability_training_data_remote pid=769313)\u001b[0m ι : Sort u_4\n",
      "\u001b[36m(compute_provability_training_data_remote pid=769313)\u001b[0m S : Set (Set α)\n",
      "\u001b[36m(compute_provability_training_data_remote pid=769313)\u001b[0m f✝ : ι → Set α\n",
      "\u001b[36m(compute_provability_training_data_remote pid=769313)\u001b[0m s t : Set α\n",
      "\u001b[36m(compute_provability_training_data_remote pid=769313)\u001b[0m a : α\n",
      "\u001b[36m(compute_provability_training_data_remote pid=769313)\u001b[0m inst✝ : InfHomClass F β α\n",
      "\u001b[36m(compute_provability_training_data_remote pid=769313)\u001b[0m hs : InfClosed s\n",
      "\u001b[36m(compute_provability_training_data_remote pid=769313)\u001b[0m f : F\n",
      "\u001b[36m(compute_provability_training_data_remote pid=769313)\u001b[0m ⊢ InfClosed (⇑f ⁻¹' s)\n",
      "\u001b[36m(compute_provability_training_data_remote pid=769313)\u001b[0m {'F': 'type', 'α': 'type', 'β': 'type', 's': 'set', 'a': 'variable', 'hs': 'unknown', 'f': 'variable'}\n",
      "\u001b[36m(compute_provability_training_data_remote pid=769313)\u001b[0m ProofFinished\n",
      "\u001b[36m(compute_provability_training_data_remote pid=769313)\u001b[0m 10000 steps executed\n",
      "\u001b[36m(compute_provability_training_data_remote pid=769313)\u001b[0m 20000 steps executed\n",
      "\u001b[36m(compute_provability_training_data_remote pid=769313)\u001b[0m 30000 steps executed\n",
      "\u001b[36m(compute_provability_training_data_remote pid=769313)\u001b[0m 40000 steps executed\n",
      "\u001b[36m(compute_provability_training_data_remote pid=769313)\u001b[0m 50000 steps executed\n",
      "\u001b[36m(compute_provability_training_data_remote pid=769313)\u001b[0m 1133 states in total\n",
      "\u001b[36m(compute_provability_training_data_remote pid=769313)\u001b[0m 152 proven states\n",
      "\u001b[36m(compute_provability_training_data_remote pid=769313)\u001b[0m 1799 state pairs found in InfClosed.preimage .lake/packages/mathlib/Mathlib/Order/SupClosed.lean\n",
      "\u001b[36m(compute_provability_training_data_remote pid=769313)\u001b[0m Loading Theorem: InfClosed.image lemma InfClosed.image [InfHomClass F α β] (hs : InfClosed s) (f : F) : InfClosed (f '' s) := by\n",
      "\u001b[36m(compute_provability_training_data_remote pid=769313)\u001b[0m   rintro _ ⟨a, ha, rfl⟩ _ ⟨b, hb, rfl⟩\n",
      "\u001b[36m(compute_provability_training_data_remote pid=769313)\u001b[0m   rw [← map_inf]\n",
      "\u001b[36m(compute_provability_training_data_remote pid=769313)\u001b[0m   exact Set.mem_image_of_mem _ <| hs ha hb\n",
      "\u001b[36m(compute_provability_training_data_remote pid=769313)\u001b[0m Done\n"
     ]
    },
    {
     "name": "stderr",
     "output_type": "stream",
     "text": [
      "\u001b[36m(compute_provability_training_data_remote pid=769313)\u001b[0m 2024-06-05 06:40:02.133 | WARNING  | lean_dojo.interaction.dojo:__init__:162 - Using Lean 4 without a hard timeout may hang indefinitely.\n"
     ]
    },
    {
     "name": "stdout",
     "output_type": "stream",
     "text": [
      "\u001b[36m(compute_provability_training_data_remote pid=769313)\u001b[0m Sucessfully followed proof\n",
      "\u001b[36m(compute_provability_training_data_remote pid=769313)\u001b[0m INIT_STATE: F : Type u_1\n",
      "\u001b[36m(compute_provability_training_data_remote pid=769313)\u001b[0m α : Type u_2\n",
      "\u001b[36m(compute_provability_training_data_remote pid=769313)\u001b[0m β : Type u_3\n",
      "\u001b[36m(compute_provability_training_data_remote pid=769313)\u001b[0m inst✝² : SemilatticeInf α\n",
      "\u001b[36m(compute_provability_training_data_remote pid=769313)\u001b[0m inst✝¹ : SemilatticeInf β\n",
      "\u001b[36m(compute_provability_training_data_remote pid=769313)\u001b[0m ι : Sort u_4\n",
      "\u001b[36m(compute_provability_training_data_remote pid=769313)\u001b[0m S : Set (Set α)\n",
      "\u001b[36m(compute_provability_training_data_remote pid=769313)\u001b[0m f✝ : ι → Set α\n",
      "\u001b[36m(compute_provability_training_data_remote pid=769313)\u001b[0m s t : Set α\n",
      "\u001b[36m(compute_provability_training_data_remote pid=769313)\u001b[0m a : α\n",
      "\u001b[36m(compute_provability_training_data_remote pid=769313)\u001b[0m inst✝ : InfHomClass F α β\n",
      "\u001b[36m(compute_provability_training_data_remote pid=769313)\u001b[0m hs : InfClosed s\n",
      "\u001b[36m(compute_provability_training_data_remote pid=769313)\u001b[0m f : F\n",
      "\u001b[36m(compute_provability_training_data_remote pid=769313)\u001b[0m ⊢ InfClosed (⇑f '' s)\n",
      "\u001b[36m(compute_provability_training_data_remote pid=769313)\u001b[0m {'F': 'type', 'α': 'type', 'β': 'type', 's': 'set', 'a': 'variable', 'hs': 'unknown', 'f': 'variable'}\n",
      "\u001b[36m(compute_provability_training_data_remote pid=769313)\u001b[0m ProofFinished\n",
      "\u001b[36m(compute_provability_training_data_remote pid=769313)\u001b[0m 10000 steps executed\n",
      "\u001b[36m(compute_provability_training_data_remote pid=769313)\u001b[0m 20000 steps executed\n",
      "\u001b[36m(compute_provability_training_data_remote pid=769313)\u001b[0m 30000 steps executed\n",
      "\u001b[36m(compute_provability_training_data_remote pid=769313)\u001b[0m 40000 steps executed\n",
      "\u001b[36m(compute_provability_training_data_remote pid=769313)\u001b[0m 50000 steps executed\n",
      "\u001b[36m(compute_provability_training_data_remote pid=769313)\u001b[0m 1172 states in total\n",
      "\u001b[36m(compute_provability_training_data_remote pid=769313)\u001b[0m 54 proven states\n",
      "\u001b[36m(compute_provability_training_data_remote pid=769313)\u001b[0m 380 state pairs found in InfClosed.image .lake/packages/mathlib/Mathlib/Order/SupClosed.lean\n",
      "\u001b[36m(compute_provability_training_data_remote pid=769921)\u001b[0m Worker 13 on .lake/packages/mathlib/Mathlib/Analysis/NormedSpace/IndicatorFunction.lean\n",
      "\u001b[36m(compute_provability_training_data_remote pid=769921)\u001b[0m nvcc: NVIDIA (R) Cuda compiler driver\n",
      "\u001b[36m(compute_provability_training_data_remote pid=769921)\u001b[0m Copyright (c) 2005-2023 NVIDIA Corporation\n",
      "\u001b[36m(compute_provability_training_data_remote pid=769921)\u001b[0m Built on Tue_Jun_13_19:16:58_PDT_2023\n",
      "\u001b[36m(compute_provability_training_data_remote pid=769921)\u001b[0m Cuda compilation tools, release 12.2, V12.2.91\n",
      "\u001b[36m(compute_provability_training_data_remote pid=769921)\u001b[0m Build cuda_12.2.r12.2/compiler.32965470_0\n",
      "\u001b[36m(compute_provability_training_data_remote pid=769921)\u001b[0m \n",
      "\u001b[36m(compute_provability_training_data_remote pid=769921)\u001b[0m CUDA: True\n",
      "\u001b[36m(compute_provability_training_data_remote pid=769921)\u001b[0m os.environ['LD_LIBRARY_PATH'] /usr/local/cuda-12.2/lib64:\n",
      "\u001b[36m(compute_provability_training_data_remote pid=769921)\u001b[0m Worker 13 Loading repo...\n",
      "\u001b[36m(compute_provability_training_data_remote pid=769921)\u001b[0m Worker 13 Done.\n",
      "\u001b[36m(compute_provability_training_data_remote pid=769921)\u001b[0m Worker 13 Loading models...\n",
      "\u001b[36m(compute_provability_training_data_remote pid=769921)\u001b[0m cuda:0\n",
      "\u001b[36m(compute_provability_training_data_remote pid=769921)\u001b[0m Worker 13 Loading faiss index ...\n",
      "\u001b[36m(compute_provability_training_data_remote pid=769921)\u001b[0m Worker 13 Computing provability ...\n",
      "\u001b[36m(compute_provability_training_data_remote pid=769921)\u001b[0m Loading Theorem: norm_indicator_le_of_subset theorem norm_indicator_le_of_subset (h : s ⊆ t) (f : α → E) (a : α) :\n",
      "\u001b[36m(compute_provability_training_data_remote pid=769921)\u001b[0m     ‖indicator s f a‖ ≤ ‖indicator t f a‖\n",
      "\u001b[36m(compute_provability_training_data_remote pid=769921)\u001b[0m Done\n"
     ]
    },
    {
     "name": "stderr",
     "output_type": "stream",
     "text": [
      "\u001b[36m(compute_provability_training_data_remote pid=769921)\u001b[0m 2024-06-05 06:44:14.280 | WARNING  | lean_dojo.interaction.dojo:__init__:162 - Using Lean 4 without a hard timeout may hang indefinitely.\n"
     ]
    },
    {
     "name": "stdout",
     "output_type": "stream",
     "text": [
      "\u001b[36m(compute_provability_training_data_remote pid=769921)\u001b[0m Sucessfully followed proof\n",
      "\u001b[36m(compute_provability_training_data_remote pid=769921)\u001b[0m INIT_STATE: α : Type u_1\n",
      "\u001b[36m(compute_provability_training_data_remote pid=769921)\u001b[0m E : Type u_2\n",
      "\u001b[36m(compute_provability_training_data_remote pid=769921)\u001b[0m inst✝ : SeminormedAddCommGroup E\n",
      "\u001b[36m(compute_provability_training_data_remote pid=769921)\u001b[0m s t : Set α\n",
      "\u001b[36m(compute_provability_training_data_remote pid=769921)\u001b[0m f✝ : α → E\n",
      "\u001b[36m(compute_provability_training_data_remote pid=769921)\u001b[0m a✝ : α\n",
      "\u001b[36m(compute_provability_training_data_remote pid=769921)\u001b[0m h : s ⊆ t\n",
      "\u001b[36m(compute_provability_training_data_remote pid=769921)\u001b[0m f : α → E\n",
      "\u001b[36m(compute_provability_training_data_remote pid=769921)\u001b[0m a : α\n",
      "\u001b[36m(compute_provability_training_data_remote pid=769921)\u001b[0m ⊢ ‖indicator s f a‖ ≤ ‖indicator t f a‖\n",
      "\u001b[36m(compute_provability_training_data_remote pid=769921)\u001b[0m {'α': 'type', 'E': 'type', 's': 'set', 't': 'set', 'h': 'unknown', 'f': 'function', 'a': 'variable'}\n",
      "\u001b[36m(compute_provability_training_data_remote pid=769921)\u001b[0m ProofFinished\n",
      "\u001b[36m(compute_provability_training_data_remote pid=769921)\u001b[0m 10000 steps executed\n",
      "\u001b[36m(compute_provability_training_data_remote pid=769921)\u001b[0m 20000 steps executed\n",
      "\u001b[36m(compute_provability_training_data_remote pid=769921)\u001b[0m 30000 steps executed\n",
      "\u001b[36m(compute_provability_training_data_remote pid=769921)\u001b[0m 40000 steps executed\n",
      "\u001b[36m(compute_provability_training_data_remote pid=769921)\u001b[0m 50000 steps executed\n",
      "\u001b[36m(compute_provability_training_data_remote pid=769921)\u001b[0m 1595 states in total\n",
      "\u001b[36m(compute_provability_training_data_remote pid=769921)\u001b[0m 46 proven states\n",
      "\u001b[36m(compute_provability_training_data_remote pid=769921)\u001b[0m 1474 state pairs found in norm_indicator_le_of_subset .lake/packages/mathlib/Mathlib/Analysis/NormedSpace/IndicatorFunction.lean\n"
     ]
    },
    {
     "name": "stderr",
     "output_type": "stream",
     "text": [
      "\u001b[36m(compute_provability_training_data_remote pid=769921)\u001b[0m 2024-06-05 06:47:00.737 | WARNING  | lean_dojo.interaction.dojo:__init__:162 - Using Lean 4 without a hard timeout may hang indefinitely.\n"
     ]
    },
    {
     "name": "stdout",
     "output_type": "stream",
     "text": [
      "\u001b[36m(compute_provability_training_data_remote pid=769921)\u001b[0m Loading Theorem: norm_indicator_le_norm_self theorem norm_indicator_le_norm_self : ‖indicator s f a‖ ≤ ‖f a‖\n",
      "\u001b[36m(compute_provability_training_data_remote pid=769921)\u001b[0m Done\n",
      "\u001b[36m(compute_provability_training_data_remote pid=769921)\u001b[0m Sucessfully followed proof\n",
      "\u001b[36m(compute_provability_training_data_remote pid=769921)\u001b[0m INIT_STATE: α : Type u_1\n",
      "\u001b[36m(compute_provability_training_data_remote pid=769921)\u001b[0m E : Type u_2\n",
      "\u001b[36m(compute_provability_training_data_remote pid=769921)\u001b[0m inst✝ : SeminormedAddCommGroup E\n",
      "\u001b[36m(compute_provability_training_data_remote pid=769921)\u001b[0m s t : Set α\n",
      "\u001b[36m(compute_provability_training_data_remote pid=769921)\u001b[0m f : α → E\n",
      "\u001b[36m(compute_provability_training_data_remote pid=769921)\u001b[0m a : α\n",
      "\u001b[36m(compute_provability_training_data_remote pid=769921)\u001b[0m ⊢ ‖indicator s f a‖ ≤ ‖f a‖\n",
      "\u001b[36m(compute_provability_training_data_remote pid=769921)\u001b[0m {'s': 'set', 'f': 'function', 'a': 'variable'}\n",
      "\u001b[36m(compute_provability_training_data_remote pid=769921)\u001b[0m ProofFinished\n",
      "\u001b[36m(compute_provability_training_data_remote pid=769921)\u001b[0m 10000 steps executed\n",
      "\u001b[36m(compute_provability_training_data_remote pid=769921)\u001b[0m 20000 steps executed\n",
      "\u001b[36m(compute_provability_training_data_remote pid=769921)\u001b[0m 30000 steps executed\n",
      "\u001b[36m(compute_provability_training_data_remote pid=769921)\u001b[0m 40000 steps executed\n",
      "\u001b[36m(compute_provability_training_data_remote pid=769921)\u001b[0m 50000 steps executed\n",
      "\u001b[36m(compute_provability_training_data_remote pid=769921)\u001b[0m 1664 states in total\n",
      "\u001b[36m(compute_provability_training_data_remote pid=769921)\u001b[0m 378 proven states\n",
      "\u001b[36m(compute_provability_training_data_remote pid=769921)\u001b[0m 8681 state pairs found in norm_indicator_le_norm_self .lake/packages/mathlib/Mathlib/Analysis/NormedSpace/IndicatorFunction.lean\n",
      "\u001b[36m(compute_provability_training_data_remote pid=770383)\u001b[0m Worker 36 on .lake/packages/mathlib/Mathlib/Analysis/Calculus/InverseFunctionTheorem/ApproximatesLinearOn.lean\n",
      "\u001b[36m(compute_provability_training_data_remote pid=770383)\u001b[0m nvcc: NVIDIA (R) Cuda compiler driver\n",
      "\u001b[36m(compute_provability_training_data_remote pid=770383)\u001b[0m Copyright (c) 2005-2023 NVIDIA Corporation\n",
      "\u001b[36m(compute_provability_training_data_remote pid=770383)\u001b[0m Built on Tue_Jun_13_19:16:58_PDT_2023\n",
      "\u001b[36m(compute_provability_training_data_remote pid=770383)\u001b[0m Cuda compilation tools, release 12.2, V12.2.91\n",
      "\u001b[36m(compute_provability_training_data_remote pid=770383)\u001b[0m Build cuda_12.2.r12.2/compiler.32965470_0\n",
      "\u001b[36m(compute_provability_training_data_remote pid=770383)\u001b[0m \n",
      "\u001b[36m(compute_provability_training_data_remote pid=770383)\u001b[0m CUDA: True\n",
      "\u001b[36m(compute_provability_training_data_remote pid=770383)\u001b[0m os.environ['LD_LIBRARY_PATH'] /usr/local/cuda-12.2/lib64:\n",
      "\u001b[36m(compute_provability_training_data_remote pid=770383)\u001b[0m Worker 36 Loading repo...\n",
      "\u001b[36m(compute_provability_training_data_remote pid=770383)\u001b[0m Worker 36 Done.\n",
      "\u001b[36m(compute_provability_training_data_remote pid=770383)\u001b[0m Worker 36 Loading models...\n",
      "\u001b[36m(compute_provability_training_data_remote pid=770383)\u001b[0m cuda:0\n",
      "\u001b[36m(compute_provability_training_data_remote pid=770383)\u001b[0m Worker 36 Loading faiss index ...\n",
      "\u001b[36m(compute_provability_training_data_remote pid=770383)\u001b[0m Worker 36 Computing provability ...\n",
      "\u001b[36m(compute_provability_training_data_remote pid=770383)\u001b[0m Loading Theorem: ApproximatesLinearOn.approximatesLinearOn_iff_lipschitzOnWith theorem approximatesLinearOn_iff_lipschitzOnWith {f : E → F} {f' : E →L[𝕜] F} {s : Set E}\n",
      "\u001b[36m(compute_provability_training_data_remote pid=770383)\u001b[0m     {c : ℝ≥0} : ApproximatesLinearOn f f' s c ↔ LipschitzOnWith c (f - ⇑f') s\n",
      "\u001b[36m(compute_provability_training_data_remote pid=770383)\u001b[0m Done\n"
     ]
    },
    {
     "name": "stderr",
     "output_type": "stream",
     "text": [
      "\u001b[36m(compute_provability_training_data_remote pid=770383)\u001b[0m 2024-06-05 06:50:26.599 | WARNING  | lean_dojo.interaction.dojo:__init__:162 - Using Lean 4 without a hard timeout may hang indefinitely.\n"
     ]
    },
    {
     "name": "stdout",
     "output_type": "stream",
     "text": [
      "\u001b[36m(compute_provability_training_data_remote pid=770383)\u001b[0m Sucessfully followed proof\n",
      "\u001b[36m(compute_provability_training_data_remote pid=770383)\u001b[0m INIT_STATE: 𝕜 : Type u_1\n",
      "\u001b[36m(compute_provability_training_data_remote pid=770383)\u001b[0m inst✝⁹ : NontriviallyNormedField 𝕜\n",
      "\u001b[36m(compute_provability_training_data_remote pid=770383)\u001b[0m E : Type u_2\n",
      "\u001b[36m(compute_provability_training_data_remote pid=770383)\u001b[0m inst✝⁸ : NormedAddCommGroup E\n",
      "\u001b[36m(compute_provability_training_data_remote pid=770383)\u001b[0m inst✝⁷ : NormedSpace 𝕜 E\n",
      "\u001b[36m(compute_provability_training_data_remote pid=770383)\u001b[0m F : Type u_3\n",
      "\u001b[36m(compute_provability_training_data_remote pid=770383)\u001b[0m inst✝⁶ : NormedAddCommGroup F\n",
      "\u001b[36m(compute_provability_training_data_remote pid=770383)\u001b[0m inst✝⁵ : NormedSpace 𝕜 F\n",
      "\u001b[36m(compute_provability_training_data_remote pid=770383)\u001b[0m G : Type u_4\n",
      "\u001b[36m(compute_provability_training_data_remote pid=770383)\u001b[0m inst✝⁴ : NormedAddCommGroup G\n",
      "\u001b[36m(compute_provability_training_data_remote pid=770383)\u001b[0m inst✝³ : NormedSpace 𝕜 G\n",
      "\u001b[36m(compute_provability_training_data_remote pid=770383)\u001b[0m G' : Type u_5\n",
      "\u001b[36m(compute_provability_training_data_remote pid=770383)\u001b[0m inst✝² : NormedAddCommGroup G'\n",
      "\u001b[36m(compute_provability_training_data_remote pid=770383)\u001b[0m inst✝¹ : NormedSpace 𝕜 G'\n",
      "\u001b[36m(compute_provability_training_data_remote pid=770383)\u001b[0m ε : ℝ\n",
      "\u001b[36m(compute_provability_training_data_remote pid=770383)\u001b[0m inst✝ : CompleteSpace E\n",
      "\u001b[36m(compute_provability_training_data_remote pid=770383)\u001b[0m f✝ : E → F\n",
      "\u001b[36m(compute_provability_training_data_remote pid=770383)\u001b[0m f'✝ : E →L[𝕜] F\n",
      "\u001b[36m(compute_provability_training_data_remote pid=770383)\u001b[0m s✝ t : Set E\n",
      "\u001b[36m(compute_provability_training_data_remote pid=770383)\u001b[0m c✝ c' : ℝ≥0\n",
      "\u001b[36m(compute_provability_training_data_remote pid=770383)\u001b[0m f : E → F\n",
      "\u001b[36m(compute_provability_training_data_remote pid=770383)\u001b[0m f' : E →L[𝕜] F\n",
      "\u001b[36m(compute_provability_training_data_remote pid=770383)\u001b[0m s : Set E\n",
      "\u001b[36m(compute_provability_training_data_remote pid=770383)\u001b[0m c : ℝ≥0\n",
      "\u001b[36m(compute_provability_training_data_remote pid=770383)\u001b[0m ⊢ ApproximatesLinearOn f f' s c ↔ LipschitzOnWith c (f - ⇑f') s\n",
      "\u001b[36m(compute_provability_training_data_remote pid=770383)\u001b[0m {'𝕜': 'type', 'E': 'type', 'F': 'type', 'f': 'function', \"f'\": 'function', 's': 'set', 'c': 'unknown'}\n",
      "\u001b[36m(compute_provability_training_data_remote pid=770566)\u001b[0m Worker 45 on .lake/packages/mathlib/Mathlib/Analysis/Normed/Group/InfiniteSum.lean\n",
      "\u001b[36m(compute_provability_training_data_remote pid=770566)\u001b[0m nvcc: NVIDIA (R) Cuda compiler driver\n",
      "\u001b[36m(compute_provability_training_data_remote pid=770566)\u001b[0m Copyright (c) 2005-2023 NVIDIA Corporation\n",
      "\u001b[36m(compute_provability_training_data_remote pid=770566)\u001b[0m Built on Tue_Jun_13_19:16:58_PDT_2023\n",
      "\u001b[36m(compute_provability_training_data_remote pid=770566)\u001b[0m Cuda compilation tools, release 12.2, V12.2.91\n",
      "\u001b[36m(compute_provability_training_data_remote pid=770566)\u001b[0m Build cuda_12.2.r12.2/compiler.32965470_0\n",
      "\u001b[36m(compute_provability_training_data_remote pid=770566)\u001b[0m \n",
      "\u001b[36m(compute_provability_training_data_remote pid=770566)\u001b[0m CUDA: True\n",
      "\u001b[36m(compute_provability_training_data_remote pid=770566)\u001b[0m os.environ['LD_LIBRARY_PATH'] /usr/local/cuda-12.2/lib64:\n",
      "\u001b[36m(compute_provability_training_data_remote pid=770566)\u001b[0m Worker 45 Loading repo...\n"
     ]
    },
    {
     "name": "stderr",
     "output_type": "stream",
     "text": [
      "\u001b[33m(raylet)\u001b[0m [2024-06-05 06:58:59,349 E 759972 759972] (raylet) node_manager.cc:3002: 1 Workers (tasks / actors) killed due to memory pressure (OOM), 0 Workers crashed due to other reasons at node (ID: 671926fa8dfb06c61c26e948eac3754d1d9aea95f8777762687b280c, IP: 192.168.0.192) over the last time period. To see more information about the Workers killed on this node, use `ray logs raylet.out -ip 192.168.0.192`\n",
      "\u001b[33m(raylet)\u001b[0m \n",
      "\u001b[33m(raylet)\u001b[0m Refer to the documentation on how to address the out of memory issue: https://docs.ray.io/en/latest/ray-core/scheduling/ray-oom-prevention.html. Consider provisioning more memory on this node or reducing task parallelism by requesting more CPUs per task. To adjust the kill threshold, set the environment variable `RAY_memory_usage_threshold` when starting Ray. To disable worker killing, set the environment variable `RAY_memory_monitor_refresh_ms` to zero.\n"
     ]
    },
    {
     "name": "stdout",
     "output_type": "stream",
     "text": [
      "\u001b[36m(compute_provability_training_data_remote pid=770566)\u001b[0m Worker 45 Done.\n",
      "\u001b[36m(compute_provability_training_data_remote pid=770566)\u001b[0m Worker 45 Loading models...\n",
      "\u001b[36m(compute_provability_training_data_remote pid=770566)\u001b[0m cuda:0\n",
      "\u001b[36m(compute_provability_training_data_remote pid=770566)\u001b[0m Worker 45 Loading faiss index ...\n",
      "\u001b[36m(compute_provability_training_data_remote pid=770566)\u001b[0m Worker 45 Computing provability ...\n",
      "\u001b[36m(compute_provability_training_data_remote pid=770566)\u001b[0m Loading Theorem: cauchySeq_finset_iff_vanishing_norm theorem cauchySeq_finset_iff_vanishing_norm {f : ι → E} :\n",
      "\u001b[36m(compute_provability_training_data_remote pid=770566)\u001b[0m     (CauchySeq fun s : Finset ι => ∑ i in s, f i) ↔\n",
      "\u001b[36m(compute_provability_training_data_remote pid=770566)\u001b[0m       ∀ ε > (0 : ℝ), ∃ s : Finset ι, ∀ t, Disjoint t s → ‖∑ i in t, f i‖ < ε\n",
      "\u001b[36m(compute_provability_training_data_remote pid=770566)\u001b[0m Done\n"
     ]
    },
    {
     "name": "stderr",
     "output_type": "stream",
     "text": [
      "\u001b[36m(compute_provability_training_data_remote pid=770566)\u001b[0m 2024-06-05 06:59:06.343 | WARNING  | lean_dojo.interaction.dojo:__init__:162 - Using Lean 4 without a hard timeout may hang indefinitely.\n"
     ]
    },
    {
     "name": "stdout",
     "output_type": "stream",
     "text": [
      "\u001b[36m(compute_provability_training_data_remote pid=770566)\u001b[0m Sucessfully followed proof\n",
      "\u001b[36m(compute_provability_training_data_remote pid=770566)\u001b[0m INIT_STATE: ι : Type u_1\n",
      "\u001b[36m(compute_provability_training_data_remote pid=770566)\u001b[0m α : Type u_2\n",
      "\u001b[36m(compute_provability_training_data_remote pid=770566)\u001b[0m E : Type u_3\n",
      "\u001b[36m(compute_provability_training_data_remote pid=770566)\u001b[0m F : Type u_4\n",
      "\u001b[36m(compute_provability_training_data_remote pid=770566)\u001b[0m inst✝¹ : SeminormedAddCommGroup E\n",
      "\u001b[36m(compute_provability_training_data_remote pid=770566)\u001b[0m inst✝ : SeminormedAddCommGroup F\n",
      "\u001b[36m(compute_provability_training_data_remote pid=770566)\u001b[0m f : ι → E\n",
      "\u001b[36m(compute_provability_training_data_remote pid=770566)\u001b[0m ⊢ (CauchySeq fun s => ∑ i in s, f i) ↔ ∀ ε > 0, ∃ s, ∀ (t : Finset ι), Disjoint t s → ‖∑ i in t, f i‖ < ε\n",
      "\u001b[36m(compute_provability_training_data_remote pid=770566)\u001b[0m {'ι': 'type', 'E': 'type', 'f': 'function', 'fun': 'function', 's': 'function', '=>': 'function', '∑': 'function', 'i': 'function', 'in': 'function', '↔': 'function', '∀': 'function', 'ε': 'function', '>': 'function', '∃': 'function'}\n",
      "\u001b[36m(compute_provability_training_data_remote pid=770566)\u001b[0m 10000 steps executed\n",
      "\u001b[36m(compute_provability_training_data_remote pid=770566)\u001b[0m 20000 steps executed\n",
      "\u001b[36m(compute_provability_training_data_remote pid=770566)\u001b[0m 30000 steps executed\n",
      "\u001b[36m(compute_provability_training_data_remote pid=770566)\u001b[0m Max run-time exceeded\n",
      "\u001b[36m(compute_provability_training_data_remote pid=770566)\u001b[0m 1238 states in total\n",
      "\u001b[36m(compute_provability_training_data_remote pid=770566)\u001b[0m 1 proven states\n",
      "\u001b[36m(compute_provability_training_data_remote pid=770566)\u001b[0m 10 state pairs found in cauchySeq_finset_iff_vanishing_norm .lake/packages/mathlib/Mathlib/Analysis/Normed/Group/InfiniteSum.lean\n",
      "\u001b[36m(compute_provability_training_data_remote pid=770566)\u001b[0m Loading Theorem: summable_iff_vanishing_norm theorem summable_iff_vanishing_norm [CompleteSpace E] {f : ι → E} :\n",
      "\u001b[36m(compute_provability_training_data_remote pid=770566)\u001b[0m     Summable f ↔ ∀ ε > (0 : ℝ), ∃ s : Finset ι, ∀ t, Disjoint t s → ‖∑ i in t, f i‖ < ε\n",
      "\u001b[36m(compute_provability_training_data_remote pid=770566)\u001b[0m Done\n"
     ]
    },
    {
     "name": "stderr",
     "output_type": "stream",
     "text": [
      "\u001b[36m(compute_provability_training_data_remote pid=770566)\u001b[0m 2024-06-05 07:24:59.192 | WARNING  | lean_dojo.interaction.dojo:__init__:162 - Using Lean 4 without a hard timeout may hang indefinitely.\n"
     ]
    },
    {
     "name": "stdout",
     "output_type": "stream",
     "text": [
      "\u001b[36m(compute_provability_training_data_remote pid=770566)\u001b[0m Sucessfully followed proof\n",
      "\u001b[36m(compute_provability_training_data_remote pid=770566)\u001b[0m INIT_STATE: ι : Type u_1\n",
      "\u001b[36m(compute_provability_training_data_remote pid=770566)\u001b[0m α : Type u_2\n",
      "\u001b[36m(compute_provability_training_data_remote pid=770566)\u001b[0m E : Type u_3\n",
      "\u001b[36m(compute_provability_training_data_remote pid=770566)\u001b[0m F : Type u_4\n",
      "\u001b[36m(compute_provability_training_data_remote pid=770566)\u001b[0m inst✝² : SeminormedAddCommGroup E\n",
      "\u001b[36m(compute_provability_training_data_remote pid=770566)\u001b[0m inst✝¹ : SeminormedAddCommGroup F\n",
      "\u001b[36m(compute_provability_training_data_remote pid=770566)\u001b[0m inst✝ : CompleteSpace E\n",
      "\u001b[36m(compute_provability_training_data_remote pid=770566)\u001b[0m f : ι → E\n",
      "\u001b[36m(compute_provability_training_data_remote pid=770566)\u001b[0m ⊢ Summable f ↔ ∀ ε > 0, ∃ s, ∀ (t : Finset ι), Disjoint t s → ‖∑ i in t, f i‖ < ε\n",
      "\u001b[36m(compute_provability_training_data_remote pid=770566)\u001b[0m {'ι': 'type', 'E': 'type', 'f': 'function', 'Summable': 'function', '↔': 'function', '∀': 'function', 'ε': 'function', '>': 'function', '∃': 'function'}\n",
      "\u001b[36m(compute_provability_training_data_remote pid=770566)\u001b[0m ProofFinished\n",
      "\u001b[36m(compute_provability_training_data_remote pid=770566)\u001b[0m 10000 steps executed\n",
      "\u001b[36m(compute_provability_training_data_remote pid=770566)\u001b[0m 20000 steps executed\n",
      "\u001b[36m(compute_provability_training_data_remote pid=770566)\u001b[0m 30000 steps executed\n",
      "\u001b[36m(compute_provability_training_data_remote pid=770566)\u001b[0m 40000 steps executed\n",
      "\u001b[36m(compute_provability_training_data_remote pid=770566)\u001b[0m 50000 steps executed\n",
      "\u001b[36m(compute_provability_training_data_remote pid=770566)\u001b[0m 1217 states in total\n",
      "\u001b[36m(compute_provability_training_data_remote pid=770566)\u001b[0m 10 proven states\n",
      "\u001b[36m(compute_provability_training_data_remote pid=770566)\u001b[0m 114 state pairs found in summable_iff_vanishing_norm .lake/packages/mathlib/Mathlib/Analysis/Normed/Group/InfiniteSum.lean\n",
      "\u001b[36m(compute_provability_training_data_remote pid=770566)\u001b[0m Loading Theorem: cauchySeq_finset_of_norm_bounded_eventually theorem cauchySeq_finset_of_norm_bounded_eventually {f : ι → E} {g : ι → ℝ} (hg : Summable g)\n",
      "\u001b[36m(compute_provability_training_data_remote pid=770566)\u001b[0m     (h : ∀ᶠ i in cofinite, ‖f i‖ ≤ g i) : CauchySeq fun s => ∑ i in s, f i\n",
      "\u001b[36m(compute_provability_training_data_remote pid=770566)\u001b[0m Done\n"
     ]
    },
    {
     "name": "stderr",
     "output_type": "stream",
     "text": [
      "\u001b[36m(compute_provability_training_data_remote pid=770566)\u001b[0m 2024-06-05 07:31:38.012 | WARNING  | lean_dojo.interaction.dojo:__init__:162 - Using Lean 4 without a hard timeout may hang indefinitely.\n"
     ]
    },
    {
     "name": "stdout",
     "output_type": "stream",
     "text": [
      "\u001b[36m(compute_provability_training_data_remote pid=770566)\u001b[0m Sucessfully followed proof\n",
      "\u001b[36m(compute_provability_training_data_remote pid=770566)\u001b[0m INIT_STATE: ι : Type u_1\n",
      "\u001b[36m(compute_provability_training_data_remote pid=770566)\u001b[0m α : Type u_2\n",
      "\u001b[36m(compute_provability_training_data_remote pid=770566)\u001b[0m E : Type u_3\n",
      "\u001b[36m(compute_provability_training_data_remote pid=770566)\u001b[0m F : Type u_4\n",
      "\u001b[36m(compute_provability_training_data_remote pid=770566)\u001b[0m inst✝¹ : SeminormedAddCommGroup E\n",
      "\u001b[36m(compute_provability_training_data_remote pid=770566)\u001b[0m inst✝ : SeminormedAddCommGroup F\n",
      "\u001b[36m(compute_provability_training_data_remote pid=770566)\u001b[0m f : ι → E\n",
      "\u001b[36m(compute_provability_training_data_remote pid=770566)\u001b[0m g : ι → ℝ\n",
      "\u001b[36m(compute_provability_training_data_remote pid=770566)\u001b[0m hg : Summable g\n",
      "\u001b[36m(compute_provability_training_data_remote pid=770566)\u001b[0m h : ∀ᶠ (i : ι) in cofinite, ‖f i‖ ≤ g i\n",
      "\u001b[36m(compute_provability_training_data_remote pid=770566)\u001b[0m ⊢ CauchySeq fun s => ∑ i in s, f i\n",
      "\u001b[36m(compute_provability_training_data_remote pid=770566)\u001b[0m {'ι': 'type', 'E': 'type', 'f': 'function', 'g': 'function', 'hg': 'unknown', 'h': 'hypothesis'}\n",
      "\u001b[36m(compute_provability_training_data_remote pid=770566)\u001b[0m 10000 steps executed\n",
      "\u001b[36m(compute_provability_training_data_remote pid=770566)\u001b[0m 20000 steps executed\n",
      "\u001b[36m(compute_provability_training_data_remote pid=770566)\u001b[0m 30000 steps executed\n",
      "\u001b[36m(compute_provability_training_data_remote pid=770566)\u001b[0m 40000 steps executed\n",
      "\u001b[36m(compute_provability_training_data_remote pid=770566)\u001b[0m 50000 steps executed\n",
      "\u001b[36m(compute_provability_training_data_remote pid=770566)\u001b[0m 2517 states in total\n",
      "\u001b[36m(compute_provability_training_data_remote pid=770566)\u001b[0m 1 proven states\n",
      "\u001b[36m(compute_provability_training_data_remote pid=770566)\u001b[0m 6 state pairs found in cauchySeq_finset_of_norm_bounded_eventually .lake/packages/mathlib/Mathlib/Analysis/Normed/Group/InfiniteSum.lean\n",
      "\u001b[36m(compute_provability_training_data_remote pid=770566)\u001b[0m Loading Theorem: cauchySeq_range_of_norm_bounded theorem cauchySeq_range_of_norm_bounded {f : ℕ → E} (g : ℕ → ℝ)\n",
      "\u001b[36m(compute_provability_training_data_remote pid=770566)\u001b[0m     (hg : CauchySeq fun n => ∑ i in range n, g i) (hf : ∀ i, ‖f i‖ ≤ g i) :\n",
      "\u001b[36m(compute_provability_training_data_remote pid=770566)\u001b[0m     CauchySeq fun n => ∑ i in range n, f i\n",
      "\u001b[36m(compute_provability_training_data_remote pid=770566)\u001b[0m Done\n"
     ]
    },
    {
     "name": "stderr",
     "output_type": "stream",
     "text": [
      "\u001b[36m(compute_provability_training_data_remote pid=770566)\u001b[0m 2024-06-05 07:43:24.257 | WARNING  | lean_dojo.interaction.dojo:__init__:162 - Using Lean 4 without a hard timeout may hang indefinitely.\n"
     ]
    },
    {
     "name": "stdout",
     "output_type": "stream",
     "text": [
      "\u001b[36m(compute_provability_training_data_remote pid=770566)\u001b[0m Sucessfully followed proof\n",
      "\u001b[36m(compute_provability_training_data_remote pid=770566)\u001b[0m INIT_STATE: ι : Type u_1\n",
      "\u001b[36m(compute_provability_training_data_remote pid=770566)\u001b[0m α : Type u_2\n",
      "\u001b[36m(compute_provability_training_data_remote pid=770566)\u001b[0m E : Type u_3\n",
      "\u001b[36m(compute_provability_training_data_remote pid=770566)\u001b[0m F : Type u_4\n",
      "\u001b[36m(compute_provability_training_data_remote pid=770566)\u001b[0m inst✝¹ : SeminormedAddCommGroup E\n",
      "\u001b[36m(compute_provability_training_data_remote pid=770566)\u001b[0m inst✝ : SeminormedAddCommGroup F\n",
      "\u001b[36m(compute_provability_training_data_remote pid=770566)\u001b[0m f : ℕ → E\n",
      "\u001b[36m(compute_provability_training_data_remote pid=770566)\u001b[0m g : ℕ → ℝ\n",
      "\u001b[36m(compute_provability_training_data_remote pid=770566)\u001b[0m hg : CauchySeq fun n => ∑ i in range n, g i\n",
      "\u001b[36m(compute_provability_training_data_remote pid=770566)\u001b[0m hf : ∀ (i : ℕ), ‖f i‖ ≤ g i\n",
      "\u001b[36m(compute_provability_training_data_remote pid=770566)\u001b[0m ⊢ CauchySeq fun n => ∑ i in range n, f i\n",
      "\u001b[36m(compute_provability_training_data_remote pid=770566)\u001b[0m {'E': 'type', 'f': 'function', 'g': 'function', 'hg': 'function', 'hf': 'hypothesis'}\n",
      "\u001b[36m(compute_provability_training_data_remote pid=770566)\u001b[0m 10000 steps executed\n",
      "\u001b[36m(compute_provability_training_data_remote pid=770566)\u001b[0m 20000 steps executed\n",
      "\u001b[36m(compute_provability_training_data_remote pid=770566)\u001b[0m 30000 steps executed\n",
      "\u001b[36m(compute_provability_training_data_remote pid=770566)\u001b[0m 40000 steps executed\n",
      "\u001b[36m(compute_provability_training_data_remote pid=770566)\u001b[0m 50000 steps executed\n",
      "\u001b[36m(compute_provability_training_data_remote pid=770566)\u001b[0m 1610 states in total\n",
      "\u001b[36m(compute_provability_training_data_remote pid=770566)\u001b[0m 1 proven states\n",
      "\u001b[36m(compute_provability_training_data_remote pid=770566)\u001b[0m 10 state pairs found in cauchySeq_range_of_norm_bounded .lake/packages/mathlib/Mathlib/Analysis/Normed/Group/InfiniteSum.lean\n",
      "\u001b[36m(compute_provability_training_data_remote pid=770566)\u001b[0m Loading Theorem: Summable.of_norm_bounded theorem Summable.of_norm_bounded [CompleteSpace E] {f : ι → E} (g : ι → ℝ) (hg : Summable g)\n",
      "\u001b[36m(compute_provability_training_data_remote pid=770566)\u001b[0m     (h : ∀ i, ‖f i‖ ≤ g i) : Summable f\n",
      "\u001b[36m(compute_provability_training_data_remote pid=770566)\u001b[0m Done\n"
     ]
    },
    {
     "name": "stderr",
     "output_type": "stream",
     "text": [
      "\u001b[36m(compute_provability_training_data_remote pid=770566)\u001b[0m 2024-06-05 07:50:31.388 | WARNING  | lean_dojo.interaction.dojo:__init__:162 - Using Lean 4 without a hard timeout may hang indefinitely.\n"
     ]
    },
    {
     "name": "stdout",
     "output_type": "stream",
     "text": [
      "\u001b[36m(compute_provability_training_data_remote pid=770566)\u001b[0m Sucessfully followed proof\n",
      "\u001b[36m(compute_provability_training_data_remote pid=770566)\u001b[0m INIT_STATE: ι : Type u_1\n",
      "\u001b[36m(compute_provability_training_data_remote pid=770566)\u001b[0m α : Type u_2\n",
      "\u001b[36m(compute_provability_training_data_remote pid=770566)\u001b[0m E : Type u_3\n",
      "\u001b[36m(compute_provability_training_data_remote pid=770566)\u001b[0m F : Type u_4\n",
      "\u001b[36m(compute_provability_training_data_remote pid=770566)\u001b[0m inst✝² : SeminormedAddCommGroup E\n",
      "\u001b[36m(compute_provability_training_data_remote pid=770566)\u001b[0m inst✝¹ : SeminormedAddCommGroup F\n",
      "\u001b[36m(compute_provability_training_data_remote pid=770566)\u001b[0m inst✝ : CompleteSpace E\n",
      "\u001b[36m(compute_provability_training_data_remote pid=770566)\u001b[0m f : ι → E\n",
      "\u001b[36m(compute_provability_training_data_remote pid=770566)\u001b[0m g : ι → ℝ\n",
      "\u001b[36m(compute_provability_training_data_remote pid=770566)\u001b[0m hg : Summable g\n",
      "\u001b[36m(compute_provability_training_data_remote pid=770566)\u001b[0m h : ∀ (i : ι), ‖f i‖ ≤ g i\n",
      "\u001b[36m(compute_provability_training_data_remote pid=770566)\u001b[0m ⊢ Summable f\n",
      "\u001b[36m(compute_provability_training_data_remote pid=770566)\u001b[0m {'ι': 'type', 'E': 'type', 'f': 'function', 'g': 'function', 'hg': 'unknown', 'h': 'hypothesis'}\n",
      "\u001b[36m(compute_provability_training_data_remote pid=770566)\u001b[0m 10000 steps executed\n",
      "\u001b[36m(compute_provability_training_data_remote pid=770566)\u001b[0m 20000 steps executed\n",
      "\u001b[36m(compute_provability_training_data_remote pid=770566)\u001b[0m 30000 steps executed\n",
      "\u001b[36m(compute_provability_training_data_remote pid=770566)\u001b[0m 40000 steps executed\n",
      "\u001b[36m(compute_provability_training_data_remote pid=770566)\u001b[0m 50000 steps executed\n",
      "\u001b[36m(compute_provability_training_data_remote pid=770566)\u001b[0m 1512 states in total\n",
      "\u001b[36m(compute_provability_training_data_remote pid=770566)\u001b[0m 1 proven states\n",
      "\u001b[36m(compute_provability_training_data_remote pid=770566)\u001b[0m 4 state pairs found in Summable.of_norm_bounded .lake/packages/mathlib/Mathlib/Analysis/Normed/Group/InfiniteSum.lean\n",
      "\u001b[36m(compute_provability_training_data_remote pid=771272)\u001b[0m Worker 49 on .lake/packages/mathlib/Mathlib/Control/Functor.lean\n",
      "\u001b[36m(compute_provability_training_data_remote pid=771272)\u001b[0m nvcc: NVIDIA (R) Cuda compiler driver\n",
      "\u001b[36m(compute_provability_training_data_remote pid=771272)\u001b[0m Copyright (c) 2005-2023 NVIDIA Corporation\n",
      "\u001b[36m(compute_provability_training_data_remote pid=771272)\u001b[0m Built on Tue_Jun_13_19:16:58_PDT_2023\n",
      "\u001b[36m(compute_provability_training_data_remote pid=771272)\u001b[0m Cuda compilation tools, release 12.2, V12.2.91\n",
      "\u001b[36m(compute_provability_training_data_remote pid=771272)\u001b[0m Build cuda_12.2.r12.2/compiler.32965470_0\n",
      "\u001b[36m(compute_provability_training_data_remote pid=771272)\u001b[0m \n",
      "\u001b[36m(compute_provability_training_data_remote pid=771272)\u001b[0m CUDA: True\n",
      "\u001b[36m(compute_provability_training_data_remote pid=771272)\u001b[0m os.environ['LD_LIBRARY_PATH'] /usr/local/cuda-12.2/lib64:\n",
      "\u001b[36m(compute_provability_training_data_remote pid=771272)\u001b[0m Worker 49 Loading repo...\n",
      "\u001b[36m(compute_provability_training_data_remote pid=771272)\u001b[0m Worker 49 Done.\n",
      "\u001b[36m(compute_provability_training_data_remote pid=771272)\u001b[0m Worker 49 Loading models...\n",
      "\u001b[36m(compute_provability_training_data_remote pid=771272)\u001b[0m cuda:0\n",
      "\u001b[36m(compute_provability_training_data_remote pid=771272)\u001b[0m Worker 49 Loading faiss index ...\n",
      "\u001b[36m(compute_provability_training_data_remote pid=771272)\u001b[0m Worker 49 Computing provability ...\n",
      "\u001b[36m(compute_provability_training_data_remote pid=771272)\u001b[0m Loading Theorem: Functor.ext theorem Functor.ext {F} :\n",
      "\u001b[36m(compute_provability_training_data_remote pid=771272)\u001b[0m     ∀ {F1 : Functor F} {F2 : Functor F} [@LawfulFunctor F F1] [@LawfulFunctor F F2],\n",
      "\u001b[36m(compute_provability_training_data_remote pid=771272)\u001b[0m     (∀ (α β) (f : α → β) (x : F α), @Functor.map _ F1 _ _ f x = @Functor.map _ F2 _ _ f x) →\n",
      "\u001b[36m(compute_provability_training_data_remote pid=771272)\u001b[0m     F1 = F2\n",
      "\u001b[36m(compute_provability_training_data_remote pid=771272)\u001b[0m Done\n"
     ]
    },
    {
     "name": "stderr",
     "output_type": "stream",
     "text": [
      "\u001b[36m(compute_provability_training_data_remote pid=771272)\u001b[0m 2024-06-05 07:57:18.629 | WARNING  | lean_dojo.interaction.dojo:__init__:162 - Using Lean 4 without a hard timeout may hang indefinitely.\n"
     ]
    },
    {
     "name": "stdout",
     "output_type": "stream",
     "text": [
      "\u001b[36m(compute_provability_training_data_remote pid=771272)\u001b[0m DojoInitError\n",
      "\u001b[36m(compute_provability_training_data_remote pid=771272)\u001b[0m 0 states in total\n",
      "\u001b[36m(compute_provability_training_data_remote pid=771272)\u001b[0m 0 proven states\n",
      "\u001b[36m(compute_provability_training_data_remote pid=771272)\u001b[0m 0 state pairs found in Functor.ext .lake/packages/mathlib/Mathlib/Control/Functor.lean\n",
      "\u001b[36m(compute_provability_training_data_remote pid=771455)\u001b[0m Worker 46 on .lake/packages/std/Std/Data/Nat/Gcd.lean\n",
      "\u001b[36m(compute_provability_training_data_remote pid=771455)\u001b[0m nvcc: NVIDIA (R) Cuda compiler driver\n",
      "\u001b[36m(compute_provability_training_data_remote pid=771455)\u001b[0m Copyright (c) 2005-2023 NVIDIA Corporation\n",
      "\u001b[36m(compute_provability_training_data_remote pid=771455)\u001b[0m Built on Tue_Jun_13_19:16:58_PDT_2023\n",
      "\u001b[36m(compute_provability_training_data_remote pid=771455)\u001b[0m Cuda compilation tools, release 12.2, V12.2.91\n",
      "\u001b[36m(compute_provability_training_data_remote pid=771455)\u001b[0m Build cuda_12.2.r12.2/compiler.32965470_0\n",
      "\u001b[36m(compute_provability_training_data_remote pid=771455)\u001b[0m \n",
      "\u001b[36m(compute_provability_training_data_remote pid=771455)\u001b[0m CUDA: True\n",
      "\u001b[36m(compute_provability_training_data_remote pid=771455)\u001b[0m os.environ['LD_LIBRARY_PATH'] /usr/local/cuda-12.2/lib64:\n",
      "\u001b[36m(compute_provability_training_data_remote pid=771455)\u001b[0m Worker 46 Loading repo...\n",
      "\u001b[36m(compute_provability_training_data_remote pid=771455)\u001b[0m Worker 46 Done.\n",
      "\u001b[36m(compute_provability_training_data_remote pid=771455)\u001b[0m Worker 46 Loading models...\n",
      "\u001b[36m(compute_provability_training_data_remote pid=771455)\u001b[0m cuda:0\n",
      "\u001b[36m(compute_provability_training_data_remote pid=771455)\u001b[0m Worker 46 Loading faiss index ...\n",
      "\u001b[36m(compute_provability_training_data_remote pid=771455)\u001b[0m Worker 46 Computing provability ...\n",
      "\u001b[36m(compute_provability_training_data_remote pid=771455)\u001b[0m Loading Theorem: Nat.gcd_rec theorem gcd_rec (m n : Nat) : gcd m n = gcd (n % m) m\n",
      "\u001b[36m(compute_provability_training_data_remote pid=771455)\u001b[0m Done\n"
     ]
    },
    {
     "name": "stderr",
     "output_type": "stream",
     "text": [
      "\u001b[36m(compute_provability_training_data_remote pid=771455)\u001b[0m 2024-06-05 07:58:01.494 | WARNING  | lean_dojo.interaction.dojo:__init__:162 - Using Lean 4 without a hard timeout may hang indefinitely.\n"
     ]
    },
    {
     "name": "stdout",
     "output_type": "stream",
     "text": [
      "\u001b[36m(compute_provability_training_data_remote pid=771455)\u001b[0m INIT_STATE: m n : Nat\n",
      "\u001b[36m(compute_provability_training_data_remote pid=771455)\u001b[0m ⊢ gcd m n = gcd (n % m) m\n",
      "\u001b[36m(compute_provability_training_data_remote pid=771455)\u001b[0m {'m': 'unknown', 'n': 'unknown'}\n",
      "\u001b[36m(compute_provability_training_data_remote pid=771455)\u001b[0m 10000 steps executed\n",
      "\u001b[36m(compute_provability_training_data_remote pid=771455)\u001b[0m ProofFinished\n",
      "\u001b[36m(compute_provability_training_data_remote pid=771455)\u001b[0m 20000 steps executed\n",
      "\u001b[36m(compute_provability_training_data_remote pid=771455)\u001b[0m 30000 steps executed\n",
      "\u001b[36m(compute_provability_training_data_remote pid=771455)\u001b[0m 40000 steps executed\n",
      "\u001b[36m(compute_provability_training_data_remote pid=771455)\u001b[0m 50000 steps executed\n"
     ]
    },
    {
     "name": "stderr",
     "output_type": "stream",
     "text": [
      "\u001b[36m(compute_provability_training_data_remote pid=771455)\u001b[0m 2024-06-05 07:58:31.153 | WARNING  | lean_dojo.interaction.dojo:__init__:162 - Using Lean 4 without a hard timeout may hang indefinitely.\n"
     ]
    },
    {
     "name": "stdout",
     "output_type": "stream",
     "text": [
      "\u001b[36m(compute_provability_training_data_remote pid=771455)\u001b[0m 1665 states in total\n",
      "\u001b[36m(compute_provability_training_data_remote pid=771455)\u001b[0m 4 proven states\n",
      "\u001b[36m(compute_provability_training_data_remote pid=771455)\u001b[0m 40 state pairs found in Nat.gcd_rec .lake/packages/std/Std/Data/Nat/Gcd.lean\n",
      "\u001b[36m(compute_provability_training_data_remote pid=771455)\u001b[0m Loading Theorem: Nat.gcd_dvd theorem gcd_dvd (m n : Nat) : (gcd m n ∣ m) ∧ (gcd m n ∣ n)\n",
      "\u001b[36m(compute_provability_training_data_remote pid=771455)\u001b[0m Done\n",
      "\u001b[36m(compute_provability_training_data_remote pid=771455)\u001b[0m Sucessfully followed proof\n",
      "\u001b[36m(compute_provability_training_data_remote pid=771455)\u001b[0m INIT_STATE: m n : Nat\n",
      "\u001b[36m(compute_provability_training_data_remote pid=771455)\u001b[0m ⊢ gcd m n ∣ m ∧ gcd m n ∣ n\n",
      "\u001b[36m(compute_provability_training_data_remote pid=771455)\u001b[0m {'m': 'unknown', 'n': 'unknown'}\n",
      "\u001b[36m(compute_provability_training_data_remote pid=771455)\u001b[0m 10000 steps executed\n",
      "\u001b[36m(compute_provability_training_data_remote pid=771455)\u001b[0m 20000 steps executed\n",
      "\u001b[36m(compute_provability_training_data_remote pid=771455)\u001b[0m 30000 steps executed\n",
      "\u001b[36m(compute_provability_training_data_remote pid=771455)\u001b[0m 40000 steps executed\n",
      "\u001b[36m(compute_provability_training_data_remote pid=771455)\u001b[0m 50000 steps executed\n"
     ]
    },
    {
     "name": "stderr",
     "output_type": "stream",
     "text": [
      "\u001b[36m(compute_provability_training_data_remote pid=771455)\u001b[0m 2024-06-05 07:58:54.153 | WARNING  | lean_dojo.interaction.dojo:__init__:162 - Using Lean 4 without a hard timeout may hang indefinitely.\n"
     ]
    },
    {
     "name": "stdout",
     "output_type": "stream",
     "text": [
      "\u001b[36m(compute_provability_training_data_remote pid=771455)\u001b[0m 965 states in total\n",
      "\u001b[36m(compute_provability_training_data_remote pid=771455)\u001b[0m 1 proven states\n",
      "\u001b[36m(compute_provability_training_data_remote pid=771455)\u001b[0m 2 state pairs found in Nat.gcd_dvd .lake/packages/std/Std/Data/Nat/Gcd.lean\n",
      "\u001b[36m(compute_provability_training_data_remote pid=771455)\u001b[0m Loading Theorem: Nat.dvd_gcd theorem dvd_gcd : k ∣ m → k ∣ n → k ∣ gcd m n\n",
      "\u001b[36m(compute_provability_training_data_remote pid=771455)\u001b[0m Done\n",
      "\u001b[36m(compute_provability_training_data_remote pid=771455)\u001b[0m Sucessfully followed proof\n",
      "\u001b[36m(compute_provability_training_data_remote pid=771455)\u001b[0m INIT_STATE: k m n : Nat\n",
      "\u001b[36m(compute_provability_training_data_remote pid=771455)\u001b[0m ⊢ k ∣ m → k ∣ n → k ∣ gcd m n\n",
      "\u001b[36m(compute_provability_training_data_remote pid=771455)\u001b[0m {'k': 'unknown', 'm': 'unknown', 'n': 'unknown'}\n",
      "\u001b[36m(compute_provability_training_data_remote pid=771455)\u001b[0m 10000 steps executed\n",
      "\u001b[36m(compute_provability_training_data_remote pid=771455)\u001b[0m 20000 steps executed\n",
      "\u001b[36m(compute_provability_training_data_remote pid=771455)\u001b[0m 30000 steps executed\n",
      "\u001b[36m(compute_provability_training_data_remote pid=771455)\u001b[0m 40000 steps executed\n",
      "\u001b[36m(compute_provability_training_data_remote pid=771455)\u001b[0m 50000 steps executed\n"
     ]
    },
    {
     "name": "stderr",
     "output_type": "stream",
     "text": [
      "\u001b[36m(compute_provability_training_data_remote pid=771455)\u001b[0m 2024-06-05 07:59:47.279 | WARNING  | lean_dojo.interaction.dojo:__init__:162 - Using Lean 4 without a hard timeout may hang indefinitely.\n"
     ]
    },
    {
     "name": "stdout",
     "output_type": "stream",
     "text": [
      "\u001b[36m(compute_provability_training_data_remote pid=771455)\u001b[0m 3884 states in total\n",
      "\u001b[36m(compute_provability_training_data_remote pid=771455)\u001b[0m 1 proven states\n",
      "\u001b[36m(compute_provability_training_data_remote pid=771455)\u001b[0m 2 state pairs found in Nat.dvd_gcd .lake/packages/std/Std/Data/Nat/Gcd.lean\n",
      "\u001b[36m(compute_provability_training_data_remote pid=771455)\u001b[0m Loading Theorem: Nat.gcd_eq_left_iff_dvd theorem gcd_eq_left_iff_dvd : m ∣ n ↔ gcd m n = m\n",
      "\u001b[36m(compute_provability_training_data_remote pid=771455)\u001b[0m Done\n",
      "\u001b[36m(compute_provability_training_data_remote pid=771455)\u001b[0m INIT_STATE: m n : Nat\n",
      "\u001b[36m(compute_provability_training_data_remote pid=771455)\u001b[0m ⊢ m ∣ n ↔ gcd m n = m\n",
      "\u001b[36m(compute_provability_training_data_remote pid=771455)\u001b[0m {'m': 'unknown', 'n': 'unknown'}\n",
      "\u001b[36m(compute_provability_training_data_remote pid=771455)\u001b[0m 10000 steps executed\n",
      "\u001b[36m(compute_provability_training_data_remote pid=771455)\u001b[0m 20000 steps executed\n",
      "\u001b[36m(compute_provability_training_data_remote pid=771455)\u001b[0m 30000 steps executed\n",
      "\u001b[36m(compute_provability_training_data_remote pid=771455)\u001b[0m 40000 steps executed\n",
      "\u001b[36m(compute_provability_training_data_remote pid=771455)\u001b[0m 50000 steps executed\n"
     ]
    },
    {
     "name": "stderr",
     "output_type": "stream",
     "text": [
      "\u001b[36m(compute_provability_training_data_remote pid=771455)\u001b[0m 2024-06-05 08:00:51.647 | WARNING  | lean_dojo.interaction.dojo:__init__:162 - Using Lean 4 without a hard timeout may hang indefinitely.\n"
     ]
    },
    {
     "name": "stdout",
     "output_type": "stream",
     "text": [
      "\u001b[36m(compute_provability_training_data_remote pid=771455)\u001b[0m 2436 states in total\n",
      "\u001b[36m(compute_provability_training_data_remote pid=771455)\u001b[0m 0 proven states\n",
      "\u001b[36m(compute_provability_training_data_remote pid=771455)\u001b[0m 0 state pairs found in Nat.gcd_eq_left_iff_dvd .lake/packages/std/Std/Data/Nat/Gcd.lean\n",
      "\u001b[36m(compute_provability_training_data_remote pid=771455)\u001b[0m Loading Theorem: Nat.gcd_eq_right_iff_dvd theorem gcd_eq_right_iff_dvd : m ∣ n ↔ gcd n m = m\n",
      "\u001b[36m(compute_provability_training_data_remote pid=771455)\u001b[0m Done\n",
      "\u001b[36m(compute_provability_training_data_remote pid=771455)\u001b[0m Sucessfully followed proof\n",
      "\u001b[36m(compute_provability_training_data_remote pid=771455)\u001b[0m INIT_STATE: m n : Nat\n",
      "\u001b[36m(compute_provability_training_data_remote pid=771455)\u001b[0m ⊢ m ∣ n ↔ gcd n m = m\n",
      "\u001b[36m(compute_provability_training_data_remote pid=771455)\u001b[0m {'m': 'unknown', 'n': 'unknown'}\n",
      "\u001b[36m(compute_provability_training_data_remote pid=771455)\u001b[0m 10000 steps executed\n",
      "\u001b[36m(compute_provability_training_data_remote pid=771455)\u001b[0m ProofFinished\n",
      "\u001b[36m(compute_provability_training_data_remote pid=771455)\u001b[0m ProofFinished\n",
      "\u001b[36m(compute_provability_training_data_remote pid=771455)\u001b[0m ProofFinished\n",
      "\u001b[36m(compute_provability_training_data_remote pid=771455)\u001b[0m ProofFinished\n",
      "\u001b[36m(compute_provability_training_data_remote pid=771455)\u001b[0m 20000 steps executed\n",
      "\u001b[36m(compute_provability_training_data_remote pid=771455)\u001b[0m 30000 steps executed\n",
      "\u001b[36m(compute_provability_training_data_remote pid=771455)\u001b[0m 40000 steps executed\n",
      "\u001b[36m(compute_provability_training_data_remote pid=771455)\u001b[0m 50000 steps executed\n",
      "\u001b[36m(compute_provability_training_data_remote pid=771455)\u001b[0m 2358 states in total\n",
      "\u001b[36m(compute_provability_training_data_remote pid=771455)\u001b[0m 8 proven states\n",
      "\u001b[36m(compute_provability_training_data_remote pid=771455)\u001b[0m 106 state pairs found in Nat.gcd_eq_right_iff_dvd .lake/packages/std/Std/Data/Nat/Gcd.lean\n",
      "\u001b[36m(compute_provability_training_data_remote pid=772058)\u001b[0m Worker 55 on .lake/packages/mathlib/Mathlib/Analysis/NormedSpace/IsROrC.lean\n",
      "\u001b[36m(compute_provability_training_data_remote pid=772058)\u001b[0m nvcc: NVIDIA (R) Cuda compiler driver\n",
      "\u001b[36m(compute_provability_training_data_remote pid=772058)\u001b[0m Copyright (c) 2005-2023 NVIDIA Corporation\n",
      "\u001b[36m(compute_provability_training_data_remote pid=772058)\u001b[0m Built on Tue_Jun_13_19:16:58_PDT_2023\n",
      "\u001b[36m(compute_provability_training_data_remote pid=772058)\u001b[0m Cuda compilation tools, release 12.2, V12.2.91\n",
      "\u001b[36m(compute_provability_training_data_remote pid=772058)\u001b[0m Build cuda_12.2.r12.2/compiler.32965470_0\n",
      "\u001b[36m(compute_provability_training_data_remote pid=772058)\u001b[0m \n",
      "\u001b[36m(compute_provability_training_data_remote pid=772058)\u001b[0m CUDA: True\n",
      "\u001b[36m(compute_provability_training_data_remote pid=772058)\u001b[0m os.environ['LD_LIBRARY_PATH'] /usr/local/cuda-12.2/lib64:\n",
      "\u001b[36m(compute_provability_training_data_remote pid=772058)\u001b[0m Worker 55 Loading repo...\n",
      "\u001b[36m(compute_provability_training_data_remote pid=772058)\u001b[0m Worker 55 Done.\n",
      "\u001b[36m(compute_provability_training_data_remote pid=772058)\u001b[0m Worker 55 Loading models...\n",
      "\u001b[36m(compute_provability_training_data_remote pid=772058)\u001b[0m cuda:0\n",
      "\u001b[36m(compute_provability_training_data_remote pid=772058)\u001b[0m Worker 55 Loading faiss index ...\n",
      "\u001b[36m(compute_provability_training_data_remote pid=772058)\u001b[0m Worker 55 Computing provability ...\n",
      "\u001b[36m(compute_provability_training_data_remote pid=772058)\u001b[0m Loading Theorem: IsROrC.norm_coe_norm theorem IsROrC.norm_coe_norm {z : E} : ‖(‖z‖ : 𝕜)‖ = ‖z‖\n",
      "\u001b[36m(compute_provability_training_data_remote pid=772058)\u001b[0m Done\n"
     ]
    },
    {
     "name": "stderr",
     "output_type": "stream",
     "text": [
      "\u001b[36m(compute_provability_training_data_remote pid=772058)\u001b[0m 2024-06-05 08:02:17.448 | WARNING  | lean_dojo.interaction.dojo:__init__:162 - Using Lean 4 without a hard timeout may hang indefinitely.\n"
     ]
    },
    {
     "name": "stdout",
     "output_type": "stream",
     "text": [
      "\u001b[36m(compute_provability_training_data_remote pid=772058)\u001b[0m Sucessfully followed proof\n",
      "\u001b[36m(compute_provability_training_data_remote pid=772058)\u001b[0m INIT_STATE: 𝕜 : Type u_1\n",
      "\u001b[36m(compute_provability_training_data_remote pid=772058)\u001b[0m inst✝¹ : IsROrC 𝕜\n",
      "\u001b[36m(compute_provability_training_data_remote pid=772058)\u001b[0m E : Type u_2\n",
      "\u001b[36m(compute_provability_training_data_remote pid=772058)\u001b[0m inst✝ : NormedAddCommGroup E\n",
      "\u001b[36m(compute_provability_training_data_remote pid=772058)\u001b[0m z : E\n",
      "\u001b[36m(compute_provability_training_data_remote pid=772058)\u001b[0m ⊢ ‖↑‖z‖‖ = ‖z‖\n",
      "\u001b[36m(compute_provability_training_data_remote pid=772058)\u001b[0m {'𝕜': 'type', 'E': 'type', 'z': 'variable'}\n",
      "\u001b[36m(compute_provability_training_data_remote pid=772058)\u001b[0m ProofFinished\n",
      "\u001b[36m(compute_provability_training_data_remote pid=772058)\u001b[0m ProofFinished\n",
      "\u001b[36m(compute_provability_training_data_remote pid=772058)\u001b[0m ProofFinished\n",
      "\u001b[36m(compute_provability_training_data_remote pid=772058)\u001b[0m ProofFinished\n",
      "\u001b[36m(compute_provability_training_data_remote pid=772058)\u001b[0m ProofFinished\n",
      "\u001b[36m(compute_provability_training_data_remote pid=772058)\u001b[0m ProofFinished\n",
      "\u001b[36m(compute_provability_training_data_remote pid=772058)\u001b[0m ProofFinished\n",
      "\u001b[36m(compute_provability_training_data_remote pid=772058)\u001b[0m ProofFinished\n",
      "\u001b[36m(compute_provability_training_data_remote pid=772058)\u001b[0m ProofFinished\n",
      "\u001b[36m(compute_provability_training_data_remote pid=772058)\u001b[0m ProofFinished\n",
      "\u001b[36m(compute_provability_training_data_remote pid=772058)\u001b[0m 10000 steps executed\n",
      "\u001b[36m(compute_provability_training_data_remote pid=772058)\u001b[0m 20000 steps executed\n",
      "\u001b[36m(compute_provability_training_data_remote pid=772058)\u001b[0m 30000 steps executed\n",
      "\u001b[36m(compute_provability_training_data_remote pid=772058)\u001b[0m 40000 steps executed\n",
      "\u001b[36m(compute_provability_training_data_remote pid=772058)\u001b[0m 50000 steps executed\n",
      "\u001b[36m(compute_provability_training_data_remote pid=772058)\u001b[0m 4257 states in total\n",
      "\u001b[36m(compute_provability_training_data_remote pid=772058)\u001b[0m 254 proven states\n",
      "\u001b[36m(compute_provability_training_data_remote pid=772058)\u001b[0m 8238 state pairs found in IsROrC.norm_coe_norm .lake/packages/mathlib/Mathlib/Analysis/NormedSpace/IsROrC.lean\n",
      "\u001b[36m(compute_provability_training_data_remote pid=772058)\u001b[0m Loading Theorem: norm_smul_inv_norm' theorem norm_smul_inv_norm' {r : ℝ} (r_nonneg : 0 ≤ r) {x : E} (hx : x ≠ 0) :\n",
      "\u001b[36m(compute_provability_training_data_remote pid=772058)\u001b[0m     ‖((r : 𝕜) * (‖x‖ : 𝕜)⁻¹) • x‖ = r\n",
      "\u001b[36m(compute_provability_training_data_remote pid=772058)\u001b[0m Done\n"
     ]
    },
    {
     "name": "stderr",
     "output_type": "stream",
     "text": [
      "\u001b[36m(compute_provability_training_data_remote pid=772058)\u001b[0m 2024-06-05 08:05:33.974 | WARNING  | lean_dojo.interaction.dojo:__init__:162 - Using Lean 4 without a hard timeout may hang indefinitely.\n"
     ]
    },
    {
     "name": "stdout",
     "output_type": "stream",
     "text": [
      "\u001b[36m(compute_provability_training_data_remote pid=772058)\u001b[0m Sucessfully followed proof\n",
      "\u001b[36m(compute_provability_training_data_remote pid=772058)\u001b[0m INIT_STATE: 𝕜 : Type u_1\n",
      "\u001b[36m(compute_provability_training_data_remote pid=772058)\u001b[0m inst✝² : IsROrC 𝕜\n",
      "\u001b[36m(compute_provability_training_data_remote pid=772058)\u001b[0m E : Type u_2\n",
      "\u001b[36m(compute_provability_training_data_remote pid=772058)\u001b[0m inst✝¹ : NormedAddCommGroup E\n",
      "\u001b[36m(compute_provability_training_data_remote pid=772058)\u001b[0m inst✝ : NormedSpace 𝕜 E\n",
      "\u001b[36m(compute_provability_training_data_remote pid=772058)\u001b[0m r : ℝ\n",
      "\u001b[36m(compute_provability_training_data_remote pid=772058)\u001b[0m r_nonneg : 0 ≤ r\n",
      "\u001b[36m(compute_provability_training_data_remote pid=772058)\u001b[0m x : E\n",
      "\u001b[36m(compute_provability_training_data_remote pid=772058)\u001b[0m hx : x ≠ 0\n",
      "\u001b[36m(compute_provability_training_data_remote pid=772058)\u001b[0m ⊢ ‖(↑r * (↑‖x‖)⁻¹) • x‖ = r\n",
      "\u001b[36m(compute_provability_training_data_remote pid=772058)\u001b[0m {'𝕜': 'type', 'E': 'type', 'r': 'variable', 'r_nonneg': 'unknown', 'x': 'variable', 'hx': 'unknown'}\n",
      "\u001b[36m(compute_provability_training_data_remote pid=772058)\u001b[0m ProofFinished\n",
      "\u001b[36m(compute_provability_training_data_remote pid=772058)\u001b[0m ProofFinished\n",
      "\u001b[36m(compute_provability_training_data_remote pid=772058)\u001b[0m ProofFinished\n",
      "\u001b[36m(compute_provability_training_data_remote pid=772058)\u001b[0m ProofFinished\n",
      "\u001b[36m(compute_provability_training_data_remote pid=772058)\u001b[0m 10000 steps executed\n",
      "\u001b[36m(compute_provability_training_data_remote pid=772058)\u001b[0m 20000 steps executed\n",
      "\u001b[36m(compute_provability_training_data_remote pid=772058)\u001b[0m 30000 steps executed\n",
      "\u001b[36m(compute_provability_training_data_remote pid=772058)\u001b[0m 40000 steps executed\n",
      "\u001b[36m(compute_provability_training_data_remote pid=772058)\u001b[0m 50000 steps executed\n",
      "\u001b[36m(compute_provability_training_data_remote pid=772058)\u001b[0m 2524 states in total\n",
      "\u001b[36m(compute_provability_training_data_remote pid=772058)\u001b[0m 26 proven states\n",
      "\u001b[36m(compute_provability_training_data_remote pid=772058)\u001b[0m 1076 state pairs found in norm_smul_inv_norm' .lake/packages/mathlib/Mathlib/Analysis/NormedSpace/IsROrC.lean\n",
      "\u001b[36m(compute_provability_training_data_remote pid=772058)\u001b[0m Loading Theorem: LinearMap.bound_of_sphere_bound theorem LinearMap.bound_of_sphere_bound {r : ℝ} (r_pos : 0 < r) (c : ℝ) (f : E →ₗ[𝕜] 𝕜)\n",
      "\u001b[36m(compute_provability_training_data_remote pid=772058)\u001b[0m     (h : ∀ z ∈ sphere (0 : E) r, ‖f z‖ ≤ c) (z : E) : ‖f z‖ ≤ c / r * ‖z‖\n",
      "\u001b[36m(compute_provability_training_data_remote pid=772058)\u001b[0m Done\n"
     ]
    },
    {
     "name": "stderr",
     "output_type": "stream",
     "text": [
      "\u001b[36m(compute_provability_training_data_remote pid=772058)\u001b[0m 2024-06-05 08:13:41.909 | WARNING  | lean_dojo.interaction.dojo:__init__:162 - Using Lean 4 without a hard timeout may hang indefinitely.\n"
     ]
    },
    {
     "name": "stdout",
     "output_type": "stream",
     "text": [
      "\u001b[36m(compute_provability_training_data_remote pid=772058)\u001b[0m Sucessfully followed proof\n",
      "\u001b[36m(compute_provability_training_data_remote pid=772058)\u001b[0m INIT_STATE: 𝕜 : Type u_1\n",
      "\u001b[36m(compute_provability_training_data_remote pid=772058)\u001b[0m inst✝² : IsROrC 𝕜\n",
      "\u001b[36m(compute_provability_training_data_remote pid=772058)\u001b[0m E : Type u_2\n",
      "\u001b[36m(compute_provability_training_data_remote pid=772058)\u001b[0m inst✝¹ : NormedAddCommGroup E\n",
      "\u001b[36m(compute_provability_training_data_remote pid=772058)\u001b[0m inst✝ : NormedSpace 𝕜 E\n",
      "\u001b[36m(compute_provability_training_data_remote pid=772058)\u001b[0m r : ℝ\n",
      "\u001b[36m(compute_provability_training_data_remote pid=772058)\u001b[0m r_pos : 0 < r\n",
      "\u001b[36m(compute_provability_training_data_remote pid=772058)\u001b[0m c : ℝ\n",
      "\u001b[36m(compute_provability_training_data_remote pid=772058)\u001b[0m f : E →ₗ[𝕜] 𝕜\n",
      "\u001b[36m(compute_provability_training_data_remote pid=772058)\u001b[0m h : ∀ z ∈ sphere 0 r, ‖f z‖ ≤ c\n",
      "\u001b[36m(compute_provability_training_data_remote pid=772058)\u001b[0m z : E\n",
      "\u001b[36m(compute_provability_training_data_remote pid=772058)\u001b[0m ⊢ ‖f z‖ ≤ c / r * ‖z‖\n",
      "\u001b[36m(compute_provability_training_data_remote pid=772058)\u001b[0m {'𝕜': 'type', 'E': 'type', 'r': 'variable', 'r_pos': 'unknown', 'c': 'variable', 'f': 'function', 'h': 'hypothesis', 'z': 'variable'}\n",
      "\u001b[36m(compute_provability_training_data_remote pid=772058)\u001b[0m 10000 steps executed\n",
      "\u001b[36m(compute_provability_training_data_remote pid=772058)\u001b[0m 20000 steps executed\n",
      "\u001b[36m(compute_provability_training_data_remote pid=772058)\u001b[0m 30000 steps executed\n",
      "\u001b[36m(compute_provability_training_data_remote pid=772058)\u001b[0m 40000 steps executed\n",
      "\u001b[36m(compute_provability_training_data_remote pid=772058)\u001b[0m 50000 steps executed\n",
      "\u001b[36m(compute_provability_training_data_remote pid=772058)\u001b[0m 1763 states in total\n",
      "\u001b[36m(compute_provability_training_data_remote pid=772058)\u001b[0m 1 proven states\n",
      "\u001b[36m(compute_provability_training_data_remote pid=772058)\u001b[0m 16 state pairs found in LinearMap.bound_of_sphere_bound .lake/packages/mathlib/Mathlib/Analysis/NormedSpace/IsROrC.lean\n",
      "\u001b[36m(compute_provability_training_data_remote pid=772058)\u001b[0m Loading Theorem: ContinuousLinearMap.opNorm_bound_of_ball_bound theorem ContinuousLinearMap.opNorm_bound_of_ball_bound {r : ℝ} (r_pos : 0 < r) (c : ℝ)\n",
      "\u001b[36m(compute_provability_training_data_remote pid=772058)\u001b[0m     (f : E →L[𝕜] 𝕜) (h : ∀ z ∈ closedBall (0 : E) r, ‖f z‖ ≤ c) : ‖f‖ ≤ c / r\n",
      "\u001b[36m(compute_provability_training_data_remote pid=772058)\u001b[0m Done\n"
     ]
    },
    {
     "name": "stderr",
     "output_type": "stream",
     "text": [
      "\u001b[36m(compute_provability_training_data_remote pid=772058)\u001b[0m 2024-06-05 08:30:28.059 | WARNING  | lean_dojo.interaction.dojo:__init__:162 - Using Lean 4 without a hard timeout may hang indefinitely.\n"
     ]
    },
    {
     "name": "stdout",
     "output_type": "stream",
     "text": [
      "\u001b[36m(compute_provability_training_data_remote pid=772058)\u001b[0m Sucessfully followed proof\n",
      "\u001b[36m(compute_provability_training_data_remote pid=772058)\u001b[0m INIT_STATE: 𝕜 : Type u_1\n",
      "\u001b[36m(compute_provability_training_data_remote pid=772058)\u001b[0m inst✝² : IsROrC 𝕜\n",
      "\u001b[36m(compute_provability_training_data_remote pid=772058)\u001b[0m E : Type u_2\n",
      "\u001b[36m(compute_provability_training_data_remote pid=772058)\u001b[0m inst✝¹ : NormedAddCommGroup E\n",
      "\u001b[36m(compute_provability_training_data_remote pid=772058)\u001b[0m inst✝ : NormedSpace 𝕜 E\n",
      "\u001b[36m(compute_provability_training_data_remote pid=772058)\u001b[0m r : ℝ\n",
      "\u001b[36m(compute_provability_training_data_remote pid=772058)\u001b[0m r_pos : 0 < r\n",
      "\u001b[36m(compute_provability_training_data_remote pid=772058)\u001b[0m c : ℝ\n",
      "\u001b[36m(compute_provability_training_data_remote pid=772058)\u001b[0m f : E →L[𝕜] 𝕜\n",
      "\u001b[36m(compute_provability_training_data_remote pid=772058)\u001b[0m h : ∀ z ∈ closedBall 0 r, ‖f z‖ ≤ c\n",
      "\u001b[36m(compute_provability_training_data_remote pid=772058)\u001b[0m ⊢ ‖f‖ ≤ c / r\n",
      "\u001b[36m(compute_provability_training_data_remote pid=772058)\u001b[0m {'𝕜': 'type', 'E': 'type', 'r': 'variable', 'r_pos': 'unknown', 'c': 'variable', 'f': 'function', 'h': 'hypothesis'}\n",
      "\u001b[36m(compute_provability_training_data_remote pid=772058)\u001b[0m 10000 steps executed\n",
      "\u001b[36m(compute_provability_training_data_remote pid=772058)\u001b[0m 20000 steps executed\n",
      "\u001b[36m(compute_provability_training_data_remote pid=772058)\u001b[0m 30000 steps executed\n",
      "\u001b[36m(compute_provability_training_data_remote pid=772058)\u001b[0m Max run-time exceeded\n",
      "\u001b[36m(compute_provability_training_data_remote pid=772058)\u001b[0m 819 states in total\n",
      "\u001b[36m(compute_provability_training_data_remote pid=772058)\u001b[0m 1 proven states\n",
      "\u001b[36m(compute_provability_training_data_remote pid=772058)\u001b[0m 14 state pairs found in ContinuousLinearMap.opNorm_bound_of_ball_bound .lake/packages/mathlib/Mathlib/Analysis/NormedSpace/IsROrC.lean\n",
      "\u001b[36m(compute_provability_training_data_remote pid=772580)\u001b[0m Worker 54 on .lake/packages/mathlib/Mathlib/Data/Nat/Digits.lean\n",
      "\u001b[36m(compute_provability_training_data_remote pid=772580)\u001b[0m nvcc: NVIDIA (R) Cuda compiler driver\n",
      "\u001b[36m(compute_provability_training_data_remote pid=772580)\u001b[0m Copyright (c) 2005-2023 NVIDIA Corporation\n",
      "\u001b[36m(compute_provability_training_data_remote pid=772580)\u001b[0m Built on Tue_Jun_13_19:16:58_PDT_2023\n",
      "\u001b[36m(compute_provability_training_data_remote pid=772580)\u001b[0m Cuda compilation tools, release 12.2, V12.2.91\n",
      "\u001b[36m(compute_provability_training_data_remote pid=772580)\u001b[0m Build cuda_12.2.r12.2/compiler.32965470_0\n",
      "\u001b[36m(compute_provability_training_data_remote pid=772580)\u001b[0m \n",
      "\u001b[36m(compute_provability_training_data_remote pid=772580)\u001b[0m CUDA: True\n",
      "\u001b[36m(compute_provability_training_data_remote pid=772580)\u001b[0m os.environ['LD_LIBRARY_PATH'] /usr/local/cuda-12.2/lib64:\n",
      "\u001b[36m(compute_provability_training_data_remote pid=772580)\u001b[0m Worker 54 Loading repo...\n",
      "\u001b[36m(compute_provability_training_data_remote pid=772580)\u001b[0m Worker 54 Done.\n",
      "\u001b[36m(compute_provability_training_data_remote pid=772580)\u001b[0m Worker 54 Loading models...\n",
      "\u001b[36m(compute_provability_training_data_remote pid=772580)\u001b[0m cuda:0\n",
      "\u001b[36m(compute_provability_training_data_remote pid=772580)\u001b[0m Worker 54 Loading faiss index ...\n",
      "\u001b[36m(compute_provability_training_data_remote pid=772580)\u001b[0m Worker 54 Computing provability ...\n",
      "\u001b[36m(compute_provability_training_data_remote pid=772580)\u001b[0m Loading Theorem: Nat.digitsAux_def theorem digitsAux_def (b : ℕ) (h : 2 ≤ b) (n : ℕ) (w : 0 < n) :\n",
      "\u001b[36m(compute_provability_training_data_remote pid=772580)\u001b[0m     digitsAux b h n = (n % b) :: digitsAux b h (n / b)\n",
      "\u001b[36m(compute_provability_training_data_remote pid=772580)\u001b[0m Done\n"
     ]
    },
    {
     "name": "stderr",
     "output_type": "stream",
     "text": [
      "\u001b[36m(compute_provability_training_data_remote pid=772580)\u001b[0m 2024-06-05 08:52:21.062 | WARNING  | lean_dojo.interaction.dojo:__init__:162 - Using Lean 4 without a hard timeout may hang indefinitely.\n"
     ]
    },
    {
     "name": "stdout",
     "output_type": "stream",
     "text": [
      "\u001b[36m(compute_provability_training_data_remote pid=772580)\u001b[0m Sucessfully followed proof\n",
      "\u001b[36m(compute_provability_training_data_remote pid=772580)\u001b[0m INIT_STATE: n✝ b : ℕ\n",
      "\u001b[36m(compute_provability_training_data_remote pid=772580)\u001b[0m h : 2 ≤ b\n",
      "\u001b[36m(compute_provability_training_data_remote pid=772580)\u001b[0m n : ℕ\n",
      "\u001b[36m(compute_provability_training_data_remote pid=772580)\u001b[0m w : 0 < n\n",
      "\u001b[36m(compute_provability_training_data_remote pid=772580)\u001b[0m ⊢ digitsAux b h n = n % b :: digitsAux b h (n / b)\n",
      "\u001b[36m(compute_provability_training_data_remote pid=772580)\u001b[0m {'b': 'unknown', 'h': 'unknown', 'n': 'unknown', 'w': 'unknown', 'digitsAux': 'unknown', '=': 'unknown', '%': 'unknown'}\n",
      "\u001b[36m(compute_provability_training_data_remote pid=772580)\u001b[0m 10000 steps executed\n",
      "\u001b[36m(compute_provability_training_data_remote pid=772580)\u001b[0m 20000 steps executed\n",
      "\u001b[36m(compute_provability_training_data_remote pid=772580)\u001b[0m 30000 steps executed\n",
      "\u001b[36m(compute_provability_training_data_remote pid=772580)\u001b[0m 40000 steps executed\n",
      "\u001b[36m(compute_provability_training_data_remote pid=772580)\u001b[0m 50000 steps executed\n"
     ]
    },
    {
     "name": "stderr",
     "output_type": "stream",
     "text": [
      "\u001b[36m(compute_provability_training_data_remote pid=772580)\u001b[0m 2024-06-05 08:56:54.607 | WARNING  | lean_dojo.interaction.dojo:__init__:162 - Using Lean 4 without a hard timeout may hang indefinitely.\n"
     ]
    },
    {
     "name": "stdout",
     "output_type": "stream",
     "text": [
      "\u001b[36m(compute_provability_training_data_remote pid=772580)\u001b[0m 893 states in total\n",
      "\u001b[36m(compute_provability_training_data_remote pid=772580)\u001b[0m 1 proven states\n",
      "\u001b[36m(compute_provability_training_data_remote pid=772580)\u001b[0m 16 state pairs found in Nat.digitsAux_def .lake/packages/mathlib/Mathlib/Data/Nat/Digits.lean\n",
      "\u001b[36m(compute_provability_training_data_remote pid=772580)\u001b[0m Loading Theorem: Nat.digits_add_two_add_one theorem digits_add_two_add_one (b n : ℕ) :\n",
      "\u001b[36m(compute_provability_training_data_remote pid=772580)\u001b[0m     digits (b + 2) (n + 1) = ((n + 1) % (b + 2)) :: digits (b + 2) ((n + 1) / (b + 2))\n",
      "\u001b[36m(compute_provability_training_data_remote pid=772580)\u001b[0m Done\n",
      "\u001b[36m(compute_provability_training_data_remote pid=772580)\u001b[0m Sucessfully followed proof\n",
      "\u001b[36m(compute_provability_training_data_remote pid=772580)\u001b[0m INIT_STATE: n✝ b n : ℕ\n",
      "\u001b[36m(compute_provability_training_data_remote pid=772580)\u001b[0m ⊢ digits (b + 2) (n + 1) = (n + 1) % (b + 2) :: digits (b + 2) ((n + 1) / (b + 2))\n",
      "\u001b[36m(compute_provability_training_data_remote pid=772580)\u001b[0m {'b': 'unknown', 'n': 'unknown', 'digits': 'unknown', '+': 'unknown', '=': 'unknown', '%': 'unknown'}\n",
      "\u001b[36m(compute_provability_training_data_remote pid=772580)\u001b[0m ProofFinished\n",
      "\u001b[36m(compute_provability_training_data_remote pid=772580)\u001b[0m ProofFinished\n",
      "\u001b[36m(compute_provability_training_data_remote pid=772580)\u001b[0m ProofFinished\n",
      "\u001b[36m(compute_provability_training_data_remote pid=772580)\u001b[0m ProofFinished\n",
      "\u001b[36m(compute_provability_training_data_remote pid=772580)\u001b[0m ProofFinished\n",
      "\u001b[36m(compute_provability_training_data_remote pid=772580)\u001b[0m ProofFinished\n",
      "\u001b[36m(compute_provability_training_data_remote pid=772580)\u001b[0m ProofFinished\n",
      "\u001b[36m(compute_provability_training_data_remote pid=772580)\u001b[0m 10000 steps executed\n",
      "\u001b[36m(compute_provability_training_data_remote pid=772580)\u001b[0m 20000 steps executed\n",
      "\u001b[36m(compute_provability_training_data_remote pid=772580)\u001b[0m 30000 steps executed\n",
      "\u001b[36m(compute_provability_training_data_remote pid=772580)\u001b[0m 40000 steps executed\n",
      "\u001b[36m(compute_provability_training_data_remote pid=772580)\u001b[0m 50000 steps executed\n",
      "\u001b[36m(compute_provability_training_data_remote pid=772580)\u001b[0m 1092 states in total\n",
      "\u001b[36m(compute_provability_training_data_remote pid=772580)\u001b[0m 112 proven states\n",
      "\u001b[36m(compute_provability_training_data_remote pid=772580)\u001b[0m 1516 state pairs found in Nat.digits_add_two_add_one .lake/packages/mathlib/Mathlib/Data/Nat/Digits.lean\n"
     ]
    },
    {
     "name": "stderr",
     "output_type": "stream",
     "text": [
      "\u001b[36m(compute_provability_training_data_remote pid=772580)\u001b[0m 2024-06-05 08:58:22.708 | WARNING  | lean_dojo.interaction.dojo:__init__:162 - Using Lean 4 without a hard timeout may hang indefinitely.\n"
     ]
    },
    {
     "name": "stdout",
     "output_type": "stream",
     "text": [
      "\u001b[36m(compute_provability_training_data_remote pid=772580)\u001b[0m Loading Theorem: Nat.digits_def' theorem digits_def' :\n",
      "\u001b[36m(compute_provability_training_data_remote pid=772580)\u001b[0m     ∀ {b : ℕ} (_ : 1 < b) {n : ℕ} (_ : 0 < n), digits b n = (n % b) :: digits b (n / b)\n",
      "\u001b[36m(compute_provability_training_data_remote pid=772580)\u001b[0m Done\n"
     ]
    },
    {
     "name": "stderr",
     "output_type": "stream",
     "text": [
      "\u001b[36m(compute_provability_training_data_remote pid=772580)\u001b[0m 2024-06-05 08:58:34.002 | WARNING  | lean_dojo.interaction.dojo:__init__:162 - Using Lean 4 without a hard timeout may hang indefinitely.\n"
     ]
    },
    {
     "name": "stdout",
     "output_type": "stream",
     "text": [
      "\u001b[36m(compute_provability_training_data_remote pid=772580)\u001b[0m DojoInitError\n",
      "\u001b[36m(compute_provability_training_data_remote pid=772580)\u001b[0m 0 states in total\n",
      "\u001b[36m(compute_provability_training_data_remote pid=772580)\u001b[0m 0 proven states\n",
      "\u001b[36m(compute_provability_training_data_remote pid=772580)\u001b[0m 0 state pairs found in Nat.digits_def' .lake/packages/mathlib/Mathlib/Data/Nat/Digits.lean\n",
      "\u001b[36m(compute_provability_training_data_remote pid=772580)\u001b[0m Loading Theorem: Nat.digits_add theorem digits_add (b : ℕ) (h : 1 < b) (x y : ℕ) (hxb : x < b) (hxy : x ≠ 0 ∨ y ≠ 0) :\n",
      "\u001b[36m(compute_provability_training_data_remote pid=772580)\u001b[0m     digits b (x + b * y) = x :: digits b y\n",
      "\u001b[36m(compute_provability_training_data_remote pid=772580)\u001b[0m Done\n",
      "\u001b[36m(compute_provability_training_data_remote pid=772580)\u001b[0m Sucessfully followed proof\n",
      "\u001b[36m(compute_provability_training_data_remote pid=772580)\u001b[0m INIT_STATE: n b : ℕ\n",
      "\u001b[36m(compute_provability_training_data_remote pid=772580)\u001b[0m h : 1 < b\n",
      "\u001b[36m(compute_provability_training_data_remote pid=772580)\u001b[0m x y : ℕ\n",
      "\u001b[36m(compute_provability_training_data_remote pid=772580)\u001b[0m hxb : x < b\n",
      "\u001b[36m(compute_provability_training_data_remote pid=772580)\u001b[0m hxy : x ≠ 0 ∨ y ≠ 0\n",
      "\u001b[36m(compute_provability_training_data_remote pid=772580)\u001b[0m ⊢ digits b (x + b * y) = x :: digits b y\n",
      "\u001b[36m(compute_provability_training_data_remote pid=772580)\u001b[0m {'b': 'unknown', 'h': 'unknown', 'x': 'unknown', 'y': 'unknown', 'hxb': 'unknown', 'hxy': 'unknown', 'digits': 'unknown', '+': 'unknown', '*': 'unknown', '=': 'unknown'}\n",
      "\u001b[36m(compute_provability_training_data_remote pid=772580)\u001b[0m 10000 steps executed\n",
      "\u001b[36m(compute_provability_training_data_remote pid=772580)\u001b[0m 20000 steps executed\n",
      "\u001b[36m(compute_provability_training_data_remote pid=772580)\u001b[0m 30000 steps executed\n",
      "\u001b[36m(compute_provability_training_data_remote pid=772580)\u001b[0m 40000 steps executed\n",
      "\u001b[36m(compute_provability_training_data_remote pid=772580)\u001b[0m 50000 steps executed\n"
     ]
    },
    {
     "name": "stderr",
     "output_type": "stream",
     "text": [
      "\u001b[36m(compute_provability_training_data_remote pid=772580)\u001b[0m 2024-06-05 09:01:08.813 | WARNING  | lean_dojo.interaction.dojo:__init__:162 - Using Lean 4 without a hard timeout may hang indefinitely.\n"
     ]
    },
    {
     "name": "stdout",
     "output_type": "stream",
     "text": [
      "\u001b[36m(compute_provability_training_data_remote pid=772580)\u001b[0m 1351 states in total\n",
      "\u001b[36m(compute_provability_training_data_remote pid=772580)\u001b[0m 1 proven states\n",
      "\u001b[36m(compute_provability_training_data_remote pid=772580)\u001b[0m 16 state pairs found in Nat.digits_add .lake/packages/mathlib/Mathlib/Data/Nat/Digits.lean\n",
      "\u001b[36m(compute_provability_training_data_remote pid=772580)\u001b[0m Loading Theorem: Nat.ofDigits_eq_foldr theorem ofDigits_eq_foldr {α : Type*} [Semiring α] (b : α) (L : List ℕ) :\n",
      "\u001b[36m(compute_provability_training_data_remote pid=772580)\u001b[0m     ofDigits b L = List.foldr (fun x y => ↑x + b * y) 0 L\n",
      "\u001b[36m(compute_provability_training_data_remote pid=772580)\u001b[0m Done\n",
      "\u001b[36m(compute_provability_training_data_remote pid=772580)\u001b[0m Sucessfully followed proof\n",
      "\u001b[36m(compute_provability_training_data_remote pid=772580)\u001b[0m INIT_STATE: n : ℕ\n",
      "\u001b[36m(compute_provability_training_data_remote pid=772580)\u001b[0m α : Type u_1\n",
      "\u001b[36m(compute_provability_training_data_remote pid=772580)\u001b[0m inst✝ : Semiring α\n",
      "\u001b[36m(compute_provability_training_data_remote pid=772580)\u001b[0m b : α\n",
      "\u001b[36m(compute_provability_training_data_remote pid=772580)\u001b[0m L : List ℕ\n",
      "\u001b[36m(compute_provability_training_data_remote pid=772580)\u001b[0m ⊢ ofDigits b L = List.foldr (fun x y => ↑x + b * y) 0 L\n",
      "\u001b[36m(compute_provability_training_data_remote pid=772580)\u001b[0m {'α': 'type', 'b': 'variable', 'L': 'unknown'}\n",
      "\u001b[36m(compute_provability_training_data_remote pid=772580)\u001b[0m 10000 steps executed\n",
      "\u001b[36m(compute_provability_training_data_remote pid=772580)\u001b[0m 20000 steps executed\n",
      "\u001b[36m(compute_provability_training_data_remote pid=772580)\u001b[0m 30000 steps executed\n",
      "\u001b[36m(compute_provability_training_data_remote pid=772580)\u001b[0m 40000 steps executed\n",
      "\u001b[36m(compute_provability_training_data_remote pid=772580)\u001b[0m 50000 steps executed\n",
      "\u001b[36m(compute_provability_training_data_remote pid=772580)\u001b[0m 1415 states in total\n",
      "\u001b[36m(compute_provability_training_data_remote pid=772580)\u001b[0m 1 proven states\n",
      "\u001b[36m(compute_provability_training_data_remote pid=772580)\u001b[0m 8 state pairs found in Nat.ofDigits_eq_foldr .lake/packages/mathlib/Mathlib/Data/Nat/Digits.lean\n",
      "\u001b[36m(compute_provability_training_data_remote pid=773180)\u001b[0m Worker 77 on .lake/packages/proofwidgets/ProofWidgets/Demos/Jsx.lean\n",
      "\u001b[36m(compute_provability_training_data_remote pid=773180)\u001b[0m nvcc: NVIDIA (R) Cuda compiler driver\n",
      "\u001b[36m(compute_provability_training_data_remote pid=773180)\u001b[0m Copyright (c) 2005-2023 NVIDIA Corporation\n",
      "\u001b[36m(compute_provability_training_data_remote pid=773180)\u001b[0m Built on Tue_Jun_13_19:16:58_PDT_2023\n",
      "\u001b[36m(compute_provability_training_data_remote pid=773180)\u001b[0m Cuda compilation tools, release 12.2, V12.2.91\n",
      "\u001b[36m(compute_provability_training_data_remote pid=773180)\u001b[0m Build cuda_12.2.r12.2/compiler.32965470_0\n",
      "\u001b[36m(compute_provability_training_data_remote pid=773180)\u001b[0m \n",
      "\u001b[36m(compute_provability_training_data_remote pid=773180)\u001b[0m CUDA: True\n",
      "\u001b[36m(compute_provability_training_data_remote pid=773180)\u001b[0m os.environ['LD_LIBRARY_PATH'] /usr/local/cuda-12.2/lib64:\n",
      "\u001b[36m(compute_provability_training_data_remote pid=773180)\u001b[0m Worker 77 Loading repo...\n",
      "\u001b[36m(compute_provability_training_data_remote pid=773180)\u001b[0m Worker 77 Done.\n",
      "\u001b[36m(compute_provability_training_data_remote pid=773180)\u001b[0m Worker 77 Loading models...\n",
      "\u001b[36m(compute_provability_training_data_remote pid=773180)\u001b[0m cuda:0\n",
      "\u001b[36m(compute_provability_training_data_remote pid=773180)\u001b[0m Worker 77 Loading faiss index ...\n",
      "\u001b[36m(compute_provability_training_data_remote pid=773180)\u001b[0m Worker 77 Computing provability ...\n",
      "\u001b[36m(compute_provability_training_data_remote pid=773180)\u001b[0m Loading Theorem: ghjk theorem ghjk : True\n",
      "\u001b[36m(compute_provability_training_data_remote pid=773180)\u001b[0m Done\n"
     ]
    },
    {
     "name": "stderr",
     "output_type": "stream",
     "text": [
      "\u001b[36m(compute_provability_training_data_remote pid=773180)\u001b[0m 2024-06-05 09:03:17.112 | WARNING  | lean_dojo.interaction.dojo:__init__:162 - Using Lean 4 without a hard timeout may hang indefinitely.\n"
     ]
    },
    {
     "name": "stdout",
     "output_type": "stream",
     "text": [
      "\u001b[36m(compute_provability_training_data_remote pid=773180)\u001b[0m Sucessfully followed proof\n",
      "\u001b[36m(compute_provability_training_data_remote pid=773180)\u001b[0m INIT_STATE: ⊢ True\n",
      "\u001b[36m(compute_provability_training_data_remote pid=773180)\u001b[0m {}\n",
      "\u001b[36m(compute_provability_training_data_remote pid=773180)\u001b[0m ProofFinished\n",
      "\u001b[36m(compute_provability_training_data_remote pid=773180)\u001b[0m ProofFinished\n",
      "\u001b[36m(compute_provability_training_data_remote pid=773180)\u001b[0m ProofFinished\n",
      "\u001b[36m(compute_provability_training_data_remote pid=773180)\u001b[0m ProofFinished\n",
      "\u001b[36m(compute_provability_training_data_remote pid=773180)\u001b[0m ProofFinished\n",
      "\u001b[36m(compute_provability_training_data_remote pid=773180)\u001b[0m ProofFinished\n",
      "\u001b[36m(compute_provability_training_data_remote pid=773180)\u001b[0m ProofFinished\n",
      "\u001b[36m(compute_provability_training_data_remote pid=773180)\u001b[0m ProofFinished\n",
      "\u001b[36m(compute_provability_training_data_remote pid=773180)\u001b[0m 10 states in total\n",
      "\u001b[36m(compute_provability_training_data_remote pid=773180)\u001b[0m 9 proven states\n",
      "\u001b[36m(compute_provability_training_data_remote pid=773180)\u001b[0m 9 state pairs found in ghjk .lake/packages/proofwidgets/ProofWidgets/Demos/Jsx.lean\n",
      "\u001b[36m(compute_provability_training_data_remote pid=773358)\u001b[0m Worker 97 on .lake/packages/mathlib/Mathlib/Algebra/Order/Sub/WithTop.lean\n",
      "\u001b[36m(compute_provability_training_data_remote pid=773358)\u001b[0m nvcc: NVIDIA (R) Cuda compiler driver\n",
      "\u001b[36m(compute_provability_training_data_remote pid=773358)\u001b[0m Copyright (c) 2005-2023 NVIDIA Corporation\n",
      "\u001b[36m(compute_provability_training_data_remote pid=773358)\u001b[0m Built on Tue_Jun_13_19:16:58_PDT_2023\n",
      "\u001b[36m(compute_provability_training_data_remote pid=773358)\u001b[0m Cuda compilation tools, release 12.2, V12.2.91\n",
      "\u001b[36m(compute_provability_training_data_remote pid=773358)\u001b[0m Build cuda_12.2.r12.2/compiler.32965470_0\n",
      "\u001b[36m(compute_provability_training_data_remote pid=773358)\u001b[0m \n",
      "\u001b[36m(compute_provability_training_data_remote pid=773358)\u001b[0m CUDA: True\n",
      "\u001b[36m(compute_provability_training_data_remote pid=773358)\u001b[0m os.environ['LD_LIBRARY_PATH'] /usr/local/cuda-12.2/lib64:\n",
      "\u001b[36m(compute_provability_training_data_remote pid=773358)\u001b[0m Worker 97 Loading repo...\n",
      "\u001b[36m(compute_provability_training_data_remote pid=773358)\u001b[0m Worker 97 Done.\n",
      "\u001b[36m(compute_provability_training_data_remote pid=773358)\u001b[0m Worker 97 Loading models...\n",
      "\u001b[36m(compute_provability_training_data_remote pid=773358)\u001b[0m cuda:0\n",
      "\u001b[36m(compute_provability_training_data_remote pid=773358)\u001b[0m Worker 97 Loading faiss index ...\n",
      "\u001b[36m(compute_provability_training_data_remote pid=773358)\u001b[0m Worker 97 Computing provability ...\n",
      "\u001b[36m(compute_provability_training_data_remote pid=773358)\u001b[0m Loading Theorem: WithTop.map_sub theorem map_sub [Sub β] [Zero β] {f : α → β} (h : ∀ x y, f (x - y) = f x - f y) (h₀ : f 0 = 0) :\n",
      "\u001b[36m(compute_provability_training_data_remote pid=773358)\u001b[0m     ∀ x y : WithTop α, (x - y).map f = x.map f - y.map f\n",
      "\u001b[36m(compute_provability_training_data_remote pid=773358)\u001b[0m Done\n"
     ]
    },
    {
     "name": "stderr",
     "output_type": "stream",
     "text": [
      "\u001b[36m(compute_provability_training_data_remote pid=773358)\u001b[0m 2024-06-05 09:04:02.568 | WARNING  | lean_dojo.interaction.dojo:__init__:162 - Using Lean 4 without a hard timeout may hang indefinitely.\n"
     ]
    },
    {
     "name": "stdout",
     "output_type": "stream",
     "text": [
      "\u001b[36m(compute_provability_training_data_remote pid=773358)\u001b[0m DojoInitError\n",
      "\u001b[36m(compute_provability_training_data_remote pid=773358)\u001b[0m 0 states in total\n",
      "\u001b[36m(compute_provability_training_data_remote pid=773358)\u001b[0m 0 proven states\n",
      "\u001b[36m(compute_provability_training_data_remote pid=773358)\u001b[0m 0 state pairs found in WithTop.map_sub .lake/packages/mathlib/Mathlib/Algebra/Order/Sub/WithTop.lean\n",
      "\u001b[36m(compute_provability_training_data_remote pid=773537)\u001b[0m Worker 26 on .lake/packages/mathlib/Mathlib/Algebra/MonoidAlgebra/Support.lean\n",
      "\u001b[36m(compute_provability_training_data_remote pid=773537)\u001b[0m nvcc: NVIDIA (R) Cuda compiler driver\n",
      "\u001b[36m(compute_provability_training_data_remote pid=773537)\u001b[0m Copyright (c) 2005-2023 NVIDIA Corporation\n",
      "\u001b[36m(compute_provability_training_data_remote pid=773537)\u001b[0m Built on Tue_Jun_13_19:16:58_PDT_2023\n",
      "\u001b[36m(compute_provability_training_data_remote pid=773537)\u001b[0m Cuda compilation tools, release 12.2, V12.2.91\n",
      "\u001b[36m(compute_provability_training_data_remote pid=773537)\u001b[0m Build cuda_12.2.r12.2/compiler.32965470_0\n",
      "\u001b[36m(compute_provability_training_data_remote pid=773537)\u001b[0m \n",
      "\u001b[36m(compute_provability_training_data_remote pid=773537)\u001b[0m CUDA: True\n",
      "\u001b[36m(compute_provability_training_data_remote pid=773537)\u001b[0m os.environ['LD_LIBRARY_PATH'] /usr/local/cuda-12.2/lib64:\n",
      "\u001b[36m(compute_provability_training_data_remote pid=773537)\u001b[0m Worker 26 Loading repo...\n",
      "\u001b[36m(compute_provability_training_data_remote pid=773537)\u001b[0m Worker 26 Done.\n",
      "\u001b[36m(compute_provability_training_data_remote pid=773537)\u001b[0m Worker 26 Loading models...\n",
      "\u001b[36m(compute_provability_training_data_remote pid=773537)\u001b[0m cuda:0\n",
      "\u001b[36m(compute_provability_training_data_remote pid=773537)\u001b[0m Worker 26 Loading faiss index ...\n"
     ]
    },
    {
     "name": "stderr",
     "output_type": "stream",
     "text": [
      "\u001b[36m(compute_provability_training_data_remote pid=773537)\u001b[0m 2024-06-05 09:04:45.628 | WARNING  | lean_dojo.interaction.dojo:__init__:162 - Using Lean 4 without a hard timeout may hang indefinitely.\n"
     ]
    },
    {
     "name": "stdout",
     "output_type": "stream",
     "text": [
      "\u001b[36m(compute_provability_training_data_remote pid=773537)\u001b[0m Worker 26 Computing provability ...\n",
      "\u001b[36m(compute_provability_training_data_remote pid=773537)\u001b[0m Loading Theorem: MonoidAlgebra.support_single_mul_subset theorem support_single_mul_subset [DecidableEq G] [Mul G] (f : MonoidAlgebra k G) (r : k) (a : G) :\n",
      "\u001b[36m(compute_provability_training_data_remote pid=773537)\u001b[0m     (single a r * f : MonoidAlgebra k G).support ⊆ Finset.image (a * ·) f.support\n",
      "\u001b[36m(compute_provability_training_data_remote pid=773537)\u001b[0m Done\n",
      "\u001b[36m(compute_provability_training_data_remote pid=773537)\u001b[0m INIT_STATE: k : Type u₁\n",
      "\u001b[36m(compute_provability_training_data_remote pid=773537)\u001b[0m G : Type u₂\n",
      "\u001b[36m(compute_provability_training_data_remote pid=773537)\u001b[0m inst✝² : Semiring k\n",
      "\u001b[36m(compute_provability_training_data_remote pid=773537)\u001b[0m inst✝¹ : DecidableEq G\n",
      "\u001b[36m(compute_provability_training_data_remote pid=773537)\u001b[0m inst✝ : Mul G\n",
      "\u001b[36m(compute_provability_training_data_remote pid=773537)\u001b[0m f : MonoidAlgebra k G\n",
      "\u001b[36m(compute_provability_training_data_remote pid=773537)\u001b[0m r : k\n",
      "\u001b[36m(compute_provability_training_data_remote pid=773537)\u001b[0m a : G\n",
      "\u001b[36m(compute_provability_training_data_remote pid=773537)\u001b[0m ⊢ (single a r * f).support ⊆ image (fun x => a * x) f.support\n",
      "\u001b[36m(compute_provability_training_data_remote pid=773537)\u001b[0m {'k': 'type', 'G': 'type', 'f': 'unknown', 'r': 'variable', 'a': 'variable'}\n"
     ]
    }
   ],
   "source": [
    "from utils.lean_math_utils import *\n",
    "\n",
    "theorem = Theorem(repo, \".lake/packages/mathlib/Mathlib/Data/Nat/Lattice.lean\",\n",
    "                      \"Nat.sInf_mem\")\n",
    "\n",
    "dojo, state_0 = Dojo(theorem).__enter__()\n",
    "print(state_0.pp)\n",
    "\n",
    "state_1 = dojo.run_tac(state_0, \"rw [← mul_assoc]\")\n",
    "\n",
    "#print(state_1)\n",
    "print(state_1.pp)\n",
    "\n",
    "state_2 = dojo.run_tac(state_1, \"rw [mul_comm a]\") \n",
    "\n",
    "print(state_2)\n",
    "\n",
    "dojo.__exit__(None, None, None)"
   ]
  }
 ],
 "metadata": {
  "kernelspec": {
   "display_name": "atp",
   "language": "python",
   "name": "atp"
  },
  "language_info": {
   "codemirror_mode": {
    "name": "ipython",
    "version": 3
   },
   "file_extension": ".py",
   "mimetype": "text/x-python",
   "name": "python",
   "nbconvert_exporter": "python",
   "pygments_lexer": "ipython3",
   "version": "3.10.14"
  }
 },
 "nbformat": 4,
 "nbformat_minor": 5
}
