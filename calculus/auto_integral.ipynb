{
 "cells": [
  {
   "cell_type": "code",
   "execution_count": 1,
   "id": "d387f3de",
   "metadata": {},
   "outputs": [
    {
     "data": {
      "text/latex": [
       "$\\displaystyle \\frac{x^{3}}{3} - x^{2} + 2 x$"
      ],
      "text/plain": [
       "x**3/3 - x**2 + 2*x"
      ]
     },
     "metadata": {},
     "output_type": "display_data"
    },
    {
     "data": {
      "image/png": "[encoded data removed]",
      "text/plain": [
       "<Figure size 640x480 with 1 Axes>"
      ]
     },
     "metadata": {},
     "output_type": "display_data"
    }
   ],
   "source": [
    "import numpy as np\n",
    "import sympy as sp\n",
    "from sympy import sympify, lambdify, symbols, integrate, Interval, Symbol, I, S, oo, plot\n",
    "from IPython.display import display\n",
    "\n",
    "# Compute integration\n",
    "f = sympify(\"x**2-x*2+2\")\n",
    "#f = sympify(\"x*cos(x)\")\n",
    "x = Symbol('x')\n",
    "fi = integrate(f, x)\n",
    "display(fi)\n",
    "plot(fi, (x, -5, 5))\n",
    "\n",
    "# Generate data for symbolic regression\n",
    "fl = lambdify((x), fi, \"numpy\")\n",
    "xs = np.arange(-5, 5, 0.001)\n",
    "ys = fl(xs)"
   ]
  },
  {
   "cell_type": "code",
   "execution_count": 2,
   "id": "4d9d3691",
   "metadata": {},
   "outputs": [
    {
     "name": "stderr",
     "output_type": "stream",
     "text": [
      "/home/mcwave/anaconda3/envs/symbolic/lib/python3.7/site-packages/tqdm/auto.py:22: TqdmWarning: IProgress not found. Please update jupyter and ipywidgets. See https://ipywidgets.readthedocs.io/en/stable/user_install.html\n",
      "  from .autonotebook import tqdm as notebook_tqdm\n"
     ]
    },
    {
     "name": "stdout",
     "output_type": "stream",
     "text": [
      "cuda:0\n",
      "Model successfully loaded!\n"
     ]
    },
    {
     "data": {
      "text/latex": [
       "$\\displaystyle \\left(5.7755748763054182 \\cdot 10^{-6} - 0.81323306476822285 x_{0}\\right) \\left(- 0.92224484694313154 \\left(0.66666650684720143 x_{0} - 1\\right)^{2} - 1.53705426449183\\right)$"
      ],
      "text/plain": [
       "(5.7755748763054182e-6 - 0.81323306476822285*x_0)*(-0.92224484694313154*(0.66666650684720143*x_0 - 1)**2 - 1.53705426449183)"
      ]
     },
     "metadata": {},
     "output_type": "display_data"
    },
    {
     "data": {
      "text/latex": [
       "$\\displaystyle 0.33333317500111475 x_{0}^{3} - 1.0000021320620919 x_{0}^{2} + 1.9999904555645421 x_{0} - 1.4203866161324002 \\cdot 10^{-5}$"
      ],
      "text/plain": [
       "0.33333317500111475*x_0**3 - 1.0000021320620919*x_0**2 + 1.9999904555645421*x_0 - 1.4203866161324002e-5"
      ]
     },
     "execution_count": 2,
     "metadata": {},
     "output_type": "execute_result"
    }
   ],
   "source": [
    "# Load symbolicregression model\n",
    "\n",
    "import torch\n",
    "import os, sys\n",
    "import symbolicregression\n",
    "import sympytorch\n",
    "import requests\n",
    "\n",
    "model_path = \"ckpt/model.pt\" \n",
    "try:\n",
    "    if not os.path.isfile(model_path): \n",
    "        print(\"Downloading model...\")\n",
    "        url = \"https://dl.fbaipublicfiles.com/symbolicregression/model1.pt\"\n",
    "        r = requests.get(url, allow_redirects=True)\n",
    "        open(model_path, 'wb').write(r.content)\n",
    "    if not torch.cuda.is_available():\n",
    "        model = torch.load(model_path, map_location=torch.device('cpu'))\n",
    "    else:\n",
    "        model = torch.load(model_path)\n",
    "        model = model.cuda()\n",
    "    print(model.device)\n",
    "    print(\"Model successfully loaded!\")\n",
    "\n",
    "except Exception as e:\n",
    "    print(\"ERROR: model not loaded! path was: {}\".format(model_path))\n",
    "    print(e)    \n",
    "    \n",
    "est = symbolicregression.model.SymbolicTransformerRegressor(\n",
    "                        model=model,\n",
    "                        max_input_points=10001,\n",
    "                        n_trees_to_refine=100,\n",
    "                        rescale=True\n",
    "                        )\n",
    "##Example of data\n",
    "xs = np.reshape(xs, (len(xs),1))\n",
    "ys = np.reshape(ys, (len(ys),1))\n",
    "est.fit(xs,ys)\n",
    "\n",
    "replace_ops = {\"add\": \"+\", \"mul\": \"*\", \"sub\": \"-\", \"pow\": \"**\", \"inv\": \"1/\"}\n",
    "model_str = est.retrieve_tree(with_infos=True)[\"relabed_predicted_tree\"].infix()\n",
    "for op,replace_op in replace_ops.items():\n",
    "    model_str = model_str.replace(op,replace_op)\n",
    "\n",
    "expr = sp.parse_expr(model_str)\n",
    "display(expr)\n",
    "\n",
    "sp.expand(expr)"
   ]
  },
  {
   "cell_type": "code",
   "execution_count": 3,
   "id": "4f68416c",
   "metadata": {},
   "outputs": [
    {
     "data": {
      "text/plain": [
       "(10000, 1)"
      ]
     },
     "execution_count": 3,
     "metadata": {},
     "output_type": "execute_result"
    }
   ],
   "source": [
    "xs.shape"
   ]
  }
 ],
 "metadata": {
  "kernelspec": {
   "display_name": "symbolic",
   "language": "python",
   "name": "symbolic"
  },
  "language_info": {
   "codemirror_mode": {
    "name": "ipython",
    "version": 3
   },
   "file_extension": ".py",
   "mimetype": "text/x-python",
   "name": "python",
   "nbconvert_exporter": "python",
   "pygments_lexer": "ipython3",
   "version": "3.7.12"
  }
 },
 "nbformat": 4,
 "nbformat_minor": 5
}
