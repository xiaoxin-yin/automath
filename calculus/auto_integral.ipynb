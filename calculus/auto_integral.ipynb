{
 "cells": [
  {
   "cell_type": "code",
   "execution_count": 1,
   "id": "2f9fa8bb",
   "metadata": {},
   "outputs": [
    {
     "name": "stdout",
     "output_type": "stream",
     "text": [
      "cuda:0\n",
      "Model successfully loaded!\n"
     ]
    }
   ],
   "source": [
    "# Load symbolicregression model\n",
    "\n",
    "import torch\n",
    "import os, sys\n",
    "import symbolicregression\n",
    "import sympytorch\n",
    "import requests\n",
    "from sympy.core.rules import Transform\n",
    "\n",
    "model_path = \"ckpt/model.pt\" \n",
    "try:\n",
    "    if not os.path.isfile(model_path): \n",
    "        print(\"Downloading model...\")\n",
    "        url = \"https://dl.fbaipublicfiles.com/symbolicregression/model1.pt\"\n",
    "        r = requests.get(url, allow_redirects=True)\n",
    "        open(model_path, 'wb').write(r.content)\n",
    "    if not torch.cuda.is_available():\n",
    "        model = torch.load(model_path, map_location=torch.device('cpu'))\n",
    "    else:\n",
    "        model = torch.load(model_path)\n",
    "        model = model.cuda()\n",
    "    print(model.device)\n",
    "    print(\"Model successfully loaded!\")\n",
    "\n",
    "except Exception as e:\n",
    "    print(\"ERROR: model not loaded! path was: {}\".format(model_path))\n",
    "    print(e)    \n",
    "    \n",
    "est = symbolicregression.model.SymbolicTransformerRegressor(\n",
    "                        model=model,\n",
    "                        max_input_points=10001,\n",
    "                        n_trees_to_refine=100,\n",
    "                        rescale=True\n",
    "                        )"
   ]
  },
  {
   "cell_type": "code",
   "execution_count": 6,
   "id": "254dcf6b",
   "metadata": {},
   "outputs": [
    {
     "name": "stderr",
     "output_type": "stream",
     "text": [
      "/home/mcwave/anaconda3/envs/symbolic/lib/python3.10/site-packages/tqdm/auto.py:21: TqdmWarning: IProgress not found. Please update jupyter and ipywidgets. See https://ipywidgets.readthedocs.io/en/stable/user_install.html\n",
      "  from .autonotebook import tqdm as notebook_tqdm\n"
     ]
    }
   ],
   "source": [
    "from transformers import AutoTokenizer\n",
    "\n",
    "CONTEXT_LENGTH = 256\n",
    "\n",
    "tokenizer = AutoTokenizer.from_pretrained(\"xhyi/PT_GPTNEO350_ATG\") \n",
    "tokenizer.pad_token = tokenizer.eos_token\n",
    "    \n",
    "from transformers import AutoModelForCausalLM, TrainingArguments, Trainer\n",
    "\n",
    "model = AutoModelForCausalLM.from_pretrained(\"datasets/normalize_symbolic_regression_results_20231215/gptneo-350m-5500.model\")"
   ]
  },
  {
   "cell_type": "code",
   "execution_count": 2,
   "id": "d387f3de",
   "metadata": {},
   "outputs": [
    {
     "data": {
      "text/latex": [
       "$\\displaystyle \\frac{x^{3}}{3} - x^{2} + 2 x$"
      ],
      "text/plain": [
       "x**3/3 - x**2 + 2*x"
      ]
     },
     "metadata": {},
     "output_type": "display_data"
    },
    {
     "data": {
      "image/png": "[encoded data removed]",
      "text/plain": [
       "<Figure size 640x480 with 1 Axes>"
      ]
     },
     "metadata": {},
     "output_type": "display_data"
    }
   ],
   "source": [
    "import numpy as np\n",
    "import sympy as sp\n",
    "from sympy import sympify, lambdify, symbols, integrate, Interval, Symbol, I, S, oo, plot\n",
    "from IPython.display import display\n",
    "\n",
    "# Compute integration\n",
    "f = sympify(\"x**2-x*2+2\")\n",
    "#f = sympify(\"x*cos(x)\")\n",
    "x = Symbol('x')\n",
    "fi = integrate(f, x)\n",
    "display(fi)\n",
    "plot(fi, (x, -5, 5))\n",
    "\n",
    "# Generate data for symbolic regression\n",
    "fl = lambdify((x), fi, \"numpy\")\n",
    "xs = np.arange(-5, 5, 0.001)\n",
    "ys = fl(xs)"
   ]
  },
  {
   "cell_type": "code",
   "execution_count": 10,
   "id": "4d9d3691",
   "metadata": {},
   "outputs": [
    {
     "name": "stderr",
     "output_type": "stream",
     "text": [
      "/home/mcwave/anaconda3/envs/symbolic/lib/python3.10/site-packages/torch/_functorch/deprecated.py:62: UserWarning: We've integrated functorch into PyTorch. As the final step of the integration, functorch.grad is deprecated as of PyTorch 2.0 and will be deleted in a future version of PyTorch >= 2.3. Please use torch.func.grad instead; see the PyTorch 2.0 release notes and/or the torch.func migration guide for more details https://pytorch.org/docs/master/func.migrating.html\n",
      "  warn_deprecated('grad')\n",
      "/home/mcwave/anaconda3/envs/symbolic/lib/python3.10/site-packages/torch/_functorch/deprecated.py:62: UserWarning: We've integrated functorch into PyTorch. As the final step of the integration, functorch.grad is deprecated as of PyTorch 2.0 and will be deleted in a future version of PyTorch >= 2.3. Please use torch.func.grad instead; see the PyTorch 2.0 release notes and/or the torch.func migration guide for more details https://pytorch.org/docs/master/func.migrating.html\n",
      "  warn_deprecated('grad')\n",
      "/home/mcwave/anaconda3/envs/symbolic/lib/python3.10/site-packages/torch/_functorch/deprecated.py:62: UserWarning: We've integrated functorch into PyTorch. As the final step of the integration, functorch.grad is deprecated as of PyTorch 2.0 and will be deleted in a future version of PyTorch >= 2.3. Please use torch.func.grad instead; see the PyTorch 2.0 release notes and/or the torch.func migration guide for more details https://pytorch.org/docs/master/func.migrating.html\n",
      "  warn_deprecated('grad')\n"
     ]
    },
    {
     "data": {
      "text/latex": [
       "$\\displaystyle \\left(- 24.94153194524695 t - 0.012470765930979837\\right) \\left(- 0.030231809737575591 \\left(0.66488330386532809 t - 1\\right)^{2} - 0.04010392962524419\\right) + \\left(7.327054300355887 \\cdot 10^{-5} t + 0.0071935294784729419\\right) \\left(34.22532407465208 t - 0.12788801252573298\\right)$"
      ],
      "text/plain": [
       "(-24.94153194524695*t - 0.012470765930979837)*(-0.030231809737575591*(0.66488330386532809*t - 1)**2 - 0.04010392962524419) + (7.327054300355887e-5*t + 0.0071935294784729419)*(34.22532407465208*t - 0.12788801252573298)"
      ]
     },
     "metadata": {},
     "output_type": "display_data"
    },
    {
     "data": {
      "text/latex": [
       "$\\displaystyle 0.33 t^{3} - 1.0 t^{2} + 2.0 t$"
      ],
      "text/plain": [
       "0.33*t**3 - 1.0*t**2 + 2.0*t"
      ]
     },
     "metadata": {},
     "output_type": "display_data"
    },
    {
     "name": "stderr",
     "output_type": "stream",
     "text": [
      "/home/mcwave/anaconda3/envs/symbolic/lib/python3.10/site-packages/transformers/generation/configuration_utils.py:389: UserWarning: `do_sample` is set to `False`. However, `temperature` is set to `0.1` -- this flag is only used in sample-based generation modes. You should set `do_sample=True` or unset `temperature`.\n",
      "  warnings.warn(\n",
      "The attention mask and the pad token id were not set. As a consequence, you may observe unexpected behavior. Please pass your input's `attention_mask` to obtain reliable results.\n",
      "Setting `pad_token_id` to `eos_token_id`:50256 for open-end generation.\n"
     ]
    },
    {
     "name": "stdout",
     "output_type": "stream",
     "text": [
      "0.33*t**3 - 1.0*t**2 + 2.0*t\n",
      "0.33*t**3 - 1.0*t**2 + 2.0*t entail t**3/3 - 2*t/3 + 1endendendendendendendendendendendendendendend\n"
     ]
    }
   ],
   "source": [
    "##Example of data\n",
    "xs = np.reshape(xs, (len(xs),1))\n",
    "ys = np.reshape(ys, (len(ys),1))\n",
    "est.fit(xs,ys)\n",
    "\n",
    "replace_ops = {\"add\": \"+\", \"mul\": \"*\", \"sub\": \"-\", \"pow\": \"**\", \"inv\": \"1/\"}\n",
    "model_str = est.retrieve_tree(with_infos=True)[\"relabed_predicted_tree\"].infix()\n",
    "for op,replace_op in replace_ops.items():\n",
    "    model_str = model_str.replace(op,replace_op)\n",
    "\n",
    "raw_expr = sp.parse_expr(model_str)\n",
    "x_0, t = symbols(['x_0', 't'])\n",
    "raw_expr = raw_expr.subs(x_0, t)\n",
    "display(raw_expr)\n",
    "\n",
    "expr = sp.expand(raw_expr)\n",
    "rounded_expr = expr.xreplace(Transform(lambda x: x.round(2), lambda x: isinstance(x, sp.Float)))\n",
    "display(rounded_expr)\n",
    "print(rounded_expr)\n",
    "\n",
    "# Encode some input text\n",
    "prompt = str(rounded_expr) + \" entail\"\n",
    "input_ids = tokenizer.encode(prompt, return_tensors='pt')\n",
    "\n",
    "# Generate text\n",
    "output = model.generate(input_ids, max_length=50, num_return_sequences=1, temperature=0.1)\n",
    "\n",
    "# Decode and print the output\n",
    "generated_text = tokenizer.decode(output[0], skip_special_tokens=True)\n",
    "print(generated_text)"
   ]
  },
  {
   "cell_type": "code",
   "execution_count": 4,
   "id": "4f68416c",
   "metadata": {},
   "outputs": [
    {
     "data": {
      "text/plain": [
       "(10000, 1)"
      ]
     },
     "execution_count": 4,
     "metadata": {},
     "output_type": "execute_result"
    }
   ],
   "source": [
    "xs.shape"
   ]
  }
 ],
 "metadata": {
  "kernelspec": {
   "display_name": "symbolic",
   "language": "python",
   "name": "symbolic"
  },
  "language_info": {
   "codemirror_mode": {
    "name": "ipython",
    "version": 3
   },
   "file_extension": ".py",
   "mimetype": "text/x-python",
   "name": "python",
   "nbconvert_exporter": "python",
   "pygments_lexer": "ipython3",
   "version": "3.10.13"
  }
 },
 "nbformat": 4,
 "nbformat_minor": 5
}
