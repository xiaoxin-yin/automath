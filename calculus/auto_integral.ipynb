{
 "cells": [
  {
   "cell_type": "code",
   "execution_count": 1,
   "id": "2f9fa8bb",
   "metadata": {},
   "outputs": [
    {
     "name": "stdout",
     "output_type": "stream",
     "text": [
      "cuda:0\n",
      "Model successfully loaded!\n"
     ]
    }
   ],
   "source": [
    "# Load symbolicregression model\n",
    "\n",
    "import torch\n",
    "import os, sys\n",
    "import symbolicregression\n",
    "import sympytorch\n",
    "import requests\n",
    "from sympy.core.rules import Transform\n",
    "\n",
    "model_path = \"ckpt/model.pt\" \n",
    "try:\n",
    "    if not os.path.isfile(model_path): \n",
    "        print(\"Downloading model...\")\n",
    "        url = \"https://dl.fbaipublicfiles.com/symbolicregression/model1.pt\"\n",
    "        r = requests.get(url, allow_redirects=True)\n",
    "        open(model_path, 'wb').write(r.content)\n",
    "    if not torch.cuda.is_available():\n",
    "        model = torch.load(model_path, map_location=torch.device('cpu'))\n",
    "    else:\n",
    "        model = torch.load(model_path)\n",
    "        model = model.cuda()\n",
    "    print(model.device)\n",
    "    print(\"Model successfully loaded!\")\n",
    "\n",
    "except Exception as e:\n",
    "    print(\"ERROR: model not loaded! path was: {}\".format(model_path))\n",
    "    print(e)    \n",
    "    \n",
    "est = symbolicregression.model.SymbolicTransformerRegressor(\n",
    "                        model=model,\n",
    "                        max_input_points=10001,\n",
    "                        n_trees_to_refine=5,\n",
    "                        rescale=True\n",
    "                        )"
   ]
  },
  {
   "cell_type": "code",
   "execution_count": 2,
   "id": "254dcf6b",
   "metadata": {},
   "outputs": [
    {
     "name": "stderr",
     "output_type": "stream",
     "text": [
      "/home/mcwave/anaconda3/envs/symbolic/lib/python3.10/site-packages/tqdm/auto.py:21: TqdmWarning: IProgress not found. Please update jupyter and ipywidgets. See https://ipywidgets.readthedocs.io/en/stable/user_install.html\n",
      "  from .autonotebook import tqdm as notebook_tqdm\n",
      "You are using the default legacy behaviour of the <class 'transformers.models.t5.tokenization_t5.T5Tokenizer'>. This is expected, and simply means that the `legacy` (previous) behavior will be used so nothing changes for you. If you want to use the new behaviour, set `legacy=False`. This should only be set if you understand what it means, and thouroughly read the reason why this was added as explained in https://github.com/huggingface/transformers/pull/24565\n",
      "Special tokens have been added in the vocabulary, make sure the associated word embeddings are fine-tuned or trained.\n"
     ]
    }
   ],
   "source": [
    "# from transformers import AutoTokenizer\n",
    "# CONTEXT_LENGTH = 256\n",
    "# tokenizer = AutoTokenizer.from_pretrained(\"xhyi/PT_GPTNEO350_ATG\") \n",
    "# tokenizer.pad_token = tokenizer.eos_token\n",
    "# from transformers import AutoModelForCausalLM, TrainingArguments, Trainer\n",
    "# model = AutoModelForCausalLM.from_pretrained(\"datasets/normalize_symbolic_regression_results_20231215/gptneo-350m-5500.model\")\n",
    "\n",
    "\n",
    "from transformers import T5Tokenizer, DataCollatorForSeq2Seq\n",
    "from transformers import T5ForConditionalGeneration, Seq2SeqTrainingArguments, Seq2SeqTrainer\n",
    "\n",
    "# Load the tokenizer, model, and data collator\n",
    "MODEL_NAME = \"google/flan-t5-base\"\n",
    "\n",
    "tokenizer = T5Tokenizer.from_pretrained(MODEL_NAME)\n",
    "model = T5ForConditionalGeneration.from_pretrained(\"datasets/normalize_symbolic_regression_results_flant5_20231219/flant5-base-36000-loss0.097.model\")\n",
    "data_collator = DataCollatorForSeq2Seq(tokenizer=tokenizer, model=model)"
   ]
  },
  {
   "cell_type": "code",
   "execution_count": 3,
   "id": "4f68416c",
   "metadata": {},
   "outputs": [
    {
     "name": "stdout",
     "output_type": "stream",
     "text": [
      "Running integration on\n"
     ]
    },
    {
     "data": {
      "text/latex": [
       "$\\displaystyle 2 t^{2} - 2 t + 2.5$"
      ],
      "text/plain": [
       "2*t**2 - 2*t + 2.5"
      ]
     },
     "metadata": {},
     "output_type": "display_data"
    },
    {
     "data": {
      "text/latex": [
       "$\\displaystyle 0.666666666666667 t^{3} - 1.0 t^{2} + 2.5 t$"
      ],
      "text/plain": [
       "0.666666666666667*t**3 - 1.0*t**2 + 2.5*t"
      ]
     },
     "metadata": {},
     "output_type": "display_data"
    },
    {
     "data": {
      "text/plain": [
       "(0.666666666666667*t**3 - 1.0*t**2 + 2.5*t,\n",
       " array([-4.   , -3.998, -3.996, ...,  3.994,  3.996,  3.998]),\n",
       " array([-68.66666667, -68.58170266, -68.49681062, ...,  36.50791852,\n",
       "         36.56077862,  36.61369466]))"
      ]
     },
     "execution_count": 3,
     "metadata": {},
     "output_type": "execute_result"
    }
   ],
   "source": [
    "import numpy as np\n",
    "import sympy as sp\n",
    "from sympy import sympify, lambdify, symbols, integrate, Interval, Symbol, I, S, oo, plot\n",
    "from IPython.display import display\n",
    "\n",
    "# Given an expr f (of variable t), returns its integral, together with t's and y's for regression\n",
    "def integrate_expr(f, min_x=-4.0, max_x=4.0, increment=0.002, verbose=False):\n",
    "    if verbose:\n",
    "        print(\"Running integration on\")\n",
    "        display(f)\n",
    "    # Compute integration\n",
    "    x, t = symbols(['x','t'])\n",
    "    fi = integrate(f, t)\n",
    "    if verbose:\n",
    "        display(fi)\n",
    "        #plot(fi, (t, min_x, max_x))\n",
    "    # Generate data for symbolic regression\n",
    "    fl = lambdify((t), fi, \"numpy\")\n",
    "    ts = np.arange(min_x, max_x, increment)\n",
    "    ys = fl(ts)\n",
    "    return fi, ts, ys\n",
    "    \n",
    "integrate_expr(sympify(\"2*t**2-t*2+2.5\"), verbose=True)"
   ]
  },
  {
   "cell_type": "code",
   "execution_count": 4,
   "id": "5bb80a06",
   "metadata": {},
   "outputs": [
    {
     "data": {
      "text/latex": [
       "$\\displaystyle 0.67 t^{3} - 1.0 t^{2} + 2.5 t$"
      ],
      "text/plain": [
       "0.67*t**3 - 1.0*t**2 + 2.5*t"
      ]
     },
     "metadata": {},
     "output_type": "display_data"
    },
    {
     "name": "stderr",
     "output_type": "stream",
     "text": [
      "/home/mcwave/anaconda3/envs/symbolic/lib/python3.10/site-packages/torch/_functorch/deprecated.py:62: UserWarning: We've integrated functorch into PyTorch. As the final step of the integration, functorch.grad is deprecated as of PyTorch 2.0 and will be deleted in a future version of PyTorch >= 2.3. Please use torch.func.grad instead; see the PyTorch 2.0 release notes and/or the torch.func migration guide for more details https://pytorch.org/docs/master/func.migrating.html\n",
      "  warn_deprecated('grad')\n",
      "/home/mcwave/anaconda3/envs/symbolic/lib/python3.10/site-packages/transformers/generation/configuration_utils.py:389: UserWarning: `do_sample` is set to `False`. However, `temperature` is set to `0.1` -- this flag is only used in sample-based generation modes. You should set `do_sample=True` or unset `temperature`.\n",
      "  warnings.warn(\n"
     ]
    },
    {
     "data": {
      "text/latex": [
       "$\\displaystyle 0.67 t^{3} - t^{2} + 2.5 t$"
      ],
      "text/plain": [
       "0.67*t**3 - t**2 + 2.5*t"
      ]
     },
     "metadata": {},
     "output_type": "display_data"
    },
    {
     "name": "stdout",
     "output_type": "stream",
     "text": [
      "Diff1:\n"
     ]
    },
    {
     "data": {
      "text/latex": [
       "$\\displaystyle 0$"
      ],
      "text/plain": [
       "0"
      ]
     },
     "metadata": {},
     "output_type": "display_data"
    },
    {
     "name": "stdout",
     "output_type": "stream",
     "text": [
      "Diff2:\n"
     ]
    },
    {
     "data": {
      "text/latex": [
       "$\\displaystyle - 7.812500000004 \\cdot 10^{-5} t^{3}$"
      ],
      "text/plain": [
       "-7.812500000004e-5*t**3"
      ]
     },
     "metadata": {},
     "output_type": "display_data"
    }
   ],
   "source": [
    "from utils.utils import *\n",
    "\n",
    "def round_expr(expr, num_digits=2):\n",
    "    return expr.xreplace(Transform(lambda x: x.round(num_digits), lambda x: isinstance(x, sp.Float)))\n",
    "\n",
    "# Run symbolic regression on given data\n",
    "# Returns: (raw regressed expr, rounded expr, model refined expr)\n",
    "@timeout(15)\n",
    "def symbolic_regress(sr_model, xs, ys, generate_refinement=True, verbose=False):\n",
    "    if verbose:\n",
    "        print(\"Running Symbolic Regression...\")\n",
    "    ##Example of data\n",
    "    xs = np.reshape(xs, (len(xs),1))\n",
    "    ys = np.reshape(ys, (len(ys),1))\n",
    "    est.fit(xs,ys)\n",
    "    #\n",
    "    replace_ops = {\"add\": \"+\", \"mul\": \"*\", \"sub\": \"-\", \"pow\": \"**\", \"inv\": \"1/\"}\n",
    "    model_str = sr_model.retrieve_tree(with_infos=True)[\"relabed_predicted_tree\"].infix()\n",
    "    for op,replace_op in replace_ops.items():\n",
    "        model_str = model_str.replace(op,replace_op)\n",
    "    #\n",
    "    raw_expr = sp.parse_expr(model_str)\n",
    "    x_0, t = symbols(['x_0', 't'])\n",
    "    raw_expr = raw_expr.subs(x_0, t)\n",
    "    if verbose:\n",
    "        display(raw_expr)\n",
    "    #\n",
    "    expr = sp.expand(raw_expr)\n",
    "    rounded_expr = round_expr(expr)\n",
    "    if verbose:\n",
    "        display(rounded_expr)\n",
    "    #\n",
    "    # Encode some input text\n",
    "    if generate_refinement:\n",
    "        prompt = str(rounded_expr)\n",
    "        input_ids = tokenizer.encode(prompt, return_tensors='pt')\n",
    "        #\n",
    "        # Generate text\n",
    "        output = model.generate(input_ids, max_length=50, num_return_sequences=1, temperature=0.1)\n",
    "        #\n",
    "        # Decode and print the output\n",
    "        generated_text = tokenizer.decode(output[0], skip_special_tokens=True)\n",
    "        generated_expr = sympify(generated_text)\n",
    "        if verbose:\n",
    "            display(generated_expr)\n",
    "        #\n",
    "    else:\n",
    "        generated_expr = None\n",
    "    return raw_expr, rounded_expr, generated_expr\n",
    "\n",
    "\n",
    "fi, ts, ys = integrate_expr(sympify(\"2*t**2-t*2+2.5\"), verbose=False)\n",
    "rounded_fi = round_expr(fi)\n",
    "display(rounded_fi)\n",
    "raw_expr, rounded_expr, generated_expr = symbolic_regress(est, ts, ys, verbose=False)\n",
    "display(generated_expr)\n",
    "\n",
    "print(\"Diff1:\")\n",
    "display(rounded_fi-rounded_expr)\n",
    "print(\"Diff2:\")\n",
    "display(rounded_fi-generated_expr)"
   ]
  },
  {
   "cell_type": "code",
   "execution_count": 5,
   "id": "3049e9a5",
   "metadata": {},
   "outputs": [],
   "source": [
    "import json\n",
    "import random\n",
    "import numpy as np\n",
    "\n",
    "def load_expressions(filepaths):\n",
    "    lines = []\n",
    "    for filepath in filepaths:\n",
    "        fin = open(filepath, 'r')\n",
    "        lines.extend(fin.readlines())\n",
    "        fin.close()\n",
    "    #\n",
    "    random.shuffle(lines)\n",
    "    exprs = set()\n",
    "    for line in lines:\n",
    "        data = json.loads(line)\n",
    "        for k,v in data.items():\n",
    "            if k in ('f_t', 'g_t'):\n",
    "                try:\n",
    "                    if 'sqrt' not in v[1]:\n",
    "                        expr = sympify(v[1])\n",
    "                        exprs.add(expr)\n",
    "                except:\n",
    "                    continue\n",
    "    return exprs\n",
    "\n",
    "#exprs = load_expressions(['datasets/parametric_equations.json'])  #'datasets/function_evaluation.json', "
   ]
  },
  {
   "cell_type": "code",
   "execution_count": 6,
   "id": "41e43ef0",
   "metadata": {},
   "outputs": [],
   "source": [
    "# seen_exprs = set()\n",
    "# fin = open(\"datasets/parametric_equations_integral_results.json\", \"r\")\n",
    "# lines = fin.readlines()\n",
    "# for line in lines:\n",
    "#     result = json.loads(line)\n",
    "#     expr = result[\"original\"]\n",
    "#     seen_exprs.add(expr)\n",
    "# fin.close()\n",
    "# print(f\"{len(seen_exprs)} exprs loaded\")\n",
    "\n",
    "# fout = open(\"datasets/parametric_equations_integral_results.json\", \"a\")\n",
    "# num_seen = 0\n",
    "# num_seen_changed = False\n",
    "\n",
    "# for f in exprs:\n",
    "#     if str(f) in seen_exprs:\n",
    "#         num_seen+=1\n",
    "#         num_seen_changed = True\n",
    "#         continue\n",
    "#     else:\n",
    "#         num_seen_changed = False\n",
    "#     if num_seen_changed:\n",
    "#         print(f\"{num_seen} exprs ignored\")\n",
    "#     #print(\"Original expr and its integral:\")\n",
    "#     #display(f)\n",
    "#     #print(f)\n",
    "#     try:\n",
    "#         fi, xs, ys = integrate_expr(f, verbose=False)\n",
    "#         x, t = symbols(['x','t'])\n",
    "#         fi = fi.subs({x:t})\n",
    "#         rounded_fi = round_expr(fi)\n",
    "#         #display(rounded_fi)\n",
    "#         raw_expr, rounded_expr, generated_expr = symbolic_regress(est, xs, ys, generate_refinement=True, verbose=False)\n",
    "# #         print(\"Generated expr:\")\n",
    "# #         display(generated_expr)\n",
    "#         results = {\"original\":str(f),\n",
    "#                    \"integral\":str(fi),\n",
    "#                    \"rounded_integral\":str(rounded_fi),\n",
    "#                    \"regressed\":str(raw_expr),\n",
    "#                    \"rounded_regressed\":str(rounded_expr),\n",
    "#                    \"generated_regressed\":str(generated_expr),\n",
    "#                    \"diff_rounded\": str(rounded_fi-rounded_expr),\n",
    "#                    \"diff_generated\": str(rounded_fi-generated_expr)\n",
    "#                   }\n",
    "#         fout.write(json.dumps(results))\n",
    "#         fout.write('\\n')\n",
    "#         fout.flush()\n",
    "#     except:\n",
    "#         print(\"Failed to run symbolic regression\")\n",
    "#         continue\n",
    "#     #     print(\"Diff1:\")\n",
    "#     #     display(rounded_fi-rounded_expr)\n",
    "#     #     print(\"Diff2:\")\n",
    "#     #     display(rounded_fi-generated_expr)\n",
    "\n",
    "# fout.close()"
   ]
  },
  {
   "cell_type": "code",
   "execution_count": null,
   "id": "a229cd86",
   "metadata": {},
   "outputs": [
    {
     "name": "stdout",
     "output_type": "stream",
     "text": [
      "Violating constants: [-0.10999999999999943]\n",
      "Violating constants: []\n",
      "Violating constants: []\n",
      "Violating constants: []\n",
      "Violating constants: []\n",
      "Violating constants: []\n",
      "Violating constants: []\n",
      "Violating constants: []\n",
      "Violating constants: []\n",
      "Violating constants: []\n",
      "Violating constants: [0.03, -0.019999999999999574, -0.710000000000008]\n"
     ]
    },
    {
     "data": {
      "text/latex": [
       "$\\displaystyle 0.11 t^{3} + 5.33 t^{2} + 85.33 t$"
      ],
      "text/plain": [
       "0.11*t**3 + 5.33*t**2 + 85.33*t"
      ]
     },
     "metadata": {},
     "output_type": "display_data"
    },
    {
     "data": {
      "text/latex": [
       "$\\displaystyle 0.08 t^{3} + 5.35 t^{2} + 86.04 t$"
      ],
      "text/plain": [
       "0.08*t**3 + 5.35*t**2 + 86.04*t"
      ]
     },
     "metadata": {},
     "output_type": "display_data"
    },
    {
     "name": "stdout",
     "output_type": "stream",
     "text": [
      "0.08*t**3 + 5.35*t**2 + 86.04*t\n"
     ]
    },
    {
     "data": {
      "text/latex": [
       "$\\displaystyle 0.03 t^{3} - 0.0199999999999996 t^{2} - 0.710000000000008 t$"
      ],
      "text/plain": [
       "0.03*t**3 - 0.0199999999999996*t**2 - 0.710000000000008*t"
      ]
     },
     "metadata": {},
     "output_type": "display_data"
    },
    {
     "name": "stdout",
     "output_type": "stream",
     "text": [
      "Violating constants: []\n",
      "Violating constants: []\n",
      "Violating constants: []\n",
      "Violating constants: []\n",
      "Violating constants: []\n",
      "Violating constants: []\n",
      "Violating constants: []\n",
      "Violating constants: []\n",
      "Violating constants: []\n",
      "Violating constants: []\n",
      "Violating constants: [-0.049999999999998934, -0.09]\n"
     ]
    },
    {
     "data": {
      "text/latex": [
       "$\\displaystyle 0.11 t^{3} - 2.12 t^{2} + 13.8 t$"
      ],
      "text/plain": [
       "0.11*t**3 - 2.12*t**2 + 13.8*t"
      ]
     },
     "metadata": {},
     "output_type": "display_data"
    },
    {
     "data": {
      "text/latex": [
       "$\\displaystyle 0.11 t^{3} - 2.11 t^{2} + 13.85 t + 0.09$"
      ],
      "text/plain": [
       "0.11*t**3 - 2.11*t**2 + 13.85*t + 0.09"
      ]
     },
     "metadata": {},
     "output_type": "display_data"
    },
    {
     "name": "stdout",
     "output_type": "stream",
     "text": [
      "0.11*t**3 - 2.11*t**2 + 13.85*t + 0.09\n"
     ]
    },
    {
     "data": {
      "text/latex": [
       "$\\displaystyle - 0.0100000000000002 t^{2} - 0.0499999999999989 t - 0.09$"
      ],
      "text/plain": [
       "-0.0100000000000002*t**2 - 0.0499999999999989*t - 0.09"
      ]
     },
     "metadata": {},
     "output_type": "display_data"
    },
    {
     "name": "stdout",
     "output_type": "stream",
     "text": [
      "Violating constants: []\n",
      "Violating constants: []\n",
      "Violating constants: []\n",
      "Violating constants: []\n",
      "Violating constants: []\n",
      "Violating constants: []\n",
      "Violating constants: []\n",
      "Violating constants: []\n",
      "Violating constants: []\n",
      "Violating constants: []\n",
      "Violating constants: [0.029999999999999805, 0.14000000000000012, 0.21]\n"
     ]
    },
    {
     "data": {
      "text/latex": [
       "$\\displaystyle 1.78 t^{3} + 2.67 t^{2} + 1.33 t$"
      ],
      "text/plain": [
       "1.78*t**3 + 2.67*t**2 + 1.33*t"
      ]
     },
     "metadata": {},
     "output_type": "display_data"
    },
    {
     "data": {
      "text/latex": [
       "$\\displaystyle 1.78 t^{3} + 2.64 t^{2} + 1.19 t - 0.21$"
      ],
      "text/plain": [
       "1.78*t**3 + 2.64*t**2 + 1.19*t - 0.21"
      ]
     },
     "metadata": {},
     "output_type": "display_data"
    },
    {
     "name": "stdout",
     "output_type": "stream",
     "text": [
      "1.78*t**3 + 2.64*t**2 + 1.19*t - 0.21\n"
     ]
    },
    {
     "data": {
      "text/latex": [
       "$\\displaystyle 0.0299999999999998 t^{2} + 0.14 t + 0.21$"
      ],
      "text/plain": [
       "0.0299999999999998*t**2 + 0.14*t + 0.21"
      ]
     },
     "metadata": {},
     "output_type": "display_data"
    },
    {
     "name": "stdout",
     "output_type": "stream",
     "text": [
      "Violating constants: []\n",
      "Violating constants: []\n",
      "Violating constants: [0.11458398580551155, 0.04695407867431639]\n"
     ]
    },
    {
     "data": {
      "text/latex": [
       "$\\displaystyle 4.33 t^{2} - 0.33 t$"
      ],
      "text/plain": [
       "4.33*t**2 - 0.33*t"
      ]
     },
     "metadata": {},
     "output_type": "display_data"
    },
    {
     "data": {
      "text/latex": [
       "$\\displaystyle 4.21541601419449 t^{2} - 0.376954078674316 t$"
      ],
      "text/plain": [
       "4.21541601419449*t**2 - 0.376954078674316*t"
      ]
     },
     "metadata": {},
     "output_type": "display_data"
    },
    {
     "name": "stdout",
     "output_type": "stream",
     "text": [
      "4.21541601419449*t**2 - 0.376954078674316*t\n"
     ]
    },
    {
     "data": {
      "text/latex": [
       "$\\displaystyle 0.114583985805512 t^{2} + 0.0469540786743164 t$"
      ],
      "text/plain": [
       "0.114583985805512*t**2 + 0.0469540786743164*t"
      ]
     },
     "metadata": {},
     "output_type": "display_data"
    },
    {
     "name": "stdout",
     "output_type": "stream",
     "text": [
      "Violating constants: []\n",
      "Violating constants: []\n",
      "Violating constants: []\n",
      "Violating constants: []\n",
      "Violating constants: []\n",
      "Violating constants: []\n",
      "Violating constants: []\n",
      "Violating constants: []\n",
      "Violating constants: []\n",
      "Violating constants: []\n",
      "Violating constants: []\n",
      "Violating constants: []\n",
      "Violating constants: [24.653333333333332, -129.0, 348.13, 3.37]\n"
     ]
    },
    {
     "data": {
      "text/latex": [
       "$\\displaystyle 24.6533333333333 t^{3} - 129.0 t^{2} + 225.0 t$"
      ],
      "text/plain": [
       "24.6533333333333*t**3 - 129.0*t**2 + 225.0*t"
      ]
     },
     "metadata": {},
     "output_type": "display_data"
    },
    {
     "data": {
      "text/latex": [
       "$\\displaystyle - 123.13 t - 3.37$"
      ],
      "text/plain": [
       "-123.13*t - 3.37"
      ]
     },
     "metadata": {},
     "output_type": "display_data"
    },
    {
     "name": "stdout",
     "output_type": "stream",
     "text": [
      "-123.13*t - 3.37\n"
     ]
    },
    {
     "data": {
      "text/latex": [
       "$\\displaystyle 24.6533333333333 t^{3} - 129.0 t^{2} + 348.13 t + 3.37$"
      ],
      "text/plain": [
       "24.6533333333333*t**3 - 129.0*t**2 + 348.13*t + 3.37"
      ]
     },
     "metadata": {},
     "output_type": "display_data"
    },
    {
     "name": "stdout",
     "output_type": "stream",
     "text": [
      "Violating constants: []\n",
      "Violating constants: [0.06000000000000005, 0.09]\n"
     ]
    },
    {
     "data": {
      "text/latex": [
       "$\\displaystyle 9.01 t^{3} + 9.36 t^{2} + 3.24 t$"
      ],
      "text/plain": [
       "9.01*t**3 + 9.36*t**2 + 3.24*t"
      ]
     },
     "metadata": {},
     "output_type": "display_data"
    },
    {
     "data": {
      "text/latex": [
       "$\\displaystyle 9.01 t^{3} + 9.35 t^{2} + 3.18 t - 0.09$"
      ],
      "text/plain": [
       "9.01*t**3 + 9.35*t**2 + 3.18*t - 0.09"
      ]
     },
     "metadata": {},
     "output_type": "display_data"
    },
    {
     "name": "stdout",
     "output_type": "stream",
     "text": [
      "9.01*t**3 + 9.35*t**2 + 3.18*t - 0.09\n"
     ]
    },
    {
     "data": {
      "text/latex": [
       "$\\displaystyle 0.00999999999999979 t^{2} + 0.0600000000000001 t + 0.09$"
      ],
      "text/plain": [
       "0.00999999999999979*t**2 + 0.0600000000000001*t + 0.09"
      ]
     },
     "metadata": {},
     "output_type": "display_data"
    },
    {
     "name": "stdout",
     "output_type": "stream",
     "text": [
      "Violating constants: [-0.02]\n"
     ]
    },
    {
     "data": {
      "text/latex": [
       "$\\displaystyle 3.0 t^{3} - 6.0 t^{2} + 4.0 t$"
      ],
      "text/plain": [
       "3.0*t**3 - 6.0*t**2 + 4.0*t"
      ]
     },
     "metadata": {},
     "output_type": "display_data"
    },
    {
     "data": {
      "text/latex": [
       "$\\displaystyle 3.0 t^{3} - 6.0 t^{2} + 4.01 t + 0.02$"
      ],
      "text/plain": [
       "3.0*t**3 - 6.0*t**2 + 4.01*t + 0.02"
      ]
     },
     "metadata": {},
     "output_type": "display_data"
    },
    {
     "name": "stdout",
     "output_type": "stream",
     "text": [
      "3.0*t**3 - 6.0*t**2 + 4.01*t + 0.02\n"
     ]
    },
    {
     "data": {
      "text/latex": [
       "$\\displaystyle - 0.00999999999999979 t - 0.02$"
      ],
      "text/plain": [
       "-0.00999999999999979*t - 0.02"
      ]
     },
     "metadata": {},
     "output_type": "display_data"
    },
    {
     "name": "stdout",
     "output_type": "stream",
     "text": [
      "Violating constants: []\n",
      "Violating constants: []\n",
      "Violating constants: []\n",
      "Violating constants: []\n",
      "Violating constants: []\n",
      "Violating constants: []\n",
      "Violating constants: []\n",
      "Violating constants: []\n",
      "Violating constants: []\n",
      "Violating constants: []\n",
      "Violating constants: []\n",
      "Violating constants: []\n",
      "Violating constants: []\n",
      "Violating constants: []\n",
      "Violating constants: []\n",
      "Violating constants: [0.11, -0.05000000000000071, -1.799999999999983]\n"
     ]
    },
    {
     "data": {
      "text/latex": [
       "$\\displaystyle 0.11 t^{3} + 8.67 t^{2} + 225.33 t$"
      ],
      "text/plain": [
       "0.11*t**3 + 8.67*t**2 + 225.33*t"
      ]
     },
     "metadata": {},
     "output_type": "display_data"
    },
    {
     "data": {
      "text/latex": [
       "$\\displaystyle 8.72 t^{2} + 227.13 t + 0.01$"
      ],
      "text/plain": [
       "8.72*t**2 + 227.13*t + 0.01"
      ]
     },
     "metadata": {},
     "output_type": "display_data"
    },
    {
     "name": "stdout",
     "output_type": "stream",
     "text": [
      "8.72*t**2 + 227.13*t + 0.01\n"
     ]
    },
    {
     "data": {
      "text/latex": [
       "$\\displaystyle 0.11 t^{3} - 0.0500000000000007 t^{2} - 1.79999999999998 t - 0.01$"
      ],
      "text/plain": [
       "0.11*t**3 - 0.0500000000000007*t**2 - 1.79999999999998*t - 0.01"
      ]
     },
     "metadata": {},
     "output_type": "display_data"
    },
    {
     "name": "stdout",
     "output_type": "stream",
     "text": [
      "Violating constants: []\n",
      "Violating constants: []\n",
      "Violating constants: []\n",
      "Violating constants: []\n",
      "Violating constants: []\n",
      "Violating constants: []\n",
      "Violating constants: []\n",
      "Violating constants: []\n",
      "Violating constants: []\n",
      "Violating constants: [-0.03999999999999915, -0.05]\n"
     ]
    },
    {
     "data": {
      "text/latex": [
       "$\\displaystyle 2.08333333333333 t^{3} - 7.5 t^{2} + 9.0 t$"
      ],
      "text/plain": [
       "2.08333333333333*t**3 - 7.5*t**2 + 9.0*t"
      ]
     },
     "metadata": {},
     "output_type": "display_data"
    },
    {
     "data": {
      "text/latex": [
       "$\\displaystyle 2.08 t^{3} - 7.49 t^{2} + 9.04 t + 0.05$"
      ],
      "text/plain": [
       "2.08*t**3 - 7.49*t**2 + 9.04*t + 0.05"
      ]
     },
     "metadata": {},
     "output_type": "display_data"
    },
    {
     "name": "stdout",
     "output_type": "stream",
     "text": [
      "2.08*t**3 - 7.49*t**2 + 9.04*t + 0.05\n"
     ]
    },
    {
     "data": {
      "text/latex": [
       "$\\displaystyle 0.00333333333333341 t^{3} - 0.00999999999999979 t^{2} - 0.0399999999999991 t - 0.05$"
      ],
      "text/plain": [
       "0.00333333333333341*t**3 - 0.00999999999999979*t**2 - 0.0399999999999991*t - 0.05"
      ]
     },
     "metadata": {},
     "output_type": "display_data"
    },
    {
     "name": "stdout",
     "output_type": "stream",
     "text": [
      "Violating constants: []\n",
      "Violating constants: []\n",
      "Violating constants: []\n",
      "Violating constants: []\n",
      "Violating constants: []\n",
      "Violating constants: []\n",
      "Violating constants: []\n",
      "Violating constants: []\n",
      "Violating constants: []\n",
      "Violating constants: []\n",
      "Violating constants: []\n",
      "Violating constants: []\n",
      "Violating constants: []\n",
      "Violating constants: []\n",
      "Violating constants: []\n",
      "Violating constants: []\n",
      "Violating constants: []\n",
      "Violating constants: []\n",
      "Violating constants: []\n",
      "Violating constants: []\n",
      "Violating constants: []\n",
      "Violating constants: []\n",
      "Violating constants: []\n",
      "Violating constants: []\n",
      "Violating constants: []\n",
      "Violating constants: []\n",
      "Violating constants: []\n",
      "Violating constants: []\n",
      "Violating constants: []\n",
      "Violating constants: []\n",
      "Violating constants: []\n",
      "Violating constants: []\n",
      "Violating constants: [-4.39, 1.35]\n"
     ]
    },
    {
     "data": {
      "text/latex": [
       "$\\displaystyle - 4.33 t^{2} + 1.33 t$"
      ],
      "text/plain": [
       "-4.33*t**2 + 1.33*t"
      ]
     },
     "metadata": {},
     "output_type": "display_data"
    },
    {
     "data": {
      "text/latex": [
       "$\\displaystyle 0.06 t^{2} - 0.02 t$"
      ],
      "text/plain": [
       "0.06*t**2 - 0.02*t"
      ]
     },
     "metadata": {},
     "output_type": "display_data"
    },
    {
     "name": "stdout",
     "output_type": "stream",
     "text": [
      "0.06*t**2 - 0.02*t\n"
     ]
    },
    {
     "data": {
      "text/latex": [
       "$\\displaystyle - 4.39 t^{2} + 1.35 t$"
      ],
      "text/plain": [
       "-4.39*t**2 + 1.35*t"
      ]
     },
     "metadata": {},
     "output_type": "display_data"
    },
    {
     "name": "stdout",
     "output_type": "stream",
     "text": [
      "Violating constants: []\n",
      "Violating constants: []\n",
      "Violating constants: []\n",
      "Violating constants: []\n",
      "Violating constants: []\n",
      "Violating constants: []\n",
      "Violating constants: []\n",
      "Violating constants: []\n",
      "Violating constants: []\n",
      "Violating constants: []\n",
      "Violating constants: []\n",
      "Violating constants: []\n",
      "Violating constants: []\n",
      "Violating constants: []\n",
      "Violating constants: []\n",
      "Violating constants: []\n",
      "Violating constants: []\n",
      "Violating constants: []\n",
      "Violating constants: []\n",
      "Violating constants: []\n",
      "Violating constants: []\n",
      "Violating constants: []\n",
      "Violating constants: []\n",
      "Violating constants: []\n",
      "Violating constants: []\n",
      "Violating constants: []\n",
      "Violating constants: []\n",
      "Violating constants: []\n",
      "Violating constants: []\n",
      "Violating constants: []\n",
      "Violating constants: []\n",
      "Violating constants: []\n",
      "Violating constants: []\n",
      "Violating constants: []\n",
      "Violating constants: []\n",
      "Violating constants: []\n",
      "Violating constants: [-0.02]\n"
     ]
    },
    {
     "data": {
      "text/latex": [
       "$\\displaystyle 23.1481481481481 t^{3} + 16.6666666666667 t^{2} + 4.0 t$"
      ],
      "text/plain": [
       "23.1481481481481*t**3 + 16.6666666666667*t**2 + 4.0*t"
      ]
     },
     "metadata": {},
     "output_type": "display_data"
    },
    {
     "data": {
      "text/latex": [
       "$\\displaystyle 23.15 t^{3} + 16.67 t^{2} + 4.01 t + 0.02$"
      ],
      "text/plain": [
       "23.15*t**3 + 16.67*t**2 + 4.01*t + 0.02"
      ]
     },
     "metadata": {},
     "output_type": "display_data"
    },
    {
     "name": "stdout",
     "output_type": "stream",
     "text": [
      "23.15*t**3 + 16.67*t**2 + 4.01*t + 0.02\n"
     ]
    },
    {
     "data": {
      "text/latex": [
       "$\\displaystyle - 0.00185185185184977 t^{3} - 0.00333333333333385 t^{2} - 0.00999999999999979 t - 0.02$"
      ],
      "text/plain": [
       "-0.00185185185184977*t**3 - 0.00333333333333385*t**2 - 0.00999999999999979*t - 0.02"
      ]
     },
     "metadata": {},
     "output_type": "display_data"
    },
    {
     "name": "stdout",
     "output_type": "stream",
     "text": [
      "Violating constants: []\n",
      "Violating constants: []\n",
      "Violating constants: []\n",
      "Violating constants: []\n",
      "Violating constants: []\n",
      "Violating constants: []\n",
      "Violating constants: []\n",
      "Violating constants: []\n",
      "Violating constants: []\n",
      "Violating constants: []\n",
      "Violating constants: []\n",
      "Violating constants: []\n",
      "Violating constants: []\n",
      "Violating constants: []\n",
      "Violating constants: []\n",
      "Violating constants: []\n",
      "Violating constants: []\n",
      "Violating constants: []\n",
      "Violating constants: []\n",
      "Violating constants: []\n",
      "Violating constants: []\n",
      "Violating constants: []\n",
      "Violating constants: []\n",
      "Violating constants: []\n",
      "Violating constants: []\n",
      "Violating constants: []\n",
      "Violating constants: [0.33, -7.5, 56.42]\n"
     ]
    },
    {
     "data": {
      "text/latex": [
       "$\\displaystyle 0.33 t^{3} - 7.5 t^{2} + 56.25 t$"
      ],
      "text/plain": [
       "0.33*t**3 - 7.5*t**2 + 56.25*t"
      ]
     },
     "metadata": {},
     "output_type": "display_data"
    },
    {
     "data": {
      "text/latex": [
       "$\\displaystyle - 0.17 t$"
      ],
      "text/plain": [
       "-0.17*t"
      ]
     },
     "metadata": {},
     "output_type": "display_data"
    },
    {
     "name": "stdout",
     "output_type": "stream",
     "text": [
      "-0.17*t\n"
     ]
    },
    {
     "data": {
      "text/latex": [
       "$\\displaystyle 0.33 t^{3} - 7.5 t^{2} + 56.42 t$"
      ],
      "text/plain": [
       "0.33*t**3 - 7.5*t**2 + 56.42*t"
      ]
     },
     "metadata": {},
     "output_type": "display_data"
    },
    {
     "name": "stdout",
     "output_type": "stream",
     "text": [
      "Violating constants: []\n",
      "Violating constants: []\n",
      "Violating constants: []\n",
      "Violating constants: []\n",
      "Violating constants: []\n",
      "Violating constants: []\n",
      "Violating constants: []\n",
      "Violating constants: []\n",
      "Violating constants: []\n",
      "Violating constants: []\n",
      "Violating constants: []\n",
      "Violating constants: []\n",
      "Violating constants: []\n",
      "Violating constants: []\n",
      "Violating constants: []\n",
      "Violating constants: []\n",
      "Violating constants: [-0.020000000000010232, -0.03]\n"
     ]
    },
    {
     "data": {
      "text/latex": [
       "$\\displaystyle 0.213333333333333 t^{3} + 12.0 t^{2} + 225.0 t$"
      ],
      "text/plain": [
       "0.213333333333333*t**3 + 12.0*t**2 + 225.0*t"
      ]
     },
     "metadata": {},
     "output_type": "display_data"
    },
    {
     "data": {
      "text/latex": [
       "$\\displaystyle 0.21 t^{3} + 12.0 t^{2} + 225.02 t + 0.03$"
      ],
      "text/plain": [
       "0.21*t**3 + 12.0*t**2 + 225.02*t + 0.03"
      ]
     },
     "metadata": {},
     "output_type": "display_data"
    },
    {
     "name": "stdout",
     "output_type": "stream",
     "text": [
      "0.21*t**3 + 12.0*t**2 + 225.02*t + 0.03\n"
     ]
    },
    {
     "data": {
      "text/latex": [
       "$\\displaystyle 0.00333333333333335 t^{3} - 0.0200000000000102 t - 0.03$"
      ],
      "text/plain": [
       "0.00333333333333335*t**3 - 0.0200000000000102*t - 0.03"
      ]
     },
     "metadata": {},
     "output_type": "display_data"
    },
    {
     "name": "stdout",
     "output_type": "stream",
     "text": [
      "Violating constants: []\n",
      "Violating constants: [-0.05000000000000071, -0.07]\n"
     ]
    },
    {
     "data": {
      "text/latex": [
       "$\\displaystyle 20.02 t^{3} + 17.44 t^{2} + 5.06 t$"
      ],
      "text/plain": [
       "20.02*t**3 + 17.44*t**2 + 5.06*t"
      ]
     },
     "metadata": {},
     "output_type": "display_data"
    },
    {
     "data": {
      "text/latex": [
       "$\\displaystyle 20.02 t^{3} + 17.45 t^{2} + 5.11 t + 0.07$"
      ],
      "text/plain": [
       "20.02*t**3 + 17.45*t**2 + 5.11*t + 0.07"
      ]
     },
     "metadata": {},
     "output_type": "display_data"
    },
    {
     "name": "stdout",
     "output_type": "stream",
     "text": [
      "20.02*t**3 + 17.45*t**2 + 5.11*t + 0.07\n"
     ]
    },
    {
     "data": {
      "text/latex": [
       "$\\displaystyle - 0.00999999999999801 t^{2} - 0.0500000000000007 t - 0.07$"
      ],
      "text/plain": [
       "-0.00999999999999801*t**2 - 0.0500000000000007*t - 0.07"
      ]
     },
     "metadata": {},
     "output_type": "display_data"
    },
    {
     "name": "stdout",
     "output_type": "stream",
     "text": [
      "Violating constants: [-0.02999999999999936, -0.05]\n"
     ]
    },
    {
     "data": {
      "text/latex": [
       "$\\displaystyle 0.01 t^{3} - 0.64 t^{2} + 10.24 t$"
      ],
      "text/plain": [
       "0.01*t**3 - 0.64*t**2 + 10.24*t"
      ]
     },
     "metadata": {},
     "output_type": "display_data"
    },
    {
     "data": {
      "text/latex": [
       "$\\displaystyle 0.01 t^{3} - 0.64 t^{2} + 10.27 t + 0.05$"
      ],
      "text/plain": [
       "0.01*t**3 - 0.64*t**2 + 10.27*t + 0.05"
      ]
     },
     "metadata": {},
     "output_type": "display_data"
    },
    {
     "name": "stdout",
     "output_type": "stream",
     "text": [
      "0.01*t**3 - 0.64*t**2 + 10.27*t + 0.05\n"
     ]
    },
    {
     "data": {
      "text/latex": [
       "$\\displaystyle - 0.0299999999999994 t - 0.05$"
      ],
      "text/plain": [
       "-0.0299999999999994*t - 0.05"
      ]
     },
     "metadata": {},
     "output_type": "display_data"
    },
    {
     "name": "stdout",
     "output_type": "stream",
     "text": [
      "Violating constants: []\n",
      "Violating constants: []\n",
      "Violating constants: []\n",
      "Violating constants: []\n",
      "Violating constants: []\n",
      "Violating constants: []\n",
      "Violating constants: []\n",
      "Violating constants: []\n",
      "Violating constants: [0.5925925925925926, 0.6319555555555549, -0.09888888888888658]\n"
     ]
    },
    {
     "data": {
      "text/latex": [
       "$\\displaystyle 0.592592592592593 t^{3} - 8.44444444444444 t^{2} + 40.1111111111111 t$"
      ],
      "text/plain": [
       "0.592592592592593*t**3 - 8.44444444444444*t**2 + 40.1111111111111*t"
      ]
     },
     "metadata": {},
     "output_type": "display_data"
    },
    {
     "data": {
      "text/latex": [
       "$\\displaystyle - 9.0764 t^{2} + 40.21 t$"
      ],
      "text/plain": [
       "-9.0764*t**2 + 40.21*t"
      ]
     },
     "metadata": {},
     "output_type": "display_data"
    },
    {
     "name": "stdout",
     "output_type": "stream",
     "text": [
      "-9.0764*t**2 + 40.21*t\n"
     ]
    },
    {
     "data": {
      "text/latex": [
       "$\\displaystyle 0.592592592592593 t^{3} + 0.631955555555555 t^{2} - 0.0988888888888866 t$"
      ],
      "text/plain": [
       "0.592592592592593*t**3 + 0.631955555555555*t**2 - 0.0988888888888866*t"
      ]
     },
     "metadata": {},
     "output_type": "display_data"
    },
    {
     "name": "stdout",
     "output_type": "stream",
     "text": [
      "Violating constants: []\n",
      "Violating constants: []\n",
      "Violating constants: []\n",
      "Violating constants: []\n",
      "Violating constants: []\n",
      "Violating constants: []\n",
      "Violating constants: []\n",
      "Violating constants: []\n",
      "Violating constants: [0.03999999999999915]\n",
      "Violating constants: []\n",
      "Violating constants: []\n",
      "Violating constants: []\n",
      "Violating constants: []\n",
      "Violating constants: []\n",
      "Violating constants: []\n",
      "Violating constants: [-0.05999999999999872]\n",
      "Violating constants: []\n",
      "Violating constants: []\n",
      "Violating constants: []\n",
      "Violating constants: []\n",
      "Violating constants: []\n",
      "Violating constants: []\n",
      "Violating constants: []\n",
      "Violating constants: []\n",
      "Violating constants: []\n",
      "Violating constants: []\n",
      "Violating constants: []\n",
      "Violating constants: []\n",
      "Violating constants: []\n",
      "Violating constants: []\n",
      "Violating constants: []\n",
      "Violating constants: []\n",
      "Violating constants: []\n",
      "Violating constants: []\n",
      "Violating constants: []\n",
      "Violating constants: []\n",
      "Violating constants: []\n",
      "Violating constants: []\n",
      "Violating constants: []\n",
      "Violating constants: []\n",
      "Violating constants: []\n",
      "Violating constants: []\n",
      "Violating constants: []\n",
      "Violating constants: []\n",
      "Violating constants: []\n",
      "Violating constants: []\n",
      "Violating constants: []\n",
      "Violating constants: []\n",
      "Violating constants: []\n",
      "Violating constants: []\n",
      "Violating constants: []\n",
      "Violating constants: []\n",
      "Violating constants: []\n",
      "Violating constants: []\n",
      "Violating constants: []\n",
      "Violating constants: []\n",
      "Violating constants: []\n",
      "Violating constants: []\n",
      "Violating constants: []\n",
      "Violating constants: []\n",
      "Violating constants: []\n",
      "Violating constants: []\n",
      "Violating constants: []\n",
      "Violating constants: []\n",
      "Violating constants: []\n",
      "Violating constants: []\n",
      "Violating constants: []\n",
      "Violating constants: []\n",
      "Violating constants: []\n",
      "Violating constants: []\n",
      "Violating constants: []\n",
      "Violating constants: []\n",
      "Violating constants: []\n",
      "Violating constants: []\n",
      "Violating constants: []\n",
      "Violating constants: []\n",
      "Violating constants: []\n",
      "Violating constants: []\n",
      "Violating constants: []\n",
      "Violating constants: []\n",
      "Violating constants: []\n",
      "Violating constants: []\n",
      "Violating constants: []\n",
      "Violating constants: []\n",
      "Violating constants: []\n",
      "Violating constants: []\n",
      "Violating constants: []\n",
      "Violating constants: []\n",
      "Violating constants: []\n",
      "Violating constants: []\n",
      "Violating constants: [-0.02]\n"
     ]
    },
    {
     "data": {
      "text/latex": [
       "$\\displaystyle 0.65 t^{3} + 1.96 t^{2} + 1.96 t$"
      ],
      "text/plain": [
       "0.65*t**3 + 1.96*t**2 + 1.96*t"
      ]
     },
     "metadata": {},
     "output_type": "display_data"
    },
    {
     "data": {
      "text/latex": [
       "$\\displaystyle 0.65 t^{3} + 1.96 t^{2} + 1.97 t + 0.02$"
      ],
      "text/plain": [
       "0.65*t**3 + 1.96*t**2 + 1.97*t + 0.02"
      ]
     },
     "metadata": {},
     "output_type": "display_data"
    },
    {
     "name": "stdout",
     "output_type": "stream",
     "text": [
      "0.65*t**3 + 1.96*t**2 + 1.97*t + 0.02\n"
     ]
    },
    {
     "data": {
      "text/latex": [
       "$\\displaystyle - 0.01 t - 0.02$"
      ],
      "text/plain": [
       "-0.01*t - 0.02"
      ]
     },
     "metadata": {},
     "output_type": "display_data"
    },
    {
     "name": "stdout",
     "output_type": "stream",
     "text": [
      "Violating constants: [0.07000000000000028]\n"
     ]
    },
    {
     "data": {
      "text/latex": [
       "$\\displaystyle 3.43 t^{2} + 5.71 t$"
      ],
      "text/plain": [
       "3.43*t**2 + 5.71*t"
      ]
     },
     "metadata": {},
     "output_type": "display_data"
    },
    {
     "data": {
      "text/latex": [
       "$\\displaystyle 3.43 t^{2} + 5.64 t$"
      ],
      "text/plain": [
       "3.43*t**2 + 5.64*t"
      ]
     },
     "metadata": {},
     "output_type": "display_data"
    },
    {
     "name": "stdout",
     "output_type": "stream",
     "text": [
      "3.43*t**2 + 5.64*t\n"
     ]
    },
    {
     "data": {
      "text/latex": [
       "$\\displaystyle 0.0700000000000003 t$"
      ],
      "text/plain": [
       "0.0700000000000003*t"
      ]
     },
     "metadata": {},
     "output_type": "display_data"
    },
    {
     "name": "stdout",
     "output_type": "stream",
     "text": [
      "Violating constants: []\n",
      "Violating constants: []\n",
      "Violating constants: []\n",
      "Violating constants: []\n",
      "Violating constants: []\n",
      "Violating constants: []\n",
      "Violating constants: []\n",
      "Violating constants: []\n",
      "Violating constants: [-0.060000000000002274]\n",
      "Cannot get_coefficients_and_exponents\n",
      "-0.18*t**2 + 1.13*t**2/(9.82*cos(0.89*sqrt(arctan(0.0) + 0.85) + 0.08) - 0.07) + 0.12*t - 0.64*t/(9.82*cos(0.89*sqrt(arctan(0.0) + 0.85) + 0.08) - 0.07)\n",
      "Violating constants: [2, 0.0800000000000000, 0.890000000000000, -0.640000000000000, 1/2, 0.120000000000000, 0.850000000000000, 1.13000000000000, 9.82000000000000, -0.180000000000000, -0.0700000000000000, -1]\n"
     ]
    },
    {
     "data": {
      "text/latex": [
       "$\\displaystyle 0.82 t^{3} - 1.12 t^{2} + 0.51 t$"
      ],
      "text/plain": [
       "0.82*t**3 - 1.12*t**2 + 0.51*t"
      ]
     },
     "metadata": {},
     "output_type": "display_data"
    },
    {
     "data": {
      "text/latex": [
       "$\\displaystyle 0.82 t^{3} - 0.94 t^{2} - \\frac{1.13 t^{2}}{9.82 \\cos{\\left(0.89 \\sqrt{\\arctan{\\left(0.0 \\right)} + 0.85} + 0.08 \\right)} - 0.07} + 0.39 t + \\frac{0.64 t}{9.82 \\cos{\\left(0.89 \\sqrt{\\arctan{\\left(0.0 \\right)} + 0.85} + 0.08 \\right)} - 0.07}$"
      ],
      "text/plain": [
       "0.82*t**3 - 0.94*t**2 - 1.13*t**2/(9.82*cos(0.89*sqrt(arctan(0.0) + 0.85) + 0.08) - 0.07) + 0.39*t + 0.64*t/(9.82*cos(0.89*sqrt(arctan(0.0) + 0.85) + 0.08) - 0.07)"
      ]
     },
     "metadata": {},
     "output_type": "display_data"
    },
    {
     "name": "stdout",
     "output_type": "stream",
     "text": [
      "0.82*t**3 - 0.94*t**2 - 1.13*t**2/(9.82*cos(0.89*sqrt(arctan(0.0) + 0.85) + 0.08) - 0.07) + 0.39*t + 0.64*t/(9.82*cos(0.89*sqrt(arctan(0.0) + 0.85) + 0.08) - 0.07)\n"
     ]
    },
    {
     "data": {
      "text/latex": [
       "$\\displaystyle - 0.18 t^{2} + \\frac{1.13 t^{2}}{9.82 \\cos{\\left(0.89 \\sqrt{\\arctan{\\left(0.0 \\right)} + 0.85} + 0.08 \\right)} - 0.07} + 0.12 t - \\frac{0.64 t}{9.82 \\cos{\\left(0.89 \\sqrt{\\arctan{\\left(0.0 \\right)} + 0.85} + 0.08 \\right)} - 0.07}$"
      ],
      "text/plain": [
       "-0.18*t**2 + 1.13*t**2/(9.82*cos(0.89*sqrt(arctan(0.0) + 0.85) + 0.08) - 0.07) + 0.12*t - 0.64*t/(9.82*cos(0.89*sqrt(arctan(0.0) + 0.85) + 0.08) - 0.07)"
      ]
     },
     "metadata": {},
     "output_type": "display_data"
    },
    {
     "name": "stdout",
     "output_type": "stream",
     "text": [
      "Violating constants: []\n",
      "Violating constants: []\n",
      "Violating constants: []\n",
      "Violating constants: []\n",
      "Violating constants: []\n",
      "Violating constants: []\n",
      "Violating constants: []\n",
      "Violating constants: []\n",
      "Violating constants: []\n",
      "Violating constants: []\n",
      "Violating constants: []\n",
      "Violating constants: []\n",
      "Violating constants: []\n",
      "Violating constants: []\n",
      "Violating constants: []\n",
      "Violating constants: []\n",
      "Violating constants: []\n",
      "Violating constants: []\n",
      "Violating constants: []\n",
      "Violating constants: []\n",
      "Violating constants: []\n",
      "Violating constants: []\n",
      "Violating constants: []\n",
      "Violating constants: []\n",
      "Violating constants: []\n",
      "Violating constants: []\n",
      "Violating constants: []\n",
      "Violating constants: []\n",
      "Violating constants: []\n",
      "Violating constants: []\n",
      "Violating constants: []\n",
      "Violating constants: []\n",
      "Violating constants: []\n",
      "Violating constants: []\n",
      "Violating constants: []\n",
      "Violating constants: []\n",
      "Violating constants: []\n",
      "Violating constants: []\n",
      "Violating constants: [0.019999999999999574, 0.02]\n"
     ]
    },
    {
     "data": {
      "text/latex": [
       "$\\displaystyle 2.25 t^{3} + 9.88 t^{2} + 14.44 t$"
      ],
      "text/plain": [
       "2.25*t**3 + 9.88*t**2 + 14.44*t"
      ]
     },
     "metadata": {},
     "output_type": "display_data"
    },
    {
     "data": {
      "text/latex": [
       "$\\displaystyle 2.25 t^{3} + 9.88 t^{2} + 14.42 t - 0.02$"
      ],
      "text/plain": [
       "2.25*t**3 + 9.88*t**2 + 14.42*t - 0.02"
      ]
     },
     "metadata": {},
     "output_type": "display_data"
    },
    {
     "name": "stdout",
     "output_type": "stream",
     "text": [
      "2.25*t**3 + 9.88*t**2 + 14.42*t - 0.02\n"
     ]
    },
    {
     "data": {
      "text/latex": [
       "$\\displaystyle 0.0199999999999996 t + 0.02$"
      ],
      "text/plain": [
       "0.0199999999999996*t + 0.02"
      ]
     },
     "metadata": {},
     "output_type": "display_data"
    },
    {
     "name": "stdout",
     "output_type": "stream",
     "text": [
      "Violating constants: []\n",
      "Violating constants: []\n",
      "Violating constants: []\n",
      "Violating constants: []\n",
      "Violating constants: []\n",
      "Violating constants: []\n",
      "Violating constants: []\n",
      "Violating constants: []\n",
      "Violating constants: []\n",
      "Violating constants: []\n",
      "Violating constants: []\n",
      "Violating constants: [0.02300000000000002]\n"
     ]
    },
    {
     "data": {
      "text/latex": [
       "$\\displaystyle - 0.75 t^{2} - 4.5 t$"
      ],
      "text/plain": [
       "-0.75*t**2 - 4.5*t"
      ]
     },
     "metadata": {},
     "output_type": "display_data"
    },
    {
     "data": {
      "text/latex": [
       "$\\displaystyle - 0.773 t^{2} - 4.49 t$"
      ],
      "text/plain": [
       "-0.773*t**2 - 4.49*t"
      ]
     },
     "metadata": {},
     "output_type": "display_data"
    },
    {
     "name": "stdout",
     "output_type": "stream",
     "text": [
      "-0.773*t**2 - 4.49*t\n"
     ]
    },
    {
     "data": {
      "text/latex": [
       "$\\displaystyle 0.023 t^{2} - 0.00999999999999979 t$"
      ],
      "text/plain": [
       "0.023*t**2 - 0.00999999999999979*t"
      ]
     },
     "metadata": {},
     "output_type": "display_data"
    },
    {
     "name": "stdout",
     "output_type": "stream",
     "text": [
      "Violating constants: []\n",
      "Violating constants: []\n",
      "Violating constants: []\n",
      "Violating constants: []\n",
      "Violating constants: []\n",
      "Violating constants: []\n",
      "Violating constants: []\n",
      "Violating constants: []\n",
      "Violating constants: []\n",
      "Violating constants: []\n",
      "Violating constants: []\n",
      "Violating constants: []\n",
      "Violating constants: []\n",
      "Violating constants: []\n",
      "Violating constants: []\n",
      "Violating constants: []\n",
      "Violating constants: []\n",
      "Violating constants: []\n",
      "Violating constants: []\n",
      "Violating constants: []\n",
      "Violating constants: []\n",
      "Violating constants: []\n",
      "Violating constants: []\n",
      "Violating constants: []\n",
      "Violating constants: []\n",
      "Violating constants: []\n",
      "Violating constants: []\n",
      "Violating constants: []\n",
      "Violating constants: []\n",
      "Violating constants: []\n",
      "Violating constants: []\n",
      "Violating constants: []\n",
      "Violating constants: []\n",
      "Violating constants: []\n",
      "Violating constants: []\n",
      "Violating constants: []\n",
      "Violating constants: []\n",
      "Violating constants: []\n",
      "Violating constants: []\n",
      "Violating constants: []\n",
      "Violating constants: []\n",
      "Violating constants: []\n",
      "Violating constants: []\n",
      "Violating constants: []\n",
      "Violating constants: []\n",
      "Violating constants: []\n",
      "Violating constants: []\n",
      "Violating constants: []\n",
      "Violating constants: []\n",
      "Violating constants: []\n",
      "Violating constants: []\n",
      "Violating constants: []\n",
      "Violating constants: []\n",
      "Violating constants: []\n",
      "Violating constants: []\n",
      "Violating constants: []\n",
      "Violating constants: []\n",
      "Violating constants: [-0.020000000000000018, -0.03000000000000025, 0.37999999999999545]\n"
     ]
    },
    {
     "data": {
      "text/latex": [
       "$\\displaystyle 0.15 t^{3} - 4.44 t^{2} + 44.44 t$"
      ],
      "text/plain": [
       "0.15*t**3 - 4.44*t**2 + 44.44*t"
      ]
     },
     "metadata": {},
     "output_type": "display_data"
    },
    {
     "data": {
      "text/latex": [
       "$\\displaystyle 0.17 t^{3} - 4.41 t^{2} + 44.06 t$"
      ],
      "text/plain": [
       "0.17*t**3 - 4.41*t**2 + 44.06*t"
      ]
     },
     "metadata": {},
     "output_type": "display_data"
    },
    {
     "name": "stdout",
     "output_type": "stream",
     "text": [
      "0.17*t**3 - 4.41*t**2 + 44.06*t\n"
     ]
    },
    {
     "data": {
      "text/latex": [
       "$\\displaystyle - 0.02 t^{3} - 0.0300000000000002 t^{2} + 0.379999999999995 t$"
      ],
      "text/plain": [
       "-0.02*t**3 - 0.0300000000000002*t**2 + 0.379999999999995*t"
      ]
     },
     "metadata": {},
     "output_type": "display_data"
    },
    {
     "name": "stdout",
     "output_type": "stream",
     "text": [
      "Violating constants: []\n",
      "Violating constants: []\n",
      "Violating constants: []\n",
      "Violating constants: []\n",
      "Violating constants: []\n",
      "Violating constants: []\n",
      "Violating constants: []\n",
      "Violating constants: []\n",
      "Violating constants: [0.02, -0.09000000000000075]\n"
     ]
    },
    {
     "data": {
      "text/latex": [
       "$\\displaystyle 3.52 t^{3} + 8.94 t^{2} + 7.56 t$"
      ],
      "text/plain": [
       "3.52*t**3 + 8.94*t**2 + 7.56*t"
      ]
     },
     "metadata": {},
     "output_type": "display_data"
    },
    {
     "data": {
      "text/latex": [
       "$\\displaystyle 3.52 t^{3} + 8.94 t^{2} + 7.65 t - 0.02$"
      ],
      "text/plain": [
       "3.52*t**3 + 8.94*t**2 + 7.65*t - 0.02"
      ]
     },
     "metadata": {},
     "output_type": "display_data"
    },
    {
     "name": "stdout",
     "output_type": "stream",
     "text": [
      "3.52*t**3 + 8.94*t**2 + 7.65*t - 0.02\n"
     ]
    },
    {
     "data": {
      "text/latex": [
       "$\\displaystyle 0.02 - 0.0900000000000007 t$"
      ],
      "text/plain": [
       "0.02 - 0.0900000000000007*t"
      ]
     },
     "metadata": {},
     "output_type": "display_data"
    },
    {
     "name": "stdout",
     "output_type": "stream",
     "text": [
      "Violating constants: []\n",
      "Violating constants: []\n",
      "Violating constants: []\n",
      "Violating constants: []\n",
      "Violating constants: []\n",
      "Violating constants: []\n",
      "Violating constants: []\n",
      "Violating constants: []\n",
      "Violating constants: []\n",
      "Violating constants: []\n",
      "Violating constants: []\n",
      "Violating constants: [3.5]\n"
     ]
    },
    {
     "data": {
      "text/latex": [
       "$\\displaystyle 4.21 t^{2} + 4.71 t$"
      ],
      "text/plain": [
       "4.21*t**2 + 4.71*t"
      ]
     },
     "metadata": {},
     "output_type": "display_data"
    },
    {
     "data": {
      "text/latex": [
       "$\\displaystyle 4.21 t^{2} + 1.21 t$"
      ],
      "text/plain": [
       "4.21*t**2 + 1.21*t"
      ]
     },
     "metadata": {},
     "output_type": "display_data"
    },
    {
     "name": "stdout",
     "output_type": "stream",
     "text": [
      "4.21*t**2 + 1.21*t\n"
     ]
    },
    {
     "data": {
      "text/latex": [
       "$\\displaystyle 3.5 t$"
      ],
      "text/plain": [
       "3.5*t"
      ]
     },
     "metadata": {},
     "output_type": "display_data"
    },
    {
     "name": "stdout",
     "output_type": "stream",
     "text": [
      "Violating constants: []\n",
      "Violating constants: []\n",
      "Violating constants: []\n",
      "Violating constants: []\n",
      "Violating constants: []\n",
      "Violating constants: []\n",
      "Violating constants: []\n",
      "Violating constants: []\n",
      "Violating constants: [0.03000000000000025, 0.060000000000002274, 0.02]\n"
     ]
    },
    {
     "data": {
      "text/latex": [
       "$\\displaystyle 0.0533333333333333 t^{3} - 2.4 t^{2} + 36.0 t$"
      ],
      "text/plain": [
       "0.0533333333333333*t**3 - 2.4*t**2 + 36.0*t"
      ]
     },
     "metadata": {},
     "output_type": "display_data"
    },
    {
     "data": {
      "text/latex": [
       "$\\displaystyle 0.05 t^{3} - 2.43 t^{2} + 35.94 t - 0.02$"
      ],
      "text/plain": [
       "0.05*t**3 - 2.43*t**2 + 35.94*t - 0.02"
      ]
     },
     "metadata": {},
     "output_type": "display_data"
    },
    {
     "name": "stdout",
     "output_type": "stream",
     "text": [
      "0.05*t**3 - 2.43*t**2 + 35.94*t - 0.02\n"
     ]
    },
    {
     "data": {
      "text/latex": [
       "$\\displaystyle 0.00333333333333333 t^{3} + 0.0300000000000002 t^{2} + 0.0600000000000023 t + 0.02$"
      ],
      "text/plain": [
       "0.00333333333333333*t**3 + 0.0300000000000002*t**2 + 0.0600000000000023*t + 0.02"
      ]
     },
     "metadata": {},
     "output_type": "display_data"
    },
    {
     "name": "stdout",
     "output_type": "stream",
     "text": [
      "Cannot get_coefficients_and_exponents\n",
      "-0.03*t**2*arctan(79.74) + 0.04*t**2\n",
      "Violating constants: [2, 79.7400000000000, 0.0400000000000000, -0.0300000000000000]\n"
     ]
    },
    {
     "data": {
      "text/latex": [
       "$\\displaystyle - 3.67 t^{2} + 0.67 t$"
      ],
      "text/plain": [
       "-3.67*t**2 + 0.67*t"
      ]
     },
     "metadata": {},
     "output_type": "display_data"
    },
    {
     "data": {
      "text/latex": [
       "$\\displaystyle 0.03 t^{2} \\arctan{\\left(79.74 \\right)} - 3.71 t^{2} + 0.67 t$"
      ],
      "text/plain": [
       "0.03*t**2*arctan(79.74) - 3.71*t**2 + 0.67*t"
      ]
     },
     "metadata": {},
     "output_type": "display_data"
    },
    {
     "name": "stdout",
     "output_type": "stream",
     "text": [
      "0.03*t**2*arctan(79.74) - 3.71*t**2 + 0.67*t\n"
     ]
    },
    {
     "data": {
      "text/latex": [
       "$\\displaystyle - 0.03 t^{2} \\arctan{\\left(79.74 \\right)} + 0.04 t^{2}$"
      ],
      "text/plain": [
       "-0.03*t**2*arctan(79.74) + 0.04*t**2"
      ]
     },
     "metadata": {},
     "output_type": "display_data"
    },
    {
     "name": "stdout",
     "output_type": "stream",
     "text": [
      "Violating constants: []\n",
      "Violating constants: []\n",
      "Violating constants: []\n",
      "Violating constants: []\n",
      "Violating constants: []\n",
      "Violating constants: []\n",
      "Violating constants: []\n",
      "Violating constants: []\n",
      "Violating constants: []\n",
      "Violating constants: []\n",
      "Violating constants: []\n",
      "Violating constants: [1.4499999999999993]\n"
     ]
    },
    {
     "data": {
      "text/latex": [
       "$\\displaystyle 3.0 t^{3} + 8.25 t^{2} + 7.56 t$"
      ],
      "text/plain": [
       "3.0*t**3 + 8.25*t**2 + 7.56*t"
      ]
     },
     "metadata": {},
     "output_type": "display_data"
    },
    {
     "data": {
      "text/latex": [
       "$\\displaystyle 3.0 t^{3} + 8.25 t^{2} + 6.11 t$"
      ],
      "text/plain": [
       "3.0*t**3 + 8.25*t**2 + 6.11*t"
      ]
     },
     "metadata": {},
     "output_type": "display_data"
    },
    {
     "name": "stdout",
     "output_type": "stream",
     "text": [
      "3.0*t**3 + 8.25*t**2 + 6.11*t\n"
     ]
    },
    {
     "data": {
      "text/latex": [
       "$\\displaystyle 1.45 t$"
      ],
      "text/plain": [
       "1.45*t"
      ]
     },
     "metadata": {},
     "output_type": "display_data"
    },
    {
     "name": "stdout",
     "output_type": "stream",
     "text": [
      "Violating constants: []\n",
      "Violating constants: []\n",
      "Violating constants: [0.020000000000000018]\n"
     ]
    },
    {
     "data": {
      "text/latex": [
       "$\\displaystyle 0.83 t^{2} - 1.33 t$"
      ],
      "text/plain": [
       "0.83*t**2 - 1.33*t"
      ]
     },
     "metadata": {},
     "output_type": "display_data"
    },
    {
     "data": {
      "text/latex": [
       "$\\displaystyle 0.83 t^{2} - 1.35 t$"
      ],
      "text/plain": [
       "0.83*t**2 - 1.35*t"
      ]
     },
     "metadata": {},
     "output_type": "display_data"
    },
    {
     "name": "stdout",
     "output_type": "stream",
     "text": [
      "0.83*t**2 - 1.35*t\n"
     ]
    },
    {
     "data": {
      "text/latex": [
       "$\\displaystyle 0.02 t$"
      ],
      "text/plain": [
       "0.02*t"
      ]
     },
     "metadata": {},
     "output_type": "display_data"
    },
    {
     "name": "stdout",
     "output_type": "stream",
     "text": [
      "Violating constants: []\n",
      "Violating constants: []\n",
      "Violating constants: []\n",
      "Violating constants: []\n",
      "Violating constants: []\n",
      "Violating constants: []\n",
      "Violating constants: []\n",
      "Violating constants: []\n",
      "Violating constants: []\n",
      "Violating constants: []\n",
      "Violating constants: []\n",
      "Violating constants: []\n",
      "Violating constants: []\n",
      "Violating constants: []\n",
      "Violating constants: []\n",
      "Violating constants: []\n",
      "Violating constants: []\n",
      "Violating constants: []\n",
      "Violating constants: []\n",
      "Violating constants: []\n",
      "Violating constants: []\n",
      "Violating constants: []\n",
      "Violating constants: []\n",
      "Violating constants: []\n",
      "Violating constants: []\n",
      "Violating constants: []\n",
      "Violating constants: []\n",
      "Violating constants: []\n",
      "Violating constants: [-0.0128571428571429, -0.040000000000000036]\n"
     ]
    },
    {
     "data": {
      "text/latex": [
       "$\\displaystyle 0.857142857142857 t^{2} + 4.0 t$"
      ],
      "text/plain": [
       "0.857142857142857*t**2 + 4.0*t"
      ]
     },
     "metadata": {},
     "output_type": "display_data"
    },
    {
     "data": {
      "text/latex": [
       "$\\displaystyle 0.87 t^{2} + 4.04 t$"
      ],
      "text/plain": [
       "0.87*t**2 + 4.04*t"
      ]
     },
     "metadata": {},
     "output_type": "display_data"
    },
    {
     "name": "stdout",
     "output_type": "stream",
     "text": [
      "0.87*t**2 + 4.04*t\n"
     ]
    },
    {
     "data": {
      "text/latex": [
       "$\\displaystyle - 0.0128571428571429 t^{2} - 0.04 t$"
      ],
      "text/plain": [
       "-0.0128571428571429*t**2 - 0.04*t"
      ]
     },
     "metadata": {},
     "output_type": "display_data"
    },
    {
     "name": "stdout",
     "output_type": "stream",
     "text": [
      "Violating constants: []\n",
      "Violating constants: []\n",
      "Violating constants: []\n",
      "Violating constants: []\n",
      "Violating constants: []\n",
      "Violating constants: []\n",
      "Violating constants: []\n",
      "Violating constants: []\n",
      "Violating constants: []\n",
      "Violating constants: [-0.020000000000003126, -0.03]\n"
     ]
    },
    {
     "data": {
      "text/latex": [
       "$\\displaystyle 1.78 t^{3} - 13.33 t^{2} + 33.33 t$"
      ],
      "text/plain": [
       "1.78*t**3 - 13.33*t**2 + 33.33*t"
      ]
     },
     "metadata": {},
     "output_type": "display_data"
    },
    {
     "data": {
      "text/latex": [
       "$\\displaystyle 1.78 t^{3} - 13.33 t^{2} + 33.35 t + 0.03$"
      ],
      "text/plain": [
       "1.78*t**3 - 13.33*t**2 + 33.35*t + 0.03"
      ]
     },
     "metadata": {},
     "output_type": "display_data"
    },
    {
     "name": "stdout",
     "output_type": "stream",
     "text": [
      "1.78*t**3 - 13.33*t**2 + 33.35*t + 0.03\n"
     ]
    },
    {
     "data": {
      "text/latex": [
       "$\\displaystyle - 0.0200000000000031 t - 0.03$"
      ],
      "text/plain": [
       "-0.0200000000000031*t - 0.03"
      ]
     },
     "metadata": {},
     "output_type": "display_data"
    },
    {
     "name": "stdout",
     "output_type": "stream",
     "text": [
      "Violating constants: []\n",
      "Violating constants: []\n",
      "Violating constants: []\n",
      "Violating constants: []\n",
      "Violating constants: []\n",
      "Violating constants: []\n",
      "Violating constants: []\n",
      "Violating constants: []\n",
      "Violating constants: []\n",
      "Violating constants: []\n",
      "Violating constants: []\n",
      "Violating constants: []\n",
      "Violating constants: []\n",
      "Violating constants: []\n",
      "Violating constants: []\n",
      "Violating constants: []\n",
      "Violating constants: []\n",
      "Violating constants: []\n",
      "Violating constants: []\n",
      "Violating constants: []\n",
      "Violating constants: []\n",
      "Violating constants: []\n",
      "Violating constants: []\n",
      "Violating constants: []\n",
      "Violating constants: []\n",
      "Violating constants: []\n",
      "Violating constants: []\n",
      "Violating constants: []\n",
      "Violating constants: []\n",
      "Cannot get_coefficients_and_exponents\n",
      "-0.000204081632652731*t**3 + 0.00142857142859043*t**2 - 2.05000000000001*t - 187.99*t/(-90.2 + 6.2/(-0.08*arctan(0.0)**2 - 4.46))\n",
      "Violating constants: [2, 3, -2.05000000000001, -187.990000000000, 6.20000000000000, -0.0800000000000000, -90.2000000000000, -4.46000000000000, -1]\n"
     ]
    },
    {
     "data": {
      "text/latex": [
       "$\\displaystyle 24.4897959183673 t^{3} + 128.571428571429 t^{2} + 225.0 t$"
      ],
      "text/plain": [
       "24.4897959183673*t**3 + 128.571428571429*t**2 + 225.0*t"
      ]
     },
     "metadata": {},
     "output_type": "display_data"
    },
    {
     "data": {
      "text/latex": [
       "$\\displaystyle 24.49 t^{3} + 128.57 t^{2} + 227.05 t + \\frac{187.99 t}{-90.2 + \\frac{6.2}{- 0.08 \\arctan^{2}{\\left(0.0 \\right)} - 4.46}}$"
      ],
      "text/plain": [
       "24.49*t**3 + 128.57*t**2 + 227.05*t + 187.99*t/(-90.2 + 6.2/(-0.08*arctan(0.0)**2 - 4.46))"
      ]
     },
     "metadata": {},
     "output_type": "display_data"
    },
    {
     "name": "stdout",
     "output_type": "stream",
     "text": [
      "24.49*t**3 + 128.57*t**2 + 227.05*t + 187.99*t/(-90.2 + 6.2/(-0.08*arctan(0.0)**2 - 4.46))\n"
     ]
    },
    {
     "data": {
      "text/latex": [
       "$\\displaystyle - 0.000204081632652731 t^{3} + 0.00142857142859043 t^{2} - 2.05000000000001 t - \\frac{187.99 t}{-90.2 + \\frac{6.2}{- 0.08 \\arctan^{2}{\\left(0.0 \\right)} - 4.46}}$"
      ],
      "text/plain": [
       "-0.000204081632652731*t**3 + 0.00142857142859043*t**2 - 2.05000000000001*t - 187.99*t/(-90.2 + 6.2/(-0.08*arctan(0.0)**2 - 4.46))"
      ]
     },
     "metadata": {},
     "output_type": "display_data"
    },
    {
     "name": "stdout",
     "output_type": "stream",
     "text": [
      "Violating constants: []\n",
      "Violating constants: [0.5966666666666667, 0.43999999999999995]\n"
     ]
    },
    {
     "data": {
      "text/latex": [
       "$\\displaystyle 0.925925925925926 t^{3} + 1.66666666666667 t^{2} + t$"
      ],
      "text/plain": [
       "0.925925925925926*t**3 + 1.66666666666667*t**2 + t"
      ]
     },
     "metadata": {},
     "output_type": "display_data"
    },
    {
     "data": {
      "text/latex": [
       "$\\displaystyle 0.93 t^{3} + 1.07 t^{2} + 0.56 t$"
      ],
      "text/plain": [
       "0.93*t**3 + 1.07*t**2 + 0.56*t"
      ]
     },
     "metadata": {},
     "output_type": "display_data"
    },
    {
     "name": "stdout",
     "output_type": "stream",
     "text": [
      "0.93*t**3 + 1.07*t**2 + 0.56*t\n"
     ]
    },
    {
     "data": {
      "text/latex": [
       "$\\displaystyle - 0.00407407407407412 t^{3} + 0.596666666666667 t^{2} + 0.44 t$"
      ],
      "text/plain": [
       "-0.00407407407407412*t**3 + 0.596666666666667*t**2 + 0.44*t"
      ]
     },
     "metadata": {},
     "output_type": "display_data"
    },
    {
     "name": "stdout",
     "output_type": "stream",
     "text": [
      "Violating constants: [0.02, -0.3099999999999987]\n"
     ]
    },
    {
     "data": {
      "text/latex": [
       "$\\displaystyle 0.02 t^{3} + 1.38 t^{2} + 30.25 t$"
      ],
      "text/plain": [
       "0.02*t**3 + 1.38*t**2 + 30.25*t"
      ]
     },
     "metadata": {},
     "output_type": "display_data"
    },
    {
     "data": {
      "text/latex": [
       "$\\displaystyle 1.37 t^{2} + 30.56 t$"
      ],
      "text/plain": [
       "1.37*t**2 + 30.56*t"
      ]
     },
     "metadata": {},
     "output_type": "display_data"
    },
    {
     "name": "stdout",
     "output_type": "stream",
     "text": [
      "1.37*t**2 + 30.56*t\n"
     ]
    },
    {
     "data": {
      "text/latex": [
       "$\\displaystyle 0.02 t^{3} + 0.00999999999999979 t^{2} - 0.309999999999999 t$"
      ],
      "text/plain": [
       "0.02*t**3 + 0.00999999999999979*t**2 - 0.309999999999999*t"
      ]
     },
     "metadata": {},
     "output_type": "display_data"
    },
    {
     "name": "stdout",
     "output_type": "stream",
     "text": [
      "Violating constants: []\n",
      "Violating constants: []\n",
      "Violating constants: []\n",
      "Violating constants: [-0.0400000000000027, -0.06]\n"
     ]
    },
    {
     "data": {
      "text/latex": [
       "$\\displaystyle 9.0 t^{3} + 24.0 t^{2} + 21.33 t$"
      ],
      "text/plain": [
       "9.0*t**3 + 24.0*t**2 + 21.33*t"
      ]
     },
     "metadata": {},
     "output_type": "display_data"
    },
    {
     "data": {
      "text/latex": [
       "$\\displaystyle 9.0 t^{3} + 24.01 t^{2} + 21.37 t + 0.06$"
      ],
      "text/plain": [
       "9.0*t**3 + 24.01*t**2 + 21.37*t + 0.06"
      ]
     },
     "metadata": {},
     "output_type": "display_data"
    },
    {
     "name": "stdout",
     "output_type": "stream",
     "text": [
      "9.0*t**3 + 24.01*t**2 + 21.37*t + 0.06\n"
     ]
    },
    {
     "data": {
      "text/latex": [
       "$\\displaystyle - 0.0100000000000016 t^{2} - 0.0400000000000027 t - 0.06$"
      ],
      "text/plain": [
       "-0.0100000000000016*t**2 - 0.0400000000000027*t - 0.06"
      ]
     },
     "metadata": {},
     "output_type": "display_data"
    },
    {
     "name": "stdout",
     "output_type": "stream",
     "text": [
      "Violating constants: []\n",
      "Violating constants: []\n",
      "Violating constants: []\n",
      "Violating constants: []\n",
      "Violating constants: []\n",
      "Violating constants: []\n",
      "Violating constants: []\n",
      "Violating constants: []\n",
      "Violating constants: []\n",
      "Violating constants: []\n",
      "Violating constants: []\n",
      "Violating constants: []\n",
      "Violating constants: []\n",
      "Violating constants: []\n",
      "Violating constants: []\n",
      "Violating constants: []\n",
      "Violating constants: []\n",
      "Violating constants: []\n",
      "Violating constants: []\n",
      "Violating constants: []\n",
      "Violating constants: []\n",
      "Violating constants: []\n",
      "Violating constants: []\n",
      "Violating constants: []\n",
      "Violating constants: []\n",
      "Violating constants: []\n",
      "Violating constants: []\n",
      "Violating constants: []\n",
      "Violating constants: []\n",
      "Violating constants: []\n",
      "Violating constants: []\n",
      "Violating constants: []\n",
      "Violating constants: []\n",
      "Violating constants: [14.81, 44.44, 42.879999999999995]\n"
     ]
    },
    {
     "data": {
      "text/latex": [
       "$\\displaystyle 14.81 t^{3} + 44.44 t^{2} + 44.44 t$"
      ],
      "text/plain": [
       "14.81*t**3 + 44.44*t**2 + 44.44*t"
      ]
     },
     "metadata": {},
     "output_type": "display_data"
    },
    {
     "data": {
      "text/latex": [
       "$\\displaystyle 1.56 t$"
      ],
      "text/plain": [
       "1.56*t"
      ]
     },
     "metadata": {},
     "output_type": "display_data"
    },
    {
     "name": "stdout",
     "output_type": "stream",
     "text": [
      "1.56*t\n"
     ]
    },
    {
     "data": {
      "text/latex": [
       "$\\displaystyle 14.81 t^{3} + 44.44 t^{2} + 42.88 t$"
      ],
      "text/plain": [
       "14.81*t**3 + 44.44*t**2 + 42.88*t"
      ]
     },
     "metadata": {},
     "output_type": "display_data"
    },
    {
     "name": "stdout",
     "output_type": "stream",
     "text": [
      "Violating constants: []\n",
      "Violating constants: []\n",
      "Violating constants: []\n",
      "Violating constants: []\n",
      "Violating constants: []\n",
      "Violating constants: []\n",
      "Violating constants: []\n",
      "Violating constants: []\n",
      "Violating constants: []\n",
      "Violating constants: []\n",
      "Violating constants: []\n",
      "Violating constants: []\n",
      "Violating constants: []\n",
      "Violating constants: []\n",
      "Violating constants: []\n",
      "Violating constants: []\n",
      "Violating constants: []\n",
      "Violating constants: []\n",
      "Violating constants: []\n",
      "Violating constants: []\n",
      "Violating constants: []\n",
      "Violating constants: []\n",
      "Violating constants: []\n",
      "Violating constants: []\n",
      "Violating constants: []\n",
      "Violating constants: []\n",
      "Violating constants: []\n",
      "Violating constants: []\n",
      "Violating constants: []\n",
      "Violating constants: []\n",
      "Violating constants: []\n",
      "Violating constants: []\n",
      "Violating constants: []\n",
      "Violating constants: []\n",
      "Violating constants: []\n",
      "Violating constants: []\n",
      "Violating constants: []\n",
      "Violating constants: []\n",
      "Violating constants: []\n",
      "Violating constants: []\n",
      "Violating constants: [0.020000000000000018, -0.09999999999999432]\n",
      "Violating constants: []\n",
      "Violating constants: []\n",
      "Violating constants: []\n",
      "Violating constants: []\n",
      "Violating constants: []\n",
      "Violating constants: []\n",
      "Violating constants: []\n",
      "Violating constants: []\n",
      "Violating constants: []\n",
      "Violating constants: []\n",
      "Violating constants: []\n",
      "Violating constants: []\n",
      "Violating constants: []\n",
      "Violating constants: []\n",
      "Violating constants: []\n",
      "Violating constants: []\n",
      "Violating constants: []\n",
      "Violating constants: []\n",
      "Violating constants: []\n",
      "Violating constants: []\n",
      "Violating constants: []\n",
      "Violating constants: [-0.10999999999999943]\n",
      "Violating constants: []\n",
      "Violating constants: []\n",
      "Violating constants: []\n",
      "Violating constants: []\n",
      "Violating constants: []\n",
      "Violating constants: []\n",
      "Violating constants: []\n",
      "Violating constants: []\n",
      "Violating constants: [0.019999999999999574, 0.060000000000002274, 0.09]\n"
     ]
    },
    {
     "data": {
      "text/latex": [
       "$\\displaystyle 0.33 t^{3} - 6.33 t^{2} + 40.11 t$"
      ],
      "text/plain": [
       "0.33*t**3 - 6.33*t**2 + 40.11*t"
      ]
     },
     "metadata": {},
     "output_type": "display_data"
    },
    {
     "data": {
      "text/latex": [
       "$\\displaystyle 0.33 t^{3} - 6.35 t^{2} + 40.05 t - 0.09$"
      ],
      "text/plain": [
       "0.33*t**3 - 6.35*t**2 + 40.05*t - 0.09"
      ]
     },
     "metadata": {},
     "output_type": "display_data"
    },
    {
     "name": "stdout",
     "output_type": "stream",
     "text": [
      "0.33*t**3 - 6.35*t**2 + 40.05*t - 0.09\n"
     ]
    },
    {
     "data": {
      "text/latex": [
       "$\\displaystyle 0.0199999999999996 t^{2} + 0.0600000000000023 t + 0.09$"
      ],
      "text/plain": [
       "0.0199999999999996*t**2 + 0.0600000000000023*t + 0.09"
      ]
     },
     "metadata": {},
     "output_type": "display_data"
    },
    {
     "name": "stdout",
     "output_type": "stream",
     "text": [
      "Violating constants: []\n",
      "Violating constants: []\n",
      "Violating constants: []\n",
      "Violating constants: []\n",
      "Violating constants: []\n",
      "Violating constants: []\n",
      "Violating constants: []\n",
      "Violating constants: []\n",
      "Violating constants: []\n",
      "Violating constants: []\n",
      "Violating constants: []\n",
      "Violating constants: []\n",
      "Violating constants: []\n",
      "Violating constants: []\n",
      "Violating constants: []\n",
      "Violating constants: []\n",
      "Violating constants: []\n",
      "Violating constants: []\n",
      "Violating constants: []\n",
      "Violating constants: []\n",
      "Violating constants: [-0.03999999999999915, -0.06]\n"
     ]
    },
    {
     "data": {
      "text/latex": [
       "$\\displaystyle 4.81 t^{3} - 17.48 t^{2} + 21.16 t$"
      ],
      "text/plain": [
       "4.81*t**3 - 17.48*t**2 + 21.16*t"
      ]
     },
     "metadata": {},
     "output_type": "display_data"
    },
    {
     "data": {
      "text/latex": [
       "$\\displaystyle 4.81 t^{3} - 17.47 t^{2} + 21.2 t + 0.06$"
      ],
      "text/plain": [
       "4.81*t**3 - 17.47*t**2 + 21.2*t + 0.06"
      ]
     },
     "metadata": {},
     "output_type": "display_data"
    },
    {
     "name": "stdout",
     "output_type": "stream",
     "text": [
      "4.81*t**3 - 17.47*t**2 + 21.2*t + 0.06\n"
     ]
    },
    {
     "data": {
      "text/latex": [
       "$\\displaystyle - 0.0100000000000016 t^{2} - 0.0399999999999991 t - 0.06$"
      ],
      "text/plain": [
       "-0.0100000000000016*t**2 - 0.0399999999999991*t - 0.06"
      ]
     },
     "metadata": {},
     "output_type": "display_data"
    },
    {
     "name": "stdout",
     "output_type": "stream",
     "text": [
      "Violating constants: []\n",
      "Violating constants: []\n",
      "Violating constants: [0.2999999999999998]\n"
     ]
    },
    {
     "data": {
      "text/latex": [
       "$\\displaystyle 0.55 t^{3} - 2.2 t^{2} + 2.94 t$"
      ],
      "text/plain": [
       "0.55*t**3 - 2.2*t**2 + 2.94*t"
      ]
     },
     "metadata": {},
     "output_type": "display_data"
    },
    {
     "data": {
      "text/latex": [
       "$\\displaystyle 0.55 t^{3} - 2.21 t^{2} + 2.64 t$"
      ],
      "text/plain": [
       "0.55*t**3 - 2.21*t**2 + 2.64*t"
      ]
     },
     "metadata": {},
     "output_type": "display_data"
    },
    {
     "name": "stdout",
     "output_type": "stream",
     "text": [
      "0.55*t**3 - 2.21*t**2 + 2.64*t\n"
     ]
    },
    {
     "data": {
      "text/latex": [
       "$\\displaystyle 0.00999999999999979 t^{2} + 0.3 t$"
      ],
      "text/plain": [
       "0.00999999999999979*t**2 + 0.3*t"
      ]
     },
     "metadata": {},
     "output_type": "display_data"
    },
    {
     "name": "stdout",
     "output_type": "stream",
     "text": [
      "Violating constants: []\n",
      "Violating constants: []\n",
      "Violating constants: []\n",
      "Violating constants: []\n",
      "Violating constants: []\n",
      "Violating constants: []\n",
      "Violating constants: []\n",
      "Violating constants: []\n",
      "Violating constants: []\n",
      "Violating constants: []\n",
      "Violating constants: []\n",
      "Violating constants: []\n",
      "Violating constants: []\n",
      "Violating constants: []\n",
      "Violating constants: []\n",
      "Violating constants: []\n",
      "Violating constants: []\n",
      "Violating constants: []\n",
      "Violating constants: []\n",
      "Violating constants: []\n",
      "Violating constants: []\n",
      "Violating constants: []\n",
      "Violating constants: []\n",
      "Violating constants: []\n",
      "Violating constants: []\n",
      "Violating constants: []\n",
      "Violating constants: []\n",
      "Violating constants: []\n",
      "Violating constants: []\n",
      "Violating constants: []\n",
      "Violating constants: []\n",
      "Violating constants: []\n",
      "Violating constants: []\n",
      "Violating constants: []\n",
      "Violating constants: [0.05333333333333334, -0.040000000000000036, -0.5999999999999943]\n"
     ]
    },
    {
     "data": {
      "text/latex": [
       "$\\displaystyle 0.0533333333333333 t^{3} - 6.0 t^{2} + 225.0 t$"
      ],
      "text/plain": [
       "0.0533333333333333*t**3 - 6.0*t**2 + 225.0*t"
      ]
     },
     "metadata": {},
     "output_type": "display_data"
    },
    {
     "data": {
      "text/latex": [
       "$\\displaystyle - 5.96 t^{2} + 225.6 t$"
      ],
      "text/plain": [
       "-5.96*t**2 + 225.6*t"
      ]
     },
     "metadata": {},
     "output_type": "display_data"
    },
    {
     "name": "stdout",
     "output_type": "stream",
     "text": [
      "-5.96*t**2 + 225.6*t\n"
     ]
    },
    {
     "data": {
      "text/latex": [
       "$\\displaystyle 0.0533333333333333 t^{3} - 0.04 t^{2} - 0.599999999999994 t$"
      ],
      "text/plain": [
       "0.0533333333333333*t**3 - 0.04*t**2 - 0.599999999999994*t"
      ]
     },
     "metadata": {},
     "output_type": "display_data"
    },
    {
     "name": "stdout",
     "output_type": "stream",
     "text": [
      "Violating constants: [-0.020000000000000018, 0.03000000000000025]\n",
      "Violating constants: []\n",
      "Violating constants: []\n",
      "Violating constants: []\n",
      "Violating constants: []\n",
      "Violating constants: []\n",
      "Violating constants: []\n",
      "Violating constants: [0.05999999999999961, 0.09]\n"
     ]
    },
    {
     "data": {
      "text/latex": [
       "$\\displaystyle 24.0 t^{3} - 18.0 t^{2} + 4.5 t$"
      ],
      "text/plain": [
       "24.0*t**3 - 18.0*t**2 + 4.5*t"
      ]
     },
     "metadata": {},
     "output_type": "display_data"
    },
    {
     "data": {
      "text/latex": [
       "$\\displaystyle 24.0 t^{3} - 18.01 t^{2} + 4.44 t - 0.09$"
      ],
      "text/plain": [
       "24.0*t**3 - 18.01*t**2 + 4.44*t - 0.09"
      ]
     },
     "metadata": {},
     "output_type": "display_data"
    },
    {
     "name": "stdout",
     "output_type": "stream",
     "text": [
      "24.0*t**3 - 18.01*t**2 + 4.44*t - 0.09\n"
     ]
    },
    {
     "data": {
      "text/latex": [
       "$\\displaystyle 0.0100000000000016 t^{2} + 0.0599999999999996 t + 0.09$"
      ],
      "text/plain": [
       "0.0100000000000016*t**2 + 0.0599999999999996*t + 0.09"
      ]
     },
     "metadata": {},
     "output_type": "display_data"
    },
    {
     "name": "stdout",
     "output_type": "stream",
     "text": [
      "Violating constants: []\n",
      "Violating constants: []\n",
      "Violating constants: []\n",
      "Violating constants: [-0.02]\n"
     ]
    },
    {
     "data": {
      "text/latex": [
       "$\\displaystyle 3.7 t^{3} + 11.11 t^{2} + 11.11 t$"
      ],
      "text/plain": [
       "3.7*t**3 + 11.11*t**2 + 11.11*t"
      ]
     },
     "metadata": {},
     "output_type": "display_data"
    },
    {
     "data": {
      "text/latex": [
       "$\\displaystyle 3.7 t^{3} + 11.11 t^{2} + 11.12 t + 0.02$"
      ],
      "text/plain": [
       "3.7*t**3 + 11.11*t**2 + 11.12*t + 0.02"
      ]
     },
     "metadata": {},
     "output_type": "display_data"
    },
    {
     "name": "stdout",
     "output_type": "stream",
     "text": [
      "3.7*t**3 + 11.11*t**2 + 11.12*t + 0.02\n"
     ]
    },
    {
     "data": {
      "text/latex": [
       "$\\displaystyle - 0.00999999999999979 t - 0.02$"
      ],
      "text/plain": [
       "-0.00999999999999979*t - 0.02"
      ]
     },
     "metadata": {},
     "output_type": "display_data"
    },
    {
     "name": "stdout",
     "output_type": "stream",
     "text": [
      "Violating constants: []\n",
      "Violating constants: []\n",
      "Violating constants: []\n",
      "Violating constants: []\n",
      "Violating constants: []\n",
      "Violating constants: []\n",
      "Violating constants: []\n",
      "Violating constants: []\n",
      "Violating constants: []\n",
      "Violating constants: []\n",
      "Violating constants: []\n",
      "Violating constants: []\n",
      "Violating constants: []\n",
      "Violating constants: []\n",
      "Violating constants: []\n",
      "Violating constants: []\n",
      "Violating constants: []\n",
      "Violating constants: []\n",
      "Violating constants: []\n",
      "Violating constants: []\n",
      "Violating constants: []\n",
      "Violating constants: []\n",
      "Violating constants: []\n",
      "Violating constants: []\n",
      "Violating constants: []\n",
      "Violating constants: [21.33, -52.769999999999996, 46.64, 0.02]\n"
     ]
    },
    {
     "data": {
      "text/latex": [
       "$\\displaystyle 21.33 t^{3} - 53.33 t^{2} + 44.44 t$"
      ],
      "text/plain": [
       "21.33*t**3 - 53.33*t**2 + 44.44*t"
      ]
     },
     "metadata": {},
     "output_type": "display_data"
    },
    {
     "data": {
      "text/latex": [
       "$\\displaystyle - 0.56 t^{2} - 2.2 t - 0.02$"
      ],
      "text/plain": [
       "-0.56*t**2 - 2.2*t - 0.02"
      ]
     },
     "metadata": {},
     "output_type": "display_data"
    },
    {
     "name": "stdout",
     "output_type": "stream",
     "text": [
      "-0.56*t**2 - 2.2*t - 0.02\n"
     ]
    },
    {
     "data": {
      "text/latex": [
       "$\\displaystyle 21.33 t^{3} - 52.77 t^{2} + 46.64 t + 0.02$"
      ],
      "text/plain": [
       "21.33*t**3 - 52.77*t**2 + 46.64*t + 0.02"
      ]
     },
     "metadata": {},
     "output_type": "display_data"
    },
    {
     "name": "stdout",
     "output_type": "stream",
     "text": [
      "Violating constants: []\n",
      "Violating constants: []\n",
      "Violating constants: []\n",
      "Violating constants: []\n",
      "Violating constants: []\n",
      "Violating constants: []\n",
      "Violating constants: []\n",
      "Violating constants: [0.029999999999997584]\n",
      "Violating constants: []\n",
      "Violating constants: []\n",
      "Violating constants: []\n",
      "Violating constants: []\n",
      "Violating constants: []\n",
      "Violating constants: []\n",
      "Violating constants: []\n",
      "Violating constants: []\n",
      "Violating constants: []\n",
      "Violating constants: []\n",
      "Violating constants: []\n",
      "Violating constants: []\n",
      "Violating constants: []\n",
      "Violating constants: []\n",
      "Cannot get_coefficients_and_exponents\n",
      "1.07*t*arctan(0.0)\n",
      "Violating constants: [1.07000000000000]\n"
     ]
    },
    {
     "data": {
      "text/latex": [
       "$\\displaystyle 3.75 t^{2} - 8.25 t$"
      ],
      "text/plain": [
       "3.75*t**2 - 8.25*t"
      ]
     },
     "metadata": {},
     "output_type": "display_data"
    },
    {
     "data": {
      "text/latex": [
       "$\\displaystyle 3.75 t^{2} - 1.07 t \\arctan{\\left(0.0 \\right)} - 8.25 t$"
      ],
      "text/plain": [
       "3.75*t**2 - 1.07*t*arctan(0.0) - 8.25*t"
      ]
     },
     "metadata": {},
     "output_type": "display_data"
    },
    {
     "name": "stdout",
     "output_type": "stream",
     "text": [
      "3.75*t**2 - 1.07*t*arctan(0.0) - 8.25*t\n"
     ]
    },
    {
     "data": {
      "text/latex": [
       "$\\displaystyle 1.07 t \\arctan{\\left(0.0 \\right)}$"
      ],
      "text/plain": [
       "1.07*t*arctan(0.0)"
      ]
     },
     "metadata": {},
     "output_type": "display_data"
    },
    {
     "name": "stdout",
     "output_type": "stream",
     "text": [
      "Violating constants: []\n",
      "Violating constants: []\n",
      "Violating constants: []\n",
      "Violating constants: []\n",
      "Violating constants: []\n",
      "Violating constants: []\n",
      "Violating constants: []\n",
      "Violating constants: []\n",
      "Violating constants: []\n",
      "Violating constants: [-0.019999999999999574, -0.04]\n"
     ]
    },
    {
     "data": {
      "text/latex": [
       "$\\displaystyle 8.33333333333333 t^{3} - 15.0 t^{2} + 9.0 t$"
      ],
      "text/plain": [
       "8.33333333333333*t**3 - 15.0*t**2 + 9.0*t"
      ]
     },
     "metadata": {},
     "output_type": "display_data"
    },
    {
     "data": {
      "text/latex": [
       "$\\displaystyle 8.33 t^{3} - 14.99 t^{2} + 9.02 t + 0.04$"
      ],
      "text/plain": [
       "8.33*t**3 - 14.99*t**2 + 9.02*t + 0.04"
      ]
     },
     "metadata": {},
     "output_type": "display_data"
    },
    {
     "name": "stdout",
     "output_type": "stream",
     "text": [
      "8.33*t**3 - 14.99*t**2 + 9.02*t + 0.04\n"
     ]
    },
    {
     "data": {
      "text/latex": [
       "$\\displaystyle 0.00333333333333385 t^{3} - 0.00999999999999979 t^{2} - 0.0199999999999996 t - 0.04$"
      ],
      "text/plain": [
       "0.00333333333333385*t**3 - 0.00999999999999979*t**2 - 0.0199999999999996*t - 0.04"
      ]
     },
     "metadata": {},
     "output_type": "display_data"
    },
    {
     "name": "stdout",
     "output_type": "stream",
     "text": [
      "Violating constants: []\n",
      "Violating constants: []\n",
      "Violating constants: []\n",
      "Violating constants: []\n",
      "Violating constants: []\n",
      "Violating constants: []\n",
      "Violating constants: []\n",
      "Violating constants: []\n",
      "Violating constants: []\n",
      "Violating constants: []\n",
      "Violating constants: [0.020546769020477473]\n",
      "Violating constants: []\n",
      "Violating constants: []\n",
      "Violating constants: []\n",
      "Violating constants: []\n",
      "Violating constants: []\n",
      "Violating constants: []\n",
      "Violating constants: []\n",
      "Violating constants: []\n",
      "Violating constants: []\n",
      "Violating constants: []\n",
      "Violating constants: []\n",
      "Violating constants: []\n",
      "Violating constants: []\n",
      "Violating constants: []\n",
      "Violating constants: []\n",
      "Violating constants: []\n",
      "Violating constants: []\n",
      "Violating constants: []\n",
      "Violating constants: []\n",
      "Violating constants: []\n",
      "Violating constants: []\n",
      "Violating constants: []\n",
      "Violating constants: []\n",
      "Violating constants: []\n",
      "Violating constants: []\n",
      "Violating constants: []\n",
      "Violating constants: []\n",
      "Violating constants: []\n",
      "Violating constants: []\n",
      "Violating constants: []\n",
      "Violating constants: []\n",
      "Violating constants: []\n",
      "Violating constants: []\n",
      "Violating constants: []\n",
      "Violating constants: []\n",
      "Violating constants: []\n",
      "Violating constants: []\n",
      "Violating constants: []\n",
      "Violating constants: []\n",
      "Violating constants: []\n",
      "Violating constants: []\n",
      "Violating constants: []\n",
      "Violating constants: []\n",
      "Violating constants: []\n",
      "Violating constants: []\n",
      "Violating constants: []\n",
      "Violating constants: []\n",
      "Violating constants: []\n",
      "Violating constants: []\n",
      "Violating constants: []\n",
      "Violating constants: []\n",
      "Violating constants: []\n",
      "Violating constants: []\n",
      "Violating constants: []\n",
      "Violating constants: []\n",
      "Violating constants: []\n",
      "Violating constants: []\n",
      "Violating constants: []\n",
      "Violating constants: [0.04999999999999982, 0.20999999999999996, 0.31]\n"
     ]
    },
    {
     "data": {
      "text/latex": [
       "$\\displaystyle 1.5 t^{3} - 6.0 t^{2} + 8.0 t$"
      ],
      "text/plain": [
       "1.5*t**3 - 6.0*t**2 + 8.0*t"
      ]
     },
     "metadata": {},
     "output_type": "display_data"
    },
    {
     "data": {
      "text/latex": [
       "$\\displaystyle 1.5 t^{3} - 6.05 t^{2} + 7.79 t - 0.31$"
      ],
      "text/plain": [
       "1.5*t**3 - 6.05*t**2 + 7.79*t - 0.31"
      ]
     },
     "metadata": {},
     "output_type": "display_data"
    },
    {
     "name": "stdout",
     "output_type": "stream",
     "text": [
      "1.5*t**3 - 6.05*t**2 + 7.79*t - 0.31\n"
     ]
    },
    {
     "data": {
      "text/latex": [
       "$\\displaystyle 0.0499999999999998 t^{2} + 0.21 t + 0.31$"
      ],
      "text/plain": [
       "0.0499999999999998*t**2 + 0.21*t + 0.31"
      ]
     },
     "metadata": {},
     "output_type": "display_data"
    },
    {
     "name": "stdout",
     "output_type": "stream",
     "text": [
      "Violating constants: []\n",
      "Violating constants: []\n",
      "Violating constants: []\n",
      "Violating constants: []\n",
      "Violating constants: []\n",
      "Violating constants: []\n",
      "Violating constants: []\n",
      "Violating constants: []\n",
      "Violating constants: []\n",
      "Violating constants: []\n",
      "Violating constants: []\n",
      "Violating constants: []\n",
      "Violating constants: []\n",
      "Violating constants: []\n",
      "Violating constants: []\n",
      "Violating constants: []\n",
      "Violating constants: []\n",
      "Violating constants: []\n",
      "Violating constants: []\n",
      "Violating constants: []\n",
      "Violating constants: []\n",
      "Violating constants: []\n",
      "Violating constants: []\n",
      "Violating constants: []\n",
      "Violating constants: []\n",
      "Violating constants: []\n",
      "Violating constants: []\n",
      "Violating constants: []\n",
      "Violating constants: []\n",
      "Violating constants: []\n",
      "Violating constants: []\n",
      "Violating constants: []\n",
      "Violating constants: []\n",
      "Violating constants: []\n",
      "Violating constants: []\n",
      "Violating constants: []\n",
      "Violating constants: []\n",
      "Violating constants: []\n",
      "Violating constants: []\n",
      "Violating constants: []\n",
      "Violating constants: [0.020000000000000004, 0.040000000000000036, -0.1699999999999946]\n"
     ]
    },
    {
     "data": {
      "text/latex": [
       "$\\displaystyle 0.05 t^{3} + 2.88 t^{2} + 51.84 t$"
      ],
      "text/plain": [
       "0.05*t**3 + 2.88*t**2 + 51.84*t"
      ]
     },
     "metadata": {},
     "output_type": "display_data"
    },
    {
     "data": {
      "text/latex": [
       "$\\displaystyle 0.03 t^{3} + 2.84 t^{2} + 52.01 t$"
      ],
      "text/plain": [
       "0.03*t**3 + 2.84*t**2 + 52.01*t"
      ]
     },
     "metadata": {},
     "output_type": "display_data"
    },
    {
     "name": "stdout",
     "output_type": "stream",
     "text": [
      "0.03*t**3 + 2.84*t**2 + 52.01*t\n"
     ]
    },
    {
     "data": {
      "text/latex": [
       "$\\displaystyle 0.02 t^{3} + 0.04 t^{2} - 0.169999999999995 t$"
      ],
      "text/plain": [
       "0.02*t**3 + 0.04*t**2 - 0.169999999999995*t"
      ]
     },
     "metadata": {},
     "output_type": "display_data"
    },
    {
     "name": "stdout",
     "output_type": "stream",
     "text": [
      "Violating constants: []\n",
      "Violating constants: []\n",
      "Violating constants: []\n",
      "Violating constants: []\n",
      "Violating constants: []\n",
      "Violating constants: []\n",
      "Violating constants: [-0.013333333333333641, -0.040000000000000036, -0.06]\n"
     ]
    },
    {
     "data": {
      "text/latex": [
       "$\\displaystyle 7.25925925925926 t^{3} - 9.33333333333333 t^{2} + 4.0 t$"
      ],
      "text/plain": [
       "7.25925925925926*t**3 - 9.33333333333333*t**2 + 4.0*t"
      ]
     },
     "metadata": {},
     "output_type": "display_data"
    },
    {
     "data": {
      "text/latex": [
       "$\\displaystyle 7.26 t^{3} - 9.32 t^{2} + 4.04 t + 0.06$"
      ],
      "text/plain": [
       "7.26*t**3 - 9.32*t**2 + 4.04*t + 0.06"
      ]
     },
     "metadata": {},
     "output_type": "display_data"
    },
    {
     "name": "stdout",
     "output_type": "stream",
     "text": [
      "7.26*t**3 - 9.32*t**2 + 4.04*t + 0.06\n"
     ]
    },
    {
     "data": {
      "text/latex": [
       "$\\displaystyle - 0.000740740740740264 t^{3} - 0.0133333333333336 t^{2} - 0.04 t - 0.06$"
      ],
      "text/plain": [
       "-0.000740740740740264*t**3 - 0.0133333333333336*t**2 - 0.04*t - 0.06"
      ]
     },
     "metadata": {},
     "output_type": "display_data"
    },
    {
     "name": "stdout",
     "output_type": "stream",
     "text": [
      "Violating constants: []\n",
      "Violating constants: []\n",
      "Violating constants: []\n",
      "Violating constants: []\n",
      "Violating constants: []\n",
      "Violating constants: []\n",
      "Violating constants: []\n",
      "Violating constants: []\n",
      "Violating constants: []\n",
      "Violating constants: [2.3703703703703702, -40.0, 168.62]\n"
     ]
    },
    {
     "data": {
      "text/latex": [
       "$\\displaystyle 2.37037037037037 t^{3} - 40.0 t^{2} + 225.0 t$"
      ],
      "text/plain": [
       "2.37037037037037*t**3 - 40.0*t**2 + 225.0*t"
      ]
     },
     "metadata": {},
     "output_type": "display_data"
    },
    {
     "data": {
      "text/latex": [
       "$\\displaystyle 56.38 t$"
      ],
      "text/plain": [
       "56.38*t"
      ]
     },
     "metadata": {},
     "output_type": "display_data"
    },
    {
     "name": "stdout",
     "output_type": "stream",
     "text": [
      "56.38*t\n"
     ]
    },
    {
     "data": {
      "text/latex": [
       "$\\displaystyle 2.37037037037037 t^{3} - 40.0 t^{2} + 168.62 t$"
      ],
      "text/plain": [
       "2.37037037037037*t**3 - 40.0*t**2 + 168.62*t"
      ]
     },
     "metadata": {},
     "output_type": "display_data"
    },
    {
     "name": "stdout",
     "output_type": "stream",
     "text": [
      "Violating constants: []\n",
      "Violating constants: []\n",
      "Violating constants: [0.029999999999999805, 0.04]\n"
     ]
    },
    {
     "data": {
      "text/latex": [
       "$\\displaystyle 10.0833333333333 t^{3} + 11.0 t^{2} + 4.0 t$"
      ],
      "text/plain": [
       "10.0833333333333*t**3 + 11.0*t**2 + 4.0*t"
      ]
     },
     "metadata": {},
     "output_type": "display_data"
    },
    {
     "data": {
      "text/latex": [
       "$\\displaystyle 10.08 t^{3} + 10.99 t^{2} + 3.97 t - 0.04$"
      ],
      "text/plain": [
       "10.08*t**3 + 10.99*t**2 + 3.97*t - 0.04"
      ]
     },
     "metadata": {},
     "output_type": "display_data"
    },
    {
     "name": "stdout",
     "output_type": "stream",
     "text": [
      "10.08*t**3 + 10.99*t**2 + 3.97*t - 0.04\n"
     ]
    },
    {
     "data": {
      "text/latex": [
       "$\\displaystyle 0.00333333333333385 t^{3} + 0.00999999999999979 t^{2} + 0.0299999999999998 t + 0.04$"
      ],
      "text/plain": [
       "0.00333333333333385*t**3 + 0.00999999999999979*t**2 + 0.0299999999999998*t + 0.04"
      ]
     },
     "metadata": {},
     "output_type": "display_data"
    },
    {
     "name": "stdout",
     "output_type": "stream",
     "text": [
      "Violating constants: []\n",
      "Violating constants: []\n",
      "Violating constants: []\n",
      "Violating constants: []\n",
      "Violating constants: []\n",
      "Violating constants: []\n",
      "Violating constants: []\n",
      "Violating constants: []\n",
      "Violating constants: []\n",
      "Violating constants: []\n",
      "Violating constants: []\n",
      "Violating constants: []\n",
      "Violating constants: []\n",
      "Violating constants: []\n",
      "Violating constants: [-0.020000000000003126, -0.0799999999999983, -0.11]\n"
     ]
    },
    {
     "data": {
      "text/latex": [
       "$\\displaystyle 16.33 t^{3} + 59.5 t^{2} + 72.25 t$"
      ],
      "text/plain": [
       "16.33*t**3 + 59.5*t**2 + 72.25*t"
      ]
     },
     "metadata": {},
     "output_type": "display_data"
    },
    {
     "data": {
      "text/latex": [
       "$\\displaystyle 16.33 t^{3} + 59.52 t^{2} + 72.33 t + 0.11$"
      ],
      "text/plain": [
       "16.33*t**3 + 59.52*t**2 + 72.33*t + 0.11"
      ]
     },
     "metadata": {},
     "output_type": "display_data"
    },
    {
     "name": "stdout",
     "output_type": "stream",
     "text": [
      "16.33*t**3 + 59.52*t**2 + 72.33*t + 0.11\n"
     ]
    },
    {
     "data": {
      "text/latex": [
       "$\\displaystyle - 0.0200000000000031 t^{2} - 0.0799999999999983 t - 0.11$"
      ],
      "text/plain": [
       "-0.0200000000000031*t**2 - 0.0799999999999983*t - 0.11"
      ]
     },
     "metadata": {},
     "output_type": "display_data"
    },
    {
     "name": "stdout",
     "output_type": "stream",
     "text": [
      "Violating constants: []\n",
      "Violating constants: []\n",
      "Violating constants: []\n",
      "Violating constants: []\n",
      "Violating constants: []\n",
      "Violating constants: []\n",
      "Violating constants: []\n",
      "Violating constants: []\n",
      "Violating constants: []\n",
      "Violating constants: []\n",
      "Violating constants: []\n",
      "Violating constants: []\n",
      "Violating constants: []\n",
      "Violating constants: []\n",
      "Violating constants: []\n",
      "Violating constants: []\n",
      "Violating constants: []\n",
      "Violating constants: []\n",
      "Violating constants: []\n",
      "Violating constants: []\n",
      "Violating constants: [-0.030000000000000027, -0.07000000000000028, 0.03000000000000025]\n"
     ]
    },
    {
     "data": {
      "text/latex": [
       "$\\displaystyle 1.33 t^{3} - 3.2 t^{2} + 2.56 t$"
      ],
      "text/plain": [
       "1.33*t**3 - 3.2*t**2 + 2.56*t"
      ]
     },
     "metadata": {},
     "output_type": "display_data"
    },
    {
     "data": {
      "text/latex": [
       "$\\displaystyle 1.36 t^{3} - 3.13 t^{2} + 2.53 t$"
      ],
      "text/plain": [
       "1.36*t**3 - 3.13*t**2 + 2.53*t"
      ]
     },
     "metadata": {},
     "output_type": "display_data"
    },
    {
     "name": "stdout",
     "output_type": "stream",
     "text": [
      "1.36*t**3 - 3.13*t**2 + 2.53*t\n"
     ]
    },
    {
     "data": {
      "text/latex": [
       "$\\displaystyle - 0.03 t^{3} - 0.0700000000000003 t^{2} + 0.0300000000000002 t$"
      ],
      "text/plain": [
       "-0.03*t**3 - 0.0700000000000003*t**2 + 0.0300000000000002*t"
      ]
     },
     "metadata": {},
     "output_type": "display_data"
    },
    {
     "name": "stdout",
     "output_type": "stream",
     "text": [
      "Violating constants: []\n",
      "Violating constants: []\n",
      "Violating constants: []\n",
      "Violating constants: []\n",
      "Violating constants: []\n",
      "Violating constants: []\n",
      "Violating constants: []\n",
      "Violating constants: []\n",
      "Violating constants: []\n",
      "Violating constants: []\n",
      "Violating constants: []\n",
      "Violating constants: []\n",
      "Violating constants: [0.03999999999999915, 0.06]\n"
     ]
    },
    {
     "data": {
      "text/latex": [
       "$\\displaystyle 1.33 t^{3} - 15.0 t^{2} + 56.25 t$"
      ],
      "text/plain": [
       "1.33*t**3 - 15.0*t**2 + 56.25*t"
      ]
     },
     "metadata": {},
     "output_type": "display_data"
    },
    {
     "data": {
      "text/latex": [
       "$\\displaystyle 1.33 t^{3} - 15.01 t^{2} + 56.21 t - 0.06$"
      ],
      "text/plain": [
       "1.33*t**3 - 15.01*t**2 + 56.21*t - 0.06"
      ]
     },
     "metadata": {},
     "output_type": "display_data"
    },
    {
     "name": "stdout",
     "output_type": "stream",
     "text": [
      "1.33*t**3 - 15.01*t**2 + 56.21*t - 0.06\n"
     ]
    },
    {
     "data": {
      "text/latex": [
       "$\\displaystyle 0.00999999999999979 t^{2} + 0.0399999999999991 t + 0.06$"
      ],
      "text/plain": [
       "0.00999999999999979*t**2 + 0.0399999999999991*t + 0.06"
      ]
     },
     "metadata": {},
     "output_type": "display_data"
    },
    {
     "name": "stdout",
     "output_type": "stream",
     "text": [
      "Violating constants: []\n",
      "Violating constants: []\n",
      "Violating constants: []\n",
      "Violating constants: []\n",
      "Violating constants: []\n",
      "Violating constants: []\n",
      "Violating constants: []\n",
      "Violating constants: []\n",
      "Violating constants: []\n",
      "Violating constants: []\n",
      "Violating constants: []\n",
      "Violating constants: []\n",
      "Violating constants: []\n",
      "Violating constants: []\n",
      "Violating constants: []\n",
      "Violating constants: [0.020000000000000018]\n",
      "Violating constants: []\n",
      "Violating constants: []\n",
      "Violating constants: []\n",
      "Violating constants: []\n",
      "Violating constants: [0.12000000000000001, 0.28999999999999915, -0.75]\n"
     ]
    },
    {
     "data": {
      "text/latex": [
       "$\\displaystyle 0.17 t^{3} + 10.5 t^{2} + 220.5 t$"
      ],
      "text/plain": [
       "0.17*t**3 + 10.5*t**2 + 220.5*t"
      ]
     },
     "metadata": {},
     "output_type": "display_data"
    },
    {
     "data": {
      "text/latex": [
       "$\\displaystyle 0.05 t^{3} + 10.21 t^{2} + 221.25 t - 0.01$"
      ],
      "text/plain": [
       "0.05*t**3 + 10.21*t**2 + 221.25*t - 0.01"
      ]
     },
     "metadata": {},
     "output_type": "display_data"
    },
    {
     "name": "stdout",
     "output_type": "stream",
     "text": [
      "0.05*t**3 + 10.21*t**2 + 221.25*t - 0.01\n"
     ]
    },
    {
     "data": {
      "text/latex": [
       "$\\displaystyle 0.12 t^{3} + 0.289999999999999 t^{2} - 0.75 t + 0.01$"
      ],
      "text/plain": [
       "0.12*t**3 + 0.289999999999999*t**2 - 0.75*t + 0.01"
      ]
     },
     "metadata": {},
     "output_type": "display_data"
    },
    {
     "name": "stdout",
     "output_type": "stream",
     "text": [
      "Violating constants: [0.5, -1.0700000000000003]\n"
     ]
    },
    {
     "data": {
      "text/latex": [
       "$\\displaystyle 3.0 t^{2} - 6.4 t$"
      ],
      "text/plain": [
       "3.0*t**2 - 6.4*t"
      ]
     },
     "metadata": {},
     "output_type": "display_data"
    },
    {
     "data": {
      "text/latex": [
       "$\\displaystyle 2.5 t^{2} - 5.33 t$"
      ],
      "text/plain": [
       "2.5*t**2 - 5.33*t"
      ]
     },
     "metadata": {},
     "output_type": "display_data"
    },
    {
     "name": "stdout",
     "output_type": "stream",
     "text": [
      "2.5*t**2 - 5.33*t\n"
     ]
    },
    {
     "data": {
      "text/latex": [
       "$\\displaystyle 0.5 t^{2} - 1.07 t$"
      ],
      "text/plain": [
       "0.5*t**2 - 1.07*t"
      ]
     },
     "metadata": {},
     "output_type": "display_data"
    },
    {
     "name": "stdout",
     "output_type": "stream",
     "text": [
      "Violating constants: []\n",
      "Violating constants: []\n",
      "Violating constants: [0.02000000000000135, 0.03]\n"
     ]
    },
    {
     "data": {
      "text/latex": [
       "$\\displaystyle 1.92 t^{3} - 8.64 t^{2} + 12.96 t$"
      ],
      "text/plain": [
       "1.92*t**3 - 8.64*t**2 + 12.96*t"
      ]
     },
     "metadata": {},
     "output_type": "display_data"
    },
    {
     "data": {
      "text/latex": [
       "$\\displaystyle 1.92 t^{3} - 8.64 t^{2} + 12.94 t - 0.03$"
      ],
      "text/plain": [
       "1.92*t**3 - 8.64*t**2 + 12.94*t - 0.03"
      ]
     },
     "metadata": {},
     "output_type": "display_data"
    },
    {
     "name": "stdout",
     "output_type": "stream",
     "text": [
      "1.92*t**3 - 8.64*t**2 + 12.94*t - 0.03\n"
     ]
    },
    {
     "data": {
      "text/latex": [
       "$\\displaystyle 0.0200000000000014 t + 0.03$"
      ],
      "text/plain": [
       "0.0200000000000014*t + 0.03"
      ]
     },
     "metadata": {},
     "output_type": "display_data"
    },
    {
     "name": "stdout",
     "output_type": "stream",
     "text": [
      "Violating constants: []\n",
      "Violating constants: []\n",
      "Violating constants: []\n",
      "Violating constants: []\n",
      "Violating constants: []\n",
      "Violating constants: []\n",
      "Violating constants: []\n",
      "Violating constants: []\n",
      "Violating constants: []\n",
      "Violating constants: []\n",
      "Violating constants: []\n",
      "Violating constants: []\n",
      "Violating constants: []\n",
      "Violating constants: []\n",
      "Violating constants: []\n",
      "Violating constants: []\n",
      "Violating constants: []\n",
      "Violating constants: []\n",
      "Violating constants: [0.033333333333333215, 0.16999999999999993]\n"
     ]
    },
    {
     "data": {
      "text/latex": [
       "$\\displaystyle 1.83333333333333 t^{2} + 8.0 t$"
      ],
      "text/plain": [
       "1.83333333333333*t**2 + 8.0*t"
      ]
     },
     "metadata": {},
     "output_type": "display_data"
    },
    {
     "data": {
      "text/latex": [
       "$\\displaystyle 1.8 t^{2} + 7.83 t$"
      ],
      "text/plain": [
       "1.8*t**2 + 7.83*t"
      ]
     },
     "metadata": {},
     "output_type": "display_data"
    },
    {
     "name": "stdout",
     "output_type": "stream",
     "text": [
      "1.8*t**2 + 7.83*t\n"
     ]
    },
    {
     "data": {
      "text/latex": [
       "$\\displaystyle 0.0333333333333332 t^{2} + 0.17 t$"
      ],
      "text/plain": [
       "0.0333333333333332*t**2 + 0.17*t"
      ]
     },
     "metadata": {},
     "output_type": "display_data"
    },
    {
     "name": "stdout",
     "output_type": "stream",
     "text": [
      "Violating constants: []\n",
      "Violating constants: []\n",
      "Violating constants: []\n",
      "Violating constants: []\n",
      "Violating constants: []\n",
      "Violating constants: [13.02, 15.62, 5.89]\n"
     ]
    },
    {
     "data": {
      "text/latex": [
       "$\\displaystyle 13.02 t^{3} + 15.62 t^{2} + 6.25 t$"
      ],
      "text/plain": [
       "13.02*t**3 + 15.62*t**2 + 6.25*t"
      ]
     },
     "metadata": {},
     "output_type": "display_data"
    },
    {
     "data": {
      "text/latex": [
       "$\\displaystyle 0.36 t$"
      ],
      "text/plain": [
       "0.36*t"
      ]
     },
     "metadata": {},
     "output_type": "display_data"
    },
    {
     "name": "stdout",
     "output_type": "stream",
     "text": [
      "0.36*t\n"
     ]
    },
    {
     "data": {
      "text/latex": [
       "$\\displaystyle 13.02 t^{3} + 15.62 t^{2} + 5.89 t$"
      ],
      "text/plain": [
       "13.02*t**3 + 15.62*t**2 + 5.89*t"
      ]
     },
     "metadata": {},
     "output_type": "display_data"
    },
    {
     "name": "stdout",
     "output_type": "stream",
     "text": [
      "Violating constants: []\n",
      "Violating constants: []\n",
      "Violating constants: []\n",
      "Violating constants: []\n",
      "Violating constants: []\n",
      "Violating constants: []\n",
      "Violating constants: []\n",
      "Violating constants: []\n",
      "Violating constants: []\n",
      "Violating constants: []\n",
      "Violating constants: [-0.10999999999999943]\n",
      "Violating constants: []\n",
      "Violating constants: []\n",
      "Violating constants: []\n",
      "Violating constants: []\n",
      "Violating constants: []\n",
      "Violating constants: []\n",
      "Violating constants: []\n",
      "Violating constants: []\n",
      "Violating constants: []\n",
      "Violating constants: []\n",
      "Violating constants: []\n",
      "Violating constants: []\n",
      "Violating constants: [0.061224489795918366, -0.02857142857142847, -0.3300000000000125]\n"
     ]
    },
    {
     "data": {
      "text/latex": [
       "$\\displaystyle 0.0612244897959184 t^{3} - 6.42857142857143 t^{2} + 225.0 t$"
      ],
      "text/plain": [
       "0.0612244897959184*t**3 - 6.42857142857143*t**2 + 225.0*t"
      ]
     },
     "metadata": {},
     "output_type": "display_data"
    },
    {
     "data": {
      "text/latex": [
       "$\\displaystyle - 6.4 t^{2} + 225.33 t$"
      ],
      "text/plain": [
       "-6.4*t**2 + 225.33*t"
      ]
     },
     "metadata": {},
     "output_type": "display_data"
    },
    {
     "name": "stdout",
     "output_type": "stream",
     "text": [
      "-6.4*t**2 + 225.33*t\n"
     ]
    },
    {
     "data": {
      "text/latex": [
       "$\\displaystyle 0.0612244897959184 t^{3} - 0.0285714285714285 t^{2} - 0.330000000000013 t$"
      ],
      "text/plain": [
       "0.0612244897959184*t**3 - 0.0285714285714285*t**2 - 0.330000000000013*t"
      ]
     },
     "metadata": {},
     "output_type": "display_data"
    },
    {
     "name": "stdout",
     "output_type": "stream",
     "text": [
      "Violating constants: []\n",
      "Violating constants: []\n",
      "Violating constants: []\n",
      "Violating constants: []\n",
      "Violating constants: []\n",
      "Violating constants: []\n",
      "Violating constants: []\n",
      "Violating constants: []\n",
      "Violating constants: []\n",
      "Violating constants: []\n",
      "Violating constants: []\n",
      "Violating constants: []\n",
      "Violating constants: []\n",
      "Violating constants: []\n",
      "Violating constants: []\n",
      "Violating constants: []\n",
      "Violating constants: []\n",
      "Violating constants: []\n",
      "Violating constants: []\n",
      "Violating constants: []\n",
      "Violating constants: []\n",
      "Violating constants: []\n",
      "Violating constants: []\n",
      "Violating constants: []\n",
      "Violating constants: []\n",
      "Violating constants: []\n",
      "Violating constants: []\n",
      "Violating constants: []\n",
      "Violating constants: []\n",
      "Violating constants: []\n",
      "Violating constants: []\n",
      "Violating constants: []\n",
      "Violating constants: []\n",
      "Violating constants: []\n",
      "Violating constants: []\n",
      "Violating constants: []\n",
      "Violating constants: []\n",
      "Violating constants: []\n",
      "Violating constants: []\n",
      "Violating constants: []\n",
      "Violating constants: []\n",
      "Violating constants: []\n",
      "Violating constants: []\n",
      "Violating constants: []\n",
      "Violating constants: []\n",
      "Violating constants: []\n",
      "Violating constants: []\n",
      "Violating constants: []\n",
      "Violating constants: []\n",
      "Violating constants: []\n",
      "Violating constants: []\n",
      "Violating constants: []\n",
      "Violating constants: []\n",
      "Violating constants: []\n",
      "Violating constants: []\n",
      "Violating constants: []\n",
      "Violating constants: []\n",
      "Violating constants: []\n",
      "Violating constants: []\n",
      "Violating constants: []\n",
      "Violating constants: []\n",
      "Violating constants: []\n",
      "Violating constants: []\n",
      "Violating constants: []\n",
      "Violating constants: []\n",
      "Violating constants: []\n",
      "Violating constants: []\n",
      "Violating constants: []\n",
      "Violating constants: []\n",
      "Violating constants: [0.020833333333333332, 0.020000000000000018, -0.18000000000000682]\n"
     ]
    },
    {
     "data": {
      "text/latex": [
       "$\\displaystyle 0.0208333333333333 t^{3} + 2.0 t^{2} + 64.0 t$"
      ],
      "text/plain": [
       "0.0208333333333333*t**3 + 2.0*t**2 + 64.0*t"
      ]
     },
     "metadata": {},
     "output_type": "display_data"
    },
    {
     "data": {
      "text/latex": [
       "$\\displaystyle 1.98 t^{2} + 64.18 t$"
      ],
      "text/plain": [
       "1.98*t**2 + 64.18*t"
      ]
     },
     "metadata": {},
     "output_type": "display_data"
    },
    {
     "name": "stdout",
     "output_type": "stream",
     "text": [
      "1.98*t**2 + 64.18*t\n"
     ]
    },
    {
     "data": {
      "text/latex": [
       "$\\displaystyle 0.0208333333333333 t^{3} + 0.02 t^{2} - 0.180000000000007 t$"
      ],
      "text/plain": [
       "0.0208333333333333*t**3 + 0.02*t**2 - 0.180000000000007*t"
      ]
     },
     "metadata": {},
     "output_type": "display_data"
    },
    {
     "name": "stdout",
     "output_type": "stream",
     "text": [
      "Violating constants: []\n",
      "Violating constants: []\n",
      "Violating constants: []\n",
      "Violating constants: []\n",
      "Violating constants: []\n",
      "Violating constants: []\n",
      "Violating constants: []\n",
      "Violating constants: []\n",
      "Violating constants: []\n",
      "Violating constants: []\n",
      "Violating constants: []\n",
      "Violating constants: []\n",
      "Violating constants: []\n",
      "Violating constants: []\n",
      "Violating constants: []\n",
      "Violating constants: []\n",
      "Violating constants: []\n",
      "Violating constants: [0.061224489795918366, 0.04857142857142893, -0.28999999999999204]\n"
     ]
    },
    {
     "data": {
      "text/latex": [
       "$\\displaystyle 0.0612244897959184 t^{3} + 6.42857142857143 t^{2} + 225.0 t$"
      ],
      "text/plain": [
       "0.0612244897959184*t**3 + 6.42857142857143*t**2 + 225.0*t"
      ]
     },
     "metadata": {},
     "output_type": "display_data"
    },
    {
     "data": {
      "text/latex": [
       "$\\displaystyle 6.38 t^{2} + 225.29 t$"
      ],
      "text/plain": [
       "6.38*t**2 + 225.29*t"
      ]
     },
     "metadata": {},
     "output_type": "display_data"
    },
    {
     "name": "stdout",
     "output_type": "stream",
     "text": [
      "6.38*t**2 + 225.29*t\n"
     ]
    },
    {
     "data": {
      "text/latex": [
       "$\\displaystyle 0.0612244897959184 t^{3} + 0.0485714285714289 t^{2} - 0.289999999999992 t$"
      ],
      "text/plain": [
       "0.0612244897959184*t**3 + 0.0485714285714289*t**2 - 0.289999999999992*t"
      ]
     },
     "metadata": {},
     "output_type": "display_data"
    },
    {
     "name": "stdout",
     "output_type": "stream",
     "text": [
      "Violating constants: []\n",
      "Violating constants: []\n",
      "Violating constants: []\n",
      "Violating constants: []\n",
      "Violating constants: []\n",
      "Violating constants: []\n",
      "Violating constants: []\n",
      "Violating constants: []\n",
      "Violating constants: []\n",
      "Violating constants: []\n",
      "Violating constants: []\n",
      "Violating constants: []\n",
      "Violating constants: []\n",
      "Violating constants: []\n",
      "Violating constants: []\n",
      "Violating constants: []\n",
      "Violating constants: []\n",
      "Violating constants: []\n",
      "Violating constants: []\n",
      "Violating constants: []\n",
      "Violating constants: []\n",
      "Violating constants: []\n",
      "Violating constants: []\n",
      "Violating constants: []\n",
      "Violating constants: []\n",
      "Violating constants: []\n",
      "Violating constants: []\n",
      "Violating constants: []\n",
      "Violating constants: []\n",
      "Violating constants: [2.08, -16.25, -4.544600000000003]\n"
     ]
    },
    {
     "data": {
      "text/latex": [
       "$\\displaystyle 2.08 t^{3} - 16.25 t^{2} + 42.25 t$"
      ],
      "text/plain": [
       "2.08*t**3 - 16.25*t**2 + 42.25*t"
      ]
     },
     "metadata": {},
     "output_type": "display_data"
    },
    {
     "data": {
      "text/latex": [
       "$\\displaystyle 46.7946 t$"
      ],
      "text/plain": [
       "46.7946*t"
      ]
     },
     "metadata": {},
     "output_type": "display_data"
    },
    {
     "name": "stdout",
     "output_type": "stream",
     "text": [
      "46.7946*t\n"
     ]
    },
    {
     "data": {
      "text/latex": [
       "$\\displaystyle 2.08 t^{3} - 16.25 t^{2} - 4.5446 t$"
      ],
      "text/plain": [
       "2.08*t**3 - 16.25*t**2 - 4.5446*t"
      ]
     },
     "metadata": {},
     "output_type": "display_data"
    },
    {
     "name": "stdout",
     "output_type": "stream",
     "text": [
      "Violating constants: []\n",
      "Violating constants: []\n",
      "Violating constants: []\n",
      "Violating constants: []\n",
      "Violating constants: []\n",
      "Violating constants: []\n",
      "Violating constants: []\n",
      "Violating constants: []\n",
      "Violating constants: []\n",
      "Violating constants: []\n",
      "Violating constants: []\n",
      "Violating constants: []\n",
      "Violating constants: []\n",
      "Violating constants: []\n",
      "Violating constants: []\n",
      "Violating constants: []\n",
      "Violating constants: []\n",
      "Violating constants: []\n",
      "Violating constants: []\n",
      "Violating constants: []\n",
      "Violating constants: []\n",
      "Violating constants: []\n",
      "Violating constants: []\n",
      "Violating constants: []\n",
      "Violating constants: []\n",
      "Violating constants: []\n",
      "Violating constants: []\n",
      "Violating constants: []\n",
      "Violating constants: []\n",
      "Violating constants: []\n",
      "Violating constants: [0.30000000000000004]\n"
     ]
    },
    {
     "data": {
      "text/latex": [
       "$\\displaystyle 21.78 t^{3} + 9.33 t^{2} + 1.33 t$"
      ],
      "text/plain": [
       "21.78*t**3 + 9.33*t**2 + 1.33*t"
      ]
     },
     "metadata": {},
     "output_type": "display_data"
    },
    {
     "data": {
      "text/latex": [
       "$\\displaystyle 21.78 t^{3} + 9.33 t^{2} + 1.03 t$"
      ],
      "text/plain": [
       "21.78*t**3 + 9.33*t**2 + 1.03*t"
      ]
     },
     "metadata": {},
     "output_type": "display_data"
    },
    {
     "name": "stdout",
     "output_type": "stream",
     "text": [
      "21.78*t**3 + 9.33*t**2 + 1.03*t\n"
     ]
    },
    {
     "data": {
      "text/latex": [
       "$\\displaystyle 0.3 t$"
      ],
      "text/plain": [
       "0.3*t"
      ]
     },
     "metadata": {},
     "output_type": "display_data"
    },
    {
     "name": "stdout",
     "output_type": "stream",
     "text": [
      "Violating constants: []\n",
      "Violating constants: []\n",
      "Violating constants: []\n",
      "Violating constants: []\n",
      "Violating constants: []\n",
      "Violating constants: []\n",
      "Violating constants: []\n",
      "Violating constants: []\n",
      "Violating constants: []\n",
      "Violating constants: []\n",
      "Violating constants: []\n",
      "Violating constants: []\n",
      "Violating constants: []\n",
      "Violating constants: []\n",
      "Violating constants: []\n",
      "Violating constants: []\n",
      "Violating constants: []\n",
      "Violating constants: []\n",
      "Violating constants: []\n",
      "Violating constants: [0.03000000000000025]\n"
     ]
    },
    {
     "data": {
      "text/latex": [
       "$\\displaystyle - 1.2 t^{2} + 2.6 t$"
      ],
      "text/plain": [
       "-1.2*t**2 + 2.6*t"
      ]
     },
     "metadata": {},
     "output_type": "display_data"
    },
    {
     "data": {
      "text/latex": [
       "$\\displaystyle - 1.19 t^{2} + 2.57 t$"
      ],
      "text/plain": [
       "-1.19*t**2 + 2.57*t"
      ]
     },
     "metadata": {},
     "output_type": "display_data"
    },
    {
     "name": "stdout",
     "output_type": "stream",
     "text": [
      "-1.19*t**2 + 2.57*t\n"
     ]
    },
    {
     "data": {
      "text/latex": [
       "$\\displaystyle - 0.01 t^{2} + 0.0300000000000002 t$"
      ],
      "text/plain": [
       "-0.01*t**2 + 0.0300000000000002*t"
      ]
     },
     "metadata": {},
     "output_type": "display_data"
    },
    {
     "name": "stdout",
     "output_type": "stream",
     "text": [
      "Violating constants: []\n",
      "Violating constants: []\n",
      "Violating constants: []\n",
      "Violating constants: []\n",
      "Violating constants: []\n",
      "Violating constants: []\n",
      "Violating constants: []\n",
      "Violating constants: []\n",
      "Violating constants: []\n",
      "Violating constants: []\n",
      "Violating constants: []\n",
      "Violating constants: []\n",
      "Violating constants: []\n",
      "Violating constants: []\n",
      "Violating constants: []\n",
      "Violating constants: []\n",
      "Violating constants: []\n",
      "Violating constants: []\n",
      "Violating constants: []\n",
      "Violating constants: []\n",
      "Violating constants: []\n",
      "Violating constants: []\n",
      "Violating constants: []\n",
      "Violating constants: []\n",
      "Violating constants: []\n",
      "Violating constants: []\n",
      "Violating constants: []\n",
      "Violating constants: []\n",
      "Violating constants: []\n",
      "Violating constants: []\n",
      "Violating constants: []\n",
      "Violating constants: []\n",
      "Violating constants: []\n",
      "Violating constants: []\n",
      "Violating constants: []\n",
      "Violating constants: []\n",
      "Violating constants: []\n",
      "Violating constants: []\n",
      "Violating constants: []\n",
      "Violating constants: []\n",
      "Violating constants: []\n",
      "Violating constants: []\n",
      "Violating constants: []\n",
      "Violating constants: []\n",
      "Violating constants: []\n",
      "Violating constants: []\n",
      "Violating constants: []\n",
      "Violating constants: []\n",
      "Violating constants: []\n",
      "Violating constants: [0.019999999999999574, 0.04000000000000625, 0.03]\n"
     ]
    },
    {
     "data": {
      "text/latex": [
       "$\\displaystyle 0.0833333333333333 t^{3} - 4.5 t^{2} + 81.0 t$"
      ],
      "text/plain": [
       "0.0833333333333333*t**3 - 4.5*t**2 + 81.0*t"
      ]
     },
     "metadata": {},
     "output_type": "display_data"
    },
    {
     "data": {
      "text/latex": [
       "$\\displaystyle 0.08 t^{3} - 4.52 t^{2} + 80.96 t - 0.03$"
      ],
      "text/plain": [
       "0.08*t**3 - 4.52*t**2 + 80.96*t - 0.03"
      ]
     },
     "metadata": {},
     "output_type": "display_data"
    },
    {
     "name": "stdout",
     "output_type": "stream",
     "text": [
      "0.08*t**3 - 4.52*t**2 + 80.96*t - 0.03\n"
     ]
    },
    {
     "data": {
      "text/latex": [
       "$\\displaystyle 0.00333333333333333 t^{3} + 0.0199999999999996 t^{2} + 0.0400000000000063 t + 0.03$"
      ],
      "text/plain": [
       "0.00333333333333333*t**3 + 0.0199999999999996*t**2 + 0.0400000000000063*t + 0.03"
      ]
     },
     "metadata": {},
     "output_type": "display_data"
    },
    {
     "name": "stdout",
     "output_type": "stream",
     "text": [
      "Violating constants: []\n",
      "Violating constants: []\n",
      "Violating constants: []\n",
      "Violating constants: [9.0, 18.0, 10.48]\n"
     ]
    },
    {
     "data": {
      "text/latex": [
       "$\\displaystyle 9.0 t^{3} + 18.0 t^{2} + 12.0 t$"
      ],
      "text/plain": [
       "9.0*t**3 + 18.0*t**2 + 12.0*t"
      ]
     },
     "metadata": {},
     "output_type": "display_data"
    },
    {
     "data": {
      "text/latex": [
       "$\\displaystyle 1.52 t$"
      ],
      "text/plain": [
       "1.52*t"
      ]
     },
     "metadata": {},
     "output_type": "display_data"
    },
    {
     "name": "stdout",
     "output_type": "stream",
     "text": [
      "1.52*t\n"
     ]
    },
    {
     "data": {
      "text/latex": [
       "$\\displaystyle 9.0 t^{3} + 18.0 t^{2} + 10.48 t$"
      ],
      "text/plain": [
       "9.0*t**3 + 18.0*t**2 + 10.48*t"
      ]
     },
     "metadata": {},
     "output_type": "display_data"
    },
    {
     "name": "stdout",
     "output_type": "stream",
     "text": [
      "Violating constants: []\n",
      "Violating constants: []\n",
      "Violating constants: []\n",
      "Violating constants: []\n",
      "Violating constants: []\n",
      "Violating constants: []\n",
      "Violating constants: []\n",
      "Violating constants: []\n",
      "Violating constants: []\n",
      "Violating constants: []\n",
      "Violating constants: []\n",
      "Violating constants: []\n",
      "Violating constants: []\n",
      "Violating constants: []\n",
      "Violating constants: []\n",
      "Violating constants: []\n",
      "Violating constants: []\n",
      "Violating constants: [0.017037037037037035, 0.02666666666666684, -0.14999999999999858]\n"
     ]
    },
    {
     "data": {
      "text/latex": [
       "$\\displaystyle 0.037037037037037 t^{3} + 1.66666666666667 t^{2} + 25.0 t$"
      ],
      "text/plain": [
       "0.037037037037037*t**3 + 1.66666666666667*t**2 + 25.0*t"
      ]
     },
     "metadata": {},
     "output_type": "display_data"
    },
    {
     "data": {
      "text/latex": [
       "$\\displaystyle 0.02 t^{3} + 1.64 t^{2} + 25.15 t$"
      ],
      "text/plain": [
       "0.02*t**3 + 1.64*t**2 + 25.15*t"
      ]
     },
     "metadata": {},
     "output_type": "display_data"
    },
    {
     "name": "stdout",
     "output_type": "stream",
     "text": [
      "0.02*t**3 + 1.64*t**2 + 25.15*t\n"
     ]
    },
    {
     "data": {
      "text/latex": [
       "$\\displaystyle 0.017037037037037 t^{3} + 0.0266666666666668 t^{2} - 0.149999999999999 t$"
      ],
      "text/plain": [
       "0.017037037037037*t**3 + 0.0266666666666668*t**2 - 0.149999999999999*t"
      ]
     },
     "metadata": {},
     "output_type": "display_data"
    },
    {
     "name": "stdout",
     "output_type": "stream",
     "text": [
      "Violating constants: []\n",
      "Violating constants: []\n",
      "Violating constants: []\n",
      "Violating constants: []\n",
      "Violating constants: []\n",
      "Violating constants: []\n",
      "Violating constants: []\n",
      "Violating constants: []\n",
      "Violating constants: []\n",
      "Violating constants: []\n",
      "Violating constants: []\n",
      "Violating constants: []\n",
      "Violating constants: []\n",
      "Violating constants: []\n",
      "Violating constants: []\n",
      "Violating constants: []\n",
      "Violating constants: []\n",
      "Violating constants: []\n",
      "Violating constants: []\n",
      "Violating constants: []\n",
      "Violating constants: []\n",
      "Violating constants: []\n",
      "Violating constants: []\n",
      "Violating constants: []\n",
      "Violating constants: []\n",
      "Violating constants: []\n",
      "Violating constants: []\n",
      "Violating constants: []\n",
      "Violating constants: []\n",
      "Violating constants: []\n",
      "Violating constants: []\n",
      "Violating constants: []\n",
      "Violating constants: []\n",
      "Violating constants: []\n",
      "Violating constants: []\n",
      "Violating constants: []\n",
      "Violating constants: []\n",
      "Violating constants: []\n",
      "Violating constants: []\n",
      "Violating constants: []\n",
      "Violating constants: []\n",
      "Violating constants: []\n",
      "Violating constants: []\n",
      "Violating constants: []\n",
      "Violating constants: []\n",
      "Violating constants: []\n",
      "Violating constants: []\n",
      "Violating constants: []\n",
      "Violating constants: []\n",
      "Violating constants: []\n",
      "Violating constants: []\n",
      "Violating constants: []\n",
      "Violating constants: []\n",
      "Violating constants: []\n",
      "Violating constants: []\n",
      "Violating constants: []\n",
      "Violating constants: []\n",
      "Violating constants: []\n",
      "Violating constants: []\n",
      "Violating constants: [0.013333333333333334, -0.030000000000001137]\n"
     ]
    },
    {
     "data": {
      "text/latex": [
       "$\\displaystyle 0.0133333333333333 t^{3} - 3.0 t^{2} + 225.0 t$"
      ],
      "text/plain": [
       "0.0133333333333333*t**3 - 3.0*t**2 + 225.0*t"
      ]
     },
     "metadata": {},
     "output_type": "display_data"
    },
    {
     "data": {
      "text/latex": [
       "$\\displaystyle - 2.99 t^{2} + 225.03 t$"
      ],
      "text/plain": [
       "-2.99*t**2 + 225.03*t"
      ]
     },
     "metadata": {},
     "output_type": "display_data"
    },
    {
     "name": "stdout",
     "output_type": "stream",
     "text": [
      "-2.99*t**2 + 225.03*t\n"
     ]
    },
    {
     "data": {
      "text/latex": [
       "$\\displaystyle 0.0133333333333333 t^{3} - 0.00999999999999979 t^{2} - 0.0300000000000011 t$"
      ],
      "text/plain": [
       "0.0133333333333333*t**3 - 0.00999999999999979*t**2 - 0.0300000000000011*t"
      ]
     },
     "metadata": {},
     "output_type": "display_data"
    },
    {
     "name": "stdout",
     "output_type": "stream",
     "text": [
      "Violating constants: []\n",
      "Violating constants: []\n",
      "Violating constants: []\n",
      "Violating constants: []\n",
      "Violating constants: []\n",
      "Violating constants: []\n",
      "Violating constants: []\n",
      "Violating constants: [0.1739999999999995, 0.49099999999999966, 0.3710000000000022]\n"
     ]
    },
    {
     "data": {
      "text/latex": [
       "$\\displaystyle 7.26 t^{3} + 20.22 t^{2} + 18.78 t$"
      ],
      "text/plain": [
       "7.26*t**3 + 20.22*t**2 + 18.78*t"
      ]
     },
     "metadata": {},
     "output_type": "display_data"
    },
    {
     "data": {
      "text/latex": [
       "$\\displaystyle 7.086 t^{3} + 19.729 t^{2} + 18.409 t + 0.0044$"
      ],
      "text/plain": [
       "7.086*t**3 + 19.729*t**2 + 18.409*t + 0.0044"
      ]
     },
     "metadata": {},
     "output_type": "display_data"
    },
    {
     "name": "stdout",
     "output_type": "stream",
     "text": [
      "7.086*t**3 + 19.729*t**2 + 18.409*t + 0.0044\n"
     ]
    },
    {
     "data": {
      "text/latex": [
       "$\\displaystyle 0.173999999999999 t^{3} + 0.491 t^{2} + 0.371000000000002 t - 0.0044$"
      ],
      "text/plain": [
       "0.173999999999999*t**3 + 0.491*t**2 + 0.371000000000002*t - 0.0044"
      ]
     },
     "metadata": {},
     "output_type": "display_data"
    },
    {
     "name": "stdout",
     "output_type": "stream",
     "text": [
      "Violating constants: []\n",
      "Violating constants: []\n",
      "Violating constants: []\n",
      "Violating constants: []\n",
      "Violating constants: []\n",
      "Violating constants: []\n",
      "Violating constants: []\n",
      "Violating constants: []\n",
      "Violating constants: []\n",
      "Violating constants: []\n",
      "Violating constants: []\n",
      "Violating constants: []\n",
      "Violating constants: []\n",
      "Violating constants: []\n",
      "Violating constants: []\n",
      "Violating constants: []\n",
      "Violating constants: [-0.027000000000000135, -0.08299999999999841, -0.09299999999999997]\n",
      "Violating constants: []\n",
      "Violating constants: []\n",
      "Violating constants: []\n",
      "Violating constants: []\n",
      "Violating constants: []\n",
      "Violating constants: []\n",
      "Violating constants: []\n",
      "Violating constants: []\n",
      "Violating constants: []\n",
      "Violating constants: []\n",
      "Violating constants: []\n",
      "Violating constants: []\n",
      "Violating constants: []\n",
      "Violating constants: [0.027037037037037033, 0.020000000000000018, -0.4300000000000068]\n"
     ]
    },
    {
     "data": {
      "text/latex": [
       "$\\displaystyle 0.037037037037037 t^{3} + 3.0 t^{2} + 81.0 t$"
      ],
      "text/plain": [
       "0.037037037037037*t**3 + 3.0*t**2 + 81.0*t"
      ]
     },
     "metadata": {},
     "output_type": "display_data"
    },
    {
     "data": {
      "text/latex": [
       "$\\displaystyle 0.01 t^{3} + 2.98 t^{2} + 81.43 t$"
      ],
      "text/plain": [
       "0.01*t**3 + 2.98*t**2 + 81.43*t"
      ]
     },
     "metadata": {},
     "output_type": "display_data"
    },
    {
     "name": "stdout",
     "output_type": "stream",
     "text": [
      "0.01*t**3 + 2.98*t**2 + 81.43*t\n"
     ]
    },
    {
     "data": {
      "text/latex": [
       "$\\displaystyle 0.027037037037037 t^{3} + 0.02 t^{2} - 0.430000000000007 t$"
      ],
      "text/plain": [
       "0.027037037037037*t**3 + 0.02*t**2 - 0.430000000000007*t"
      ]
     },
     "metadata": {},
     "output_type": "display_data"
    },
    {
     "name": "stdout",
     "output_type": "stream",
     "text": [
      "Violating constants: []\n",
      "Violating constants: []\n",
      "Violating constants: []\n",
      "Violating constants: []\n",
      "Violating constants: []\n",
      "Violating constants: []\n",
      "Violating constants: []\n",
      "Violating constants: []\n",
      "Violating constants: []\n",
      "Violating constants: []\n",
      "Violating constants: []\n",
      "Violating constants: []\n",
      "Violating constants: []\n",
      "Violating constants: []\n",
      "Violating constants: []\n",
      "Violating constants: []\n",
      "Violating constants: []\n",
      "Violating constants: []\n",
      "Violating constants: []\n",
      "Violating constants: []\n",
      "Violating constants: []\n",
      "Violating constants: []\n",
      "Violating constants: [0.019999999999999962, 0.10999999999999943, -0.47999999999998977]\n"
     ]
    },
    {
     "data": {
      "text/latex": [
       "$\\displaystyle 0.48 t^{3} - 18.0 t^{2} + 225.0 t$"
      ],
      "text/plain": [
       "0.48*t**3 - 18.0*t**2 + 225.0*t"
      ]
     },
     "metadata": {},
     "output_type": "display_data"
    },
    {
     "data": {
      "text/latex": [
       "$\\displaystyle 0.46 t^{3} - 18.11 t^{2} + 225.48 t$"
      ],
      "text/plain": [
       "0.46*t**3 - 18.11*t**2 + 225.48*t"
      ]
     },
     "metadata": {},
     "output_type": "display_data"
    },
    {
     "name": "stdout",
     "output_type": "stream",
     "text": [
      "0.46*t**3 - 18.11*t**2 + 225.48*t\n"
     ]
    },
    {
     "data": {
      "text/latex": [
       "$\\displaystyle 0.02 t^{3} + 0.109999999999999 t^{2} - 0.47999999999999 t$"
      ],
      "text/plain": [
       "0.02*t**3 + 0.109999999999999*t**2 - 0.47999999999999*t"
      ]
     },
     "metadata": {},
     "output_type": "display_data"
    },
    {
     "name": "stdout",
     "output_type": "stream",
     "text": [
      "Violating constants: []\n",
      "Violating constants: []\n",
      "Violating constants: []\n",
      "Violating constants: []\n",
      "Violating constants: []\n",
      "Violating constants: []\n",
      "Violating constants: []\n",
      "Violating constants: []\n",
      "Violating constants: []\n",
      "Violating constants: []\n",
      "Violating constants: []\n",
      "Violating constants: []\n",
      "Violating constants: []\n",
      "Violating constants: []\n",
      "Violating constants: []\n",
      "Violating constants: []\n",
      "Violating constants: []\n",
      "Violating constants: []\n",
      "Violating constants: []\n",
      "Violating constants: []\n",
      "Violating constants: []\n",
      "Violating constants: []\n",
      "Violating constants: []\n",
      "Violating constants: [0.013333333333333336, -0.020000000000003126]\n"
     ]
    },
    {
     "data": {
      "text/latex": [
       "$\\displaystyle 0.0533333333333333 t^{3} - 2.8 t^{2} + 49.0 t$"
      ],
      "text/plain": [
       "0.0533333333333333*t**3 - 2.8*t**2 + 49.0*t"
      ]
     },
     "metadata": {},
     "output_type": "display_data"
    },
    {
     "data": {
      "text/latex": [
       "$\\displaystyle 0.04 t^{3} - 2.79 t^{2} + 49.02 t$"
      ],
      "text/plain": [
       "0.04*t**3 - 2.79*t**2 + 49.02*t"
      ]
     },
     "metadata": {},
     "output_type": "display_data"
    },
    {
     "name": "stdout",
     "output_type": "stream",
     "text": [
      "0.04*t**3 - 2.79*t**2 + 49.02*t\n"
     ]
    },
    {
     "data": {
      "text/latex": [
       "$\\displaystyle 0.0133333333333333 t^{3} - 0.00999999999999979 t^{2} - 0.0200000000000031 t$"
      ],
      "text/plain": [
       "0.0133333333333333*t**3 - 0.00999999999999979*t**2 - 0.0200000000000031*t"
      ]
     },
     "metadata": {},
     "output_type": "display_data"
    },
    {
     "name": "stdout",
     "output_type": "stream",
     "text": [
      "Violating constants: []\n",
      "Violating constants: []\n",
      "Violating constants: []\n",
      "Violating constants: []\n",
      "Violating constants: []\n",
      "Violating constants: []\n",
      "Violating constants: []\n",
      "Violating constants: []\n",
      "Violating constants: []\n",
      "Violating constants: []\n",
      "Violating constants: []\n",
      "Violating constants: []\n",
      "Violating constants: []\n",
      "Violating constants: []\n",
      "Violating constants: []\n",
      "Violating constants: []\n",
      "Violating constants: []\n",
      "Violating constants: []\n",
      "Violating constants: []\n",
      "Violating constants: []\n",
      "Violating constants: []\n",
      "Violating constants: []\n",
      "Violating constants: []\n",
      "Violating constants: []\n",
      "Violating constants: []\n",
      "Violating constants: []\n",
      "Violating constants: []\n",
      "Violating constants: []\n",
      "Violating constants: []\n",
      "Violating constants: []\n",
      "Violating constants: []\n",
      "Violating constants: []\n",
      "Violating constants: []\n",
      "Violating constants: []\n",
      "Violating constants: []\n",
      "Violating constants: []\n",
      "Violating constants: []\n",
      "Violating constants: []\n",
      "Violating constants: []\n",
      "Violating constants: []\n",
      "Violating constants: []\n",
      "Violating constants: []\n",
      "Violating constants: []\n",
      "Violating constants: [-3.0891666666666664, 29.28, -69.33999999999997]\n"
     ]
    },
    {
     "data": {
      "text/latex": [
       "$\\displaystyle 7.52083333333333 t^{3} - 71.25 t^{2} + 225.0 t$"
      ],
      "text/plain": [
       "7.52083333333333*t**3 - 71.25*t**2 + 225.0*t"
      ]
     },
     "metadata": {},
     "output_type": "display_data"
    },
    {
     "data": {
      "text/latex": [
       "$\\displaystyle 10.61 t^{3} - 100.53 t^{2} + 294.34 t$"
      ],
      "text/plain": [
       "10.61*t**3 - 100.53*t**2 + 294.34*t"
      ]
     },
     "metadata": {},
     "output_type": "display_data"
    },
    {
     "name": "stdout",
     "output_type": "stream",
     "text": [
      "10.61*t**3 - 100.53*t**2 + 294.34*t\n"
     ]
    },
    {
     "data": {
      "text/latex": [
       "$\\displaystyle - 3.08916666666667 t^{3} + 29.28 t^{2} - 69.34 t$"
      ],
      "text/plain": [
       "-3.08916666666667*t**3 + 29.28*t**2 - 69.34*t"
      ]
     },
     "metadata": {},
     "output_type": "display_data"
    },
    {
     "name": "stdout",
     "output_type": "stream",
     "text": [
      "Violating constants: []\n",
      "Violating constants: []\n",
      "Violating constants: []\n",
      "Violating constants: []\n",
      "Violating constants: []\n",
      "Violating constants: []\n",
      "Violating constants: []\n",
      "Violating constants: []\n",
      "Violating constants: []\n",
      "Violating constants: []\n",
      "Violating constants: []\n",
      "Violating constants: []\n",
      "Violating constants: []\n",
      "Violating constants: []\n",
      "Violating constants: []\n",
      "Violating constants: []\n",
      "Violating constants: []\n",
      "Violating constants: []\n",
      "Violating constants: []\n",
      "Violating constants: []\n",
      "Violating constants: []\n",
      "Violating constants: []\n",
      "Violating constants: []\n",
      "Violating constants: []\n",
      "Violating constants: []\n",
      "Violating constants: []\n",
      "Violating constants: []\n",
      "Violating constants: []\n",
      "Violating constants: []\n",
      "Violating constants: []\n",
      "Violating constants: []\n",
      "Violating constants: []\n",
      "Violating constants: []\n",
      "Violating constants: []\n",
      "Violating constants: []\n",
      "Violating constants: []\n",
      "Violating constants: []\n",
      "Violating constants: []\n",
      "Violating constants: []\n",
      "Violating constants: []\n",
      "Violating constants: []\n",
      "Violating constants: []\n",
      "Violating constants: []\n",
      "Violating constants: []\n",
      "Violating constants: []\n",
      "Violating constants: []\n",
      "Violating constants: []\n",
      "Violating constants: []\n",
      "Violating constants: []\n",
      "Violating constants: []\n",
      "Violating constants: []\n",
      "Violating constants: []\n",
      "Violating constants: []\n",
      "Violating constants: []\n",
      "Violating constants: []\n",
      "Violating constants: []\n",
      "Violating constants: []\n",
      "Violating constants: [0.020000000000000018, 0.1299999999999999]\n"
     ]
    },
    {
     "data": {
      "text/latex": [
       "$\\displaystyle - 0.25 t^{2} - 1.5 t$"
      ],
      "text/plain": [
       "-0.25*t**2 - 1.5*t"
      ]
     },
     "metadata": {},
     "output_type": "display_data"
    },
    {
     "data": {
      "text/latex": [
       "$\\displaystyle - 0.27 t^{2} - 1.63 t$"
      ],
      "text/plain": [
       "-0.27*t**2 - 1.63*t"
      ]
     },
     "metadata": {},
     "output_type": "display_data"
    },
    {
     "name": "stdout",
     "output_type": "stream",
     "text": [
      "-0.27*t**2 - 1.63*t\n"
     ]
    },
    {
     "data": {
      "text/latex": [
       "$\\displaystyle 0.02 t^{2} + 0.13 t$"
      ],
      "text/plain": [
       "0.02*t**2 + 0.13*t"
      ]
     },
     "metadata": {},
     "output_type": "display_data"
    },
    {
     "name": "stdout",
     "output_type": "stream",
     "text": [
      "Violating constants: []\n",
      "Violating constants: []\n",
      "Violating constants: []\n",
      "Violating constants: []\n",
      "Violating constants: []\n",
      "Violating constants: []\n",
      "Violating constants: []\n",
      "Violating constants: []\n",
      "Violating constants: []\n",
      "Violating constants: []\n",
      "Violating constants: []\n",
      "Violating constants: []\n",
      "Violating constants: []\n",
      "Violating constants: []\n",
      "Violating constants: []\n",
      "Violating constants: []\n",
      "Violating constants: []\n",
      "Violating constants: []\n",
      "Violating constants: []\n",
      "Violating constants: []\n",
      "Violating constants: []\n",
      "Violating constants: []\n",
      "Violating constants: []\n",
      "Violating constants: []\n",
      "Violating constants: []\n",
      "Violating constants: []\n",
      "Violating constants: []\n",
      "Violating constants: []\n",
      "Violating constants: []\n",
      "Violating constants: []\n",
      "Violating constants: []\n",
      "Violating constants: []\n",
      "Violating constants: []\n",
      "Violating constants: []\n",
      "Violating constants: []\n",
      "Violating constants: []\n",
      "Violating constants: []\n",
      "Violating constants: [0.030000000000000002, 0.029999999999999805, -0.21999999999999886]\n"
     ]
    },
    {
     "data": {
      "text/latex": [
       "$\\displaystyle 0.05 t^{3} + 2.32 t^{2} + 33.64 t$"
      ],
      "text/plain": [
       "0.05*t**3 + 2.32*t**2 + 33.64*t"
      ]
     },
     "metadata": {},
     "output_type": "display_data"
    },
    {
     "data": {
      "text/latex": [
       "$\\displaystyle 0.02 t^{3} + 2.29 t^{2} + 33.86 t$"
      ],
      "text/plain": [
       "0.02*t**3 + 2.29*t**2 + 33.86*t"
      ]
     },
     "metadata": {},
     "output_type": "display_data"
    },
    {
     "name": "stdout",
     "output_type": "stream",
     "text": [
      "0.02*t**3 + 2.29*t**2 + 33.86*t\n"
     ]
    },
    {
     "data": {
      "text/latex": [
       "$\\displaystyle 0.03 t^{3} + 0.0299999999999998 t^{2} - 0.219999999999999 t$"
      ],
      "text/plain": [
       "0.03*t**3 + 0.0299999999999998*t**2 - 0.219999999999999*t"
      ]
     },
     "metadata": {},
     "output_type": "display_data"
    },
    {
     "name": "stdout",
     "output_type": "stream",
     "text": [
      "Violating constants: []\n",
      "Violating constants: []\n",
      "Violating constants: []\n",
      "Violating constants: []\n",
      "Violating constants: []\n",
      "Violating constants: []\n",
      "Violating constants: []\n",
      "Violating constants: []\n",
      "Violating constants: []\n",
      "Violating constants: []\n",
      "Violating constants: []\n",
      "Violating constants: []\n",
      "Violating constants: []\n",
      "Violating constants: []\n",
      "Violating constants: []\n",
      "Violating constants: []\n",
      "Violating constants: []\n",
      "Violating constants: []\n",
      "Violating constants: []\n",
      "Violating constants: []\n",
      "Violating constants: [-0.99]\n"
     ]
    },
    {
     "data": {
      "text/latex": [
       "$\\displaystyle - 4.25 t^{2} - t$"
      ],
      "text/plain": [
       "-4.25*t**2 - t"
      ]
     },
     "metadata": {},
     "output_type": "display_data"
    },
    {
     "data": {
      "text/latex": [
       "$\\displaystyle - 4.25 t^{2} - 0.01 t$"
      ],
      "text/plain": [
       "-4.25*t**2 - 0.01*t"
      ]
     },
     "metadata": {},
     "output_type": "display_data"
    },
    {
     "name": "stdout",
     "output_type": "stream",
     "text": [
      "-4.25*t**2 - 0.01*t\n"
     ]
    },
    {
     "data": {
      "text/latex": [
       "$\\displaystyle - 0.99 t$"
      ],
      "text/plain": [
       "-0.99*t"
      ]
     },
     "metadata": {},
     "output_type": "display_data"
    },
    {
     "name": "stdout",
     "output_type": "stream",
     "text": [
      "Violating constants: []\n",
      "Violating constants: []\n",
      "Violating constants: []\n",
      "Violating constants: []\n",
      "Violating constants: []\n",
      "Violating constants: []\n",
      "Violating constants: []\n",
      "Violating constants: []\n",
      "Violating constants: []\n",
      "Violating constants: []\n",
      "Violating constants: []\n",
      "Violating constants: []\n",
      "Violating constants: []\n",
      "Violating constants: []\n",
      "Violating constants: []\n",
      "Violating constants: []\n",
      "Violating constants: []\n",
      "Violating constants: []\n",
      "Violating constants: []\n",
      "Violating constants: []\n",
      "Violating constants: []\n",
      "Violating constants: []\n",
      "Violating constants: []\n",
      "Violating constants: []\n",
      "Violating constants: []\n",
      "Violating constants: []\n",
      "Violating constants: []\n",
      "Violating constants: []\n",
      "Violating constants: []\n",
      "Violating constants: []\n",
      "Violating constants: []\n",
      "Violating constants: []\n",
      "Violating constants: []\n",
      "Violating constants: []\n",
      "Violating constants: []\n",
      "Violating constants: []\n",
      "Violating constants: []\n",
      "Violating constants: []\n",
      "Violating constants: []\n",
      "Violating constants: []\n",
      "Violating constants: []\n",
      "Violating constants: []\n",
      "Violating constants: []\n",
      "Violating constants: []\n",
      "Violating constants: []\n",
      "Violating constants: []\n",
      "Violating constants: []\n",
      "Violating constants: []\n",
      "Violating constants: []\n",
      "Violating constants: []\n",
      "Violating constants: []\n",
      "Violating constants: []\n",
      "Violating constants: []\n",
      "Violating constants: []\n",
      "Violating constants: []\n",
      "Violating constants: []\n",
      "Violating constants: []\n",
      "Violating constants: []\n",
      "Violating constants: []\n",
      "Violating constants: []\n",
      "Violating constants: []\n",
      "Violating constants: []\n",
      "Violating constants: []\n",
      "Violating constants: []\n",
      "Violating constants: []\n",
      "Violating constants: [-0.12000000000000455]\n",
      "Violating constants: []\n",
      "Violating constants: []\n",
      "Violating constants: []\n",
      "Violating constants: []\n",
      "Violating constants: []\n",
      "Violating constants: []\n",
      "Violating constants: [0.04333333333333333, 0.03000000000000025, -0.15000000000000568]\n"
     ]
    },
    {
     "data": {
      "text/latex": [
       "$\\displaystyle 0.0833333333333333 t^{3} + 4.5 t^{2} + 81.0 t$"
      ],
      "text/plain": [
       "0.0833333333333333*t**3 + 4.5*t**2 + 81.0*t"
      ]
     },
     "metadata": {},
     "output_type": "display_data"
    },
    {
     "data": {
      "text/latex": [
       "$\\displaystyle 0.04 t^{3} + 4.47 t^{2} + 81.15 t$"
      ],
      "text/plain": [
       "0.04*t**3 + 4.47*t**2 + 81.15*t"
      ]
     },
     "metadata": {},
     "output_type": "display_data"
    },
    {
     "name": "stdout",
     "output_type": "stream",
     "text": [
      "0.04*t**3 + 4.47*t**2 + 81.15*t\n"
     ]
    },
    {
     "data": {
      "text/latex": [
       "$\\displaystyle 0.0433333333333333 t^{3} + 0.0300000000000002 t^{2} - 0.150000000000006 t$"
      ],
      "text/plain": [
       "0.0433333333333333*t**3 + 0.0300000000000002*t**2 - 0.150000000000006*t"
      ]
     },
     "metadata": {},
     "output_type": "display_data"
    },
    {
     "name": "stdout",
     "output_type": "stream",
     "text": [
      "Violating constants: []\n",
      "Violating constants: []\n",
      "Violating constants: []\n",
      "Violating constants: []\n",
      "Violating constants: []\n",
      "Violating constants: [7.11, -21.33, 16.29, 0.14]\n"
     ]
    },
    {
     "data": {
      "text/latex": [
       "$\\displaystyle 7.11 t^{3} - 21.33 t^{2} + 21.33 t$"
      ],
      "text/plain": [
       "7.11*t**3 - 21.33*t**2 + 21.33*t"
      ]
     },
     "metadata": {},
     "output_type": "display_data"
    },
    {
     "data": {
      "text/latex": [
       "$\\displaystyle 5.04 t - 0.14$"
      ],
      "text/plain": [
       "5.04*t - 0.14"
      ]
     },
     "metadata": {},
     "output_type": "display_data"
    },
    {
     "name": "stdout",
     "output_type": "stream",
     "text": [
      "5.04*t - 0.14\n"
     ]
    },
    {
     "data": {
      "text/latex": [
       "$\\displaystyle 7.11 t^{3} - 21.33 t^{2} + 16.29 t + 0.14$"
      ],
      "text/plain": [
       "7.11*t**3 - 21.33*t**2 + 16.29*t + 0.14"
      ]
     },
     "metadata": {},
     "output_type": "display_data"
    },
    {
     "name": "stdout",
     "output_type": "stream",
     "text": [
      "Violating constants: []\n",
      "Violating constants: []\n",
      "Violating constants: []\n",
      "Violating constants: []\n",
      "Violating constants: []\n",
      "Violating constants: []\n",
      "Violating constants: []\n",
      "Violating constants: []\n",
      "Violating constants: []\n",
      "Violating constants: []\n",
      "Violating constants: []\n",
      "Violating constants: []\n",
      "Violating constants: []\n",
      "Violating constants: []\n",
      "Violating constants: []\n",
      "Violating constants: []\n",
      "Violating constants: []\n",
      "Violating constants: []\n",
      "Violating constants: []\n",
      "Violating constants: []\n",
      "Violating constants: []\n",
      "Violating constants: []\n",
      "Violating constants: []\n",
      "Violating constants: []\n",
      "Violating constants: []\n",
      "Violating constants: [0.04, -0.03000000000000025, -0.3100000000000023]\n"
     ]
    },
    {
     "data": {
      "text/latex": [
       "$\\displaystyle 0.04 t^{3} + 2.11 t^{2} + 40.11 t$"
      ],
      "text/plain": [
       "0.04*t**3 + 2.11*t**2 + 40.11*t"
      ]
     },
     "metadata": {},
     "output_type": "display_data"
    },
    {
     "data": {
      "text/latex": [
       "$\\displaystyle 2.14 t^{2} + 40.42 t$"
      ],
      "text/plain": [
       "2.14*t**2 + 40.42*t"
      ]
     },
     "metadata": {},
     "output_type": "display_data"
    },
    {
     "name": "stdout",
     "output_type": "stream",
     "text": [
      "2.14*t**2 + 40.42*t\n"
     ]
    },
    {
     "data": {
      "text/latex": [
       "$\\displaystyle 0.04 t^{3} - 0.0300000000000002 t^{2} - 0.310000000000002 t$"
      ],
      "text/plain": [
       "0.04*t**3 - 0.0300000000000002*t**2 - 0.310000000000002*t"
      ]
     },
     "metadata": {},
     "output_type": "display_data"
    },
    {
     "name": "stdout",
     "output_type": "stream",
     "text": [
      "Violating constants: []\n",
      "Violating constants: []\n",
      "Violating constants: []\n",
      "Violating constants: []\n",
      "Violating constants: []\n",
      "Violating constants: []\n",
      "Violating constants: []\n",
      "Violating constants: []\n",
      "Violating constants: []\n",
      "Violating constants: []\n",
      "Violating constants: []\n",
      "Violating constants: [-0.015000000000000124]\n",
      "Violating constants: []\n",
      "Violating constants: []\n",
      "Violating constants: []\n",
      "Violating constants: []\n",
      "Violating constants: []\n",
      "Violating constants: []\n",
      "Violating constants: []\n",
      "Violating constants: []\n",
      "Violating constants: []\n",
      "Violating constants: [0.015000000000000124]\n",
      "Violating constants: []\n",
      "Violating constants: []\n",
      "Violating constants: []\n",
      "Violating constants: []\n",
      "Violating constants: []\n",
      "Violating constants: []\n",
      "Violating constants: []\n",
      "Violating constants: []\n",
      "Violating constants: []\n",
      "Violating constants: []\n",
      "Violating constants: []\n",
      "Violating constants: []\n",
      "Violating constants: []\n",
      "Violating constants: []\n",
      "Violating constants: []\n",
      "Violating constants: []\n",
      "Violating constants: []\n",
      "Violating constants: []\n",
      "Violating constants: []\n",
      "Violating constants: []\n",
      "Violating constants: []\n",
      "Violating constants: []\n",
      "Violating constants: []\n",
      "Violating constants: []\n",
      "Violating constants: []\n",
      "Violating constants: []\n",
      "Violating constants: [-1.9, -7.6]\n"
     ]
    },
    {
     "data": {
      "text/latex": [
       "$\\displaystyle - 1.9 t^{2} - 7.6 t$"
      ],
      "text/plain": [
       "-1.9*t**2 - 7.6*t"
      ]
     },
     "metadata": {},
     "output_type": "display_data"
    },
    {
     "data": {
      "text/latex": [
       "$\\displaystyle 0$"
      ],
      "text/plain": [
       "0"
      ]
     },
     "metadata": {},
     "output_type": "display_data"
    },
    {
     "name": "stdout",
     "output_type": "stream",
     "text": [
      "0\n"
     ]
    },
    {
     "data": {
      "text/latex": [
       "$\\displaystyle - 1.9 t^{2} - 7.6 t$"
      ],
      "text/plain": [
       "-1.9*t**2 - 7.6*t"
      ]
     },
     "metadata": {},
     "output_type": "display_data"
    },
    {
     "name": "stdout",
     "output_type": "stream",
     "text": [
      "Violating constants: []\n",
      "Violating constants: []\n",
      "Violating constants: []\n",
      "Violating constants: []\n",
      "Violating constants: []\n",
      "Violating constants: []\n",
      "Violating constants: []\n",
      "Violating constants: []\n",
      "Violating constants: []\n",
      "Violating constants: []\n",
      "Violating constants: []\n",
      "Violating constants: []\n",
      "Violating constants: []\n",
      "Violating constants: []\n",
      "Violating constants: []\n",
      "Violating constants: []\n",
      "Violating constants: []\n",
      "Violating constants: []\n",
      "Violating constants: [6.75, 32.62, 39.47]\n"
     ]
    },
    {
     "data": {
      "text/latex": [
       "$\\displaystyle 6.75 t^{3} + 32.62 t^{2} + 52.56 t$"
      ],
      "text/plain": [
       "6.75*t**3 + 32.62*t**2 + 52.56*t"
      ]
     },
     "metadata": {},
     "output_type": "display_data"
    },
    {
     "data": {
      "text/latex": [
       "$\\displaystyle 13.09 t$"
      ],
      "text/plain": [
       "13.09*t"
      ]
     },
     "metadata": {},
     "output_type": "display_data"
    },
    {
     "name": "stdout",
     "output_type": "stream",
     "text": [
      "13.09*t\n"
     ]
    },
    {
     "data": {
      "text/latex": [
       "$\\displaystyle 6.75 t^{3} + 32.62 t^{2} + 39.47 t$"
      ],
      "text/plain": [
       "6.75*t**3 + 32.62*t**2 + 39.47*t"
      ]
     },
     "metadata": {},
     "output_type": "display_data"
    },
    {
     "name": "stdout",
     "output_type": "stream",
     "text": [
      "Violating constants: []\n",
      "Violating constants: []\n",
      "Violating constants: []\n",
      "Violating constants: []\n",
      "Violating constants: []\n",
      "Violating constants: [-3.29]\n"
     ]
    },
    {
     "data": {
      "text/latex": [
       "$\\displaystyle - 3.29 t^{2} + 4.14 t$"
      ],
      "text/plain": [
       "-3.29*t**2 + 4.14*t"
      ]
     },
     "metadata": {},
     "output_type": "display_data"
    },
    {
     "data": {
      "text/latex": [
       "$\\displaystyle 4.13 t$"
      ],
      "text/plain": [
       "4.13*t"
      ]
     },
     "metadata": {},
     "output_type": "display_data"
    },
    {
     "name": "stdout",
     "output_type": "stream",
     "text": [
      "4.13*t\n"
     ]
    },
    {
     "data": {
      "text/latex": [
       "$\\displaystyle - 3.29 t^{2} + 0.00999999999999979 t$"
      ],
      "text/plain": [
       "-3.29*t**2 + 0.00999999999999979*t"
      ]
     },
     "metadata": {},
     "output_type": "display_data"
    },
    {
     "name": "stdout",
     "output_type": "stream",
     "text": [
      "Violating constants: []\n",
      "Violating constants: []\n",
      "Violating constants: []\n",
      "Violating constants: []\n",
      "Violating constants: []\n",
      "Violating constants: []\n",
      "Violating constants: []\n",
      "Violating constants: []\n",
      "Violating constants: []\n",
      "Violating constants: []\n",
      "Violating constants: [-1.6, -6.4]\n"
     ]
    },
    {
     "data": {
      "text/latex": [
       "$\\displaystyle - 1.6 t^{2} - 6.4 t$"
      ],
      "text/plain": [
       "-1.6*t**2 - 6.4*t"
      ]
     },
     "metadata": {},
     "output_type": "display_data"
    },
    {
     "data": {
      "text/latex": [
       "$\\displaystyle 0$"
      ],
      "text/plain": [
       "0"
      ]
     },
     "metadata": {},
     "output_type": "display_data"
    },
    {
     "name": "stdout",
     "output_type": "stream",
     "text": [
      "0\n"
     ]
    },
    {
     "data": {
      "text/latex": [
       "$\\displaystyle - 1.6 t^{2} - 6.4 t$"
      ],
      "text/plain": [
       "-1.6*t**2 - 6.4*t"
      ]
     },
     "metadata": {},
     "output_type": "display_data"
    },
    {
     "name": "stdout",
     "output_type": "stream",
     "text": [
      "Violating constants: []\n",
      "Violating constants: []\n",
      "Violating constants: []\n",
      "Violating constants: []\n",
      "Violating constants: []\n",
      "Violating constants: []\n",
      "Violating constants: []\n",
      "Violating constants: []\n",
      "Violating constants: []\n",
      "Violating constants: []\n",
      "Violating constants: []\n",
      "Violating constants: []\n",
      "Violating constants: []\n",
      "Violating constants: []\n",
      "Violating constants: []\n",
      "Violating constants: []\n",
      "Violating constants: []\n",
      "Violating constants: []\n",
      "Violating constants: []\n",
      "Violating constants: []\n",
      "Violating constants: []\n",
      "Violating constants: [0.027210884353741496, -0.240000000000002]\n"
     ]
    },
    {
     "data": {
      "text/latex": [
       "$\\displaystyle 0.0272108843537415 t^{3} - 1.71428571428571 t^{2} + 36.0 t$"
      ],
      "text/plain": [
       "0.0272108843537415*t**3 - 1.71428571428571*t**2 + 36.0*t"
      ]
     },
     "metadata": {},
     "output_type": "display_data"
    },
    {
     "data": {
      "text/latex": [
       "$\\displaystyle - 1.71 t^{2} + 36.24 t$"
      ],
      "text/plain": [
       "-1.71*t**2 + 36.24*t"
      ]
     },
     "metadata": {},
     "output_type": "display_data"
    },
    {
     "name": "stdout",
     "output_type": "stream",
     "text": [
      "-1.71*t**2 + 36.24*t\n"
     ]
    },
    {
     "data": {
      "text/latex": [
       "$\\displaystyle 0.0272108843537415 t^{3} - 0.00428571428571423 t^{2} - 0.240000000000002 t$"
      ],
      "text/plain": [
       "0.0272108843537415*t**3 - 0.00428571428571423*t**2 - 0.240000000000002*t"
      ]
     },
     "metadata": {},
     "output_type": "display_data"
    },
    {
     "name": "stdout",
     "output_type": "stream",
     "text": [
      "Violating constants: []\n",
      "Violating constants: []\n",
      "Violating constants: []\n",
      "Violating constants: []\n",
      "Violating constants: []\n",
      "Violating constants: []\n",
      "Violating constants: []\n",
      "Violating constants: []\n",
      "Violating constants: []\n",
      "Violating constants: []\n",
      "Violating constants: []\n",
      "Violating constants: []\n",
      "Violating constants: []\n",
      "Violating constants: []\n",
      "Violating constants: []\n",
      "Violating constants: []\n",
      "Violating constants: []\n",
      "Violating constants: []\n",
      "Violating constants: []\n",
      "Violating constants: []\n",
      "Violating constants: []\n",
      "Violating constants: []\n",
      "Violating constants: []\n",
      "Violating constants: []\n",
      "Violating constants: []\n",
      "Violating constants: []\n",
      "Violating constants: []\n",
      "Violating constants: []\n",
      "Violating constants: []\n",
      "Violating constants: []\n",
      "Violating constants: []\n",
      "Violating constants: []\n",
      "Violating constants: []\n",
      "Violating constants: []\n",
      "Violating constants: []\n",
      "Violating constants: []\n",
      "Violating constants: []\n",
      "Violating constants: []\n",
      "Violating constants: []\n",
      "Violating constants: []\n",
      "Violating constants: []\n",
      "Violating constants: []\n",
      "Violating constants: []\n",
      "Violating constants: []\n",
      "Violating constants: []\n",
      "Violating constants: []\n",
      "Violating constants: []\n",
      "Violating constants: []\n",
      "Violating constants: []\n",
      "Violating constants: []\n",
      "Violating constants: []\n",
      "Violating constants: []\n",
      "Violating constants: []\n",
      "Violating constants: []\n",
      "Violating constants: []\n",
      "Violating constants: []\n",
      "Violating constants: []\n",
      "Violating constants: []\n",
      "Violating constants: []\n",
      "Violating constants: []\n",
      "Violating constants: []\n",
      "Violating constants: []\n",
      "Violating constants: []\n",
      "Violating constants: []\n",
      "Violating constants: []\n",
      "Violating constants: []\n",
      "Violating constants: []\n",
      "Violating constants: [-0.050000000000000044]\n"
     ]
    },
    {
     "data": {
      "text/latex": [
       "$\\displaystyle 0.82 t^{3} + 1.35 t^{2} + 0.73 t$"
      ],
      "text/plain": [
       "0.82*t**3 + 1.35*t**2 + 0.73*t"
      ]
     },
     "metadata": {},
     "output_type": "display_data"
    },
    {
     "data": {
      "text/latex": [
       "$\\displaystyle 0.82 t^{3} + 1.35 t^{2} + 0.78 t$"
      ],
      "text/plain": [
       "0.82*t**3 + 1.35*t**2 + 0.78*t"
      ]
     },
     "metadata": {},
     "output_type": "display_data"
    },
    {
     "name": "stdout",
     "output_type": "stream",
     "text": [
      "0.82*t**3 + 1.35*t**2 + 0.78*t\n"
     ]
    },
    {
     "data": {
      "text/latex": [
       "$\\displaystyle - 0.05 t$"
      ],
      "text/plain": [
       "-0.05*t"
      ]
     },
     "metadata": {},
     "output_type": "display_data"
    },
    {
     "name": "stdout",
     "output_type": "stream",
     "text": [
      "Violating constants: []\n",
      "Violating constants: []\n",
      "Violating constants: []\n",
      "Violating constants: []\n",
      "Violating constants: []\n",
      "Violating constants: []\n",
      "Violating constants: []\n",
      "Violating constants: []\n",
      "Violating constants: []\n",
      "Violating constants: [-0.042857142857142705, -0.10999999999999943]\n"
     ]
    },
    {
     "data": {
      "text/latex": [
       "$\\displaystyle 0.00680272108843537 t^{3} - 1.14285714285714 t^{2} + 64.0 t$"
      ],
      "text/plain": [
       "0.00680272108843537*t**3 - 1.14285714285714*t**2 + 64.0*t"
      ]
     },
     "metadata": {},
     "output_type": "display_data"
    },
    {
     "data": {
      "text/latex": [
       "$\\displaystyle - 1.1 t^{2} + 64.11 t$"
      ],
      "text/plain": [
       "-1.1*t**2 + 64.11*t"
      ]
     },
     "metadata": {},
     "output_type": "display_data"
    },
    {
     "name": "stdout",
     "output_type": "stream",
     "text": [
      "-1.1*t**2 + 64.11*t\n"
     ]
    },
    {
     "data": {
      "text/latex": [
       "$\\displaystyle 0.00680272108843537 t^{3} - 0.0428571428571427 t^{2} - 0.109999999999999 t$"
      ],
      "text/plain": [
       "0.00680272108843537*t**3 - 0.0428571428571427*t**2 - 0.109999999999999*t"
      ]
     },
     "metadata": {},
     "output_type": "display_data"
    },
    {
     "name": "stdout",
     "output_type": "stream",
     "text": [
      "Violating constants: []\n",
      "Violating constants: []\n",
      "Violating constants: []\n",
      "Violating constants: []\n",
      "Violating constants: []\n",
      "Violating constants: []\n",
      "Violating constants: []\n",
      "Violating constants: []\n",
      "Violating constants: []\n",
      "Violating constants: []\n",
      "Violating constants: []\n",
      "Violating constants: []\n",
      "Violating constants: []\n",
      "Violating constants: []\n",
      "Violating constants: []\n",
      "Violating constants: []\n",
      "Violating constants: []\n",
      "Violating constants: []\n",
      "Violating constants: []\n",
      "Violating constants: []\n",
      "Violating constants: []\n",
      "Violating constants: []\n",
      "Violating constants: []\n",
      "Violating constants: []\n",
      "Violating constants: []\n",
      "Violating constants: []\n",
      "Violating constants: []\n",
      "Violating constants: []\n",
      "Violating constants: []\n",
      "Violating constants: []\n",
      "Violating constants: []\n",
      "Violating constants: []\n",
      "Violating constants: []\n",
      "Violating constants: []\n",
      "Violating constants: [0.4]\n"
     ]
    },
    {
     "data": {
      "text/latex": [
       "$\\displaystyle 12.0 t^{3} + 6.0 t^{2} + t$"
      ],
      "text/plain": [
       "12.0*t**3 + 6.0*t**2 + t"
      ]
     },
     "metadata": {},
     "output_type": "display_data"
    },
    {
     "data": {
      "text/latex": [
       "$\\displaystyle 12.0 t^{3} + 6.0 t^{2} + 0.6 t$"
      ],
      "text/plain": [
       "12.0*t**3 + 6.0*t**2 + 0.6*t"
      ]
     },
     "metadata": {},
     "output_type": "display_data"
    },
    {
     "name": "stdout",
     "output_type": "stream",
     "text": [
      "12.0*t**3 + 6.0*t**2 + 0.6*t\n"
     ]
    },
    {
     "data": {
      "text/latex": [
       "$\\displaystyle 0.4 t$"
      ],
      "text/plain": [
       "0.4*t"
      ]
     },
     "metadata": {},
     "output_type": "display_data"
    },
    {
     "name": "stdout",
     "output_type": "stream",
     "text": [
      "Violating constants: []\n",
      "Violating constants: [0.02]\n"
     ]
    },
    {
     "data": {
      "text/latex": [
       "$\\displaystyle - 3.0 t^{2} - 7.71 t$"
      ],
      "text/plain": [
       "-3.0*t**2 - 7.71*t"
      ]
     },
     "metadata": {},
     "output_type": "display_data"
    },
    {
     "data": {
      "text/latex": [
       "$\\displaystyle - 3.0 t^{2} - 7.72 t - 0.02$"
      ],
      "text/plain": [
       "-3.0*t**2 - 7.72*t - 0.02"
      ]
     },
     "metadata": {},
     "output_type": "display_data"
    },
    {
     "name": "stdout",
     "output_type": "stream",
     "text": [
      "-3.0*t**2 - 7.72*t - 0.02\n"
     ]
    },
    {
     "data": {
      "text/latex": [
       "$\\displaystyle 0.00999999999999979 t + 0.02$"
      ],
      "text/plain": [
       "0.00999999999999979*t + 0.02"
      ]
     },
     "metadata": {},
     "output_type": "display_data"
    },
    {
     "name": "stdout",
     "output_type": "stream",
     "text": [
      "Violating constants: []\n",
      "Violating constants: []\n",
      "Violating constants: []\n",
      "Violating constants: []\n",
      "Violating constants: []\n",
      "Violating constants: []\n",
      "Violating constants: []\n",
      "Violating constants: []\n",
      "Violating constants: []\n",
      "Violating constants: []\n",
      "Violating constants: []\n",
      "Violating constants: []\n",
      "Violating constants: []\n",
      "Violating constants: []\n",
      "Violating constants: []\n",
      "Violating constants: []\n",
      "Violating constants: []\n",
      "Violating constants: []\n",
      "Violating constants: []\n",
      "Violating constants: []\n",
      "Violating constants: []\n",
      "Violating constants: []\n",
      "Violating constants: []\n",
      "Violating constants: []\n",
      "Violating constants: []\n",
      "Violating constants: []\n",
      "Violating constants: []\n",
      "Violating constants: []\n",
      "Violating constants: []\n",
      "Violating constants: []\n",
      "Violating constants: []\n",
      "Violating constants: []\n",
      "Violating constants: []\n",
      "Violating constants: []\n",
      "Violating constants: []\n",
      "Violating constants: []\n",
      "Violating constants: []\n",
      "Violating constants: []\n",
      "Violating constants: []\n",
      "Violating constants: [13.5, -9.0, 1.5]\n"
     ]
    },
    {
     "data": {
      "text/latex": [
       "$\\displaystyle 13.5 t^{3} - 9.0 t^{2} + 2.0 t$"
      ],
      "text/plain": [
       "13.5*t**3 - 9.0*t**2 + 2.0*t"
      ]
     },
     "metadata": {},
     "output_type": "display_data"
    },
    {
     "data": {
      "text/latex": [
       "$\\displaystyle 0.5 t$"
      ],
      "text/plain": [
       "0.5*t"
      ]
     },
     "metadata": {},
     "output_type": "display_data"
    },
    {
     "name": "stdout",
     "output_type": "stream",
     "text": [
      "0.5*t\n"
     ]
    },
    {
     "data": {
      "text/latex": [
       "$\\displaystyle 13.5 t^{3} - 9.0 t^{2} + 1.5 t$"
      ],
      "text/plain": [
       "13.5*t**3 - 9.0*t**2 + 1.5*t"
      ]
     },
     "metadata": {},
     "output_type": "display_data"
    },
    {
     "name": "stdout",
     "output_type": "stream",
     "text": [
      "Violating constants: []\n",
      "Violating constants: []\n",
      "Violating constants: []\n",
      "Violating constants: []\n",
      "Violating constants: []\n",
      "Violating constants: []\n",
      "Violating constants: []\n",
      "Violating constants: []\n",
      "Violating constants: []\n",
      "Violating constants: []\n",
      "Violating constants: []\n",
      "Violating constants: []\n",
      "Violating constants: []\n",
      "Violating constants: []\n",
      "Violating constants: []\n",
      "Violating constants: []\n",
      "Violating constants: []\n",
      "Violating constants: []\n",
      "Violating constants: []\n",
      "Violating constants: []\n",
      "Violating constants: []\n",
      "Violating constants: []\n",
      "Violating constants: []\n",
      "Violating constants: []\n",
      "Violating constants: []\n",
      "Violating constants: []\n",
      "Violating constants: []\n",
      "Violating constants: []\n",
      "Violating constants: []\n",
      "Violating constants: []\n",
      "Violating constants: []\n",
      "Violating constants: []\n",
      "Violating constants: []\n",
      "Violating constants: []\n",
      "Violating constants: []\n",
      "Violating constants: []\n",
      "Violating constants: []\n",
      "Violating constants: []\n",
      "Violating constants: []\n",
      "Violating constants: []\n",
      "Violating constants: []\n",
      "Violating constants: []\n",
      "Violating constants: []\n",
      "Violating constants: []\n",
      "Cannot filter non-polynomials on -2.5*t**2 + 0.14*t**2/(2.65*t*arctan(27.28*t + 0.04)**2 - 58.47*t*arctan(27.28*t + 0.04) - 531.59*t + 0.04*arctan(27.28*t + 0.04)**2 - 0.79*arctan(27.28*t + 0.04) - 7.19) - 1.5*t + 0.08*t/(2.65*t*arctan(27.28*t + 0.04)**2 - 58.47*t*arctan(27.28*t + 0.04) - 531.59*t + 0.04*arctan(27.28*t + 0.04)**2 - 0.79*arctan(27.28*t + 0.04) - 7.19)\n",
      "Cannot get_coefficients_and_exponents\n",
      "-0.14*t**2/(2.65*t*arctan(27.28*t + 0.04)**2 - 58.47*t*arctan(27.28*t + 0.04) - 531.59*t + 0.04*arctan(27.28*t + 0.04)**2 - 0.79*arctan(27.28*t + 0.04) - 7.19) - 0.08*t/(2.65*t*arctan(27.28*t + 0.04)**2 - 58.47*t*arctan(27.28*t + 0.04) - 531.59*t + 0.04*arctan(27.28*t + 0.04)**2 - 0.79*arctan(27.28*t + 0.04) - 7.19)\n",
      "Violating constants: [2, -58.4700000000000, 27.2800000000000, -7.19000000000000, 0.0400000000000000, -0.0800000000000000, -531.590000000000, 2.65000000000000, -0.140000000000000, -0.790000000000000, -1]\n"
     ]
    },
    {
     "data": {
      "text/latex": [
       "$\\displaystyle - 2.5 t^{2} - 1.5 t$"
      ],
      "text/plain": [
       "-2.5*t**2 - 1.5*t"
      ]
     },
     "metadata": {},
     "output_type": "display_data"
    },
    {
     "data": {
      "text/latex": [
       "$\\displaystyle - 2.5 t^{2} + \\frac{0.14 t^{2}}{2.65 t \\arctan^{2}{\\left(27.28 t + 0.04 \\right)} - 58.47 t \\arctan{\\left(27.28 t + 0.04 \\right)} - 531.59 t + 0.04 \\arctan^{2}{\\left(27.28 t + 0.04 \\right)} - 0.79 \\arctan{\\left(27.28 t + 0.04 \\right)} - 7.19} - 1.5 t + \\frac{0.08 t}{2.65 t \\arctan^{2}{\\left(27.28 t + 0.04 \\right)} - 58.47 t \\arctan{\\left(27.28 t + 0.04 \\right)} - 531.59 t + 0.04 \\arctan^{2}{\\left(27.28 t + 0.04 \\right)} - 0.79 \\arctan{\\left(27.28 t + 0.04 \\right)} - 7.19}$"
      ],
      "text/plain": [
       "-2.5*t**2 + 0.14*t**2/(2.65*t*arctan(27.28*t + 0.04)**2 - 58.47*t*arctan(27.28*t + 0.04) - 531.59*t + 0.04*arctan(27.28*t + 0.04)**2 - 0.79*arctan(27.28*t + 0.04) - 7.19) - 1.5*t + 0.08*t/(2.65*t*arctan(27.28*t + 0.04)**2 - 58.47*t*arctan(27.28*t + 0.04) - 531.59*t + 0.04*arctan(27.28*t + 0.04)**2 - 0.79*arctan(27.28*t + 0.04) - 7.19)"
      ]
     },
     "metadata": {},
     "output_type": "display_data"
    },
    {
     "name": "stdout",
     "output_type": "stream",
     "text": [
      "-2.5*t**2 + 0.14*t**2/(2.65*t*arctan(27.28*t + 0.04)**2 - 58.47*t*arctan(27.28*t + 0.04) - 531.59*t + 0.04*arctan(27.28*t + 0.04)**2 - 0.79*arctan(27.28*t + 0.04) - 7.19) - 1.5*t + 0.08*t/(2.65*t*arctan(27.28*t + 0.04)**2 - 58.47*t*arctan(27.28*t + 0.04) - 531.59*t + 0.04*arctan(27.28*t + 0.04)**2 - 0.79*arctan(27.28*t + 0.04) - 7.19)\n"
     ]
    },
    {
     "data": {
      "text/latex": [
       "$\\displaystyle - \\frac{0.14 t^{2}}{2.65 t \\arctan^{2}{\\left(27.28 t + 0.04 \\right)} - 58.47 t \\arctan{\\left(27.28 t + 0.04 \\right)} - 531.59 t + 0.04 \\arctan^{2}{\\left(27.28 t + 0.04 \\right)} - 0.79 \\arctan{\\left(27.28 t + 0.04 \\right)} - 7.19} - \\frac{0.08 t}{2.65 t \\arctan^{2}{\\left(27.28 t + 0.04 \\right)} - 58.47 t \\arctan{\\left(27.28 t + 0.04 \\right)} - 531.59 t + 0.04 \\arctan^{2}{\\left(27.28 t + 0.04 \\right)} - 0.79 \\arctan{\\left(27.28 t + 0.04 \\right)} - 7.19}$"
      ],
      "text/plain": [
       "-0.14*t**2/(2.65*t*arctan(27.28*t + 0.04)**2 - 58.47*t*arctan(27.28*t + 0.04) - 531.59*t + 0.04*arctan(27.28*t + 0.04)**2 - 0.79*arctan(27.28*t + 0.04) - 7.19) - 0.08*t/(2.65*t*arctan(27.28*t + 0.04)**2 - 58.47*t*arctan(27.28*t + 0.04) - 531.59*t + 0.04*arctan(27.28*t + 0.04)**2 - 0.79*arctan(27.28*t + 0.04) - 7.19)"
      ]
     },
     "metadata": {},
     "output_type": "display_data"
    },
    {
     "name": "stdout",
     "output_type": "stream",
     "text": [
      "Violating constants: []\n",
      "Violating constants: []\n",
      "Violating constants: []\n",
      "Violating constants: []\n",
      "Violating constants: []\n",
      "Violating constants: []\n",
      "Violating constants: []\n",
      "Violating constants: []\n",
      "Violating constants: [-0.049999999999998934]\n",
      "Violating constants: [18.78, 112.67, 226.42000000000002, -0.73]\n"
     ]
    },
    {
     "data": {
      "text/latex": [
       "$\\displaystyle 18.78 t^{3} + 112.67 t^{2} + 225.33 t$"
      ],
      "text/plain": [
       "18.78*t**3 + 112.67*t**2 + 225.33*t"
      ]
     },
     "metadata": {},
     "output_type": "display_data"
    },
    {
     "data": {
      "text/latex": [
       "$\\displaystyle 0.73 - 1.09 t$"
      ],
      "text/plain": [
       "0.73 - 1.09*t"
      ]
     },
     "metadata": {},
     "output_type": "display_data"
    },
    {
     "name": "stdout",
     "output_type": "stream",
     "text": [
      "0.73 - 1.09*t\n"
     ]
    },
    {
     "data": {
      "text/latex": [
       "$\\displaystyle 18.78 t^{3} + 112.67 t^{2} + 226.42 t - 0.73$"
      ],
      "text/plain": [
       "18.78*t**3 + 112.67*t**2 + 226.42*t - 0.73"
      ]
     },
     "metadata": {},
     "output_type": "display_data"
    },
    {
     "name": "stdout",
     "output_type": "stream",
     "text": [
      "Violating constants: []\n",
      "Violating constants: []\n",
      "Violating constants: []\n",
      "Violating constants: []\n",
      "Violating constants: []\n",
      "Violating constants: []\n",
      "Violating constants: []\n",
      "Violating constants: []\n",
      "Violating constants: []\n",
      "Violating constants: [-0.027142857142857135, 0.3699999999999992]\n"
     ]
    },
    {
     "data": {
      "text/latex": [
       "$\\displaystyle 0.0272108843537415 t^{3} - 0.857142857142857 t^{2} + 9.0 t$"
      ],
      "text/plain": [
       "0.0272108843537415*t**3 - 0.857142857142857*t**2 + 9.0*t"
      ]
     },
     "metadata": {},
     "output_type": "display_data"
    },
    {
     "data": {
      "text/latex": [
       "$\\displaystyle 0.03 t^{3} - 0.83 t^{2} + 8.63 t$"
      ],
      "text/plain": [
       "0.03*t**3 - 0.83*t**2 + 8.63*t"
      ]
     },
     "metadata": {},
     "output_type": "display_data"
    },
    {
     "name": "stdout",
     "output_type": "stream",
     "text": [
      "0.03*t**3 - 0.83*t**2 + 8.63*t\n"
     ]
    },
    {
     "data": {
      "text/latex": [
       "$\\displaystyle - 0.0027891156462585 t^{3} - 0.0271428571428571 t^{2} + 0.369999999999999 t$"
      ],
      "text/plain": [
       "-0.0027891156462585*t**3 - 0.0271428571428571*t**2 + 0.369999999999999*t"
      ]
     },
     "metadata": {},
     "output_type": "display_data"
    },
    {
     "name": "stdout",
     "output_type": "stream",
     "text": [
      "Violating constants: []\n",
      "Violating constants: []\n",
      "Violating constants: []\n",
      "Violating constants: []\n",
      "Violating constants: []\n",
      "Violating constants: []\n",
      "Violating constants: [25.52, 19.69, 3.7899999999999996]\n"
     ]
    },
    {
     "data": {
      "text/latex": [
       "$\\displaystyle 25.52 t^{3} + 19.69 t^{2} + 5.06 t$"
      ],
      "text/plain": [
       "25.52*t**3 + 19.69*t**2 + 5.06*t"
      ]
     },
     "metadata": {},
     "output_type": "display_data"
    },
    {
     "data": {
      "text/latex": [
       "$\\displaystyle 1.27 t$"
      ],
      "text/plain": [
       "1.27*t"
      ]
     },
     "metadata": {},
     "output_type": "display_data"
    },
    {
     "name": "stdout",
     "output_type": "stream",
     "text": [
      "1.27*t\n"
     ]
    },
    {
     "data": {
      "text/latex": [
       "$\\displaystyle 25.52 t^{3} + 19.69 t^{2} + 3.79 t$"
      ],
      "text/plain": [
       "25.52*t**3 + 19.69*t**2 + 3.79*t"
      ]
     },
     "metadata": {},
     "output_type": "display_data"
    },
    {
     "name": "stdout",
     "output_type": "stream",
     "text": [
      "Violating constants: []\n",
      "Violating constants: []\n",
      "Violating constants: []\n",
      "Violating constants: []\n",
      "Violating constants: []\n",
      "Violating constants: []\n",
      "Violating constants: []\n",
      "Violating constants: []\n",
      "Violating constants: []\n",
      "Violating constants: []\n",
      "Violating constants: []\n",
      "Violating constants: []\n",
      "Violating constants: []\n",
      "Violating constants: []\n",
      "Violating constants: []\n",
      "Violating constants: []\n",
      "Violating constants: []\n",
      "Violating constants: []\n",
      "Violating constants: []\n",
      "Violating constants: []\n",
      "Violating constants: []\n",
      "Violating constants: []\n",
      "Violating constants: []\n",
      "Violating constants: []\n",
      "Violating constants: []\n",
      "Violating constants: []\n",
      "Violating constants: []\n",
      "Violating constants: []\n",
      "Violating constants: []\n",
      "Violating constants: []\n",
      "Violating constants: []\n",
      "Violating constants: []\n",
      "Violating constants: []\n",
      "Violating constants: []\n",
      "Violating constants: []\n",
      "Violating constants: []\n",
      "Violating constants: []\n",
      "Violating constants: []\n",
      "Violating constants: []\n",
      "Violating constants: []\n",
      "Violating constants: []\n",
      "Violating constants: []\n",
      "Violating constants: []\n",
      "Violating constants: []\n",
      "Violating constants: []\n",
      "Violating constants: []\n",
      "Violating constants: []\n",
      "Violating constants: []\n",
      "Violating constants: []\n",
      "Violating constants: []\n",
      "Violating constants: []\n",
      "Violating constants: []\n",
      "Violating constants: []\n",
      "Violating constants: []\n",
      "Violating constants: []\n",
      "Violating constants: []\n",
      "Violating constants: []\n",
      "Violating constants: []\n",
      "Violating constants: []\n",
      "Violating constants: []\n",
      "Violating constants: []\n",
      "Violating constants: []\n",
      "Violating constants: []\n",
      "Violating constants: []\n",
      "Violating constants: []\n",
      "Violating constants: []\n",
      "Violating constants: []\n",
      "Violating constants: []\n",
      "Violating constants: []\n",
      "Violating constants: []\n",
      "Violating constants: []\n",
      "Violating constants: []\n",
      "Violating constants: []\n",
      "Violating constants: []\n",
      "Violating constants: []\n",
      "Violating constants: []\n",
      "Violating constants: []\n",
      "Violating constants: []\n",
      "Violating constants: [0.25]\n"
     ]
    },
    {
     "data": {
      "text/latex": [
       "$\\displaystyle 1.12 t^{2} - 4.75 t$"
      ],
      "text/plain": [
       "1.12*t**2 - 4.75*t"
      ]
     },
     "metadata": {},
     "output_type": "display_data"
    },
    {
     "data": {
      "text/latex": [
       "$\\displaystyle 1.13 t^{2} - 5.0 t$"
      ],
      "text/plain": [
       "1.13*t**2 - 5.0*t"
      ]
     },
     "metadata": {},
     "output_type": "display_data"
    },
    {
     "name": "stdout",
     "output_type": "stream",
     "text": [
      "1.13*t**2 - 5.0*t\n"
     ]
    },
    {
     "data": {
      "text/latex": [
       "$\\displaystyle - 0.00999999999999979 t^{2} + 0.25 t$"
      ],
      "text/plain": [
       "-0.00999999999999979*t**2 + 0.25*t"
      ]
     },
     "metadata": {},
     "output_type": "display_data"
    },
    {
     "name": "stdout",
     "output_type": "stream",
     "text": [
      "Violating constants: []\n",
      "Violating constants: []\n",
      "Violating constants: []\n",
      "Violating constants: []\n",
      "Violating constants: []\n",
      "Violating constants: []\n",
      "Violating constants: []\n",
      "Violating constants: []\n",
      "Violating constants: []\n",
      "Violating constants: []\n",
      "Violating constants: []\n",
      "Violating constants: []\n",
      "Violating constants: []\n",
      "Violating constants: []\n",
      "Violating constants: []\n",
      "Violating constants: []\n",
      "Violating constants: []\n",
      "Violating constants: []\n",
      "Violating constants: []\n",
      "Violating constants: []\n",
      "Violating constants: []\n",
      "Violating constants: []\n",
      "Violating constants: []\n",
      "Violating constants: []\n",
      "Violating constants: []\n",
      "Violating constants: []\n",
      "Violating constants: []\n",
      "Violating constants: []\n",
      "Violating constants: []\n",
      "Violating constants: []\n",
      "Violating constants: []\n",
      "Violating constants: []\n",
      "Violating constants: []\n",
      "Violating constants: []\n",
      "Violating constants: []\n",
      "Violating constants: []\n",
      "Violating constants: [0.03, -0.25]\n"
     ]
    },
    {
     "data": {
      "text/latex": [
       "$\\displaystyle 0.03 t^{3} + 2.04 t^{2} + 51.02 t$"
      ],
      "text/plain": [
       "0.03*t**3 + 2.04*t**2 + 51.02*t"
      ]
     },
     "metadata": {},
     "output_type": "display_data"
    },
    {
     "data": {
      "text/latex": [
       "$\\displaystyle 2.03 t^{2} + 51.27 t + 0.01$"
      ],
      "text/plain": [
       "2.03*t**2 + 51.27*t + 0.01"
      ]
     },
     "metadata": {},
     "output_type": "display_data"
    },
    {
     "name": "stdout",
     "output_type": "stream",
     "text": [
      "2.03*t**2 + 51.27*t + 0.01\n"
     ]
    },
    {
     "data": {
      "text/latex": [
       "$\\displaystyle 0.03 t^{3} + 0.0100000000000002 t^{2} - 0.25 t - 0.01$"
      ],
      "text/plain": [
       "0.03*t**3 + 0.0100000000000002*t**2 - 0.25*t - 0.01"
      ]
     },
     "metadata": {},
     "output_type": "display_data"
    },
    {
     "name": "stdout",
     "output_type": "stream",
     "text": [
      "Violating constants: []\n",
      "Violating constants: []\n",
      "Violating constants: []\n",
      "Violating constants: []\n",
      "Violating constants: []\n",
      "Violating constants: []\n",
      "Violating constants: []\n",
      "Violating constants: []\n",
      "Violating constants: []\n",
      "Violating constants: []\n",
      "Violating constants: []\n",
      "Violating constants: []\n",
      "Violating constants: []\n",
      "Violating constants: []\n",
      "Violating constants: []\n",
      "Violating constants: []\n",
      "Violating constants: []\n",
      "Violating constants: []\n",
      "Violating constants: []\n",
      "Violating constants: []\n",
      "Violating constants: []\n",
      "Violating constants: []\n",
      "Violating constants: []\n",
      "Violating constants: []\n",
      "Violating constants: []\n",
      "Violating constants: []\n",
      "Violating constants: [3.7, -26.82, 46.849999999999994]\n"
     ]
    },
    {
     "data": {
      "text/latex": [
       "$\\displaystyle 3.7 t^{3} - 27.78 t^{2} + 69.44 t$"
      ],
      "text/plain": [
       "3.7*t**3 - 27.78*t**2 + 69.44*t"
      ]
     },
     "metadata": {},
     "output_type": "display_data"
    },
    {
     "data": {
      "text/latex": [
       "$\\displaystyle - 0.96 t^{2} + 22.59 t$"
      ],
      "text/plain": [
       "-0.96*t**2 + 22.59*t"
      ]
     },
     "metadata": {},
     "output_type": "display_data"
    },
    {
     "name": "stdout",
     "output_type": "stream",
     "text": [
      "-0.96*t**2 + 22.59*t\n"
     ]
    },
    {
     "data": {
      "text/latex": [
       "$\\displaystyle 3.7 t^{3} - 26.82 t^{2} + 46.85 t$"
      ],
      "text/plain": [
       "3.7*t**3 - 26.82*t**2 + 46.85*t"
      ]
     },
     "metadata": {},
     "output_type": "display_data"
    },
    {
     "name": "stdout",
     "output_type": "stream",
     "text": [
      "Violating constants: []\n",
      "Violating constants: []\n",
      "Violating constants: []\n",
      "Violating constants: []\n",
      "Violating constants: []\n",
      "Violating constants: []\n",
      "Violating constants: []\n",
      "Violating constants: []\n",
      "Violating constants: []\n",
      "Violating constants: []\n",
      "Violating constants: []\n",
      "Violating constants: []\n",
      "Violating constants: []\n",
      "Violating constants: []\n",
      "Violating constants: []\n",
      "Violating constants: []\n",
      "Violating constants: []\n",
      "Violating constants: []\n",
      "Violating constants: []\n",
      "Violating constants: []\n",
      "Violating constants: []\n",
      "Violating constants: []\n",
      "Violating constants: []\n",
      "Violating constants: []\n",
      "Violating constants: []\n",
      "Violating constants: []\n",
      "Violating constants: []\n",
      "Violating constants: []\n",
      "Violating constants: []\n",
      "Violating constants: []\n",
      "Violating constants: []\n",
      "Violating constants: []\n",
      "Violating constants: []\n",
      "Violating constants: []\n",
      "Violating constants: []\n",
      "Violating constants: []\n",
      "Violating constants: []\n",
      "Violating constants: []\n",
      "Violating constants: []\n",
      "Violating constants: []\n",
      "Violating constants: []\n",
      "Violating constants: []\n",
      "Violating constants: []\n",
      "Violating constants: []\n",
      "Violating constants: []\n",
      "Violating constants: []\n",
      "Violating constants: []\n",
      "Violating constants: []\n",
      "Violating constants: []\n",
      "Violating constants: []\n",
      "Violating constants: []\n",
      "Violating constants: []\n",
      "Violating constants: []\n",
      "Violating constants: []\n",
      "Violating constants: []\n",
      "Violating constants: []\n",
      "Violating constants: []\n",
      "Violating constants: []\n",
      "Violating constants: []\n",
      "Violating constants: []\n",
      "Violating constants: []\n",
      "Violating constants: []\n",
      "Violating constants: []\n",
      "Violating constants: []\n",
      "Violating constants: []\n",
      "Violating constants: []\n",
      "Violating constants: []\n",
      "Violating constants: []\n",
      "Violating constants: []\n",
      "Violating constants: []\n",
      "Violating constants: []\n",
      "Violating constants: []\n",
      "Violating constants: []\n",
      "Violating constants: []\n",
      "Violating constants: []\n",
      "Violating constants: []\n",
      "Violating constants: []\n",
      "Violating constants: []\n",
      "Violating constants: []\n",
      "Violating constants: []\n",
      "Violating constants: []\n",
      "Violating constants: []\n",
      "Violating constants: []\n",
      "Violating constants: []\n",
      "Violating constants: []\n",
      "Violating constants: []\n",
      "Violating constants: []\n",
      "Violating constants: []\n",
      "Violating constants: []\n",
      "Violating constants: []\n",
      "Violating constants: []\n",
      "Violating constants: []\n",
      "Violating constants: []\n",
      "Violating constants: []\n",
      "Violating constants: [0.21, 5.76, 38.88, 0.04]\n"
     ]
    },
    {
     "data": {
      "text/latex": [
       "$\\displaystyle 0.21 t^{3} + 5.76 t^{2} + 51.84 t$"
      ],
      "text/plain": [
       "0.21*t**3 + 5.76*t**2 + 51.84*t"
      ]
     },
     "metadata": {},
     "output_type": "display_data"
    },
    {
     "data": {
      "text/latex": [
       "$\\displaystyle 12.96 t - 0.04$"
      ],
      "text/plain": [
       "12.96*t - 0.04"
      ]
     },
     "metadata": {},
     "output_type": "display_data"
    },
    {
     "name": "stdout",
     "output_type": "stream",
     "text": [
      "12.96*t - 0.04\n"
     ]
    },
    {
     "data": {
      "text/latex": [
       "$\\displaystyle 0.21 t^{3} + 5.76 t^{2} + 38.88 t + 0.04$"
      ],
      "text/plain": [
       "0.21*t**3 + 5.76*t**2 + 38.88*t + 0.04"
      ]
     },
     "metadata": {},
     "output_type": "display_data"
    },
    {
     "name": "stdout",
     "output_type": "stream",
     "text": [
      "Violating constants: []\n",
      "Violating constants: []\n",
      "Violating constants: []\n",
      "Violating constants: []\n",
      "Violating constants: []\n",
      "Violating constants: []\n",
      "Violating constants: []\n",
      "Violating constants: []\n",
      "Violating constants: []\n",
      "Violating constants: []\n",
      "Violating constants: []\n",
      "Violating constants: []\n",
      "Violating constants: []\n",
      "Violating constants: []\n",
      "Violating constants: []\n",
      "Violating constants: []\n",
      "Violating constants: []\n",
      "Violating constants: []\n",
      "Violating constants: []\n",
      "Violating constants: []\n",
      "Violating constants: []\n",
      "Violating constants: []\n",
      "Violating constants: []\n",
      "Violating constants: []\n",
      "Violating constants: []\n",
      "Violating constants: []\n",
      "Violating constants: []\n",
      "Violating constants: []\n",
      "Violating constants: []\n",
      "Violating constants: []\n",
      "Violating constants: []\n",
      "Violating constants: []\n",
      "Violating constants: []\n",
      "Violating constants: []\n",
      "Violating constants: []\n",
      "Violating constants: []\n",
      "Violating constants: []\n",
      "Violating constants: []\n",
      "Violating constants: []\n",
      "Violating constants: []\n",
      "Violating constants: []\n",
      "Violating constants: []\n",
      "Violating constants: []\n",
      "Violating constants: []\n",
      "Violating constants: []\n",
      "Violating constants: []\n",
      "Violating constants: []\n",
      "Violating constants: []\n",
      "Violating constants: []\n",
      "Violating constants: []\n",
      "Violating constants: []\n",
      "Violating constants: []\n",
      "Violating constants: []\n",
      "Violating constants: []\n",
      "Violating constants: []\n",
      "Violating constants: []\n",
      "Violating constants: []\n",
      "Violating constants: []\n",
      "Violating constants: []\n",
      "Violating constants: []\n",
      "Violating constants: []\n",
      "Violating constants: []\n",
      "Violating constants: []\n",
      "Violating constants: []\n",
      "Violating constants: []\n",
      "Violating constants: []\n",
      "Violating constants: []\n",
      "Violating constants: []\n",
      "Violating constants: []\n",
      "Violating constants: []\n",
      "Violating constants: [0.013333333333333334, -0.11999999999999744]\n"
     ]
    },
    {
     "data": {
      "text/latex": [
       "$\\displaystyle 0.0133333333333333 t^{3} + 1.2 t^{2} + 36.0 t$"
      ],
      "text/plain": [
       "0.0133333333333333*t**3 + 1.2*t**2 + 36.0*t"
      ]
     },
     "metadata": {},
     "output_type": "display_data"
    },
    {
     "data": {
      "text/latex": [
       "$\\displaystyle 1.2 t^{2} + 36.12 t + 0.01$"
      ],
      "text/plain": [
       "1.2*t**2 + 36.12*t + 0.01"
      ]
     },
     "metadata": {},
     "output_type": "display_data"
    },
    {
     "name": "stdout",
     "output_type": "stream",
     "text": [
      "1.2*t**2 + 36.12*t + 0.01\n"
     ]
    },
    {
     "data": {
      "text/latex": [
       "$\\displaystyle 0.0133333333333333 t^{3} - 0.119999999999997 t - 0.01$"
      ],
      "text/plain": [
       "0.0133333333333333*t**3 - 0.119999999999997*t - 0.01"
      ]
     },
     "metadata": {},
     "output_type": "display_data"
    },
    {
     "name": "stdout",
     "output_type": "stream",
     "text": [
      "Violating constants: [-0.18, 1.5999999999999999]\n"
     ]
    },
    {
     "data": {
      "text/latex": [
       "$\\displaystyle 0.01 t^{3} - 0.18 t^{2} + 1.65 t$"
      ],
      "text/plain": [
       "0.01*t**3 - 0.18*t**2 + 1.65*t"
      ]
     },
     "metadata": {},
     "output_type": "display_data"
    },
    {
     "data": {
      "text/latex": [
       "$\\displaystyle 0.05 t$"
      ],
      "text/plain": [
       "0.05*t"
      ]
     },
     "metadata": {},
     "output_type": "display_data"
    },
    {
     "name": "stdout",
     "output_type": "stream",
     "text": [
      "0.05*t\n"
     ]
    },
    {
     "data": {
      "text/latex": [
       "$\\displaystyle 0.01 t^{3} - 0.18 t^{2} + 1.6 t$"
      ],
      "text/plain": [
       "0.01*t**3 - 0.18*t**2 + 1.6*t"
      ]
     },
     "metadata": {},
     "output_type": "display_data"
    },
    {
     "name": "stdout",
     "output_type": "stream",
     "text": [
      "Violating constants: []\n",
      "Violating constants: []\n",
      "Violating constants: []\n",
      "Violating constants: []\n",
      "Violating constants: []\n",
      "Violating constants: []\n",
      "Violating constants: []\n",
      "Violating constants: []\n",
      "Violating constants: []\n",
      "Violating constants: []\n",
      "Violating constants: []\n",
      "Violating constants: []\n",
      "Violating constants: []\n",
      "Violating constants: []\n",
      "Violating constants: []\n",
      "Violating constants: []\n",
      "Violating constants: []\n",
      "Violating constants: []\n",
      "Violating constants: []\n",
      "Violating constants: []\n",
      "Violating constants: []\n",
      "Violating constants: []\n",
      "Violating constants: []\n",
      "Violating constants: []\n",
      "Violating constants: []\n",
      "Violating constants: []\n",
      "Violating constants: [-0.46]\n"
     ]
    },
    {
     "data": {
      "text/latex": [
       "$\\displaystyle 5.33333333333333 t^{3} + 32.0 t^{2} + 64.0 t$"
      ],
      "text/plain": [
       "5.33333333333333*t**3 + 32.0*t**2 + 64.0*t"
      ]
     },
     "metadata": {},
     "output_type": "display_data"
    },
    {
     "data": {
      "text/latex": [
       "$\\displaystyle 5.33 t^{3} + 32.0 t^{2} + 64.0 t + 0.46$"
      ],
      "text/plain": [
       "5.33*t**3 + 32.0*t**2 + 64.0*t + 0.46"
      ]
     },
     "metadata": {},
     "output_type": "display_data"
    },
    {
     "name": "stdout",
     "output_type": "stream",
     "text": [
      "5.33*t**3 + 32.0*t**2 + 64.0*t + 0.46\n"
     ]
    },
    {
     "data": {
      "text/latex": [
       "$\\displaystyle 0.00333333333333297 t^{3} - 0.46$"
      ],
      "text/plain": [
       "0.00333333333333297*t**3 - 0.46"
      ]
     },
     "metadata": {},
     "output_type": "display_data"
    },
    {
     "name": "stdout",
     "output_type": "stream",
     "text": [
      "Violating constants: []\n",
      "Violating constants: []\n",
      "Violating constants: []\n",
      "Violating constants: []\n",
      "Violating constants: []\n",
      "Violating constants: []\n",
      "Violating constants: []\n",
      "Violating constants: []\n",
      "Violating constants: []\n",
      "Violating constants: []\n",
      "Violating constants: []\n",
      "Violating constants: []\n",
      "Violating constants: []\n",
      "Violating constants: []\n",
      "Violating constants: []\n",
      "Violating constants: []\n",
      "Violating constants: []\n",
      "Violating constants: []\n",
      "Violating constants: []\n",
      "Violating constants: []\n",
      "Violating constants: [0.05, 3.09, 58.9]\n"
     ]
    },
    {
     "data": {
      "text/latex": [
       "$\\displaystyle 0.05 t^{3} + 3.04 t^{2} + 57.76 t$"
      ],
      "text/plain": [
       "0.05*t**3 + 3.04*t**2 + 57.76*t"
      ]
     },
     "metadata": {},
     "output_type": "display_data"
    },
    {
     "data": {
      "text/latex": [
       "$\\displaystyle - 0.05 t^{2} - 1.14 t$"
      ],
      "text/plain": [
       "-0.05*t**2 - 1.14*t"
      ]
     },
     "metadata": {},
     "output_type": "display_data"
    },
    {
     "name": "stdout",
     "output_type": "stream",
     "text": [
      "-0.05*t**2 - 1.14*t\n"
     ]
    },
    {
     "data": {
      "text/latex": [
       "$\\displaystyle 0.05 t^{3} + 3.09 t^{2} + 58.9 t$"
      ],
      "text/plain": [
       "0.05*t**3 + 3.09*t**2 + 58.9*t"
      ]
     },
     "metadata": {},
     "output_type": "display_data"
    },
    {
     "name": "stdout",
     "output_type": "stream",
     "text": [
      "Violating constants: []\n",
      "Violating constants: []\n",
      "Violating constants: []\n",
      "Violating constants: []\n",
      "Violating constants: []\n",
      "Violating constants: []\n",
      "Violating constants: []\n",
      "Violating constants: []\n",
      "Violating constants: []\n",
      "Violating constants: []\n",
      "Violating constants: []\n",
      "Violating constants: []\n",
      "Violating constants: []\n",
      "Violating constants: []\n",
      "Violating constants: []\n",
      "Violating constants: []\n",
      "Violating constants: []\n",
      "Violating constants: []\n",
      "Violating constants: []\n",
      "Violating constants: []\n",
      "Violating constants: []\n",
      "Violating constants: []\n",
      "Violating constants: []\n",
      "Violating constants: []\n",
      "Violating constants: [2.37, 11.47, -0.23999999999999844, -0.07]\n"
     ]
    },
    {
     "data": {
      "text/latex": [
       "$\\displaystyle 2.37 t^{3} + 11.56 t^{2} + 18.78 t$"
      ],
      "text/plain": [
       "2.37*t**3 + 11.56*t**2 + 18.78*t"
      ]
     },
     "metadata": {},
     "output_type": "display_data"
    },
    {
     "data": {
      "text/latex": [
       "$\\displaystyle 0.09 t^{2} + 19.02 t + 0.07$"
      ],
      "text/plain": [
       "0.09*t**2 + 19.02*t + 0.07"
      ]
     },
     "metadata": {},
     "output_type": "display_data"
    },
    {
     "name": "stdout",
     "output_type": "stream",
     "text": [
      "0.09*t**2 + 19.02*t + 0.07\n"
     ]
    },
    {
     "data": {
      "text/latex": [
       "$\\displaystyle 2.37 t^{3} + 11.47 t^{2} - 0.239999999999998 t - 0.07$"
      ],
      "text/plain": [
       "2.37*t**3 + 11.47*t**2 - 0.239999999999998*t - 0.07"
      ]
     },
     "metadata": {},
     "output_type": "display_data"
    },
    {
     "name": "stdout",
     "output_type": "stream",
     "text": [
      "Violating constants: []\n",
      "Violating constants: []\n",
      "Violating constants: []\n",
      "Violating constants: []\n",
      "Violating constants: []\n",
      "Violating constants: []\n",
      "Violating constants: []\n",
      "Violating constants: []\n",
      "Violating constants: []\n",
      "Violating constants: []\n",
      "Violating constants: []\n",
      "Violating constants: []\n",
      "Violating constants: []\n",
      "Violating constants: []\n",
      "Violating constants: []\n",
      "Violating constants: []\n",
      "Violating constants: []\n",
      "Violating constants: []\n",
      "Violating constants: []\n",
      "Violating constants: []\n",
      "Violating constants: []\n",
      "Violating constants: []\n",
      "Violating constants: []\n",
      "Violating constants: []\n",
      "Violating constants: []\n",
      "Violating constants: []\n",
      "Violating constants: []\n",
      "Violating constants: []\n",
      "Violating constants: []\n",
      "Violating constants: []\n",
      "Violating constants: []\n",
      "Violating constants: []\n",
      "Violating constants: []\n",
      "Violating constants: []\n",
      "Violating constants: []\n",
      "Violating constants: []\n",
      "Violating constants: []\n",
      "Violating constants: []\n",
      "Violating constants: []\n",
      "Violating constants: []\n",
      "Violating constants: []\n",
      "Violating constants: []\n",
      "Violating constants: [4.399999999999999, -129.06, 171.53000000000003, -6.57]\n"
     ]
    },
    {
     "data": {
      "text/latex": [
       "$\\displaystyle 25.0 t^{3} - 130.0 t^{2} + 225.33 t$"
      ],
      "text/plain": [
       "25.0*t**3 - 130.0*t**2 + 225.33*t"
      ]
     },
     "metadata": {},
     "output_type": "display_data"
    },
    {
     "data": {
      "text/latex": [
       "$\\displaystyle 20.6 t^{3} - 0.94 t^{2} + 53.8 t + 6.57$"
      ],
      "text/plain": [
       "20.6*t**3 - 0.94*t**2 + 53.8*t + 6.57"
      ]
     },
     "metadata": {},
     "output_type": "display_data"
    },
    {
     "name": "stdout",
     "output_type": "stream",
     "text": [
      "20.6*t**3 - 0.94*t**2 + 53.8*t + 6.57\n"
     ]
    },
    {
     "data": {
      "text/latex": [
       "$\\displaystyle 4.4 t^{3} - 129.06 t^{2} + 171.53 t - 6.57$"
      ],
      "text/plain": [
       "4.4*t**3 - 129.06*t**2 + 171.53*t - 6.57"
      ]
     },
     "metadata": {},
     "output_type": "display_data"
    },
    {
     "name": "stdout",
     "output_type": "stream",
     "text": [
      "Violating constants: []\n",
      "Violating constants: []\n",
      "Violating constants: []\n",
      "Violating constants: []\n",
      "Violating constants: []\n",
      "Violating constants: []\n",
      "Violating constants: []\n",
      "Violating constants: []\n",
      "Violating constants: []\n",
      "Violating constants: []\n",
      "Violating constants: []\n",
      "Violating constants: []\n",
      "Violating constants: []\n",
      "Violating constants: []\n",
      "Violating constants: []\n",
      "Violating constants: []\n",
      "Violating constants: []\n",
      "Violating constants: []\n",
      "Violating constants: []\n",
      "Violating constants: []\n",
      "Violating constants: []\n",
      "Violating constants: []\n",
      "Violating constants: []\n",
      "Violating constants: []\n",
      "Violating constants: []\n",
      "Violating constants: []\n",
      "Violating constants: [0.040000000000000036]\n",
      "Violating constants: []\n",
      "Violating constants: []\n",
      "Violating constants: []\n",
      "Violating constants: []\n",
      "Violating constants: [0.023333333333333428, -0.870000000000001, 0.3600000000000003]\n"
     ]
    },
    {
     "data": {
      "text/latex": [
       "$\\displaystyle 12.8133333333333 t^{3} - 11.16 t^{2} + 3.24 t$"
      ],
      "text/plain": [
       "12.8133333333333*t**3 - 11.16*t**2 + 3.24*t"
      ]
     },
     "metadata": {},
     "output_type": "display_data"
    },
    {
     "data": {
      "text/latex": [
       "$\\displaystyle 12.79 t^{3} - 10.29 t^{2} + 2.88 t$"
      ],
      "text/plain": [
       "12.79*t**3 - 10.29*t**2 + 2.88*t"
      ]
     },
     "metadata": {},
     "output_type": "display_data"
    },
    {
     "name": "stdout",
     "output_type": "stream",
     "text": [
      "12.79*t**3 - 10.29*t**2 + 2.88*t\n"
     ]
    },
    {
     "data": {
      "text/latex": [
       "$\\displaystyle 0.0233333333333334 t^{3} - 0.870000000000001 t^{2} + 0.36 t$"
      ],
      "text/plain": [
       "0.0233333333333334*t**3 - 0.870000000000001*t**2 + 0.36*t"
      ]
     },
     "metadata": {},
     "output_type": "display_data"
    },
    {
     "name": "stdout",
     "output_type": "stream",
     "text": [
      "Violating constants: []\n",
      "Violating constants: []\n",
      "Violating constants: []\n",
      "Violating constants: []\n",
      "Violating constants: []\n",
      "Violating constants: []\n",
      "Violating constants: []\n",
      "Violating constants: [-0.22]\n"
     ]
    },
    {
     "data": {
      "text/latex": [
       "$\\displaystyle 9.48148148148148 t^{3} - 80.0 t^{2} + 225.0 t$"
      ],
      "text/plain": [
       "9.48148148148148*t**3 - 80.0*t**2 + 225.0*t"
      ]
     },
     "metadata": {},
     "output_type": "display_data"
    },
    {
     "data": {
      "text/latex": [
       "$\\displaystyle 9.48 t^{3} - 80.0 t^{2} + 225.0 t + 0.22$"
      ],
      "text/plain": [
       "9.48*t**3 - 80.0*t**2 + 225.0*t + 0.22"
      ]
     },
     "metadata": {},
     "output_type": "display_data"
    },
    {
     "name": "stdout",
     "output_type": "stream",
     "text": [
      "9.48*t**3 - 80.0*t**2 + 225.0*t + 0.22\n"
     ]
    },
    {
     "data": {
      "text/latex": [
       "$\\displaystyle 0.00148148148148053 t^{3} - 0.22$"
      ],
      "text/plain": [
       "0.00148148148148053*t**3 - 0.22"
      ]
     },
     "metadata": {},
     "output_type": "display_data"
    },
    {
     "name": "stdout",
     "output_type": "stream",
     "text": [
      "Violating constants: [0.04000000000000625, 0.04]\n"
     ]
    },
    {
     "data": {
      "text/latex": [
       "$\\displaystyle 0.17 t^{3} - 6.5 t^{2} + 84.5 t$"
      ],
      "text/plain": [
       "0.17*t**3 - 6.5*t**2 + 84.5*t"
      ]
     },
     "metadata": {},
     "output_type": "display_data"
    },
    {
     "data": {
      "text/latex": [
       "$\\displaystyle 0.17 t^{3} - 6.51 t^{2} + 84.46 t - 0.04$"
      ],
      "text/plain": [
       "0.17*t**3 - 6.51*t**2 + 84.46*t - 0.04"
      ]
     },
     "metadata": {},
     "output_type": "display_data"
    },
    {
     "name": "stdout",
     "output_type": "stream",
     "text": [
      "0.17*t**3 - 6.51*t**2 + 84.46*t - 0.04\n"
     ]
    },
    {
     "data": {
      "text/latex": [
       "$\\displaystyle 0.00999999999999979 t^{2} + 0.0400000000000063 t + 0.04$"
      ],
      "text/plain": [
       "0.00999999999999979*t**2 + 0.0400000000000063*t + 0.04"
      ]
     },
     "metadata": {},
     "output_type": "display_data"
    },
    {
     "name": "stdout",
     "output_type": "stream",
     "text": [
      "Violating constants: []\n",
      "Violating constants: []\n",
      "Violating constants: [0.02]\n"
     ]
    },
    {
     "data": {
      "text/latex": [
       "$\\displaystyle 7.25925925925926 t^{3} - 23.3333333333333 t^{2} + 25.0 t$"
      ],
      "text/plain": [
       "7.25925925925926*t**3 - 23.3333333333333*t**2 + 25.0*t"
      ]
     },
     "metadata": {},
     "output_type": "display_data"
    },
    {
     "data": {
      "text/latex": [
       "$\\displaystyle 7.26 t^{3} - 23.33 t^{2} + 25.0 t - 0.02$"
      ],
      "text/plain": [
       "7.26*t**3 - 23.33*t**2 + 25.0*t - 0.02"
      ]
     },
     "metadata": {},
     "output_type": "display_data"
    },
    {
     "name": "stdout",
     "output_type": "stream",
     "text": [
      "7.26*t**3 - 23.33*t**2 + 25.0*t - 0.02\n"
     ]
    },
    {
     "data": {
      "text/latex": [
       "$\\displaystyle - 0.000740740740740264 t^{3} - 0.00333333333333385 t^{2} + 0.02$"
      ],
      "text/plain": [
       "-0.000740740740740264*t**3 - 0.00333333333333385*t**2 + 0.02"
      ]
     },
     "metadata": {},
     "output_type": "display_data"
    },
    {
     "name": "stdout",
     "output_type": "stream",
     "text": [
      "Violating constants: []\n",
      "Violating constants: []\n",
      "Violating constants: []\n",
      "Violating constants: []\n",
      "Violating constants: []\n",
      "Violating constants: []\n",
      "Violating constants: []\n",
      "Violating constants: []\n",
      "Violating constants: []\n",
      "Violating constants: []\n",
      "Violating constants: []\n",
      "Violating constants: []\n",
      "Violating constants: []\n",
      "Violating constants: []\n",
      "Violating constants: [-0.030000000000000027, -0.10000000000000142]\n"
     ]
    },
    {
     "data": {
      "text/latex": [
       "$\\displaystyle 0.01 t^{3} - 1.1 t^{2} + 59.51 t$"
      ],
      "text/plain": [
       "0.01*t**3 - 1.1*t**2 + 59.51*t"
      ]
     },
     "metadata": {},
     "output_type": "display_data"
    },
    {
     "data": {
      "text/latex": [
       "$\\displaystyle - 1.07 t^{2} + 59.61 t$"
      ],
      "text/plain": [
       "-1.07*t**2 + 59.61*t"
      ]
     },
     "metadata": {},
     "output_type": "display_data"
    },
    {
     "name": "stdout",
     "output_type": "stream",
     "text": [
      "-1.07*t**2 + 59.61*t\n"
     ]
    },
    {
     "data": {
      "text/latex": [
       "$\\displaystyle 0.01 t^{3} - 0.03 t^{2} - 0.100000000000001 t$"
      ],
      "text/plain": [
       "0.01*t**3 - 0.03*t**2 - 0.100000000000001*t"
      ]
     },
     "metadata": {},
     "output_type": "display_data"
    },
    {
     "name": "stdout",
     "output_type": "stream",
     "text": [
      "Violating constants: []\n",
      "Violating constants: []\n",
      "Violating constants: []\n",
      "Violating constants: []\n",
      "Violating constants: []\n",
      "Violating constants: []\n",
      "Violating constants: [0.019999999999999574]\n",
      "Violating constants: []\n",
      "Violating constants: []\n",
      "Violating constants: []\n",
      "Violating constants: []\n",
      "Violating constants: []\n",
      "Violating constants: []\n",
      "Violating constants: []\n",
      "Violating constants: []\n",
      "Violating constants: []\n",
      "Violating constants: []\n",
      "Violating constants: []\n",
      "Violating constants: []\n",
      "Violating constants: []\n",
      "Violating constants: []\n",
      "Violating constants: []\n",
      "Violating constants: [0.16000000000000014, 0.07870000000000044]\n"
     ]
    },
    {
     "data": {
      "text/latex": [
       "$\\displaystyle 1.6 t^{2} + 6.4 t$"
      ],
      "text/plain": [
       "1.6*t**2 + 6.4*t"
      ]
     },
     "metadata": {},
     "output_type": "display_data"
    },
    {
     "data": {
      "text/latex": [
       "$\\displaystyle 1.44 t^{2} + 6.3213 t$"
      ],
      "text/plain": [
       "1.44*t**2 + 6.3213*t"
      ]
     },
     "metadata": {},
     "output_type": "display_data"
    },
    {
     "name": "stdout",
     "output_type": "stream",
     "text": [
      "1.44*t**2 + 6.3213*t\n"
     ]
    },
    {
     "data": {
      "text/latex": [
       "$\\displaystyle 0.16 t^{2} + 0.0787000000000004 t$"
      ],
      "text/plain": [
       "0.16*t**2 + 0.0787000000000004*t"
      ]
     },
     "metadata": {},
     "output_type": "display_data"
    },
    {
     "name": "stdout",
     "output_type": "stream",
     "text": [
      "Violating constants: []\n",
      "Violating constants: []\n",
      "Violating constants: []\n",
      "Violating constants: []\n",
      "Violating constants: []\n",
      "Violating constants: []\n",
      "Violating constants: []\n",
      "Violating constants: []\n",
      "Violating constants: []\n",
      "Violating constants: []\n",
      "Violating constants: []\n",
      "Violating constants: []\n",
      "Violating constants: []\n",
      "Violating constants: []\n",
      "Violating constants: []\n",
      "Violating constants: []\n",
      "Violating constants: []\n",
      "Violating constants: []\n",
      "Violating constants: []\n",
      "Violating constants: []\n",
      "Violating constants: []\n",
      "Violating constants: []\n",
      "Violating constants: []\n",
      "Violating constants: []\n",
      "Violating constants: []\n",
      "Violating constants: []\n",
      "Violating constants: []\n",
      "Violating constants: []\n",
      "Violating constants: []\n",
      "Violating constants: []\n",
      "Violating constants: []\n",
      "Violating constants: []\n",
      "Violating constants: []\n",
      "Violating constants: []\n",
      "Violating constants: []\n",
      "Violating constants: []\n",
      "Violating constants: []\n",
      "Violating constants: []\n",
      "Violating constants: []\n",
      "Violating constants: []\n",
      "Violating constants: []\n",
      "Violating constants: []\n",
      "Violating constants: []\n",
      "Violating constants: []\n",
      "Violating constants: []\n",
      "Violating constants: []\n",
      "Violating constants: []\n",
      "Violating constants: []\n",
      "Violating constants: []\n",
      "Violating constants: []\n",
      "Violating constants: []\n",
      "Violating constants: []\n",
      "Violating constants: []\n",
      "Violating constants: []\n",
      "Violating constants: []\n",
      "Violating constants: []\n",
      "Violating constants: []\n",
      "Violating constants: []\n",
      "Violating constants: []\n",
      "Violating constants: []\n",
      "Violating constants: []\n",
      "Violating constants: []\n",
      "Violating constants: []\n",
      "Violating constants: []\n",
      "Violating constants: []\n",
      "Violating constants: []\n",
      "Violating constants: []\n",
      "Violating constants: []\n",
      "Violating constants: []\n",
      "Violating constants: []\n",
      "Violating constants: []\n",
      "Violating constants: []\n",
      "Violating constants: []\n",
      "Violating constants: []\n",
      "Violating constants: []\n",
      "Violating constants: []\n",
      "Violating constants: []\n",
      "Violating constants: []\n",
      "Violating constants: []\n",
      "Violating constants: []\n",
      "Cannot get_coefficients_and_exponents\n",
      "-0.67*t + 3.2*t/(4.97 - 0.4*arctan(0.58))\n",
      "Violating constants: [-0.670000000000000, -0.400000000000000, 3.20000000000000, 0.580000000000000, 4.97000000000000, -1]\n"
     ]
    },
    {
     "data": {
      "text/latex": [
       "$\\displaystyle 3.7 t^{2} + 6.4 t$"
      ],
      "text/plain": [
       "3.7*t**2 + 6.4*t"
      ]
     },
     "metadata": {},
     "output_type": "display_data"
    },
    {
     "data": {
      "text/latex": [
       "$\\displaystyle 3.7 t^{2} + 7.07 t - \\frac{3.2 t}{4.97 - 0.4 \\arctan{\\left(0.58 \\right)}}$"
      ],
      "text/plain": [
       "3.7*t**2 + 7.07*t - 3.2*t/(4.97 - 0.4*arctan(0.58))"
      ]
     },
     "metadata": {},
     "output_type": "display_data"
    },
    {
     "name": "stdout",
     "output_type": "stream",
     "text": [
      "3.7*t**2 + 7.07*t - 3.2*t/(4.97 - 0.4*arctan(0.58))\n"
     ]
    },
    {
     "data": {
      "text/latex": [
       "$\\displaystyle - 0.67 t + \\frac{3.2 t}{4.97 - 0.4 \\arctan{\\left(0.58 \\right)}}$"
      ],
      "text/plain": [
       "-0.67*t + 3.2*t/(4.97 - 0.4*arctan(0.58))"
      ]
     },
     "metadata": {},
     "output_type": "display_data"
    },
    {
     "name": "stdout",
     "output_type": "stream",
     "text": [
      "Violating constants: []\n",
      "Violating constants: []\n",
      "Violating constants: []\n",
      "Violating constants: []\n",
      "Violating constants: []\n",
      "Violating constants: []\n",
      "Violating constants: []\n",
      "Violating constants: []\n",
      "Violating constants: []\n",
      "Violating constants: []\n",
      "Violating constants: []\n",
      "Violating constants: []\n",
      "Violating constants: []\n",
      "Violating constants: []\n",
      "Violating constants: []\n",
      "Violating constants: []\n",
      "Violating constants: []\n",
      "Violating constants: []\n",
      "Violating constants: []\n",
      "Violating constants: []\n",
      "Violating constants: []\n",
      "Violating constants: []\n",
      "Violating constants: []\n",
      "Violating constants: []\n",
      "Violating constants: []\n",
      "Violating constants: [0.22499999999999964]\n"
     ]
    },
    {
     "data": {
      "text/latex": [
       "$\\displaystyle - 4.25 t^{2} + 5.0 t$"
      ],
      "text/plain": [
       "-4.25*t**2 + 5.0*t"
      ]
     },
     "metadata": {},
     "output_type": "display_data"
    },
    {
     "data": {
      "text/latex": [
       "$\\displaystyle - 4.25 t^{2} + 4.775 t$"
      ],
      "text/plain": [
       "-4.25*t**2 + 4.775*t"
      ]
     },
     "metadata": {},
     "output_type": "display_data"
    },
    {
     "name": "stdout",
     "output_type": "stream",
     "text": [
      "-4.25*t**2 + 4.775*t\n"
     ]
    },
    {
     "data": {
      "text/latex": [
       "$\\displaystyle 0.225 t$"
      ],
      "text/plain": [
       "0.225*t"
      ]
     },
     "metadata": {},
     "output_type": "display_data"
    },
    {
     "name": "stdout",
     "output_type": "stream",
     "text": [
      "Violating constants: []\n",
      "Violating constants: []\n",
      "Violating constants: [-0.030000000000001137, -0.02]\n"
     ]
    },
    {
     "data": {
      "text/latex": [
       "$\\displaystyle 0.11 t^{3} - 2.67 t^{2} + 21.33 t$"
      ],
      "text/plain": [
       "0.11*t**3 - 2.67*t**2 + 21.33*t"
      ]
     },
     "metadata": {},
     "output_type": "display_data"
    },
    {
     "data": {
      "text/latex": [
       "$\\displaystyle 0.11 t^{3} - 2.66 t^{2} + 21.36 t + 0.02$"
      ],
      "text/plain": [
       "0.11*t**3 - 2.66*t**2 + 21.36*t + 0.02"
      ]
     },
     "metadata": {},
     "output_type": "display_data"
    },
    {
     "name": "stdout",
     "output_type": "stream",
     "text": [
      "0.11*t**3 - 2.66*t**2 + 21.36*t + 0.02\n"
     ]
    },
    {
     "data": {
      "text/latex": [
       "$\\displaystyle - 0.00999999999999979 t^{2} - 0.0300000000000011 t - 0.02$"
      ],
      "text/plain": [
       "-0.00999999999999979*t**2 - 0.0300000000000011*t - 0.02"
      ]
     },
     "metadata": {},
     "output_type": "display_data"
    },
    {
     "name": "stdout",
     "output_type": "stream",
     "text": [
      "Violating constants: []\n",
      "Violating constants: []\n",
      "Violating constants: []\n",
      "Violating constants: []\n",
      "Violating constants: []\n",
      "Violating constants: []\n",
      "Cannot get_coefficients_and_exponents\n",
      "0.02*t**3 + 3.67*t*arctan(0.02) - 0.0799999999999983*t - 0.01\n",
      "Violating constants: [3, 0.0200000000000000, 3.67000000000000, -0.0799999999999983]\n"
     ]
    },
    {
     "data": {
      "text/latex": [
       "$\\displaystyle 0.02 t^{3} + 1.44 t^{2} + 33.06 t$"
      ],
      "text/plain": [
       "0.02*t**3 + 1.44*t**2 + 33.06*t"
      ]
     },
     "metadata": {},
     "output_type": "display_data"
    },
    {
     "data": {
      "text/latex": [
       "$\\displaystyle 1.44 t^{2} - 3.67 t \\arctan{\\left(0.02 \\right)} + 33.14 t + 0.01$"
      ],
      "text/plain": [
       "1.44*t**2 - 3.67*t*arctan(0.02) + 33.14*t + 0.01"
      ]
     },
     "metadata": {},
     "output_type": "display_data"
    },
    {
     "name": "stdout",
     "output_type": "stream",
     "text": [
      "1.44*t**2 - 3.67*t*arctan(0.02) + 33.14*t + 0.01\n"
     ]
    },
    {
     "data": {
      "text/latex": [
       "$\\displaystyle 0.02 t^{3} + 3.67 t \\arctan{\\left(0.02 \\right)} - 0.0799999999999983 t - 0.01$"
      ],
      "text/plain": [
       "0.02*t**3 + 3.67*t*arctan(0.02) - 0.0799999999999983*t - 0.01"
      ]
     },
     "metadata": {},
     "output_type": "display_data"
    },
    {
     "name": "stdout",
     "output_type": "stream",
     "text": [
      "Violating constants: []\n",
      "Violating constants: []\n",
      "Violating constants: []\n",
      "Violating constants: []\n",
      "Violating constants: []\n",
      "Violating constants: []\n",
      "Violating constants: []\n",
      "Violating constants: []\n",
      "Violating constants: []\n",
      "Violating constants: []\n",
      "Violating constants: []\n",
      "Violating constants: []\n",
      "Violating constants: []\n",
      "Violating constants: []\n",
      "Violating constants: []\n",
      "Violating constants: []\n",
      "Violating constants: []\n",
      "Violating constants: []\n",
      "Violating constants: []\n",
      "Violating constants: []\n",
      "Violating constants: []\n",
      "Violating constants: []\n",
      "Violating constants: []\n",
      "Violating constants: []\n",
      "Violating constants: []\n",
      "Violating constants: []\n",
      "Violating constants: []\n",
      "Violating constants: []\n",
      "Violating constants: []\n",
      "Violating constants: []\n",
      "Violating constants: []\n",
      "Violating constants: []\n",
      "Violating constants: []\n",
      "Violating constants: []\n",
      "Violating constants: []\n",
      "Violating constants: []\n",
      "Violating constants: []\n",
      "Violating constants: []\n",
      "Violating constants: []\n",
      "Violating constants: []\n",
      "Violating constants: []\n",
      "Violating constants: []\n",
      "Violating constants: []\n",
      "Violating constants: []\n",
      "Violating constants: []\n",
      "Violating constants: []\n",
      "Violating constants: []\n",
      "Violating constants: []\n",
      "Violating constants: []\n",
      "Violating constants: []\n",
      "Violating constants: []\n",
      "Violating constants: []\n",
      "Violating constants: []\n",
      "Violating constants: []\n",
      "Violating constants: []\n",
      "Violating constants: []\n",
      "Violating constants: []\n",
      "Violating constants: []\n",
      "Violating constants: []\n",
      "Violating constants: []\n",
      "Violating constants: []\n",
      "Violating constants: []\n",
      "Violating constants: []\n",
      "Cannot get_coefficients_and_exponents\n",
      "-0.0714285714285714*t**2 + 11.59*t*arctan(0.05) - 0.42*t + 0.03*arctan(0.05)\n",
      "Violating constants: [-0.420000000000000, 2, 0.0500000000000000, -0.0714285714285714, 11.5900000000000, 0.0300000000000000]\n"
     ]
    },
    {
     "data": {
      "text/latex": [
       "$\\displaystyle - 0.0714285714285714 t^{2} - 9.0 t$"
      ],
      "text/plain": [
       "-0.0714285714285714*t**2 - 9.0*t"
      ]
     },
     "metadata": {},
     "output_type": "display_data"
    },
    {
     "data": {
      "text/latex": [
       "$\\displaystyle - 11.59 t \\arctan{\\left(0.05 \\right)} - 8.58 t - 0.03 \\arctan{\\left(0.05 \\right)}$"
      ],
      "text/plain": [
       "-11.59*t*arctan(0.05) - 8.58*t - 0.03*arctan(0.05)"
      ]
     },
     "metadata": {},
     "output_type": "display_data"
    },
    {
     "name": "stdout",
     "output_type": "stream",
     "text": [
      "-11.59*t*arctan(0.05) - 8.58*t - 0.03*arctan(0.05)\n"
     ]
    },
    {
     "data": {
      "text/latex": [
       "$\\displaystyle - 0.0714285714285714 t^{2} + 11.59 t \\arctan{\\left(0.05 \\right)} - 0.42 t + 0.03 \\arctan{\\left(0.05 \\right)}$"
      ],
      "text/plain": [
       "-0.0714285714285714*t**2 + 11.59*t*arctan(0.05) - 0.42*t + 0.03*arctan(0.05)"
      ]
     },
     "metadata": {},
     "output_type": "display_data"
    },
    {
     "name": "stdout",
     "output_type": "stream",
     "text": [
      "Violating constants: []\n",
      "Violating constants: []\n",
      "Violating constants: []\n",
      "Violating constants: []\n",
      "Violating constants: []\n",
      "Violating constants: []\n",
      "Violating constants: [24.653333333333332, 140.55, -3.0800000000000125]\n"
     ]
    },
    {
     "data": {
      "text/latex": [
       "$\\displaystyle 24.6533333333333 t^{3} + 129.0 t^{2} + 225.0 t$"
      ],
      "text/plain": [
       "24.6533333333333*t**3 + 129.0*t**2 + 225.0*t"
      ]
     },
     "metadata": {},
     "output_type": "display_data"
    },
    {
     "data": {
      "text/latex": [
       "$\\displaystyle - 11.55 t^{2} + 228.08 t$"
      ],
      "text/plain": [
       "-11.55*t**2 + 228.08*t"
      ]
     },
     "metadata": {},
     "output_type": "display_data"
    },
    {
     "name": "stdout",
     "output_type": "stream",
     "text": [
      "-11.55*t**2 + 228.08*t\n"
     ]
    },
    {
     "data": {
      "text/latex": [
       "$\\displaystyle 24.6533333333333 t^{3} + 140.55 t^{2} - 3.08000000000001 t$"
      ],
      "text/plain": [
       "24.6533333333333*t**3 + 140.55*t**2 - 3.08000000000001*t"
      ]
     },
     "metadata": {},
     "output_type": "display_data"
    },
    {
     "name": "stdout",
     "output_type": "stream",
     "text": [
      "Violating constants: []\n",
      "Violating constants: []\n",
      "Violating constants: []\n",
      "Violating constants: []\n",
      "Violating constants: []\n",
      "Violating constants: []\n",
      "Violating constants: []\n",
      "Violating constants: []\n",
      "Violating constants: []\n",
      "Violating constants: []\n",
      "Violating constants: []\n",
      "Violating constants: []\n",
      "Violating constants: []\n",
      "Violating constants: []\n",
      "Violating constants: []\n",
      "Violating constants: []\n",
      "Violating constants: []\n",
      "Violating constants: []\n",
      "Violating constants: []\n",
      "Violating constants: []\n",
      "Violating constants: []\n",
      "Violating constants: []\n",
      "Violating constants: []\n",
      "Violating constants: []\n",
      "Violating constants: []\n",
      "Violating constants: []\n",
      "Violating constants: []\n",
      "Violating constants: []\n",
      "Violating constants: []\n",
      "Violating constants: []\n",
      "Violating constants: []\n",
      "Violating constants: []\n",
      "Violating constants: []\n",
      "Violating constants: []\n",
      "Violating constants: []\n",
      "Violating constants: []\n",
      "Violating constants: []\n",
      "Violating constants: []\n",
      "Violating constants: []\n",
      "Violating constants: [0.03, -0.019999999999999574, -0.35999999999999943]\n"
     ]
    },
    {
     "data": {
      "text/latex": [
       "$\\displaystyle 0.08 t^{3} + 4.25 t^{2} + 72.25 t$"
      ],
      "text/plain": [
       "0.08*t**3 + 4.25*t**2 + 72.25*t"
      ]
     },
     "metadata": {},
     "output_type": "display_data"
    },
    {
     "data": {
      "text/latex": [
       "$\\displaystyle 0.05 t^{3} + 4.27 t^{2} + 72.61 t$"
      ],
      "text/plain": [
       "0.05*t**3 + 4.27*t**2 + 72.61*t"
      ]
     },
     "metadata": {},
     "output_type": "display_data"
    },
    {
     "name": "stdout",
     "output_type": "stream",
     "text": [
      "0.05*t**3 + 4.27*t**2 + 72.61*t\n"
     ]
    },
    {
     "data": {
      "text/latex": [
       "$\\displaystyle 0.03 t^{3} - 0.0199999999999996 t^{2} - 0.359999999999999 t$"
      ],
      "text/plain": [
       "0.03*t**3 - 0.0199999999999996*t**2 - 0.359999999999999*t"
      ]
     },
     "metadata": {},
     "output_type": "display_data"
    },
    {
     "name": "stdout",
     "output_type": "stream",
     "text": [
      "Violating constants: []\n",
      "Violating constants: []\n",
      "Violating constants: []\n",
      "Violating constants: []\n",
      "Violating constants: []\n",
      "Violating constants: []\n",
      "Violating constants: []\n",
      "Violating constants: []\n",
      "Violating constants: []\n",
      "Violating constants: []\n",
      "Violating constants: []\n",
      "Violating constants: []\n",
      "Violating constants: []\n",
      "Violating constants: []\n",
      "Violating constants: []\n",
      "Violating constants: []\n",
      "Violating constants: []\n",
      "Violating constants: []\n",
      "Violating constants: []\n",
      "Violating constants: []\n",
      "Violating constants: []\n",
      "Violating constants: []\n",
      "Violating constants: []\n",
      "Violating constants: []\n",
      "Violating constants: []\n",
      "Violating constants: []\n",
      "Violating constants: []\n",
      "Violating constants: []\n",
      "Violating constants: []\n",
      "Violating constants: []\n",
      "Violating constants: [-0.269999999999996]\n",
      "Violating constants: []\n",
      "Violating constants: []\n",
      "Violating constants: []\n",
      "Violating constants: [-0.030000000000000027, -2.0700000000000003]\n"
     ]
    },
    {
     "data": {
      "text/latex": [
       "$\\displaystyle 0.75 t^{2} + 6.0 t$"
      ],
      "text/plain": [
       "0.75*t**2 + 6.0*t"
      ]
     },
     "metadata": {},
     "output_type": "display_data"
    },
    {
     "data": {
      "text/latex": [
       "$\\displaystyle 0.78 t^{2} + 8.07 t$"
      ],
      "text/plain": [
       "0.78*t**2 + 8.07*t"
      ]
     },
     "metadata": {},
     "output_type": "display_data"
    },
    {
     "name": "stdout",
     "output_type": "stream",
     "text": [
      "0.78*t**2 + 8.07*t\n"
     ]
    },
    {
     "data": {
      "text/latex": [
       "$\\displaystyle - 0.03 t^{2} - 2.07 t$"
      ],
      "text/plain": [
       "-0.03*t**2 - 2.07*t"
      ]
     },
     "metadata": {},
     "output_type": "display_data"
    },
    {
     "name": "stdout",
     "output_type": "stream",
     "text": [
      "Violating constants: []\n",
      "Violating constants: []\n",
      "Violating constants: []\n",
      "Violating constants: []\n",
      "Violating constants: []\n",
      "Violating constants: []\n",
      "Violating constants: []\n",
      "Violating constants: []\n",
      "Violating constants: [0.75, -3.75, 5.23]\n"
     ]
    },
    {
     "data": {
      "text/latex": [
       "$\\displaystyle 0.75 t^{3} - 3.75 t^{2} + 6.25 t$"
      ],
      "text/plain": [
       "0.75*t**3 - 3.75*t**2 + 6.25*t"
      ]
     },
     "metadata": {},
     "output_type": "display_data"
    },
    {
     "data": {
      "text/latex": [
       "$\\displaystyle 1.02 t$"
      ],
      "text/plain": [
       "1.02*t"
      ]
     },
     "metadata": {},
     "output_type": "display_data"
    },
    {
     "name": "stdout",
     "output_type": "stream",
     "text": [
      "1.02*t\n"
     ]
    },
    {
     "data": {
      "text/latex": [
       "$\\displaystyle 0.75 t^{3} - 3.75 t^{2} + 5.23 t$"
      ],
      "text/plain": [
       "0.75*t**3 - 3.75*t**2 + 5.23*t"
      ]
     },
     "metadata": {},
     "output_type": "display_data"
    },
    {
     "name": "stdout",
     "output_type": "stream",
     "text": [
      "Violating constants: []\n",
      "Violating constants: []\n",
      "Violating constants: []\n",
      "Violating constants: []\n",
      "Violating constants: []\n",
      "Violating constants: [-0.020000000000000018]\n",
      "Violating constants: []\n",
      "Violating constants: []\n",
      "Violating constants: []\n",
      "Violating constants: []\n",
      "Violating constants: []\n",
      "Violating constants: []\n",
      "Violating constants: []\n",
      "Violating constants: []\n",
      "Violating constants: []\n",
      "Violating constants: []\n",
      "Violating constants: []\n",
      "Violating constants: []\n",
      "Violating constants: []\n",
      "Violating constants: []\n",
      "Violating constants: []\n",
      "Violating constants: []\n",
      "Violating constants: []\n",
      "Violating constants: []\n",
      "Violating constants: []\n",
      "Violating constants: []\n",
      "Violating constants: []\n",
      "Violating constants: []\n",
      "Violating constants: []\n",
      "Violating constants: [0.029999999999999805, 0.09999999999999432, 0.09]\n"
     ]
    },
    {
     "data": {
      "text/latex": [
       "$\\displaystyle 0.01 t^{3} + 1.64 t^{2} + 67.24 t$"
      ],
      "text/plain": [
       "0.01*t**3 + 1.64*t**2 + 67.24*t"
      ]
     },
     "metadata": {},
     "output_type": "display_data"
    },
    {
     "data": {
      "text/latex": [
       "$\\displaystyle 0.01 t^{3} + 1.61 t^{2} + 67.14 t - 0.09$"
      ],
      "text/plain": [
       "0.01*t**3 + 1.61*t**2 + 67.14*t - 0.09"
      ]
     },
     "metadata": {},
     "output_type": "display_data"
    },
    {
     "name": "stdout",
     "output_type": "stream",
     "text": [
      "0.01*t**3 + 1.61*t**2 + 67.14*t - 0.09\n"
     ]
    },
    {
     "data": {
      "text/latex": [
       "$\\displaystyle 0.0299999999999998 t^{2} + 0.0999999999999943 t + 0.09$"
      ],
      "text/plain": [
       "0.0299999999999998*t**2 + 0.0999999999999943*t + 0.09"
      ]
     },
     "metadata": {},
     "output_type": "display_data"
    },
    {
     "name": "stdout",
     "output_type": "stream",
     "text": [
      "Violating constants: []\n",
      "Violating constants: []\n",
      "Violating constants: []\n",
      "Violating constants: []\n",
      "Violating constants: []\n",
      "Violating constants: []\n",
      "Violating constants: []\n",
      "Violating constants: []\n",
      "Violating constants: []\n",
      "Violating constants: []\n",
      "Violating constants: []\n",
      "Violating constants: []\n",
      "Violating constants: []\n",
      "Violating constants: []\n",
      "Violating constants: []\n",
      "Violating constants: []\n",
      "Violating constants: []\n",
      "Violating constants: []\n",
      "Violating constants: []\n",
      "Violating constants: []\n",
      "Violating constants: []\n",
      "Violating constants: []\n",
      "Violating constants: []\n",
      "Violating constants: []\n",
      "Violating constants: []\n",
      "Violating constants: []\n",
      "Violating constants: [-0.040000000000000036, -0.09999999999999432]\n",
      "Violating constants: []\n",
      "Violating constants: [0.030000000000000002, 0.020000000000000018, -0.4399999999999977]\n"
     ]
    },
    {
     "data": {
      "text/latex": [
       "$\\displaystyle 0.05 t^{3} + 2.64 t^{2} + 43.56 t$"
      ],
      "text/plain": [
       "0.05*t**3 + 2.64*t**2 + 43.56*t"
      ]
     },
     "metadata": {},
     "output_type": "display_data"
    },
    {
     "data": {
      "text/latex": [
       "$\\displaystyle 0.02 t^{3} + 2.62 t^{2} + 44.0 t$"
      ],
      "text/plain": [
       "0.02*t**3 + 2.62*t**2 + 44.0*t"
      ]
     },
     "metadata": {},
     "output_type": "display_data"
    },
    {
     "name": "stdout",
     "output_type": "stream",
     "text": [
      "0.02*t**3 + 2.62*t**2 + 44.0*t\n"
     ]
    },
    {
     "data": {
      "text/latex": [
       "$\\displaystyle 0.03 t^{3} + 0.02 t^{2} - 0.439999999999998 t$"
      ],
      "text/plain": [
       "0.03*t**3 + 0.02*t**2 - 0.439999999999998*t"
      ]
     },
     "metadata": {},
     "output_type": "display_data"
    },
    {
     "name": "stdout",
     "output_type": "stream",
     "text": [
      "Violating constants: []\n",
      "Violating constants: []\n",
      "Violating constants: []\n",
      "Violating constants: []\n",
      "Violating constants: []\n",
      "Violating constants: []\n",
      "Violating constants: []\n",
      "Violating constants: []\n",
      "Violating constants: []\n",
      "Violating constants: []\n",
      "Violating constants: []\n",
      "Violating constants: []\n",
      "Violating constants: []\n",
      "Violating constants: []\n",
      "Violating constants: []\n",
      "Violating constants: []\n",
      "Violating constants: []\n",
      "Violating constants: []\n",
      "Violating constants: []\n",
      "Violating constants: [0.020833333333333332, -0.18999999999999773]\n"
     ]
    },
    {
     "data": {
      "text/latex": [
       "$\\displaystyle 0.0208333333333333 t^{3} + 2.25 t^{2} + 81.0 t$"
      ],
      "text/plain": [
       "0.0208333333333333*t**3 + 2.25*t**2 + 81.0*t"
      ]
     },
     "metadata": {},
     "output_type": "display_data"
    },
    {
     "data": {
      "text/latex": [
       "$\\displaystyle 2.24 t^{2} + 81.19 t$"
      ],
      "text/plain": [
       "2.24*t**2 + 81.19*t"
      ]
     },
     "metadata": {},
     "output_type": "display_data"
    },
    {
     "name": "stdout",
     "output_type": "stream",
     "text": [
      "2.24*t**2 + 81.19*t\n"
     ]
    },
    {
     "data": {
      "text/latex": [
       "$\\displaystyle 0.0208333333333333 t^{3} + 0.00999999999999979 t^{2} - 0.189999999999998 t$"
      ],
      "text/plain": [
       "0.0208333333333333*t**3 + 0.00999999999999979*t**2 - 0.189999999999998*t"
      ]
     },
     "metadata": {},
     "output_type": "display_data"
    },
    {
     "name": "stdout",
     "output_type": "stream",
     "text": [
      "Violating constants: []\n",
      "Violating constants: []\n",
      "Violating constants: []\n",
      "Violating constants: []\n",
      "Violating constants: []\n",
      "Violating constants: []\n",
      "Violating constants: []\n",
      "Violating constants: []\n",
      "Violating constants: [0.6999999999999993, -0.7799999999999976, 0.29000000000000004]\n"
     ]
    },
    {
     "data": {
      "text/latex": [
       "$\\displaystyle 15.19 t^{3} - 16.88 t^{2} + 6.25 t$"
      ],
      "text/plain": [
       "15.19*t**3 - 16.88*t**2 + 6.25*t"
      ]
     },
     "metadata": {},
     "output_type": "display_data"
    },
    {
     "data": {
      "text/latex": [
       "$\\displaystyle 14.49 t^{3} - 16.1 t^{2} + 5.96 t$"
      ],
      "text/plain": [
       "14.49*t**3 - 16.1*t**2 + 5.96*t"
      ]
     },
     "metadata": {},
     "output_type": "display_data"
    },
    {
     "name": "stdout",
     "output_type": "stream",
     "text": [
      "14.49*t**3 - 16.1*t**2 + 5.96*t\n"
     ]
    },
    {
     "data": {
      "text/latex": [
       "$\\displaystyle 0.699999999999999 t^{3} - 0.779999999999998 t^{2} + 0.29 t$"
      ],
      "text/plain": [
       "0.699999999999999*t**3 - 0.779999999999998*t**2 + 0.29*t"
      ]
     },
     "metadata": {},
     "output_type": "display_data"
    },
    {
     "name": "stdout",
     "output_type": "stream",
     "text": [
      "Violating constants: []\n",
      "Violating constants: []\n",
      "Violating constants: [-0.020000000000000018]\n"
     ]
    },
    {
     "data": {
      "text/latex": [
       "$\\displaystyle - 1.14 t^{2} + 1.14 t$"
      ],
      "text/plain": [
       "-1.14*t**2 + 1.14*t"
      ]
     },
     "metadata": {},
     "output_type": "display_data"
    },
    {
     "data": {
      "text/latex": [
       "$\\displaystyle - 1.14 t^{2} + 1.16 t - 0.01$"
      ],
      "text/plain": [
       "-1.14*t**2 + 1.16*t - 0.01"
      ]
     },
     "metadata": {},
     "output_type": "display_data"
    },
    {
     "name": "stdout",
     "output_type": "stream",
     "text": [
      "-1.14*t**2 + 1.16*t - 0.01\n"
     ]
    },
    {
     "data": {
      "text/latex": [
       "$\\displaystyle 0.01 - 0.02 t$"
      ],
      "text/plain": [
       "0.01 - 0.02*t"
      ]
     },
     "metadata": {},
     "output_type": "display_data"
    },
    {
     "name": "stdout",
     "output_type": "stream",
     "text": [
      "Violating constants: []\n",
      "Violating constants: []\n",
      "Violating constants: []\n",
      "Violating constants: []\n",
      "Violating constants: []\n",
      "Violating constants: []\n",
      "Violating constants: []\n",
      "Violating constants: []\n",
      "Violating constants: []\n",
      "Violating constants: []\n",
      "Violating constants: []\n",
      "Violating constants: []\n",
      "Violating constants: []\n",
      "Violating constants: []\n",
      "Violating constants: []\n",
      "Violating constants: []\n",
      "Violating constants: []\n",
      "Violating constants: []\n",
      "Violating constants: []\n",
      "Violating constants: []\n",
      "Violating constants: []\n",
      "Violating constants: []\n",
      "Violating constants: []\n",
      "Violating constants: []\n",
      "Violating constants: []\n",
      "Violating constants: []\n",
      "Violating constants: []\n",
      "Cannot get_coefficients_and_exponents\n",
      "-0.02*t**2*arctan(0.43) + 0.00999999999999979*t**2\n",
      "Violating constants: [2, 0.430000000000000, -0.0200000000000000]\n"
     ]
    },
    {
     "data": {
      "text/latex": [
       "$\\displaystyle - 4.3 t^{2}$"
      ],
      "text/plain": [
       "-4.3*t**2"
      ]
     },
     "metadata": {},
     "output_type": "display_data"
    },
    {
     "data": {
      "text/latex": [
       "$\\displaystyle 0.02 t^{2} \\arctan{\\left(0.43 \\right)} - 4.31 t^{2}$"
      ],
      "text/plain": [
       "0.02*t**2*arctan(0.43) - 4.31*t**2"
      ]
     },
     "metadata": {},
     "output_type": "display_data"
    },
    {
     "name": "stdout",
     "output_type": "stream",
     "text": [
      "0.02*t**2*arctan(0.43) - 4.31*t**2\n"
     ]
    },
    {
     "data": {
      "text/latex": [
       "$\\displaystyle - 0.02 t^{2} \\arctan{\\left(0.43 \\right)} + 0.00999999999999979 t^{2}$"
      ],
      "text/plain": [
       "-0.02*t**2*arctan(0.43) + 0.00999999999999979*t**2"
      ]
     },
     "metadata": {},
     "output_type": "display_data"
    },
    {
     "name": "stdout",
     "output_type": "stream",
     "text": [
      "Violating constants: []\n",
      "Violating constants: []\n",
      "Violating constants: []\n",
      "Violating constants: []\n",
      "Violating constants: []\n",
      "Violating constants: []\n",
      "Violating constants: []\n",
      "Violating constants: []\n",
      "Violating constants: []\n",
      "Violating constants: []\n",
      "Violating constants: []\n",
      "Violating constants: []\n",
      "Violating constants: []\n",
      "Violating constants: []\n",
      "Violating constants: []\n",
      "Violating constants: []\n",
      "Violating constants: []\n",
      "Violating constants: []\n",
      "Violating constants: []\n",
      "Violating constants: []\n",
      "Violating constants: []\n",
      "Violating constants: []\n",
      "Violating constants: []\n",
      "Violating constants: []\n",
      "Violating constants: []\n",
      "Violating constants: []\n",
      "Violating constants: []\n",
      "Violating constants: []\n",
      "Violating constants: []\n",
      "Violating constants: []\n",
      "Violating constants: []\n",
      "Violating constants: []\n",
      "Violating constants: []\n",
      "Violating constants: []\n",
      "Violating constants: []\n",
      "Violating constants: []\n",
      "Violating constants: []\n",
      "Violating constants: []\n",
      "Violating constants: []\n",
      "Violating constants: []\n",
      "Violating constants: [-0.03999999999999915]\n",
      "Violating constants: [0.033333333333333215]\n"
     ]
    },
    {
     "data": {
      "text/latex": [
       "$\\displaystyle 0.148148148148148 t^{3} + 1.33333333333333 t^{2} + 4.0 t$"
      ],
      "text/plain": [
       "0.148148148148148*t**3 + 1.33333333333333*t**2 + 4.0*t"
      ]
     },
     "metadata": {},
     "output_type": "display_data"
    },
    {
     "data": {
      "text/latex": [
       "$\\displaystyle 0.15 t^{3} + 1.3 t^{2} + 4.0 t$"
      ],
      "text/plain": [
       "0.15*t**3 + 1.3*t**2 + 4.0*t"
      ]
     },
     "metadata": {},
     "output_type": "display_data"
    },
    {
     "name": "stdout",
     "output_type": "stream",
     "text": [
      "0.15*t**3 + 1.3*t**2 + 4.0*t\n"
     ]
    },
    {
     "data": {
      "text/latex": [
       "$\\displaystyle - 0.00185185185185185 t^{3} + 0.0333333333333332 t^{2}$"
      ],
      "text/plain": [
       "-0.00185185185185185*t**3 + 0.0333333333333332*t**2"
      ]
     },
     "metadata": {},
     "output_type": "display_data"
    },
    {
     "name": "stdout",
     "output_type": "stream",
     "text": [
      "Violating constants: []\n",
      "Violating constants: []\n",
      "Violating constants: []\n",
      "Violating constants: []\n",
      "Violating constants: []\n",
      "Violating constants: []\n",
      "Violating constants: [0.020833333333333332, -0.25]\n"
     ]
    },
    {
     "data": {
      "text/latex": [
       "$\\displaystyle 0.0208333333333333 t^{3} + 1.75 t^{2} + 49.0 t$"
      ],
      "text/plain": [
       "0.0208333333333333*t**3 + 1.75*t**2 + 49.0*t"
      ]
     },
     "metadata": {},
     "output_type": "display_data"
    },
    {
     "data": {
      "text/latex": [
       "$\\displaystyle 1.74 t^{2} + 49.25 t$"
      ],
      "text/plain": [
       "1.74*t**2 + 49.25*t"
      ]
     },
     "metadata": {},
     "output_type": "display_data"
    },
    {
     "name": "stdout",
     "output_type": "stream",
     "text": [
      "1.74*t**2 + 49.25*t\n"
     ]
    },
    {
     "data": {
      "text/latex": [
       "$\\displaystyle 0.0208333333333333 t^{3} + 0.01 t^{2} - 0.25 t$"
      ],
      "text/plain": [
       "0.0208333333333333*t**3 + 0.01*t**2 - 0.25*t"
      ]
     },
     "metadata": {},
     "output_type": "display_data"
    },
    {
     "name": "stdout",
     "output_type": "stream",
     "text": [
      "Violating constants: []\n",
      "Violating constants: []\n",
      "Violating constants: []\n",
      "Violating constants: []\n",
      "Violating constants: []\n",
      "Violating constants: []\n",
      "Violating constants: []\n",
      "Violating constants: []\n",
      "Violating constants: []\n",
      "Violating constants: []\n",
      "Violating constants: []\n",
      "Violating constants: []\n",
      "Violating constants: []\n",
      "Violating constants: []\n",
      "Violating constants: []\n",
      "Violating constants: []\n",
      "Violating constants: []\n",
      "Violating constants: []\n",
      "Violating constants: []\n",
      "Violating constants: []\n",
      "Violating constants: []\n",
      "Violating constants: []\n",
      "Violating constants: []\n",
      "Violating constants: []\n",
      "Violating constants: []\n",
      "Violating constants: []\n",
      "Violating constants: []\n",
      "Violating constants: []\n",
      "Violating constants: []\n",
      "Violating constants: []\n",
      "Violating constants: []\n",
      "Violating constants: []\n",
      "Violating constants: []\n",
      "Violating constants: []\n",
      "Violating constants: []\n",
      "Violating constants: []\n",
      "Violating constants: []\n",
      "Violating constants: []\n",
      "Violating constants: []\n",
      "Violating constants: []\n",
      "Violating constants: []\n",
      "Violating constants: []\n",
      "Violating constants: []\n",
      "Violating constants: []\n",
      "Violating constants: []\n",
      "Violating constants: []\n",
      "Violating constants: []\n",
      "Violating constants: []\n",
      "Violating constants: []\n",
      "Violating constants: []\n",
      "Violating constants: []\n",
      "Violating constants: []\n",
      "Violating constants: []\n",
      "Violating constants: []\n",
      "Violating constants: []\n",
      "Violating constants: []\n",
      "Violating constants: [0.04, -0.28999999999999915]\n"
     ]
    },
    {
     "data": {
      "text/latex": [
       "$\\displaystyle 0.04 t^{3} - 2.56 t^{2} + 58.78 t$"
      ],
      "text/plain": [
       "0.04*t**3 - 2.56*t**2 + 58.78*t"
      ]
     },
     "metadata": {},
     "output_type": "display_data"
    },
    {
     "data": {
      "text/latex": [
       "$\\displaystyle - 2.55 t^{2} + 59.07 t$"
      ],
      "text/plain": [
       "-2.55*t**2 + 59.07*t"
      ]
     },
     "metadata": {},
     "output_type": "display_data"
    },
    {
     "name": "stdout",
     "output_type": "stream",
     "text": [
      "-2.55*t**2 + 59.07*t\n"
     ]
    },
    {
     "data": {
      "text/latex": [
       "$\\displaystyle 0.04 t^{3} - 0.0100000000000002 t^{2} - 0.289999999999999 t$"
      ],
      "text/plain": [
       "0.04*t**3 - 0.0100000000000002*t**2 - 0.289999999999999*t"
      ]
     },
     "metadata": {},
     "output_type": "display_data"
    },
    {
     "name": "stdout",
     "output_type": "stream",
     "text": [
      "Violating constants: []\n",
      "Violating constants: []\n",
      "Violating constants: []\n",
      "Violating constants: []\n",
      "Violating constants: []\n",
      "Violating constants: []\n",
      "Violating constants: []\n",
      "Violating constants: []\n",
      "Violating constants: []\n",
      "Violating constants: []\n",
      "Violating constants: []\n",
      "Violating constants: []\n",
      "Violating constants: []\n",
      "Violating constants: []\n",
      "Violating constants: []\n",
      "Violating constants: []\n",
      "Violating constants: []\n",
      "Violating constants: []\n",
      "Violating constants: []\n",
      "Violating constants: []\n",
      "Violating constants: []\n",
      "Violating constants: []\n",
      "Violating constants: []\n",
      "Violating constants: []\n",
      "Violating constants: []\n",
      "Violating constants: []\n",
      "Violating constants: []\n",
      "Violating constants: []\n",
      "Violating constants: []\n",
      "Violating constants: []\n",
      "Violating constants: []\n",
      "Violating constants: []\n",
      "Violating constants: []\n",
      "Violating constants: []\n",
      "Violating constants: []\n",
      "Violating constants: []\n",
      "Violating constants: []\n",
      "Violating constants: []\n",
      "Violating constants: []\n",
      "Violating constants: []\n",
      "Violating constants: []\n",
      "Violating constants: []\n",
      "Violating constants: []\n",
      "Violating constants: []\n",
      "Violating constants: []\n",
      "Violating constants: []\n",
      "Violating constants: []\n",
      "Violating constants: []\n",
      "Violating constants: []\n",
      "Violating constants: []\n",
      "Violating constants: []\n",
      "Violating constants: []\n",
      "Violating constants: []\n",
      "Violating constants: []\n",
      "Violating constants: []\n",
      "Violating constants: []\n",
      "Violating constants: []\n",
      "Violating constants: []\n",
      "Violating constants: []\n",
      "Violating constants: []\n",
      "Violating constants: []\n",
      "Violating constants: []\n",
      "Violating constants: [-0.06300000000000017, 0.052999999999999936]\n"
     ]
    }
   ],
   "source": [
    "from sympy import evalf, N\n",
    "from utils.utils import *\n",
    "\n",
    "\n",
    "# Check if f1 and f2 are almost equal.\n",
    "# Note: Relative error is defined based on f1. Please use the original expression as f1.\n",
    "def almost_equal(f1, f2, max_abs_error=0.011, max_relative_error=0.011, verbose=False):\n",
    "    expr = f1-f2\n",
    "    coeff_pairs = None\n",
    "    try:\n",
    "        coeff_pairs = get_coefficients_and_exponents(expr)\n",
    "    except:\n",
    "        print(\"Cannot get_coefficients_and_exponents\")\n",
    "        print(str(expr))\n",
    "    if coeff_pairs is None:\n",
    "        constants = get_all_constants(expr)\n",
    "    else:\n",
    "        constants = [p[0] for p in coeff_pairs]\n",
    "    # Check if all diffs are within max_abs_error\n",
    "    violators = [c for c in constants if c == sp.nan or abs(c) > max_abs_error]\n",
    "    if verbose:\n",
    "        print(\"Violating constants:\", violators)\n",
    "    if len(violators) == 0:\n",
    "        return True\n",
    "    # Check if all violating diffs are within max_relative_error\n",
    "    try:\n",
    "        coeffs1 = get_polynomial_coeffs(f1)\n",
    "        coeffs2 = get_polynomial_coeffs(f2)\n",
    "    except:\n",
    "        return False\n",
    "    for i in range(len(coeffs1)):\n",
    "        if abs(coeffs1[i] - coeffs2[i]) > max_abs_error and \\\n",
    "           abs(coeffs1[i] - coeffs2[i]) > max_relative_error*abs(coeffs1[i]):\n",
    "            return False\n",
    "    return True\n",
    "    \n",
    "\n",
    "fin = open(\"datasets/parametric_equations_integral_results.json\", \"r\")\n",
    "lines = fin.readlines()\n",
    "\n",
    "num_total, qualified_rounded, qualified_generated = 0, 0, 0\n",
    "for line in lines:\n",
    "    result = json.loads(line)\n",
    "    if \"diff_rounded\" not in result or \"diff_generated\" not in result:\n",
    "        continue\n",
    "    rounded_integral = N(sympify(result[\"rounded_integral\"]))\n",
    "    rounded_regressed = N(sympify(result[\"rounded_regressed\"]))\n",
    "    try:\n",
    "        rounded_regressed = filter_non_polynomial(rounded_regressed)\n",
    "    except:\n",
    "        print(\"Cannot filter non-polynomials on\", str(rounded_regressed))\n",
    "    #generated_regressed = N(sympify(result[\"generated_regressed\"]))\n",
    "    diff_rounded = rounded_integral - rounded_regressed\n",
    "    #diff_generated = sympify(result[\"diff_generated\"])\n",
    "    num_total += 1\n",
    "    if almost_equal(rounded_integral, rounded_regressed, verbose=True):\n",
    "        qualified_rounded += 1\n",
    "    else:\n",
    "        display(rounded_integral)\n",
    "        display(rounded_regressed)\n",
    "        print(rounded_regressed)\n",
    "        display(diff_rounded)\n",
    "#     if is_close_to_zero(diff_generated, True):\n",
    "#         qualified_generated += 1\n",
    "    \n",
    "fin.close()\n",
    "\n",
    "print(num_total, qualified_rounded, qualified_generated)"
   ]
  },
  {
   "cell_type": "code",
   "execution_count": null,
   "id": "b3b347d9",
   "metadata": {},
   "outputs": [],
   "source": [
    "from sympy import evalf, N\n",
    "f = sympify(\"-1.17*t**3 - 2*t**2/3 + 7.66*t + 0.15\") #2*t/(0.29*t + 44.02)\")\n",
    "\n",
    "variables = list(f.free_symbols)\n",
    "t = variables[0]\n",
    "\n",
    "#(x,x.is_constant())\n",
    "#print([[x for x in term.as_coeff_exponent(t)] for term in f.as_ordered_terms()])\n",
    "    \n",
    "\n",
    "g = filter_non_polynomial(f)\n",
    "get_polynomial_coeffs(g)\n",
    "\n"
   ]
  },
  {
   "cell_type": "code",
   "execution_count": null,
   "id": "17907833",
   "metadata": {},
   "outputs": [],
   "source": [
    "f=sympify(\"0.55*t**3 + 1.46*t**2*arctan(75.4) - 21.56*t**2 + 0.96*t*arctan(75.4)**2 - 28.5*t*arctan(75.4) + 267.05*t\")\n",
    "sympify(\"sin(75.4)\")"
   ]
  }
 ],
 "metadata": {
  "kernelspec": {
   "display_name": "symbolic",
   "language": "python",
   "name": "symbolic"
  },
  "language_info": {
   "codemirror_mode": {
    "name": "ipython",
    "version": 3
   },
   "file_extension": ".py",
   "mimetype": "text/x-python",
   "name": "python",
   "nbconvert_exporter": "python",
   "pygments_lexer": "ipython3",
   "version": "3.10.13"
  }
 },
 "nbformat": 4,
 "nbformat_minor": 5
}
