{
 "cells": [
  {
   "cell_type": "code",
   "execution_count": 1,
   "id": "a100224e",
   "metadata": {},
   "outputs": [],
   "source": [
    "import copy\n",
    "import numpy as np\n",
    "from sympy import Symbol, lambdify\n",
    "from sympy.plotting import plot\n",
    "\n",
    "class PartialDerivativeCalculator:\n",
    "    \n",
    "    # Example: Vibrating strings problem\n",
    "    # y = f(x1, x2), where x1 is time, and x2 is the horizontal position\n",
    "    # self.data is a 2D array that records the y value for each x1 and x2,\n",
    "    #   with first dim being x1 and second dim being x2\n",
    "    # self.axes_values contains the values of x1 and x2\n",
    "    def __init__(self, shape):\n",
    "        assert len(shape) <= 3\n",
    "        self.shape = shape\n",
    "        self.data = np.zeros(shape)\n",
    "        self.axes_values = [None]*len(shape)\n",
    "        for i in range(len(shape)):\n",
    "            self.axes_values[i] = np.zeros(shape[i])\n",
    "            \n",
    "    def setAxisValues(self, i, axis_values):\n",
    "        self.axes_values[i] = axis_values\n",
    "        \n",
    "    def setData(self, data):\n",
    "        self.data = data\n",
    "    \n",
    "    # x1 and x2 are sympy Symbols, and f is an expression\n",
    "    def setDataBySympyExpr2D(self, x1, x2, expr):\n",
    "        x1s = self.axes_values[0]\n",
    "        x2s = self.axes_values[1]\n",
    "        f = lambdify((x1, x2), expr, \"numpy\")\n",
    "        for i in range(len(x1s)):\n",
    "            ys = f(x1s[i],x2s)\n",
    "            self.updateRow2D(i, ys)\n",
    "        \n",
    "    def updateRow2D(self, i, values):\n",
    "        self.data[i] = values\n",
    "        \n",
    "    def updateRow3D(self, i1, i2, values):\n",
    "        self.data[i1,i2,:] = values\n",
    "    \n",
    "    def updateRow4D(self, i1, i2, i3, values):\n",
    "        self.data[i1,i2,i3,:] = values\n",
    "        \n",
    "    def partialDerivative(self, iDim, padding=True):\n",
    "        if iDim == 0:\n",
    "            axis_delta = self.axes_values[iDim][1:] - self.axes_values[iDim][0:-1]\n",
    "            value_delta = self.data[1:] - self.data[0:-1]\n",
    "            if len(self.shape) == 3:\n",
    "                axis_delta = np.broadcast_to(axis_delta[:, np.newaxis, np.newaxis], value_delta.shape)\n",
    "            elif len(self.shape) == 2:\n",
    "                axis_delta = np.broadcast_to(axis_delta[:, np.newaxis], value_delta.shape)\n",
    "            else:\n",
    "                assert False, \"Only supporting 2D and 3D\"\n",
    "            derivative = value_delta / axis_delta\n",
    "            if padding:\n",
    "                derivative = np.concatenate([derivative, [derivative[-1]]], axis=0)\n",
    "            return derivative\n",
    "        elif iDim == 1:\n",
    "            axis_delta = self.axes_values[iDim][1:] - self.axes_values[iDim][0:-1]\n",
    "            if len(self.shape) == 3:\n",
    "                value_delta = self.data[:,1:,:] - self.data[:,0:-1,:]\n",
    "                axis_delta = np.broadcast_to(axis_delta[np.newaxis, :, np.newaxis], value_delta.shape)\n",
    "            elif len(self.shape) == 2:\n",
    "                value_delta = self.data[:,1:] - self.data[:,0:-1]\n",
    "                axis_delta = np.broadcast_to(axis_delta[np.newaxis, :], value_delta.shape)\n",
    "            else:\n",
    "                assert False, \"Only supporting 2D and 3D\"\n",
    "            derivative = value_delta / axis_delta\n",
    "            if padding:\n",
    "                if len(self.shape) == 3:\n",
    "                    derivative = np.concatenate([derivative, derivative[:,-1:,:]], axis=1)\n",
    "                elif len(self.shape) == 2:\n",
    "                    derivative = np.concatenate([derivative, derivative[:,-1:]], axis=1)\n",
    "            return derivative\n",
    "        elif iDim == 2:\n",
    "            axis_delta = self.axes_values[iDim][1:] - self.axes_values[iDim][0:-1]\n",
    "            value_delta = self.data[:,:,1:] - self.data[:,:,0:-1]\n",
    "            axis_delta = np.broadcast_to(axis_delta[np.newaxis, np.newaxis, :], value_delta.shape)\n",
    "            derivative = value_delta / axis_delta\n",
    "            if padding:\n",
    "                derivative = np.concatenate([derivative, derivative[:,:,-1:]], axis=2)\n",
    "            return derivative\n",
    "        return None"
   ]
  },
  {
   "cell_type": "code",
   "execution_count": 12,
   "id": "e9119764",
   "metadata": {},
   "outputs": [
    {
     "name": "stdout",
     "output_type": "stream",
     "text": [
      "np.allclose(expected,pdc.partialDerivative(0)) True\n",
      "np.allclose(expected,pdc.partialDerivative(1)) True\n",
      "np.allclose(expected,pdc.partialDerivative(0)) True\n",
      "np.allclose(expected,pdc.partialDerivative(1)) True\n",
      "np.allclose(expected,pdc.partialDerivative(2)) True\n",
      "Second partial derivative along x1 True\n",
      "Second partial derivative along x2 True\n",
      "Second partial derivative along x1 then x2 True\n"
     ]
    }
   ],
   "source": [
    "if __name__ == '__main__':\n",
    "    # Test 0: Partial derivative along axis 0 or 1 on 2D array\n",
    "    pdc = PartialDerivativeCalculator((3,4))\n",
    "    pdc.setAxisValues(0, np.array([0, 0.1, 0.3]))\n",
    "    pdc.setAxisValues(1, np.array([0, 0.2, 0.4, 0.6]))\n",
    "    pdc.updateRow2D(1,np.array(list(range(4))))\n",
    "    expected = np.array(\n",
    "        [[0., 10., 20., 30.],\n",
    "         [0., -5., -10., -15.],\n",
    "         [0., -5., -10., -15.]]\n",
    "    )\n",
    "    print(\"np.allclose(expected,pdc.partialDerivative(0))\", \n",
    "          np.allclose(expected,pdc.partialDerivative(0)))\n",
    "    assert np.allclose(expected,pdc.partialDerivative(0)), \"pdc.partialDerivative(0) not as expected\"\n",
    "    expected = np.array(\n",
    "        [[0., 0., 0., 0.],\n",
    "         [5., 5., 5., 5.],\n",
    "         [0., 0., 0., 0.]]\n",
    "    )\n",
    "    print(\"np.allclose(expected,pdc.partialDerivative(1))\", \n",
    "          np.allclose(expected,pdc.partialDerivative(1)))\n",
    "    assert np.allclose(expected,pdc.partialDerivative(1)), \"pdc.partialDerivative(1) not as expected\"\n",
    "    \n",
    "    # Test 1: Partial derivative along axis 0\n",
    "    pdc = PartialDerivativeCalculator((3,4,5))\n",
    "    pdc.setAxisValues(0, np.array([0, 0.1, 0.3]))\n",
    "    pdc.setAxisValues(1, np.array([0, 0.2, 0.4, 0.6]))\n",
    "    pdc.setAxisValues(2, np.array(list(range(5))))\n",
    "    pdc.updateRow3D(1,2,np.ones(5))\n",
    "    expected = np.array(\n",
    "        [[[ 0.,  0.,  0.,  0.,  0.],\n",
    "          [ 0.,  0.,  0.,  0.,  0.],\n",
    "          [10., 10., 10., 10., 10.],\n",
    "          [ 0.,  0.,  0.,  0.,  0.]],\n",
    "         [[ 0.,  0.,  0.,  0.,  0.],\n",
    "          [ 0.,  0.,  0.,  0.,  0.],\n",
    "          [-5., -5., -5., -5., -5.],\n",
    "          [ 0.,  0.,  0.,  0.,  0.]],\n",
    "         [[ 0.,  0.,  0.,  0.,  0.],\n",
    "          [ 0.,  0.,  0.,  0.,  0.],\n",
    "          [-5., -5., -5., -5., -5.],\n",
    "          [ 0.,  0.,  0.,  0.,  0.]]])\n",
    "    print(\"np.allclose(expected,pdc.partialDerivative(0))\", \n",
    "          np.allclose(expected,pdc.partialDerivative(0)))\n",
    "    assert np.allclose(expected,pdc.partialDerivative(0)), \"pdc.partialDerivative(0) not as expected\"\n",
    "    \n",
    "    # Test 2: Partial derivative along axis 1\n",
    "    pdc = PartialDerivativeCalculator((3,4,5))\n",
    "    pdc.setAxisValues(0, np.array([0, 0.1, 0.3]))\n",
    "    pdc.setAxisValues(1, np.array([0, 0.3, 0.5, 0.6]))\n",
    "    pdc.setAxisValues(2, np.array(list(range(5))))\n",
    "    pdc.updateRow3D(1,2,np.ones(5))\n",
    "    expected = np.array(\n",
    "      [[[  0.,   0.,   0.,   0.,   0.],\n",
    "        [  0.,   0.,   0.,   0.,   0.],\n",
    "        [  0.,   0.,   0.,   0.,   0.],\n",
    "        [  0.,   0.,   0.,   0.,   0.]],\n",
    "\n",
    "       [[  0.,   0.,   0.,   0.,   0.],\n",
    "        [  5.,   5.,   5.,   5.,   5.],\n",
    "        [-10., -10., -10., -10., -10.],\n",
    "        [-10., -10., -10., -10., -10.]],\n",
    "\n",
    "       [[  0.,   0.,   0.,   0.,   0.],\n",
    "        [  0.,   0.,   0.,   0.,   0.],\n",
    "        [  0.,   0.,   0.,   0.,   0.],\n",
    "        [  0.,   0.,   0.,   0.,   0.]]])\n",
    "    print(\"np.allclose(expected,pdc.partialDerivative(1))\", \n",
    "          np.allclose(expected,pdc.partialDerivative(1)))\n",
    "    assert np.allclose(expected,pdc.partialDerivative(1)), \"pdc.partialDerivative(1) not as expected\"\n",
    "    \n",
    "    # Test 3: Partial derivative along axis 2\n",
    "    pdc = PartialDerivativeCalculator((3,4,5))\n",
    "    pdc.setAxisValues(0, np.array([0, 0.1, 0.3]))\n",
    "    pdc.setAxisValues(1, np.array([0, 0.3, 0.5, 0.6]))\n",
    "    pdc.setAxisValues(2, 0.1*np.array(list(range(5))))\n",
    "    pdc.updateRow3D(2,2,np.asarray(range(5)))\n",
    "    expected = np.array(\n",
    "      [[[ 0.,  0.,  0.,  0.,  0.],\n",
    "        [ 0.,  0.,  0.,  0.,  0.],\n",
    "        [ 0.,  0.,  0.,  0.,  0.],\n",
    "        [ 0.,  0.,  0.,  0.,  0.]],\n",
    "\n",
    "       [[ 0.,  0.,  0.,  0.,  0.],\n",
    "        [ 0.,  0.,  0.,  0.,  0.],\n",
    "        [ 0.,  0.,  0.,  0.,  0.],\n",
    "        [ 0.,  0.,  0.,  0.,  0.]],\n",
    "\n",
    "       [[ 0.,  0.,  0.,  0.,  0.],\n",
    "        [ 0.,  0.,  0.,  0.,  0.],\n",
    "        [10., 10., 10., 10., 10.],\n",
    "        [ 0.,  0.,  0.,  0.,  0.]]])\n",
    "    print(\"np.allclose(expected,pdc.partialDerivative(2))\", \n",
    "          np.allclose(expected,pdc.partialDerivative(2)))\n",
    "    assert np.allclose(expected,pdc.partialDerivative(2)), \"pdc.partialDerivative(2) not as expected\"\n",
    "    \n",
    "    # Test 4: Second partial derivative along two axes\n",
    "    pdc = PartialDerivativeCalculator((11, 11))\n",
    "    pdc.setAxisValues(0, np.arange(0, 1.01, 0.1))\n",
    "    pdc.setAxisValues(1, np.arange(0, 2.01, 0.2))\n",
    "    x1 = Symbol('x1')\n",
    "    x2 = Symbol('x2')\n",
    "    y = x1*x1 + 0.1*x2*x2\n",
    "    pdc.setDataBySympyExpr2D(x1, x2, y)\n",
    "    pdc1 = copy.deepcopy(pdc)\n",
    "    pdc1.setData(pdc.partialDerivative(0))\n",
    "    result = pdc1.partialDerivative(0)[0:-2]\n",
    "    expected = np.ones((9,11))*2\n",
    "    print(\"Second partial derivative along x1\", np.allclose(expected,result))\n",
    "    assert np.allclose(expected,result), \"Second partial derivative along x1 not as expected\"\n",
    "    pdc2 = copy.deepcopy(pdc)\n",
    "    pdc2.setData(pdc.partialDerivative(1))\n",
    "    result = pdc2.partialDerivative(1)[:,0:-2]\n",
    "    expected = np.ones((11,9))*0.2\n",
    "    print(\"Second partial derivative along x2\", np.allclose(expected,result))\n",
    "    assert np.allclose(expected,result), \"Second partial derivative along x2 not as expected\"\n",
    "    pdc3 = copy.deepcopy(pdc)\n",
    "    pdc3.setData(pdc.partialDerivative(0))\n",
    "    result = pdc3.partialDerivative(1)[0:-1:,0:-1]\n",
    "    expected = np.zeros((10,10))\n",
    "    print(\"Second partial derivative along x1 then x2\", np.allclose(expected,result))\n",
    "    assert np.allclose(expected,result), \"Second partial derivative along x1 then x2 not as expected\""
   ]
  },
  {
   "cell_type": "code",
   "execution_count": 13,
   "id": "c2e74e84",
   "metadata": {},
   "outputs": [
    {
     "name": "stdout",
     "output_type": "stream",
     "text": [
      "[array([0. , 0.1, 0.2, 0.3, 0.4, 0.5, 0.6, 0.7, 0.8, 0.9, 1. ]), array([0. , 0.2, 0.4, 0.6, 0.8, 1. , 1.2, 1.4, 1.6, 1.8, 2. ])]\n",
      "[[0.    0.004 0.016 0.036 0.064 0.1   0.144 0.196 0.256 0.324 0.4  ]\n",
      " [0.01  0.014 0.026 0.046 0.074 0.11  0.154 0.206 0.266 0.334 0.41 ]\n",
      " [0.04  0.044 0.056 0.076 0.104 0.14  0.184 0.236 0.296 0.364 0.44 ]\n",
      " [0.09  0.094 0.106 0.126 0.154 0.19  0.234 0.286 0.346 0.414 0.49 ]\n",
      " [0.16  0.164 0.176 0.196 0.224 0.26  0.304 0.356 0.416 0.484 0.56 ]\n",
      " [0.25  0.254 0.266 0.286 0.314 0.35  0.394 0.446 0.506 0.574 0.65 ]\n",
      " [0.36  0.364 0.376 0.396 0.424 0.46  0.504 0.556 0.616 0.684 0.76 ]\n",
      " [0.49  0.494 0.506 0.526 0.554 0.59  0.634 0.686 0.746 0.814 0.89 ]\n",
      " [0.64  0.644 0.656 0.676 0.704 0.74  0.784 0.836 0.896 0.964 1.04 ]\n",
      " [0.81  0.814 0.826 0.846 0.874 0.91  0.954 1.006 1.066 1.134 1.21 ]\n",
      " [1.    1.004 1.016 1.036 1.064 1.1   1.144 1.196 1.256 1.324 1.4  ]]\n",
      "[array([0. , 0.1, 0.2, 0.3, 0.4, 0.5, 0.6, 0.7, 0.8, 0.9, 1. ]), array([0. , 0.2, 0.4, 0.6, 0.8, 1. , 1.2, 1.4, 1.6, 1.8, 2. ])]\n",
      "[array([0. , 0.2, 0.4, 0.6, 0.8, 1. , 1.2, 1.4, 1.6, 1.8, 2. ]), array([0. , 0.2, 0.4, 0.6, 0.8, 1. , 1.2, 1.4, 1.6, 1.8, 2. ])]\n"
     ]
    }
   ],
   "source": [
    "import copy\n",
    "\n",
    "print(pdc.axes_values)\n",
    "print(pdc.data)\n",
    "pdc1 = copy.deepcopy(pdc)\n",
    "pdc1.setAxisValues(0, np.array([0. , 0.2, 0.4, 0.6, 0.8, 1. , 1.2, 1.4, 1.6, 1.8, 2. ]))\n",
    "print(pdc.axes_values)\n",
    "print(pdc1.axes_values)"
   ]
  },
  {
   "cell_type": "code",
   "execution_count": 5,
   "id": "05ec4aee",
   "metadata": {},
   "outputs": [
    {
     "data": {
      "text/plain": [
       "array([0. , 0.1, 0.2, 0.3, 0.4, 0.5, 0.6, 0.7, 0.8, 0.9, 1. ])"
      ]
     },
     "execution_count": 5,
     "metadata": {},
     "output_type": "execute_result"
    }
   ],
   "source": [
    "np.arange(0, 1.01, 0.1)"
   ]
  },
  {
   "cell_type": "code",
   "execution_count": 8,
   "id": "0e49f28b",
   "metadata": {},
   "outputs": [
    {
     "name": "stderr",
     "output_type": "stream",
     "text": [
      "1010it [01:21, 10.17it/s]                                                                                                                                                                                                                                          "
     ]
    }
   ],
   "source": [
    "# coding: utf-8\n",
    "\"\"\"Solving the vibrating string in Python with FEniCS\n",
    "Author: Juan Luis Cano Rodríguez <juanlu@pybonacci.org>\n",
    "References\n",
    "----------\n",
    "* Zachmanoglou, E. C., and Dale W. Thoe. \"Introduction to Partial Differential\n",
    "  Equations with Applications\". New York: Dover Publications, 1986.\n",
    "\"\"\"\n",
    "import numpy as np\n",
    "from numpy import cos, sin, pi\n",
    "\n",
    "from tqdm import tqdm\n",
    "from matplotlib import pyplot as plt \n",
    "\n",
    "def u(x, t0, L, a, prec=1e-7):\n",
    "    x = np.asarray(x)\n",
    "    uu = np.zeros_like(x)\n",
    "    nn = 0\n",
    "    while True:\n",
    "        uu_ = ((-1) ** nn *\n",
    "               sin((2 * nn + 1) * pi * x / L) *\n",
    "               cos((2 * nn + 1) * pi * t0 / L) /\n",
    "               (2 * nn + 1) ** 2)\n",
    "        uu += uu_\n",
    "        if np.all(np.abs(uu_ / a) < prec):\n",
    "            break\n",
    "        nn += 1\n",
    "    uu *= 8 * a / pi**2\n",
    "    return uu\n",
    "\n",
    "\n",
    "L = 1.0  # m\n",
    "a = 0.05  # m\n",
    "x0 = 0.0\n",
    "t0 = 0.0  # s\n",
    "T = 1.0 # s\n",
    "xs = np.linspace(x0, L, num=1001)\n",
    "ts = np.linspace(t0, T, num=1001)\n",
    "\n",
    "pdc = PartialDerivativeCalculator((len(ts), len(xs)))\n",
    "pdc.setAxisValues(0, ts)\n",
    "pdc.setAxisValues(1, xs)\n",
    "\n",
    "pbar = tqdm(total=1001)\n",
    "for i in range(len(ts)):\n",
    "    ys = u(xs, ts[i], L, a, prec=1e-9)\n",
    "    pdc.updateRow2D(i,ys)\n",
    "    if i % 10 == 0:\n",
    "        pbar.update(10)\n"
   ]
  },
  {
   "cell_type": "code",
   "execution_count": 6,
   "id": "f90fe1b0",
   "metadata": {},
   "outputs": [
    {
     "data": {
      "text/plain": [
       "(1001, 1001)"
      ]
     },
     "execution_count": 6,
     "metadata": {},
     "output_type": "execute_result"
    },
    {
     "name": "stderr",
     "output_type": "stream",
     "text": [
      "\r",
      "1010it [01:40, 10.20it/s]"
     ]
    }
   ],
   "source": [
    "pdc.partialDerivative(0).shape"
   ]
  },
  {
   "cell_type": "code",
   "execution_count": 9,
   "id": "c884cbf2",
   "metadata": {},
   "outputs": [
    {
     "data": {
      "text/plain": [
       "array([[ 0.00000000e+00,  9.81912468e-07, -4.76894782e-07, ...,\n",
       "        -4.76893373e-07,  9.81911641e-07, -5.97118869e-14],\n",
       "       [ 0.00000000e+00,  1.91932390e-06,  3.31915956e-06, ...,\n",
       "         3.31915848e-06,  1.91932424e-06, -7.83151021e-14],\n",
       "       [ 0.00000000e+00, -6.24011108e-03, -1.15296294e-02, ...,\n",
       "        -1.15296294e-02, -6.24011108e-03,  4.86886260e-13],\n",
       "       ...,\n",
       "       [ 0.00000000e+00, -9.81910530e-07,  4.76893183e-07, ...,\n",
       "         4.76892153e-07, -9.81910950e-07,  5.97118869e-14],\n",
       "       [ 0.00000000e+00,  0.00000000e+00,  0.00000000e+00, ...,\n",
       "         0.00000000e+00,  0.00000000e+00,  0.00000000e+00],\n",
       "       [ 0.00000000e+00,  0.00000000e+00,  0.00000000e+00, ...,\n",
       "         0.00000000e+00,  0.00000000e+00,  0.00000000e+00]])"
      ]
     },
     "execution_count": 9,
     "metadata": {},
     "output_type": "execute_result"
    }
   ],
   "source": [
    "pdc_t = PartialDerivativeCalculator((len(ts), len(xs)))\n",
    "pdc_t.setAxisValues(0, ts)\n",
    "pdc_t.setAxisValues(1, xs)\n",
    "pdc_t.setData(pdc.partialDerivative(0))\n",
    "pdc_t.partialDerivative(0)"
   ]
  },
  {
   "cell_type": "code",
   "execution_count": 10,
   "id": "4b6dc258",
   "metadata": {},
   "outputs": [
    {
     "data": {
      "text/plain": [
       "array([[-2.43451106e-06,  1.15149636e-06,  1.88996055e-06, ...,\n",
       "        -2.43450005e-06,  0.00000000e+00,  0.00000000e+00],\n",
       "       [ 5.12326293e-09, -1.10761261e-08, -5.12341558e-09, ...,\n",
       "         5.13283860e-09,  0.00000000e+00,  0.00000000e+00],\n",
       "       [ 4.03786726e-09,  5.08060261e-09, -2.64849809e-08, ...,\n",
       "         4.04901113e-09,  0.00000000e+00,  0.00000000e+00],\n",
       "       ...,\n",
       "       [-4.03807543e-09, -5.08010300e-09,  2.64827188e-08, ...,\n",
       "        -4.04933032e-09,  0.00000000e+00,  0.00000000e+00],\n",
       "       [-5.12064002e-09,  1.10735449e-08,  5.12288822e-09, ...,\n",
       "        -5.13170062e-09,  0.00000000e+00,  0.00000000e+00],\n",
       "       [ 2.43451106e-06, -1.15149636e-06, -1.88996055e-06, ...,\n",
       "         2.43450005e-06,  0.00000000e+00,  0.00000000e+00]])"
      ]
     },
     "execution_count": 10,
     "metadata": {},
     "output_type": "execute_result"
    },
    {
     "name": "stderr",
     "output_type": "stream",
     "text": [
      "\r",
      "1010it [01:40, 10.17it/s]"
     ]
    }
   ],
   "source": [
    "pdc_x = PartialDerivativeCalculator((len(ts), len(xs)))\n",
    "pdc_x.setAxisValues(0, ts)\n",
    "pdc_x.setAxisValues(1, xs)\n",
    "pdc_x.setData(pdc.partialDerivative(1))\n",
    "pdc_x.partialDerivative(1)"
   ]
  },
  {
   "cell_type": "code",
   "execution_count": 12,
   "id": "60c27d29",
   "metadata": {},
   "outputs": [
    {
     "name": "stderr",
     "output_type": "stream",
     "text": [
      "/home/mcwave/anaconda3/envs/symbolic/lib/python3.7/site-packages/ipykernel_launcher.py:1: RuntimeWarning: divide by zero encountered in true_divide\n",
      "  \"\"\"Entry point for launching an IPython kernel.\n",
      "/home/mcwave/anaconda3/envs/symbolic/lib/python3.7/site-packages/ipykernel_launcher.py:1: RuntimeWarning: invalid value encountered in true_divide\n",
      "  \"\"\"Entry point for launching an IPython kernel.\n"
     ]
    },
    {
     "data": {
      "text/plain": [
       "array([[-0.00000000e+00,  8.52727377e-01, -2.52330549e-01, ...,\n",
       "         1.95889654e-01,             inf,            -inf],\n",
       "       [ 0.00000000e+00, -1.73284764e+02, -6.47841174e+02, ...,\n",
       "         6.46651636e+02,             inf,            -inf],\n",
       "       [ 0.00000000e+00, -1.22822263e+06,  4.35327082e+05, ...,\n",
       "        -2.84751735e+06,            -inf,             inf],\n",
       "       ...,\n",
       "       [-0.00000000e+00,  1.93285555e+02,  1.80077124e+01, ...,\n",
       "        -1.17770623e+02,            -inf,             inf],\n",
       "       [-0.00000000e+00,  0.00000000e+00,  0.00000000e+00, ...,\n",
       "        -0.00000000e+00,             nan,             nan],\n",
       "       [ 0.00000000e+00, -0.00000000e+00, -0.00000000e+00, ...,\n",
       "         0.00000000e+00,             nan,             nan]])"
      ]
     },
     "execution_count": 12,
     "metadata": {},
     "output_type": "execute_result"
    }
   ],
   "source": [
    "pdc_t.partialDerivative(0) / pdc_x.partialDerivative(1)"
   ]
  }
 ],
 "metadata": {
  "kernelspec": {
   "display_name": "symbolic",
   "language": "python",
   "name": "symbolic"
  },
  "language_info": {
   "codemirror_mode": {
    "name": "ipython",
    "version": 3
   },
   "file_extension": ".py",
   "mimetype": "text/x-python",
   "name": "python",
   "nbconvert_exporter": "python",
   "pygments_lexer": "ipython3",
   "version": "3.7.12"
  }
 },
 "nbformat": 4,
 "nbformat_minor": 5
}
