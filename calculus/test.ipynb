{
 "cells": [
  {
   "cell_type": "code",
   "execution_count": 10,
   "id": "f65f2e4a",
   "metadata": {},
   "outputs": [
    {
     "name": "stdout",
     "output_type": "stream",
     "text": [
      "Function= t\n"
     ]
    },
    {
     "data": {
      "text/latex": [
       "$\\displaystyle t$"
      ],
      "text/plain": [
       "t"
      ]
     },
     "metadata": {},
     "output_type": "display_data"
    },
    {
     "data": {
      "text/latex": [
       "$\\displaystyle \\begin{cases} \\frac{1}{s^{2}} & \\text{for}\\: \\left|{\\arg{\\left(s \\right)}}\\right| < \\frac{\\pi}{2} \\\\\\int\\limits_{0}^{\\infty} t e^{- s t}\\, dt & \\text{otherwise} \\end{cases}$"
      ],
      "text/plain": [
       "Piecewise((s**(-2), Abs(arg(s)) < pi/2), (Integral(t*exp(-s*t), (t, 0, oo)), True))"
      ]
     },
     "metadata": {},
     "output_type": "display_data"
    },
    {
     "name": "stdout",
     "output_type": "stream",
     "text": [
      "Function= t**2\n"
     ]
    },
    {
     "data": {
      "text/latex": [
       "$\\displaystyle t^{2}$"
      ],
      "text/plain": [
       "t**2"
      ]
     },
     "metadata": {},
     "output_type": "display_data"
    },
    {
     "data": {
      "text/latex": [
       "$\\displaystyle \\begin{cases} \\frac{2}{s^{3}} & \\text{for}\\: \\left|{\\arg{\\left(s \\right)}}\\right| < \\frac{\\pi}{2} \\\\\\int\\limits_{0}^{\\infty} t^{2} e^{- s t}\\, dt & \\text{otherwise} \\end{cases}$"
      ],
      "text/plain": [
       "Piecewise((2/s**3, Abs(arg(s)) < pi/2), (Integral(t**2*exp(-s*t), (t, 0, oo)), True))"
      ]
     },
     "metadata": {},
     "output_type": "display_data"
    },
    {
     "name": "stdout",
     "output_type": "stream",
     "text": [
      "Function= t**3\n"
     ]
    },
    {
     "data": {
      "text/latex": [
       "$\\displaystyle t^{3}$"
      ],
      "text/plain": [
       "t**3"
      ]
     },
     "metadata": {},
     "output_type": "display_data"
    },
    {
     "data": {
      "text/latex": [
       "$\\displaystyle \\begin{cases} \\frac{6}{s^{4}} & \\text{for}\\: \\left|{\\arg{\\left(s \\right)}}\\right| < \\frac{\\pi}{2} \\\\\\int\\limits_{0}^{\\infty} t^{3} e^{- s t}\\, dt & \\text{otherwise} \\end{cases}$"
      ],
      "text/plain": [
       "Piecewise((6/s**4, Abs(arg(s)) < pi/2), (Integral(t**3*exp(-s*t), (t, 0, oo)), True))"
      ]
     },
     "metadata": {},
     "output_type": "display_data"
    },
    {
     "name": "stdout",
     "output_type": "stream",
     "text": [
      "Function= t**4\n"
     ]
    },
    {
     "data": {
      "text/latex": [
       "$\\displaystyle t^{4}$"
      ],
      "text/plain": [
       "t**4"
      ]
     },
     "metadata": {},
     "output_type": "display_data"
    },
    {
     "data": {
      "text/latex": [
       "$\\displaystyle \\begin{cases} \\frac{24}{s^{5}} & \\text{for}\\: \\left|{\\arg{\\left(s \\right)}}\\right| < \\frac{\\pi}{2} \\\\\\int\\limits_{0}^{\\infty} t^{4} e^{- s t}\\, dt & \\text{otherwise} \\end{cases}$"
      ],
      "text/plain": [
       "Piecewise((24/s**5, Abs(arg(s)) < pi/2), (Integral(t**4*exp(-s*t), (t, 0, oo)), True))"
      ]
     },
     "metadata": {},
     "output_type": "display_data"
    },
    {
     "name": "stdout",
     "output_type": "stream",
     "text": [
      "Function= sqrt(t)\n"
     ]
    },
    {
     "data": {
      "text/latex": [
       "$\\displaystyle \\sqrt{t}$"
      ],
      "text/plain": [
       "sqrt(t)"
      ]
     },
     "metadata": {},
     "output_type": "display_data"
    },
    {
     "data": {
      "text/latex": [
       "$\\displaystyle \\begin{cases} \\frac{\\sqrt{\\pi}}{2 s^{\\frac{3}{2}}} & \\text{for}\\: \\left|{\\arg{\\left(s \\right)}}\\right| < \\frac{\\pi}{2} \\\\\\int\\limits_{0}^{\\infty} \\sqrt{t} e^{- s t}\\, dt & \\text{otherwise} \\end{cases}$"
      ],
      "text/plain": [
       "Piecewise((sqrt(pi)/(2*s**(3/2)), Abs(arg(s)) < pi/2), (Integral(sqrt(t)*exp(-s*t), (t, 0, oo)), True))"
      ]
     },
     "metadata": {},
     "output_type": "display_data"
    },
    {
     "name": "stdout",
     "output_type": "stream",
     "text": [
      "Function= exp(t)\n"
     ]
    },
    {
     "data": {
      "text/latex": [
       "$\\displaystyle e^{t}$"
      ],
      "text/plain": [
       "exp(t)"
      ]
     },
     "metadata": {},
     "output_type": "display_data"
    },
    {
     "data": {
      "text/latex": [
       "$\\displaystyle \\begin{cases} - \\frac{1}{1 - s} & \\text{for}\\: \\left|{s}\\right| > 1 \\wedge \\left|{\\arg{\\left(s \\right)}}\\right| < \\frac{\\pi}{2} \\\\\\int\\limits_{0}^{\\infty} e^{t} e^{- s t}\\, dt & \\text{otherwise} \\end{cases}$"
      ],
      "text/plain": [
       "Piecewise((-1/(1 - s), (Abs(s) > 1) & (Abs(arg(s)) < pi/2)), (Integral(exp(t)*exp(-s*t), (t, 0, oo)), True))"
      ]
     },
     "metadata": {},
     "output_type": "display_data"
    },
    {
     "name": "stdout",
     "output_type": "stream",
     "text": [
      "Function= exp(a*t)\n"
     ]
    },
    {
     "data": {
      "text/latex": [
       "$\\displaystyle e^{a t}$"
      ],
      "text/plain": [
       "exp(a*t)"
      ]
     },
     "metadata": {},
     "output_type": "display_data"
    },
    {
     "data": {
      "text/latex": [
       "$\\displaystyle \\begin{cases} - \\frac{1}{a \\left(1 - \\frac{s}{a}\\right)} & \\text{for}\\: \\left(\\left|{\\arg{\\left(s \\right)}}\\right| \\leq \\frac{\\pi}{2} \\wedge \\left|{\\arg{\\left(a \\right)} + \\pi}\\right| < \\frac{\\pi}{2}\\right) \\vee \\left(\\left|{\\arg{\\left(a \\right)} + \\pi}\\right| \\leq \\frac{\\pi}{2} \\wedge \\left|{\\arg{\\left(s \\right)}}\\right| < \\frac{\\pi}{2}\\right) \\vee \\left(\\left|{\\arg{\\left(a \\right)} + \\pi}\\right| < \\frac{\\pi}{2} \\wedge \\left|{\\arg{\\left(s \\right)}}\\right| < \\frac{\\pi}{2}\\right) \\\\\\int\\limits_{0}^{\\infty} e^{a t} e^{- s t}\\, dt & \\text{otherwise} \\end{cases}$"
      ],
      "text/plain": [
       "Piecewise((-1/(a*(1 - s/a)), ((Abs(arg(s)) <= pi/2) & (Abs(arg(a) + pi) < pi/2)) | ((Abs(arg(s)) < pi/2) & (Abs(arg(a) + pi) <= pi/2)) | ((Abs(arg(s)) < pi/2) & (Abs(arg(a) + pi) < pi/2))), (Integral(exp(a*t)*exp(-s*t), (t, 0, oo)), True))"
      ]
     },
     "metadata": {},
     "output_type": "display_data"
    },
    {
     "name": "stdout",
     "output_type": "stream",
     "text": [
      "Function= exp(-t)\n"
     ]
    },
    {
     "data": {
      "text/latex": [
       "$\\displaystyle e^{- t}$"
      ],
      "text/plain": [
       "exp(-t)"
      ]
     },
     "metadata": {},
     "output_type": "display_data"
    },
    {
     "data": {
      "text/latex": [
       "$\\displaystyle \\begin{cases} \\frac{1}{s + 1} & \\text{for}\\: \\left|{\\arg{\\left(s \\right)}}\\right| \\leq \\frac{\\pi}{2} \\\\\\int\\limits_{0}^{\\infty} e^{- t} e^{- s t}\\, dt & \\text{otherwise} \\end{cases}$"
      ],
      "text/plain": [
       "Piecewise((1/(s + 1), Abs(arg(s)) <= pi/2), (Integral(exp(-t)*exp(-s*t), (t, 0, oo)), True))"
      ]
     },
     "metadata": {},
     "output_type": "display_data"
    },
    {
     "name": "stdout",
     "output_type": "stream",
     "text": [
      "Function= exp(-t**2)\n"
     ]
    },
    {
     "data": {
      "text/latex": [
       "$\\displaystyle e^{- t^{2}}$"
      ],
      "text/plain": [
       "exp(-t**2)"
      ]
     },
     "metadata": {},
     "output_type": "display_data"
    },
    {
     "data": {
      "text/latex": [
       "$\\displaystyle \\frac{\\sqrt{\\pi} e^{\\frac{s^{2}}{4}} \\operatorname{erfc}{\\left(\\frac{s}{2} \\right)}}{2}$"
      ],
      "text/plain": [
       "sqrt(pi)*exp(s**2/4)*erfc(s/2)/2"
      ]
     },
     "metadata": {},
     "output_type": "display_data"
    },
    {
     "name": "stdout",
     "output_type": "stream",
     "text": [
      "Function= ln(t)\n"
     ]
    },
    {
     "data": {
      "text/latex": [
       "$\\displaystyle \\log{\\left(t \\right)}$"
      ],
      "text/plain": [
       "log(t)"
      ]
     },
     "metadata": {},
     "output_type": "display_data"
    },
    {
     "data": {
      "text/latex": [
       "$\\displaystyle \\begin{cases} - \\frac{\\log{\\left(s e^{i \\pi} \\right)} - \\operatorname{Ei}{\\left(s e^{i \\pi} \\right)}}{s} + \\frac{s \\left(\\frac{\\log{\\left(s e^{i \\pi} \\right)} - \\operatorname{Ei}{\\left(s e^{i \\pi} \\right)}}{s} + \\frac{\\gamma}{s}\\right) - \\log{\\left(s \\right)} - \\gamma}{s} - \\frac{\\gamma}{s} & \\text{for}\\: \\left|{\\arg{\\left(s \\right)}}\\right| \\leq \\frac{\\pi}{2} \\wedge \\left|{\\arg{\\left(s \\right)}}\\right| < \\frac{\\pi}{2} \\\\\\int\\limits_{0}^{\\infty} e^{- s t} \\log{\\left(t \\right)}\\, dt & \\text{otherwise} \\end{cases}$"
      ],
      "text/plain": [
       "Piecewise((-(log(s*exp_polar(I*pi)) - Ei(s*exp_polar(I*pi)))/s + (s*((log(s*exp_polar(I*pi)) - Ei(s*exp_polar(I*pi)))/s + EulerGamma/s) - log(s) - EulerGamma)/s - EulerGamma/s, (Abs(arg(s)) <= pi/2) & (Abs(arg(s)) < pi/2)), (Integral(exp(-s*t)*log(t), (t, 0, oo)), True))"
      ]
     },
     "metadata": {},
     "output_type": "display_data"
    },
    {
     "name": "stdout",
     "output_type": "stream",
     "text": [
      "Function= sin(t)\n"
     ]
    },
    {
     "data": {
      "text/latex": [
       "$\\displaystyle \\sin{\\left(t \\right)}$"
      ],
      "text/plain": [
       "sin(t)"
      ]
     },
     "metadata": {},
     "output_type": "display_data"
    },
    {
     "data": {
      "text/latex": [
       "$\\displaystyle \\begin{cases} \\frac{1}{s^{2} + 1} & \\text{for}\\: \\left|{\\arg{\\left(s \\right)}}\\right| < \\frac{\\pi}{2} \\\\\\int\\limits_{0}^{\\infty} e^{- s t} \\sin{\\left(t \\right)}\\, dt & \\text{otherwise} \\end{cases}$"
      ],
      "text/plain": [
       "Piecewise((1/(s**2 + 1), Abs(arg(s)) < pi/2), (Integral(exp(-s*t)*sin(t), (t, 0, oo)), True))"
      ]
     },
     "metadata": {},
     "output_type": "display_data"
    },
    {
     "name": "stdout",
     "output_type": "stream",
     "text": [
      "Function= cos(t)\n"
     ]
    },
    {
     "data": {
      "text/latex": [
       "$\\displaystyle \\cos{\\left(t \\right)}$"
      ],
      "text/plain": [
       "cos(t)"
      ]
     },
     "metadata": {},
     "output_type": "display_data"
    },
    {
     "data": {
      "text/latex": [
       "$\\displaystyle \\begin{cases} \\frac{s}{s^{2} + 1} & \\text{for}\\: \\left|{\\arg{\\left(s \\right)}}\\right| < \\frac{\\pi}{2} \\\\\\int\\limits_{0}^{\\infty} e^{- s t} \\cos{\\left(t \\right)}\\, dt & \\text{otherwise} \\end{cases}$"
      ],
      "text/plain": [
       "Piecewise((s/(s**2 + 1), Abs(arg(s)) < pi/2), (Integral(exp(-s*t)*cos(t), (t, 0, oo)), True))"
      ]
     },
     "metadata": {},
     "output_type": "display_data"
    },
    {
     "name": "stdout",
     "output_type": "stream",
     "text": [
      "Function= tan(t)\n"
     ]
    },
    {
     "data": {
      "text/latex": [
       "$\\displaystyle \\tan{\\left(t \\right)}$"
      ],
      "text/plain": [
       "tan(t)"
      ]
     },
     "metadata": {},
     "output_type": "display_data"
    },
    {
     "data": {
      "text/latex": [
       "$\\displaystyle \\int\\limits_{0}^{\\infty} e^{- s t} \\tan{\\left(t \\right)}\\, dt$"
      ],
      "text/plain": [
       "Integral(exp(-s*t)*tan(t), (t, 0, oo))"
      ]
     },
     "metadata": {},
     "output_type": "display_data"
    },
    {
     "name": "stdout",
     "output_type": "stream",
     "text": [
      "Function= tanh(t)\n"
     ]
    },
    {
     "data": {
      "text/latex": [
       "$\\displaystyle \\tanh{\\left(t \\right)}$"
      ],
      "text/plain": [
       "tanh(t)"
      ]
     },
     "metadata": {},
     "output_type": "display_data"
    },
    {
     "data": {
      "text/latex": [
       "$\\displaystyle \\int\\limits_{0}^{\\infty} e^{- s t} \\tanh{\\left(t \\right)}\\, dt$"
      ],
      "text/plain": [
       "Integral(exp(-s*t)*tanh(t), (t, 0, oo))"
      ]
     },
     "metadata": {},
     "output_type": "display_data"
    }
   ],
   "source": [
    "from sympy import sympify, lambdify, symbols, integrate, Interval, Symbol, I, S, oo, plot, evalf, N\n",
    "\n",
    "\n",
    "\n",
    "functions = [\n",
    "    \"t\",\n",
    "    \"t**2\",\n",
    "    \"t**3\",\n",
    "    \"t**4\",\n",
    "    \"sqrt(t)\",\n",
    "    \"exp(t)\",\n",
    "    \"exp(a*t)\",\n",
    "    \"exp(-t)\",\n",
    "    \"exp(-t**2)\",\n",
    "    \"ln(t)\",\n",
    "    \"sin(t)\",\n",
    "    \"cos(t)\",\n",
    "    \"tan(t)\",\n",
    "    \"tanh(t)\"\n",
    "]\n",
    "\n",
    "t, s, a, b, c = symbols(['t', 's', 'a', 'b', 'c'])\n",
    "temp = sympify(\"exp(-s*t)\")\n",
    "\n",
    "for func in functions:\n",
    "    f = sympify(func)\n",
    "    print(\"Function=\", func)\n",
    "    display(f)\n",
    "    display(integrate(f*temp, (t, 0, oo)))"
   ]
  },
  {
   "cell_type": "code",
   "execution_count": null,
   "id": "393ece0f",
   "metadata": {},
   "outputs": [],
   "source": []
  }
 ],
 "metadata": {
  "kernelspec": {
   "display_name": "symbolic",
   "language": "python",
   "name": "symbolic"
  },
  "language_info": {
   "codemirror_mode": {
    "name": "ipython",
    "version": 3
   },
   "file_extension": ".py",
   "mimetype": "text/x-python",
   "name": "python",
   "nbconvert_exporter": "python",
   "pygments_lexer": "ipython3",
   "version": "3.10.13"
  }
 },
 "nbformat": 4,
 "nbformat_minor": 5
}
