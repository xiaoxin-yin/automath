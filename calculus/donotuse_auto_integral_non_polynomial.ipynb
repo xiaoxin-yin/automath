{
 "cells": [
  {
   "cell_type": "code",
   "execution_count": 1,
   "id": "2f9fa8bb",
   "metadata": {},
   "outputs": [
    {
     "name": "stdout",
     "output_type": "stream",
     "text": [
      "cuda:0\n",
      "Model successfully loaded!\n"
     ]
    }
   ],
   "source": [
    "# Load symbolicregression model\n",
    "\n",
    "import torch\n",
    "import os, sys\n",
    "import symbolicregression\n",
    "import sympytorch\n",
    "import requests\n",
    "from sympy.core.rules import Transform\n",
    "import sympy as sp\n",
    "\n",
    "model_path = \"ckpt/model.pt\" \n",
    "try:\n",
    "    if not os.path.isfile(model_path): \n",
    "        print(\"Downloading model...\")\n",
    "        url = \"https://dl.fbaipublicfiles.com/symbolicregression/model1.pt\"\n",
    "        r = requests.get(url, allow_redirects=True)\n",
    "        open(model_path, 'wb').write(r.content)\n",
    "    if not torch.cuda.is_available():\n",
    "        sr_model = torch.load(model_path, map_location=torch.device('cpu'))\n",
    "    else:\n",
    "        sr_model = torch.load(model_path)\n",
    "        sr_model = sr_model.cuda()\n",
    "    print(sr_model.device)\n",
    "    print(\"Model successfully loaded!\")\n",
    "\n",
    "except Exception as e:\n",
    "    print(\"ERROR: model not loaded! path was: {}\".format(model_path))\n",
    "    print(e)    \n",
    "    \n",
    "est = symbolicregression.model.SymbolicTransformerRegressor(\n",
    "                        model=sr_model,\n",
    "                        max_input_points=10001,\n",
    "                        n_trees_to_refine=5,\n",
    "                        rescale=True\n",
    "                        )"
   ]
  },
  {
   "cell_type": "code",
   "execution_count": 4,
   "id": "4f68416c",
   "metadata": {},
   "outputs": [
    {
     "name": "stdout",
     "output_type": "stream",
     "text": [
      "Running integration on\n"
     ]
    },
    {
     "data": {
      "text/latex": [
       "$\\displaystyle \\sin{\\left(t \\right)} + 2.5$"
      ],
      "text/plain": [
       "sin(t) + 2.5"
      ]
     },
     "metadata": {},
     "output_type": "display_data"
    },
    {
     "data": {
      "text/latex": [
       "$\\displaystyle 2.5 t - \\cos{\\left(t \\right)} + 1$"
      ],
      "text/plain": [
       "2.5*t - cos(t) + 1"
      ]
     },
     "metadata": {},
     "output_type": "display_data"
    },
    {
     "data": {
      "text/plain": [
       "(2.5*t - cos(t) + 1,\n",
       " array([-4.   , -3.998, -3.996, ...,  3.994,  3.996,  3.998]),\n",
       " array([-8.34635638, -8.33984408, -8.33333441, ..., 11.64317264,\n",
       "        11.64666559, 11.65015592]))"
      ]
     },
     "execution_count": 4,
     "metadata": {},
     "output_type": "execute_result"
    }
   ],
   "source": [
    "import numpy as np\n",
    "import sympy as sp\n",
    "from sympy import sympify, lambdify, symbols, integrate, Interval, Symbol, I, S, oo, plot\n",
    "from IPython.display import display\n",
    "\n",
    "# Given an expr f (of variable t), returns its integral, together with t's and y's for regression\n",
    "def integrate_expr(f, min_x=-4.0, max_x=4.0, increment=0.002, verbose=False):\n",
    "    if verbose:\n",
    "        print(\"Running integration on\")\n",
    "        display(f)\n",
    "    # Compute integration\n",
    "    x, t = symbols(['x','t'])\n",
    "    fi = integrate(f, (t, 0, x))\n",
    "    fi = fi.subs(x, t)\n",
    "    if verbose:\n",
    "        display(fi)\n",
    "        #plot(fi, (t, min_x, max_x))\n",
    "    # Generate data for symbolic regression\n",
    "    fl = lambdify((t), fi, \"numpy\")\n",
    "    ts = np.arange(min_x, max_x, increment)\n",
    "    ys = fl(ts)\n",
    "    return fi, ts, ys\n",
    "    \n",
    "integrate_expr(sympify(\"sin(t)+2.5\"), verbose=True)"
   ]
  },
  {
   "cell_type": "code",
   "execution_count": 7,
   "id": "5bb80a06",
   "metadata": {},
   "outputs": [
    {
     "data": {
      "text/latex": [
       "$\\displaystyle 2.5 t - \\cos{\\left(t \\right)} + 1$"
      ],
      "text/plain": [
       "2.5*t - cos(t) + 1"
      ]
     },
     "metadata": {},
     "output_type": "display_data"
    },
    {
     "name": "stderr",
     "output_type": "stream",
     "text": [
      "/home/mcwave/anaconda3/envs/symbolic/lib/python3.10/site-packages/torch/_functorch/deprecated.py:62: UserWarning: We've integrated functorch into PyTorch. As the final step of the integration, functorch.grad is deprecated as of PyTorch 2.0 and will be deleted in a future version of PyTorch >= 2.3. Please use torch.func.grad instead; see the PyTorch 2.0 release notes and/or the torch.func migration guide for more details https://pytorch.org/docs/master/func.migrating.html\n",
      "  warn_deprecated('grad')\n"
     ]
    },
    {
     "data": {
      "text/plain": [
       "None"
      ]
     },
     "metadata": {},
     "output_type": "display_data"
    },
    {
     "name": "stdout",
     "output_type": "stream",
     "text": [
      "Diff1:\n"
     ]
    },
    {
     "data": {
      "text/latex": [
       "$\\displaystyle - 0.01 t^{3} - 0.24 t^{2} - 0.13 t - \\cos{\\left(t \\right)} + 1$"
      ],
      "text/plain": [
       "-0.01*t**3 - 0.24*t**2 - 0.13*t - cos(t) + 1"
      ]
     },
     "metadata": {},
     "output_type": "display_data"
    }
   ],
   "source": [
    "from utils.utils import *\n",
    "\n",
    "def round_expr(expr, num_digits=2):\n",
    "    return expr.xreplace(Transform(lambda x: x.round(num_digits), lambda x: isinstance(x, sp.Float)))\n",
    "\n",
    "# Run symbolic regression on given data\n",
    "# Returns: (raw regressed expr, rounded expr, model refined expr)\n",
    "@timeout(15)\n",
    "def symbolic_regress(sr_model, xs, ys, generate_refinement=False, verbose=False):\n",
    "    if verbose:\n",
    "        print(\"Running Symbolic Regression...\")\n",
    "    ##Example of data\n",
    "    xs = np.reshape(xs, (len(xs),1))\n",
    "    ys = np.reshape(ys, (len(ys),1))\n",
    "    sr_model.fit(xs,ys)\n",
    "    #\n",
    "    replace_ops = {\"add\": \"+\", \"mul\": \"*\", \"sub\": \"-\", \"pow\": \"**\", \"inv\": \"1/\"}\n",
    "    model_str = sr_model.retrieve_tree(with_infos=True)[\"relabed_predicted_tree\"].infix()\n",
    "    for op,replace_op in replace_ops.items():\n",
    "        model_str = model_str.replace(op,replace_op)\n",
    "    #\n",
    "    raw_expr = sp.parse_expr(model_str)\n",
    "    x_0, t = symbols(['x_0', 't'])\n",
    "    raw_expr = raw_expr.subs(x_0, t)\n",
    "    if verbose:\n",
    "        display(raw_expr)\n",
    "    #\n",
    "    expr = sp.expand(raw_expr)\n",
    "    rounded_expr = round_expr(expr)\n",
    "    if verbose:\n",
    "        display(rounded_expr)\n",
    "    #\n",
    "    # Encode some input text\n",
    "    if generate_refinement:\n",
    "        prompt = str(rounded_expr)\n",
    "        input_ids = tokenizer.encode(prompt, return_tensors='pt')\n",
    "        #\n",
    "        # Generate text\n",
    "        output = model.generate(input_ids, max_length=50, num_return_sequences=1, temperature=0.1)\n",
    "        #\n",
    "        # Decode and print the output\n",
    "        generated_text = tokenizer.decode(output[0], skip_special_tokens=True)\n",
    "        generated_expr = sympify(generated_text)\n",
    "        if verbose:\n",
    "            display(generated_expr)\n",
    "        #\n",
    "    else:\n",
    "        generated_expr = None\n",
    "    return raw_expr, rounded_expr, generated_expr\n",
    "\n",
    "\n",
    "fi, ts, ys = integrate_expr(sympify(\"sin(t)+2.5\"), verbose=False)\n",
    "rounded_fi = round_expr(fi)\n",
    "display(rounded_fi)\n",
    "raw_expr, rounded_expr, generated_expr = symbolic_regress(est, ts, ys, verbose=False)\n",
    "display(generated_expr)\n",
    "\n",
    "print(\"Diff1:\")\n",
    "display(rounded_fi-rounded_expr)\n",
    "# print(\"Diff2:\")\n",
    "# display(rounded_fi-generated_expr)"
   ]
  },
  {
   "cell_type": "code",
   "execution_count": 4,
   "id": "3049e9a5",
   "metadata": {},
   "outputs": [],
   "source": [
    "import json\n",
    "import random\n",
    "import numpy as np\n",
    "\n",
    "def load_expressions(filepaths):\n",
    "    lines = []\n",
    "    for filepath in filepaths:\n",
    "        fin = open(filepath, 'r')\n",
    "        lines.extend(fin.readlines())\n",
    "        fin.close()\n",
    "    #\n",
    "    random.shuffle(lines)\n",
    "    exprs = set()\n",
    "    for line in lines:\n",
    "        data = json.loads(line)\n",
    "        for k,v in data.items():\n",
    "            if k in ('f_t', 'g_t'):\n",
    "                try:\n",
    "                    if 'sqrt' not in v[1]:\n",
    "                        expr = sympify(v[1])\n",
    "                        exprs.add(expr)\n",
    "                except:\n",
    "                    continue\n",
    "            elif k in ('original'):\n",
    "                try:\n",
    "                    if 'sqrt' not in v:\n",
    "                        expr = sympify(v)\n",
    "                        exprs.add(expr)\n",
    "                except:\n",
    "                    continue\n",
    "    return exprs\n",
    "\n",
    "exprs = load_expressions(['datasets/parametric_equations_pairs.json'])  #'datasets/parametric_equations.json'  'datasets/function_evaluation.json', "
   ]
  },
  {
   "cell_type": "code",
   "execution_count": 5,
   "id": "aa39be2d",
   "metadata": {},
   "outputs": [
    {
     "data": {
      "text/plain": [
       "81647"
      ]
     },
     "execution_count": 5,
     "metadata": {},
     "output_type": "execute_result"
    }
   ],
   "source": [
    "len(exprs)"
   ]
  },
  {
   "cell_type": "code",
   "execution_count": null,
   "id": "41e43ef0",
   "metadata": {},
   "outputs": [
    {
     "name": "stdout",
     "output_type": "stream",
     "text": [
      "4097 exprs loaded\n"
     ]
    },
    {
     "name": "stderr",
     "output_type": "stream",
     "text": [
      "/home/mcwave/anaconda3/envs/symbolic/lib/python3.10/site-packages/torch/_functorch/deprecated.py:62: UserWarning: We've integrated functorch into PyTorch. As the final step of the integration, functorch.grad is deprecated as of PyTorch 2.0 and will be deleted in a future version of PyTorch >= 2.3. Please use torch.func.grad instead; see the PyTorch 2.0 release notes and/or the torch.func migration guide for more details https://pytorch.org/docs/master/func.migrating.html\n",
      "  warn_deprecated('grad')\n",
      "/home/mcwave/anaconda3/envs/symbolic/lib/python3.10/site-packages/torch/_functorch/deprecated.py:62: UserWarning: We've integrated functorch into PyTorch. As the final step of the integration, functorch.grad is deprecated as of PyTorch 2.0 and will be deleted in a future version of PyTorch >= 2.3. Please use torch.func.grad instead; see the PyTorch 2.0 release notes and/or the torch.func migration guide for more details https://pytorch.org/docs/master/func.migrating.html\n",
      "  warn_deprecated('grad')\n",
      "/home/mcwave/anaconda3/envs/symbolic/lib/python3.10/site-packages/torch/_functorch/deprecated.py:62: UserWarning: We've integrated functorch into PyTorch. As the final step of the integration, functorch.grad is deprecated as of PyTorch 2.0 and will be deleted in a future version of PyTorch >= 2.3. Please use torch.func.grad instead; see the PyTorch 2.0 release notes and/or the torch.func migration guide for more details https://pytorch.org/docs/master/func.migrating.html\n",
      "  warn_deprecated('grad')\n",
      "/home/mcwave/anaconda3/envs/symbolic/lib/python3.10/site-packages/torch/_functorch/deprecated.py:62: UserWarning: We've integrated functorch into PyTorch. As the final step of the integration, functorch.grad is deprecated as of PyTorch 2.0 and will be deleted in a future version of PyTorch >= 2.3. Please use torch.func.grad instead; see the PyTorch 2.0 release notes and/or the torch.func migration guide for more details https://pytorch.org/docs/master/func.migrating.html\n",
      "  warn_deprecated('grad')\n",
      "/home/mcwave/anaconda3/envs/symbolic/lib/python3.10/site-packages/torch/_functorch/deprecated.py:62: UserWarning: We've integrated functorch into PyTorch. As the final step of the integration, functorch.grad is deprecated as of PyTorch 2.0 and will be deleted in a future version of PyTorch >= 2.3. Please use torch.func.grad instead; see the PyTorch 2.0 release notes and/or the torch.func migration guide for more details https://pytorch.org/docs/master/func.migrating.html\n",
      "  warn_deprecated('grad')\n",
      "/home/mcwave/anaconda3/envs/symbolic/lib/python3.10/site-packages/torch/_functorch/deprecated.py:62: UserWarning: We've integrated functorch into PyTorch. As the final step of the integration, functorch.grad is deprecated as of PyTorch 2.0 and will be deleted in a future version of PyTorch >= 2.3. Please use torch.func.grad instead; see the PyTorch 2.0 release notes and/or the torch.func migration guide for more details https://pytorch.org/docs/master/func.migrating.html\n",
      "  warn_deprecated('grad')\n",
      "/home/mcwave/anaconda3/envs/symbolic/lib/python3.10/site-packages/torch/_functorch/deprecated.py:62: UserWarning: We've integrated functorch into PyTorch. As the final step of the integration, functorch.grad is deprecated as of PyTorch 2.0 and will be deleted in a future version of PyTorch >= 2.3. Please use torch.func.grad instead; see the PyTorch 2.0 release notes and/or the torch.func migration guide for more details https://pytorch.org/docs/master/func.migrating.html\n",
      "  warn_deprecated('grad')\n",
      "/home/mcwave/anaconda3/envs/symbolic/lib/python3.10/site-packages/torch/_functorch/deprecated.py:62: UserWarning: We've integrated functorch into PyTorch. As the final step of the integration, functorch.grad is deprecated as of PyTorch 2.0 and will be deleted in a future version of PyTorch >= 2.3. Please use torch.func.grad instead; see the PyTorch 2.0 release notes and/or the torch.func migration guide for more details https://pytorch.org/docs/master/func.migrating.html\n",
      "  warn_deprecated('grad')\n",
      "/home/mcwave/anaconda3/envs/symbolic/lib/python3.10/site-packages/torch/_functorch/deprecated.py:62: UserWarning: We've integrated functorch into PyTorch. As the final step of the integration, functorch.grad is deprecated as of PyTorch 2.0 and will be deleted in a future version of PyTorch >= 2.3. Please use torch.func.grad instead; see the PyTorch 2.0 release notes and/or the torch.func migration guide for more details https://pytorch.org/docs/master/func.migrating.html\n",
      "  warn_deprecated('grad')\n",
      "/home/mcwave/anaconda3/envs/symbolic/lib/python3.10/site-packages/torch/_functorch/deprecated.py:62: UserWarning: We've integrated functorch into PyTorch. As the final step of the integration, functorch.grad is deprecated as of PyTorch 2.0 and will be deleted in a future version of PyTorch >= 2.3. Please use torch.func.grad instead; see the PyTorch 2.0 release notes and/or the torch.func migration guide for more details https://pytorch.org/docs/master/func.migrating.html\n",
      "  warn_deprecated('grad')\n",
      "/home/mcwave/anaconda3/envs/symbolic/lib/python3.10/site-packages/torch/_functorch/deprecated.py:62: UserWarning: We've integrated functorch into PyTorch. As the final step of the integration, functorch.grad is deprecated as of PyTorch 2.0 and will be deleted in a future version of PyTorch >= 2.3. Please use torch.func.grad instead; see the PyTorch 2.0 release notes and/or the torch.func migration guide for more details https://pytorch.org/docs/master/func.migrating.html\n",
      "  warn_deprecated('grad')\n",
      "/home/mcwave/anaconda3/envs/symbolic/lib/python3.10/site-packages/torch/_functorch/deprecated.py:62: UserWarning: We've integrated functorch into PyTorch. As the final step of the integration, functorch.grad is deprecated as of PyTorch 2.0 and will be deleted in a future version of PyTorch >= 2.3. Please use torch.func.grad instead; see the PyTorch 2.0 release notes and/or the torch.func migration guide for more details https://pytorch.org/docs/master/func.migrating.html\n",
      "  warn_deprecated('grad')\n",
      "/home/mcwave/anaconda3/envs/symbolic/lib/python3.10/site-packages/torch/_functorch/deprecated.py:62: UserWarning: We've integrated functorch into PyTorch. As the final step of the integration, functorch.grad is deprecated as of PyTorch 2.0 and will be deleted in a future version of PyTorch >= 2.3. Please use torch.func.grad instead; see the PyTorch 2.0 release notes and/or the torch.func migration guide for more details https://pytorch.org/docs/master/func.migrating.html\n",
      "  warn_deprecated('grad')\n",
      "/home/mcwave/anaconda3/envs/symbolic/lib/python3.10/site-packages/torch/_functorch/deprecated.py:62: UserWarning: We've integrated functorch into PyTorch. As the final step of the integration, functorch.grad is deprecated as of PyTorch 2.0 and will be deleted in a future version of PyTorch >= 2.3. Please use torch.func.grad instead; see the PyTorch 2.0 release notes and/or the torch.func migration guide for more details https://pytorch.org/docs/master/func.migrating.html\n",
      "  warn_deprecated('grad')\n"
     ]
    }
   ],
   "source": [
    "# Run symbolic regression on each case\n",
    "\n",
    "seen_exprs = set()\n",
    "fin = open(\"datasets/parametric_equations_randomized_polynomial_integral_results.json\", \"r\")\n",
    "lines = fin.readlines()\n",
    "for line in lines:\n",
    "    result = json.loads(line)\n",
    "    expr = result[\"original\"]\n",
    "    seen_exprs.add(expr)\n",
    "fin.close()\n",
    "print(f\"{len(seen_exprs)} exprs loaded\")\n",
    "\n",
    "fout = open(\"datasets/parametric_equations_randomized_polynomial_integral_results.json\", \"a\")\n",
    "num_seen = 0\n",
    "num_seen_changed = False\n",
    "\n",
    "for f in exprs:\n",
    "    if str(f) in seen_exprs:\n",
    "        num_seen+=1\n",
    "        num_seen_changed = True\n",
    "        continue\n",
    "    else:\n",
    "        num_seen_changed = False\n",
    "    if num_seen_changed:\n",
    "        print(f\"{num_seen} exprs ignored\")\n",
    "    #print(\"Original expr and its integral:\")\n",
    "    #display(f)\n",
    "    #print(f)\n",
    "    try:\n",
    "        fi, xs, ys = integrate_expr(f, verbose=False)\n",
    "        x, t = symbols(['x','t'])\n",
    "        fi = fi.subs({x:t})\n",
    "        rounded_fi = round_expr(fi)\n",
    "        #display(rounded_fi)\n",
    "        raw_expr, rounded_expr, generated_expr = symbolic_regress(est, xs, ys, generate_refinement=False, verbose=False)\n",
    "#         print(\"Generated expr:\")\n",
    "#         display(generated_expr)\n",
    "        results = {\"original\":str(f),\n",
    "                   \"integral\":str(fi),\n",
    "                   \"rounded_integral\":str(rounded_fi),\n",
    "                   \"regressed\":str(raw_expr),\n",
    "                   \"rounded_regressed\":str(rounded_expr),\n",
    "                   #\"generated_regressed\":str(generated_expr),\n",
    "                   \"diff_rounded\": str(rounded_fi-rounded_expr),\n",
    "                   #\"diff_generated\": str(rounded_fi-generated_expr)\n",
    "                  }\n",
    "        fout.write(json.dumps(results))\n",
    "        fout.write('\\n')\n",
    "        fout.flush()\n",
    "    except:\n",
    "        print(\"Failed to run symbolic regression\")\n",
    "        continue\n",
    "    #     print(\"Diff1:\")\n",
    "    #     display(rounded_fi-rounded_expr)\n",
    "    #     print(\"Diff2:\")\n",
    "    #     display(rounded_fi-generated_expr)\n",
    "\n",
    "fout.close()"
   ]
  },
  {
   "cell_type": "code",
   "execution_count": 8,
   "id": "a229cd86",
   "metadata": {},
   "outputs": [],
   "source": [
    "# Check the accuracy of symbolic regression\n",
    "\n",
    "import json\n",
    "from sympy import evalf, N\n",
    "from utils.utils import *\n",
    "\n",
    "\n",
    "# Check if f1 and f2 are almost equal.\n",
    "# Note: Relative error is defined based on f1. Please use the original expression as f1.\n",
    "def almost_equal(f1, f2, max_abs_error=0.011, max_relative_error=0.011, verbose=False):\n",
    "    expr = f1-f2\n",
    "    coeff_pairs = None\n",
    "    try:\n",
    "        coeff_pairs = get_coefficients_and_exponents(expr)\n",
    "    except:\n",
    "        print(\"Cannot get_coefficients_and_exponents\")\n",
    "        print(str(expr))\n",
    "    if coeff_pairs is None:\n",
    "        constants = get_all_constants(expr)\n",
    "    else:\n",
    "        constants = [p[0] for p in coeff_pairs]\n",
    "    # Check if all diffs are within max_abs_error\n",
    "    violators = [c for c in constants if c == sp.nan or abs(c) > max_abs_error]\n",
    "    if verbose:\n",
    "        print(\"Violating constants:\", violators)\n",
    "    if len(violators) == 0:\n",
    "        return True\n",
    "    # Check if all violating diffs are within max_relative_error\n",
    "    try:\n",
    "        coeffs1 = get_polynomial_coeffs(f1)\n",
    "        coeffs2 = get_polynomial_coeffs(f2)\n",
    "    except:\n",
    "        return False\n",
    "    for i in range(len(coeffs1)):\n",
    "        if abs(coeffs1[i] - coeffs2[i]) > max_abs_error and \\\n",
    "           abs(coeffs1[i] - coeffs2[i]) > max_relative_error*abs(coeffs1[i]):\n",
    "            return False\n",
    "    return True\n",
    "    \n",
    "\n",
    "# fin = open(\"datasets/parametric_equations_polynomial_integral_results.json\", \"r\")\n",
    "# lines = fin.readlines()\n",
    "\n",
    "# num_total, qualified_rounded, qualified_generated = 0, 0, 0\n",
    "# for line in lines:\n",
    "#     result = json.loads(line)\n",
    "#     if \"diff_rounded\" not in result or \"diff_generated\" not in result:\n",
    "#         continue\n",
    "#     rounded_integral = N(sympify(result[\"rounded_integral\"]))\n",
    "#     rounded_regressed = N(sympify(result[\"rounded_regressed\"]))\n",
    "# #     display(rounded_integral)\n",
    "# #     display(rounded_regressed)\n",
    "#     try:\n",
    "#         rounded_regressed = filter_non_polynomial(rounded_regressed)\n",
    "#     except:\n",
    "#         print(\"Cannot filter non-polynomials on\", str(rounded_regressed))\n",
    "#     #generated_regressed = N(sympify(result[\"generated_regressed\"]))\n",
    "#     diff_rounded = rounded_integral - rounded_regressed\n",
    "#     #diff_generated = sympify(result[\"diff_generated\"])\n",
    "#     num_total += 1\n",
    "#     if almost_equal(rounded_integral, rounded_regressed, verbose=False):\n",
    "#         qualified_rounded += 1\n",
    "#     else:\n",
    "#         display(rounded_integral)\n",
    "#         display(rounded_regressed)\n",
    "#         print(rounded_regressed)\n",
    "#         display(diff_rounded)\n",
    "# #     if is_close_to_zero(diff_generated, True):\n",
    "# #         qualified_generated += 1\n",
    "    \n",
    "# fin.close()\n",
    "\n",
    "# print(num_total, qualified_rounded, qualified_generated)"
   ]
  },
  {
   "cell_type": "code",
   "execution_count": 10,
   "id": "004f0840",
   "metadata": {},
   "outputs": [],
   "source": [
    "# for i in range(1000):\n",
    "#     f = originals[i]\n",
    "#     x, t = symbols(['x','t'])\n",
    "#     fi = integrate(f, t)\n",
    "#     g = integrals[i]\n",
    "#     #fs, gs, diff = get_diff(fi, g, t)\n",
    "#     # print(np.mean(np.abs(fs)))\n",
    "#     # print(np.mean(np.abs(gs)))\n",
    "#     # print(np.mean(np.abs(diff)))\n",
    "#     relative_diff = get_avg_diff(fi, g, t)\n",
    "#     if relative_diff > 0.01:\n",
    "#         print(\"CASE\", i)\n",
    "#         display(fi)\n",
    "#         display(g)\n",
    "#         print(relative_diff)"
   ]
  },
  {
   "cell_type": "code",
   "execution_count": 11,
   "id": "2be57761",
   "metadata": {},
   "outputs": [
    {
     "name": "stdout",
     "output_type": "stream",
     "text": [
      "100 processed\n",
      "Skipping due to diff= 0.01992431786496669\n"
     ]
    },
    {
     "data": {
      "text/latex": [
       "$\\displaystyle 0.0833333333333333 t^{3} - 0.5 t^{2} + 1.0 t$"
      ],
      "text/plain": [
       "0.0833333333333333*t**3 - 0.5*t**2 + 1.0*t"
      ]
     },
     "metadata": {},
     "output_type": "display_data"
    },
    {
     "data": {
      "text/latex": [
       "$\\displaystyle 0.08 t^{3} - 0.5 t^{2} + 1.0 t$"
      ],
      "text/plain": [
       "0.08*t**3 - 0.5*t**2 + 1.0*t"
      ]
     },
     "metadata": {},
     "output_type": "display_data"
    },
    {
     "name": "stdout",
     "output_type": "stream",
     "text": [
      "200 processed\n",
      "Skipping due to diff= 0.010420435344398904\n"
     ]
    },
    {
     "data": {
      "text/latex": [
       "$\\displaystyle 0.0833333333333333 t^{3} - 0.875 t^{2} + 3.0625 t$"
      ],
      "text/plain": [
       "0.0833333333333333*t**3 - 0.875*t**2 + 3.0625*t"
      ]
     },
     "metadata": {},
     "output_type": "display_data"
    },
    {
     "data": {
      "text/latex": [
       "$\\displaystyle 0.08 t^{3} - 0.88 t^{2} + 3.06 t$"
      ],
      "text/plain": [
       "0.08*t**3 - 0.88*t**2 + 3.06*t"
      ]
     },
     "metadata": {},
     "output_type": "display_data"
    },
    {
     "name": "stdout",
     "output_type": "stream",
     "text": [
      "Skipping due to diff= 0.01244764075765293\n"
     ]
    },
    {
     "data": {
      "text/latex": [
       "$\\displaystyle 0.375 t^{2} + 1.0 t$"
      ],
      "text/plain": [
       "0.375*t**2 + 1.0*t"
      ]
     },
     "metadata": {},
     "output_type": "display_data"
    },
    {
     "data": {
      "text/latex": [
       "$\\displaystyle 0.38 t^{2} + 1.0 t$"
      ],
      "text/plain": [
       "0.38*t**2 + 1.0*t"
      ]
     },
     "metadata": {},
     "output_type": "display_data"
    },
    {
     "name": "stdout",
     "output_type": "stream",
     "text": [
      "Skipping due to diff= 0.015052592500927274\n"
     ]
    },
    {
     "data": {
      "text/latex": [
       "$\\displaystyle 0.0208333333333333 t^{3} - 0.1875 t^{2} + 0.5625 t$"
      ],
      "text/plain": [
       "0.0208333333333333*t**3 - 0.1875*t**2 + 0.5625*t"
      ]
     },
     "metadata": {},
     "output_type": "display_data"
    },
    {
     "data": {
      "text/latex": [
       "$\\displaystyle 0.02 t^{3} - 0.19 t^{2} + 0.56 t$"
      ],
      "text/plain": [
       "0.02*t**3 - 0.19*t**2 + 0.56*t"
      ]
     },
     "metadata": {},
     "output_type": "display_data"
    },
    {
     "name": "stdout",
     "output_type": "stream",
     "text": [
      "300 processed\n",
      "400 processed\n",
      "Skipping due to diff= 0.012956870871648679\n"
     ]
    },
    {
     "data": {
      "text/latex": [
       "$\\displaystyle 0.0833333333333333 t^{3} + 0.75 t^{2} + 2.25 t$"
      ],
      "text/plain": [
       "0.0833333333333333*t**3 + 0.75*t**2 + 2.25*t"
      ]
     },
     "metadata": {},
     "output_type": "display_data"
    },
    {
     "data": {
      "text/latex": [
       "$\\displaystyle 0.08 t^{3} + 0.75 t^{2} + 2.25 t$"
      ],
      "text/plain": [
       "0.08*t**3 + 0.75*t**2 + 2.25*t"
      ]
     },
     "metadata": {},
     "output_type": "display_data"
    },
    {
     "name": "stdout",
     "output_type": "stream",
     "text": [
      "500 processed\n",
      "600 processed\n",
      "Skipping due to diff= 0.011008578433168069\n"
     ]
    },
    {
     "data": {
      "text/latex": [
       "$\\displaystyle 0.108843537414966 t^{3} + 0.244897959183673 t^{2} + 0.183673469387755 t$"
      ],
      "text/plain": [
       "0.108843537414966*t**3 + 0.244897959183673*t**2 + 0.183673469387755*t"
      ]
     },
     "metadata": {},
     "output_type": "display_data"
    },
    {
     "data": {
      "text/latex": [
       "$\\displaystyle 0.11 t^{3} + 0.24 t^{2} + 0.18 t$"
      ],
      "text/plain": [
       "0.11*t**3 + 0.24*t**2 + 0.18*t"
      ]
     },
     "metadata": {},
     "output_type": "display_data"
    },
    {
     "name": "stdout",
     "output_type": "stream",
     "text": [
      "Skipping due to diff= 0.01733481217157357\n"
     ]
    },
    {
     "data": {
      "text/latex": [
       "$\\displaystyle 0.244897959183673 t^{3} + 0.489795918367347 t^{2} + 0.326530612244898 t$"
      ],
      "text/plain": [
       "0.244897959183673*t**3 + 0.489795918367347*t**2 + 0.326530612244898*t"
      ]
     },
     "metadata": {},
     "output_type": "display_data"
    },
    {
     "data": {
      "text/latex": [
       "$\\displaystyle 0.24 t^{3} + 0.49 t^{2} + 0.33 t$"
      ],
      "text/plain": [
       "0.24*t**3 + 0.49*t**2 + 0.33*t"
      ]
     },
     "metadata": {},
     "output_type": "display_data"
    },
    {
     "name": "stdout",
     "output_type": "stream",
     "text": [
      "Skipping due to diff= 0.016706664499452455\n"
     ]
    },
    {
     "data": {
      "text/latex": [
       "$\\displaystyle 0.037037037037037 t^{3} - 0.444444444444444 t^{2} + 1.77777777777778 t$"
      ],
      "text/plain": [
       "0.037037037037037*t**3 - 0.444444444444444*t**2 + 1.77777777777778*t"
      ]
     },
     "metadata": {},
     "output_type": "display_data"
    },
    {
     "data": {
      "text/latex": [
       "$\\displaystyle 0.04 t^{3} - 0.44 t^{2} + 1.78 t$"
      ],
      "text/plain": [
       "0.04*t**3 - 0.44*t**2 + 1.78*t"
      ]
     },
     "metadata": {},
     "output_type": "display_data"
    },
    {
     "name": "stdout",
     "output_type": "stream",
     "text": [
      "700 processed\n",
      "Skipping due to diff= 0.032897073331140954\n"
     ]
    },
    {
     "data": {
      "text/latex": [
       "$\\displaystyle 0.0833333333333333 t^{3} + 0.25 t^{2} + 0.25 t$"
      ],
      "text/plain": [
       "0.0833333333333333*t**3 + 0.25*t**2 + 0.25*t"
      ]
     },
     "metadata": {},
     "output_type": "display_data"
    },
    {
     "data": {
      "text/latex": [
       "$\\displaystyle 0.08 t^{3} + 0.25 t^{2} + 0.25 t$"
      ],
      "text/plain": [
       "0.08*t**3 + 0.25*t**2 + 0.25*t"
      ]
     },
     "metadata": {},
     "output_type": "display_data"
    },
    {
     "name": "stdout",
     "output_type": "stream",
     "text": [
      "Skipping due to diff= 0.02396960508643259\n"
     ]
    },
    {
     "data": {
      "text/latex": [
       "$\\displaystyle 0.037037037037037 t^{3} - 0.333333333333333 t^{2} + 1.0 t$"
      ],
      "text/plain": [
       "0.037037037037037*t**3 - 0.333333333333333*t**2 + 1.0*t"
      ]
     },
     "metadata": {},
     "output_type": "display_data"
    },
    {
     "data": {
      "text/latex": [
       "$\\displaystyle 0.04 t^{3} - 0.33 t^{2} + 1.0 t$"
      ],
      "text/plain": [
       "0.04*t**3 - 0.33*t**2 + 1.0*t"
      ]
     },
     "metadata": {},
     "output_type": "display_data"
    },
    {
     "name": "stdout",
     "output_type": "stream",
     "text": [
      "Skipping due to diff= 0.015349585447345281\n"
     ]
    },
    {
     "data": {
      "text/latex": [
       "$\\displaystyle 0.0833333333333333 t^{3} - 0.75 t^{2} + 2.25 t$"
      ],
      "text/plain": [
       "0.0833333333333333*t**3 - 0.75*t**2 + 2.25*t"
      ]
     },
     "metadata": {},
     "output_type": "display_data"
    },
    {
     "data": {
      "text/latex": [
       "$\\displaystyle 0.08 t^{3} - 0.75 t^{2} + 2.24 t$"
      ],
      "text/plain": [
       "0.08*t**3 - 0.75*t**2 + 2.24*t"
      ]
     },
     "metadata": {},
     "output_type": "display_data"
    },
    {
     "name": "stdout",
     "output_type": "stream",
     "text": [
      "800 processed\n",
      "Skipping due to diff= 0.01188636918430256\n"
     ]
    },
    {
     "data": {
      "text/latex": [
       "$\\displaystyle 0.1875 t^{3} + 0.1875 t^{2} + 0.0625 t$"
      ],
      "text/plain": [
       "0.1875*t**3 + 0.1875*t**2 + 0.0625*t"
      ]
     },
     "metadata": {},
     "output_type": "display_data"
    },
    {
     "data": {
      "text/latex": [
       "$\\displaystyle 0.19 t^{3} + 0.19 t^{2} + 0.06 t$"
      ],
      "text/plain": [
       "0.19*t**3 + 0.19*t**2 + 0.06*t"
      ]
     },
     "metadata": {},
     "output_type": "display_data"
    },
    {
     "name": "stdout",
     "output_type": "stream",
     "text": [
      "900 processed\n",
      "1000 processed\n",
      "1100 processed\n",
      "Skipping due to diff= 0.010658980220653829\n"
     ]
    },
    {
     "data": {
      "text/latex": [
       "$\\displaystyle 0.0833333333333333 t^{3} - 0.875 t^{2} + 3.0625 t$"
      ],
      "text/plain": [
       "0.0833333333333333*t**3 - 0.875*t**2 + 3.0625*t"
      ]
     },
     "metadata": {},
     "output_type": "display_data"
    },
    {
     "data": {
      "text/latex": [
       "$\\displaystyle 0.08 t^{3} - 0.87 t^{2} + 3.06 t$"
      ],
      "text/plain": [
       "0.08*t**3 - 0.87*t**2 + 3.06*t"
      ]
     },
     "metadata": {},
     "output_type": "display_data"
    },
    {
     "name": "stdout",
     "output_type": "stream",
     "text": [
      "1200 processed\n",
      "Skipping due to diff= 0.013367843137255286\n"
     ]
    },
    {
     "data": {
      "text/latex": [
       "$\\displaystyle - 0.142857142857143 t^{2} + 0.714285714285714 t$"
      ],
      "text/plain": [
       "-0.142857142857143*t**2 + 0.714285714285714*t"
      ]
     },
     "metadata": {},
     "output_type": "display_data"
    },
    {
     "data": {
      "text/latex": [
       "$\\displaystyle - 0.14 t^{2} + 0.71 t$"
      ],
      "text/plain": [
       "-0.14*t**2 + 0.71*t"
      ]
     },
     "metadata": {},
     "output_type": "display_data"
    },
    {
     "name": "stdout",
     "output_type": "stream",
     "text": [
      "Skipping due to diff= 0.012043182690164276\n"
     ]
    },
    {
     "data": {
      "text/latex": [
       "$\\displaystyle 0.037037037037037 t^{3} + 0.555555555555556 t^{2} + 2.77777777777778 t$"
      ],
      "text/plain": [
       "0.037037037037037*t**3 + 0.555555555555556*t**2 + 2.77777777777778*t"
      ]
     },
     "metadata": {},
     "output_type": "display_data"
    },
    {
     "data": {
      "text/latex": [
       "$\\displaystyle 0.04 t^{3} + 0.56 t^{2} + 2.78 t$"
      ],
      "text/plain": [
       "0.04*t**3 + 0.56*t**2 + 2.78*t"
      ]
     },
     "metadata": {},
     "output_type": "display_data"
    },
    {
     "name": "stdout",
     "output_type": "stream",
     "text": [
      "1300 processed\n",
      "1400 processed\n",
      "1500 processed\n",
      "Skipping due to diff= 0.01999999999999871\n"
     ]
    },
    {
     "data": {
      "text/latex": [
       "$\\displaystyle 0.214285714285714 t^{2}$"
      ],
      "text/plain": [
       "0.214285714285714*t**2"
      ]
     },
     "metadata": {},
     "output_type": "display_data"
    },
    {
     "data": {
      "text/latex": [
       "$\\displaystyle 0.21 t^{2}$"
      ],
      "text/plain": [
       "0.21*t**2"
      ]
     },
     "metadata": {},
     "output_type": "display_data"
    },
    {
     "name": "stdout",
     "output_type": "stream",
     "text": [
      "1600 processed\n",
      "Skipping due to diff= 0.012022935865913421\n"
     ]
    },
    {
     "data": {
      "text/latex": [
       "$\\displaystyle 0.1875 t^{3} - 0.375 t^{2} + 0.25 t$"
      ],
      "text/plain": [
       "0.1875*t**3 - 0.375*t**2 + 0.25*t"
      ]
     },
     "metadata": {},
     "output_type": "display_data"
    },
    {
     "data": {
      "text/latex": [
       "$\\displaystyle 0.19 t^{3} - 0.38 t^{2} + 0.25 t$"
      ],
      "text/plain": [
       "0.19*t**3 - 0.38*t**2 + 0.25*t"
      ]
     },
     "metadata": {},
     "output_type": "display_data"
    },
    {
     "name": "stdout",
     "output_type": "stream",
     "text": [
      "Skipping due to diff= 0.03999999999999875\n"
     ]
    },
    {
     "data": {
      "text/latex": [
       "$\\displaystyle 0.0208333333333333 t^{3} + 0.0625 t^{2} + 0.0625 t$"
      ],
      "text/plain": [
       "0.0208333333333333*t**3 + 0.0625*t**2 + 0.0625*t"
      ]
     },
     "metadata": {},
     "output_type": "display_data"
    },
    {
     "data": {
      "text/latex": [
       "$\\displaystyle 0.02 t^{3} + 0.06 t^{2} + 0.06 t$"
      ],
      "text/plain": [
       "0.02*t**3 + 0.06*t**2 + 0.06*t"
      ]
     },
     "metadata": {},
     "output_type": "display_data"
    },
    {
     "name": "stdout",
     "output_type": "stream",
     "text": [
      "1700 processed\n",
      "Skipping due to diff= 0.18323427621227703\n"
     ]
    },
    {
     "data": {
      "text/latex": [
       "$\\displaystyle 0.00680272108843537 t^{3} - 0.0408163265306122 t^{2} + 0.0816326530612245 t$"
      ],
      "text/plain": [
       "0.00680272108843537*t**3 - 0.0408163265306122*t**2 + 0.0816326530612245*t"
      ]
     },
     "metadata": {},
     "output_type": "display_data"
    },
    {
     "data": {
      "text/latex": [
       "$\\displaystyle 0.01 t^{3} - 0.04 t^{2} + 0.08 t$"
      ],
      "text/plain": [
       "0.01*t**3 - 0.04*t**2 + 0.08*t"
      ]
     },
     "metadata": {},
     "output_type": "display_data"
    },
    {
     "name": "stdout",
     "output_type": "stream",
     "text": [
      "1800 processed\n",
      "Skipping due to diff= 0.015215175369217203\n"
     ]
    },
    {
     "data": {
      "text/latex": [
       "$\\displaystyle 0.244897959183673 t^{3} - 0.857142857142857 t^{2} + 1.0 t$"
      ],
      "text/plain": [
       "0.244897959183673*t**3 - 0.857142857142857*t**2 + 1.0*t"
      ]
     },
     "metadata": {},
     "output_type": "display_data"
    },
    {
     "data": {
      "text/latex": [
       "$\\displaystyle 0.25 t^{3} - 0.86 t^{2} + 1.0 t$"
      ],
      "text/plain": [
       "0.25*t**3 - 0.86*t**2 + 1.0*t"
      ]
     },
     "metadata": {},
     "output_type": "display_data"
    },
    {
     "name": "stdout",
     "output_type": "stream",
     "text": [
      "1900 processed\n",
      "Skipping due to diff= 0.03164821259095167\n"
     ]
    },
    {
     "data": {
      "text/latex": [
       "$\\displaystyle 0.0833333333333333 t^{3} - 0.25 t^{2} + 0.25 t$"
      ],
      "text/plain": [
       "0.0833333333333333*t**3 - 0.25*t**2 + 0.25*t"
      ]
     },
     "metadata": {},
     "output_type": "display_data"
    },
    {
     "data": {
      "text/latex": [
       "$\\displaystyle 0.08 t^{3} - 0.25 t^{2} + 0.25 t$"
      ],
      "text/plain": [
       "0.08*t**3 - 0.25*t**2 + 0.25*t"
      ]
     },
     "metadata": {},
     "output_type": "display_data"
    },
    {
     "name": "stdout",
     "output_type": "stream",
     "text": [
      "2000 processed\n",
      "2100 processed\n",
      "Skipping due to diff= 0.02817749808059334\n"
     ]
    },
    {
     "data": {
      "text/latex": [
       "$\\displaystyle 0.0272108843537415 t^{3} - 0.244897959183673 t^{2} + 0.73469387755102 t$"
      ],
      "text/plain": [
       "0.0272108843537415*t**3 - 0.244897959183673*t**2 + 0.73469387755102*t"
      ]
     },
     "metadata": {},
     "output_type": "display_data"
    },
    {
     "data": {
      "text/latex": [
       "$\\displaystyle 0.03 t^{3} - 0.25 t^{2} + 0.73 t$"
      ],
      "text/plain": [
       "0.03*t**3 - 0.25*t**2 + 0.73*t"
      ]
     },
     "metadata": {},
     "output_type": "display_data"
    },
    {
     "name": "stdout",
     "output_type": "stream",
     "text": [
      "2200 processed\n",
      "2300 processed\n",
      "Skipping due to diff= 0.020000000000000552\n"
     ]
    },
    {
     "data": {
      "text/latex": [
       "$\\displaystyle 0.0612244897959184 t^{3} - 0.122448979591837 t^{2} + 0.0816326530612245 t$"
      ],
      "text/plain": [
       "0.0612244897959184*t**3 - 0.122448979591837*t**2 + 0.0816326530612245*t"
      ]
     },
     "metadata": {},
     "output_type": "display_data"
    },
    {
     "data": {
      "text/latex": [
       "$\\displaystyle 0.06 t^{3} - 0.12 t^{2} + 0.08 t$"
      ],
      "text/plain": [
       "0.06*t**3 - 0.12*t**2 + 0.08*t"
      ]
     },
     "metadata": {},
     "output_type": "display_data"
    },
    {
     "name": "stdout",
     "output_type": "stream",
     "text": [
      "2400 processed\n",
      "Skipping due to diff= 0.025502225453370938\n"
     ]
    },
    {
     "data": {
      "text/latex": [
       "$\\displaystyle 0.037037037037037 t^{3} + 0.333333333333333 t^{2} + 1.0 t$"
      ],
      "text/plain": [
       "0.037037037037037*t**3 + 0.333333333333333*t**2 + 1.0*t"
      ]
     },
     "metadata": {},
     "output_type": "display_data"
    },
    {
     "data": {
      "text/latex": [
       "$\\displaystyle 0.04 t^{3} + 0.33 t^{2} + 1.0 t$"
      ],
      "text/plain": [
       "0.04*t**3 + 0.33*t**2 + 1.0*t"
      ]
     },
     "metadata": {},
     "output_type": "display_data"
    },
    {
     "name": "stdout",
     "output_type": "stream",
     "text": [
      "Skipping due to diff= 0.010737257215813669\n"
     ]
    },
    {
     "data": {
      "text/latex": [
       "$\\displaystyle 0.037037037037037 t^{3} + 0.666666666666667 t^{2} + 4.0 t$"
      ],
      "text/plain": [
       "0.037037037037037*t**3 + 0.666666666666667*t**2 + 4.0*t"
      ]
     },
     "metadata": {},
     "output_type": "display_data"
    },
    {
     "data": {
      "text/latex": [
       "$\\displaystyle 0.04 t^{3} + 0.66 t^{2} + 4.01 t$"
      ],
      "text/plain": [
       "0.04*t**3 + 0.66*t**2 + 4.01*t"
      ]
     },
     "metadata": {},
     "output_type": "display_data"
    },
    {
     "name": "stdout",
     "output_type": "stream",
     "text": [
      "Skipping due to diff= 0.011906051039736052\n"
     ]
    },
    {
     "data": {
      "text/latex": [
       "$\\displaystyle 0.1875 t^{3} - 0.1875 t^{2} + 0.0625 t$"
      ],
      "text/plain": [
       "0.1875*t**3 - 0.1875*t**2 + 0.0625*t"
      ]
     },
     "metadata": {},
     "output_type": "display_data"
    },
    {
     "data": {
      "text/latex": [
       "$\\displaystyle 0.19 t^{3} - 0.19 t^{2} + 0.06 t$"
      ],
      "text/plain": [
       "0.19*t**3 - 0.19*t**2 + 0.06*t"
      ]
     },
     "metadata": {},
     "output_type": "display_data"
    },
    {
     "name": "stdout",
     "output_type": "stream",
     "text": [
      "2500 processed\n",
      "2600 processed\n",
      "2700 processed\n",
      "2800 processed\n",
      "2900 processed\n",
      "3000 processed\n",
      "Skipping due to diff= 0.03615993287995145\n"
     ]
    },
    {
     "data": {
      "text/latex": [
       "$\\displaystyle 0.037037037037037 t^{3} + 0.222222222222222 t^{2} + 0.444444444444444 t$"
      ],
      "text/plain": [
       "0.037037037037037*t**3 + 0.222222222222222*t**2 + 0.444444444444444*t"
      ]
     },
     "metadata": {},
     "output_type": "display_data"
    },
    {
     "data": {
      "text/latex": [
       "$\\displaystyle 0.04 t^{3} + 0.22 t^{2} + 0.44 t$"
      ],
      "text/plain": [
       "0.04*t**3 + 0.22*t**2 + 0.44*t"
      ]
     },
     "metadata": {},
     "output_type": "display_data"
    },
    {
     "name": "stdout",
     "output_type": "stream",
     "text": [
      "Skipping due to diff= 0.03125527327270995\n"
     ]
    },
    {
     "data": {
      "text/latex": [
       "$\\displaystyle - 0.125 t^{2} + 0.5 t$"
      ],
      "text/plain": [
       "-0.125*t**2 + 0.5*t"
      ]
     },
     "metadata": {},
     "output_type": "display_data"
    },
    {
     "data": {
      "text/latex": [
       "$\\displaystyle - 0.12 t^{2} + 0.5 t$"
      ],
      "text/plain": [
       "-0.12*t**2 + 0.5*t"
      ]
     },
     "metadata": {},
     "output_type": "display_data"
    },
    {
     "name": "stdout",
     "output_type": "stream",
     "text": [
      "Skipping due to diff= 0.03831743477761161\n"
     ]
    },
    {
     "data": {
      "text/latex": [
       "$\\displaystyle - 0.125 t^{2} + 0.25 t$"
      ],
      "text/plain": [
       "-0.125*t**2 + 0.25*t"
      ]
     },
     "metadata": {},
     "output_type": "display_data"
    },
    {
     "data": {
      "text/latex": [
       "$\\displaystyle - 0.12 t^{2} + 0.25 t$"
      ],
      "text/plain": [
       "-0.12*t**2 + 0.25*t"
      ]
     },
     "metadata": {},
     "output_type": "display_data"
    },
    {
     "name": "stdout",
     "output_type": "stream",
     "text": [
      "3100 processed\n",
      "Skipping due to diff= 0.015536477487326955\n"
     ]
    },
    {
     "data": {
      "text/latex": [
       "$\\displaystyle 0.0533333333333333 t^{3} - 0.56 t^{2} + 1.96 t$"
      ],
      "text/plain": [
       "0.0533333333333333*t**3 - 0.56*t**2 + 1.96*t"
      ]
     },
     "metadata": {},
     "output_type": "display_data"
    },
    {
     "data": {
      "text/latex": [
       "$\\displaystyle 0.05 t^{3} - 0.56 t^{2} + 1.96 t$"
      ],
      "text/plain": [
       "0.05*t**3 - 0.56*t**2 + 1.96*t"
      ]
     },
     "metadata": {},
     "output_type": "display_data"
    },
    {
     "name": "stdout",
     "output_type": "stream",
     "text": [
      "3200 processed\n",
      "Skipping due to diff= 0.013740319307972315\n"
     ]
    },
    {
     "data": {
      "text/latex": [
       "$\\displaystyle 0.285714285714286 t^{2} - 0.714285714285714 t$"
      ],
      "text/plain": [
       "0.285714285714286*t**2 - 0.714285714285714*t"
      ]
     },
     "metadata": {},
     "output_type": "display_data"
    },
    {
     "data": {
      "text/latex": [
       "$\\displaystyle 0.29 t^{2} - 0.71 t$"
      ],
      "text/plain": [
       "0.29*t**2 - 0.71*t"
      ]
     },
     "metadata": {},
     "output_type": "display_data"
    },
    {
     "name": "stdout",
     "output_type": "stream",
     "text": [
      "Skipping due to diff= 0.02000000000000051\n"
     ]
    },
    {
     "data": {
      "text/latex": [
       "$\\displaystyle 0.0612244897959184 t^{3} + 0.0612244897959184 t^{2} + 0.0204081632653061 t$"
      ],
      "text/plain": [
       "0.0612244897959184*t**3 + 0.0612244897959184*t**2 + 0.0204081632653061*t"
      ]
     },
     "metadata": {},
     "output_type": "display_data"
    },
    {
     "data": {
      "text/latex": [
       "$\\displaystyle 0.06 t^{3} + 0.06 t^{2} + 0.02 t$"
      ],
      "text/plain": [
       "0.06*t**3 + 0.06*t**2 + 0.02*t"
      ]
     },
     "metadata": {},
     "output_type": "display_data"
    },
    {
     "name": "stdout",
     "output_type": "stream",
     "text": [
      "3300 processed\n",
      "3400 processed\n",
      "3500 processed\n",
      "3600 processed\n",
      "Skipping due to diff= 0.06020546902042363\n"
     ]
    },
    {
     "data": {
      "text/latex": [
       "$\\displaystyle 0.037037037037037 t^{3} + 0.111111111111111 t^{2} + 0.111111111111111 t$"
      ],
      "text/plain": [
       "0.037037037037037*t**3 + 0.111111111111111*t**2 + 0.111111111111111*t"
      ]
     },
     "metadata": {},
     "output_type": "display_data"
    },
    {
     "data": {
      "text/latex": [
       "$\\displaystyle 0.04 t^{3} + 0.11 t^{2} + 0.11 t$"
      ],
      "text/plain": [
       "0.04*t**3 + 0.11*t**2 + 0.11*t"
      ]
     },
     "metadata": {},
     "output_type": "display_data"
    },
    {
     "name": "stdout",
     "output_type": "stream",
     "text": [
      "3700 processed\n",
      "Skipping due to diff= 0.014671812790908095\n"
     ]
    },
    {
     "data": {
      "text/latex": [
       "$\\displaystyle 0.037037037037037 t^{3} - 0.555555555555556 t^{2} + 2.77777777777778 t$"
      ],
      "text/plain": [
       "0.037037037037037*t**3 - 0.555555555555556*t**2 + 2.77777777777778*t"
      ]
     },
     "metadata": {},
     "output_type": "display_data"
    },
    {
     "data": {
      "text/latex": [
       "$\\displaystyle 0.04 t^{3} - 0.55 t^{2} + 2.79 t + 0.01$"
      ],
      "text/plain": [
       "0.04*t**3 - 0.55*t**2 + 2.79*t + 0.01"
      ]
     },
     "metadata": {},
     "output_type": "display_data"
    },
    {
     "name": "stdout",
     "output_type": "stream",
     "text": [
      "Skipping due to diff= 0.010295552994719528\n"
     ]
    },
    {
     "data": {
      "text/latex": [
       "$\\displaystyle 0.108843537414966 t^{3} + 0.0816326530612245 t^{2} + 0.0204081632653061 t$"
      ],
      "text/plain": [
       "0.108843537414966*t**3 + 0.0816326530612245*t**2 + 0.0204081632653061*t"
      ]
     },
     "metadata": {},
     "output_type": "display_data"
    },
    {
     "data": {
      "text/latex": [
       "$\\displaystyle 0.11 t^{3} + 0.08 t^{2} + 0.02 t$"
      ],
      "text/plain": [
       "0.11*t**3 + 0.08*t**2 + 0.02*t"
      ]
     },
     "metadata": {},
     "output_type": "display_data"
    },
    {
     "name": "stdout",
     "output_type": "stream",
     "text": [
      "3800 processed\n",
      "Skipping due to diff= 0.037970314237388614\n"
     ]
    },
    {
     "data": {
      "text/latex": [
       "$\\displaystyle 0.0272108843537415 t^{3} - 0.204081632653061 t^{2} + 0.510204081632653 t$"
      ],
      "text/plain": [
       "0.0272108843537415*t**3 - 0.204081632653061*t**2 + 0.510204081632653*t"
      ]
     },
     "metadata": {},
     "output_type": "display_data"
    },
    {
     "data": {
      "text/latex": [
       "$\\displaystyle 0.03 t^{3} - 0.2 t^{2} + 0.51 t$"
      ],
      "text/plain": [
       "0.03*t**3 - 0.2*t**2 + 0.51*t"
      ]
     },
     "metadata": {},
     "output_type": "display_data"
    },
    {
     "name": "stdout",
     "output_type": "stream",
     "text": [
      "Skipping due to diff= 0.011371833839919455\n"
     ]
    },
    {
     "data": {
      "text/latex": [
       "$\\displaystyle - 0.142857142857143 t^{2} - 0.857142857142857 t$"
      ],
      "text/plain": [
       "-0.142857142857143*t**2 - 0.857142857142857*t"
      ]
     },
     "metadata": {},
     "output_type": "display_data"
    },
    {
     "data": {
      "text/latex": [
       "$\\displaystyle - 0.14 t^{2} - 0.86 t$"
      ],
      "text/plain": [
       "-0.14*t**2 - 0.86*t"
      ]
     },
     "metadata": {},
     "output_type": "display_data"
    },
    {
     "name": "stdout",
     "output_type": "stream",
     "text": [
      "3900 processed\n",
      "4000 processed\n",
      "Skipping due to diff= 0.015624999999998423\n"
     ]
    },
    {
     "data": {
      "text/latex": [
       "$\\displaystyle 0.213333333333333 t^{3}$"
      ],
      "text/plain": [
       "0.213333333333333*t**3"
      ]
     },
     "metadata": {},
     "output_type": "display_data"
    },
    {
     "data": {
      "text/latex": [
       "$\\displaystyle 0.21 t^{3}$"
      ],
      "text/plain": [
       "0.21*t**3"
      ]
     },
     "metadata": {},
     "output_type": "display_data"
    },
    {
     "name": "stdout",
     "output_type": "stream",
     "text": [
      "4100 processed\n",
      "4200 processed\n",
      "4300 processed\n",
      "Skipping due to diff= 0.010171690194581199\n"
     ]
    },
    {
     "data": {
      "text/latex": [
       "$\\displaystyle 0.444444444444444 t^{3} + 0.666666666666667 t^{2} + 0.333333333333333 t$"
      ],
      "text/plain": [
       "0.444444444444444*t**3 + 0.666666666666667*t**2 + 0.333333333333333*t"
      ]
     },
     "metadata": {},
     "output_type": "display_data"
    },
    {
     "data": {
      "text/latex": [
       "$\\displaystyle 0.44 t^{3} + 0.67 t^{2} + 0.33 t$"
      ],
      "text/plain": [
       "0.44*t**3 + 0.67*t**2 + 0.33*t"
      ]
     },
     "metadata": {},
     "output_type": "display_data"
    },
    {
     "name": "stdout",
     "output_type": "stream",
     "text": [
      "4400 processed\n",
      "Skipping due to diff= 0.010513296227581839\n"
     ]
    },
    {
     "data": {
      "text/latex": [
       "$\\displaystyle 0.108843537414966 t^{3} + 0.326530612244898 t^{2} + 0.326530612244898 t$"
      ],
      "text/plain": [
       "0.108843537414966*t**3 + 0.326530612244898*t**2 + 0.326530612244898*t"
      ]
     },
     "metadata": {},
     "output_type": "display_data"
    },
    {
     "data": {
      "text/latex": [
       "$\\displaystyle 0.11 t^{3} + 0.33 t^{2} + 0.33 t$"
      ],
      "text/plain": [
       "0.11*t**3 + 0.33*t**2 + 0.33*t"
      ]
     },
     "metadata": {},
     "output_type": "display_data"
    },
    {
     "name": "stdout",
     "output_type": "stream",
     "text": [
      "Skipping due to diff= 0.016496008005847773\n"
     ]
    },
    {
     "data": {
      "text/latex": [
       "$\\displaystyle 0.00680272108843537 t^{3} - 0.183673469387755 t^{2} + 1.6530612244898 t$"
      ],
      "text/plain": [
       "0.00680272108843537*t**3 - 0.183673469387755*t**2 + 1.6530612244898*t"
      ]
     },
     "metadata": {},
     "output_type": "display_data"
    },
    {
     "data": {
      "text/latex": [
       "$\\displaystyle 0.01 t^{3} - 0.18 t^{2} + 1.64 t$"
      ],
      "text/plain": [
       "0.01*t**3 - 0.18*t**2 + 1.64*t"
      ]
     },
     "metadata": {},
     "output_type": "display_data"
    },
    {
     "name": "stdout",
     "output_type": "stream",
     "text": [
      "Skipping due to diff= 0.010353921118106632\n"
     ]
    },
    {
     "data": {
      "text/latex": [
       "$\\displaystyle 0.166666666666667 t^{3} + 1.0 t^{2} + 2.0 t$"
      ],
      "text/plain": [
       "0.166666666666667*t**3 + 1.0*t**2 + 2.0*t"
      ]
     },
     "metadata": {},
     "output_type": "display_data"
    },
    {
     "data": {
      "text/latex": [
       "$\\displaystyle 0.17 t^{3} + 1.0 t^{2} + 2.0 t$"
      ],
      "text/plain": [
       "0.17*t**3 + 1.0*t**2 + 2.0*t"
      ]
     },
     "metadata": {},
     "output_type": "display_data"
    },
    {
     "name": "stdout",
     "output_type": "stream",
     "text": [
      "4500 processed\n",
      "Skipping due to diff= 0.01561239421573437\n"
     ]
    },
    {
     "data": {
      "text/latex": [
       "$\\displaystyle 0.166666666666667 t^{2} - 0.666666666666667 t$"
      ],
      "text/plain": [
       "0.166666666666667*t**2 - 0.666666666666667*t"
      ]
     },
     "metadata": {},
     "output_type": "display_data"
    },
    {
     "data": {
      "text/latex": [
       "$\\displaystyle 0.17 t^{2} - 0.67 t$"
      ],
      "text/plain": [
       "0.17*t**2 - 0.67*t"
      ]
     },
     "metadata": {},
     "output_type": "display_data"
    },
    {
     "name": "stdout",
     "output_type": "stream",
     "text": [
      "Skipping due to diff= 0.20560670831963118\n"
     ]
    },
    {
     "data": {
      "text/latex": [
       "$\\displaystyle 0.0133333333333333 t^{3} + 0.04 t^{2} + 0.04 t$"
      ],
      "text/plain": [
       "0.0133333333333333*t**3 + 0.04*t**2 + 0.04*t"
      ]
     },
     "metadata": {},
     "output_type": "display_data"
    },
    {
     "data": {
      "text/latex": [
       "$\\displaystyle 0.01 t^{3} + 0.04 t^{2} + 0.04 t$"
      ],
      "text/plain": [
       "0.01*t**3 + 0.04*t**2 + 0.04*t"
      ]
     },
     "metadata": {},
     "output_type": "display_data"
    },
    {
     "name": "stdout",
     "output_type": "stream",
     "text": [
      "Skipping due to diff= 0.11694581989683726\n"
     ]
    },
    {
     "data": {
      "text/latex": [
       "$\\displaystyle 0.00680272108843537 t^{3} - 0.0612244897959184 t^{2} + 0.183673469387755 t$"
      ],
      "text/plain": [
       "0.00680272108843537*t**3 - 0.0612244897959184*t**2 + 0.183673469387755*t"
      ]
     },
     "metadata": {},
     "output_type": "display_data"
    },
    {
     "data": {
      "text/latex": [
       "$\\displaystyle 0.01 t^{3} - 0.06 t^{2} + 0.18 t$"
      ],
      "text/plain": [
       "0.01*t**3 - 0.06*t**2 + 0.18*t"
      ]
     },
     "metadata": {},
     "output_type": "display_data"
    },
    {
     "name": "stdout",
     "output_type": "stream",
     "text": [
      "4600 processed\n",
      "Skipping due to diff= 0.06397783861644858\n"
     ]
    },
    {
     "data": {
      "text/latex": [
       "$\\displaystyle 0.00680272108843537 t^{3} + 0.102040816326531 t^{2} + 0.510204081632653 t$"
      ],
      "text/plain": [
       "0.00680272108843537*t**3 + 0.102040816326531*t**2 + 0.510204081632653*t"
      ]
     },
     "metadata": {},
     "output_type": "display_data"
    },
    {
     "data": {
      "text/latex": [
       "$\\displaystyle 0.01 t^{3} + 0.1 t^{2} + 0.51 t$"
      ],
      "text/plain": [
       "0.01*t**3 + 0.1*t**2 + 0.51*t"
      ]
     },
     "metadata": {},
     "output_type": "display_data"
    },
    {
     "name": "stdout",
     "output_type": "stream",
     "text": [
      "4700 processed\n",
      "Skipping due to diff= 0.013195038981960427\n"
     ]
    },
    {
     "data": {
      "text/latex": [
       "$\\displaystyle 0.375 t^{2} + 0.25 t$"
      ],
      "text/plain": [
       "0.375*t**2 + 0.25*t"
      ]
     },
     "metadata": {},
     "output_type": "display_data"
    },
    {
     "data": {
      "text/latex": [
       "$\\displaystyle 0.38 t^{2} + 0.25 t$"
      ],
      "text/plain": [
       "0.38*t**2 + 0.25*t"
      ]
     },
     "metadata": {},
     "output_type": "display_data"
    },
    {
     "name": "stdout",
     "output_type": "stream",
     "text": [
      "Skipping due to diff= 0.019345007889606972\n"
     ]
    },
    {
     "data": {
      "text/latex": [
       "$\\displaystyle 0.0133333333333333 t^{3} - 0.28 t^{2} + 1.96 t$"
      ],
      "text/plain": [
       "0.0133333333333333*t**3 - 0.28*t**2 + 1.96*t"
      ]
     },
     "metadata": {},
     "output_type": "display_data"
    },
    {
     "data": {
      "text/latex": [
       "$\\displaystyle 0.01 t^{3} - 0.28 t^{2} + 1.96 t$"
      ],
      "text/plain": [
       "0.01*t**3 - 0.28*t**2 + 1.96*t"
      ]
     },
     "metadata": {},
     "output_type": "display_data"
    },
    {
     "name": "stdout",
     "output_type": "stream",
     "text": [
      "Skipping due to diff= 0.013203960396039544\n"
     ]
    },
    {
     "data": {
      "text/latex": [
       "$\\displaystyle - 0.125 t^{2} + 1.25 t$"
      ],
      "text/plain": [
       "-0.125*t**2 + 1.25*t"
      ]
     },
     "metadata": {},
     "output_type": "display_data"
    },
    {
     "data": {
      "text/latex": [
       "$\\displaystyle - 0.12 t^{2} + 1.25 t$"
      ],
      "text/plain": [
       "-0.12*t**2 + 1.25*t"
      ]
     },
     "metadata": {},
     "output_type": "display_data"
    },
    {
     "name": "stdout",
     "output_type": "stream",
     "text": [
      "4800 processed\n",
      "Skipping due to diff= 0.02258807588075889\n"
     ]
    },
    {
     "data": {
      "text/latex": [
       "$\\displaystyle - 0.125 t^{2} - 0.75 t$"
      ],
      "text/plain": [
       "-0.125*t**2 - 0.75*t"
      ]
     },
     "metadata": {},
     "output_type": "display_data"
    },
    {
     "data": {
      "text/latex": [
       "$\\displaystyle - 0.12 t^{2} - 0.75 t$"
      ],
      "text/plain": [
       "-0.12*t**2 - 0.75*t"
      ]
     },
     "metadata": {},
     "output_type": "display_data"
    },
    {
     "name": "stdout",
     "output_type": "stream",
     "text": [
      "4900 processed\n",
      "Skipping due to diff= 0.06249999999999938\n"
     ]
    },
    {
     "data": {
      "text/latex": [
       "$\\displaystyle 0.0533333333333333 t^{3}$"
      ],
      "text/plain": [
       "0.0533333333333333*t**3"
      ]
     },
     "metadata": {},
     "output_type": "display_data"
    },
    {
     "data": {
      "text/latex": [
       "$\\displaystyle 0.05 t^{3}$"
      ],
      "text/plain": [
       "0.05*t**3"
      ]
     },
     "metadata": {},
     "output_type": "display_data"
    },
    {
     "name": "stdout",
     "output_type": "stream",
     "text": [
      "Skipping due to diff= 0.01879939700900003\n"
     ]
    },
    {
     "data": {
      "text/latex": [
       "$\\displaystyle - 0.166666666666667 t^{2} + 0.333333333333333 t$"
      ],
      "text/plain": [
       "-0.166666666666667*t**2 + 0.333333333333333*t"
      ]
     },
     "metadata": {},
     "output_type": "display_data"
    },
    {
     "data": {
      "text/latex": [
       "$\\displaystyle - 0.17 t^{2} + 0.33 t$"
      ],
      "text/plain": [
       "-0.17*t**2 + 0.33*t"
      ]
     },
     "metadata": {},
     "output_type": "display_data"
    },
    {
     "name": "stdout",
     "output_type": "stream",
     "text": [
      "5000 processed\n",
      "5100 processed\n",
      "5200 processed\n",
      "5300 processed\n",
      "5400 processed\n",
      "Skipping due to diff= 0.010876757110165856\n"
     ]
    },
    {
     "data": {
      "text/latex": [
       "$\\displaystyle - 0.214285714285714 t^{2} + 1.28571428571429 t$"
      ],
      "text/plain": [
       "-0.214285714285714*t**2 + 1.28571428571429*t"
      ]
     },
     "metadata": {},
     "output_type": "display_data"
    },
    {
     "data": {
      "text/latex": [
       "$\\displaystyle - 0.21 t^{2} + 1.29 t$"
      ],
      "text/plain": [
       "-0.21*t**2 + 1.29*t"
      ]
     },
     "metadata": {},
     "output_type": "display_data"
    },
    {
     "name": "stdout",
     "output_type": "stream",
     "text": [
      "Skipping due to diff= 0.031131746664010477\n"
     ]
    },
    {
     "data": {
      "text/latex": [
       "$\\displaystyle 0.0533333333333333 t^{3} - 0.32 t^{2} + 0.64 t$"
      ],
      "text/plain": [
       "0.0533333333333333*t**3 - 0.32*t**2 + 0.64*t"
      ]
     },
     "metadata": {},
     "output_type": "display_data"
    },
    {
     "data": {
      "text/latex": [
       "$\\displaystyle 0.05 t^{3} - 0.32 t^{2} + 0.64 t$"
      ],
      "text/plain": [
       "0.05*t**3 - 0.32*t**2 + 0.64*t"
      ]
     },
     "metadata": {},
     "output_type": "display_data"
    },
    {
     "name": "stdout",
     "output_type": "stream",
     "text": [
      "5500 processed\n",
      "Skipping due to diff= 0.01960784313725307\n"
     ]
    },
    {
     "data": {
      "text/latex": [
       "$\\displaystyle 0.166666666666667 t^{3}$"
      ],
      "text/plain": [
       "0.166666666666667*t**3"
      ]
     },
     "metadata": {},
     "output_type": "display_data"
    },
    {
     "data": {
      "text/latex": [
       "$\\displaystyle 0.17 t^{3}$"
      ],
      "text/plain": [
       "0.17*t**3"
      ]
     },
     "metadata": {},
     "output_type": "display_data"
    },
    {
     "name": "stdout",
     "output_type": "stream",
     "text": [
      "5600 processed\n",
      "5700 processed\n",
      "Skipping due to diff= 0.010513296227581861\n"
     ]
    },
    {
     "data": {
      "text/latex": [
       "$\\displaystyle 0.108843537414966 t^{3} - 0.326530612244898 t^{2} + 0.326530612244898 t$"
      ],
      "text/plain": [
       "0.108843537414966*t**3 - 0.326530612244898*t**2 + 0.326530612244898*t"
      ]
     },
     "metadata": {},
     "output_type": "display_data"
    },
    {
     "data": {
      "text/latex": [
       "$\\displaystyle 0.11 t^{3} - 0.33 t^{2} + 0.33 t$"
      ],
      "text/plain": [
       "0.11*t**3 - 0.33*t**2 + 0.33*t"
      ]
     },
     "metadata": {},
     "output_type": "display_data"
    },
    {
     "name": "stdout",
     "output_type": "stream",
     "text": [
      "5800 processed\n",
      "5900 processed\n",
      "Skipping due to diff= 0.016182360515297735\n"
     ]
    },
    {
     "data": {
      "text/latex": [
       "$\\displaystyle 0.166666666666667 t^{3} + 0.5 t^{2} + 0.5 t$"
      ],
      "text/plain": [
       "0.166666666666667*t**3 + 0.5*t**2 + 0.5*t"
      ]
     },
     "metadata": {},
     "output_type": "display_data"
    },
    {
     "data": {
      "text/latex": [
       "$\\displaystyle 0.17 t^{3} + 0.5 t^{2} + 0.5 t$"
      ],
      "text/plain": [
       "0.17*t**3 + 0.5*t**2 + 0.5*t"
      ]
     },
     "metadata": {},
     "output_type": "display_data"
    },
    {
     "name": "stdout",
     "output_type": "stream",
     "text": [
      "6000 processed\n",
      "6100 processed\n",
      "Skipping due to diff= 0.013104521728193192\n"
     ]
    },
    {
     "data": {
      "text/latex": [
       "$\\displaystyle - 0.375 t^{2} + 0.5 t$"
      ],
      "text/plain": [
       "-0.375*t**2 + 0.5*t"
      ]
     },
     "metadata": {},
     "output_type": "display_data"
    },
    {
     "data": {
      "text/latex": [
       "$\\displaystyle - 0.37 t^{2} + 0.5 t$"
      ],
      "text/plain": [
       "-0.37*t**2 + 0.5*t"
      ]
     },
     "metadata": {},
     "output_type": "display_data"
    },
    {
     "name": "stdout",
     "output_type": "stream",
     "text": [
      "6200 processed\n",
      "6300 processed\n",
      "Skipping due to diff= 0.015577604624074301\n"
     ]
    },
    {
     "data": {
      "text/latex": [
       "$\\displaystyle 0.166666666666667 t^{3} - 0.5 t^{2} + 0.5 t$"
      ],
      "text/plain": [
       "0.166666666666667*t**3 - 0.5*t**2 + 0.5*t"
      ]
     },
     "metadata": {},
     "output_type": "display_data"
    },
    {
     "data": {
      "text/latex": [
       "$\\displaystyle 0.17 t^{3} - 0.5 t^{2} + 0.5 t$"
      ],
      "text/plain": [
       "0.17*t**3 - 0.5*t**2 + 0.5*t"
      ]
     },
     "metadata": {},
     "output_type": "display_data"
    },
    {
     "name": "stdout",
     "output_type": "stream",
     "text": [
      "Skipping due to diff= 0.0392189154217153\n"
     ]
    },
    {
     "data": {
      "text/latex": [
       "$\\displaystyle - 0.125 t^{2} - 0.25 t$"
      ],
      "text/plain": [
       "-0.125*t**2 - 0.25*t"
      ]
     },
     "metadata": {},
     "output_type": "display_data"
    },
    {
     "data": {
      "text/latex": [
       "$\\displaystyle - 0.12 t^{2} - 0.25 t$"
      ],
      "text/plain": [
       "-0.12*t**2 - 0.25*t"
      ]
     },
     "metadata": {},
     "output_type": "display_data"
    },
    {
     "name": "stdout",
     "output_type": "stream",
     "text": [
      "Skipping due to diff= 0.016195578065647923\n"
     ]
    },
    {
     "data": {
      "text/latex": [
       "$\\displaystyle - 0.142857142857143 t^{2} - 0.571428571428571 t$"
      ],
      "text/plain": [
       "-0.142857142857143*t**2 - 0.571428571428571*t"
      ]
     },
     "metadata": {},
     "output_type": "display_data"
    },
    {
     "data": {
      "text/latex": [
       "$\\displaystyle - 0.14 t^{2} - 0.57 t$"
      ],
      "text/plain": [
       "-0.14*t**2 - 0.57*t"
      ]
     },
     "metadata": {},
     "output_type": "display_data"
    },
    {
     "name": "stdout",
     "output_type": "stream",
     "text": [
      "6400 processed\n",
      "Skipping due to diff= 0.011721738445614574\n"
     ]
    },
    {
     "data": {
      "text/latex": [
       "$\\displaystyle 0.375 t^{2} + 1.25 t$"
      ],
      "text/plain": [
       "0.375*t**2 + 1.25*t"
      ]
     },
     "metadata": {},
     "output_type": "display_data"
    },
    {
     "data": {
      "text/latex": [
       "$\\displaystyle 0.38 t^{2} + 1.25 t$"
      ],
      "text/plain": [
       "0.38*t**2 + 1.25*t"
      ]
     },
     "metadata": {},
     "output_type": "display_data"
    },
    {
     "name": "stdout",
     "output_type": "stream",
     "text": [
      "Skipping due to diff= 1.0\n"
     ]
    },
    {
     "data": {
      "text/latex": [
       "$\\displaystyle 0$"
      ],
      "text/plain": [
       "0"
      ]
     },
     "metadata": {},
     "output_type": "display_data"
    },
    {
     "data": {
      "text/latex": [
       "$\\displaystyle 13.44 t^{3} - 44.0 t^{2} + 48.0 t$"
      ],
      "text/plain": [
       "13.44*t**3 - 44.0*t**2 + 48.0*t"
      ]
     },
     "metadata": {},
     "output_type": "display_data"
    },
    {
     "name": "stdout",
     "output_type": "stream",
     "text": [
      "6500 processed\n",
      "Skipping due to diff= 0.012772478259203883\n"
     ]
    },
    {
     "data": {
      "text/latex": [
       "$\\displaystyle 0.375 t^{2} - 0.75 t$"
      ],
      "text/plain": [
       "0.375*t**2 - 0.75*t"
      ]
     },
     "metadata": {},
     "output_type": "display_data"
    },
    {
     "data": {
      "text/latex": [
       "$\\displaystyle 0.37 t^{2} - 0.75 t$"
      ],
      "text/plain": [
       "0.37*t**2 - 0.75*t"
      ]
     },
     "metadata": {},
     "output_type": "display_data"
    },
    {
     "name": "stdout",
     "output_type": "stream",
     "text": [
      "6600 processed\n",
      "Skipping due to diff= 0.011194099092742552\n"
     ]
    },
    {
     "data": {
      "text/latex": [
       "$\\displaystyle 0.213333333333333 t^{3} + 4.8 t^{2} + 36.0 t$"
      ],
      "text/plain": [
       "0.213333333333333*t**3 + 4.8*t**2 + 36.0*t"
      ]
     },
     "metadata": {},
     "output_type": "display_data"
    },
    {
     "data": {
      "text/latex": [
       "$\\displaystyle 0.21 t^{3} + 4.76 t^{2} + 36.47 t + 0.01$"
      ],
      "text/plain": [
       "0.21*t**3 + 4.76*t**2 + 36.47*t + 0.01"
      ]
     },
     "metadata": {},
     "output_type": "display_data"
    },
    {
     "name": "stdout",
     "output_type": "stream",
     "text": [
      "6700 processed\n",
      "Skipping due to diff= 0.010874390623379188\n"
     ]
    },
    {
     "data": {
      "text/latex": [
       "$\\displaystyle 0.0833333333333333 t^{3} + 0.875 t^{2} + 3.0625 t$"
      ],
      "text/plain": [
       "0.0833333333333333*t**3 + 0.875*t**2 + 3.0625*t"
      ]
     },
     "metadata": {},
     "output_type": "display_data"
    },
    {
     "data": {
      "text/latex": [
       "$\\displaystyle 0.08 t^{3} + 0.87 t^{2} + 3.06 t$"
      ],
      "text/plain": [
       "0.08*t**3 + 0.87*t**2 + 3.06*t"
      ]
     },
     "metadata": {},
     "output_type": "display_data"
    },
    {
     "name": "stdout",
     "output_type": "stream",
     "text": [
      "6800 processed\n",
      "6900 processed\n",
      "Skipping due to diff= 0.019343212473703325\n"
     ]
    },
    {
     "data": {
      "text/latex": [
       "$\\displaystyle 0.0533333333333333 t^{3} - 0.48 t^{2} + 1.44 t$"
      ],
      "text/plain": [
       "0.0533333333333333*t**3 - 0.48*t**2 + 1.44*t"
      ]
     },
     "metadata": {},
     "output_type": "display_data"
    },
    {
     "data": {
      "text/latex": [
       "$\\displaystyle 0.05 t^{3} - 0.48 t^{2} + 1.44 t$"
      ],
      "text/plain": [
       "0.05*t**3 - 0.48*t**2 + 1.44*t"
      ]
     },
     "metadata": {},
     "output_type": "display_data"
    },
    {
     "name": "stdout",
     "output_type": "stream",
     "text": [
      "Skipping due to diff= 0.020000000000000337\n"
     ]
    },
    {
     "data": {
      "text/latex": [
       "$\\displaystyle 0.0612244897959184 t^{3} + 0.183673469387755 t^{2} + 0.183673469387755 t$"
      ],
      "text/plain": [
       "0.0612244897959184*t**3 + 0.183673469387755*t**2 + 0.183673469387755*t"
      ]
     },
     "metadata": {},
     "output_type": "display_data"
    },
    {
     "data": {
      "text/latex": [
       "$\\displaystyle 0.06 t^{3} + 0.18 t^{2} + 0.18 t$"
      ],
      "text/plain": [
       "0.06*t**3 + 0.18*t**2 + 0.18*t"
      ]
     },
     "metadata": {},
     "output_type": "display_data"
    },
    {
     "name": "stdout",
     "output_type": "stream",
     "text": [
      "7000 processed\n",
      "Skipping due to diff= 0.010149051198805631\n"
     ]
    },
    {
     "data": {
      "text/latex": [
       "$\\displaystyle 0.1875 t^{3} + 0.5625 t^{2} + 0.5625 t$"
      ],
      "text/plain": [
       "0.1875*t**3 + 0.5625*t**2 + 0.5625*t"
      ]
     },
     "metadata": {},
     "output_type": "display_data"
    },
    {
     "data": {
      "text/latex": [
       "$\\displaystyle 0.19 t^{3} + 0.56 t^{2} + 0.56 t$"
      ],
      "text/plain": [
       "0.19*t**3 + 0.56*t**2 + 0.56*t"
      ]
     },
     "metadata": {},
     "output_type": "display_data"
    },
    {
     "name": "stdout",
     "output_type": "stream",
     "text": [
      "7100 processed\n",
      "7200 processed\n",
      "Skipping due to diff= 0.016753632244961448\n"
     ]
    },
    {
     "data": {
      "text/latex": [
       "$\\displaystyle 0.0833333333333333 t^{3} - 0.625 t^{2} + 1.5625 t$"
      ],
      "text/plain": [
       "0.0833333333333333*t**3 - 0.625*t**2 + 1.5625*t"
      ]
     },
     "metadata": {},
     "output_type": "display_data"
    },
    {
     "data": {
      "text/latex": [
       "$\\displaystyle 0.08 t^{3} - 0.62 t^{2} + 1.56 t$"
      ],
      "text/plain": [
       "0.08*t**3 - 0.62*t**2 + 1.56*t"
      ]
     },
     "metadata": {},
     "output_type": "display_data"
    },
    {
     "name": "stdout",
     "output_type": "stream",
     "text": [
      "7300 processed\n",
      "Skipping due to diff= 0.01561239421573437\n"
     ]
    },
    {
     "data": {
      "text/latex": [
       "$\\displaystyle - 0.166666666666667 t^{2} + 0.666666666666667 t$"
      ],
      "text/plain": [
       "-0.166666666666667*t**2 + 0.666666666666667*t"
      ]
     },
     "metadata": {},
     "output_type": "display_data"
    },
    {
     "data": {
      "text/latex": [
       "$\\displaystyle - 0.17 t^{2} + 0.67 t$"
      ],
      "text/plain": [
       "-0.17*t**2 + 0.67*t"
      ]
     },
     "metadata": {},
     "output_type": "display_data"
    },
    {
     "name": "stdout",
     "output_type": "stream",
     "text": [
      "7400 processed\n",
      "7500 processed\n",
      "7600 processed\n",
      "7700 processed\n",
      "Skipping due to diff= 0.0773728498948133\n"
     ]
    },
    {
     "data": {
      "text/latex": [
       "$\\displaystyle 0.0133333333333333 t^{3} - 0.12 t^{2} + 0.36 t$"
      ],
      "text/plain": [
       "0.0133333333333333*t**3 - 0.12*t**2 + 0.36*t"
      ]
     },
     "metadata": {},
     "output_type": "display_data"
    },
    {
     "data": {
      "text/latex": [
       "$\\displaystyle 0.01 t^{3} - 0.12 t^{2} + 0.36 t$"
      ],
      "text/plain": [
       "0.01*t**3 - 0.12*t**2 + 0.36*t"
      ]
     },
     "metadata": {},
     "output_type": "display_data"
    },
    {
     "name": "stdout",
     "output_type": "stream",
     "text": [
      "Skipping due to diff= 0.05514758900121737\n"
     ]
    },
    {
     "data": {
      "text/latex": [
       "$\\displaystyle 0.0272108843537415 t^{3} - 0.122448979591837 t^{2} + 0.183673469387755 t$"
      ],
      "text/plain": [
       "0.0272108843537415*t**3 - 0.122448979591837*t**2 + 0.183673469387755*t"
      ]
     },
     "metadata": {},
     "output_type": "display_data"
    },
    {
     "data": {
      "text/latex": [
       "$\\displaystyle 0.03 t^{3} - 0.12 t^{2} + 0.18 t$"
      ],
      "text/plain": [
       "0.03*t**3 - 0.12*t**2 + 0.18*t"
      ]
     },
     "metadata": {},
     "output_type": "display_data"
    },
    {
     "name": "stdout",
     "output_type": "stream",
     "text": [
      "7800 processed\n",
      "Skipping due to diff= 0.016182360515297735\n"
     ]
    },
    {
     "data": {
      "text/latex": [
       "$\\displaystyle 0.166666666666667 t^{3} + 0.5 t^{2} + 0.5 t$"
      ],
      "text/plain": [
       "0.166666666666667*t**3 + 0.5*t**2 + 0.5*t"
      ]
     },
     "metadata": {},
     "output_type": "display_data"
    },
    {
     "data": {
      "text/latex": [
       "$\\displaystyle 0.17 t^{3} + 0.5 t^{2} + 0.5 t$"
      ],
      "text/plain": [
       "0.17*t**3 + 0.5*t**2 + 0.5*t"
      ]
     },
     "metadata": {},
     "output_type": "display_data"
    },
    {
     "name": "stdout",
     "output_type": "stream",
     "text": [
      "7900 processed\n",
      "Skipping due to diff= 0.012914151492990607\n"
     ]
    },
    {
     "data": {
      "text/latex": [
       "$\\displaystyle - 0.375 t^{2} - 0.75 t$"
      ],
      "text/plain": [
       "-0.375*t**2 - 0.75*t"
      ]
     },
     "metadata": {},
     "output_type": "display_data"
    },
    {
     "data": {
      "text/latex": [
       "$\\displaystyle - 0.38 t^{2} - 0.75 t$"
      ],
      "text/plain": [
       "-0.38*t**2 - 0.75*t"
      ]
     },
     "metadata": {},
     "output_type": "display_data"
    },
    {
     "name": "stdout",
     "output_type": "stream",
     "text": [
      "8000 processed\n",
      "Skipping due to diff= 0.01879939700900003\n"
     ]
    },
    {
     "data": {
      "text/latex": [
       "$\\displaystyle 0.166666666666667 t^{2} - 0.333333333333333 t$"
      ],
      "text/plain": [
       "0.166666666666667*t**2 - 0.333333333333333*t"
      ]
     },
     "metadata": {},
     "output_type": "display_data"
    },
    {
     "data": {
      "text/latex": [
       "$\\displaystyle 0.17 t^{2} - 0.33 t$"
      ],
      "text/plain": [
       "0.17*t**2 - 0.33*t"
      ]
     },
     "metadata": {},
     "output_type": "display_data"
    },
    {
     "name": "stdout",
     "output_type": "stream",
     "text": [
      "8100 processed\n",
      "8200 processed\n",
      "Skipping due to diff= 0.24999999999999814\n"
     ]
    },
    {
     "data": {
      "text/latex": [
       "$\\displaystyle 0.0133333333333333 t^{3}$"
      ],
      "text/plain": [
       "0.0133333333333333*t**3"
      ]
     },
     "metadata": {},
     "output_type": "display_data"
    },
    {
     "data": {
      "text/latex": [
       "$\\displaystyle 0.01 t^{3}$"
      ],
      "text/plain": [
       "0.01*t**3"
      ]
     },
     "metadata": {},
     "output_type": "display_data"
    },
    {
     "name": "stdout",
     "output_type": "stream",
     "text": [
      "8300 processed\n",
      "8400 processed\n",
      "Skipping due to diff= 0.039999999999999626\n"
     ]
    },
    {
     "data": {
      "text/latex": [
       "$\\displaystyle 0.0833333333333333 t^{3}$"
      ],
      "text/plain": [
       "0.0833333333333333*t**3"
      ]
     },
     "metadata": {},
     "output_type": "display_data"
    },
    {
     "data": {
      "text/latex": [
       "$\\displaystyle 0.08 t^{3}$"
      ],
      "text/plain": [
       "0.08*t**3"
      ]
     },
     "metadata": {},
     "output_type": "display_data"
    },
    {
     "name": "stdout",
     "output_type": "stream",
     "text": [
      "8500 processed\n",
      "Skipping due to diff= 0.03430914034720834\n"
     ]
    },
    {
     "data": {
      "text/latex": [
       "$\\displaystyle 0.0208333333333333 t^{3} + 0.125 t^{2} + 0.25 t$"
      ],
      "text/plain": [
       "0.0208333333333333*t**3 + 0.125*t**2 + 0.25*t"
      ]
     },
     "metadata": {},
     "output_type": "display_data"
    },
    {
     "data": {
      "text/latex": [
       "$\\displaystyle 0.02 t^{3} + 0.13 t^{2} + 0.25 t$"
      ],
      "text/plain": [
       "0.02*t**3 + 0.13*t**2 + 0.25*t"
      ]
     },
     "metadata": {},
     "output_type": "display_data"
    },
    {
     "name": "stdout",
     "output_type": "stream",
     "text": [
      "8600 processed\n",
      "8700 processed\n",
      "8800 processed\n",
      "Skipping due to diff= 0.010053873864444594\n"
     ]
    },
    {
     "data": {
      "text/latex": [
       "$\\displaystyle 0.108843537414966 t^{3} - 0.244897959183673 t^{2} + 0.183673469387755 t$"
      ],
      "text/plain": [
       "0.108843537414966*t**3 - 0.244897959183673*t**2 + 0.183673469387755*t"
      ]
     },
     "metadata": {},
     "output_type": "display_data"
    },
    {
     "data": {
      "text/latex": [
       "$\\displaystyle 0.11 t^{3} - 0.24 t^{2} + 0.18 t$"
      ],
      "text/plain": [
       "0.11*t**3 - 0.24*t**2 + 0.18*t"
      ]
     },
     "metadata": {},
     "output_type": "display_data"
    },
    {
     "name": "stdout",
     "output_type": "stream",
     "text": [
      "Skipping due to diff= 0.03164821259095167\n"
     ]
    },
    {
     "data": {
      "text/latex": [
       "$\\displaystyle 0.0833333333333333 t^{3} - 0.25 t^{2} + 0.25 t$"
      ],
      "text/plain": [
       "0.0833333333333333*t**3 - 0.25*t**2 + 0.25*t"
      ]
     },
     "metadata": {},
     "output_type": "display_data"
    },
    {
     "data": {
      "text/latex": [
       "$\\displaystyle 0.08 t^{3} - 0.25 t^{2} + 0.25 t$"
      ],
      "text/plain": [
       "0.08*t**3 - 0.25*t**2 + 0.25*t"
      ]
     },
     "metadata": {},
     "output_type": "display_data"
    },
    {
     "name": "stdout",
     "output_type": "stream",
     "text": [
      "Skipping due to diff= 0.013563747611938794\n"
     ]
    },
    {
     "data": {
      "text/latex": [
       "$\\displaystyle 0.285714285714286 t^{2} + 0.857142857142857 t$"
      ],
      "text/plain": [
       "0.285714285714286*t**2 + 0.857142857142857*t"
      ]
     },
     "metadata": {},
     "output_type": "display_data"
    },
    {
     "data": {
      "text/latex": [
       "$\\displaystyle 0.29 t^{2} + 0.86 t$"
      ],
      "text/plain": [
       "0.29*t**2 + 0.86*t"
      ]
     },
     "metadata": {},
     "output_type": "display_data"
    },
    {
     "name": "stdout",
     "output_type": "stream",
     "text": [
      "8900 processed\n"
     ]
    }
   ],
   "source": [
    "# Generate data for regression to infer the rules for integral\n",
    "# The data is in the following format:\n",
    "# Let us suppose there are N regression problems, and MAX_POWER=6, which is \n",
    "#   the highest power allowed in our polynomials.\n",
    "#   data_series is a list of 7 items, each corresponding to a particular power\n",
    "#   Each item is a tuple of 2 elements, with the first being x's and the second\n",
    "#   being y's for the regression problem for the corresponding power.\n",
    "#   The y's is a 1-D array of size N, which is the coefficient of that particular power for\n",
    "#   each of N regression problems.\n",
    "#   The each of the x's is an array of size 14, which contains \n",
    "#   [0, coeff-power-0, 1, coeff-power-1, 2, coeff-power-2, ...]\n",
    "# If we want to find the connection between x's and y's, we should find that\n",
    "#   y_1 = x_1 (coeff-power-0)\n",
    "#   y_2 = x_3 (coeff-power-1)\n",
    "#   y_3 = x_5 (coeff-power-2)\n",
    "#   y_4 = x_7 (coeff-power-3)\n",
    "#   y_5 = x_9 (coeff-power-4)\n",
    "\n",
    "from sympy import evalf, N\n",
    "from utils.utils import *\n",
    "\n",
    "fin = open(\"datasets/parametric_equations_polynomial_integral_results.json\", \"r\")\n",
    "lines = fin.readlines()\n",
    "\n",
    "MAX_POWER = 6\n",
    "MAX_AVG_DIFF = 0.01\n",
    "\n",
    "data_series = [([],[])] * (MAX_POWER+1)\n",
    "data_series = []\n",
    "originals = []\n",
    "integrals = []\n",
    "t = Symbol('t')\n",
    "\n",
    "for i in range(MAX_POWER+1):\n",
    "    data_series.append((list(),list()))\n",
    "\n",
    "for line in lines:\n",
    "    result = json.loads(line)\n",
    "    if \"rounded_regressed\" not in result:\n",
    "        continue\n",
    "    #original = N(sympify(result[\"original\"]))\n",
    "    original_integral = N(sympify(result[\"rounded_integral\"]))\n",
    "    integral = N(sympify(result[\"rounded_regressed\"]))\n",
    "    try:\n",
    "        original_integral = filter_non_polynomial(original_integral)\n",
    "        integral = filter_non_polynomial(integral)\n",
    "        #original_integral = integrate(original, t)\n",
    "        avg_diff = get_avg_diff(original_integral, integral, t)\n",
    "        if avg_diff > MAX_AVG_DIFF:\n",
    "            #print(\"Skipping due to diff=\", avg_diff)\n",
    "            #display(original_integral)\n",
    "            #display(integral)\n",
    "            continue\n",
    "        else:\n",
    "            \n",
    "    except:\n",
    "        print(\"Cannot filter non-polynomials on\", str(integral))\n",
    "        continue\n",
    "    try:\n",
    "        coeffs_original = get_polynomial_coeffs(original)\n",
    "        coeffs_integral = get_polynomial_coeffs(integral)\n",
    "    except:\n",
    "        print(\"Cannot get_coefficients_and_exponents\")\n",
    "        display(integral)\n",
    "        continue\n",
    "    if original.is_constant():\n",
    "        print(\"Skipping\", line)\n",
    "        continue\n",
    "    xs = list()\n",
    "    for i in range(MAX_POWER+1):\n",
    "        xs.append(i)\n",
    "        xs.append(coeffs_original[i])\n",
    "    for i in range(MAX_POWER+1):\n",
    "        data_series[i][0].append(xs.copy())\n",
    "        data_series[i][1].append(coeffs_integral[i])\n",
    "    if len(data_series[0][1]) % 100 == 0:\n",
    "        print(len(data_series[0][1]), \"processed\")\n",
    "#     if len(data_series[0][1]) == 3844:\n",
    "#         display(original)\n",
    "#         print(original.is_constant())\n",
    "#         display(sympify(result[\"original\"]))\n",
    "#         display(integral)\n",
    "    originals.append(original)\n",
    "    integrals.append(integral)\n",
    "    \n",
    "fin.close()\n"
   ]
  },
  {
   "cell_type": "code",
   "execution_count": 12,
   "id": "537979f1",
   "metadata": {},
   "outputs": [
    {
     "name": "stdout",
     "output_type": "stream",
     "text": [
      "y_idx=3, i=10, x=0.3333333333333333, y=0.08\n"
     ]
    },
    {
     "data": {
      "text/latex": [
       "$\\displaystyle - 2.57142857142857 t - 5.28571428571429$"
      ],
      "text/plain": [
       "-2.57142857142857*t - 5.28571428571429"
      ]
     },
     "metadata": {},
     "output_type": "display_data"
    },
    {
     "data": {
      "text/latex": [
       "$\\displaystyle - 1.29 t^{2} - 5.29 t$"
      ],
      "text/plain": [
       "-1.29*t**2 - 5.29*t"
      ]
     },
     "metadata": {},
     "output_type": "display_data"
    },
    {
     "name": "stdout",
     "output_type": "stream",
     "text": [
      "y_idx=3, i=62, x=0.3333333333333333, y=0.0\n"
     ]
    },
    {
     "data": {
      "text/latex": [
       "$\\displaystyle 65.3333333333333 t^{2} - 121.333333333333 t + 56.3333333333333$"
      ],
      "text/plain": [
       "65.3333333333333*t**2 - 121.333333333333*t + 56.3333333333333"
      ]
     },
     "metadata": {},
     "output_type": "display_data"
    },
    {
     "data": {
      "text/latex": [
       "$\\displaystyle 21.78 t^{3} - 60.67 t^{2} + 56.33 t$"
      ],
      "text/plain": [
       "21.78*t**3 - 60.67*t**2 + 56.33*t"
      ]
     },
     "metadata": {},
     "output_type": "display_data"
    },
    {
     "name": "stdout",
     "output_type": "stream",
     "text": [
      "y_idx=3, i=402, x=0.4444444444444444, y=0.17\n"
     ]
    },
    {
     "data": {
      "text/latex": [
       "$\\displaystyle 75.0 t^{2} - 120.0 t + 48.0$"
      ],
      "text/plain": [
       "75.0*t**2 - 120.0*t + 48.0"
      ]
     },
     "metadata": {},
     "output_type": "display_data"
    },
    {
     "data": {
      "text/latex": [
       "$\\displaystyle 25.0 t^{3} - 60.0 t^{2} + 48.0 t$"
      ],
      "text/plain": [
       "25.0*t**3 - 60.0*t**2 + 48.0*t"
      ]
     },
     "metadata": {},
     "output_type": "display_data"
    },
    {
     "name": "stdout",
     "output_type": "stream",
     "text": [
      "y_idx=3, i=513, x=0.0625, y=0.0\n"
     ]
    },
    {
     "data": {
      "text/latex": [
       "$\\displaystyle 32.1111111111111 t^{2} - 98.2222222222222 t + 75.1111111111111$"
      ],
      "text/plain": [
       "32.1111111111111*t**2 - 98.2222222222222*t + 75.1111111111111"
      ]
     },
     "metadata": {},
     "output_type": "display_data"
    },
    {
     "data": {
      "text/latex": [
       "$\\displaystyle 10.7 t^{3} - 49.11 t^{2} + 75.11 t$"
      ],
      "text/plain": [
       "10.7*t**3 - 49.11*t**2 + 75.11*t"
      ]
     },
     "metadata": {},
     "output_type": "display_data"
    },
    {
     "name": "stdout",
     "output_type": "stream",
     "text": [
      "y_idx=3, i=679, x=0.16, y=0.0\n"
     ]
    },
    {
     "data": {
      "text/latex": [
       "$\\displaystyle - 3.42857142857143 t - 0.142857142857143$"
      ],
      "text/plain": [
       "-3.42857142857143*t - 0.142857142857143"
      ]
     },
     "metadata": {},
     "output_type": "display_data"
    },
    {
     "data": {
      "text/latex": [
       "$\\displaystyle - 1.71 t^{2} - 0.14 t$"
      ],
      "text/plain": [
       "-1.71*t**2 - 0.14*t"
      ]
     },
     "metadata": {},
     "output_type": "display_data"
    },
    {
     "name": "stdout",
     "output_type": "stream",
     "text": [
      "y_idx=3, i=854, x=0.16, y=0.03\n"
     ]
    },
    {
     "data": {
      "text/latex": [
       "$\\displaystyle 2.6 t - 3.0$"
      ],
      "text/plain": [
       "2.6*t - 3.0"
      ]
     },
     "metadata": {},
     "output_type": "display_data"
    },
    {
     "data": {
      "text/latex": [
       "$\\displaystyle 1.3 t^{2} - 3.0 t$"
      ],
      "text/plain": [
       "1.3*t**2 - 3.0*t"
      ]
     },
     "metadata": {},
     "output_type": "display_data"
    },
    {
     "name": "stdout",
     "output_type": "stream",
     "text": [
      "y_idx=3, i=942, x=0.5, y=0.05\n"
     ]
    },
    {
     "data": {
      "text/latex": [
       "$\\displaystyle 2.56 t^{2} + 12.16 t + 14.44$"
      ],
      "text/plain": [
       "2.56*t**2 + 12.16*t + 14.44"
      ]
     },
     "metadata": {},
     "output_type": "display_data"
    },
    {
     "data": {
      "text/latex": [
       "$\\displaystyle 0.85 t^{3} + 6.08 t^{2} + 14.44 t$"
      ],
      "text/plain": [
       "0.85*t**3 + 6.08*t**2 + 14.44*t"
      ]
     },
     "metadata": {},
     "output_type": "display_data"
    },
    {
     "name": "stdout",
     "output_type": "stream",
     "text": [
      "y_idx=3, i=1028, x=0.7346938775510204, y=0.0\n"
     ]
    },
    {
     "data": {
      "text/latex": [
       "$\\displaystyle 7.8 t + 5.2$"
      ],
      "text/plain": [
       "7.8*t + 5.2"
      ]
     },
     "metadata": {},
     "output_type": "display_data"
    },
    {
     "data": {
      "text/latex": [
       "$\\displaystyle 3.9 t^{2} + 5.2 t$"
      ],
      "text/plain": [
       "3.9*t**2 + 5.2*t"
      ]
     },
     "metadata": {},
     "output_type": "display_data"
    },
    {
     "name": "stdout",
     "output_type": "stream",
     "text": [
      "y_idx=3, i=1103, x=0.1111111111111111, y=0.0\n"
     ]
    },
    {
     "data": {
      "text/latex": [
       "$\\displaystyle 7.2 t + 6.2$"
      ],
      "text/plain": [
       "7.2*t + 6.2"
      ]
     },
     "metadata": {},
     "output_type": "display_data"
    },
    {
     "data": {
      "text/latex": [
       "$\\displaystyle 3.6 t^{2} + 6.2 t$"
      ],
      "text/plain": [
       "3.6*t**2 + 6.2*t"
      ]
     },
     "metadata": {},
     "output_type": "display_data"
    },
    {
     "name": "stdout",
     "output_type": "stream",
     "text": [
      "y_idx=3, i=1121, x=0.16, y=0.01\n"
     ]
    },
    {
     "data": {
      "text/latex": [
       "$\\displaystyle 8.8 t - 6.6$"
      ],
      "text/plain": [
       "8.8*t - 6.6"
      ]
     },
     "metadata": {},
     "output_type": "display_data"
    },
    {
     "data": {
      "text/latex": [
       "$\\displaystyle 4.4 t^{2} - 6.6 t$"
      ],
      "text/plain": [
       "4.4*t**2 - 6.6*t"
      ]
     },
     "metadata": {},
     "output_type": "display_data"
    },
    {
     "name": "stdout",
     "output_type": "stream",
     "text": [
      "y_idx=3, i=1138, x=0.0625, y=0.0\n"
     ]
    },
    {
     "data": {
      "text/latex": [
       "$\\displaystyle 72.25 t^{2} - 17.0 t + 1.0$"
      ],
      "text/plain": [
       "72.25*t**2 - 17.0*t + 1.0"
      ]
     },
     "metadata": {},
     "output_type": "display_data"
    },
    {
     "data": {
      "text/latex": [
       "$\\displaystyle 24.08 t^{3} - 8.5 t^{2} + 1.0 t$"
      ],
      "text/plain": [
       "24.08*t**3 - 8.5*t**2 + 1.0*t"
      ]
     },
     "metadata": {},
     "output_type": "display_data"
    },
    {
     "name": "stdout",
     "output_type": "stream",
     "text": [
      "y_idx=3, i=1165, x=0.1111111111111111, y=0.0\n"
     ]
    },
    {
     "data": {
      "text/latex": [
       "$\\displaystyle 7.8 t - 15.0$"
      ],
      "text/plain": [
       "7.8*t - 15.0"
      ]
     },
     "metadata": {},
     "output_type": "display_data"
    },
    {
     "data": {
      "text/latex": [
       "$\\displaystyle 3.9 t^{2} - 15.0 t$"
      ],
      "text/plain": [
       "3.9*t**2 - 15.0*t"
      ]
     },
     "metadata": {},
     "output_type": "display_data"
    },
    {
     "name": "stdout",
     "output_type": "stream",
     "text": [
      "y_idx=3, i=1205, x=0.25, y=0.0\n"
     ]
    },
    {
     "data": {
      "text/latex": [
       "$\\displaystyle - 3.4 t - 8.8$"
      ],
      "text/plain": [
       "-3.4*t - 8.8"
      ]
     },
     "metadata": {},
     "output_type": "display_data"
    },
    {
     "data": {
      "text/latex": [
       "$\\displaystyle - 1.7 t^{2} - 8.8 t$"
      ],
      "text/plain": [
       "-1.7*t**2 - 8.8*t"
      ]
     },
     "metadata": {},
     "output_type": "display_data"
    },
    {
     "name": "stdout",
     "output_type": "stream",
     "text": [
      "y_idx=3, i=1215, x=0.08163265306122448, y=0.0\n"
     ]
    },
    {
     "data": {
      "text/latex": [
       "$\\displaystyle - 8.6 t - 4.2$"
      ],
      "text/plain": [
       "-8.6*t - 4.2"
      ]
     },
     "metadata": {},
     "output_type": "display_data"
    },
    {
     "data": {
      "text/latex": [
       "$\\displaystyle - 4.3 t^{2} - 4.2 t$"
      ],
      "text/plain": [
       "-4.3*t**2 - 4.2*t"
      ]
     },
     "metadata": {},
     "output_type": "display_data"
    },
    {
     "name": "stdout",
     "output_type": "stream",
     "text": [
      "y_idx=3, i=1230, x=0.5, y=0.0\n"
     ]
    },
    {
     "data": {
      "text/latex": [
       "$\\displaystyle 6.85714285714286 t - 1.57142857142857$"
      ],
      "text/plain": [
       "6.85714285714286*t - 1.57142857142857"
      ]
     },
     "metadata": {},
     "output_type": "display_data"
    },
    {
     "data": {
      "text/latex": [
       "$\\displaystyle 3.43 t^{2} - 1.57 t$"
      ],
      "text/plain": [
       "3.43*t**2 - 1.57*t"
      ]
     },
     "metadata": {},
     "output_type": "display_data"
    },
    {
     "name": "stdout",
     "output_type": "stream",
     "text": [
      "y_idx=3, i=1237, x=1.3333333333333333, y=0.28\n"
     ]
    },
    {
     "data": {
      "text/latex": [
       "$\\displaystyle - 2.57142857142857 t - 6.14285714285714$"
      ],
      "text/plain": [
       "-2.57142857142857*t - 6.14285714285714"
      ]
     },
     "metadata": {},
     "output_type": "display_data"
    },
    {
     "data": {
      "text/latex": [
       "$\\displaystyle - 1.29 t^{2} - 6.14 t$"
      ],
      "text/plain": [
       "-1.29*t**2 - 6.14*t"
      ]
     },
     "metadata": {},
     "output_type": "display_data"
    },
    {
     "name": "stdout",
     "output_type": "stream",
     "text": [
      "y_idx=3, i=1243, x=0.3333333333333333, y=0.0\n"
     ]
    },
    {
     "data": {
      "text/latex": [
       "$\\displaystyle 0.510204081632653 t^{2} + 3.26530612244898 t + 5.22448979591837$"
      ],
      "text/plain": [
       "0.510204081632653*t**2 + 3.26530612244898*t + 5.22448979591837"
      ]
     },
     "metadata": {},
     "output_type": "display_data"
    },
    {
     "data": {
      "text/latex": [
       "$\\displaystyle 0.17 t^{3} + 1.63 t^{2} + 5.22 t$"
      ],
      "text/plain": [
       "0.17*t**3 + 1.63*t**2 + 5.22*t"
      ]
     },
     "metadata": {},
     "output_type": "display_data"
    },
    {
     "name": "stdout",
     "output_type": "stream",
     "text": [
      "y_idx=3, i=1402, x=0.16, y=0.01\n"
     ]
    },
    {
     "data": {
      "text/latex": [
       "$\\displaystyle 1.96 t^{2} - 12.88 t + 21.16$"
      ],
      "text/plain": [
       "1.96*t**2 - 12.88*t + 21.16"
      ]
     },
     "metadata": {},
     "output_type": "display_data"
    },
    {
     "data": {
      "text/latex": [
       "$\\displaystyle 0.65 t^{3} - 6.44 t^{2} + 21.16 t$"
      ],
      "text/plain": [
       "0.65*t**3 - 6.44*t**2 + 21.16*t"
      ]
     },
     "metadata": {},
     "output_type": "display_data"
    },
    {
     "name": "stdout",
     "output_type": "stream",
     "text": [
      "y_idx=3, i=1572, x=0.64, y=0.0\n"
     ]
    },
    {
     "data": {
      "text/latex": [
       "$\\displaystyle 9.0 t^{2} - 43.7142857142857 t + 53.0816326530612$"
      ],
      "text/plain": [
       "9.0*t**2 - 43.7142857142857*t + 53.0816326530612"
      ]
     },
     "metadata": {},
     "output_type": "display_data"
    },
    {
     "data": {
      "text/latex": [
       "$\\displaystyle 3.0 t^{3} - 21.86 t^{2} + 53.08 t$"
      ],
      "text/plain": [
       "3.0*t**3 - 21.86*t**2 + 53.08*t"
      ]
     },
     "metadata": {},
     "output_type": "display_data"
    },
    {
     "name": "stdout",
     "output_type": "stream",
     "text": [
      "y_idx=3, i=1647, x=0.08163265306122448, y=0.0\n"
     ]
    },
    {
     "data": {
      "text/latex": [
       "$\\displaystyle 8.33333333333333 t + 3.0$"
      ],
      "text/plain": [
       "8.33333333333333*t + 3.0"
      ]
     },
     "metadata": {},
     "output_type": "display_data"
    },
    {
     "data": {
      "text/latex": [
       "$\\displaystyle 4.17 t^{2} + 3.0 t$"
      ],
      "text/plain": [
       "4.17*t**2 + 3.0*t"
      ]
     },
     "metadata": {},
     "output_type": "display_data"
    },
    {
     "name": "stdout",
     "output_type": "stream",
     "text": [
      "y_idx=3, i=1856, x=0.16, y=0.02\n"
     ]
    },
    {
     "data": {
      "text/latex": [
       "$\\displaystyle 1.0 - 4.4 t$"
      ],
      "text/plain": [
       "1.0 - 4.4*t"
      ]
     },
     "metadata": {},
     "output_type": "display_data"
    },
    {
     "data": {
      "text/latex": [
       "$\\displaystyle - 2.2 t^{2} + 1.0 t$"
      ],
      "text/plain": [
       "-2.2*t**2 + 1.0*t"
      ]
     },
     "metadata": {},
     "output_type": "display_data"
    },
    {
     "name": "stdout",
     "output_type": "stream",
     "text": [
      "y_idx=3, i=1944, x=0.16, y=0.01\n"
     ]
    },
    {
     "data": {
      "text/latex": [
       "$\\displaystyle 39.5102040816327 t^{2} + 8.97959183673469 t + 0.510204081632653$"
      ],
      "text/plain": [
       "39.5102040816327*t**2 + 8.97959183673469*t + 0.510204081632653"
      ]
     },
     "metadata": {},
     "output_type": "display_data"
    },
    {
     "data": {
      "text/latex": [
       "$\\displaystyle 13.17 t^{3} + 4.49 t^{2} + 0.51 t$"
      ],
      "text/plain": [
       "13.17*t**3 + 4.49*t**2 + 0.51*t"
      ]
     },
     "metadata": {},
     "output_type": "display_data"
    },
    {
     "name": "stdout",
     "output_type": "stream",
     "text": [
      "y_idx=3, i=1949, x=0.0625, y=0.0\n"
     ]
    },
    {
     "data": {
      "text/latex": [
       "$\\displaystyle 23.04 t^{2} - 28.8 t + 9.0$"
      ],
      "text/plain": [
       "23.04*t**2 - 28.8*t + 9.0"
      ]
     },
     "metadata": {},
     "output_type": "display_data"
    },
    {
     "data": {
      "text/latex": [
       "$\\displaystyle 7.68 t^{3} - 14.4 t^{2} + 9.0 t$"
      ],
      "text/plain": [
       "7.68*t**3 - 14.4*t**2 + 9.0*t"
      ]
     },
     "metadata": {},
     "output_type": "display_data"
    },
    {
     "name": "stdout",
     "output_type": "stream",
     "text": [
      "y_idx=3, i=2173, x=0.1111111111111111, y=0.0\n"
     ]
    },
    {
     "data": {
      "text/latex": [
       "$\\displaystyle 0.111111111111111 t^{2} + 3.11111111111111 t + 21.7777777777778$"
      ],
      "text/plain": [
       "0.111111111111111*t**2 + 3.11111111111111*t + 21.7777777777778"
      ]
     },
     "metadata": {},
     "output_type": "display_data"
    },
    {
     "data": {
      "text/latex": [
       "$\\displaystyle 0.03 t^{3} + 1.54 t^{2} + 21.88 t$"
      ],
      "text/plain": [
       "0.03*t**3 + 1.54*t**2 + 21.88*t"
      ]
     },
     "metadata": {},
     "output_type": "display_data"
    },
    {
     "name": "stdout",
     "output_type": "stream",
     "text": [
      "y_idx=3, i=2282, x=0.3333333333333333, y=0.0\n"
     ]
    },
    {
     "data": {
      "text/latex": [
       "$\\displaystyle 17.1632653061224 t^{2} + 16.5714285714286 t + 4.0$"
      ],
      "text/plain": [
       "17.1632653061224*t**2 + 16.5714285714286*t + 4.0"
      ]
     },
     "metadata": {},
     "output_type": "display_data"
    },
    {
     "data": {
      "text/latex": [
       "$\\displaystyle 5.72 t^{3} + 8.29 t^{2} + 4.0 t$"
      ],
      "text/plain": [
       "5.72*t**3 + 8.29*t**2 + 4.0*t"
      ]
     },
     "metadata": {},
     "output_type": "display_data"
    },
    {
     "name": "stdout",
     "output_type": "stream",
     "text": [
      "y_idx=3, i=2471, x=0.4444444444444444, y=0.0\n"
     ]
    },
    {
     "data": {
      "text/latex": [
       "$\\displaystyle 12.0 t^{2} + 24.0 t + 12.0$"
      ],
      "text/plain": [
       "12.0*t**2 + 24.0*t + 12.0"
      ]
     },
     "metadata": {},
     "output_type": "display_data"
    },
    {
     "data": {
      "text/latex": [
       "$\\displaystyle 4.0 t^{3} + 12.0 t^{2} + 12.0 t$"
      ],
      "text/plain": [
       "4.0*t**3 + 12.0*t**2 + 12.0*t"
      ]
     },
     "metadata": {},
     "output_type": "display_data"
    },
    {
     "name": "stdout",
     "output_type": "stream",
     "text": [
      "y_idx=3, i=2629, x=0.1836734693877551, y=0.0\n"
     ]
    },
    {
     "data": {
      "text/latex": [
       "$\\displaystyle 8.33333333333333 - t$"
      ],
      "text/plain": [
       "8.33333333333333 - t"
      ]
     },
     "metadata": {},
     "output_type": "display_data"
    },
    {
     "data": {
      "text/latex": [
       "$\\displaystyle - 0.5 t^{2} + 8.33 t$"
      ],
      "text/plain": [
       "-0.5*t**2 + 8.33*t"
      ]
     },
     "metadata": {},
     "output_type": "display_data"
    },
    {
     "name": "stdout",
     "output_type": "stream",
     "text": [
      "y_idx=3, i=2699, x=0.0625, y=0.0\n"
     ]
    },
    {
     "data": {
      "text/latex": [
       "$\\displaystyle 6.25 t^{2} - 25.0 t + 25.0$"
      ],
      "text/plain": [
       "6.25*t**2 - 25.0*t + 25.0"
      ]
     },
     "metadata": {},
     "output_type": "display_data"
    },
    {
     "data": {
      "text/latex": [
       "$\\displaystyle 2.08 t^{3} - 12.5 t^{2} + 25.0 t$"
      ],
      "text/plain": [
       "2.08*t**3 - 12.5*t**2 + 25.0*t"
      ]
     },
     "metadata": {},
     "output_type": "display_data"
    },
    {
     "name": "stdout",
     "output_type": "stream",
     "text": [
      "y_idx=3, i=2717, x=0.1836734693877551, y=0.0\n"
     ]
    },
    {
     "data": {
      "text/latex": [
       "$\\displaystyle - t - 6.5$"
      ],
      "text/plain": [
       "-t - 6.5"
      ]
     },
     "metadata": {},
     "output_type": "display_data"
    },
    {
     "data": {
      "text/latex": [
       "$\\displaystyle - 0.5 t^{2} - 6.5 t$"
      ],
      "text/plain": [
       "-0.5*t**2 - 6.5*t"
      ]
     },
     "metadata": {},
     "output_type": "display_data"
    },
    {
     "name": "stdout",
     "output_type": "stream",
     "text": [
      "y_idx=3, i=2958, x=0.1111111111111111, y=0.01\n"
     ]
    },
    {
     "data": {
      "text/latex": [
       "$\\displaystyle 3.0 - 6.5 t$"
      ],
      "text/plain": [
       "3.0 - 6.5*t"
      ]
     },
     "metadata": {},
     "output_type": "display_data"
    },
    {
     "data": {
      "text/latex": [
       "$\\displaystyle - 3.25 t^{2} + 3.0 t$"
      ],
      "text/plain": [
       "-3.25*t**2 + 3.0*t"
      ]
     },
     "metadata": {},
     "output_type": "display_data"
    },
    {
     "name": "stdout",
     "output_type": "stream",
     "text": [
      "y_idx=3, i=3139, x=0.16, y=0.02\n"
     ]
    },
    {
     "data": {
      "text/latex": [
       "$\\displaystyle 9.0 t^{2} - 29.1428571428571 t + 23.5918367346939$"
      ],
      "text/plain": [
       "9.0*t**2 - 29.1428571428571*t + 23.5918367346939"
      ]
     },
     "metadata": {},
     "output_type": "display_data"
    },
    {
     "data": {
      "text/latex": [
       "$\\displaystyle 3.0 t^{3} - 14.57 t^{2} + 23.59 t$"
      ],
      "text/plain": [
       "3.0*t**3 - 14.57*t**2 + 23.59*t"
      ]
     },
     "metadata": {},
     "output_type": "display_data"
    },
    {
     "name": "stdout",
     "output_type": "stream",
     "text": [
      "y_idx=3, i=3231, x=0.25, y=0.04\n"
     ]
    },
    {
     "data": {
      "text/latex": [
       "$\\displaystyle 4.5 t^{2} + 63.0 t + 220.5$"
      ],
      "text/plain": [
       "4.5*t**2 + 63.0*t + 220.5"
      ]
     },
     "metadata": {},
     "output_type": "display_data"
    },
    {
     "data": {
      "text/latex": [
       "$\\displaystyle 1.5 t^{3} + 31.5 t^{2} + 220.5 t$"
      ],
      "text/plain": [
       "1.5*t**3 + 31.5*t**2 + 220.5*t"
      ]
     },
     "metadata": {},
     "output_type": "display_data"
    },
    {
     "name": "stdout",
     "output_type": "stream",
     "text": [
      "y_idx=3, i=3260, x=0.1111111111111111, y=0.0\n"
     ]
    },
    {
     "data": {
      "text/latex": [
       "$\\displaystyle 4.0 t^{2} - 12.0 t + 9.0$"
      ],
      "text/plain": [
       "4.0*t**2 - 12.0*t + 9.0"
      ]
     },
     "metadata": {},
     "output_type": "display_data"
    },
    {
     "data": {
      "text/latex": [
       "$\\displaystyle 1.33 t^{3} - 6.0 t^{2} + 9.0 t$"
      ],
      "text/plain": [
       "1.33*t**3 - 6.0*t**2 + 9.0*t"
      ]
     },
     "metadata": {},
     "output_type": "display_data"
    },
    {
     "name": "stdout",
     "output_type": "stream",
     "text": [
      "y_idx=3, i=3363, x=0.08163265306122448, y=0.0\n"
     ]
    },
    {
     "data": {
      "text/latex": [
       "$\\displaystyle 53.7777777777778 t^{2} - 4.88888888888889 t + 0.111111111111111$"
      ],
      "text/plain": [
       "53.7777777777778*t**2 - 4.88888888888889*t + 0.111111111111111"
      ]
     },
     "metadata": {},
     "output_type": "display_data"
    },
    {
     "data": {
      "text/latex": [
       "$\\displaystyle 17.93 t^{3} - 2.44 t^{2} + 0.11 t$"
      ],
      "text/plain": [
       "17.93*t**3 - 2.44*t**2 + 0.11*t"
      ]
     },
     "metadata": {},
     "output_type": "display_data"
    },
    {
     "name": "stdout",
     "output_type": "stream",
     "text": [
      "y_idx=3, i=3697, x=0.08163265306122448, y=0.0\n"
     ]
    },
    {
     "data": {
      "text/latex": [
       "$\\displaystyle 21.3333333333333 t^{2} + 10.6666666666667 t + 1.33333333333333$"
      ],
      "text/plain": [
       "21.3333333333333*t**2 + 10.6666666666667*t + 1.33333333333333"
      ]
     },
     "metadata": {},
     "output_type": "display_data"
    },
    {
     "data": {
      "text/latex": [
       "$\\displaystyle 7.11 t^{3} + 5.33 t^{2} + 1.33 t$"
      ],
      "text/plain": [
       "7.11*t**3 + 5.33*t**2 + 1.33*t"
      ]
     },
     "metadata": {},
     "output_type": "display_data"
    },
    {
     "name": "stdout",
     "output_type": "stream",
     "text": [
      "y_idx=3, i=4300, x=0.25, y=0.05\n"
     ]
    },
    {
     "data": {
      "text/latex": [
       "$\\displaystyle 1.57142857142857 t - 5.42857142857143$"
      ],
      "text/plain": [
       "1.57142857142857*t - 5.42857142857143"
      ]
     },
     "metadata": {},
     "output_type": "display_data"
    },
    {
     "data": {
      "text/latex": [
       "$\\displaystyle 0.79 t^{2} - 5.43 t$"
      ],
      "text/plain": [
       "0.79*t**2 - 5.43*t"
      ]
     },
     "metadata": {},
     "output_type": "display_data"
    },
    {
     "name": "stdout",
     "output_type": "stream",
     "text": [
      "y_idx=3, i=4400, x=0.16, y=0.02\n"
     ]
    },
    {
     "data": {
      "text/latex": [
       "$\\displaystyle 10.5625 t^{2} - 50.375 t + 60.0625$"
      ],
      "text/plain": [
       "10.5625*t**2 - 50.375*t + 60.0625"
      ]
     },
     "metadata": {},
     "output_type": "display_data"
    },
    {
     "data": {
      "text/latex": [
       "$\\displaystyle 3.52 t^{3} - 25.19 t^{2} + 60.06 t$"
      ],
      "text/plain": [
       "3.52*t**3 - 25.19*t**2 + 60.06*t"
      ]
     },
     "metadata": {},
     "output_type": "display_data"
    },
    {
     "name": "stdout",
     "output_type": "stream",
     "text": [
      "y_idx=3, i=4420, x=0.0625, y=0.0\n"
     ]
    },
    {
     "data": {
      "text/latex": [
       "$\\displaystyle - 3.0 t - 1.8$"
      ],
      "text/plain": [
       "-3.0*t - 1.8"
      ]
     },
     "metadata": {},
     "output_type": "display_data"
    },
    {
     "data": {
      "text/latex": [
       "$\\displaystyle - 1.5 t^{2} - 1.8 t$"
      ],
      "text/plain": [
       "-1.5*t**2 - 1.8*t"
      ]
     },
     "metadata": {},
     "output_type": "display_data"
    },
    {
     "name": "stdout",
     "output_type": "stream",
     "text": [
      "y_idx=3, i=4504, x=0.0625, y=0.0\n"
     ]
    },
    {
     "data": {
      "text/latex": [
       "$\\displaystyle 56.3333333333333 t^{2}$"
      ],
      "text/plain": [
       "56.3333333333333*t**2"
      ]
     },
     "metadata": {},
     "output_type": "display_data"
    },
    {
     "data": {
      "text/latex": [
       "$\\displaystyle 18.78 t^{3}$"
      ],
      "text/plain": [
       "18.78*t**3"
      ]
     },
     "metadata": {},
     "output_type": "display_data"
    },
    {
     "name": "stdout",
     "output_type": "stream",
     "text": [
      "y_idx=3, i=4561, x=0.1111111111111111, y=0.0\n"
     ]
    },
    {
     "data": {
      "text/latex": [
       "$\\displaystyle 1.71428571428571 t + 1.85714285714286$"
      ],
      "text/plain": [
       "1.71428571428571*t + 1.85714285714286"
      ]
     },
     "metadata": {},
     "output_type": "display_data"
    },
    {
     "data": {
      "text/latex": [
       "$\\displaystyle 0.86 t^{2} + 1.86 t$"
      ],
      "text/plain": [
       "0.86*t**2 + 1.86*t"
      ]
     },
     "metadata": {},
     "output_type": "display_data"
    },
    {
     "name": "stdout",
     "output_type": "stream",
     "text": [
      "y_idx=3, i=5176, x=0.32653061224489793, y=0.0\n"
     ]
    },
    {
     "data": {
      "text/latex": [
       "$\\displaystyle 1.0 - 5.42857142857143 t$"
      ],
      "text/plain": [
       "1.0 - 5.42857142857143*t"
      ]
     },
     "metadata": {},
     "output_type": "display_data"
    },
    {
     "data": {
      "text/latex": [
       "$\\displaystyle - 2.71 t^{2} + 1.0 t$"
      ],
      "text/plain": [
       "-2.71*t**2 + 1.0*t"
      ]
     },
     "metadata": {},
     "output_type": "display_data"
    },
    {
     "name": "stdout",
     "output_type": "stream",
     "text": [
      "y_idx=3, i=5183, x=0.5102040816326531, y=0.11\n"
     ]
    },
    {
     "data": {
      "text/latex": [
       "$\\displaystyle 3.0625 t^{2} - 21.0 t + 36.0$"
      ],
      "text/plain": [
       "3.0625*t**2 - 21.0*t + 36.0"
      ]
     },
     "metadata": {},
     "output_type": "display_data"
    },
    {
     "data": {
      "text/latex": [
       "$\\displaystyle 1.02 t^{3} - 10.5 t^{2} + 36.0 t$"
      ],
      "text/plain": [
       "1.02*t**3 - 10.5*t**2 + 36.0*t"
      ]
     },
     "metadata": {},
     "output_type": "display_data"
    },
    {
     "name": "stdout",
     "output_type": "stream",
     "text": [
      "y_idx=3, i=5594, x=0.16, y=0.0\n"
     ]
    },
    {
     "data": {
      "text/latex": [
       "$\\displaystyle 8.0 t^{2} + 84.0 t + 220.5$"
      ],
      "text/plain": [
       "8.0*t**2 + 84.0*t + 220.5"
      ]
     },
     "metadata": {},
     "output_type": "display_data"
    },
    {
     "data": {
      "text/latex": [
       "$\\displaystyle 2.67 t^{3} + 42.0 t^{2} + 220.5 t$"
      ],
      "text/plain": [
       "2.67*t**3 + 42.0*t**2 + 220.5*t"
      ]
     },
     "metadata": {},
     "output_type": "display_data"
    },
    {
     "name": "stdout",
     "output_type": "stream",
     "text": [
      "y_idx=3, i=5840, x=0.08163265306122448, y=0.0\n"
     ]
    },
    {
     "data": {
      "text/latex": [
       "$\\displaystyle 43.56 t^{2} - 105.6 t + 64.0$"
      ],
      "text/plain": [
       "43.56*t**2 - 105.6*t + 64.0"
      ]
     },
     "metadata": {},
     "output_type": "display_data"
    },
    {
     "data": {
      "text/latex": [
       "$\\displaystyle 14.52 t^{3} - 52.8 t^{2} + 64.0 t$"
      ],
      "text/plain": [
       "14.52*t**3 - 52.8*t**2 + 64.0*t"
      ]
     },
     "metadata": {},
     "output_type": "display_data"
    },
    {
     "name": "stdout",
     "output_type": "stream",
     "text": [
      "y_idx=3, i=5916, x=0.5625, y=0.0\n"
     ]
    },
    {
     "data": {
      "text/latex": [
       "$\\displaystyle 3.8 t + 5.6$"
      ],
      "text/plain": [
       "3.8*t + 5.6"
      ]
     },
     "metadata": {},
     "output_type": "display_data"
    },
    {
     "data": {
      "text/latex": [
       "$\\displaystyle 1.9 t^{2} + 5.6 t$"
      ],
      "text/plain": [
       "1.9*t**2 + 5.6*t"
      ]
     },
     "metadata": {},
     "output_type": "display_data"
    },
    {
     "name": "stdout",
     "output_type": "stream",
     "text": [
      "y_idx=3, i=6036, x=0.5102040816326531, y=0.0\n"
     ]
    },
    {
     "data": {
      "text/latex": [
       "$\\displaystyle 13.4444444444444 t^{2} + 26.8888888888889 t + 13.4444444444444$"
      ],
      "text/plain": [
       "13.4444444444444*t**2 + 26.8888888888889*t + 13.4444444444444"
      ]
     },
     "metadata": {},
     "output_type": "display_data"
    },
    {
     "data": {
      "text/latex": [
       "$\\displaystyle 4.48 t^{3} + 13.44 t^{2} + 13.44 t$"
      ],
      "text/plain": [
       "4.48*t**3 + 13.44*t**2 + 13.44*t"
      ]
     },
     "metadata": {},
     "output_type": "display_data"
    },
    {
     "name": "stdout",
     "output_type": "stream",
     "text": [
      "y_idx=3, i=6248, x=0.25, y=0.0\n"
     ]
    },
    {
     "data": {
      "text/latex": [
       "$\\displaystyle 7.28571428571429 t + 0.142857142857143$"
      ],
      "text/plain": [
       "7.28571428571429*t + 0.142857142857143"
      ]
     },
     "metadata": {},
     "output_type": "display_data"
    },
    {
     "data": {
      "text/latex": [
       "$\\displaystyle 3.64 t^{2} + 0.14 t$"
      ],
      "text/plain": [
       "3.64*t**2 + 0.14*t"
      ]
     },
     "metadata": {},
     "output_type": "display_data"
    },
    {
     "name": "stdout",
     "output_type": "stream",
     "text": [
      "y_idx=3, i=6472, x=0.16, y=0.03\n"
     ]
    },
    {
     "data": {
      "text/latex": [
       "$\\displaystyle 0.333333333333333 t^{2} + 8.66666666666667 t + 56.3333333333333$"
      ],
      "text/plain": [
       "0.333333333333333*t**2 + 8.66666666666667*t + 56.3333333333333"
      ]
     },
     "metadata": {},
     "output_type": "display_data"
    },
    {
     "data": {
      "text/latex": [
       "$\\displaystyle 0.11 t^{3} + 4.33 t^{2} + 56.33 t$"
      ],
      "text/plain": [
       "0.11*t**3 + 4.33*t**2 + 56.33*t"
      ]
     },
     "metadata": {},
     "output_type": "display_data"
    },
    {
     "name": "stdout",
     "output_type": "stream",
     "text": [
      "y_idx=3, i=6536, x=0.08163265306122448, y=0.0\n"
     ]
    },
    {
     "data": {
      "text/latex": [
       "$\\displaystyle 8.4 t + 2.8$"
      ],
      "text/plain": [
       "8.4*t + 2.8"
      ]
     },
     "metadata": {},
     "output_type": "display_data"
    },
    {
     "data": {
      "text/latex": [
       "$\\displaystyle 4.2 t^{2} + 2.8 t$"
      ],
      "text/plain": [
       "4.2*t**2 + 2.8*t"
      ]
     },
     "metadata": {},
     "output_type": "display_data"
    },
    {
     "name": "stdout",
     "output_type": "stream",
     "text": [
      "y_idx=3, i=6571, x=0.36, y=0.0\n"
     ]
    },
    {
     "data": {
      "text/latex": [
       "$\\displaystyle 4.0 - 4.42857142857143 t$"
      ],
      "text/plain": [
       "4.0 - 4.42857142857143*t"
      ]
     },
     "metadata": {},
     "output_type": "display_data"
    },
    {
     "data": {
      "text/latex": [
       "$\\displaystyle - 2.21 t^{2} + 4.0 t$"
      ],
      "text/plain": [
       "-2.21*t**2 + 4.0*t"
      ]
     },
     "metadata": {},
     "output_type": "display_data"
    },
    {
     "name": "stdout",
     "output_type": "stream",
     "text": [
      "y_idx=3, i=7230, x=0.5, y=0.0\n"
     ]
    },
    {
     "data": {
      "text/latex": [
       "$\\displaystyle 33.0625 t^{2} + 34.5 t + 9.0$"
      ],
      "text/plain": [
       "33.0625*t**2 + 34.5*t + 9.0"
      ]
     },
     "metadata": {},
     "output_type": "display_data"
    },
    {
     "data": {
      "text/latex": [
       "$\\displaystyle 11.02 t^{3} + 17.25 t^{2} + 9.0 t$"
      ],
      "text/plain": [
       "11.02*t**3 + 17.25*t**2 + 9.0*t"
      ]
     },
     "metadata": {},
     "output_type": "display_data"
    },
    {
     "name": "stdout",
     "output_type": "stream",
     "text": [
      "y_idx=3, i=7425, x=0.7346938775510204, y=0.06\n"
     ]
    },
    {
     "data": {
      "text/latex": [
       "$\\displaystyle 56.25 t^{2} - 225.0 t + 225.0$"
      ],
      "text/plain": [
       "56.25*t**2 - 225.0*t + 225.0"
      ]
     },
     "metadata": {},
     "output_type": "display_data"
    },
    {
     "data": {
      "text/latex": [
       "$\\displaystyle 18.75 t^{3} - 112.5 t^{2} + 225.0 t$"
      ],
      "text/plain": [
       "18.75*t**3 - 112.5*t**2 + 225.0*t"
      ]
     },
     "metadata": {},
     "output_type": "display_data"
    },
    {
     "name": "stdout",
     "output_type": "stream",
     "text": [
      "y_idx=3, i=7936, x=1.3061224489795917, y=0.33\n"
     ]
    },
    {
     "data": {
      "text/latex": [
       "$\\displaystyle 29.16 t^{2} - 30.24 t + 7.84$"
      ],
      "text/plain": [
       "29.16*t**2 - 30.24*t + 7.84"
      ]
     },
     "metadata": {},
     "output_type": "display_data"
    },
    {
     "data": {
      "text/latex": [
       "$\\displaystyle 9.72 t^{3} - 15.12 t^{2} + 7.84 t$"
      ],
      "text/plain": [
       "9.72*t**3 - 15.12*t**2 + 7.84*t"
      ]
     },
     "metadata": {},
     "output_type": "display_data"
    },
    {
     "name": "stdout",
     "output_type": "stream",
     "text": [
      "y_idx=3, i=8023, x=0.1836734693877551, y=0.04\n"
     ]
    },
    {
     "data": {
      "text/latex": [
       "$\\displaystyle t^{2} - 12.6666666666667 t + 40.1111111111111$"
      ],
      "text/plain": [
       "t**2 - 12.6666666666667*t + 40.1111111111111"
      ]
     },
     "metadata": {},
     "output_type": "display_data"
    },
    {
     "data": {
      "text/latex": [
       "$\\displaystyle 0.33 t^{3} - 6.33 t^{2} + 40.11 t$"
      ],
      "text/plain": [
       "0.33*t**3 - 6.33*t**2 + 40.11*t"
      ]
     },
     "metadata": {},
     "output_type": "display_data"
    },
    {
     "name": "stdout",
     "output_type": "stream",
     "text": [
      "y_idx=3, i=8086, x=0.1111111111111111, y=0.0\n"
     ]
    },
    {
     "data": {
      "text/latex": [
       "$\\displaystyle 5.5 t - 4.25$"
      ],
      "text/plain": [
       "5.5*t - 4.25"
      ]
     },
     "metadata": {},
     "output_type": "display_data"
    },
    {
     "data": {
      "text/latex": [
       "$\\displaystyle 2.75 t^{2} - 4.25 t$"
      ],
      "text/plain": [
       "2.75*t**2 - 4.25*t"
      ]
     },
     "metadata": {},
     "output_type": "display_data"
    },
    {
     "name": "stdout",
     "output_type": "stream",
     "text": [
      "y_idx=3, i=8311, x=0.0625, y=0.0\n"
     ]
    },
    {
     "data": {
      "text/latex": [
       "$\\displaystyle 72.25 t^{2} + 34.0 t + 4.0$"
      ],
      "text/plain": [
       "72.25*t**2 + 34.0*t + 4.0"
      ]
     },
     "metadata": {},
     "output_type": "display_data"
    },
    {
     "data": {
      "text/latex": [
       "$\\displaystyle 24.08 t^{3} + 17.0 t^{2} + 4.0 t$"
      ],
      "text/plain": [
       "24.08*t**3 + 17.0*t**2 + 4.0*t"
      ]
     },
     "metadata": {},
     "output_type": "display_data"
    },
    {
     "name": "stdout",
     "output_type": "stream",
     "text": [
      "y_idx=3, i=8330, x=0.16, y=0.0\n"
     ]
    },
    {
     "data": {
      "text/latex": [
       "$\\displaystyle - 8.8 t - 1.6$"
      ],
      "text/plain": [
       "-8.8*t - 1.6"
      ]
     },
     "metadata": {},
     "output_type": "display_data"
    },
    {
     "data": {
      "text/latex": [
       "$\\displaystyle - 4.4 t^{2} - 1.6 t$"
      ],
      "text/plain": [
       "-4.4*t**2 - 1.6*t"
      ]
     },
     "metadata": {},
     "output_type": "display_data"
    }
   ],
   "source": [
    "import pickle\n",
    "\n",
    "# fout = open('/tmp/test_data_series.pkl', 'wb')\n",
    "# pickle.dump(data_series, fout)\n",
    "# fout.close()\n",
    "\n",
    "fin = open('/tmp/test_data_series.pkl', 'rb')\n",
    "data_series = pickle.load(fin)\n",
    "fin.close()\n",
    "\n",
    "# Check if the results are as expected\n",
    "n = len(data_series[1][1])\n",
    "for y_idx in range(3, 4):\n",
    "    xs = np.asarray(data_series[y_idx][0])\n",
    "    x1s = xs[:,(y_idx-1)*2+1]\n",
    "    ys = data_series[y_idx][1]\n",
    "    for i in range(n):\n",
    "        if abs(ys[i] - x1s[i]/y_idx) > 0.02 and abs(ys[i]/(x1s[i]/y_idx)-1) > 0.02:\n",
    "            print(f\"y_idx={y_idx}, i={i}, x={x1s[i]}, y={ys[i]}\")\n",
    "            display(originals[i])\n",
    "            display(integrals[i])"
   ]
  },
  {
   "cell_type": "code",
   "execution_count": 18,
   "id": "573facaa",
   "metadata": {},
   "outputs": [
    {
     "name": "stdout",
     "output_type": "stream",
     "text": [
      "[16.      1.      5.75   45.5625 64.      2.25   -2.5    -1.25   -5.\n",
      " -3.25  ]\n",
      "[[5.31610000e+02]\n",
      " [6.50000000e+00]\n",
      " [7.53750000e+01]\n",
      " [4.20094281e+03]\n",
      " [8.25950000e+03]\n",
      " [1.58750000e+01]\n",
      " [1.35000000e+01]\n",
      " [5.37500000e+00]\n",
      " [4.85000000e+01]\n",
      " [2.13750000e+01]]\n"
     ]
    },
    {
     "name": "stderr",
     "output_type": "stream",
     "text": [
      "/home/mcwave/anaconda3/envs/symbolic/lib/python3.10/site-packages/torch/_functorch/deprecated.py:62: UserWarning: We've integrated functorch into PyTorch. As the final step of the integration, functorch.grad is deprecated as of PyTorch 2.0 and will be deleted in a future version of PyTorch >= 2.3. Please use torch.func.grad instead; see the PyTorch 2.0 release notes and/or the torch.func migration guide for more details https://pytorch.org/docs/master/func.migrating.html\n",
      "  warn_deprecated('grad')\n",
      "/home/mcwave/anaconda3/envs/symbolic/lib/python3.10/site-packages/torch/_functorch/deprecated.py:62: UserWarning: We've integrated functorch into PyTorch. As the final step of the integration, functorch.grad is deprecated as of PyTorch 2.0 and will be deleted in a future version of PyTorch >= 2.3. Please use torch.func.grad instead; see the PyTorch 2.0 release notes and/or the torch.func migration guide for more details https://pytorch.org/docs/master/func.migrating.html\n",
      "  warn_deprecated('grad')\n",
      "/home/mcwave/anaconda3/envs/symbolic/lib/python3.10/site-packages/torch/_functorch/deprecated.py:62: UserWarning: We've integrated functorch into PyTorch. As the final step of the integration, functorch.grad is deprecated as of PyTorch 2.0 and will be deleted in a future version of PyTorch >= 2.3. Please use torch.func.grad instead; see the PyTorch 2.0 release notes and/or the torch.func migration guide for more details https://pytorch.org/docs/master/func.migrating.html\n",
      "  warn_deprecated('grad')\n",
      "/home/mcwave/anaconda3/envs/symbolic/lib/python3.10/site-packages/torch/_functorch/deprecated.py:62: UserWarning: We've integrated functorch into PyTorch. As the final step of the integration, functorch.grad is deprecated as of PyTorch 2.0 and will be deleted in a future version of PyTorch >= 2.3. Please use torch.func.grad instead; see the PyTorch 2.0 release notes and/or the torch.func migration guide for more details https://pytorch.org/docs/master/func.migrating.html\n",
      "  warn_deprecated('grad')\n",
      "/home/mcwave/anaconda3/envs/symbolic/lib/python3.10/site-packages/torch/_functorch/deprecated.py:62: UserWarning: We've integrated functorch into PyTorch. As the final step of the integration, functorch.grad is deprecated as of PyTorch 2.0 and will be deleted in a future version of PyTorch >= 2.3. Please use torch.func.grad instead; see the PyTorch 2.0 release notes and/or the torch.func migration guide for more details https://pytorch.org/docs/master/func.migrating.html\n",
      "  warn_deprecated('grad')\n",
      "/home/mcwave/anaconda3/envs/symbolic/lib/python3.10/site-packages/torch/_functorch/deprecated.py:62: UserWarning: We've integrated functorch into PyTorch. As the final step of the integration, functorch.grad is deprecated as of PyTorch 2.0 and will be deleted in a future version of PyTorch >= 2.3. Please use torch.func.grad instead; see the PyTorch 2.0 release notes and/or the torch.func migration guide for more details https://pytorch.org/docs/master/func.migrating.html\n",
      "  warn_deprecated('grad')\n",
      "/home/mcwave/anaconda3/envs/symbolic/lib/python3.10/site-packages/torch/_functorch/deprecated.py:62: UserWarning: We've integrated functorch into PyTorch. As the final step of the integration, functorch.grad is deprecated as of PyTorch 2.0 and will be deleted in a future version of PyTorch >= 2.3. Please use torch.func.grad instead; see the PyTorch 2.0 release notes and/or the torch.func migration guide for more details https://pytorch.org/docs/master/func.migrating.html\n",
      "  warn_deprecated('grad')\n",
      "/home/mcwave/anaconda3/envs/symbolic/lib/python3.10/site-packages/torch/_functorch/deprecated.py:62: UserWarning: We've integrated functorch into PyTorch. As the final step of the integration, functorch.grad is deprecated as of PyTorch 2.0 and will be deleted in a future version of PyTorch >= 2.3. Please use torch.func.grad instead; see the PyTorch 2.0 release notes and/or the torch.func migration guide for more details https://pytorch.org/docs/master/func.migrating.html\n",
      "  warn_deprecated('grad')\n"
     ]
    },
    {
     "name": "stdout",
     "output_type": "stream",
     "text": [
      "(((1.554575343737481 + (5.640700005269877 * (-0.4280303776973979 + (0.019889758680590723 * x_0)))) + (1.696035343737901 + (62.61638890529857 * (((0.06962404147058532 + (0.16090522472991203 * (-0.4280303776973979 + (0.019889758680590723 * x_0)))) * (-55.84349567032667 + (2.9520097485743936e-05 * (-0.4280303776973979 + (0.019889758680590723 * x_0))))))**2))) - (-1.4310353437381038 + (2.6206999947306824 * (-0.4280303776973979 + (0.019889758680590723 * x_0)))))\n"
     ]
    },
    {
     "name": "stderr",
     "output_type": "stream",
     "text": [
      "/home/mcwave/anaconda3/envs/symbolic/lib/python3.10/site-packages/torch/_functorch/deprecated.py:62: UserWarning: We've integrated functorch into PyTorch. As the final step of the integration, functorch.grad is deprecated as of PyTorch 2.0 and will be deleted in a future version of PyTorch >= 2.3. Please use torch.func.grad instead; see the PyTorch 2.0 release notes and/or the torch.func migration guide for more details https://pytorch.org/docs/master/func.migrating.html\n",
      "  warn_deprecated('grad')\n",
      "/home/mcwave/anaconda3/envs/symbolic/lib/python3.10/site-packages/torch/_functorch/deprecated.py:62: UserWarning: We've integrated functorch into PyTorch. As the final step of the integration, functorch.grad is deprecated as of PyTorch 2.0 and will be deleted in a future version of PyTorch >= 2.3. Please use torch.func.grad instead; see the PyTorch 2.0 release notes and/or the torch.func migration guide for more details https://pytorch.org/docs/master/func.migrating.html\n",
      "  warn_deprecated('grad')\n",
      "/home/mcwave/anaconda3/envs/symbolic/lib/python3.10/site-packages/torch/_functorch/deprecated.py:62: UserWarning: We've integrated functorch into PyTorch. As the final step of the integration, functorch.grad is deprecated as of PyTorch 2.0 and will be deleted in a future version of PyTorch >= 2.3. Please use torch.func.grad instead; see the PyTorch 2.0 release notes and/or the torch.func migration guide for more details https://pytorch.org/docs/master/func.migrating.html\n",
      "  warn_deprecated('grad')\n",
      "/home/mcwave/anaconda3/envs/symbolic/lib/python3.10/site-packages/torch/_functorch/deprecated.py:62: UserWarning: We've integrated functorch into PyTorch. As the final step of the integration, functorch.grad is deprecated as of PyTorch 2.0 and will be deleted in a future version of PyTorch >= 2.3. Please use torch.func.grad instead; see the PyTorch 2.0 release notes and/or the torch.func migration guide for more details https://pytorch.org/docs/master/func.migrating.html\n",
      "  warn_deprecated('grad')\n",
      "/home/mcwave/anaconda3/envs/symbolic/lib/python3.10/site-packages/torch/_functorch/deprecated.py:62: UserWarning: We've integrated functorch into PyTorch. As the final step of the integration, functorch.grad is deprecated as of PyTorch 2.0 and will be deleted in a future version of PyTorch >= 2.3. Please use torch.func.grad instead; see the PyTorch 2.0 release notes and/or the torch.func migration guide for more details https://pytorch.org/docs/master/func.migrating.html\n",
      "  warn_deprecated('grad')\n"
     ]
    },
    {
     "data": {
      "text/latex": [
       "$\\displaystyle 2.0 x_{0}^{2} + 0.97998046875 x_{0} + 3.4959716796875$"
      ],
      "text/plain": [
       "2.0*x_0**2 + 0.97998046875*x_0 + 3.4959716796875"
      ]
     },
     "execution_count": 18,
     "metadata": {},
     "output_type": "execute_result"
    }
   ],
   "source": [
    "y_idx=1\n",
    "\n",
    "n = len(data_series[1][1])\n",
    "\n",
    "est_simple = symbolicregression2.model.SymbolicTransformerRegressor(\n",
    "                        model=sr_model,\n",
    "                        max_input_points=10001,\n",
    "                        n_trees_to_refine=100,\n",
    "                        rescale=True\n",
    "                        )\n",
    "\n",
    "\n",
    "xs = np.asarray(data_series[y_idx][0])\n",
    "x1s = np.reshape(xs[:,y_idx], (n,1))\n",
    "ys = np.reshape(data_series[y_idx][1], (n,1))\n",
    "ys = ys + 2*x1s*x1s + 3.5\n",
    "\n",
    "print(xs[0:10, y_idx])\n",
    "print(ys[0:10])\n",
    "\n",
    "est_simple.fit(x1s,ys)\n",
    "\n",
    "replace_ops = {\"add\": \"+\", \"mul\": \"*\", \"sub\": \"-\", \"pow\": \"**\", \"inv\": \"1/\"}\n",
    "model_str = est_simple.retrieve_tree(with_infos=True)[\"relabed_predicted_tree\"].infix()\n",
    "for op,replace_op in replace_ops.items():\n",
    "    model_str = model_str.replace(op,replace_op)\n",
    "    \n",
    "print(model_str)\n",
    "\n",
    "raw_expr = sp.parse_expr(model_str)\n",
    "sp.simplify(sp.expand(round_expr(raw_expr)))"
   ]
  },
  {
   "cell_type": "code",
   "execution_count": 19,
   "id": "a2a7b228",
   "metadata": {},
   "outputs": [
    {
     "name": "stderr",
     "output_type": "stream",
     "text": [
      "/home/mcwave/anaconda3/envs/symbolic/lib/python3.10/site-packages/torch/_functorch/deprecated.py:62: UserWarning: We've integrated functorch into PyTorch. As the final step of the integration, functorch.grad is deprecated as of PyTorch 2.0 and will be deleted in a future version of PyTorch >= 2.3. Please use torch.func.grad instead; see the PyTorch 2.0 release notes and/or the torch.func migration guide for more details https://pytorch.org/docs/master/func.migrating.html\n",
      "  warn_deprecated('grad')\n",
      "/home/mcwave/anaconda3/envs/symbolic/lib/python3.10/site-packages/torch/_functorch/deprecated.py:62: UserWarning: We've integrated functorch into PyTorch. As the final step of the integration, functorch.grad is deprecated as of PyTorch 2.0 and will be deleted in a future version of PyTorch >= 2.3. Please use torch.func.grad instead; see the PyTorch 2.0 release notes and/or the torch.func migration guide for more details https://pytorch.org/docs/master/func.migrating.html\n",
      "  warn_deprecated('grad')\n",
      "/home/mcwave/anaconda3/envs/symbolic/lib/python3.10/site-packages/torch/_functorch/deprecated.py:62: UserWarning: We've integrated functorch into PyTorch. As the final step of the integration, functorch.grad is deprecated as of PyTorch 2.0 and will be deleted in a future version of PyTorch >= 2.3. Please use torch.func.grad instead; see the PyTorch 2.0 release notes and/or the torch.func migration guide for more details https://pytorch.org/docs/master/func.migrating.html\n",
      "  warn_deprecated('grad')\n"
     ]
    },
    {
     "name": "stdout",
     "output_type": "stream",
     "text": [
      "(3.3392761051514017 + (0.21293595651491945 * ((((-1.301679949865295 * (-0.6085491829353974 + (0.04605635689950794 * x_0))) - (0.8040539237955435 + (0.5666800290262324 * (-0.6085491829353974 + (0.04605635689950794 * x_0))))) + (((2.1713199788039668 * (-0.6085491829353974 + (0.04605635689950794 * x_0))) - (-43.995946222924566 + (8.948680207527886 * (-0.6085491829353974 + (0.04605635689950794 * x_0))))) + ((0.28953627372418606 + (76.37131988767095 * (-0.6085491829353974 + (0.04605635689950794 * x_0)))) + (1.3659462479783977 + (0.32960227394313424 * ((10.33464441154438 + (-0.03083960010993443 * ((-4.059956923118578 + (-0.001071832130220887 * ((2.4162290705595773 + (-4.504784126501213 * ((-3.316814557241166 + (-0.33719902144061215 * ((2.412266701884242 + (0.006376601025858294 * (-0.6085491829353974 + (0.04605635689950794 * x_0)))))**2)))**2)))**2)))**2)))**3))))))**2))\n"
     ]
    },
    {
     "name": "stderr",
     "output_type": "stream",
     "text": [
      "/home/mcwave/anaconda3/envs/symbolic/lib/python3.10/site-packages/torch/_functorch/deprecated.py:62: UserWarning: We've integrated functorch into PyTorch. As the final step of the integration, functorch.grad is deprecated as of PyTorch 2.0 and will be deleted in a future version of PyTorch >= 2.3. Please use torch.func.grad instead; see the PyTorch 2.0 release notes and/or the torch.func migration guide for more details https://pytorch.org/docs/master/func.migrating.html\n",
      "  warn_deprecated('grad')\n",
      "/home/mcwave/anaconda3/envs/symbolic/lib/python3.10/site-packages/torch/_functorch/deprecated.py:62: UserWarning: We've integrated functorch into PyTorch. As the final step of the integration, functorch.grad is deprecated as of PyTorch 2.0 and will be deleted in a future version of PyTorch >= 2.3. Please use torch.func.grad instead; see the PyTorch 2.0 release notes and/or the torch.func migration guide for more details https://pytorch.org/docs/master/func.migrating.html\n",
      "  warn_deprecated('grad')\n",
      "/home/mcwave/anaconda3/envs/symbolic/lib/python3.10/site-packages/torch/_functorch/deprecated.py:62: UserWarning: We've integrated functorch into PyTorch. As the final step of the integration, functorch.grad is deprecated as of PyTorch 2.0 and will be deleted in a future version of PyTorch >= 2.3. Please use torch.func.grad instead; see the PyTorch 2.0 release notes and/or the torch.func migration guide for more details https://pytorch.org/docs/master/func.migrating.html\n",
      "  warn_deprecated('grad')\n",
      "/home/mcwave/anaconda3/envs/symbolic/lib/python3.10/site-packages/scipy/optimize/_linesearch.py:141: RuntimeWarning: invalid value encountered in scalar divide\n",
      "  alpha1 = min(1.0, 1.01*2*(phi0 - old_phi0)/derphi0)\n",
      "/home/mcwave/anaconda3/envs/symbolic/lib/python3.10/site-packages/scipy/optimize/_linesearch.py:390: RuntimeWarning: invalid value encountered in scalar divide\n",
      "  alpha1 = min(1.0, 1.01*2*(phi0 - old_phi0)/derphi0)\n"
     ]
    },
    {
     "data": {
      "text/latex": [
       "$\\displaystyle 2.8222274780273438 x_{0}^{2} - 1.9871347770094872 x_{0} + 3.689521593041718$"
      ],
      "text/plain": [
       "2.8222274780273438*x_0**2 - 1.9871347770094872*x_0 + 3.689521593041718"
      ]
     },
     "execution_count": 19,
     "metadata": {},
     "output_type": "execute_result"
    }
   ],
   "source": [
    "y_idx=2\n",
    "n = len(data_series[1][1])\n",
    "\n",
    "xs = np.asarray(data_series[y_idx][0])\n",
    "x3s = np.reshape(xs[:,2*y_idx+1], (n,1))\n",
    "ys = np.reshape(data_series[y_idx][1], (n,1))\n",
    "ys = ys + 2*x3s*x3s + 3.5\n",
    "\n",
    "# print(xs[0:10, 1])\n",
    "# print(ys[0:10])\n",
    "\n",
    "est_simple.fit(x3s,ys)\n",
    "\n",
    "replace_ops = {\"add\": \"+\", \"mul\": \"*\", \"sub\": \"-\", \"pow\": \"**\", \"inv\": \"1/\"}\n",
    "model_str = est_simple.retrieve_tree(with_infos=True)[\"relabed_predicted_tree\"].infix()\n",
    "for op,replace_op in replace_ops.items():\n",
    "    model_str = model_str.replace(op,replace_op)\n",
    "    \n",
    "print(model_str)\n",
    "\n",
    "raw_expr = sp.parse_expr(model_str)\n",
    "sp.simplify(sp.expand(round_expr(raw_expr)))"
   ]
  },
  {
   "cell_type": "code",
   "execution_count": 23,
   "id": "f4706d79",
   "metadata": {},
   "outputs": [
    {
     "name": "stdout",
     "output_type": "stream",
     "text": [
      "LinregressResult(slope=1.0002448476609136, intercept=-0.0014890801122113828, rvalue=0.9999992237781083, pvalue=0.0, stderr=1.3262767772178022e-05, intercept_stderr=0.0007253298787952417)\n",
      "0 0.10999999999999943\n",
      "10 0.7066666666667061\n",
      "20 0.05408163265309973\n",
      "31 -0.14333333333332998\n",
      "46 -0.06000000000000005\n",
      "62 1.7966666666669937\n",
      "72 0.03999999999999915\n",
      "183 0.020000000000010232\n",
      "185 0.04750000000000032\n",
      "186 0.02999999999999936\n",
      "203 -0.04306122448979721\n",
      "210 0.06265306122449843\n",
      "286 -0.07428571428571029\n",
      "295 0.05918367346940201\n",
      "402 -0.38444444444439796\n",
      "411 0.08750000000000036\n",
      "431 -0.060000000000002274\n",
      "513 0.3099999999999987\n",
      "517 0.03666666666670082\n",
      "590 0.1038775510203962\n",
      "612 0.10999999999999943\n",
      "621 -0.0611111111111029\n",
      "642 0.03999999999999915\n",
      "679 0.5999999999999943\n",
      "680 -0.028979591836729934\n",
      "687 -0.05999999999999961\n",
      "724 -0.03249999999999886\n",
      "757 -0.020546769020477473\n",
      "854 0.1699999999999946\n",
      "861 0.040000000000000036\n",
      "873 -0.029999999999999805\n",
      "888 0.0799999999999983\n",
      "921 -0.03999999999999915\n",
      "942 0.75\n",
      "945 -0.02000000000000135\n",
      "1028 1.710000000000008\n",
      "1091 0.07000000000000006\n",
      "1103 0.28000000000000114\n",
      "1106 -0.020000000000000018\n",
      "1121 0.3200000000000003\n",
      "1138 0.21999999999999886\n",
      "1165 0.1088888888888988\n",
      "1176 0.08836734693877552\n",
      "1205 0.5300000000000011\n",
      "1215 0.18918367346940101\n",
      "1230 1.4499999999999886\n",
      "1237 1.7166666666670096\n",
      "1243 0.7966666666669937\n",
      "1299 0.0799999999999983\n",
      "1371 -0.020000000000000018\n",
      "1402 0.3199999999999932\n",
      "1459 0.060000000000002274\n",
      "1468 -0.07000000000000006\n",
      "1572 1.5500000000000114\n",
      "1647 0.32061224489799756\n",
      "1726 0.042653061224498856\n",
      "1841 -0.12999999999999545\n",
      "1856 0.10000000000000853\n",
      "1897 0.12999999999999545\n",
      "1944 0.4000000000000057\n",
      "1949 0.21750000000000114\n",
      "1978 0.18000000000000682\n",
      "1986 0.31771529684920097\n",
      "2038 0.0495918367346988\n",
      "2132 0.10999999999999943\n",
      "2173 0.240000000000002\n",
      "2282 0.7966666666666526\n",
      "2295 -0.06000000000000005\n",
      "2452 -0.03000000000000025\n",
      "2471 1.1500000000000057\n",
      "2574 -0.11040816326530489\n",
      "2616 0.10999999999999943\n",
      "2629 0.3300000000000125\n",
      "2699 0.18000000000000682\n",
      "2717 0.28999999999999204\n",
      "2775 -0.3033333333333299\n",
      "2794 -0.03000000000000025\n",
      "2844 -0.04000000000000625\n",
      "2863 0.14999999999999858\n",
      "2923 0.030000000000001137\n",
      "2945 0.09299999999999997\n",
      "2958 0.4300000000000068\n",
      "2981 0.47999999999998977\n",
      "3003 0.020000000000003126\n",
      "3139 0.21999999999999886\n",
      "3224 0.11666666666670267\n",
      "3231 0.15000000000000568\n",
      "3260 0.30888888888890165\n",
      "3363 0.240000000000002\n",
      "3431 0.045306122448980024\n",
      "3441 0.10999999999999943\n",
      "3476 -0.4\n",
      "3569 0.05408163265309973\n",
      "3697 0.24959183673470164\n",
      "3887 0.11999999999999744\n",
      "4027 -0.040000000000000036\n",
      "4040 -0.04000000000000625\n",
      "4058 0.09979591836729895\n",
      "4186 0.026666666666699257\n",
      "4300 0.35999999999999943\n",
      "4331 0.2674999999999983\n",
      "4348 0.020000000000000018\n",
      "4371 -0.09999999999999432\n",
      "4398 0.09999999999999432\n",
      "4400 0.4399999999999977\n",
      "4420 0.18999999999999773\n",
      "4497 0.03999999999999915\n",
      "4504 0.25\n",
      "4561 0.2922222222222004\n",
      "4655 0.040000000000000036\n",
      "5176 0.7116685205784279\n",
      "5183 0.6699999999999875\n",
      "5279 -0.05000000000000071\n",
      "5330 0.13000000000000256\n",
      "5461 0.020000000000000018\n",
      "5477 0.030000000000000027\n",
      "5557 -0.05000000000001137\n",
      "5594 0.3199999999999932\n",
      "5622 0.1012244897959107\n",
      "5745 0.09999999999999787\n",
      "5831 0.10999999999999943\n",
      "5840 0.2553061224489994\n",
      "5916 1.5200000000000102\n",
      "5917 0.08999999999999986\n",
      "6036 1.4399999999999977\n",
      "6090 0.10285714285713965\n",
      "6142 0.08666666666664469\n",
      "6176 0.0799999999999983\n",
      "6248 0.9000000000000057\n",
      "6472 0.0799999999999983\n",
      "6536 0.18999999999999773\n",
      "6571 1.0900000000000034\n",
      "6581 -0.036666666666669734\n",
      "6615 -0.060000000000002274\n",
      "6661 -0.022500000000000853\n",
      "6693 0.030000000000001137\n",
      "6760 0.13061224489798917\n",
      "6859 0.03285714285714114\n",
      "6887 0.020000000000000018\n",
      "6895 0.120000000000001\n",
      "6972 -0.020000000000010232\n",
      "7230 1.6299999999999955\n",
      "7245 0.06775510204079893\n",
      "7425 1.3199999999999932\n",
      "7436 0.03346938775509756\n",
      "7445 0.06673469387759923\n",
      "7565 -0.03999999999999915\n",
      "7646 -0.040000000000000036\n",
      "7936 1.5300000000000011\n",
      "8023 0.29530612244899856\n",
      "8086 0.06999999999999318\n",
      "8093 -0.020000000000003126\n",
      "8150 0.05244897959184058\n",
      "8311 0.20749999999999602\n",
      "8330 0.6000000000000085\n",
      "8580 -0.09000000000000341\n",
      "8799 0.056666666666700394\n"
     ]
    }
   ],
   "source": [
    "import scipy\n",
    "\n",
    "y_idx=1\n",
    "ys = np.asarray(data_series[y_idx][1])\n",
    "xs = np.asarray(data_series[y_idx][0])[:,1]\n",
    "\n",
    "print(scipy.stats.linregress(xs, ys))\n",
    "\n",
    "diff = (ys-xs).flatten()\n",
    "for i in range(len(diff)):\n",
    "    if abs(diff[i]) > 0.02:\n",
    "        print(i, diff[i])"
   ]
  },
  {
   "cell_type": "code",
   "execution_count": 28,
   "id": "986d6868",
   "metadata": {},
   "outputs": [
    {
     "data": {
      "text/latex": [
       "$\\displaystyle 72.25 t^{2} + 106.25 t + 39.0625$"
      ],
      "text/plain": [
       "72.25*t**2 + 106.25*t + 39.0625"
      ]
     },
     "execution_count": 28,
     "metadata": {},
     "output_type": "execute_result"
    }
   ],
   "source": [
    "originals[4]"
   ]
  }
 ],
 "metadata": {
  "kernelspec": {
   "display_name": "symbolic",
   "language": "python",
   "name": "symbolic"
  },
  "language_info": {
   "codemirror_mode": {
    "name": "ipython",
    "version": 3
   },
   "file_extension": ".py",
   "mimetype": "text/x-python",
   "name": "python",
   "nbconvert_exporter": "python",
   "pygments_lexer": "ipython3",
   "version": "3.10.13"
  }
 },
 "nbformat": 4,
 "nbformat_minor": 5
}
