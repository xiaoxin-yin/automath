{
 "cells": [
  {
   "cell_type": "code",
   "execution_count": 6,
   "id": "0361edc7",
   "metadata": {},
   "outputs": [],
   "source": [
    "import json\n",
    "import random\n",
    "import numpy as np\n",
    "import sympy as sp\n",
    "from sympy import sympify, Function, dsolve, Eq, Derivative, sin, cos, symbols, Symbol,lambdify\n",
    "from sympy.abc import x\n",
    "\n",
    "def load_expressions(filepaths):\n",
    "    lines = []\n",
    "    for filepath in filepaths:\n",
    "        fin = open(filepath, 'r')\n",
    "        lines.extend(fin.readlines())\n",
    "        fin.close()\n",
    "    #\n",
    "    random.shuffle(lines)\n",
    "    exprs = []\n",
    "    for line in lines:\n",
    "        data = json.loads(line)\n",
    "        for k,v in data.items():\n",
    "            if k in ('f_t', 'g_t'):\n",
    "                expr = sympify(v[1])\n",
    "                exprs.append(expr)\n",
    "    return exprs\n",
    "\n",
    "exprs = load_expressions(['datasets/parametric_equations.json'])  #'datasets/function_evaluation.json', "
   ]
  },
  {
   "cell_type": "code",
   "execution_count": 7,
   "id": "37f34b49",
   "metadata": {},
   "outputs": [
    {
     "data": {
      "text/latex": [
       "$\\displaystyle \\frac{t^{2}}{3} + 2 t + 3.3333$"
      ],
      "text/plain": [
       "t**2/3 + 2*t + 3.3333"
      ]
     },
     "execution_count": 7,
     "metadata": {},
     "output_type": "execute_result"
    }
   ],
   "source": [
    "f = sympify('t**2/3+2*t+3.3333')\n",
    "f"
   ]
  },
  {
   "cell_type": "code",
   "execution_count": 2,
   "id": "4a581351",
   "metadata": {},
   "outputs": [],
   "source": [
    "from sympy.calculus.util import continuous_domain, function_range\n",
    "from sympy import Interval, S\n",
    "\n",
    "DEFAULT_LEFT = -4.0\n",
    "DEFAULT_RIGHT = 4.0\n",
    "\n",
    "def get_data_points(f):\n",
    "    t = Symbol('t')\n",
    "    #display(f)\n",
    "    fl = lambdify((t), f, 'numpy')\n",
    "    dom = continuous_domain(f, t, S.Reals)\n",
    "    intv = dom.intersect(Interval(DEFAULT_LEFT, DEFAULT_RIGHT))\n",
    "    #print(\"interval:\", intv)\n",
    "    ts = np.arange(float(intv.left), float(intv.right), 0.001)\n",
    "    ys = fl(ts)\n",
    "    return ts, ys"
   ]
  },
  {
   "cell_type": "code",
   "execution_count": 3,
   "id": "c47ebc80",
   "metadata": {},
   "outputs": [
    {
     "name": "stdout",
     "output_type": "stream",
     "text": [
      "cuda:0\n",
      "Model successfully loaded!\n"
     ]
    }
   ],
   "source": [
    "import torch\n",
    "import os, sys\n",
    "import symbolicregression\n",
    "from symbolicregression import model as symbolicregression_model\n",
    "import sympytorch\n",
    "import requests\n",
    "\n",
    "model_path = \"ckpt/model.pt\" \n",
    "try:\n",
    "    if not os.path.isfile(model_path): \n",
    "        print(\"Downloading model...\")\n",
    "        url = \"https://dl.fbaipublicfiles.com/symbolicregression/model1.pt\"\n",
    "        r = requests.get(url, allow_redirects=True)\n",
    "        open(model_path, 'wb').write(r.content)\n",
    "    if not torch.cuda.is_available():\n",
    "        model = torch.load(model_path, map_location=torch.device('cpu'))\n",
    "    else:\n",
    "        model = torch.load(model_path)\n",
    "        model = model.cuda()\n",
    "    print(model.device)\n",
    "    print(\"Model successfully loaded!\")\n",
    "\n",
    "except Exception as e:\n",
    "    print(\"ERROR: model not loaded! path was: {}\".format(model_path))\n",
    "    print(e)    \n",
    "    \n",
    "est = symbolicregression_model.SymbolicTransformerRegressor(\n",
    "                        model=model,\n",
    "                        max_input_points=10001,\n",
    "                        n_trees_to_refine=5,\n",
    "                        rescale=True\n",
    "                        )"
   ]
  },
  {
   "cell_type": "code",
   "execution_count": 4,
   "id": "898e3a9f",
   "metadata": {},
   "outputs": [],
   "source": [
    "# import errno\n",
    "# import os\n",
    "# import signal\n",
    "# import functools\n",
    "\n",
    "# class TimeoutError(Exception):\n",
    "#     pass\n",
    "\n",
    "# def timeout(seconds=15, error_message=os.strerror(errno.ETIME)):\n",
    "#     def decorator(func):\n",
    "#         def _handle_timeout(signum, frame):\n",
    "#             raise TimeoutError(error_message)\n",
    "\n",
    "#         @functools.wraps(func)\n",
    "#         def wrapper(*args, **kwargs):\n",
    "#             signal.signal(signal.SIGALRM, _handle_timeout)\n",
    "#             signal.alarm(seconds)\n",
    "#             try:\n",
    "#                 result = func(*args, **kwargs)\n",
    "#             finally:\n",
    "#                 signal.alarm(0)\n",
    "#             return result\n",
    "\n",
    "#         return wrapper\n",
    "\n",
    "#     return decorator"
   ]
  },
  {
   "cell_type": "code",
   "execution_count": 5,
   "id": "70b75380",
   "metadata": {},
   "outputs": [
    {
     "data": {
      "text/latex": [
       "$\\displaystyle \\frac{13 t}{3} + \\frac{26}{3}$"
      ],
      "text/plain": [
       "13*t/3 + 26/3"
      ]
     },
     "metadata": {},
     "output_type": "display_data"
    },
    {
     "name": "stderr",
     "output_type": "stream",
     "text": [
      "/home/mcwave/anaconda3/envs/symbolic/lib/python3.10/site-packages/torch/_functorch/deprecated.py:62: UserWarning: We've integrated functorch into PyTorch. As the final step of the integration, functorch.grad is deprecated as of PyTorch 2.0 and will be deleted in a future version of PyTorch >= 2.3. Please use torch.func.grad instead; see the PyTorch 2.0 release notes and/or the torch.func migration guide for more details https://pytorch.org/docs/master/func.migrating.html\n",
      "  warn_deprecated('grad')\n"
     ]
    },
    {
     "data": {
      "text/latex": [
       "$\\displaystyle 4.33 t + 8.67$"
      ],
      "text/plain": [
       "4.33*t + 8.67"
      ]
     },
     "metadata": {},
     "output_type": "display_data"
    },
    {
     "data": {
      "text/latex": [
       "$\\displaystyle 8 t^{2} - 240 t + 1797$"
      ],
      "text/plain": [
       "8*t**2 - 240*t + 1797"
      ]
     },
     "metadata": {},
     "output_type": "display_data"
    },
    {
     "name": "stderr",
     "output_type": "stream",
     "text": [
      "/home/mcwave/anaconda3/envs/symbolic/lib/python3.10/site-packages/torch/_functorch/deprecated.py:62: UserWarning: We've integrated functorch into PyTorch. As the final step of the integration, functorch.grad is deprecated as of PyTorch 2.0 and will be deleted in a future version of PyTorch >= 2.3. Please use torch.func.grad instead; see the PyTorch 2.0 release notes and/or the torch.func migration guide for more details https://pytorch.org/docs/master/func.migrating.html\n",
      "  warn_deprecated('grad')\n"
     ]
    },
    {
     "data": {
      "text/latex": [
       "$\\displaystyle 8.0 t^{2} - 240.0 t + 1797.0$"
      ],
      "text/plain": [
       "8.0*t**2 - 240.0*t + 1797.0"
      ]
     },
     "metadata": {},
     "output_type": "display_data"
    },
    {
     "data": {
      "text/latex": [
       "$\\displaystyle \\frac{\\left(399 - 176 t\\right)^{2}}{2401}$"
      ],
      "text/plain": [
       "(399 - 176*t)**2/2401"
      ]
     },
     "metadata": {},
     "output_type": "display_data"
    },
    {
     "name": "stderr",
     "output_type": "stream",
     "text": [
      "/home/mcwave/anaconda3/envs/symbolic/lib/python3.10/site-packages/torch/_functorch/deprecated.py:62: UserWarning: We've integrated functorch into PyTorch. As the final step of the integration, functorch.grad is deprecated as of PyTorch 2.0 and will be deleted in a future version of PyTorch >= 2.3. Please use torch.func.grad instead; see the PyTorch 2.0 release notes and/or the torch.func migration guide for more details https://pytorch.org/docs/master/func.migrating.html\n",
      "  warn_deprecated('grad')\n"
     ]
    },
    {
     "data": {
      "text/latex": [
       "$\\displaystyle 12.9 t^{2} - 58.5 t + 66.31$"
      ],
      "text/plain": [
       "12.9*t**2 - 58.5*t + 66.31"
      ]
     },
     "metadata": {},
     "output_type": "display_data"
    },
    {
     "data": {
      "text/latex": [
       "$\\displaystyle 1600 t^{2} - \\frac{16 t \\left(-1560 + 20 \\sqrt{3}\\right)}{3} - \\frac{832 \\sqrt{3}}{3} + \\frac{32464}{3}$"
      ],
      "text/plain": [
       "1600*t**2 - 16*t*(-1560 + 20*sqrt(3))/3 - 832*sqrt(3)/3 + 32464/3"
      ]
     },
     "metadata": {},
     "output_type": "display_data"
    },
    {
     "name": "stderr",
     "output_type": "stream",
     "text": [
      "/home/mcwave/anaconda3/envs/symbolic/lib/python3.10/site-packages/torch/_functorch/deprecated.py:62: UserWarning: We've integrated functorch into PyTorch. As the final step of the integration, functorch.grad is deprecated as of PyTorch 2.0 and will be deleted in a future version of PyTorch >= 2.3. Please use torch.func.grad instead; see the PyTorch 2.0 release notes and/or the torch.func migration guide for more details https://pytorch.org/docs/master/func.migrating.html\n",
      "  warn_deprecated('grad')\n"
     ]
    },
    {
     "data": {
      "text/latex": [
       "$\\displaystyle 1600.0 t^{2} + 8135.25 t + 10340.98$"
      ],
      "text/plain": [
       "1600.0*t**2 + 8135.25*t + 10340.98"
      ]
     },
     "metadata": {},
     "output_type": "display_data"
    },
    {
     "data": {
      "text/latex": [
       "$\\displaystyle \\frac{\\sqrt{2} \\left(- 11 t^{2} - 462 t + 4853\\right)}{4}$"
      ],
      "text/plain": [
       "sqrt(2)*(-11*t**2 - 462*t + 4853)/4"
      ]
     },
     "metadata": {},
     "output_type": "display_data"
    },
    {
     "name": "stderr",
     "output_type": "stream",
     "text": [
      "/home/mcwave/anaconda3/envs/symbolic/lib/python3.10/site-packages/torch/_functorch/deprecated.py:62: UserWarning: We've integrated functorch into PyTorch. As the final step of the integration, functorch.grad is deprecated as of PyTorch 2.0 and will be deleted in a future version of PyTorch >= 2.3. Please use torch.func.grad instead; see the PyTorch 2.0 release notes and/or the torch.func migration guide for more details https://pytorch.org/docs/master/func.migrating.html\n",
      "  warn_deprecated('grad')\n",
      "/home/mcwave/anaconda3/envs/symbolic/lib/python3.10/site-packages/torch/_functorch/deprecated.py:62: UserWarning: We've integrated functorch into PyTorch. As the final step of the integration, functorch.grad is deprecated as of PyTorch 2.0 and will be deleted in a future version of PyTorch >= 2.3. Please use torch.func.grad instead; see the PyTorch 2.0 release notes and/or the torch.func migration guide for more details https://pytorch.org/docs/master/func.migrating.html\n",
      "  warn_deprecated('grad')\n",
      "/home/mcwave/anaconda3/envs/symbolic/lib/python3.10/site-packages/torch/_functorch/deprecated.py:62: UserWarning: We've integrated functorch into PyTorch. As the final step of the integration, functorch.grad is deprecated as of PyTorch 2.0 and will be deleted in a future version of PyTorch >= 2.3. Please use torch.func.grad instead; see the PyTorch 2.0 release notes and/or the torch.func migration guide for more details https://pytorch.org/docs/master/func.migrating.html\n",
      "  warn_deprecated('grad')\n"
     ]
    },
    {
     "data": {
      "text/latex": [
       "$\\displaystyle - 3.89 t^{2} - 163.34 t + 1715.79$"
      ],
      "text/plain": [
       "-3.89*t**2 - 163.34*t + 1715.79"
      ]
     },
     "metadata": {},
     "output_type": "display_data"
    },
    {
     "data": {
      "text/latex": [
       "$\\displaystyle - 45 t^{2} - 450 t - 1134$"
      ],
      "text/plain": [
       "-45*t**2 - 450*t - 1134"
      ]
     },
     "metadata": {},
     "output_type": "display_data"
    },
    {
     "name": "stderr",
     "output_type": "stream",
     "text": [
      "/home/mcwave/anaconda3/envs/symbolic/lib/python3.10/site-packages/torch/_functorch/deprecated.py:62: UserWarning: We've integrated functorch into PyTorch. As the final step of the integration, functorch.grad is deprecated as of PyTorch 2.0 and will be deleted in a future version of PyTorch >= 2.3. Please use torch.func.grad instead; see the PyTorch 2.0 release notes and/or the torch.func migration guide for more details https://pytorch.org/docs/master/func.migrating.html\n",
      "  warn_deprecated('grad')\n"
     ]
    },
    {
     "data": {
      "text/latex": [
       "$\\displaystyle - 45.0 t^{2} - 450.0 t - 1134.0$"
      ],
      "text/plain": [
       "-45.0*t**2 - 450.0*t - 1134.0"
      ]
     },
     "metadata": {},
     "output_type": "display_data"
    },
    {
     "data": {
      "text/latex": [
       "$\\displaystyle 0.25 \\left(237 - 56 t\\right)^{2}$"
      ],
      "text/plain": [
       "0.25*(237 - 56*t)**2"
      ]
     },
     "metadata": {},
     "output_type": "display_data"
    },
    {
     "name": "stderr",
     "output_type": "stream",
     "text": [
      "/home/mcwave/anaconda3/envs/symbolic/lib/python3.10/site-packages/torch/_functorch/deprecated.py:62: UserWarning: We've integrated functorch into PyTorch. As the final step of the integration, functorch.grad is deprecated as of PyTorch 2.0 and will be deleted in a future version of PyTorch >= 2.3. Please use torch.func.grad instead; see the PyTorch 2.0 release notes and/or the torch.func migration guide for more details https://pytorch.org/docs/master/func.migrating.html\n",
      "  warn_deprecated('grad')\n"
     ]
    },
    {
     "data": {
      "text/latex": [
       "$\\displaystyle 784.0 t^{2} - 6636.0 t + 14042.25$"
      ],
      "text/plain": [
       "784.0*t**2 - 6636.0*t + 14042.25"
      ]
     },
     "metadata": {},
     "output_type": "display_data"
    },
    {
     "data": {
      "text/latex": [
       "$\\displaystyle 392 t^{2} - 1680 t + 1801$"
      ],
      "text/plain": [
       "392*t**2 - 1680*t + 1801"
      ]
     },
     "metadata": {},
     "output_type": "display_data"
    },
    {
     "name": "stderr",
     "output_type": "stream",
     "text": [
      "/home/mcwave/anaconda3/envs/symbolic/lib/python3.10/site-packages/torch/_functorch/deprecated.py:62: UserWarning: We've integrated functorch into PyTorch. As the final step of the integration, functorch.grad is deprecated as of PyTorch 2.0 and will be deleted in a future version of PyTorch >= 2.3. Please use torch.func.grad instead; see the PyTorch 2.0 release notes and/or the torch.func migration guide for more details https://pytorch.org/docs/master/func.migrating.html\n",
      "  warn_deprecated('grad')\n"
     ]
    },
    {
     "data": {
      "text/latex": [
       "$\\displaystyle 392.0 t^{2} - 1680.0 t + 1801.0$"
      ],
      "text/plain": [
       "392.0*t**2 - 1680.0*t + 1801.0"
      ]
     },
     "metadata": {},
     "output_type": "display_data"
    },
    {
     "data": {
      "text/latex": [
       "$\\displaystyle 144 \\left(t - 8\\right)^{2}$"
      ],
      "text/plain": [
       "144*(t - 8)**2"
      ]
     },
     "metadata": {},
     "output_type": "display_data"
    },
    {
     "name": "stderr",
     "output_type": "stream",
     "text": [
      "/home/mcwave/anaconda3/envs/symbolic/lib/python3.10/site-packages/torch/_functorch/deprecated.py:62: UserWarning: We've integrated functorch into PyTorch. As the final step of the integration, functorch.grad is deprecated as of PyTorch 2.0 and will be deleted in a future version of PyTorch >= 2.3. Please use torch.func.grad instead; see the PyTorch 2.0 release notes and/or the torch.func migration guide for more details https://pytorch.org/docs/master/func.migrating.html\n",
      "  warn_deprecated('grad')\n"
     ]
    },
    {
     "data": {
      "text/latex": [
       "$\\displaystyle 144.0 t^{2} - 2304.0 t + 9216.0$"
      ],
      "text/plain": [
       "144.0*t**2 - 2304.0*t + 9216.0"
      ]
     },
     "metadata": {},
     "output_type": "display_data"
    },
    {
     "data": {
      "text/latex": [
       "$\\displaystyle - 14.2886297376093 t^{2} - 230.816326530612 t - 929.857142857143$"
      ],
      "text/plain": [
       "-14.2886297376093*t**2 - 230.816326530612*t - 929.857142857143"
      ]
     },
     "metadata": {},
     "output_type": "display_data"
    },
    {
     "name": "stderr",
     "output_type": "stream",
     "text": [
      "/home/mcwave/anaconda3/envs/symbolic/lib/python3.10/site-packages/torch/_functorch/deprecated.py:62: UserWarning: We've integrated functorch into PyTorch. As the final step of the integration, functorch.grad is deprecated as of PyTorch 2.0 and will be deleted in a future version of PyTorch >= 2.3. Please use torch.func.grad instead; see the PyTorch 2.0 release notes and/or the torch.func migration guide for more details https://pytorch.org/docs/master/func.migrating.html\n",
      "  warn_deprecated('grad')\n"
     ]
    },
    {
     "data": {
      "text/latex": [
       "$\\displaystyle - 14.29 t^{2} - 230.82 t - 929.86$"
      ],
      "text/plain": [
       "-14.29*t**2 - 230.82*t - 929.86"
      ]
     },
     "metadata": {},
     "output_type": "display_data"
    },
    {
     "data": {
      "text/latex": [
       "$\\displaystyle - 98 t^{2} - 420 t - 443$"
      ],
      "text/plain": [
       "-98*t**2 - 420*t - 443"
      ]
     },
     "metadata": {},
     "output_type": "display_data"
    },
    {
     "name": "stderr",
     "output_type": "stream",
     "text": [
      "/home/mcwave/anaconda3/envs/symbolic/lib/python3.10/site-packages/torch/_functorch/deprecated.py:62: UserWarning: We've integrated functorch into PyTorch. As the final step of the integration, functorch.grad is deprecated as of PyTorch 2.0 and will be deleted in a future version of PyTorch >= 2.3. Please use torch.func.grad instead; see the PyTorch 2.0 release notes and/or the torch.func migration guide for more details https://pytorch.org/docs/master/func.migrating.html\n",
      "  warn_deprecated('grad')\n"
     ]
    },
    {
     "data": {
      "text/latex": [
       "$\\displaystyle - 98.0 t^{2} - 420.0 t - 443.0$"
      ],
      "text/plain": [
       "-98.0*t**2 - 420.0*t - 443.0"
      ]
     },
     "metadata": {},
     "output_type": "display_data"
    },
    {
     "data": {
      "text/latex": [
       "$\\displaystyle 0.5625 \\left(42 - 5 t\\right)^{2}$"
      ],
      "text/plain": [
       "0.5625*(42 - 5*t)**2"
      ]
     },
     "metadata": {},
     "output_type": "display_data"
    },
    {
     "name": "stderr",
     "output_type": "stream",
     "text": [
      "/home/mcwave/anaconda3/envs/symbolic/lib/python3.10/site-packages/torch/_functorch/deprecated.py:62: UserWarning: We've integrated functorch into PyTorch. As the final step of the integration, functorch.grad is deprecated as of PyTorch 2.0 and will be deleted in a future version of PyTorch >= 2.3. Please use torch.func.grad instead; see the PyTorch 2.0 release notes and/or the torch.func migration guide for more details https://pytorch.org/docs/master/func.migrating.html\n",
      "  warn_deprecated('grad')\n"
     ]
    },
    {
     "data": {
      "text/latex": [
       "$\\displaystyle 14.06 t^{2} - 236.25 t + 992.25$"
      ],
      "text/plain": [
       "14.06*t**2 - 236.25*t + 992.25"
      ]
     },
     "metadata": {},
     "output_type": "display_data"
    },
    {
     "data": {
      "text/latex": [
       "$\\displaystyle \\left(64 t^{2} - 480 t + 897\\right)^{2}$"
      ],
      "text/plain": [
       "(64*t**2 - 480*t + 897)**2"
      ]
     },
     "metadata": {},
     "output_type": "display_data"
    },
    {
     "name": "stderr",
     "output_type": "stream",
     "text": [
      "/home/mcwave/anaconda3/envs/symbolic/lib/python3.10/site-packages/torch/_functorch/deprecated.py:62: UserWarning: We've integrated functorch into PyTorch. As the final step of the integration, functorch.grad is deprecated as of PyTorch 2.0 and will be deleted in a future version of PyTorch >= 2.3. Please use torch.func.grad instead; see the PyTorch 2.0 release notes and/or the torch.func migration guide for more details https://pytorch.org/docs/master/func.migrating.html\n",
      "  warn_deprecated('grad')\n",
      "/home/mcwave/anaconda3/envs/symbolic/lib/python3.10/site-packages/torch/_functorch/deprecated.py:62: UserWarning: We've integrated functorch into PyTorch. As the final step of the integration, functorch.grad is deprecated as of PyTorch 2.0 and will be deleted in a future version of PyTorch >= 2.3. Please use torch.func.grad instead; see the PyTorch 2.0 release notes and/or the torch.func migration guide for more details https://pytorch.org/docs/master/func.migrating.html\n",
      "  warn_deprecated('grad')\n",
      "/home/mcwave/anaconda3/envs/symbolic/lib/python3.10/site-packages/torch/_functorch/deprecated.py:62: UserWarning: We've integrated functorch into PyTorch. As the final step of the integration, functorch.grad is deprecated as of PyTorch 2.0 and will be deleted in a future version of PyTorch >= 2.3. Please use torch.func.grad instead; see the PyTorch 2.0 release notes and/or the torch.func migration guide for more details https://pytorch.org/docs/master/func.migrating.html\n",
      "  warn_deprecated('grad')\n",
      "/home/mcwave/anaconda3/envs/symbolic/lib/python3.10/site-packages/torch/_functorch/deprecated.py:62: UserWarning: We've integrated functorch into PyTorch. As the final step of the integration, functorch.grad is deprecated as of PyTorch 2.0 and will be deleted in a future version of PyTorch >= 2.3. Please use torch.func.grad instead; see the PyTorch 2.0 release notes and/or the torch.func migration guide for more details https://pytorch.org/docs/master/func.migrating.html\n",
      "  warn_deprecated('grad')\n",
      "/home/mcwave/anaconda3/envs/symbolic/lib/python3.10/site-packages/torch/_functorch/deprecated.py:62: UserWarning: We've integrated functorch into PyTorch. As the final step of the integration, functorch.grad is deprecated as of PyTorch 2.0 and will be deleted in a future version of PyTorch >= 2.3. Please use torch.func.grad instead; see the PyTorch 2.0 release notes and/or the torch.func migration guide for more details https://pytorch.org/docs/master/func.migrating.html\n",
      "  warn_deprecated('grad')\n",
      "/home/mcwave/anaconda3/envs/symbolic/lib/python3.10/site-packages/torch/_functorch/deprecated.py:62: UserWarning: We've integrated functorch into PyTorch. As the final step of the integration, functorch.grad is deprecated as of PyTorch 2.0 and will be deleted in a future version of PyTorch >= 2.3. Please use torch.func.grad instead; see the PyTorch 2.0 release notes and/or the torch.func migration guide for more details https://pytorch.org/docs/master/func.migrating.html\n",
      "  warn_deprecated('grad')\n",
      "/home/mcwave/anaconda3/envs/symbolic/lib/python3.10/site-packages/torch/_functorch/deprecated.py:62: UserWarning: We've integrated functorch into PyTorch. As the final step of the integration, functorch.grad is deprecated as of PyTorch 2.0 and will be deleted in a future version of PyTorch >= 2.3. Please use torch.func.grad instead; see the PyTorch 2.0 release notes and/or the torch.func migration guide for more details https://pytorch.org/docs/master/func.migrating.html\n",
      "  warn_deprecated('grad')\n",
      "/home/mcwave/anaconda3/envs/symbolic/lib/python3.10/site-packages/torch/_functorch/deprecated.py:62: UserWarning: We've integrated functorch into PyTorch. As the final step of the integration, functorch.grad is deprecated as of PyTorch 2.0 and will be deleted in a future version of PyTorch >= 2.3. Please use torch.func.grad instead; see the PyTorch 2.0 release notes and/or the torch.func migration guide for more details https://pytorch.org/docs/master/func.migrating.html\n",
      "  warn_deprecated('grad')\n",
      "/home/mcwave/anaconda3/envs/symbolic/lib/python3.10/site-packages/torch/_functorch/deprecated.py:62: UserWarning: We've integrated functorch into PyTorch. As the final step of the integration, functorch.grad is deprecated as of PyTorch 2.0 and will be deleted in a future version of PyTorch >= 2.3. Please use torch.func.grad instead; see the PyTorch 2.0 release notes and/or the torch.func migration guide for more details https://pytorch.org/docs/master/func.migrating.html\n",
      "  warn_deprecated('grad')\n",
      "/home/mcwave/anaconda3/envs/symbolic/lib/python3.10/site-packages/torch/_functorch/deprecated.py:62: UserWarning: We've integrated functorch into PyTorch. As the final step of the integration, functorch.grad is deprecated as of PyTorch 2.0 and will be deleted in a future version of PyTorch >= 2.3. Please use torch.func.grad instead; see the PyTorch 2.0 release notes and/or the torch.func migration guide for more details https://pytorch.org/docs/master/func.migrating.html\n",
      "  warn_deprecated('grad')\n",
      "/home/mcwave/anaconda3/envs/symbolic/lib/python3.10/site-packages/torch/_functorch/deprecated.py:62: UserWarning: We've integrated functorch into PyTorch. As the final step of the integration, functorch.grad is deprecated as of PyTorch 2.0 and will be deleted in a future version of PyTorch >= 2.3. Please use torch.func.grad instead; see the PyTorch 2.0 release notes and/or the torch.func migration guide for more details https://pytorch.org/docs/master/func.migrating.html\n",
      "  warn_deprecated('grad')\n"
     ]
    },
    {
     "data": {
      "text/latex": [
       "$\\displaystyle 4096.0 t^{4} - 61440.0 t^{3} + 345216.0 t^{2} - 861120.0 t + 804609.01$"
      ],
      "text/plain": [
       "4096.0*t**4 - 61440.0*t**3 + 345216.0*t**2 - 861120.0*t + 804609.01"
      ]
     },
     "metadata": {},
     "output_type": "display_data"
    },
    {
     "data": {
      "text/latex": [
       "$\\displaystyle 125 t^{2} - 750 t + 1131$"
      ],
      "text/plain": [
       "125*t**2 - 750*t + 1131"
      ]
     },
     "metadata": {},
     "output_type": "display_data"
    },
    {
     "name": "stderr",
     "output_type": "stream",
     "text": [
      "/home/mcwave/anaconda3/envs/symbolic/lib/python3.10/site-packages/torch/_functorch/deprecated.py:62: UserWarning: We've integrated functorch into PyTorch. As the final step of the integration, functorch.grad is deprecated as of PyTorch 2.0 and will be deleted in a future version of PyTorch >= 2.3. Please use torch.func.grad instead; see the PyTorch 2.0 release notes and/or the torch.func migration guide for more details https://pytorch.org/docs/master/func.migrating.html\n",
      "  warn_deprecated('grad')\n"
     ]
    },
    {
     "data": {
      "text/latex": [
       "$\\displaystyle 125.0 t^{2} - 750.0 t + 1131.0$"
      ],
      "text/plain": [
       "125.0*t**2 - 750.0*t + 1131.0"
      ]
     },
     "metadata": {},
     "output_type": "display_data"
    },
    {
     "data": {
      "text/latex": [
       "$\\displaystyle \\left(45 t^{2} + 450 t + 1124\\right)^{2}$"
      ],
      "text/plain": [
       "(45*t**2 + 450*t + 1124)**2"
      ]
     },
     "metadata": {},
     "output_type": "display_data"
    },
    {
     "name": "stderr",
     "output_type": "stream",
     "text": [
      "/home/mcwave/anaconda3/envs/symbolic/lib/python3.10/site-packages/torch/_functorch/deprecated.py:62: UserWarning: We've integrated functorch into PyTorch. As the final step of the integration, functorch.grad is deprecated as of PyTorch 2.0 and will be deleted in a future version of PyTorch >= 2.3. Please use torch.func.grad instead; see the PyTorch 2.0 release notes and/or the torch.func migration guide for more details https://pytorch.org/docs/master/func.migrating.html\n",
      "  warn_deprecated('grad')\n",
      "/home/mcwave/anaconda3/envs/symbolic/lib/python3.10/site-packages/torch/_functorch/deprecated.py:62: UserWarning: We've integrated functorch into PyTorch. As the final step of the integration, functorch.grad is deprecated as of PyTorch 2.0 and will be deleted in a future version of PyTorch >= 2.3. Please use torch.func.grad instead; see the PyTorch 2.0 release notes and/or the torch.func migration guide for more details https://pytorch.org/docs/master/func.migrating.html\n",
      "  warn_deprecated('grad')\n",
      "/home/mcwave/anaconda3/envs/symbolic/lib/python3.10/site-packages/torch/_functorch/deprecated.py:62: UserWarning: We've integrated functorch into PyTorch. As the final step of the integration, functorch.grad is deprecated as of PyTorch 2.0 and will be deleted in a future version of PyTorch >= 2.3. Please use torch.func.grad instead; see the PyTorch 2.0 release notes and/or the torch.func migration guide for more details https://pytorch.org/docs/master/func.migrating.html\n",
      "  warn_deprecated('grad')\n",
      "/home/mcwave/anaconda3/envs/symbolic/lib/python3.10/site-packages/torch/_functorch/deprecated.py:62: UserWarning: We've integrated functorch into PyTorch. As the final step of the integration, functorch.grad is deprecated as of PyTorch 2.0 and will be deleted in a future version of PyTorch >= 2.3. Please use torch.func.grad instead; see the PyTorch 2.0 release notes and/or the torch.func migration guide for more details https://pytorch.org/docs/master/func.migrating.html\n",
      "  warn_deprecated('grad')\n",
      "/home/mcwave/anaconda3/envs/symbolic/lib/python3.10/site-packages/torch/_functorch/deprecated.py:62: UserWarning: We've integrated functorch into PyTorch. As the final step of the integration, functorch.grad is deprecated as of PyTorch 2.0 and will be deleted in a future version of PyTorch >= 2.3. Please use torch.func.grad instead; see the PyTorch 2.0 release notes and/or the torch.func migration guide for more details https://pytorch.org/docs/master/func.migrating.html\n",
      "  warn_deprecated('grad')\n"
     ]
    },
    {
     "data": {
      "text/latex": [
       "$\\displaystyle 2025.0 t^{4} + 40500.0 t^{3} + 303660.0 t^{2} + 1011600.0 t + 1263376.0$"
      ],
      "text/plain": [
       "2025.0*t**4 + 40500.0*t**3 + 303660.0*t**2 + 1011600.0*t + 1263376.0"
      ]
     },
     "metadata": {},
     "output_type": "display_data"
    },
    {
     "data": {
      "text/latex": [
       "$\\displaystyle \\frac{4 \\left(5 t^{2} + 450 t + 10197\\right)^{2}}{729}$"
      ],
      "text/plain": [
       "4*(5*t**2 + 450*t + 10197)**2/729"
      ]
     },
     "metadata": {},
     "output_type": "display_data"
    },
    {
     "name": "stderr",
     "output_type": "stream",
     "text": [
      "/home/mcwave/anaconda3/envs/symbolic/lib/python3.10/site-packages/torch/_functorch/deprecated.py:62: UserWarning: We've integrated functorch into PyTorch. As the final step of the integration, functorch.grad is deprecated as of PyTorch 2.0 and will be deleted in a future version of PyTorch >= 2.3. Please use torch.func.grad instead; see the PyTorch 2.0 release notes and/or the torch.func migration guide for more details https://pytorch.org/docs/master/func.migrating.html\n",
      "  warn_deprecated('grad')\n",
      "/home/mcwave/anaconda3/envs/symbolic/lib/python3.10/site-packages/torch/_functorch/deprecated.py:62: UserWarning: We've integrated functorch into PyTorch. As the final step of the integration, functorch.grad is deprecated as of PyTorch 2.0 and will be deleted in a future version of PyTorch >= 2.3. Please use torch.func.grad instead; see the PyTorch 2.0 release notes and/or the torch.func migration guide for more details https://pytorch.org/docs/master/func.migrating.html\n",
      "  warn_deprecated('grad')\n",
      "/home/mcwave/anaconda3/envs/symbolic/lib/python3.10/site-packages/torch/_functorch/deprecated.py:62: UserWarning: We've integrated functorch into PyTorch. As the final step of the integration, functorch.grad is deprecated as of PyTorch 2.0 and will be deleted in a future version of PyTorch >= 2.3. Please use torch.func.grad instead; see the PyTorch 2.0 release notes and/or the torch.func migration guide for more details https://pytorch.org/docs/master/func.migrating.html\n",
      "  warn_deprecated('grad')\n",
      "/home/mcwave/anaconda3/envs/symbolic/lib/python3.10/site-packages/torch/_functorch/deprecated.py:62: UserWarning: We've integrated functorch into PyTorch. As the final step of the integration, functorch.grad is deprecated as of PyTorch 2.0 and will be deleted in a future version of PyTorch >= 2.3. Please use torch.func.grad instead; see the PyTorch 2.0 release notes and/or the torch.func migration guide for more details https://pytorch.org/docs/master/func.migrating.html\n",
      "  warn_deprecated('grad')\n",
      "/home/mcwave/anaconda3/envs/symbolic/lib/python3.10/site-packages/torch/_functorch/deprecated.py:62: UserWarning: We've integrated functorch into PyTorch. As the final step of the integration, functorch.grad is deprecated as of PyTorch 2.0 and will be deleted in a future version of PyTorch >= 2.3. Please use torch.func.grad instead; see the PyTorch 2.0 release notes and/or the torch.func migration guide for more details https://pytorch.org/docs/master/func.migrating.html\n",
      "  warn_deprecated('grad')\n"
     ]
    },
    {
     "data": {
      "text/latex": [
       "$\\displaystyle 0.14 t^{4} + 24.61 t^{3} + 1669.85 t^{2} + 50352.98 t + 570525.54$"
      ],
      "text/plain": [
       "0.14*t**4 + 24.61*t**3 + 1669.85*t**2 + 50352.98*t + 570525.54"
      ]
     },
     "metadata": {},
     "output_type": "display_data"
    },
    {
     "data": {
      "text/latex": [
       "$\\displaystyle 0.015625 \\left(133 t + 368\\right)^{2}$"
      ],
      "text/plain": [
       "0.015625*(133*t + 368)**2"
      ]
     },
     "metadata": {},
     "output_type": "display_data"
    },
    {
     "name": "stderr",
     "output_type": "stream",
     "text": [
      "/home/mcwave/anaconda3/envs/symbolic/lib/python3.10/site-packages/torch/_functorch/deprecated.py:62: UserWarning: We've integrated functorch into PyTorch. As the final step of the integration, functorch.grad is deprecated as of PyTorch 2.0 and will be deleted in a future version of PyTorch >= 2.3. Please use torch.func.grad instead; see the PyTorch 2.0 release notes and/or the torch.func migration guide for more details https://pytorch.org/docs/master/func.migrating.html\n",
      "  warn_deprecated('grad')\n"
     ]
    },
    {
     "data": {
      "text/latex": [
       "$\\displaystyle 276.39 t^{2} + 1529.5 t + 2116.0$"
      ],
      "text/plain": [
       "276.39*t**2 + 1529.5*t + 2116.0"
      ]
     },
     "metadata": {},
     "output_type": "display_data"
    },
    {
     "data": {
      "text/latex": [
       "$\\displaystyle \\frac{2116 \\left(23 t^{2} - 210 t + 476\\right)^{2}}{2401}$"
      ],
      "text/plain": [
       "2116*(23*t**2 - 210*t + 476)**2/2401"
      ]
     },
     "metadata": {},
     "output_type": "display_data"
    },
    {
     "data": {
      "text/latex": [
       "$\\displaystyle \\frac{64 t}{3} + 112$"
      ],
      "text/plain": [
       "64*t/3 + 112"
      ]
     },
     "metadata": {},
     "output_type": "display_data"
    },
    {
     "data": {
      "text/latex": [
       "$\\displaystyle \\left(32 t^{2} + 240 t + 447\\right)^{2}$"
      ],
      "text/plain": [
       "(32*t**2 + 240*t + 447)**2"
      ]
     },
     "metadata": {},
     "output_type": "display_data"
    },
    {
     "name": "stderr",
     "output_type": "stream",
     "text": [
      "\n",
      "KeyboardInterrupt\n",
      "\n"
     ]
    }
   ],
   "source": [
    "from utils.utils import \n",
    "from sympy.core.rules import Transform\n",
    "\n",
    "@timeout(15)\n",
    "def symbolicregression(f, verbose=True, num_digits=2):\n",
    "    display(f)\n",
    "    ts, ys = get_data_points(f)\n",
    "    if np.isnan(ys).any():\n",
    "        print(\"Has NaN\")\n",
    "    ts = np.reshape(ts, (len(ts),1))\n",
    "    ys = np.reshape(ys, (len(ts),1))\n",
    "    #\n",
    "    est.fit(ts,ys)\n",
    "    replace_ops = {\"add\": \"+\", \"mul\": \"*\", \"sub\": \"-\", \"pow\": \"**\", \"inv\": \"1/\"}\n",
    "    model_str = est.retrieve_tree(with_infos=True)[\"relabed_predicted_tree\"].infix()\n",
    "    for op,replace_op in replace_ops.items():\n",
    "        model_str = model_str.replace(op,replace_op)\n",
    "    #\n",
    "    x_0,t = symbols(['x_0', 't'])\n",
    "    raw_expr = sp.parse_expr(model_str)\n",
    "    expr = sp.expand(raw_expr)\n",
    "    rounded_expr = expr.xreplace(Transform(lambda x: x.round(num_digits), lambda x: isinstance(x, sp.Float)))\n",
    "    rounded_expr = rounded_expr.subs(x_0, t)\n",
    "    display(rounded_expr)\n",
    "    return expr, rounded_expr\n",
    "\n",
    "seen_exprs = set()\n",
    "fin = open(\"datasets/parametric_equations_sbr.json\", 'r')\n",
    "lines = fin.readlines()\n",
    "for line in lines:\n",
    "    data = json.loads(line)\n",
    "    seen_exprs.add(data['original'])\n",
    "fin.close()\n",
    "\n",
    "fout = open(\"datasets/parametric_equations_sbr.json\", 'a')\n",
    "for i in range(len(exprs)):\n",
    "    f = exprs[i]\n",
    "    if str(f) in seen_exprs:\n",
    "        continue\n",
    "    try:\n",
    "        expr, rounded_expr = symbolicregression(f)\n",
    "        result = {'original':str(f), 'regressed':str(expr), 'rounded_regressed':str(rounded_expr)}\n",
    "        fout.write(json.dumps(result)+'\\n')\n",
    "        fout.flush()\n",
    "    except:\n",
    "        continue\n",
    "\n",
    "fout.close()"
   ]
  }
 ],
 "metadata": {
  "kernelspec": {
   "display_name": "symbolic",
   "language": "python",
   "name": "symbolic"
  },
  "language_info": {
   "codemirror_mode": {
    "name": "ipython",
    "version": 3
   },
   "file_extension": ".py",
   "mimetype": "text/x-python",
   "name": "python",
   "nbconvert_exporter": "python",
   "pygments_lexer": "ipython3",
   "version": "3.10.13"
  }
 },
 "nbformat": 4,
 "nbformat_minor": 5
}
